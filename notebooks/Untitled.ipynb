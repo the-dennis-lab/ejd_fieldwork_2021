{
 "cells": [
  {
   "cell_type": "code",
   "execution_count": 1,
   "id": "46d5fc25",
   "metadata": {},
   "outputs": [],
   "source": [
    "import matplotlib.pyplot as plt\n",
    "import numpy as np\n",
    "import pandas as pd"
   ]
  },
  {
   "cell_type": "code",
   "execution_count": 3,
   "id": "7fff6b99",
   "metadata": {},
   "outputs": [],
   "source": [
    "dlc_coords_file = '/home/dennislab2/Desktop/GitHub/ejd_fieldwork_2021/data/20220622/DLC_medians2022-06-22T11_47_45.csv'\n",
    "zaber_coords_file = '/home/dennislab2/Desktop/GitHub/ejd_fieldwork_2021/data/20220622/ZaberLocation_2022-06-22T11_47_43.csv'"
   ]
  },
  {
   "cell_type": "code",
   "execution_count": 5,
   "id": "9e10ef1e",
   "metadata": {},
   "outputs": [
    {
     "data": {
      "text/html": [
       "<div>\n",
       "<style scoped>\n",
       "    .dataframe tbody tr th:only-of-type {\n",
       "        vertical-align: middle;\n",
       "    }\n",
       "\n",
       "    .dataframe tbody tr th {\n",
       "        vertical-align: top;\n",
       "    }\n",
       "\n",
       "    .dataframe thead th {\n",
       "        text-align: right;\n",
       "    }\n",
       "</style>\n",
       "<table border=\"1\" class=\"dataframe\">\n",
       "  <thead>\n",
       "    <tr style=\"text-align: right;\">\n",
       "      <th></th>\n",
       "      <th>0</th>\n",
       "      <th>1</th>\n",
       "      <th>2</th>\n",
       "    </tr>\n",
       "  </thead>\n",
       "  <tbody>\n",
       "    <tr>\n",
       "      <th>0</th>\n",
       "      <td>1024</td>\n",
       "      <td>1024</td>\n",
       "      <td>2022-06-22T11:47:53.5158912-04:00</td>\n",
       "    </tr>\n",
       "    <tr>\n",
       "      <th>1</th>\n",
       "      <td>1024</td>\n",
       "      <td>1024</td>\n",
       "      <td>2022-06-22T11:47:53.7177984-04:00</td>\n",
       "    </tr>\n",
       "    <tr>\n",
       "      <th>2</th>\n",
       "      <td>1024</td>\n",
       "      <td>1024</td>\n",
       "      <td>2022-06-22T11:47:53.8747776-04:00</td>\n",
       "    </tr>\n",
       "    <tr>\n",
       "      <th>3</th>\n",
       "      <td>1024</td>\n",
       "      <td>1024</td>\n",
       "      <td>2022-06-22T11:47:54.0286976-04:00</td>\n",
       "    </tr>\n",
       "    <tr>\n",
       "      <th>4</th>\n",
       "      <td>1024</td>\n",
       "      <td>1024</td>\n",
       "      <td>2022-06-22T11:47:54.1876608-04:00</td>\n",
       "    </tr>\n",
       "  </tbody>\n",
       "</table>\n",
       "</div>"
      ],
      "text/plain": [
       "      0     1                                  2\n",
       "0  1024  1024  2022-06-22T11:47:53.5158912-04:00\n",
       "1  1024  1024  2022-06-22T11:47:53.7177984-04:00\n",
       "2  1024  1024  2022-06-22T11:47:53.8747776-04:00\n",
       "3  1024  1024  2022-06-22T11:47:54.0286976-04:00\n",
       "4  1024  1024  2022-06-22T11:47:54.1876608-04:00"
      ]
     },
     "execution_count": 5,
     "metadata": {},
     "output_type": "execute_result"
    }
   ],
   "source": [
    "dlc_coords=pd.read_csv(dlc_coords_file,header=None)\n",
    "dlc_coords.head()"
   ]
  },
  {
   "cell_type": "code",
   "execution_count": 24,
   "id": "fc8be3a3",
   "metadata": {},
   "outputs": [
    {
     "data": {
      "text/html": [
       "<div>\n",
       "<style scoped>\n",
       "    .dataframe tbody tr th:only-of-type {\n",
       "        vertical-align: middle;\n",
       "    }\n",
       "\n",
       "    .dataframe tbody tr th {\n",
       "        vertical-align: top;\n",
       "    }\n",
       "\n",
       "    .dataframe thead th {\n",
       "        text-align: right;\n",
       "    }\n",
       "</style>\n",
       "<table border=\"1\" class=\"dataframe\">\n",
       "  <thead>\n",
       "    <tr style=\"text-align: right;\">\n",
       "      <th></th>\n",
       "      <th>0</th>\n",
       "      <th>1</th>\n",
       "      <th>2</th>\n",
       "    </tr>\n",
       "  </thead>\n",
       "  <tbody>\n",
       "    <tr>\n",
       "      <th>0</th>\n",
       "      <td>230756</td>\n",
       "      <td>289954</td>\n",
       "      <td>2022-06-22T11:47:53.5227776-04:00</td>\n",
       "    </tr>\n",
       "    <tr>\n",
       "      <th>1</th>\n",
       "      <td>230756</td>\n",
       "      <td>289954</td>\n",
       "      <td>2022-06-22T11:47:53.7244032-04:00</td>\n",
       "    </tr>\n",
       "    <tr>\n",
       "      <th>2</th>\n",
       "      <td>230756</td>\n",
       "      <td>289954</td>\n",
       "      <td>2022-06-22T11:47:53.8804608-04:00</td>\n",
       "    </tr>\n",
       "    <tr>\n",
       "      <th>3</th>\n",
       "      <td>230756</td>\n",
       "      <td>289954</td>\n",
       "      <td>2022-06-22T11:47:54.0339584-04:00</td>\n",
       "    </tr>\n",
       "    <tr>\n",
       "      <th>4</th>\n",
       "      <td>230756</td>\n",
       "      <td>289954</td>\n",
       "      <td>2022-06-22T11:47:54.1940992-04:00</td>\n",
       "    </tr>\n",
       "  </tbody>\n",
       "</table>\n",
       "</div>"
      ],
      "text/plain": [
       "        0       1                                  2\n",
       "0  230756  289954  2022-06-22T11:47:53.5227776-04:00\n",
       "1  230756  289954  2022-06-22T11:47:53.7244032-04:00\n",
       "2  230756  289954  2022-06-22T11:47:53.8804608-04:00\n",
       "3  230756  289954  2022-06-22T11:47:54.0339584-04:00\n",
       "4  230756  289954  2022-06-22T11:47:54.1940992-04:00"
      ]
     },
     "execution_count": 24,
     "metadata": {},
     "output_type": "execute_result"
    }
   ],
   "source": [
    "zaber_coords=pd.read_csv(zaber_coords_file,header=None)\n",
    "zaber_coords.head()"
   ]
  },
  {
   "cell_type": "code",
   "execution_count": 25,
   "id": "3097e4a0",
   "metadata": {},
   "outputs": [
    {
     "data": {
      "text/html": [
       "<div>\n",
       "<style scoped>\n",
       "    .dataframe tbody tr th:only-of-type {\n",
       "        vertical-align: middle;\n",
       "    }\n",
       "\n",
       "    .dataframe tbody tr th {\n",
       "        vertical-align: top;\n",
       "    }\n",
       "\n",
       "    .dataframe thead th {\n",
       "        text-align: right;\n",
       "    }\n",
       "</style>\n",
       "<table border=\"1\" class=\"dataframe\">\n",
       "  <thead>\n",
       "    <tr style=\"text-align: right;\">\n",
       "      <th></th>\n",
       "      <th>x</th>\n",
       "      <th>y</th>\n",
       "      <th>timestamp</th>\n",
       "    </tr>\n",
       "  </thead>\n",
       "  <tbody>\n",
       "    <tr>\n",
       "      <th>0</th>\n",
       "      <td>230756</td>\n",
       "      <td>289954</td>\n",
       "      <td>2022-06-22T11:47:53.5227776-04:00</td>\n",
       "    </tr>\n",
       "    <tr>\n",
       "      <th>1</th>\n",
       "      <td>230756</td>\n",
       "      <td>289954</td>\n",
       "      <td>2022-06-22T11:47:53.7244032-04:00</td>\n",
       "    </tr>\n",
       "    <tr>\n",
       "      <th>2</th>\n",
       "      <td>230756</td>\n",
       "      <td>289954</td>\n",
       "      <td>2022-06-22T11:47:53.8804608-04:00</td>\n",
       "    </tr>\n",
       "    <tr>\n",
       "      <th>3</th>\n",
       "      <td>230756</td>\n",
       "      <td>289954</td>\n",
       "      <td>2022-06-22T11:47:54.0339584-04:00</td>\n",
       "    </tr>\n",
       "    <tr>\n",
       "      <th>4</th>\n",
       "      <td>230756</td>\n",
       "      <td>289954</td>\n",
       "      <td>2022-06-22T11:47:54.1940992-04:00</td>\n",
       "    </tr>\n",
       "  </tbody>\n",
       "</table>\n",
       "</div>"
      ],
      "text/plain": [
       "        x       y                          timestamp\n",
       "0  230756  289954  2022-06-22T11:47:53.5227776-04:00\n",
       "1  230756  289954  2022-06-22T11:47:53.7244032-04:00\n",
       "2  230756  289954  2022-06-22T11:47:53.8804608-04:00\n",
       "3  230756  289954  2022-06-22T11:47:54.0339584-04:00\n",
       "4  230756  289954  2022-06-22T11:47:54.1940992-04:00"
      ]
     },
     "execution_count": 25,
     "metadata": {},
     "output_type": "execute_result"
    }
   ],
   "source": [
    "zaber_coords.columns=['x','y','timestamp']\n",
    "zaber_coords.head()"
   ]
  },
  {
   "cell_type": "code",
   "execution_count": 10,
   "id": "6a6047af",
   "metadata": {},
   "outputs": [
    {
     "data": {
      "text/html": [
       "<div>\n",
       "<style scoped>\n",
       "    .dataframe tbody tr th:only-of-type {\n",
       "        vertical-align: middle;\n",
       "    }\n",
       "\n",
       "    .dataframe tbody tr th {\n",
       "        vertical-align: top;\n",
       "    }\n",
       "\n",
       "    .dataframe thead th {\n",
       "        text-align: right;\n",
       "    }\n",
       "</style>\n",
       "<table border=\"1\" class=\"dataframe\">\n",
       "  <thead>\n",
       "    <tr style=\"text-align: right;\">\n",
       "      <th></th>\n",
       "      <th>x</th>\n",
       "      <th>y</th>\n",
       "      <th>timestamp</th>\n",
       "    </tr>\n",
       "  </thead>\n",
       "  <tbody>\n",
       "    <tr>\n",
       "      <th>0</th>\n",
       "      <td>1024</td>\n",
       "      <td>1024</td>\n",
       "      <td>2022-06-22T11:47:53.5158912-04:00</td>\n",
       "    </tr>\n",
       "    <tr>\n",
       "      <th>1</th>\n",
       "      <td>1024</td>\n",
       "      <td>1024</td>\n",
       "      <td>2022-06-22T11:47:53.7177984-04:00</td>\n",
       "    </tr>\n",
       "    <tr>\n",
       "      <th>2</th>\n",
       "      <td>1024</td>\n",
       "      <td>1024</td>\n",
       "      <td>2022-06-22T11:47:53.8747776-04:00</td>\n",
       "    </tr>\n",
       "    <tr>\n",
       "      <th>3</th>\n",
       "      <td>1024</td>\n",
       "      <td>1024</td>\n",
       "      <td>2022-06-22T11:47:54.0286976-04:00</td>\n",
       "    </tr>\n",
       "    <tr>\n",
       "      <th>4</th>\n",
       "      <td>1024</td>\n",
       "      <td>1024</td>\n",
       "      <td>2022-06-22T11:47:54.1876608-04:00</td>\n",
       "    </tr>\n",
       "  </tbody>\n",
       "</table>\n",
       "</div>"
      ],
      "text/plain": [
       "      x     y                          timestamp\n",
       "0  1024  1024  2022-06-22T11:47:53.5158912-04:00\n",
       "1  1024  1024  2022-06-22T11:47:53.7177984-04:00\n",
       "2  1024  1024  2022-06-22T11:47:53.8747776-04:00\n",
       "3  1024  1024  2022-06-22T11:47:54.0286976-04:00\n",
       "4  1024  1024  2022-06-22T11:47:54.1876608-04:00"
      ]
     },
     "execution_count": 10,
     "metadata": {},
     "output_type": "execute_result"
    }
   ],
   "source": [
    "dlc_coords.columns=['x','y','timestamp']\n",
    "dlc_coords.head()"
   ]
  },
  {
   "cell_type": "code",
   "execution_count": 11,
   "id": "6d7fa8e3",
   "metadata": {},
   "outputs": [
    {
     "data": {
      "text/plain": [
       "'2022-06-22T11:47:53.5158912-04:00'"
      ]
     },
     "execution_count": 11,
     "metadata": {},
     "output_type": "execute_result"
    }
   ],
   "source": [
    "test=dlc_coords.timestamp[0]\n",
    "test"
   ]
  },
  {
   "cell_type": "code",
   "execution_count": 18,
   "id": "136aba94",
   "metadata": {},
   "outputs": [],
   "source": [
    "date=test.split('T')[0]\n",
    "time=test.split('T')[1].split('-')[0]"
   ]
  },
  {
   "cell_type": "code",
   "execution_count": 26,
   "id": "ef936d23",
   "metadata": {},
   "outputs": [],
   "source": [
    "zaber_coords[['date','time']]=zaber_coords['timestamp'].str.split('T', expand=True)"
   ]
  },
  {
   "cell_type": "code",
   "execution_count": 29,
   "id": "6c69ea19",
   "metadata": {},
   "outputs": [
    {
     "data": {
      "text/plain": [
       "0      [11:47:53.5227776, 04:00]\n",
       "1      [11:47:53.7244032, 04:00]\n",
       "2      [11:47:53.8804608, 04:00]\n",
       "3      [11:47:54.0339584, 04:00]\n",
       "4      [11:47:54.1940992, 04:00]\n",
       "                 ...            \n",
       "615    [11:49:32.3159680, 04:00]\n",
       "616    [11:49:32.4758656, 04:00]\n",
       "617    [11:49:32.6365952, 04:00]\n",
       "618    [11:49:32.7975552, 04:00]\n",
       "619    [11:49:32.9584512, 04:00]\n",
       "Name: time, Length: 620, dtype: object"
      ]
     },
     "execution_count": 29,
     "metadata": {},
     "output_type": "execute_result"
    }
   ],
   "source": [
    "zaber_coords['time'].str.split('-',expand=False)"
   ]
  },
  {
   "cell_type": "code",
   "execution_count": 30,
   "id": "d42b8471",
   "metadata": {},
   "outputs": [
    {
     "name": "stdout",
     "output_type": "stream",
     "text": [
      "Object `pd.to_csv` not found.\n"
     ]
    }
   ],
   "source": [
    "zaber_coords.to_csv('')"
   ]
  },
  {
   "cell_type": "markdown",
   "id": "1432b3a0",
   "metadata": {},
   "source": [
    "# in lab messing around with center points"
   ]
  },
  {
   "cell_type": "code",
   "execution_count": 2,
   "id": "4ecd0072",
   "metadata": {},
   "outputs": [
    {
     "data": {
      "text/html": [
       "<div>\n",
       "<style scoped>\n",
       "    .dataframe tbody tr th:only-of-type {\n",
       "        vertical-align: middle;\n",
       "    }\n",
       "\n",
       "    .dataframe tbody tr th {\n",
       "        vertical-align: top;\n",
       "    }\n",
       "\n",
       "    .dataframe thead th {\n",
       "        text-align: right;\n",
       "    }\n",
       "</style>\n",
       "<table border=\"1\" class=\"dataframe\">\n",
       "  <thead>\n",
       "    <tr style=\"text-align: right;\">\n",
       "      <th></th>\n",
       "      <th>Unnamed: 0</th>\n",
       "      <th>ls</th>\n",
       "      <th>ax</th>\n",
       "      <th>notes</th>\n",
       "      <th>ls_guess</th>\n",
       "      <th>ax_guess</th>\n",
       "    </tr>\n",
       "  </thead>\n",
       "  <tbody>\n",
       "    <tr>\n",
       "      <th>0</th>\n",
       "      <td>A1</td>\n",
       "      <td>NaN</td>\n",
       "      <td>NaN</td>\n",
       "      <td>NaN</td>\n",
       "      <td>3736.0</td>\n",
       "      <td>166646.0</td>\n",
       "    </tr>\n",
       "    <tr>\n",
       "      <th>1</th>\n",
       "      <td>B1</td>\n",
       "      <td>NaN</td>\n",
       "      <td>NaN</td>\n",
       "      <td>NaN</td>\n",
       "      <td>25354.0</td>\n",
       "      <td>136339.0</td>\n",
       "    </tr>\n",
       "    <tr>\n",
       "      <th>2</th>\n",
       "      <td>B2</td>\n",
       "      <td>NaN</td>\n",
       "      <td>NaN</td>\n",
       "      <td>NaN</td>\n",
       "      <td>23533.0</td>\n",
       "      <td>157481.0</td>\n",
       "    </tr>\n",
       "    <tr>\n",
       "      <th>3</th>\n",
       "      <td>B3</td>\n",
       "      <td>NaN</td>\n",
       "      <td>NaN</td>\n",
       "      <td>NaN</td>\n",
       "      <td>21712.0</td>\n",
       "      <td>178623.0</td>\n",
       "    </tr>\n",
       "    <tr>\n",
       "      <th>4</th>\n",
       "      <td>B4</td>\n",
       "      <td>NaN</td>\n",
       "      <td>NaN</td>\n",
       "      <td>NaN</td>\n",
       "      <td>19891.0</td>\n",
       "      <td>199765.0</td>\n",
       "    </tr>\n",
       "    <tr>\n",
       "      <th>...</th>\n",
       "      <td>...</td>\n",
       "      <td>...</td>\n",
       "      <td>...</td>\n",
       "      <td>...</td>\n",
       "      <td>...</td>\n",
       "      <td>...</td>\n",
       "    </tr>\n",
       "    <tr>\n",
       "      <th>153</th>\n",
       "      <td>P1</td>\n",
       "      <td>284925.0</td>\n",
       "      <td>157225.0</td>\n",
       "      <td>NaN</td>\n",
       "      <td>284925.0</td>\n",
       "      <td>157225.0</td>\n",
       "    </tr>\n",
       "    <tr>\n",
       "      <th>154</th>\n",
       "      <td>P2</td>\n",
       "      <td>NaN</td>\n",
       "      <td>NaN</td>\n",
       "      <td>NaN</td>\n",
       "      <td>283104.0</td>\n",
       "      <td>178367.0</td>\n",
       "    </tr>\n",
       "    <tr>\n",
       "      <th>155</th>\n",
       "      <td>P3</td>\n",
       "      <td>281565.0</td>\n",
       "      <td>199426.0</td>\n",
       "      <td>NaN</td>\n",
       "      <td>281283.0</td>\n",
       "      <td>199509.0</td>\n",
       "    </tr>\n",
       "    <tr>\n",
       "      <th>156</th>\n",
       "      <td>P4</td>\n",
       "      <td>NaN</td>\n",
       "      <td>NaN</td>\n",
       "      <td>NaN</td>\n",
       "      <td>279462.0</td>\n",
       "      <td>220651.0</td>\n",
       "    </tr>\n",
       "    <tr>\n",
       "      <th>157</th>\n",
       "      <td>Q1</td>\n",
       "      <td>NaN</td>\n",
       "      <td>NaN</td>\n",
       "      <td>NaN</td>\n",
       "      <td>300372.0</td>\n",
       "      <td>190281.0</td>\n",
       "    </tr>\n",
       "  </tbody>\n",
       "</table>\n",
       "<p>158 rows × 6 columns</p>\n",
       "</div>"
      ],
      "text/plain": [
       "    Unnamed: 0        ls        ax notes  ls_guess  ax_guess\n",
       "0           A1       NaN       NaN   NaN    3736.0  166646.0\n",
       "1           B1       NaN       NaN   NaN   25354.0  136339.0\n",
       "2           B2       NaN       NaN   NaN   23533.0  157481.0\n",
       "3          B3        NaN       NaN   NaN   21712.0  178623.0\n",
       "4           B4       NaN       NaN   NaN   19891.0  199765.0\n",
       "..         ...       ...       ...   ...       ...       ...\n",
       "153         P1  284925.0  157225.0   NaN  284925.0  157225.0\n",
       "154         P2       NaN       NaN   NaN  283104.0  178367.0\n",
       "155         P3  281565.0  199426.0   NaN  281283.0  199509.0\n",
       "156         P4       NaN       NaN   NaN  279462.0  220651.0\n",
       "157         Q1       NaN       NaN   NaN  300372.0  190281.0\n",
       "\n",
       "[158 rows x 6 columns]"
      ]
     },
     "execution_count": 2,
     "metadata": {},
     "output_type": "execute_result"
    }
   ],
   "source": [
    "filename = '/Users/dennise/Downloads/20221118_centers - Sheet1 (4).csv'\n",
    "file = pd.read_csv(filename)\n",
    "file"
   ]
  },
  {
   "cell_type": "code",
   "execution_count": 3,
   "id": "fbb7bd39",
   "metadata": {},
   "outputs": [],
   "source": [
    "file.columns=['tile','ls','ax','notes','ls_guess','ax_guess']\n",
    "file=file.drop(columns='notes')"
   ]
  },
  {
   "cell_type": "code",
   "execution_count": 4,
   "id": "6482eb91",
   "metadata": {},
   "outputs": [],
   "source": [
    "#file=file[~pd.isnull(file.ax)].reset_index()"
   ]
  },
  {
   "cell_type": "code",
   "execution_count": 5,
   "id": "6979dfc8",
   "metadata": {},
   "outputs": [
    {
     "data": {
      "text/html": [
       "<div>\n",
       "<style scoped>\n",
       "    .dataframe tbody tr th:only-of-type {\n",
       "        vertical-align: middle;\n",
       "    }\n",
       "\n",
       "    .dataframe tbody tr th {\n",
       "        vertical-align: top;\n",
       "    }\n",
       "\n",
       "    .dataframe thead th {\n",
       "        text-align: right;\n",
       "    }\n",
       "</style>\n",
       "<table border=\"1\" class=\"dataframe\">\n",
       "  <thead>\n",
       "    <tr style=\"text-align: right;\">\n",
       "      <th></th>\n",
       "      <th>tile</th>\n",
       "      <th>ls</th>\n",
       "      <th>ax</th>\n",
       "      <th>ls_guess</th>\n",
       "      <th>ax_guess</th>\n",
       "    </tr>\n",
       "  </thead>\n",
       "  <tbody>\n",
       "    <tr>\n",
       "      <th>5</th>\n",
       "      <td>C1</td>\n",
       "      <td>NaN</td>\n",
       "      <td>NaN</td>\n",
       "      <td>46972.0</td>\n",
       "      <td>106032.0</td>\n",
       "    </tr>\n",
       "    <tr>\n",
       "      <th>6</th>\n",
       "      <td>C2</td>\n",
       "      <td>45151.0</td>\n",
       "      <td>127174.0</td>\n",
       "      <td>45151.0</td>\n",
       "      <td>127174.0</td>\n",
       "    </tr>\n",
       "  </tbody>\n",
       "</table>\n",
       "</div>"
      ],
      "text/plain": [
       "  tile       ls        ax  ls_guess  ax_guess\n",
       "5   C1      NaN       NaN   46972.0  106032.0\n",
       "6   C2  45151.0  127174.0   45151.0  127174.0"
      ]
     },
     "execution_count": 5,
     "metadata": {},
     "output_type": "execute_result"
    }
   ],
   "source": [
    "file[5:7]"
   ]
  },
  {
   "cell_type": "code",
   "execution_count": 6,
   "id": "187ef520",
   "metadata": {},
   "outputs": [
    {
     "data": {
      "text/html": [
       "<div>\n",
       "<style scoped>\n",
       "    .dataframe tbody tr th:only-of-type {\n",
       "        vertical-align: middle;\n",
       "    }\n",
       "\n",
       "    .dataframe tbody tr th {\n",
       "        vertical-align: top;\n",
       "    }\n",
       "\n",
       "    .dataframe thead th {\n",
       "        text-align: right;\n",
       "    }\n",
       "</style>\n",
       "<table border=\"1\" class=\"dataframe\">\n",
       "  <thead>\n",
       "    <tr style=\"text-align: right;\">\n",
       "      <th></th>\n",
       "      <th>tile</th>\n",
       "      <th>ls</th>\n",
       "      <th>ax</th>\n",
       "      <th>ls_guess</th>\n",
       "      <th>ax_guess</th>\n",
       "      <th>tile_letter</th>\n",
       "      <th>tile_no</th>\n",
       "    </tr>\n",
       "  </thead>\n",
       "  <tbody>\n",
       "    <tr>\n",
       "      <th>0</th>\n",
       "      <td>A1</td>\n",
       "      <td>NaN</td>\n",
       "      <td>NaN</td>\n",
       "      <td>3736.0</td>\n",
       "      <td>166646.0</td>\n",
       "      <td>A</td>\n",
       "      <td>1</td>\n",
       "    </tr>\n",
       "    <tr>\n",
       "      <th>1</th>\n",
       "      <td>B1</td>\n",
       "      <td>NaN</td>\n",
       "      <td>NaN</td>\n",
       "      <td>25354.0</td>\n",
       "      <td>136339.0</td>\n",
       "      <td>B</td>\n",
       "      <td>1</td>\n",
       "    </tr>\n",
       "    <tr>\n",
       "      <th>2</th>\n",
       "      <td>B2</td>\n",
       "      <td>NaN</td>\n",
       "      <td>NaN</td>\n",
       "      <td>23533.0</td>\n",
       "      <td>157481.0</td>\n",
       "      <td>B</td>\n",
       "      <td>2</td>\n",
       "    </tr>\n",
       "    <tr>\n",
       "      <th>3</th>\n",
       "      <td>B3</td>\n",
       "      <td>NaN</td>\n",
       "      <td>NaN</td>\n",
       "      <td>21712.0</td>\n",
       "      <td>178623.0</td>\n",
       "      <td>B</td>\n",
       "      <td>3</td>\n",
       "    </tr>\n",
       "    <tr>\n",
       "      <th>4</th>\n",
       "      <td>B4</td>\n",
       "      <td>NaN</td>\n",
       "      <td>NaN</td>\n",
       "      <td>19891.0</td>\n",
       "      <td>199765.0</td>\n",
       "      <td>B</td>\n",
       "      <td>4</td>\n",
       "    </tr>\n",
       "    <tr>\n",
       "      <th>...</th>\n",
       "      <td>...</td>\n",
       "      <td>...</td>\n",
       "      <td>...</td>\n",
       "      <td>...</td>\n",
       "      <td>...</td>\n",
       "      <td>...</td>\n",
       "      <td>...</td>\n",
       "    </tr>\n",
       "    <tr>\n",
       "      <th>153</th>\n",
       "      <td>P1</td>\n",
       "      <td>284925.0</td>\n",
       "      <td>157225.0</td>\n",
       "      <td>284925.0</td>\n",
       "      <td>157225.0</td>\n",
       "      <td>P</td>\n",
       "      <td>1</td>\n",
       "    </tr>\n",
       "    <tr>\n",
       "      <th>154</th>\n",
       "      <td>P2</td>\n",
       "      <td>NaN</td>\n",
       "      <td>NaN</td>\n",
       "      <td>283104.0</td>\n",
       "      <td>178367.0</td>\n",
       "      <td>P</td>\n",
       "      <td>2</td>\n",
       "    </tr>\n",
       "    <tr>\n",
       "      <th>155</th>\n",
       "      <td>P3</td>\n",
       "      <td>281565.0</td>\n",
       "      <td>199426.0</td>\n",
       "      <td>281283.0</td>\n",
       "      <td>199509.0</td>\n",
       "      <td>P</td>\n",
       "      <td>3</td>\n",
       "    </tr>\n",
       "    <tr>\n",
       "      <th>156</th>\n",
       "      <td>P4</td>\n",
       "      <td>NaN</td>\n",
       "      <td>NaN</td>\n",
       "      <td>279462.0</td>\n",
       "      <td>220651.0</td>\n",
       "      <td>P</td>\n",
       "      <td>4</td>\n",
       "    </tr>\n",
       "    <tr>\n",
       "      <th>157</th>\n",
       "      <td>Q1</td>\n",
       "      <td>NaN</td>\n",
       "      <td>NaN</td>\n",
       "      <td>300372.0</td>\n",
       "      <td>190281.0</td>\n",
       "      <td>Q</td>\n",
       "      <td>1</td>\n",
       "    </tr>\n",
       "  </tbody>\n",
       "</table>\n",
       "<p>158 rows × 7 columns</p>\n",
       "</div>"
      ],
      "text/plain": [
       "    tile        ls        ax  ls_guess  ax_guess tile_letter tile_no\n",
       "0     A1       NaN       NaN    3736.0  166646.0           A       1\n",
       "1     B1       NaN       NaN   25354.0  136339.0           B       1\n",
       "2     B2       NaN       NaN   23533.0  157481.0           B       2\n",
       "3    B3        NaN       NaN   21712.0  178623.0           B       3\n",
       "4     B4       NaN       NaN   19891.0  199765.0           B       4\n",
       "..   ...       ...       ...       ...       ...         ...     ...\n",
       "153   P1  284925.0  157225.0  284925.0  157225.0           P       1\n",
       "154   P2       NaN       NaN  283104.0  178367.0           P       2\n",
       "155   P3  281565.0  199426.0  281283.0  199509.0           P       3\n",
       "156   P4       NaN       NaN  279462.0  220651.0           P       4\n",
       "157   Q1       NaN       NaN  300372.0  190281.0           Q       1\n",
       "\n",
       "[158 rows x 7 columns]"
      ]
     },
     "execution_count": 6,
     "metadata": {},
     "output_type": "execute_result"
    }
   ],
   "source": [
    "file['tile_letter']=file['tile'].str[0]\n",
    "file['tile_no']=file['tile'].str[1]\n",
    "file"
   ]
  },
  {
   "cell_type": "code",
   "execution_count": 7,
   "id": "88d460d6",
   "metadata": {},
   "outputs": [
    {
     "data": {
      "text/plain": [
       "(0.0, 330000.0)"
      ]
     },
     "execution_count": 7,
     "metadata": {},
     "output_type": "execute_result"
    },
    {
     "data": {
      "image/png": "[encoded data removed]",
      "text/plain": [
       "<Figure size 432x288 with 1 Axes>"
      ]
     },
     "metadata": {
      "needs_background": "light"
     },
     "output_type": "display_data"
    }
   ],
   "source": [
    "\n",
    "plt.scatter(file.ls,file.ax,c='k',alpha=.4)\n",
    "plt.scatter(file.ls_guess,file.ax_guess,c='r',alpha=0.4)\n",
    "plt.xlim([0,330000])\n",
    "plt.ylim([0,330000])\n",
    "#plt.scatter(file.ls_guess[file.tile_letter=='Q'],file.ax_guess[file.tile_letter=='Q'],c='c',alpha=0.4)"
   ]
  },
  {
   "cell_type": "code",
   "execution_count": 16,
   "id": "e2b46491",
   "metadata": {},
   "outputs": [
    {
     "data": {
      "text/plain": [
       "3736.0"
      ]
     },
     "execution_count": 16,
     "metadata": {},
     "output_type": "execute_result"
    }
   ],
   "source": []
  },
  {
   "cell_type": "code",
   "execution_count": 17,
   "id": "fcd48b86",
   "metadata": {},
   "outputs": [
    {
     "data": {
      "text/plain": [
       "300372.0"
      ]
     },
     "execution_count": 17,
     "metadata": {},
     "output_type": "execute_result"
    }
   ],
   "source": []
  },
  {
   "cell_type": "code",
   "execution_count": 9,
   "id": "037e1931",
   "metadata": {},
   "outputs": [
    {
     "data": {
      "text/plain": [
       "0       A1\n",
       "1       B1\n",
       "2       B2\n",
       "3      B3 \n",
       "4       B4\n",
       "      ... \n",
       "153     P1\n",
       "154     P2\n",
       "155     P3\n",
       "156     P4\n",
       "157     Q1\n",
       "Name: tile, Length: 158, dtype: object"
      ]
     },
     "execution_count": 9,
     "metadata": {},
     "output_type": "execute_result"
    }
   ],
   "source": [
    "file.tile"
   ]
  },
  {
   "cell_type": "code",
   "execution_count": 10,
   "id": "e1eb6e96",
   "metadata": {},
   "outputs": [],
   "source": [
    "import math"
   ]
  },
  {
   "cell_type": "code",
   "execution_count": 11,
   "id": "157825a5",
   "metadata": {},
   "outputs": [
    {
     "data": {
      "text/plain": [
       "<matplotlib.collections.PathCollection at 0x29278979520>"
      ]
     },
     "execution_count": 11,
     "metadata": {},
     "output_type": "execute_result"
    },
    {
     "data": {
      "image/png": "[encoded data removed]",
      "text/plain": [
       "<Figure size 432x288 with 1 Axes>"
      ]
     },
     "metadata": {
      "needs_background": "light"
     },
     "output_type": "display_data"
    }
   ],
   "source": [
    "sub_file = file[153:157]\n",
    "plt.scatter(sub_file.ls.interpolate(),sub_file.ax.interpolate(limit=1),c='r',alpha=0.5)\n",
    "plt.scatter(sub_file.ls, sub_file.ax,c='k',alpha=0.5)"
   ]
  },
  {
   "cell_type": "code",
   "execution_count": 13,
   "id": "6010ac37",
   "metadata": {},
   "outputs": [
    {
     "data": {
      "image/png": "[encoded data removed]",
      "text/plain": [
       "<Figure size 432x288 with 1 Axes>"
      ]
     },
     "metadata": {
      "needs_background": "light"
     },
     "output_type": "display_data"
    }
   ],
   "source": [
    "value=1\n",
    "str(value)\n",
    "#plt.scatter(file.ls[file.tile_letter=='A'],file.ax[file.tile_letter=='A'])\n",
    "plt.scatter(file.ls[file.tile_letter=='B'],file.ax[file.tile_letter=='B'])\n",
    "plt.scatter(file.ls[file.tile_letter=='C'],file.ax[file.tile_letter=='C'])\n",
    "plt.scatter(file.ls[file.tile_letter=='D'],file.ax[file.tile_letter=='D'])\n",
    "plt.show()"
   ]
  },
  {
   "cell_type": "code",
   "execution_count": 23,
   "id": "af56f0db",
   "metadata": {
    "scrolled": true
   },
   "outputs": [
    {
     "data": {
      "text/html": [
       "<div>\n",
       "<style scoped>\n",
       "    .dataframe tbody tr th:only-of-type {\n",
       "        vertical-align: middle;\n",
       "    }\n",
       "\n",
       "    .dataframe tbody tr th {\n",
       "        vertical-align: top;\n",
       "    }\n",
       "\n",
       "    .dataframe thead th {\n",
       "        text-align: right;\n",
       "    }\n",
       "</style>\n",
       "<table border=\"1\" class=\"dataframe\">\n",
       "  <thead>\n",
       "    <tr style=\"text-align: right;\">\n",
       "      <th></th>\n",
       "      <th>tile</th>\n",
       "      <th>ls</th>\n",
       "      <th>ax</th>\n",
       "      <th>tile_letter</th>\n",
       "      <th>tile_no</th>\n",
       "    </tr>\n",
       "  </thead>\n",
       "  <tbody>\n",
       "    <tr>\n",
       "      <th>153</th>\n",
       "      <td>P1</td>\n",
       "      <td>284925.0</td>\n",
       "      <td>157225.0</td>\n",
       "      <td>P</td>\n",
       "      <td>1</td>\n",
       "    </tr>\n",
       "    <tr>\n",
       "      <th>154</th>\n",
       "      <td>P2</td>\n",
       "      <td>NaN</td>\n",
       "      <td>NaN</td>\n",
       "      <td>P</td>\n",
       "      <td>2</td>\n",
       "    </tr>\n",
       "    <tr>\n",
       "      <th>155</th>\n",
       "      <td>P3</td>\n",
       "      <td>281565.0</td>\n",
       "      <td>199426.0</td>\n",
       "      <td>P</td>\n",
       "      <td>3</td>\n",
       "    </tr>\n",
       "    <tr>\n",
       "      <th>156</th>\n",
       "      <td>P4</td>\n",
       "      <td>NaN</td>\n",
       "      <td>NaN</td>\n",
       "      <td>P</td>\n",
       "      <td>4</td>\n",
       "    </tr>\n",
       "  </tbody>\n",
       "</table>\n",
       "</div>"
      ],
      "text/plain": [
       "    tile        ls        ax tile_letter tile_no\n",
       "153   P1  284925.0  157225.0           P       1\n",
       "154   P2       NaN       NaN           P       2\n",
       "155   P3  281565.0  199426.0           P       3\n",
       "156   P4       NaN       NaN           P       4"
      ]
     },
     "execution_count": 23,
     "metadata": {},
     "output_type": "execute_result"
    }
   ],
   "source": [
    "file[file.tile_letter=='P']"
   ]
  },
  {
   "cell_type": "code",
   "execution_count": 30,
   "id": "78b6527e",
   "metadata": {},
   "outputs": [
    {
     "name": "stdout",
     "output_type": "stream",
     "text": [
      "0\n",
      "1\n",
      "2\n",
      "3\n",
      "4\n",
      "5\n",
      "6\n",
      "[2, 5]\n",
      "[1, 3, 4, 6, 7]\n"
     ]
    }
   ],
   "source": [
    "#C has two, D has many\n",
    "letter='C'\n",
    "sub_file=file[file.tile_letter=='C']\n",
    "known=[]\n",
    "unknown=[]\n",
    "vals=[]\n",
    "for idx in np.arange(0,len(sub_file)):\n",
    "    print(idx)\n",
    "    if ~np.isnan(sub_file.iloc[idx,1]):\n",
    "        known.append(int(sub_file.iloc[idx,4]))\n",
    "        vals.append([int(sub_file.iloc[idx,1]),int(sub_file.iloc[idx,2])])\n",
    "    else:\n",
    "        unknown.append(int(sub_file.iloc[idx,4]))\n",
    "        #vals.append([0,0])\n",
    "print(known)\n",
    "print(unknown)"
   ]
  },
  {
   "cell_type": "code",
   "execution_count": 33,
   "id": "77d86198",
   "metadata": {},
   "outputs": [],
   "source": [
    "inc_val_ls = (vals[0][0]-vals[1][0])/(known[0])\n",
    "inc_val_ax = (vals[0][1]-vals[1][1])/(known[-1])"
   ]
  },
  {
   "cell_type": "code",
   "execution_count": 35,
   "id": "e6210ef4",
   "metadata": {},
   "outputs": [
    {
     "name": "stdout",
     "output_type": "stream",
     "text": [
      "2695.0 -12755.6\n"
     ]
    }
   ],
   "source": [
    "print(inc_val_ls,inc_val_ax)"
   ]
  },
  {
   "cell_type": "code",
   "execution_count": 40,
   "id": "f9b81d90",
   "metadata": {},
   "outputs": [
    {
     "name": "stdout",
     "output_type": "stream",
     "text": [
      "    tile        ls        ax tile_letter tile_no\n",
      "2     B2       NaN       NaN           B       2\n",
      "6     C2   45151.0  127174.0           C       2\n",
      "13    D2       NaN       NaN           D       2\n",
      "23    E2       NaN       NaN           E       2\n",
      "36    F2       NaN       NaN           F       2\n",
      "48    G2  124917.0   68906.0           G       2\n",
      "61    H2  142541.0   81794.0           H       2\n",
      "74    I2  161929.0   72693.0           I       2\n",
      "87    J2       NaN       NaN           J       2\n",
      "99    K2       NaN       NaN           K       2\n",
      "112   L2  216605.0   88071.0           L       2\n",
      "124   M2  236225.0   78094.0           M       2\n",
      "137   N2       NaN       NaN           N       2\n",
      "147   O2       NaN       NaN           O       2\n",
      "154   P2       NaN       NaN           P       2\n"
     ]
    },
    {
     "data": {
      "text/plain": [
       "<matplotlib.collections.PathCollection at 0x1849c809b50>"
      ]
     },
     "execution_count": 40,
     "metadata": {},
     "output_type": "execute_result"
    },
    {
     "data": {
      "image/png": "[encoded data removed]",
      "text/plain": [
       "<Figure size 432x288 with 1 Axes>"
      ]
     },
     "metadata": {
      "needs_background": "light"
     },
     "output_type": "display_data"
    }
   ],
   "source": [
    "plt_fl=file[file.tile_no=='2']\n",
    "print(plt_fl)\n",
    "plt.scatter(plt_fl.ls,plt_fl.ax)"
   ]
  },
  {
   "cell_type": "code",
   "execution_count": 13,
   "id": "0738a8f1",
   "metadata": {},
   "outputs": [
    {
     "data": {
      "text/html": [
       "<div>\n",
       "<style scoped>\n",
       "    .dataframe tbody tr th:only-of-type {\n",
       "        vertical-align: middle;\n",
       "    }\n",
       "\n",
       "    .dataframe tbody tr th {\n",
       "        vertical-align: top;\n",
       "    }\n",
       "\n",
       "    .dataframe thead th {\n",
       "        text-align: right;\n",
       "    }\n",
       "</style>\n",
       "<table border=\"1\" class=\"dataframe\">\n",
       "  <thead>\n",
       "    <tr style=\"text-align: right;\">\n",
       "      <th></th>\n",
       "      <th>tile</th>\n",
       "      <th>ls</th>\n",
       "      <th>ax</th>\n",
       "      <th>tile_letter</th>\n",
       "      <th>tile_no</th>\n",
       "    </tr>\n",
       "  </thead>\n",
       "  <tbody>\n",
       "    <tr>\n",
       "      <th>0</th>\n",
       "      <td>A1</td>\n",
       "      <td>NaN</td>\n",
       "      <td>NaN</td>\n",
       "      <td>A</td>\n",
       "      <td>1</td>\n",
       "    </tr>\n",
       "    <tr>\n",
       "      <th>1</th>\n",
       "      <td>B1</td>\n",
       "      <td>NaN</td>\n",
       "      <td>NaN</td>\n",
       "      <td>B</td>\n",
       "      <td>1</td>\n",
       "    </tr>\n",
       "    <tr>\n",
       "      <th>2</th>\n",
       "      <td>B2</td>\n",
       "      <td>NaN</td>\n",
       "      <td>NaN</td>\n",
       "      <td>B</td>\n",
       "      <td>2</td>\n",
       "    </tr>\n",
       "    <tr>\n",
       "      <th>3</th>\n",
       "      <td>B3</td>\n",
       "      <td>NaN</td>\n",
       "      <td>NaN</td>\n",
       "      <td>B</td>\n",
       "      <td>3</td>\n",
       "    </tr>\n",
       "    <tr>\n",
       "      <th>4</th>\n",
       "      <td>B4</td>\n",
       "      <td>NaN</td>\n",
       "      <td>NaN</td>\n",
       "      <td>B</td>\n",
       "      <td>4</td>\n",
       "    </tr>\n",
       "    <tr>\n",
       "      <th>...</th>\n",
       "      <td>...</td>\n",
       "      <td>...</td>\n",
       "      <td>...</td>\n",
       "      <td>...</td>\n",
       "      <td>...</td>\n",
       "    </tr>\n",
       "    <tr>\n",
       "      <th>153</th>\n",
       "      <td>P1</td>\n",
       "      <td>284925.0</td>\n",
       "      <td>157225.0</td>\n",
       "      <td>P</td>\n",
       "      <td>1</td>\n",
       "    </tr>\n",
       "    <tr>\n",
       "      <th>154</th>\n",
       "      <td>P2</td>\n",
       "      <td>NaN</td>\n",
       "      <td>NaN</td>\n",
       "      <td>P</td>\n",
       "      <td>2</td>\n",
       "    </tr>\n",
       "    <tr>\n",
       "      <th>155</th>\n",
       "      <td>P3</td>\n",
       "      <td>281565.0</td>\n",
       "      <td>199426.0</td>\n",
       "      <td>P</td>\n",
       "      <td>3</td>\n",
       "    </tr>\n",
       "    <tr>\n",
       "      <th>156</th>\n",
       "      <td>P4</td>\n",
       "      <td>NaN</td>\n",
       "      <td>NaN</td>\n",
       "      <td>P</td>\n",
       "      <td>4</td>\n",
       "    </tr>\n",
       "    <tr>\n",
       "      <th>157</th>\n",
       "      <td>Q1</td>\n",
       "      <td>NaN</td>\n",
       "      <td>NaN</td>\n",
       "      <td>Q</td>\n",
       "      <td>1</td>\n",
       "    </tr>\n",
       "  </tbody>\n",
       "</table>\n",
       "<p>158 rows × 5 columns</p>\n",
       "</div>"
      ],
      "text/plain": [
       "    tile        ls        ax tile_letter tile_no\n",
       "0     A1       NaN       NaN           A       1\n",
       "1     B1       NaN       NaN           B       1\n",
       "2     B2       NaN       NaN           B       2\n",
       "3    B3        NaN       NaN           B       3\n",
       "4     B4       NaN       NaN           B       4\n",
       "..   ...       ...       ...         ...     ...\n",
       "153   P1  284925.0  157225.0           P       1\n",
       "154   P2       NaN       NaN           P       2\n",
       "155   P3  281565.0  199426.0           P       3\n",
       "156   P4       NaN       NaN           P       4\n",
       "157   Q1       NaN       NaN           Q       1\n",
       "\n",
       "[158 rows x 5 columns]"
      ]
     },
     "execution_count": 13,
     "metadata": {},
     "output_type": "execute_result"
    }
   ],
   "source": [
    "letters = np.unique(file.tile_letter)\n",
    "for letter in letters:\n",
    "    "
   ]
  },
  {
   "cell_type": "code",
   "execution_count": 19,
   "id": "1fb56367",
   "metadata": {},
   "outputs": [
    {
     "data": {
      "text/plain": [
       "<matplotlib.colorbar.Colorbar at 0x28918d219a0>"
      ]
     },
     "execution_count": 19,
     "metadata": {},
     "output_type": "execute_result"
    },
    {
     "data": {
      "image/png": "[encoded data removed]",
      "text/plain": [
       "<Figure size 432x288 with 2 Axes>"
      ]
     },
     "metadata": {
      "needs_background": "light"
     },
     "output_type": "display_data"
    }
   ],
   "source": [
    "plt.hexbin(file.ls_guess,file.ax_guess,gridsize=15,extent=(np.min(file.ls_guess),np.max(file.ls_guess),np.min(file.ax_guess),np.max(file.ax_guess)))\n",
    "plt.colorbar()"
   ]
  },
  {
   "cell_type": "code",
   "execution_count": 22,
   "id": "b9e5c85e",
   "metadata": {},
   "outputs": [],
   "source": [
    "def draw_board(board, occupied):\n",
    "    coord = board\n",
    "    colors = [\"blue\" if x == 0 else \"green\" for x in occupied.values()]\n",
    "\n",
    "\n",
    "    # Horizontal cartesian coords\n",
    "    hcoord = [c[0] for c in coord]\n",
    "\n",
    "    # Vertical cartersian coords\n",
    "    vcoord = [2. * np.sin(np.radians(60)) * (c[1] - c[2]) /3. for c in coord]\n",
    "\n",
    "    for i in range(len(vcoord)):\n",
    "        temp = vcoord[i]\n",
    "        vcoord[i] = -hcoord[i]\n",
    "        hcoord[i] = temp\n",
    "\n",
    "    fig, ax = plt.subplots(1, figsize=(10, 10))\n",
    "    ax.set_aspect('equal')\n",
    "\n",
    "    # Add some coloured hexagons\n",
    "    for x, y, c in zip(hcoord, vcoord, colors):\n",
    "        color = c[0]\n",
    "        hex = RegularPolygon((x, y), numVertices=6, radius=2. / 3, \n",
    "                             orientation=np.radians(120), facecolor = color,\n",
    "                             alpha=0.3, edgecolor='k')\n",
    "        ax.add_patch(hex)\n",
    "        # Also add a text label\n",
    "\n",
    "    # Also add scatter points in hexagon centres\n",
    "    ax.scatter(hcoord, vcoord, alpha=0.3)\n",
    "\n",
    "    plt.show()"
   ]
  },
  {
   "cell_type": "code",
   "execution_count": null,
   "id": "6cbb6dd4",
   "metadata": {},
   "outputs": [],
   "source": [
    "!conda install -c conda-forge hexalattice"
   ]
  },
  {
   "cell_type": "code",
   "execution_count": null,
   "id": "43653dd5",
   "metadata": {},
   "outputs": [],
   "source": []
  }
 ],
 "metadata": {
  "kernelspec": {
   "display_name": "Python 3 (ipykernel)",
   "language": "python",
   "name": "python3"
  },
  "language_info": {
   "codemirror_mode": {
    "name": "ipython",
    "version": 3
   },
   "file_extension": ".py",
   "mimetype": "text/x-python",
   "name": "python",
   "nbconvert_exporter": "python",
   "pygments_lexer": "ipython3",
   "version": "3.9.7"
  }
 },
 "nbformat": 4,
 "nbformat_minor": 5
}
