{
 "cells": [
  {
   "cell_type": "code",
   "execution_count": 1,
   "id": "46d5fc25",
   "metadata": {},
   "outputs": [],
   "source": [
    "import matplotlib.pyplot as plt\n",
    "import numpy as np\n",
    "import pandas as pd"
   ]
  },
  {
   "cell_type": "code",
   "execution_count": 2,
   "id": "7fff6b99",
   "metadata": {},
   "outputs": [],
   "source": [
    "dlc_coords_file = '/home/dennislab2/Desktop/GitHub/ejd_fieldwork_2021/data/20220622/DLC_medians2022-06-22T11_47_45.csv'\n",
    "zaber_coords_file = '/home/dennislab2/Desktop/GitHub/ejd_fieldwork_2021/data/20220622/ZaberLocation_2022-06-22T11_47_43.csv'"
   ]
  },
  {
   "cell_type": "code",
   "execution_count": 5,
   "id": "9e10ef1e",
   "metadata": {},
   "outputs": [
    {
     "data": {
      "text/html": [
       "<div>\n",
       "<style scoped>\n",
       "    .dataframe tbody tr th:only-of-type {\n",
       "        vertical-align: middle;\n",
       "    }\n",
       "\n",
       "    .dataframe tbody tr th {\n",
       "        vertical-align: top;\n",
       "    }\n",
       "\n",
       "    .dataframe thead th {\n",
       "        text-align: right;\n",
       "    }\n",
       "</style>\n",
       "<table border=\"1\" class=\"dataframe\">\n",
       "  <thead>\n",
       "    <tr style=\"text-align: right;\">\n",
       "      <th></th>\n",
       "      <th>0</th>\n",
       "      <th>1</th>\n",
       "      <th>2</th>\n",
       "    </tr>\n",
       "  </thead>\n",
       "  <tbody>\n",
       "    <tr>\n",
       "      <th>0</th>\n",
       "      <td>1024</td>\n",
       "      <td>1024</td>\n",
       "      <td>2022-06-22T11:47:53.5158912-04:00</td>\n",
       "    </tr>\n",
       "    <tr>\n",
       "      <th>1</th>\n",
       "      <td>1024</td>\n",
       "      <td>1024</td>\n",
       "      <td>2022-06-22T11:47:53.7177984-04:00</td>\n",
       "    </tr>\n",
       "    <tr>\n",
       "      <th>2</th>\n",
       "      <td>1024</td>\n",
       "      <td>1024</td>\n",
       "      <td>2022-06-22T11:47:53.8747776-04:00</td>\n",
       "    </tr>\n",
       "    <tr>\n",
       "      <th>3</th>\n",
       "      <td>1024</td>\n",
       "      <td>1024</td>\n",
       "      <td>2022-06-22T11:47:54.0286976-04:00</td>\n",
       "    </tr>\n",
       "    <tr>\n",
       "      <th>4</th>\n",
       "      <td>1024</td>\n",
       "      <td>1024</td>\n",
       "      <td>2022-06-22T11:47:54.1876608-04:00</td>\n",
       "    </tr>\n",
       "  </tbody>\n",
       "</table>\n",
       "</div>"
      ],
      "text/plain": [
       "      0     1                                  2\n",
       "0  1024  1024  2022-06-22T11:47:53.5158912-04:00\n",
       "1  1024  1024  2022-06-22T11:47:53.7177984-04:00\n",
       "2  1024  1024  2022-06-22T11:47:53.8747776-04:00\n",
       "3  1024  1024  2022-06-22T11:47:54.0286976-04:00\n",
       "4  1024  1024  2022-06-22T11:47:54.1876608-04:00"
      ]
     },
     "execution_count": 5,
     "metadata": {},
     "output_type": "execute_result"
    }
   ],
   "source": [
    "dlc_coords=pd.read_csv(dlc_coords_file,header=None)\n",
    "dlc_coords.head()"
   ]
  },
  {
   "cell_type": "code",
   "execution_count": 24,
   "id": "fc8be3a3",
   "metadata": {},
   "outputs": [
    {
     "data": {
      "text/html": [
       "<div>\n",
       "<style scoped>\n",
       "    .dataframe tbody tr th:only-of-type {\n",
       "        vertical-align: middle;\n",
       "    }\n",
       "\n",
       "    .dataframe tbody tr th {\n",
       "        vertical-align: top;\n",
       "    }\n",
       "\n",
       "    .dataframe thead th {\n",
       "        text-align: right;\n",
       "    }\n",
       "</style>\n",
       "<table border=\"1\" class=\"dataframe\">\n",
       "  <thead>\n",
       "    <tr style=\"text-align: right;\">\n",
       "      <th></th>\n",
       "      <th>0</th>\n",
       "      <th>1</th>\n",
       "      <th>2</th>\n",
       "    </tr>\n",
       "  </thead>\n",
       "  <tbody>\n",
       "    <tr>\n",
       "      <th>0</th>\n",
       "      <td>230756</td>\n",
       "      <td>289954</td>\n",
       "      <td>2022-06-22T11:47:53.5227776-04:00</td>\n",
       "    </tr>\n",
       "    <tr>\n",
       "      <th>1</th>\n",
       "      <td>230756</td>\n",
       "      <td>289954</td>\n",
       "      <td>2022-06-22T11:47:53.7244032-04:00</td>\n",
       "    </tr>\n",
       "    <tr>\n",
       "      <th>2</th>\n",
       "      <td>230756</td>\n",
       "      <td>289954</td>\n",
       "      <td>2022-06-22T11:47:53.8804608-04:00</td>\n",
       "    </tr>\n",
       "    <tr>\n",
       "      <th>3</th>\n",
       "      <td>230756</td>\n",
       "      <td>289954</td>\n",
       "      <td>2022-06-22T11:47:54.0339584-04:00</td>\n",
       "    </tr>\n",
       "    <tr>\n",
       "      <th>4</th>\n",
       "      <td>230756</td>\n",
       "      <td>289954</td>\n",
       "      <td>2022-06-22T11:47:54.1940992-04:00</td>\n",
       "    </tr>\n",
       "  </tbody>\n",
       "</table>\n",
       "</div>"
      ],
      "text/plain": [
       "        0       1                                  2\n",
       "0  230756  289954  2022-06-22T11:47:53.5227776-04:00\n",
       "1  230756  289954  2022-06-22T11:47:53.7244032-04:00\n",
       "2  230756  289954  2022-06-22T11:47:53.8804608-04:00\n",
       "3  230756  289954  2022-06-22T11:47:54.0339584-04:00\n",
       "4  230756  289954  2022-06-22T11:47:54.1940992-04:00"
      ]
     },
     "execution_count": 24,
     "metadata": {},
     "output_type": "execute_result"
    }
   ],
   "source": [
    "zaber_coords=pd.read_csv(zaber_coords_file,header=None)\n",
    "zaber_coords.head()"
   ]
  },
  {
   "cell_type": "code",
   "execution_count": 25,
   "id": "3097e4a0",
   "metadata": {},
   "outputs": [
    {
     "data": {
      "text/html": [
       "<div>\n",
       "<style scoped>\n",
       "    .dataframe tbody tr th:only-of-type {\n",
       "        vertical-align: middle;\n",
       "    }\n",
       "\n",
       "    .dataframe tbody tr th {\n",
       "        vertical-align: top;\n",
       "    }\n",
       "\n",
       "    .dataframe thead th {\n",
       "        text-align: right;\n",
       "    }\n",
       "</style>\n",
       "<table border=\"1\" class=\"dataframe\">\n",
       "  <thead>\n",
       "    <tr style=\"text-align: right;\">\n",
       "      <th></th>\n",
       "      <th>x</th>\n",
       "      <th>y</th>\n",
       "      <th>timestamp</th>\n",
       "    </tr>\n",
       "  </thead>\n",
       "  <tbody>\n",
       "    <tr>\n",
       "      <th>0</th>\n",
       "      <td>230756</td>\n",
       "      <td>289954</td>\n",
       "      <td>2022-06-22T11:47:53.5227776-04:00</td>\n",
       "    </tr>\n",
       "    <tr>\n",
       "      <th>1</th>\n",
       "      <td>230756</td>\n",
       "      <td>289954</td>\n",
       "      <td>2022-06-22T11:47:53.7244032-04:00</td>\n",
       "    </tr>\n",
       "    <tr>\n",
       "      <th>2</th>\n",
       "      <td>230756</td>\n",
       "      <td>289954</td>\n",
       "      <td>2022-06-22T11:47:53.8804608-04:00</td>\n",
       "    </tr>\n",
       "    <tr>\n",
       "      <th>3</th>\n",
       "      <td>230756</td>\n",
       "      <td>289954</td>\n",
       "      <td>2022-06-22T11:47:54.0339584-04:00</td>\n",
       "    </tr>\n",
       "    <tr>\n",
       "      <th>4</th>\n",
       "      <td>230756</td>\n",
       "      <td>289954</td>\n",
       "      <td>2022-06-22T11:47:54.1940992-04:00</td>\n",
       "    </tr>\n",
       "  </tbody>\n",
       "</table>\n",
       "</div>"
      ],
      "text/plain": [
       "        x       y                          timestamp\n",
       "0  230756  289954  2022-06-22T11:47:53.5227776-04:00\n",
       "1  230756  289954  2022-06-22T11:47:53.7244032-04:00\n",
       "2  230756  289954  2022-06-22T11:47:53.8804608-04:00\n",
       "3  230756  289954  2022-06-22T11:47:54.0339584-04:00\n",
       "4  230756  289954  2022-06-22T11:47:54.1940992-04:00"
      ]
     },
     "execution_count": 25,
     "metadata": {},
     "output_type": "execute_result"
    }
   ],
   "source": [
    "zaber_coords.columns=['x','y','timestamp']\n",
    "zaber_coords.head()"
   ]
  },
  {
   "cell_type": "code",
   "execution_count": 10,
   "id": "6a6047af",
   "metadata": {},
   "outputs": [
    {
     "data": {
      "text/html": [
       "<div>\n",
       "<style scoped>\n",
       "    .dataframe tbody tr th:only-of-type {\n",
       "        vertical-align: middle;\n",
       "    }\n",
       "\n",
       "    .dataframe tbody tr th {\n",
       "        vertical-align: top;\n",
       "    }\n",
       "\n",
       "    .dataframe thead th {\n",
       "        text-align: right;\n",
       "    }\n",
       "</style>\n",
       "<table border=\"1\" class=\"dataframe\">\n",
       "  <thead>\n",
       "    <tr style=\"text-align: right;\">\n",
       "      <th></th>\n",
       "      <th>x</th>\n",
       "      <th>y</th>\n",
       "      <th>timestamp</th>\n",
       "    </tr>\n",
       "  </thead>\n",
       "  <tbody>\n",
       "    <tr>\n",
       "      <th>0</th>\n",
       "      <td>1024</td>\n",
       "      <td>1024</td>\n",
       "      <td>2022-06-22T11:47:53.5158912-04:00</td>\n",
       "    </tr>\n",
       "    <tr>\n",
       "      <th>1</th>\n",
       "      <td>1024</td>\n",
       "      <td>1024</td>\n",
       "      <td>2022-06-22T11:47:53.7177984-04:00</td>\n",
       "    </tr>\n",
       "    <tr>\n",
       "      <th>2</th>\n",
       "      <td>1024</td>\n",
       "      <td>1024</td>\n",
       "      <td>2022-06-22T11:47:53.8747776-04:00</td>\n",
       "    </tr>\n",
       "    <tr>\n",
       "      <th>3</th>\n",
       "      <td>1024</td>\n",
       "      <td>1024</td>\n",
       "      <td>2022-06-22T11:47:54.0286976-04:00</td>\n",
       "    </tr>\n",
       "    <tr>\n",
       "      <th>4</th>\n",
       "      <td>1024</td>\n",
       "      <td>1024</td>\n",
       "      <td>2022-06-22T11:47:54.1876608-04:00</td>\n",
       "    </tr>\n",
       "  </tbody>\n",
       "</table>\n",
       "</div>"
      ],
      "text/plain": [
       "      x     y                          timestamp\n",
       "0  1024  1024  2022-06-22T11:47:53.5158912-04:00\n",
       "1  1024  1024  2022-06-22T11:47:53.7177984-04:00\n",
       "2  1024  1024  2022-06-22T11:47:53.8747776-04:00\n",
       "3  1024  1024  2022-06-22T11:47:54.0286976-04:00\n",
       "4  1024  1024  2022-06-22T11:47:54.1876608-04:00"
      ]
     },
     "execution_count": 10,
     "metadata": {},
     "output_type": "execute_result"
    }
   ],
   "source": [
    "dlc_coords.columns=['x','y','timestamp']\n",
    "dlc_coords.head()"
   ]
  },
  {
   "cell_type": "code",
   "execution_count": 11,
   "id": "6d7fa8e3",
   "metadata": {},
   "outputs": [
    {
     "data": {
      "text/plain": [
       "'2022-06-22T11:47:53.5158912-04:00'"
      ]
     },
     "execution_count": 11,
     "metadata": {},
     "output_type": "execute_result"
    }
   ],
   "source": [
    "test=dlc_coords.timestamp[0]\n",
    "test"
   ]
  },
  {
   "cell_type": "code",
   "execution_count": 18,
   "id": "136aba94",
   "metadata": {},
   "outputs": [],
   "source": [
    "date=test.split('T')[0]\n",
    "time=test.split('T')[1].split('-')[0]"
   ]
  },
  {
   "cell_type": "code",
   "execution_count": 26,
   "id": "ef936d23",
   "metadata": {},
   "outputs": [],
   "source": [
    "zaber_coords[['date','time']]=zaber_coords['timestamp'].str.split('T', expand=True)"
   ]
  },
  {
   "cell_type": "code",
   "execution_count": 29,
   "id": "6c69ea19",
   "metadata": {},
   "outputs": [
    {
     "data": {
      "text/plain": [
       "0      [11:47:53.5227776, 04:00]\n",
       "1      [11:47:53.7244032, 04:00]\n",
       "2      [11:47:53.8804608, 04:00]\n",
       "3      [11:47:54.0339584, 04:00]\n",
       "4      [11:47:54.1940992, 04:00]\n",
       "                 ...            \n",
       "615    [11:49:32.3159680, 04:00]\n",
       "616    [11:49:32.4758656, 04:00]\n",
       "617    [11:49:32.6365952, 04:00]\n",
       "618    [11:49:32.7975552, 04:00]\n",
       "619    [11:49:32.9584512, 04:00]\n",
       "Name: time, Length: 620, dtype: object"
      ]
     },
     "execution_count": 29,
     "metadata": {},
     "output_type": "execute_result"
    }
   ],
   "source": [
    "zaber_coords['time'].str.split('-',expand=False)"
   ]
  },
  {
   "cell_type": "code",
   "execution_count": 30,
   "id": "d42b8471",
   "metadata": {},
   "outputs": [
    {
     "name": "stdout",
     "output_type": "stream",
     "text": [
      "Object `pd.to_csv` not found.\n"
     ]
    }
   ],
   "source": [
    "zaber_coords.to_csv('')"
   ]
  },
  {
   "cell_type": "code",
   "execution_count": null,
   "id": "2fc8b712",
   "metadata": {},
   "outputs": [],
   "source": []
  }
 ],
 "metadata": {
  "kernelspec": {
   "display_name": "Python 3 (ipykernel)",
   "language": "python",
   "name": "python3"
  },
  "language_info": {
   "codemirror_mode": {
    "name": "ipython",
    "version": 3
   },
   "file_extension": ".py",
   "mimetype": "text/x-python",
   "name": "python",
   "nbconvert_exporter": "python",
   "pygments_lexer": "ipython3",
   "version": "3.10.0"
  }
 },
 "nbformat": 4,
 "nbformat_minor": 5
}
