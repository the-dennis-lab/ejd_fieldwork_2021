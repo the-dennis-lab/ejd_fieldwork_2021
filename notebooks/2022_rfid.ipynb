{
 "cells": [
  {
   "cell_type": "markdown",
   "id": "64667447-6bd8-4f82-bcf4-de95b0d0ccb3",
   "metadata": {},
   "source": [
    "# Purpose\n",
    "to parse the text files from the new RFID system around the hut in wedge 4"
   ]
  },
  {
   "cell_type": "markdown",
   "id": "bcecf73e-1840-4f4e-9b95-65437fd11e19",
   "metadata": {},
   "source": [
    "# Imports"
   ]
  },
  {
   "cell_type": "code",
   "execution_count": 1,
   "id": "365a751d-f140-4458-b421-74229ad99cb6",
   "metadata": {},
   "outputs": [],
   "source": [
    "import pandas as pd\n",
    "import matplotlib.pyplot as plt\n",
    "import numpy as np\n",
    "import os, glob, csv, sys"
   ]
  },
  {
   "cell_type": "markdown",
   "id": "80da3ae6",
   "metadata": {},
   "source": [
    "# User defined locations"
   ]
  },
  {
   "cell_type": "code",
   "execution_count": 2,
   "id": "466583bd",
   "metadata": {},
   "outputs": [
    {
     "ename": "FileNotFoundError",
     "evalue": "[WinError 3] The system cannot find the path specified: '/Users/dennise/Desktop/SF2022/LOGGER'",
     "output_type": "error",
     "traceback": [
      "\u001b[1;31m---------------------------------------------------------------------------\u001b[0m",
      "\u001b[1;31mFileNotFoundError\u001b[0m                         Traceback (most recent call last)",
      "Input \u001b[1;32mIn [2]\u001b[0m, in \u001b[0;36m<cell line: 3>\u001b[1;34m()\u001b[0m\n\u001b[0;32m      1\u001b[0m listoffiles\u001b[38;5;241m=\u001b[39m[]\n\u001b[0;32m      2\u001b[0m fld\u001b[38;5;241m=\u001b[39m\u001b[38;5;124m'\u001b[39m\u001b[38;5;124m/Users/dennise/Desktop/SF2022/LOGGER\u001b[39m\u001b[38;5;124m'\u001b[39m\n\u001b[1;32m----> 3\u001b[0m \u001b[38;5;28;01mfor\u001b[39;00m folder \u001b[38;5;129;01min\u001b[39;00m \u001b[43mos\u001b[49m\u001b[38;5;241;43m.\u001b[39;49m\u001b[43mlistdir\u001b[49m\u001b[43m(\u001b[49m\u001b[43mfld\u001b[49m\u001b[43m)\u001b[49m:\n\u001b[0;32m      4\u001b[0m     \u001b[38;5;28;01mif\u001b[39;00m \u001b[38;5;28mlen\u001b[39m(folder) \u001b[38;5;241m>\u001b[39m \u001b[38;5;241m2\u001b[39m:\n\u001b[0;32m      5\u001b[0m         folder_path \u001b[38;5;241m=\u001b[39m os\u001b[38;5;241m.\u001b[39mpath\u001b[38;5;241m.\u001b[39mjoin(fld,folder)\n",
      "\u001b[1;31mFileNotFoundError\u001b[0m: [WinError 3] The system cannot find the path specified: '/Users/dennise/Desktop/SF2022/LOGGER'"
     ]
    }
   ],
   "source": [
    "listoffiles=[]\n",
    "fld='/Users/dennise/Desktop/SF2022/LOGGER'\n",
    "for folder in os.listdir(fld):\n",
    "    if len(folder) > 2:\n",
    "        folder_path = os.path.join(fld,folder)\n",
    "        for file_name in os.listdir(folder_path):\n",
    "            listoffiles.append(os.path.join(folder_path,file_name))\n",
    "listoffiles[0:10]"
   ]
  },
  {
   "cell_type": "code",
   "execution_count": 5,
   "id": "ceee22ea",
   "metadata": {},
   "outputs": [
    {
     "data": {
      "text/plain": [
       "'/Users/dennise/Desktop/SF2022/LOGGER\\\\2022_06\\\\2022_06_16.log'"
      ]
     },
     "execution_count": 5,
     "metadata": {},
     "output_type": "execute_result"
    }
   ],
   "source": [
    "txtfile=listoffiles[0]\n",
    "txtfile"
   ]
  },
  {
   "cell_type": "markdown",
   "id": "0a1b642e-2a0e-4bab-b994-f1d72125a8c6",
   "metadata": {},
   "source": [
    "# Functions"
   ]
  },
  {
   "cell_type": "code",
   "execution_count": 3,
   "id": "efa79a23-0cd4-4da3-8447-66abfadc11bd",
   "metadata": {
    "scrolled": true
   },
   "outputs": [],
   "source": [
    "def get_txtfile_contents(txtfile):\n",
    "    dates=[]\n",
    "    first=[]\n",
    "    second=[]\n",
    "    third=[]\n",
    "    tagvals=[]\n",
    "    mvs=[]\n",
    "\n",
    "    # import file\n",
    "    f = open(txtfile, 'r') \n",
    "    for x in f.readlines():\n",
    "        if \"TAG\" in x:\n",
    "            values=[xval.split(' ') for xval in x.split(':')]\n",
    "            dates.append(values[1][2])\n",
    "            first.append(values[1][3])\n",
    "            second.append(values[2][0])\n",
    "            third.append(values[3][0])\n",
    "            tagvals.append(values[3][1])\n",
    "            mvs.append(values[3][2])\n",
    "\n",
    "    # want this to be a dataframe\n",
    "    df=pd.DataFrame({'dates':dates,'hour':first,'minute':second,'second':third,'tagvals':tagvals,'mvs':mvs})\n",
    "    df['converted_tags'] = df.tagvals\n",
    "    for i in np.arange(0,len(df.tagvals)):\n",
    "        val=df.converted_tags[i]\n",
    "        df.converted_tags[i]=int(val[4:],base=16)\n",
    "    return df"
   ]
  },
  {
   "cell_type": "markdown",
   "id": "4ab8839e",
   "metadata": {},
   "source": [
    "# Exploration"
   ]
  },
  {
   "cell_type": "code",
   "execution_count": 5,
   "id": "983121c6-0642-4a0a-a81b-7594b5f03f49",
   "metadata": {},
   "outputs": [],
   "source": [
    "has_run=1\n",
    "if has_run == 0:\n",
    "    x=-1\n",
    "    for txtfile in listoffiles:\n",
    "        x+=1\n",
    "        if x==0:\n",
    "            df_alldata = get_txtfile_contents(txtfile)\n",
    "        else:\n",
    "            df = get_txtfile_contents(txtfile)\n",
    "            df_alldata = pd.concat([df_alldata,df],ignore_index=True)\n",
    "        if x%10==0:\n",
    "            print(x)\n",
    "    df_alldata.to_csv('../data/2022_RFID_hut_data.csv')\n",
    "else:\n",
    "    df_alldata = pd.read_csv('../data/2022_RFID_hut_data.csv',index_col=0)"
   ]
  },
  {
   "cell_type": "code",
   "execution_count": 6,
   "id": "474a80e7-e39b-440c-b445-57581baf7e48",
   "metadata": {},
   "outputs": [
    {
     "data": {
      "text/html": [
       "<div>\n",
       "<style scoped>\n",
       "    .dataframe tbody tr th:only-of-type {\n",
       "        vertical-align: middle;\n",
       "    }\n",
       "\n",
       "    .dataframe tbody tr th {\n",
       "        vertical-align: top;\n",
       "    }\n",
       "\n",
       "    .dataframe thead th {\n",
       "        text-align: right;\n",
       "    }\n",
       "</style>\n",
       "<table border=\"1\" class=\"dataframe\">\n",
       "  <thead>\n",
       "    <tr style=\"text-align: right;\">\n",
       "      <th></th>\n",
       "      <th>dates</th>\n",
       "      <th>hour</th>\n",
       "      <th>minute</th>\n",
       "      <th>second</th>\n",
       "      <th>tagvals</th>\n",
       "      <th>mvs</th>\n",
       "      <th>converted_tags</th>\n",
       "    </tr>\n",
       "  </thead>\n",
       "  <tbody>\n",
       "    <tr>\n",
       "      <th>0</th>\n",
       "      <td>6/16/2022</td>\n",
       "      <td>17</td>\n",
       "      <td>33</td>\n",
       "      <td>8.09</td>\n",
       "      <td>3E7.0000001D01</td>\n",
       "      <td>714</td>\n",
       "      <td>7425</td>\n",
       "    </tr>\n",
       "    <tr>\n",
       "      <th>1</th>\n",
       "      <td>6/16/2022</td>\n",
       "      <td>17</td>\n",
       "      <td>42</td>\n",
       "      <td>33.58</td>\n",
       "      <td>384.0A0301EAAF</td>\n",
       "      <td>498</td>\n",
       "      <td>43000130223</td>\n",
       "    </tr>\n",
       "    <tr>\n",
       "      <th>2</th>\n",
       "      <td>6/16/2022</td>\n",
       "      <td>17</td>\n",
       "      <td>42</td>\n",
       "      <td>33.61</td>\n",
       "      <td>384.0A0301EAAF</td>\n",
       "      <td>512</td>\n",
       "      <td>43000130223</td>\n",
       "    </tr>\n",
       "    <tr>\n",
       "      <th>3</th>\n",
       "      <td>6/16/2022</td>\n",
       "      <td>17</td>\n",
       "      <td>42</td>\n",
       "      <td>33.65</td>\n",
       "      <td>384.0A0301EAAF</td>\n",
       "      <td>502</td>\n",
       "      <td>43000130223</td>\n",
       "    </tr>\n",
       "    <tr>\n",
       "      <th>4</th>\n",
       "      <td>6/16/2022</td>\n",
       "      <td>17</td>\n",
       "      <td>42</td>\n",
       "      <td>33.68</td>\n",
       "      <td>384.0A0301EAAF</td>\n",
       "      <td>494</td>\n",
       "      <td>43000130223</td>\n",
       "    </tr>\n",
       "    <tr>\n",
       "      <th>...</th>\n",
       "      <td>...</td>\n",
       "      <td>...</td>\n",
       "      <td>...</td>\n",
       "      <td>...</td>\n",
       "      <td>...</td>\n",
       "      <td>...</td>\n",
       "      <td>...</td>\n",
       "    </tr>\n",
       "    <tr>\n",
       "      <th>87267</th>\n",
       "      <td>7/27/2022</td>\n",
       "      <td>6</td>\n",
       "      <td>24</td>\n",
       "      <td>41.13</td>\n",
       "      <td>3E7.0000001D01</td>\n",
       "      <td>739</td>\n",
       "      <td>7425</td>\n",
       "    </tr>\n",
       "    <tr>\n",
       "      <th>87268</th>\n",
       "      <td>7/27/2022</td>\n",
       "      <td>6</td>\n",
       "      <td>34</td>\n",
       "      <td>41.41</td>\n",
       "      <td>3E7.0000001D01</td>\n",
       "      <td>736</td>\n",
       "      <td>7425</td>\n",
       "    </tr>\n",
       "    <tr>\n",
       "      <th>87269</th>\n",
       "      <td>7/27/2022</td>\n",
       "      <td>6</td>\n",
       "      <td>44</td>\n",
       "      <td>41.20</td>\n",
       "      <td>3E7.0000001D01</td>\n",
       "      <td>734</td>\n",
       "      <td>7425</td>\n",
       "    </tr>\n",
       "    <tr>\n",
       "      <th>87270</th>\n",
       "      <td>7/27/2022</td>\n",
       "      <td>7</td>\n",
       "      <td>4</td>\n",
       "      <td>41.13</td>\n",
       "      <td>3E7.0000001D01</td>\n",
       "      <td>735</td>\n",
       "      <td>7425</td>\n",
       "    </tr>\n",
       "    <tr>\n",
       "      <th>87271</th>\n",
       "      <td>7/27/2022</td>\n",
       "      <td>7</td>\n",
       "      <td>14</td>\n",
       "      <td>41.17</td>\n",
       "      <td>3E7.0000001D01</td>\n",
       "      <td>736</td>\n",
       "      <td>7425</td>\n",
       "    </tr>\n",
       "  </tbody>\n",
       "</table>\n",
       "<p>87272 rows × 7 columns</p>\n",
       "</div>"
      ],
      "text/plain": [
       "           dates  hour  minute  second         tagvals  mvs  converted_tags\n",
       "0      6/16/2022    17      33    8.09  3E7.0000001D01  714            7425\n",
       "1      6/16/2022    17      42   33.58  384.0A0301EAAF  498     43000130223\n",
       "2      6/16/2022    17      42   33.61  384.0A0301EAAF  512     43000130223\n",
       "3      6/16/2022    17      42   33.65  384.0A0301EAAF  502     43000130223\n",
       "4      6/16/2022    17      42   33.68  384.0A0301EAAF  494     43000130223\n",
       "...          ...   ...     ...     ...             ...  ...             ...\n",
       "87267  7/27/2022     6      24   41.13  3E7.0000001D01  739            7425\n",
       "87268  7/27/2022     6      34   41.41  3E7.0000001D01  736            7425\n",
       "87269  7/27/2022     6      44   41.20  3E7.0000001D01  734            7425\n",
       "87270  7/27/2022     7       4   41.13  3E7.0000001D01  735            7425\n",
       "87271  7/27/2022     7      14   41.17  3E7.0000001D01  736            7425\n",
       "\n",
       "[87272 rows x 7 columns]"
      ]
     },
     "execution_count": 6,
     "metadata": {},
     "output_type": "execute_result"
    }
   ],
   "source": [
    "df_alldata"
   ]
  },
  {
   "cell_type": "code",
   "execution_count": 7,
   "id": "ad632c63",
   "metadata": {},
   "outputs": [
    {
     "data": {
      "text/plain": [
       "array([43000130206, 43000130217, 43000130223, 43000130232, 43000130236,\n",
       "       43000130250, 43000130258, 43000130280, 43000130282, 43000130291,\n",
       "       43000130324, 43000130337, 43000130345, 43000130355, 43000130357,\n",
       "       43000130359, 43000130399, 67000063703], dtype=int64)"
      ]
     },
     "execution_count": 7,
     "metadata": {},
     "output_type": "execute_result"
    }
   ],
   "source": [
    "unique_tags = np.unique(df_alldata.converted_tags)\n",
    "unique_tags[1:]"
   ]
  },
  {
   "cell_type": "code",
   "execution_count": 8,
   "id": "8b7c82d2",
   "metadata": {},
   "outputs": [
    {
     "name": "stdout",
     "output_type": "stream",
     "text": [
      "7425\n",
      "7/27/2022\n",
      "   \n",
      "43000130206\n",
      "6/17/2022\n",
      "   \n",
      "43000130217\n",
      "6/16/2022\n",
      "   \n",
      "43000130223\n",
      "6/26/2022\n",
      "   \n",
      "43000130232\n",
      "7/26/2022\n",
      "   \n",
      "43000130236\n",
      "6/17/2022\n",
      "   \n",
      "43000130250\n",
      "7/26/2022\n",
      "   \n",
      "43000130258\n",
      "6/16/2022\n",
      "   \n",
      "43000130280\n",
      "6/22/2022\n",
      "   \n",
      "43000130282\n",
      "6/17/2022\n",
      "   \n",
      "43000130291\n",
      "7/27/2022\n",
      "   \n",
      "43000130324\n",
      "7/26/2022\n",
      "   \n",
      "43000130337\n",
      "7/26/2022\n",
      "   \n",
      "43000130345\n",
      "7/26/2022\n",
      "   \n",
      "43000130355\n",
      "7/26/2022\n",
      "   \n",
      "43000130357\n",
      "6/16/2022\n",
      "   \n",
      "43000130359\n",
      "6/16/2022\n",
      "   \n",
      "43000130399\n",
      "7/26/2022\n",
      "   \n",
      "67000063703\n",
      "7/26/2022\n",
      "   \n"
     ]
    }
   ],
   "source": [
    "# find the last date the animal was seen\n",
    "for animal in unique_tags:\n",
    "    subdf=df_alldata[df_alldata.converted_tags==animal]\n",
    "    print(animal)\n",
    "    print(list(subdf.dates)[-1])\n",
    "    print('   ')"
   ]
  },
  {
   "cell_type": "code",
   "execution_count": 10,
   "id": "316ce550",
   "metadata": {},
   "outputs": [
    {
     "data": {
      "text/html": [
       "<div>\n",
       "<style scoped>\n",
       "    .dataframe tbody tr th:only-of-type {\n",
       "        vertical-align: middle;\n",
       "    }\n",
       "\n",
       "    .dataframe tbody tr th {\n",
       "        vertical-align: top;\n",
       "    }\n",
       "\n",
       "    .dataframe thead th {\n",
       "        text-align: right;\n",
       "    }\n",
       "</style>\n",
       "<table border=\"1\" class=\"dataframe\">\n",
       "  <thead>\n",
       "    <tr style=\"text-align: right;\">\n",
       "      <th></th>\n",
       "      <th>dates</th>\n",
       "      <th>hour</th>\n",
       "      <th>minute</th>\n",
       "      <th>second</th>\n",
       "      <th>tagvals</th>\n",
       "      <th>mvs</th>\n",
       "      <th>converted_tags</th>\n",
       "    </tr>\n",
       "  </thead>\n",
       "  <tbody>\n",
       "    <tr>\n",
       "      <th>0</th>\n",
       "      <td>6/16/2022</td>\n",
       "      <td>17</td>\n",
       "      <td>42</td>\n",
       "      <td>33.58</td>\n",
       "      <td>384.0A0301EAAF</td>\n",
       "      <td>498</td>\n",
       "      <td>43000130223</td>\n",
       "    </tr>\n",
       "    <tr>\n",
       "      <th>1</th>\n",
       "      <td>6/16/2022</td>\n",
       "      <td>17</td>\n",
       "      <td>42</td>\n",
       "      <td>33.61</td>\n",
       "      <td>384.0A0301EAAF</td>\n",
       "      <td>512</td>\n",
       "      <td>43000130223</td>\n",
       "    </tr>\n",
       "    <tr>\n",
       "      <th>2</th>\n",
       "      <td>6/16/2022</td>\n",
       "      <td>17</td>\n",
       "      <td>42</td>\n",
       "      <td>33.65</td>\n",
       "      <td>384.0A0301EAAF</td>\n",
       "      <td>502</td>\n",
       "      <td>43000130223</td>\n",
       "    </tr>\n",
       "    <tr>\n",
       "      <th>3</th>\n",
       "      <td>6/16/2022</td>\n",
       "      <td>17</td>\n",
       "      <td>42</td>\n",
       "      <td>33.68</td>\n",
       "      <td>384.0A0301EAAF</td>\n",
       "      <td>494</td>\n",
       "      <td>43000130223</td>\n",
       "    </tr>\n",
       "    <tr>\n",
       "      <th>4</th>\n",
       "      <td>6/16/2022</td>\n",
       "      <td>17</td>\n",
       "      <td>42</td>\n",
       "      <td>33.71</td>\n",
       "      <td>384.0A0301EAAF</td>\n",
       "      <td>489</td>\n",
       "      <td>43000130223</td>\n",
       "    </tr>\n",
       "    <tr>\n",
       "      <th>...</th>\n",
       "      <td>...</td>\n",
       "      <td>...</td>\n",
       "      <td>...</td>\n",
       "      <td>...</td>\n",
       "      <td>...</td>\n",
       "      <td>...</td>\n",
       "      <td>...</td>\n",
       "    </tr>\n",
       "    <tr>\n",
       "      <th>82839</th>\n",
       "      <td>7/27/2022</td>\n",
       "      <td>4</td>\n",
       "      <td>29</td>\n",
       "      <td>23.43</td>\n",
       "      <td>384.0A0301EAF3</td>\n",
       "      <td>666</td>\n",
       "      <td>43000130291</td>\n",
       "    </tr>\n",
       "    <tr>\n",
       "      <th>82840</th>\n",
       "      <td>7/27/2022</td>\n",
       "      <td>4</td>\n",
       "      <td>29</td>\n",
       "      <td>23.46</td>\n",
       "      <td>384.0A0301EAF3</td>\n",
       "      <td>654</td>\n",
       "      <td>43000130291</td>\n",
       "    </tr>\n",
       "    <tr>\n",
       "      <th>82841</th>\n",
       "      <td>7/27/2022</td>\n",
       "      <td>4</td>\n",
       "      <td>29</td>\n",
       "      <td>23.49</td>\n",
       "      <td>384.0A0301EAF3</td>\n",
       "      <td>667</td>\n",
       "      <td>43000130291</td>\n",
       "    </tr>\n",
       "    <tr>\n",
       "      <th>82842</th>\n",
       "      <td>7/27/2022</td>\n",
       "      <td>4</td>\n",
       "      <td>29</td>\n",
       "      <td>23.52</td>\n",
       "      <td>384.0A0301EAF3</td>\n",
       "      <td>710</td>\n",
       "      <td>43000130291</td>\n",
       "    </tr>\n",
       "    <tr>\n",
       "      <th>82843</th>\n",
       "      <td>7/27/2022</td>\n",
       "      <td>4</td>\n",
       "      <td>29</td>\n",
       "      <td>23.55</td>\n",
       "      <td>384.0A0301EAF3</td>\n",
       "      <td>717</td>\n",
       "      <td>43000130291</td>\n",
       "    </tr>\n",
       "  </tbody>\n",
       "</table>\n",
       "<p>82844 rows × 7 columns</p>\n",
       "</div>"
      ],
      "text/plain": [
       "           dates  hour  minute  second         tagvals  mvs  converted_tags\n",
       "0      6/16/2022    17      42   33.58  384.0A0301EAAF  498     43000130223\n",
       "1      6/16/2022    17      42   33.61  384.0A0301EAAF  512     43000130223\n",
       "2      6/16/2022    17      42   33.65  384.0A0301EAAF  502     43000130223\n",
       "3      6/16/2022    17      42   33.68  384.0A0301EAAF  494     43000130223\n",
       "4      6/16/2022    17      42   33.71  384.0A0301EAAF  489     43000130223\n",
       "...          ...   ...     ...     ...             ...  ...             ...\n",
       "82839  7/27/2022     4      29   23.43  384.0A0301EAF3  666     43000130291\n",
       "82840  7/27/2022     4      29   23.46  384.0A0301EAF3  654     43000130291\n",
       "82841  7/27/2022     4      29   23.49  384.0A0301EAF3  667     43000130291\n",
       "82842  7/27/2022     4      29   23.52  384.0A0301EAF3  710     43000130291\n",
       "82843  7/27/2022     4      29   23.55  384.0A0301EAF3  717     43000130291\n",
       "\n",
       "[82844 rows x 7 columns]"
      ]
     },
     "execution_count": 10,
     "metadata": {},
     "output_type": "execute_result"
    }
   ],
   "source": [
    "df_alldata = df_alldata[df_alldata.converted_tags != 7425] #removes test from system\n",
    "df_alldata=df_alldata.reset_index().drop(columns='index')\n",
    "df_alldata"
   ]
  },
  {
   "cell_type": "code",
   "execution_count": 11,
   "id": "a33a1938",
   "metadata": {},
   "outputs": [
    {
     "data": {
      "text/plain": [
       "array([43000130206, 43000130217, 43000130223, 43000130232, 43000130236,\n",
       "       43000130250, 43000130258, 43000130280, 43000130282, 43000130291,\n",
       "       43000130324, 43000130337, 43000130345, 43000130355, 43000130357,\n",
       "       43000130359, 43000130399, 67000063703], dtype=int64)"
      ]
     },
     "execution_count": 11,
     "metadata": {},
     "output_type": "execute_result"
    }
   ],
   "source": [
    "np.unique(df_alldata.converted_tags)"
   ]
  },
  {
   "cell_type": "code",
   "execution_count": 102,
   "id": "78166071",
   "metadata": {},
   "outputs": [
    {
     "data": {
      "text/html": [
       "<div>\n",
       "<style scoped>\n",
       "    .dataframe tbody tr th:only-of-type {\n",
       "        vertical-align: middle;\n",
       "    }\n",
       "\n",
       "    .dataframe tbody tr th {\n",
       "        vertical-align: top;\n",
       "    }\n",
       "\n",
       "    .dataframe thead th {\n",
       "        text-align: right;\n",
       "    }\n",
       "</style>\n",
       "<table border=\"1\" class=\"dataframe\">\n",
       "  <thead>\n",
       "    <tr style=\"text-align: right;\">\n",
       "      <th></th>\n",
       "      <th>Unnamed: 0</th>\n",
       "      <th>Timestamp</th>\n",
       "      <th>Reader</th>\n",
       "      <th>RFID</th>\n",
       "      <th>Mouse</th>\n",
       "      <th>Date</th>\n",
       "      <th>Hour</th>\n",
       "      <th>Minute</th>\n",
       "      <th>Second</th>\n",
       "      <th>Day</th>\n",
       "      <th>Wedge</th>\n",
       "      <th>Location</th>\n",
       "    </tr>\n",
       "  </thead>\n",
       "  <tbody>\n",
       "    <tr>\n",
       "      <th>0</th>\n",
       "      <td>1</td>\n",
       "      <td>2022-07-28 03:53:00</td>\n",
       "      <td>wedge22</td>\n",
       "      <td>48 48 48 49 51 48 50 57 49</td>\n",
       "      <td>2043</td>\n",
       "      <td>2022-07-28</td>\n",
       "      <td>3</td>\n",
       "      <td>53</td>\n",
       "      <td>0</td>\n",
       "      <td>07-28</td>\n",
       "      <td>Wedge 4</td>\n",
       "      <td>Feeder</td>\n",
       "    </tr>\n",
       "    <tr>\n",
       "      <th>1</th>\n",
       "      <td>2</td>\n",
       "      <td>2022-07-28 02:34:49</td>\n",
       "      <td>wedge22</td>\n",
       "      <td>48 48 48 49 51 48 50 57 49</td>\n",
       "      <td>2043</td>\n",
       "      <td>2022-07-28</td>\n",
       "      <td>2</td>\n",
       "      <td>34</td>\n",
       "      <td>49</td>\n",
       "      <td>07-28</td>\n",
       "      <td>Wedge 4</td>\n",
       "      <td>Feeder</td>\n",
       "    </tr>\n",
       "    <tr>\n",
       "      <th>2</th>\n",
       "      <td>3</td>\n",
       "      <td>2022-07-28 02:13:57</td>\n",
       "      <td>wedge22</td>\n",
       "      <td>48 48 48 49 51 48 50 57 49</td>\n",
       "      <td>2043</td>\n",
       "      <td>2022-07-28</td>\n",
       "      <td>2</td>\n",
       "      <td>13</td>\n",
       "      <td>57</td>\n",
       "      <td>07-28</td>\n",
       "      <td>Wedge 4</td>\n",
       "      <td>Feeder</td>\n",
       "    </tr>\n",
       "    <tr>\n",
       "      <th>3</th>\n",
       "      <td>4</td>\n",
       "      <td>2022-07-28 02:13:52</td>\n",
       "      <td>wedge22</td>\n",
       "      <td>48 48 48 49 51 48 50 57 49</td>\n",
       "      <td>2043</td>\n",
       "      <td>2022-07-28</td>\n",
       "      <td>2</td>\n",
       "      <td>13</td>\n",
       "      <td>52</td>\n",
       "      <td>07-28</td>\n",
       "      <td>Wedge 4</td>\n",
       "      <td>Feeder</td>\n",
       "    </tr>\n",
       "    <tr>\n",
       "      <th>4</th>\n",
       "      <td>5</td>\n",
       "      <td>2022-07-28 02:13:42</td>\n",
       "      <td>wedge22</td>\n",
       "      <td>48 48 48 49 51 48 50 57 49</td>\n",
       "      <td>2043</td>\n",
       "      <td>2022-07-28</td>\n",
       "      <td>2</td>\n",
       "      <td>13</td>\n",
       "      <td>42</td>\n",
       "      <td>07-28</td>\n",
       "      <td>Wedge 4</td>\n",
       "      <td>Feeder</td>\n",
       "    </tr>\n",
       "    <tr>\n",
       "      <th>...</th>\n",
       "      <td>...</td>\n",
       "      <td>...</td>\n",
       "      <td>...</td>\n",
       "      <td>...</td>\n",
       "      <td>...</td>\n",
       "      <td>...</td>\n",
       "      <td>...</td>\n",
       "      <td>...</td>\n",
       "      <td>...</td>\n",
       "      <td>...</td>\n",
       "      <td>...</td>\n",
       "      <td>...</td>\n",
       "    </tr>\n",
       "    <tr>\n",
       "      <th>14422</th>\n",
       "      <td>14423</td>\n",
       "      <td>2022-06-16 17:52:17</td>\n",
       "      <td>wedge22</td>\n",
       "      <td>48 48 48 48 54 51 55 48 51</td>\n",
       "      <td>2021</td>\n",
       "      <td>2022-06-16</td>\n",
       "      <td>17</td>\n",
       "      <td>52</td>\n",
       "      <td>17</td>\n",
       "      <td>06-16</td>\n",
       "      <td>Wedge 4</td>\n",
       "      <td>Feeder</td>\n",
       "    </tr>\n",
       "    <tr>\n",
       "      <th>14423</th>\n",
       "      <td>14424</td>\n",
       "      <td>2022-06-16 17:52:01</td>\n",
       "      <td>wedge22</td>\n",
       "      <td>48 48 48 48 54 51 55 48 51</td>\n",
       "      <td>2021</td>\n",
       "      <td>2022-06-16</td>\n",
       "      <td>17</td>\n",
       "      <td>52</td>\n",
       "      <td>1</td>\n",
       "      <td>06-16</td>\n",
       "      <td>Wedge 4</td>\n",
       "      <td>Feeder</td>\n",
       "    </tr>\n",
       "    <tr>\n",
       "      <th>14424</th>\n",
       "      <td>14425</td>\n",
       "      <td>2022-06-16 17:51:36</td>\n",
       "      <td>wedge22</td>\n",
       "      <td>48 48 48 48 54 51 55 48 51</td>\n",
       "      <td>2021</td>\n",
       "      <td>2022-06-16</td>\n",
       "      <td>17</td>\n",
       "      <td>51</td>\n",
       "      <td>36</td>\n",
       "      <td>06-16</td>\n",
       "      <td>Wedge 4</td>\n",
       "      <td>Feeder</td>\n",
       "    </tr>\n",
       "    <tr>\n",
       "      <th>14425</th>\n",
       "      <td>14426</td>\n",
       "      <td>2022-06-16 17:51:04</td>\n",
       "      <td>wedge22</td>\n",
       "      <td>48 48 48 48 54 51 55 48 51</td>\n",
       "      <td>2021</td>\n",
       "      <td>2022-06-16</td>\n",
       "      <td>17</td>\n",
       "      <td>51</td>\n",
       "      <td>4</td>\n",
       "      <td>06-16</td>\n",
       "      <td>Wedge 4</td>\n",
       "      <td>Feeder</td>\n",
       "    </tr>\n",
       "    <tr>\n",
       "      <th>14426</th>\n",
       "      <td>14427</td>\n",
       "      <td>2022-06-16 17:50:56</td>\n",
       "      <td>wedge22</td>\n",
       "      <td>48 48 48 48 54 51 55 48 51</td>\n",
       "      <td>2021</td>\n",
       "      <td>2022-06-16</td>\n",
       "      <td>17</td>\n",
       "      <td>50</td>\n",
       "      <td>56</td>\n",
       "      <td>06-16</td>\n",
       "      <td>Wedge 4</td>\n",
       "      <td>Feeder</td>\n",
       "    </tr>\n",
       "  </tbody>\n",
       "</table>\n",
       "<p>14427 rows × 12 columns</p>\n",
       "</div>"
      ],
      "text/plain": [
       "       Unnamed: 0            Timestamp   Reader                        RFID  \\\n",
       "0               1  2022-07-28 03:53:00  wedge22  48 48 48 49 51 48 50 57 49   \n",
       "1               2  2022-07-28 02:34:49  wedge22  48 48 48 49 51 48 50 57 49   \n",
       "2               3  2022-07-28 02:13:57  wedge22  48 48 48 49 51 48 50 57 49   \n",
       "3               4  2022-07-28 02:13:52  wedge22  48 48 48 49 51 48 50 57 49   \n",
       "4               5  2022-07-28 02:13:42  wedge22  48 48 48 49 51 48 50 57 49   \n",
       "...           ...                  ...      ...                         ...   \n",
       "14422       14423  2022-06-16 17:52:17  wedge22  48 48 48 48 54 51 55 48 51   \n",
       "14423       14424  2022-06-16 17:52:01  wedge22  48 48 48 48 54 51 55 48 51   \n",
       "14424       14425  2022-06-16 17:51:36  wedge22  48 48 48 48 54 51 55 48 51   \n",
       "14425       14426  2022-06-16 17:51:04  wedge22  48 48 48 48 54 51 55 48 51   \n",
       "14426       14427  2022-06-16 17:50:56  wedge22  48 48 48 48 54 51 55 48 51   \n",
       "\n",
       "       Mouse        Date  Hour  Minute  Second    Day    Wedge Location  \n",
       "0       2043  2022-07-28     3      53       0  07-28  Wedge 4   Feeder  \n",
       "1       2043  2022-07-28     2      34      49  07-28  Wedge 4   Feeder  \n",
       "2       2043  2022-07-28     2      13      57  07-28  Wedge 4   Feeder  \n",
       "3       2043  2022-07-28     2      13      52  07-28  Wedge 4   Feeder  \n",
       "4       2043  2022-07-28     2      13      42  07-28  Wedge 4   Feeder  \n",
       "...      ...         ...   ...     ...     ...    ...      ...      ...  \n",
       "14422   2021  2022-06-16    17      52      17  06-16  Wedge 4   Feeder  \n",
       "14423   2021  2022-06-16    17      52       1  06-16  Wedge 4   Feeder  \n",
       "14424   2021  2022-06-16    17      51      36  06-16  Wedge 4   Feeder  \n",
       "14425   2021  2022-06-16    17      51       4  06-16  Wedge 4   Feeder  \n",
       "14426   2021  2022-06-16    17      50      56  06-16  Wedge 4   Feeder  \n",
       "\n",
       "[14427 rows x 12 columns]"
      ]
     },
     "execution_count": 102,
     "metadata": {},
     "output_type": "execute_result"
    }
   ],
   "source": [
    "df_old = pd.read_csv('../data/W4.CI.for.Emily.csv')\n",
    "df_old"
   ]
  },
  {
   "cell_type": "code",
   "execution_count": null,
   "id": "3f6ec9df",
   "metadata": {},
   "outputs": [],
   "source": []
  },
  {
   "cell_type": "code",
   "execution_count": 13,
   "id": "55bb3776",
   "metadata": {},
   "outputs": [
    {
     "data": {
      "text/plain": [
       "array(['Base', 'Feeder', 'Left', 'Right', 'Tip'], dtype=object)"
      ]
     },
     "execution_count": 13,
     "metadata": {},
     "output_type": "execute_result"
    }
   ],
   "source": [
    "np.unique(df.Location)"
   ]
  },
  {
   "cell_type": "code",
   "execution_count": 22,
   "id": "d3d4663b",
   "metadata": {},
   "outputs": [
    {
     "data": {
      "text/plain": [
       "(array([ 672.,    0., 9939.,    0.,    0.,  369.,    0., 1179.,    0.,\n",
       "        2268.]),\n",
       " array([0. , 0.4, 0.8, 1.2, 1.6, 2. , 2.4, 2.8, 3.2, 3.6, 4. ]),\n",
       " <BarContainer object of 10 artists>)"
      ]
     },
     "execution_count": 22,
     "metadata": {},
     "output_type": "execute_result"
    },
    {
     "data": {
      "image/png": "[encoded data removed]",
      "text/plain": [
       "<Figure size 432x288 with 1 Axes>"
      ]
     },
     "metadata": {
      "needs_background": "light"
     },
     "output_type": "display_data"
    }
   ],
   "source": [
    "x=[]\n",
    "for val in df.Location:\n",
    "    if 'Base' in val:\n",
    "        x.append(0)\n",
    "    elif 'Feeder' in val:\n",
    "        x.append(1)\n",
    "    elif 'Left' in val:\n",
    "        x.append(2)\n",
    "    elif 'Right' in val:\n",
    "        x.append(3)\n",
    "    elif 'Tip' in val:\n",
    "        x.append(4)\n",
    "plt.hist(x)"
   ]
  },
  {
   "cell_type": "code",
   "execution_count": 105,
   "id": "9ce4d291",
   "metadata": {},
   "outputs": [],
   "source": [
    "df_old['locval']=x"
   ]
  },
  {
   "cell_type": "code",
   "execution_count": 17,
   "id": "971d3ff0",
   "metadata": {},
   "outputs": [
    {
     "data": {
      "text/plain": [
       "array([2001, 2003, 2005, 2021, 2023, 2027, 2031, 2039, 2043, 2049, 2065,\n",
       "       2067, 2069, 2071, 2073, 2077], dtype=int64)"
      ]
     },
     "execution_count": 17,
     "metadata": {},
     "output_type": "execute_result"
    }
   ],
   "source": [
    "np.unique(df.Mouse)"
   ]
  },
  {
   "cell_type": "code",
   "execution_count": 38,
   "id": "fa13f3d0",
   "metadata": {},
   "outputs": [],
   "source": [
    "for val in np.unique(df.Mouse):\n",
    "    plt.hist(df.locval[df.Mouse==val])\n",
    "    plt.xlim(-.5,4.5)\n",
    "    plt.xticks(ticks = [0,1,2,3,4], labels=np.unique(df.Location))\n",
    "    plt.savefig('../../../{}_hist.png'.format(val))\n",
    "    plt.close()"
   ]
  },
  {
   "cell_type": "code",
   "execution_count": 107,
   "id": "6b3cbbb5",
   "metadata": {},
   "outputs": [],
   "source": [
    "df=df_old[df_old.index<2456]\n",
    "#df=df[df.index>806]"
   ]
  },
  {
   "cell_type": "code",
   "execution_count": 110,
   "id": "51a53e94",
   "metadata": {},
   "outputs": [
    {
     "data": {
      "text/plain": [
       "([<matplotlib.axis.XTick at 0x289faca9bb0>,\n",
       "  <matplotlib.axis.XTick at 0x289faca9b80>,\n",
       "  <matplotlib.axis.XTick at 0x289faca9310>,\n",
       "  <matplotlib.axis.XTick at 0x289fe04aee0>,\n",
       "  <matplotlib.axis.XTick at 0x289fe032550>],\n",
       " [Text(0, 0, 'Base'),\n",
       "  Text(1, 0, 'Feeder'),\n",
       "  Text(2, 0, 'Left'),\n",
       "  Text(3, 0, 'Right'),\n",
       "  Text(4, 0, 'Tip')])"
      ]
     },
     "execution_count": 110,
     "metadata": {},
     "output_type": "execute_result"
    },
    {
     "data": {
      "image/png": "[encoded data removed]",
      "text/plain": [
       "<Figure size 432x288 with 1 Axes>"
      ]
     },
     "metadata": {
      "needs_background": "light"
     },
     "output_type": "display_data"
    }
   ],
   "source": [
    "val=200\n",
    "plt.hist(df_old.locval[df_old.Mouse==val])\n",
    "plt.hist(df.locval[df.Mouse==val])\n",
    "plt.xlim(-.5,4.5)\n",
    "plt.xticks(ticks = [0,1,2,3,4], labels=np.unique(df_old.Location))"
   ]
  },
  {
   "cell_type": "code",
   "execution_count": null,
   "id": "2307419c",
   "metadata": {},
   "outputs": [],
   "source": []
  },
  {
   "cell_type": "code",
   "execution_count": null,
   "id": "0ef276f4",
   "metadata": {},
   "outputs": [],
   "source": []
  },
  {
   "cell_type": "markdown",
   "id": "4ecab717",
   "metadata": {},
   "source": [
    "# TODO next\n",
    "- make this have relative hours. This should help with later aligning events around midnight\n",
    "- get timestamps from hut videos, make into csv\n",
    "- align nearest timestamps, assuming some are lost on either side\n",
    "- calculate concordance\n",
    "\n",
    "\n",
    "\n",
    "- add Alec RFID from feeder\n",
    "- get feeder cam timestamps\n",
    "- align nearest timestamps, assuming some are lost on either side\n",
    "- calculate concordance"
   ]
  },
  {
   "cell_type": "code",
   "execution_count": null,
   "id": "a773ef8f",
   "metadata": {},
   "outputs": [],
   "source": []
  }
 ],
 "metadata": {
  "kernelspec": {
   "display_name": "Python 3 (ipykernel)",
   "language": "python",
   "name": "python3"
  },
  "language_info": {
   "codemirror_mode": {
    "name": "ipython",
    "version": 3
   },
   "file_extension": ".py",
   "mimetype": "text/x-python",
   "name": "python",
   "nbconvert_exporter": "python",
   "pygments_lexer": "ipython3",
   "version": "3.9.7"
  }
 },
 "nbformat": 4,
 "nbformat_minor": 5
}
