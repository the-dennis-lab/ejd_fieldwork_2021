{
 "cells": [
  {
   "cell_type": "markdown",
   "id": "64667447-6bd8-4f82-bcf4-de95b0d0ccb3",
   "metadata": {},
   "source": [
    "# Purpose\n",
    "to parse the text files from the new RFID system around the hut in wedge 4"
   ]
  },
  {
   "cell_type": "markdown",
   "id": "bcecf73e-1840-4f4e-9b95-65437fd11e19",
   "metadata": {},
   "source": [
    "# Imports"
   ]
  },
  {
   "cell_type": "code",
   "execution_count": 1,
   "id": "365a751d-f140-4458-b421-74229ad99cb6",
   "metadata": {},
   "outputs": [],
   "source": [
    "import pandas as pd\n",
    "import matplotlib.pyplot as plt\n",
    "import numpy as np\n",
    "import os, glob, csv, sys"
   ]
  },
  {
   "cell_type": "markdown",
   "id": "80da3ae6",
   "metadata": {},
   "source": [
    "# User defined locations"
   ]
  },
  {
   "cell_type": "code",
   "execution_count": 47,
   "id": "466583bd",
   "metadata": {},
   "outputs": [],
   "source": [
    "fld='/Users/dennise/Desktop/LOGGER/2022_06'\n",
    "txtfile = os.path.join(fld,\"2022_06_17.log\")"
   ]
  },
  {
   "cell_type": "code",
   "execution_count": 41,
   "id": "ccfbc257",
   "metadata": {},
   "outputs": [
    {
     "data": {
      "text/plain": [
       "['2022_06_16.log',\n",
       " '2022_06_17.log',\n",
       " '2022_06_18.log',\n",
       " '2022_06_19.log',\n",
       " '2022_06_20.log',\n",
       " '2022_06_21.log',\n",
       " '2022_06_22.log',\n",
       " '2022_06_23.log',\n",
       " '2022_06_24.log',\n",
       " '2022_06_25.log']"
      ]
     },
     "execution_count": 41,
     "metadata": {},
     "output_type": "execute_result"
    }
   ],
   "source": [
    "os.listdir('/Users/dennise/Desktop/LOGGER/2022_06')"
   ]
  },
  {
   "cell_type": "code",
   "execution_count": null,
   "id": "ca709cbd",
   "metadata": {},
   "outputs": [],
   "source": []
  },
  {
   "cell_type": "markdown",
   "id": "0a1b642e-2a0e-4bab-b994-f1d72125a8c6",
   "metadata": {},
   "source": [
    "# Functions"
   ]
  },
  {
   "cell_type": "code",
   "execution_count": null,
   "id": "983121c6-0642-4a0a-a81b-7594b5f03f49",
   "metadata": {},
   "outputs": [],
   "source": []
  },
  {
   "cell_type": "code",
   "execution_count": null,
   "id": "474a80e7-e39b-440c-b445-57581baf7e48",
   "metadata": {},
   "outputs": [],
   "source": []
  },
  {
   "cell_type": "markdown",
   "id": "2f461c10-811c-4440-aa1c-41ae48a535d9",
   "metadata": {},
   "source": [
    "# Use case"
   ]
  },
  {
   "cell_type": "markdown",
   "id": "5a93cfb8-34b5-4132-a6e1-09b6c70e9f5e",
   "metadata": {},
   "source": [
    "# Procedure"
   ]
  },
  {
   "cell_type": "code",
   "execution_count": 48,
   "id": "efa79a23-0cd4-4da3-8447-66abfadc11bd",
   "metadata": {
    "scrolled": true
   },
   "outputs": [
    {
     "name": "stdout",
     "output_type": "stream",
     "text": [
      "43000130206\n",
      "43000130223\n",
      "43000130232\n",
      "43000130236\n",
      "43000130250\n",
      "43000130280\n",
      "43000130282\n",
      "43000130291\n",
      "43000130324\n",
      "43000130337\n",
      "43000130355\n",
      "43000130399\n",
      "7425\n"
     ]
    }
   ],
   "source": [
    "dates=[]\n",
    "first=[]\n",
    "second=[]\n",
    "third=[]\n",
    "tagvals=[]\n",
    "mvs=[]\n",
    "\n",
    "# import file\n",
    "f = open(txtfile, 'r') \n",
    "for x in f.readlines():\n",
    "    if \"TAG\" in x:\n",
    "        values=[xval.split(' ') for xval in x.split(':')]\n",
    "        dates.append(values[1][2])\n",
    "        first.append(values[1][3])\n",
    "        second.append(values[2][0])\n",
    "        third.append(values[3][0])\n",
    "        tagvals.append(values[3][1])\n",
    "        mvs.append(values[3][2])\n",
    "\n",
    "# want this to be a dataframe\n",
    "df=pd.DataFrame({'dates':dates,'first':first,'second':second,'third':third,'tagvals':tagvals,'mvs':mvs})\n",
    "for val in np.unique(df.tagvals):\n",
    "    print(int(val[4:],base=16)) #missing "
   ]
  },
  {
   "cell_type": "code",
   "execution_count": 50,
   "id": "3f595ddb",
   "metadata": {},
   "outputs": [
    {
     "data": {
      "text/plain": [
       "43000130280"
      ]
     },
     "execution_count": 50,
     "metadata": {},
     "output_type": "execute_result"
    }
   ],
   "source": [
    "int('0A0301EAE8',base=16)"
   ]
  },
  {
   "cell_type": "code",
   "execution_count": 17,
   "id": "13de444c",
   "metadata": {},
   "outputs": [
    {
     "data": {
      "text/html": [
       "<div>\n",
       "<style scoped>\n",
       "    .dataframe tbody tr th:only-of-type {\n",
       "        vertical-align: middle;\n",
       "    }\n",
       "\n",
       "    .dataframe tbody tr th {\n",
       "        vertical-align: top;\n",
       "    }\n",
       "\n",
       "    .dataframe thead th {\n",
       "        text-align: right;\n",
       "    }\n",
       "</style>\n",
       "<table border=\"1\" class=\"dataframe\">\n",
       "  <thead>\n",
       "    <tr style=\"text-align: right;\">\n",
       "      <th></th>\n",
       "      <th>0</th>\n",
       "      <th>1</th>\n",
       "      <th>2</th>\n",
       "      <th>3</th>\n",
       "      <th>4</th>\n",
       "      <th>5</th>\n",
       "      <th>6</th>\n",
       "      <th>7</th>\n",
       "      <th>8</th>\n",
       "      <th>9</th>\n",
       "      <th>...</th>\n",
       "      <th>1894</th>\n",
       "      <th>1895</th>\n",
       "      <th>1896</th>\n",
       "      <th>1897</th>\n",
       "      <th>1898</th>\n",
       "      <th>1899</th>\n",
       "      <th>1900</th>\n",
       "      <th>1901</th>\n",
       "      <th>1902</th>\n",
       "      <th>1903</th>\n",
       "    </tr>\n",
       "  </thead>\n",
       "  <tbody>\n",
       "    <tr>\n",
       "      <th>0</th>\n",
       "      <td>[TAG]</td>\n",
       "      <td>[, 01, 06/24/2022, 23]</td>\n",
       "      <td>[43]</td>\n",
       "      <td>[08.130, 3E7.0000001D01, 741, mV\\n]</td>\n",
       "      <td>None</td>\n",
       "      <td>None</td>\n",
       "      <td>None</td>\n",
       "      <td>None</td>\n",
       "      <td>None</td>\n",
       "      <td>None</td>\n",
       "      <td>...</td>\n",
       "      <td>None</td>\n",
       "      <td>None</td>\n",
       "      <td>None</td>\n",
       "      <td>None</td>\n",
       "      <td>None</td>\n",
       "      <td>None</td>\n",
       "      <td>None</td>\n",
       "      <td>None</td>\n",
       "      <td>None</td>\n",
       "      <td>None</td>\n",
       "    </tr>\n",
       "    <tr>\n",
       "      <th>1</th>\n",
       "      <td>06/24/2022</td>\n",
       "      <td>06/24/2022</td>\n",
       "      <td>06/24/2022</td>\n",
       "      <td>06/24/2022</td>\n",
       "      <td>06/24/2022</td>\n",
       "      <td>06/24/2022</td>\n",
       "      <td>06/24/2022</td>\n",
       "      <td>06/24/2022</td>\n",
       "      <td>06/24/2022</td>\n",
       "      <td>06/24/2022</td>\n",
       "      <td>...</td>\n",
       "      <td>06/24/2022</td>\n",
       "      <td>06/24/2022</td>\n",
       "      <td>06/24/2022</td>\n",
       "      <td>06/24/2022</td>\n",
       "      <td>06/24/2022</td>\n",
       "      <td>06/24/2022</td>\n",
       "      <td>06/24/2022</td>\n",
       "      <td>06/24/2022</td>\n",
       "      <td>06/24/2022</td>\n",
       "      <td>06/24/2022</td>\n",
       "    </tr>\n",
       "    <tr>\n",
       "      <th>2</th>\n",
       "      <td>00</td>\n",
       "      <td>00</td>\n",
       "      <td>00</td>\n",
       "      <td>00</td>\n",
       "      <td>00</td>\n",
       "      <td>00</td>\n",
       "      <td>00</td>\n",
       "      <td>00</td>\n",
       "      <td>00</td>\n",
       "      <td>00</td>\n",
       "      <td>...</td>\n",
       "      <td>22</td>\n",
       "      <td>22</td>\n",
       "      <td>22</td>\n",
       "      <td>22</td>\n",
       "      <td>22</td>\n",
       "      <td>22</td>\n",
       "      <td>23</td>\n",
       "      <td>23</td>\n",
       "      <td>23</td>\n",
       "      <td>23</td>\n",
       "    </tr>\n",
       "    <tr>\n",
       "      <th>3</th>\n",
       "      <td>01</td>\n",
       "      <td>01</td>\n",
       "      <td>01</td>\n",
       "      <td>01</td>\n",
       "      <td>01</td>\n",
       "      <td>01</td>\n",
       "      <td>01</td>\n",
       "      <td>01</td>\n",
       "      <td>01</td>\n",
       "      <td>01</td>\n",
       "      <td>...</td>\n",
       "      <td>41</td>\n",
       "      <td>41</td>\n",
       "      <td>41</td>\n",
       "      <td>41</td>\n",
       "      <td>42</td>\n",
       "      <td>43</td>\n",
       "      <td>13</td>\n",
       "      <td>23</td>\n",
       "      <td>33</td>\n",
       "      <td>43</td>\n",
       "    </tr>\n",
       "    <tr>\n",
       "      <th>4</th>\n",
       "      <td>00.330</td>\n",
       "      <td>00.460</td>\n",
       "      <td>00.520</td>\n",
       "      <td>00.570</td>\n",
       "      <td>00.600</td>\n",
       "      <td>00.640</td>\n",
       "      <td>00.670</td>\n",
       "      <td>00.700</td>\n",
       "      <td>00.730</td>\n",
       "      <td>00.760</td>\n",
       "      <td>...</td>\n",
       "      <td>47.440</td>\n",
       "      <td>47.470</td>\n",
       "      <td>47.500</td>\n",
       "      <td>47.530</td>\n",
       "      <td>01.680</td>\n",
       "      <td>08.190</td>\n",
       "      <td>08.200</td>\n",
       "      <td>08.170</td>\n",
       "      <td>08.170</td>\n",
       "      <td>08.130</td>\n",
       "    </tr>\n",
       "    <tr>\n",
       "      <th>5</th>\n",
       "      <td>384.0F9983D6D7</td>\n",
       "      <td>384.0F9983D6D7</td>\n",
       "      <td>384.0F9983D6D7</td>\n",
       "      <td>384.0F9983D6D7</td>\n",
       "      <td>384.0F9983D6D7</td>\n",
       "      <td>384.0F9983D6D7</td>\n",
       "      <td>384.0F9983D6D7</td>\n",
       "      <td>384.0F9983D6D7</td>\n",
       "      <td>384.0F9983D6D7</td>\n",
       "      <td>384.0F9983D6D7</td>\n",
       "      <td>...</td>\n",
       "      <td>384.0A0301EB33</td>\n",
       "      <td>384.0A0301EB33</td>\n",
       "      <td>384.0A0301EB33</td>\n",
       "      <td>384.0A0301EB33</td>\n",
       "      <td>384.0A0301EB33</td>\n",
       "      <td>3E7.0000001D01</td>\n",
       "      <td>3E7.0000001D01</td>\n",
       "      <td>3E7.0000001D01</td>\n",
       "      <td>3E7.0000001D01</td>\n",
       "      <td>3E7.0000001D01</td>\n",
       "    </tr>\n",
       "    <tr>\n",
       "      <th>6</th>\n",
       "      <td>702</td>\n",
       "      <td>656</td>\n",
       "      <td>665</td>\n",
       "      <td>710</td>\n",
       "      <td>721</td>\n",
       "      <td>719</td>\n",
       "      <td>708</td>\n",
       "      <td>691</td>\n",
       "      <td>694</td>\n",
       "      <td>698</td>\n",
       "      <td>...</td>\n",
       "      <td>722</td>\n",
       "      <td>706</td>\n",
       "      <td>695</td>\n",
       "      <td>659</td>\n",
       "      <td>751</td>\n",
       "      <td>729</td>\n",
       "      <td>742</td>\n",
       "      <td>735</td>\n",
       "      <td>728</td>\n",
       "      <td>741</td>\n",
       "    </tr>\n",
       "  </tbody>\n",
       "</table>\n",
       "<p>7 rows × 1904 columns</p>\n",
       "</div>"
      ],
      "text/plain": [
       "             0                       1               2     \\\n",
       "0           [TAG]  [, 01, 06/24/2022, 23]            [43]   \n",
       "1      06/24/2022              06/24/2022      06/24/2022   \n",
       "2              00                      00              00   \n",
       "3              01                      01              01   \n",
       "4          00.330                  00.460          00.520   \n",
       "5  384.0F9983D6D7          384.0F9983D6D7  384.0F9983D6D7   \n",
       "6             702                     656             665   \n",
       "\n",
       "                                  3               4               5     \\\n",
       "0  [08.130, 3E7.0000001D01, 741, mV\\n]            None            None   \n",
       "1                           06/24/2022      06/24/2022      06/24/2022   \n",
       "2                                   00              00              00   \n",
       "3                                   01              01              01   \n",
       "4                               00.570          00.600          00.640   \n",
       "5                       384.0F9983D6D7  384.0F9983D6D7  384.0F9983D6D7   \n",
       "6                                  710             721             719   \n",
       "\n",
       "             6               7               8               9     ...  \\\n",
       "0            None            None            None            None  ...   \n",
       "1      06/24/2022      06/24/2022      06/24/2022      06/24/2022  ...   \n",
       "2              00              00              00              00  ...   \n",
       "3              01              01              01              01  ...   \n",
       "4          00.670          00.700          00.730          00.760  ...   \n",
       "5  384.0F9983D6D7  384.0F9983D6D7  384.0F9983D6D7  384.0F9983D6D7  ...   \n",
       "6             708             691             694             698  ...   \n",
       "\n",
       "             1894            1895            1896            1897  \\\n",
       "0            None            None            None            None   \n",
       "1      06/24/2022      06/24/2022      06/24/2022      06/24/2022   \n",
       "2              22              22              22              22   \n",
       "3              41              41              41              41   \n",
       "4          47.440          47.470          47.500          47.530   \n",
       "5  384.0A0301EB33  384.0A0301EB33  384.0A0301EB33  384.0A0301EB33   \n",
       "6             722             706             695             659   \n",
       "\n",
       "             1898            1899            1900            1901  \\\n",
       "0            None            None            None            None   \n",
       "1      06/24/2022      06/24/2022      06/24/2022      06/24/2022   \n",
       "2              22              22              23              23   \n",
       "3              42              43              13              23   \n",
       "4          01.680          08.190          08.200          08.170   \n",
       "5  384.0A0301EB33  3E7.0000001D01  3E7.0000001D01  3E7.0000001D01   \n",
       "6             751             729             742             735   \n",
       "\n",
       "             1902            1903  \n",
       "0            None            None  \n",
       "1      06/24/2022      06/24/2022  \n",
       "2              23              23  \n",
       "3              33              43  \n",
       "4          08.170          08.130  \n",
       "5  3E7.0000001D01  3E7.0000001D01  \n",
       "6             728             741  \n",
       "\n",
       "[7 rows x 1904 columns]"
      ]
     },
     "execution_count": 17,
     "metadata": {},
     "output_type": "execute_result"
    }
   ],
   "source": [
    "pd.DataFrame([dates,first,second,third,tagvals,mvs],columns=[\"\"])"
   ]
  },
  {
   "cell_type": "code",
   "execution_count": 15,
   "id": "15fbbcde",
   "metadata": {},
   "outputs": [
    {
     "name": "stdout",
     "output_type": "stream",
     "text": [
      "06/24/2022\n",
      "00\n",
      "01\n",
      "00.330\n",
      "384.0F9983D6D7\n",
      "702\n"
     ]
    }
   ],
   "source": []
  },
  {
   "cell_type": "code",
   "execution_count": null,
   "id": "b5ba7670",
   "metadata": {},
   "outputs": [],
   "source": []
  }
 ],
 "metadata": {
  "kernelspec": {
   "display_name": "Python 3 (ipykernel)",
   "language": "python",
   "name": "python3"
  },
  "language_info": {
   "codemirror_mode": {
    "name": "ipython",
    "version": 3
   },
   "file_extension": ".py",
   "mimetype": "text/x-python",
   "name": "python",
   "nbconvert_exporter": "python",
   "pygments_lexer": "ipython3",
   "version": "3.9.7"
  }
 },
 "nbformat": 4,
 "nbformat_minor": 5
}
