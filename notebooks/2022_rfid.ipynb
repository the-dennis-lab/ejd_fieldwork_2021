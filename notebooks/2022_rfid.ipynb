{
 "cells": [
  {
   "cell_type": "markdown",
   "id": "64667447-6bd8-4f82-bcf4-de95b0d0ccb3",
   "metadata": {},
   "source": [
    "# Purpose\n",
    "to parse the text files from the new RFID system around the hut in wedge 4"
   ]
  },
  {
   "cell_type": "markdown",
   "id": "bcecf73e-1840-4f4e-9b95-65437fd11e19",
   "metadata": {},
   "source": [
    "# Imports"
   ]
  },
  {
   "cell_type": "code",
   "execution_count": 1,
   "id": "365a751d-f140-4458-b421-74229ad99cb6",
   "metadata": {},
   "outputs": [],
   "source": [
    "import pandas as pd\n",
    "import matplotlib.pyplot as plt\n",
    "import numpy as np\n",
    "import os, glob, csv, sys"
   ]
  },
  {
   "cell_type": "markdown",
   "id": "80da3ae6",
   "metadata": {},
   "source": [
    "# User defined locations"
   ]
  },
  {
   "cell_type": "code",
   "execution_count": 8,
   "id": "466583bd",
   "metadata": {},
   "outputs": [
    {
     "data": {
      "text/plain": [
       "['/Users/dennise/Desktop/LOGGER\\\\2022_06\\\\2022_06_16.log',\n",
       " '/Users/dennise/Desktop/LOGGER\\\\2022_06\\\\2022_06_17.log',\n",
       " '/Users/dennise/Desktop/LOGGER\\\\2022_06\\\\2022_06_18.log',\n",
       " '/Users/dennise/Desktop/LOGGER\\\\2022_06\\\\2022_06_19.log',\n",
       " '/Users/dennise/Desktop/LOGGER\\\\2022_06\\\\2022_06_20.log',\n",
       " '/Users/dennise/Desktop/LOGGER\\\\2022_06\\\\2022_06_21.log',\n",
       " '/Users/dennise/Desktop/LOGGER\\\\2022_06\\\\2022_06_22.log',\n",
       " '/Users/dennise/Desktop/LOGGER\\\\2022_06\\\\2022_06_23.log',\n",
       " '/Users/dennise/Desktop/LOGGER\\\\2022_06\\\\2022_06_24.log',\n",
       " '/Users/dennise/Desktop/LOGGER\\\\2022_06\\\\2022_06_25.log',\n",
       " '/Users/dennise/Desktop/LOGGER\\\\2022_06\\\\2022_06_26.log',\n",
       " '/Users/dennise/Desktop/LOGGER\\\\2022_06\\\\2022_06_27.log',\n",
       " '/Users/dennise/Desktop/LOGGER\\\\2022_06\\\\2022_06_28.log',\n",
       " '/Users/dennise/Desktop/LOGGER\\\\2022_06\\\\2022_06_29.log',\n",
       " '/Users/dennise/Desktop/LOGGER\\\\2022_06\\\\2022_06_30.log',\n",
       " '/Users/dennise/Desktop/LOGGER\\\\2022_07\\\\2022_07_01.log',\n",
       " '/Users/dennise/Desktop/LOGGER\\\\2022_07\\\\2022_07_02.log',\n",
       " '/Users/dennise/Desktop/LOGGER\\\\2022_07\\\\2022_07_03.log',\n",
       " '/Users/dennise/Desktop/LOGGER\\\\2022_07\\\\2022_07_04.log',\n",
       " '/Users/dennise/Desktop/LOGGER\\\\2022_07\\\\2022_07_05.log',\n",
       " '/Users/dennise/Desktop/LOGGER\\\\2022_07\\\\2022_07_06.log',\n",
       " '/Users/dennise/Desktop/LOGGER\\\\2022_07\\\\2022_07_07.log',\n",
       " '/Users/dennise/Desktop/LOGGER\\\\2022_07\\\\2022_07_08.log',\n",
       " '/Users/dennise/Desktop/LOGGER\\\\2022_07\\\\2022_07_09.log',\n",
       " '/Users/dennise/Desktop/LOGGER\\\\2022_07\\\\2022_07_10.log',\n",
       " '/Users/dennise/Desktop/LOGGER\\\\2022_07\\\\2022_07_11.log',\n",
       " '/Users/dennise/Desktop/LOGGER\\\\2022_07\\\\2022_07_12.log',\n",
       " '/Users/dennise/Desktop/LOGGER\\\\2022_07\\\\2022_07_13.log',\n",
       " '/Users/dennise/Desktop/LOGGER\\\\2022_07\\\\2022_07_14.log',\n",
       " '/Users/dennise/Desktop/LOGGER\\\\2022_07\\\\2022_07_15.log',\n",
       " '/Users/dennise/Desktop/LOGGER\\\\2022_07\\\\2022_07_16.log',\n",
       " '/Users/dennise/Desktop/LOGGER\\\\2022_07\\\\2022_07_17.log',\n",
       " '/Users/dennise/Desktop/LOGGER\\\\2022_07\\\\2022_07_18.log',\n",
       " '/Users/dennise/Desktop/LOGGER\\\\2022_07\\\\2022_07_19.log',\n",
       " '/Users/dennise/Desktop/LOGGER\\\\2022_07\\\\2022_07_20.log',\n",
       " '/Users/dennise/Desktop/LOGGER\\\\2022_07\\\\2022_07_21.log',\n",
       " '/Users/dennise/Desktop/LOGGER\\\\2022_07\\\\2022_07_22.log',\n",
       " '/Users/dennise/Desktop/LOGGER\\\\2022_07\\\\2022_07_23.log',\n",
       " '/Users/dennise/Desktop/LOGGER\\\\2022_07\\\\2022_07_24.log',\n",
       " '/Users/dennise/Desktop/LOGGER\\\\2022_07\\\\2022_07_25.log',\n",
       " '/Users/dennise/Desktop/LOGGER\\\\2022_07\\\\2022_07_26.log',\n",
       " '/Users/dennise/Desktop/LOGGER\\\\2022_07\\\\2022_07_27.log']"
      ]
     },
     "execution_count": 8,
     "metadata": {},
     "output_type": "execute_result"
    }
   ],
   "source": [
    "listoffiles=[]\n",
    "fld='/Users/dennise/Desktop/LOGGER'\n",
    "for folder in os.listdir(fld):\n",
    "    if len(folder) > 2:\n",
    "        folder_path = os.path.join(fld,folder)\n",
    "        for file_name in os.listdir(folder_path):\n",
    "            listoffiles.append(os.path.join(folder_path,file_name))\n",
    "listoffiles"
   ]
  },
  {
   "cell_type": "code",
   "execution_count": 10,
   "id": "ceee22ea",
   "metadata": {},
   "outputs": [
    {
     "data": {
      "text/plain": [
       "'/Users/dennise/Desktop/LOGGER\\\\2022_06\\\\2022_06_16.log'"
      ]
     },
     "execution_count": 10,
     "metadata": {},
     "output_type": "execute_result"
    }
   ],
   "source": [
    "txtfile=listoffiles[0]\n",
    "txtfile"
   ]
  },
  {
   "cell_type": "markdown",
   "id": "0a1b642e-2a0e-4bab-b994-f1d72125a8c6",
   "metadata": {},
   "source": [
    "# Functions"
   ]
  },
  {
   "cell_type": "code",
   "execution_count": 18,
   "id": "983121c6-0642-4a0a-a81b-7594b5f03f49",
   "metadata": {},
   "outputs": [
    {
     "name": "stdout",
     "output_type": "stream",
     "text": [
      "0\n",
      "1\n",
      "2\n",
      "3\n",
      "4\n",
      "5\n",
      "6\n",
      "7\n",
      "8\n",
      "9\n",
      "10\n",
      "11\n",
      "12\n",
      "13\n",
      "14\n",
      "15\n",
      "16\n",
      "17\n",
      "18\n",
      "19\n",
      "20\n",
      "21\n",
      "22\n",
      "23\n",
      "24\n",
      "25\n",
      "26\n",
      "27\n",
      "28\n",
      "29\n",
      "30\n",
      "31\n",
      "32\n",
      "33\n",
      "34\n",
      "35\n",
      "36\n",
      "37\n",
      "38\n",
      "39\n",
      "40\n",
      "41\n"
     ]
    }
   ],
   "source": [
    "x=-1\n",
    "for txtfile in listoffiles:\n",
    "    x+=1\n",
    "    if x==0:\n",
    "        df_alldata = get_txtfile_contents(txtfile)\n",
    "    else:\n",
    "        df = get_txtfile_contents(txtfile)\n",
    "        df_alldata = pd.concat([df_alldata,df],ignore_index=True)\n",
    "    print(x)"
   ]
  },
  {
   "cell_type": "code",
   "execution_count": 19,
   "id": "474a80e7-e39b-440c-b445-57581baf7e48",
   "metadata": {},
   "outputs": [],
   "source": [
    "df_alldata.to_csv('/Users/dennise/Desktop/2022_RFID_hut_data.csv')"
   ]
  },
  {
   "cell_type": "code",
   "execution_count": 22,
   "id": "ad632c63",
   "metadata": {},
   "outputs": [
    {
     "data": {
      "text/plain": [
       "array([43000130206, 43000130217, 43000130223, 43000130232, 43000130236,\n",
       "       43000130250, 43000130258, 43000130280, 43000130282, 43000130291,\n",
       "       43000130324, 43000130337, 43000130345, 43000130355, 43000130357,\n",
       "       43000130359, 43000130399, 67000063703], dtype=object)"
      ]
     },
     "execution_count": 22,
     "metadata": {},
     "output_type": "execute_result"
    }
   ],
   "source": [
    "unique_tags = np.unique(df_alldata.converted_tags)\n",
    "unique_tags[1:]"
   ]
  },
  {
   "cell_type": "code",
   "execution_count": null,
   "id": "0b92ce77",
   "metadata": {},
   "outputs": [],
   "source": [
    "for animal in unique_tags[1:]:\n",
    "    "
   ]
  },
  {
   "cell_type": "code",
   "execution_count": 37,
   "id": "8b7c82d2",
   "metadata": {},
   "outputs": [
    {
     "name": "stdout",
     "output_type": "stream",
     "text": [
      "7425\n",
      "07/27/2022\n",
      "   \n",
      "43000130206\n",
      "06/17/2022\n",
      "   \n",
      "43000130217\n",
      "06/16/2022\n",
      "   \n",
      "43000130223\n",
      "06/26/2022\n",
      "   \n",
      "43000130232\n",
      "07/26/2022\n",
      "   \n",
      "43000130236\n",
      "06/17/2022\n",
      "   \n",
      "43000130250\n",
      "07/26/2022\n",
      "   \n",
      "43000130258\n",
      "06/16/2022\n",
      "   \n",
      "43000130280\n",
      "06/22/2022\n",
      "   \n",
      "43000130282\n",
      "06/17/2022\n",
      "   \n",
      "43000130291\n",
      "07/27/2022\n",
      "   \n",
      "43000130324\n",
      "07/26/2022\n",
      "   \n",
      "43000130337\n",
      "07/26/2022\n",
      "   \n",
      "43000130345\n",
      "07/26/2022\n",
      "   \n",
      "43000130355\n",
      "07/26/2022\n",
      "   \n",
      "43000130357\n",
      "06/16/2022\n",
      "   \n",
      "43000130359\n",
      "06/16/2022\n",
      "   \n",
      "43000130399\n",
      "07/26/2022\n",
      "   \n",
      "67000063703\n",
      "07/26/2022\n",
      "   \n"
     ]
    }
   ],
   "source": [
    "for animal in unique_tags:\n",
    "    subdf=df_alldata[df_alldata.converted_tags==animal]\n",
    "    print(animal)\n",
    "    print(list(subdf.dates)[-1])\n",
    "    print('   ')"
   ]
  },
  {
   "cell_type": "markdown",
   "id": "2f461c10-811c-4440-aa1c-41ae48a535d9",
   "metadata": {},
   "source": [
    "# Use case"
   ]
  },
  {
   "cell_type": "markdown",
   "id": "5a93cfb8-34b5-4132-a6e1-09b6c70e9f5e",
   "metadata": {},
   "source": [
    "# Procedure"
   ]
  },
  {
   "cell_type": "code",
   "execution_count": 17,
   "id": "efa79a23-0cd4-4da3-8447-66abfadc11bd",
   "metadata": {
    "scrolled": true
   },
   "outputs": [],
   "source": [
    "def get_txtfile_contents(txtfile):\n",
    "    dates=[]\n",
    "    first=[]\n",
    "    second=[]\n",
    "    third=[]\n",
    "    tagvals=[]\n",
    "    mvs=[]\n",
    "\n",
    "    # import file\n",
    "    f = open(txtfile, 'r') \n",
    "    for x in f.readlines():\n",
    "        if \"TAG\" in x:\n",
    "            values=[xval.split(' ') for xval in x.split(':')]\n",
    "            dates.append(values[1][2])\n",
    "            first.append(values[1][3])\n",
    "            second.append(values[2][0])\n",
    "            third.append(values[3][0])\n",
    "            tagvals.append(values[3][1])\n",
    "            mvs.append(values[3][2])\n",
    "\n",
    "    # want this to be a dataframe\n",
    "    df=pd.DataFrame({'dates':dates,'hour':first,'minute':second,'second':third,'tagvals':tagvals,'mvs':mvs})\n",
    "    df['converted_tags'] = df.tagvals\n",
    "    for i in np.arange(0,len(df.tagvals)):\n",
    "        val=df.converted_tags[i]\n",
    "        df.converted_tags[i]=int(val[4:],base=16)\n",
    "    return df"
   ]
  },
  {
   "cell_type": "code",
   "execution_count": 15,
   "id": "13de444c",
   "metadata": {},
   "outputs": [],
   "source": [
    "df.to_csv('/Users/dennise/Desktop/2022_hut_RFID_data.csv')"
   ]
  },
  {
   "cell_type": "code",
   "execution_count": 15,
   "id": "15fbbcde",
   "metadata": {},
   "outputs": [
    {
     "name": "stdout",
     "output_type": "stream",
     "text": [
      "06/24/2022\n",
      "00\n",
      "01\n",
      "00.330\n",
      "384.0F9983D6D7\n",
      "702\n"
     ]
    }
   ],
   "source": []
  },
  {
   "cell_type": "code",
   "execution_count": null,
   "id": "b5ba7670",
   "metadata": {},
   "outputs": [],
   "source": []
  }
 ],
 "metadata": {
  "kernelspec": {
   "display_name": "Python 3 (ipykernel)",
   "language": "python",
   "name": "python3"
  },
  "language_info": {
   "codemirror_mode": {
    "name": "ipython",
    "version": 3
   },
   "file_extension": ".py",
   "mimetype": "text/x-python",
   "name": "python",
   "nbconvert_exporter": "python",
   "pygments_lexer": "ipython3",
   "version": "3.9.7"
  }
 },
 "nbformat": 4,
 "nbformat_minor": 5
}
