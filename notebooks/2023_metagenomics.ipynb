{
 "cells": [
  {
   "cell_type": "markdown",
   "id": "64667447-6bd8-4f82-bcf4-de95b0d0ccb3",
   "metadata": {},
   "source": [
    "# Purpose"
   ]
  },
  {
   "cell_type": "markdown",
   "id": "bcecf73e-1840-4f4e-9b95-65437fd11e19",
   "metadata": {},
   "source": [
    "# Imports"
   ]
  },
  {
   "cell_type": "code",
   "execution_count": 56,
   "id": "365a751d-f140-4458-b421-74229ad99cb6",
   "metadata": {},
   "outputs": [],
   "source": [
    "import numpy as np\n",
    "import pandas as pd\n",
    "import os, csv, glob\n",
    "import matplotlib.pyplot as plt"
   ]
  },
  {
   "cell_type": "code",
   "execution_count": 179,
   "id": "f398fbef",
   "metadata": {},
   "outputs": [],
   "source": [
    "from Bio.Blast import NCBIWWW\n",
    "from Bio import SeqIO \n",
    "from Bio.Blast import NCBIXML"
   ]
  },
  {
   "cell_type": "markdown",
   "id": "0a1b642e-2a0e-4bab-b994-f1d72125a8c6",
   "metadata": {},
   "source": [
    "# Functions"
   ]
  },
  {
   "cell_type": "code",
   "execution_count": null,
   "id": "983121c6-0642-4a0a-a81b-7594b5f03f49",
   "metadata": {},
   "outputs": [],
   "source": []
  },
  {
   "cell_type": "code",
   "execution_count": 128,
   "id": "474a80e7-e39b-440c-b445-57581baf7e48",
   "metadata": {},
   "outputs": [
    {
     "data": {
      "text/plain": [
       "['plate1_12s_18_2_out.csv',\n",
       " 'plate1_12s_21_1_out.csv',\n",
       " 'plate23_12s_13_1_out.csv',\n",
       " 'plate23_12s_1_2_out.csv',\n",
       " 'plate23_12s_23_2_out.csv',\n",
       " 'plate1_12s_6_2_out.csv',\n",
       " 'plate23_12s_11_1_out.csv',\n",
       " 'plate23_12s_14_2_out.csv',\n",
       " 'plate1_12s_20_2_out.csv',\n",
       " 'plate1_12s_15_2_out.csv',\n",
       " 'plate1_12s_6_1_out.csv',\n",
       " 'plate23_12s_5_1_out.csv',\n",
       " 'plate1_12s_2_1_out.csv',\n",
       " 'plate23_12s_9_2_out.csv',\n",
       " 'plate1_12s_16_2_out.csv',\n",
       " 'plate1_12s_2_2_out.csv',\n",
       " 'plate1_12s_4_1_out.csv',\n",
       " 'plate23_12s_7_2_out.csv',\n",
       " 'plate1_12s_19_2_out.csv',\n",
       " 'plate1_12s_23_2_out.csv',\n",
       " 'plate23_12s_10_1_out.csv',\n",
       " 'plate23_12s_1_1_out.csv',\n",
       " 'plate1_12s_14_2_out.csv',\n",
       " 'plate23_12s_19_1_out.csv',\n",
       " 'plate1_12s_13_1_out.csv',\n",
       " 'plate23_12s_4_2_out.csv',\n",
       " 'plate1_12s_18_1_out.csv',\n",
       " 'plate1_12s_21_2_out.csv',\n",
       " 'plate1_12s_17_2_out.csv',\n",
       " 'plate1_12s_23_1_out.csv',\n",
       " 'plate1_12s_22_2_out.csv',\n",
       " 'plate23_12s_20_1_out.csv',\n",
       " 'plate23_12s_15_1_out.csv',\n",
       " 'plate1_12s_5_2_out.csv',\n",
       " 'plate23_12s_19_2_out.csv',\n",
       " 'plate1_12s_8_2_out.csv',\n",
       " 'plate23_12s_12_1_out.csv',\n",
       " 'plate23_12s_23_1_out.csv',\n",
       " 'plate1_12s_7_2_out.csv',\n",
       " 'plate23_12s_14_1_out.csv',\n",
       " 'plate1_12s_7_1_out.csv',\n",
       " 'plate1_12s_8_1_out.csv',\n",
       " 'plate1_12s_12_2_out.csv',\n",
       " 'plate23_12s_21_1_out.csv',\n",
       " 'plate1_12s_9_2_out.csv',\n",
       " 'plate23_12s_3_2_out.csv',\n",
       " 'plate1_12s_22_1_out.csv',\n",
       " 'plate1_12s_1_2_out.csv',\n",
       " 'plate1_12s_16_1_out.csv',\n",
       " 'plate23_12s_2_2_out.csv',\n",
       " 'plate1_12s_5_1_out.csv',\n",
       " 'plate23_12s_10_2_out.csv',\n",
       " 'plate23_12s_18_2_out.csv',\n",
       " 'plate23_12s_21_2_out.csv',\n",
       " 'plate23_12s_22_2_out.csv',\n",
       " 'plate1_12s_1_1_out.csv',\n",
       " 'plate23_12s_3_1_out.csv',\n",
       " 'plate1_12s_10_1_out.csv',\n",
       " 'plate1_12s_15_1_out.csv',\n",
       " 'plate23_12s_6_1_out.csv',\n",
       " 'plate23_12s_12_2_out.csv',\n",
       " 'plate1_12s_17_1_out.csv',\n",
       " 'plate23_12s_13_2_out.csv',\n",
       " 'plate23_12s_20_2_out.csv',\n",
       " 'plate23_12s_18_1_out.csv',\n",
       " 'plate23_12s_7_1_out.csv',\n",
       " 'plate1_12s_14_1_out.csv',\n",
       " 'plate23_12s_4_1_out.csv',\n",
       " 'plate23_12s_6_2_out.csv',\n",
       " 'plate23_12s_8_1_out.csv',\n",
       " 'plate23_12s_8_2_out.csv',\n",
       " 'plate23_12s_9_1_out.csv',\n",
       " 'plate1_12s_11_1_out.csv',\n",
       " 'plate23_12s_5_2_out.csv',\n",
       " 'plate23_12s_15_2_out.csv',\n",
       " 'plate1_12s_9_1_out.csv',\n",
       " 'plate1_12s_11_2_out.csv',\n",
       " 'plate1_12s_3_2_out.csv',\n",
       " 'plate23_12s_22_1_out.csv',\n",
       " 'plate23_12s_17_1_out.csv',\n",
       " 'plate1_12s_10_2_out.csv',\n",
       " 'plate1_12s_13_2_out.csv',\n",
       " 'plate1_12s_3_1_out.csv',\n",
       " 'plate1_12s_20_1_out.csv',\n",
       " 'plate1_12s_4_2_out.csv',\n",
       " 'plate23_12s_17_2_out.csv',\n",
       " 'plate23_12s_11_2_out.csv',\n",
       " 'plate1_12s_12_1_out.csv',\n",
       " 'plate23_12s_16_1_out.csv',\n",
       " 'plate1_12s_19_1_out.csv',\n",
       " 'plate23_12s_2_1_out.csv',\n",
       " 'plate23_12s_16_2_out.csv']"
      ]
     },
     "execution_count": 128,
     "metadata": {},
     "output_type": "execute_result"
    }
   ],
   "source": [
    "os.listdir('/home/dennislab2/Desktop/reads_out/')"
   ]
  },
  {
   "cell_type": "markdown",
   "id": "2f461c10-811c-4440-aa1c-41ae48a535d9",
   "metadata": {},
   "source": [
    "# Use case"
   ]
  },
  {
   "cell_type": "markdown",
   "id": "5a93cfb8-34b5-4132-a6e1-09b6c70e9f5e",
   "metadata": {},
   "source": [
    "# Procedure"
   ]
  },
  {
   "cell_type": "code",
   "execution_count": 129,
   "id": "efa79a23-0cd4-4da3-8447-66abfadc11bd",
   "metadata": {},
   "outputs": [
    {
     "data": {
      "text/plain": [
       "['plate1_12s_18_2_out.csv',\n",
       " 'plate1_12s_21_1_out.csv',\n",
       " 'plate23_12s_13_1_out.csv',\n",
       " 'plate23_12s_1_2_out.csv',\n",
       " 'plate23_12s_23_2_out.csv',\n",
       " 'plate1_12s_6_2_out.csv',\n",
       " 'plate23_12s_11_1_out.csv',\n",
       " 'plate23_12s_14_2_out.csv',\n",
       " 'plate1_12s_20_2_out.csv',\n",
       " 'plate1_12s_15_2_out.csv',\n",
       " 'plate1_12s_6_1_out.csv',\n",
       " 'plate23_12s_5_1_out.csv',\n",
       " 'plate1_12s_2_1_out.csv',\n",
       " 'plate23_12s_9_2_out.csv',\n",
       " 'plate1_12s_16_2_out.csv',\n",
       " 'plate1_12s_2_2_out.csv',\n",
       " 'plate1_12s_4_1_out.csv',\n",
       " 'plate23_12s_7_2_out.csv',\n",
       " 'plate1_12s_19_2_out.csv',\n",
       " 'plate1_12s_23_2_out.csv',\n",
       " 'plate23_12s_10_1_out.csv',\n",
       " 'plate23_12s_1_1_out.csv',\n",
       " 'plate1_12s_14_2_out.csv',\n",
       " 'plate23_12s_19_1_out.csv',\n",
       " 'plate1_12s_13_1_out.csv',\n",
       " 'plate23_12s_4_2_out.csv',\n",
       " 'plate1_12s_18_1_out.csv',\n",
       " 'plate1_12s_21_2_out.csv',\n",
       " 'plate1_12s_17_2_out.csv',\n",
       " 'plate1_12s_23_1_out.csv',\n",
       " 'plate1_12s_22_2_out.csv',\n",
       " 'plate23_12s_20_1_out.csv',\n",
       " 'plate23_12s_15_1_out.csv',\n",
       " 'plate1_12s_5_2_out.csv',\n",
       " 'plate23_12s_19_2_out.csv',\n",
       " 'plate1_12s_8_2_out.csv',\n",
       " 'plate23_12s_12_1_out.csv',\n",
       " 'plate23_12s_23_1_out.csv',\n",
       " 'plate1_12s_7_2_out.csv',\n",
       " 'plate23_12s_14_1_out.csv',\n",
       " 'plate1_12s_7_1_out.csv',\n",
       " 'plate1_12s_8_1_out.csv',\n",
       " 'plate1_12s_12_2_out.csv',\n",
       " 'plate23_12s_21_1_out.csv',\n",
       " 'plate1_12s_9_2_out.csv',\n",
       " 'plate23_12s_3_2_out.csv',\n",
       " 'plate1_12s_22_1_out.csv',\n",
       " 'plate1_12s_1_2_out.csv',\n",
       " 'plate1_12s_16_1_out.csv',\n",
       " 'plate23_12s_2_2_out.csv',\n",
       " 'plate1_12s_5_1_out.csv',\n",
       " 'plate23_12s_10_2_out.csv',\n",
       " 'plate23_12s_18_2_out.csv',\n",
       " 'plate23_12s_21_2_out.csv',\n",
       " 'plate23_12s_22_2_out.csv',\n",
       " 'plate1_12s_1_1_out.csv',\n",
       " 'plate23_12s_3_1_out.csv',\n",
       " 'plate1_12s_10_1_out.csv',\n",
       " 'plate1_12s_15_1_out.csv',\n",
       " 'plate23_12s_6_1_out.csv',\n",
       " 'plate23_12s_12_2_out.csv',\n",
       " 'plate1_12s_17_1_out.csv',\n",
       " 'plate23_12s_13_2_out.csv',\n",
       " 'plate23_12s_20_2_out.csv',\n",
       " 'plate23_12s_18_1_out.csv',\n",
       " 'plate23_12s_7_1_out.csv',\n",
       " 'plate1_12s_14_1_out.csv',\n",
       " 'plate23_12s_4_1_out.csv',\n",
       " 'plate23_12s_6_2_out.csv',\n",
       " 'plate23_12s_8_1_out.csv',\n",
       " 'plate23_12s_8_2_out.csv',\n",
       " 'plate23_12s_9_1_out.csv',\n",
       " 'plate1_12s_11_1_out.csv',\n",
       " 'plate23_12s_5_2_out.csv',\n",
       " 'plate23_12s_15_2_out.csv',\n",
       " 'plate1_12s_9_1_out.csv',\n",
       " 'plate1_12s_11_2_out.csv',\n",
       " 'plate1_12s_3_2_out.csv',\n",
       " 'plate23_12s_22_1_out.csv',\n",
       " 'plate23_12s_17_1_out.csv',\n",
       " 'plate1_12s_10_2_out.csv',\n",
       " 'plate1_12s_13_2_out.csv',\n",
       " 'plate1_12s_3_1_out.csv',\n",
       " 'plate1_12s_20_1_out.csv',\n",
       " 'plate1_12s_4_2_out.csv',\n",
       " 'plate23_12s_17_2_out.csv',\n",
       " 'plate23_12s_11_2_out.csv',\n",
       " 'plate1_12s_12_1_out.csv',\n",
       " 'plate23_12s_16_1_out.csv',\n",
       " 'plate1_12s_19_1_out.csv',\n",
       " 'plate23_12s_2_1_out.csv',\n",
       " 'plate23_12s_16_2_out.csv']"
      ]
     },
     "execution_count": 129,
     "metadata": {},
     "output_type": "execute_result"
    }
   ],
   "source": [
    "fld = '/home/dennislab2/Desktop/reads_out/'\n",
    "os.listdir(fld)"
   ]
  },
  {
   "cell_type": "code",
   "execution_count": 59,
   "id": "119bf522",
   "metadata": {},
   "outputs": [
    {
     "name": "stdout",
     "output_type": "stream",
     "text": [
      "/home/dennislab2/Desktop/reads_out/plate23_12s_1_2_out.csv\n"
     ]
    },
    {
     "data": {
      "text/html": [
       "<div>\n",
       "<style scoped>\n",
       "    .dataframe tbody tr th:only-of-type {\n",
       "        vertical-align: middle;\n",
       "    }\n",
       "\n",
       "    .dataframe tbody tr th {\n",
       "        vertical-align: top;\n",
       "    }\n",
       "\n",
       "    .dataframe thead th {\n",
       "        text-align: right;\n",
       "    }\n",
       "</style>\n",
       "<table border=\"1\" class=\"dataframe\">\n",
       "  <thead>\n",
       "    <tr style=\"text-align: right;\">\n",
       "      <th></th>\n",
       "      <th>TAXID</th>\n",
       "      <th>BEST_MATCH_IDS</th>\n",
       "      <th>ID</th>\n",
       "      <th>ID_STATUS</th>\n",
       "      <th>NUC_SEQ</th>\n",
       "      <th>COUNT</th>\n",
       "      <th>DEFINITION</th>\n",
       "      <th>SCIENTIFIC_NAME</th>\n",
       "      <th>BEST_MATCH_TAXIDS</th>\n",
       "      <th>BEST_IDENTITY</th>\n",
       "      <th>QUALITY</th>\n",
       "    </tr>\n",
       "  </thead>\n",
       "  <tbody>\n",
       "    <tr>\n",
       "      <th>0</th>\n",
       "      <td>None</td>\n",
       "      <td>NaN</td>\n",
       "      <td>MN00399:128:000H5JLCJ:1:11101:6261:1084</td>\n",
       "      <td>False</td>\n",
       "      <td>aaactnggattagataccntattatnctnagcnntanncntanann...</td>\n",
       "      <td>1</td>\n",
       "      <td>2:N:0:TTACCGAC+CGTCTTCG</td>\n",
       "      <td>NaN</td>\n",
       "      <td>NaN</td>\n",
       "      <td>0.0</td>\n",
       "      <td>[37, 37, 37, 37, 37, 2, 37, 37, 37, 37, 37, 37...</td>\n",
       "    </tr>\n",
       "    <tr>\n",
       "      <th>1</th>\n",
       "      <td>None</td>\n",
       "      <td>NaN</td>\n",
       "      <td>MN00399:128:000H5JLCJ:1:11101:22469:1090</td>\n",
       "      <td>False</td>\n",
       "      <td>aaactnggattagataccntattatnctnagcnntanncntanatn...</td>\n",
       "      <td>1</td>\n",
       "      <td>2:N:0:TTACCGAC+CGTATTCG</td>\n",
       "      <td>NaN</td>\n",
       "      <td>NaN</td>\n",
       "      <td>0.0</td>\n",
       "      <td>[32, 37, 37, 37, 37, 2, 37, 37, 37, 37, 37, 37...</td>\n",
       "    </tr>\n",
       "    <tr>\n",
       "      <th>2</th>\n",
       "      <td>None</td>\n",
       "      <td>NaN</td>\n",
       "      <td>MN00399:128:000H5JLCJ:1:11101:8016:1092</td>\n",
       "      <td>False</td>\n",
       "      <td>aaactnggattagataccntattatnctnagcnntanncntanatn...</td>\n",
       "      <td>1</td>\n",
       "      <td>2:N:0:TTACCGAC+CGTATTCG</td>\n",
       "      <td>NaN</td>\n",
       "      <td>NaN</td>\n",
       "      <td>0.0</td>\n",
       "      <td>[37, 37, 37, 37, 37, 2, 14, 37, 37, 37, 37, 37...</td>\n",
       "    </tr>\n",
       "    <tr>\n",
       "      <th>3</th>\n",
       "      <td>None</td>\n",
       "      <td>NaN</td>\n",
       "      <td>MN00399:128:000H5JLCJ:1:11101:10413:1093</td>\n",
       "      <td>False</td>\n",
       "      <td>agagcnacgggcgatgtgngcgtacntcnttgnncanntnaantan...</td>\n",
       "      <td>1</td>\n",
       "      <td>2:N:0:TTACCGAC+AGTATTCG</td>\n",
       "      <td>NaN</td>\n",
       "      <td>NaN</td>\n",
       "      <td>0.0</td>\n",
       "      <td>[37, 37, 37, 37, 37, 2, 37, 37, 37, 37, 37, 37...</td>\n",
       "    </tr>\n",
       "    <tr>\n",
       "      <th>4</th>\n",
       "      <td>None</td>\n",
       "      <td>NaN</td>\n",
       "      <td>MN00399:128:000H5JLCJ:1:11101:21982:1094</td>\n",
       "      <td>False</td>\n",
       "      <td>agagcnacgggcgatgtgngcgtacntcattgnncanntnaantan...</td>\n",
       "      <td>1</td>\n",
       "      <td>2:N:0:TTACCGAC+CGTATTCG</td>\n",
       "      <td>NaN</td>\n",
       "      <td>NaN</td>\n",
       "      <td>0.0</td>\n",
       "      <td>[32, 37, 37, 37, 37, 2, 37, 37, 37, 37, 37, 37...</td>\n",
       "    </tr>\n",
       "    <tr>\n",
       "      <th>...</th>\n",
       "      <td>...</td>\n",
       "      <td>...</td>\n",
       "      <td>...</td>\n",
       "      <td>...</td>\n",
       "      <td>...</td>\n",
       "      <td>...</td>\n",
       "      <td>...</td>\n",
       "      <td>...</td>\n",
       "      <td>...</td>\n",
       "      <td>...</td>\n",
       "      <td>...</td>\n",
       "    </tr>\n",
       "    <tr>\n",
       "      <th>166234</th>\n",
       "      <td>None</td>\n",
       "      <td>NaN</td>\n",
       "      <td>MN00399:128:000H5JLCJ:1:23104:26302:20382</td>\n",
       "      <td>False</td>\n",
       "      <td>agagcgacgggcgatgtgtgcgtacttcattgctcaattcaattaa...</td>\n",
       "      <td>1</td>\n",
       "      <td>2:N:0:TTACCGAC+CGTATTCG</td>\n",
       "      <td>NaN</td>\n",
       "      <td>NaN</td>\n",
       "      <td>0.0</td>\n",
       "      <td>[32, 37, 37, 37, 37, 32, 37, 37, 37, 37, 37, 3...</td>\n",
       "    </tr>\n",
       "    <tr>\n",
       "      <th>166235</th>\n",
       "      <td>None</td>\n",
       "      <td>NaN</td>\n",
       "      <td>MN00399:128:000H5JLCJ:1:23104:26372:20382</td>\n",
       "      <td>False</td>\n",
       "      <td>aaactaggattagataccctattatgcttagccataaacctaaata...</td>\n",
       "      <td>1</td>\n",
       "      <td>2:N:0:TTACCGAC+CGTATTCG</td>\n",
       "      <td>NaN</td>\n",
       "      <td>NaN</td>\n",
       "      <td>0.0</td>\n",
       "      <td>[32, 37, 32, 37, 37, 37, 32, 37, 37, 37, 37, 3...</td>\n",
       "    </tr>\n",
       "    <tr>\n",
       "      <th>166236</th>\n",
       "      <td>None</td>\n",
       "      <td>NaN</td>\n",
       "      <td>MN00399:128:000H5JLCJ:1:23104:9089:20383</td>\n",
       "      <td>False</td>\n",
       "      <td>aaactaggattagataccctattatgattagccataaacctaaaaa...</td>\n",
       "      <td>1</td>\n",
       "      <td>2:N:0:TTACCGAC+CGTATTCG</td>\n",
       "      <td>NaN</td>\n",
       "      <td>NaN</td>\n",
       "      <td>0.0</td>\n",
       "      <td>[14, 37, 37, 32, 37, 37, 14, 37, 37, 21, 37, 3...</td>\n",
       "    </tr>\n",
       "    <tr>\n",
       "      <th>166237</th>\n",
       "      <td>None</td>\n",
       "      <td>NaN</td>\n",
       "      <td>MN00399:128:000H5JLCJ:1:23104:23879:20383</td>\n",
       "      <td>False</td>\n",
       "      <td>aaactaggattagataccctattatgcttagccataaacctaaata...</td>\n",
       "      <td>1</td>\n",
       "      <td>2:N:0:TTACCGAC+CGTATTCG</td>\n",
       "      <td>NaN</td>\n",
       "      <td>NaN</td>\n",
       "      <td>0.0</td>\n",
       "      <td>[37, 37, 37, 32, 37, 37, 37, 37, 37, 37, 37, 3...</td>\n",
       "    </tr>\n",
       "    <tr>\n",
       "      <th>166238</th>\n",
       "      <td>None</td>\n",
       "      <td>NaN</td>\n",
       "      <td>MN00399:128:000H5JLCJ:1:23104:18808:20384</td>\n",
       "      <td>False</td>\n",
       "      <td>aaactaggattagataccctattatgcttagccataaacctaaata...</td>\n",
       "      <td>1</td>\n",
       "      <td>2:N:0:TTACCGAC+CGTATTCG</td>\n",
       "      <td>NaN</td>\n",
       "      <td>NaN</td>\n",
       "      <td>0.0</td>\n",
       "      <td>[37, 37, 37, 37, 37, 37, 37, 37, 37, 37, 37, 3...</td>\n",
       "    </tr>\n",
       "  </tbody>\n",
       "</table>\n",
       "<p>166239 rows × 11 columns</p>\n",
       "</div>"
      ],
      "text/plain": [
       "       TAXID  BEST_MATCH_IDS                                         ID  \\\n",
       "0       None             NaN    MN00399:128:000H5JLCJ:1:11101:6261:1084   \n",
       "1       None             NaN   MN00399:128:000H5JLCJ:1:11101:22469:1090   \n",
       "2       None             NaN    MN00399:128:000H5JLCJ:1:11101:8016:1092   \n",
       "3       None             NaN   MN00399:128:000H5JLCJ:1:11101:10413:1093   \n",
       "4       None             NaN   MN00399:128:000H5JLCJ:1:11101:21982:1094   \n",
       "...      ...             ...                                        ...   \n",
       "166234  None             NaN  MN00399:128:000H5JLCJ:1:23104:26302:20382   \n",
       "166235  None             NaN  MN00399:128:000H5JLCJ:1:23104:26372:20382   \n",
       "166236  None             NaN   MN00399:128:000H5JLCJ:1:23104:9089:20383   \n",
       "166237  None             NaN  MN00399:128:000H5JLCJ:1:23104:23879:20383   \n",
       "166238  None             NaN  MN00399:128:000H5JLCJ:1:23104:18808:20384   \n",
       "\n",
       "        ID_STATUS                                            NUC_SEQ  COUNT  \\\n",
       "0           False  aaactnggattagataccntattatnctnagcnntanncntanann...      1   \n",
       "1           False  aaactnggattagataccntattatnctnagcnntanncntanatn...      1   \n",
       "2           False  aaactnggattagataccntattatnctnagcnntanncntanatn...      1   \n",
       "3           False  agagcnacgggcgatgtgngcgtacntcnttgnncanntnaantan...      1   \n",
       "4           False  agagcnacgggcgatgtgngcgtacntcattgnncanntnaantan...      1   \n",
       "...           ...                                                ...    ...   \n",
       "166234      False  agagcgacgggcgatgtgtgcgtacttcattgctcaattcaattaa...      1   \n",
       "166235      False  aaactaggattagataccctattatgcttagccataaacctaaata...      1   \n",
       "166236      False  aaactaggattagataccctattatgattagccataaacctaaaaa...      1   \n",
       "166237      False  aaactaggattagataccctattatgcttagccataaacctaaata...      1   \n",
       "166238      False  aaactaggattagataccctattatgcttagccataaacctaaata...      1   \n",
       "\n",
       "                     DEFINITION  SCIENTIFIC_NAME  BEST_MATCH_TAXIDS  \\\n",
       "0       2:N:0:TTACCGAC+CGTCTTCG              NaN                NaN   \n",
       "1       2:N:0:TTACCGAC+CGTATTCG              NaN                NaN   \n",
       "2       2:N:0:TTACCGAC+CGTATTCG              NaN                NaN   \n",
       "3       2:N:0:TTACCGAC+AGTATTCG              NaN                NaN   \n",
       "4       2:N:0:TTACCGAC+CGTATTCG              NaN                NaN   \n",
       "...                         ...              ...                ...   \n",
       "166234  2:N:0:TTACCGAC+CGTATTCG              NaN                NaN   \n",
       "166235  2:N:0:TTACCGAC+CGTATTCG              NaN                NaN   \n",
       "166236  2:N:0:TTACCGAC+CGTATTCG              NaN                NaN   \n",
       "166237  2:N:0:TTACCGAC+CGTATTCG              NaN                NaN   \n",
       "166238  2:N:0:TTACCGAC+CGTATTCG              NaN                NaN   \n",
       "\n",
       "        BEST_IDENTITY                                            QUALITY  \n",
       "0                 0.0  [37, 37, 37, 37, 37, 2, 37, 37, 37, 37, 37, 37...  \n",
       "1                 0.0  [32, 37, 37, 37, 37, 2, 37, 37, 37, 37, 37, 37...  \n",
       "2                 0.0  [37, 37, 37, 37, 37, 2, 14, 37, 37, 37, 37, 37...  \n",
       "3                 0.0  [37, 37, 37, 37, 37, 2, 37, 37, 37, 37, 37, 37...  \n",
       "4                 0.0  [32, 37, 37, 37, 37, 2, 37, 37, 37, 37, 37, 37...  \n",
       "...               ...                                                ...  \n",
       "166234            0.0  [32, 37, 37, 37, 37, 32, 37, 37, 37, 37, 37, 3...  \n",
       "166235            0.0  [32, 37, 32, 37, 37, 37, 32, 37, 37, 37, 37, 3...  \n",
       "166236            0.0  [14, 37, 37, 32, 37, 37, 14, 37, 37, 21, 37, 3...  \n",
       "166237            0.0  [37, 37, 37, 32, 37, 37, 37, 37, 37, 37, 37, 3...  \n",
       "166238            0.0  [37, 37, 37, 37, 37, 37, 37, 37, 37, 37, 37, 3...  \n",
       "\n",
       "[166239 rows x 11 columns]"
      ]
     },
     "execution_count": 59,
     "metadata": {},
     "output_type": "execute_result"
    }
   ],
   "source": [
    "file_path = os.path.join(fld,os.listdir(fld)[1])\n",
    "print(file_path)\n",
    "file = pd.read_table(file_path)\n",
    "file"
   ]
  },
  {
   "cell_type": "code",
   "execution_count": 31,
   "id": "6998f530",
   "metadata": {},
   "outputs": [
    {
     "name": "stderr",
     "output_type": "stream",
     "text": [
      "/home/dennislab2/anaconda3/envs/fieldwork_2021/lib/python3.10/site-packages/thefuzz/fuzz.py:11: UserWarning: Using slow pure-python SequenceMatcher. Install python-Levenshtein to remove this warning\n",
      "  warnings.warn('Using slow pure-python SequenceMatcher. Install python-Levenshtein to remove this warning')\n"
     ]
    }
   ],
   "source": [
    "from thefuzz import fuzz"
   ]
  },
  {
   "cell_type": "code",
   "execution_count": null,
   "id": "0e5f49e8",
   "metadata": {},
   "outputs": [],
   "source": []
  },
  {
   "cell_type": "code",
   "execution_count": 34,
   "id": "573aad48",
   "metadata": {},
   "outputs": [
    {
     "name": "stdout",
     "output_type": "stream",
     "text": [
      "0 100\n",
      "1 100\n",
      "2 99\n",
      "3 49\n",
      "4 100\n",
      "5 100\n",
      "6 49\n",
      "7 49\n",
      "8 99\n",
      "9 99\n",
      "10 97\n",
      "11 49\n",
      "12 54\n",
      "13 49\n",
      "14 55\n",
      "15 100\n",
      "16 49\n",
      "17 99\n",
      "18 49\n",
      "19 49\n",
      "20 99\n",
      "21 99\n",
      "22 100\n",
      "23 99\n",
      "24 51\n",
      "25 27\n",
      "26 49\n",
      "27 99\n",
      "28 99\n",
      "29 49\n",
      "30 49\n",
      "31 49\n",
      "32 100\n",
      "33 49\n",
      "34 49\n",
      "35 99\n",
      "36 49\n",
      "37 99\n",
      "38 100\n",
      "39 100\n",
      "40 32\n",
      "41 42\n",
      "42 49\n",
      "43 100\n",
      "44 100\n",
      "45 100\n",
      "46 49\n",
      "47 50\n",
      "48 49\n",
      "49 100\n",
      "50 49\n",
      "51 99\n",
      "52 100\n",
      "53 49\n",
      "54 100\n",
      "55 31\n",
      "56 100\n",
      "57 49\n",
      "58 49\n",
      "59 49\n",
      "60 47\n",
      "61 99\n",
      "62 99\n",
      "63 49\n",
      "64 99\n",
      "65 100\n",
      "66 99\n",
      "67 45\n",
      "68 61\n",
      "69 100\n",
      "70 100\n",
      "71 99\n",
      "72 100\n",
      "73 49\n",
      "74 99\n",
      "75 100\n",
      "76 49\n",
      "77 49\n",
      "78 49\n",
      "79 49\n",
      "80 49\n",
      "81 49\n",
      "82 99\n",
      "83 49\n",
      "84 99\n",
      "85 49\n",
      "86 97\n",
      "87 49\n",
      "88 100\n",
      "89 49\n",
      "90 50\n",
      "91 49\n",
      "92 100\n",
      "93 49\n",
      "94 100\n",
      "95 49\n",
      "96 97\n",
      "97 100\n",
      "98 99\n",
      "99 49\n"
     ]
    }
   ],
   "source": [
    "for i in np.arange(0,100):\n",
    "    print(i,fuzz.ratio(file.NUC_SEQ[0],file.NUC_SEQ[i]))"
   ]
  },
  {
   "cell_type": "code",
   "execution_count": 24,
   "id": "41a0a22a",
   "metadata": {},
   "outputs": [
    {
     "data": {
      "text/plain": [
       "2242"
      ]
     },
     "execution_count": 24,
     "metadata": {},
     "output_type": "execute_result"
    }
   ],
   "source": [
    "len(unique_seq)"
   ]
  },
  {
   "cell_type": "code",
   "execution_count": 60,
   "id": "28c6d24e",
   "metadata": {},
   "outputs": [],
   "source": [
    "unique_scinames = np.unique(file.SCIENTIFIC_NAME.dropna())"
   ]
  },
  {
   "cell_type": "code",
   "execution_count": 61,
   "id": "b2f465c0",
   "metadata": {},
   "outputs": [],
   "source": [
    "for sci_name in unique_scinames:\n",
    "    print(sci_name,len(file[file.SCIENTIFIC_NAME==sci_name]))"
   ]
  },
  {
   "cell_type": "code",
   "execution_count": 62,
   "id": "4bdbff2d",
   "metadata": {},
   "outputs": [
    {
     "data": {
      "text/plain": [
       "['aaactnggattagataccntattatnctnagcnntanncntanannantanntntancnanactatnngcnngananntantngncnnancntnnnncncnaagnncnnnnnggtnctnanannnnananagangagcctntnctataat',\n",
       " 'aaactnggattagataccntattatnctnagcnntanncntanatnantanntntancnanactatttgccngananntantagncnnancntnnnncncnaagnncnngnnggtnctttnannnnancnagaggagcctgttctataat',\n",
       " 'aaactnggattagataccntattatnctnagcnntanncntanatnantanatntancnanactatttgccnganaantantagccnnancttnnnncncnaagnnannggnggtnctttntnannananagaggagcctgttctataat',\n",
       " 'agagcnacgggcgatgtgngcgtacntcnttgnncanntnaantangntcnctnttntnantttactactanatnctncttagtccnntngttnnanananggtnnannaatgttnttttnananaanangtagcccatttcttcccatt',\n",
       " 'agagcnacgggcgatgtgngcgtacntcattgnncanntnaantangntcnctnttntnantttactactanatnctncttagtccnntngttnnatananggtnnagnaatgttnttttntnanaanangtagcccatttcttcccatt',\n",
       " 'aaactnggattagataccntattatncttagcnntaancntanatnantanatntancnaaactatttgccnganaantactagccnnancttnnaactcnaagnacttggcggtnatttntntncatctagaggagcctgttctataat',\n",
       " 'agagcnacgggcgatgtgngcgtacntcattgnncaantnaantangntcnctattntnaatttactactanatccancttagtcctntngtancataaanggtatagtaatgttntttanaaagaaaatgtagcccatttcttcccatt',\n",
       " 'agagcnacgggcgatgtgngcgtacntcattgnncaantnaantangntcnctattntnaatttactactanatcctncttagtcctntngttncataaagggtatagtaatgttcttttntaagaaaatgtagcccatttcttcccatt',\n",
       " 'aaactnagattagataccnaattatncttagccntaancntaaatnanaanatttancaaaactaattgccngagagntactacccanancttaaaactcaaaggacttggcggtacttantatccatctagaggagcctgatcaataat',\n",
       " 'agagcnacgggcgatgtgngcgtacttcattgctcaantnaattangctcnctattcttaatttactactanatcctncttagtcctttngtttcataaagggtatagtaatgttcttttntaagaaaatgtagcccatttcttcccatt',\n",
       " 'agagcnacgggcgatgtgngcgtacttcattgctcaantnaattangctcnctattcttaatttactactanatccancttagtcctttngtttcataaagggtatagtaatgttcttttntaagaaaatgtagcccatttcttcccatt',\n",
       " 'agagcnacgggcgatgtgngcgtacttcattgctcaattcaattangctcnctattcttaatttactactanatcctncttagtcctttnttttcataaagggtatagtaatgttcttctnaaagaaaatgtagcccatttcttcccatt',\n",
       " 'agagcnacgggcgatgtgtgcgtacttcattgctcaattcaattaagctcnctattcttagtttactactaaatcctncttagtcctttngtttcataaagggtatagtaatgttcttttataagaaaatgtagcccatttcttcccatt',\n",
       " 'agagcgacgggcgatgtgtgcgtacttcattgctcaattcaattaagctcnctattcttaatttactactaaatcctncttagtcctttngtttcataaagggtatagtaatgttcttttataagaaaatgtagcccatttcttcccatt',\n",
       " 'cttagccataaacctaaataattaaatttaacaaaactatttgccagaganctactagccatagcttaaaactcaaaggacttggcggtnctttatatccatctagaggagcctgttctataatcgataaaccccgctctacctcaccat',\n",
       " 'aaactaggattagataccctattatgcttagccataaacctaaataattanatttaacaaaactatttgccagagagctactagccatagcttaaaactcaaaggacttggcggtactttatatccatctagaggagcctgttctataat',\n",
       " 'agagcgacgggcgatgtgtgcgtacttcattgctcaattcaattaagctcnctattcttaatttactactaaatcctccttagtcctttagtttcataaagggtatagtaatgttcttttataagaaaatgtagcccatttcttcccatt',\n",
       " 'agagcgacgggcgatgtgtgcgtacttcattgctcaattcaattaagctcnctattcttaatttactactaaatcctccttagtcctttagtttcataaagggtatagtaatgttcttttataagaaaatgtagcccatttcttcccatt',\n",
       " 'agagcgactggcgatgtgtgagtacttcaatgatcaattcaattaagctanctattcataatttactactaaatcctccttagtcctttagtttcataaagggtatagtaatgttcttttataagaaaatgtagcccatttcttcccatt',\n",
       " 'agagcgacgggcgatgtgtgcgtacttcattgctcaattcaattaagctctctattcttaatttactactaaatcctccttagtcctttagtttcataaagggtatagtaatgttcttttataagaaaatgtagcccttttcttcccatt',\n",
       " 'agagcgacgggcgatgtgtgcgtacttcattgctcaattcaattaagctctctattcttaatttactactaaatcctccttagtcctttagtttcataaagggtatagtaatgttcttttacaagaaaatgtagcccatttcttcccatt',\n",
       " 'agagcgacgggcgatgtgtgcgtacttcattgctcaattcaattaagctctctattcttaatttactactaaatcctccttagtcctttagtttcataaagggtatagtaatgttcttttataagaaaatgtagcccatttcttcccatt',\n",
       " 'aaactaggattagataccctattatgcttagccataaacctaaataattaaatttaacaaaactatttgccagagaactactagccatagcttaaaactcaaaggacttggcggtactttatatccatctagaggagcctgttctataat',\n",
       " 'aaactaggattagataccctattatgcttagccataaacctaaataattaaatttaacaaaactatttgccagagaactactagccatagcttaaaactcaaaggacttggcggtactttatatccatctagaggagcctgttctataat',\n",
       " 'aaactaggattagataccctattatgcttagccataaacctaaataattaaatttaacaaaactatttgccagagaactactagccatagcttaaaactcaaaggacttggcggtactttatatccatctagaggagcctgttctataat',\n",
       " 'agagcgacgggcgatgtgtgcgtacttcattgctcaattcaattaagctctctattcttaatttactactaaatcctccttagtcctttagtttcataaagggtatagtaatgttcttttataagaaaatgtagcccatttcttcccatt',\n",
       " 'aaactaggattagataccctattatgcttagccataaacctaaataattaaatttaacaaaactatttgccagagaactactacccatagcttaaaactcaaaggacttggcggtactttatatccatctagaggagcctgttctataat',\n",
       " 'agagcgacgggcgatgtgtgcgtacttcattgctcaattcaattaagctctctattcttaatttactactagatcctccttagtcctttagtttcataaagggtatagtaatgttcttttataagaaaatgtagcccatttcttcccatt',\n",
       " 'aaactaggattagataccctattatgcttagccataaacctaaataattaaatttaacaaaactatttgccagagaactactagccatagcttaaaactcaaaggacttggcggtactttatatccatctagaggagcctgttctataat',\n",
       " 'aaactaggattagataccctattatgcttagccataaacctaaataattaaatttaacaaaactatttgccagagaactactagccatagcttaaaactcaaaggacttggcggtactttatatccatctagaggagcctgttctataat',\n",
       " 'agagcgacgggcgatgtgtgcgtacttcattgctcaattcaattaagctctctattcttaatttactactaaatcctccttagtcctttagtttcataaagggtatagtaatgttcttttataagaaaatgtagcccatttcttcccatt',\n",
       " 'agagcgacgggcgatgtgtgcgtacttcattgctcaattcaattaagctctctattcttaatttactactaaatcctccttagtcctttagtttcataaagggtatagtaatgttcttttataagaaaatgtagcccatttcttcccatt',\n",
       " 'agagcgacgggcgatgtgtgcgtacttcatcgctcaattcaattaagctctctattcttaatttactactaaatcctccttagtcctttagtttcataaagggtatagtaatgttcttttataagaaaatgtagcccatttcttcccatt',\n",
       " 'agagcgacgggcgatgtgtgcgtacttcattgctcaattcaattaagctctctattcttaatttactactaaatcctccttagtcctttagtttcataaagggtatagtaatgttcttttataagaaaatgtagcccatttcttcccatt',\n",
       " 'aaactaggattagataccctattatgcttagccataaacctaaataattaaatttaacaaaactatttgccagagaactactagccatagcttaaaactcaaaggacttggcggtactttatatccatctagaggagcctgttctataat',\n",
       " 'agagcgacgggcgatgtgtgcgtacttcattgctcaattcaattaagctctctattcttaatttactactaaatcctccttagtcctttagtttcataaagggtatagtaatgttcttttataagaaaatgtagcccatttcttcccatt',\n",
       " 'agagcgacgggcgatgtgtgcgtacttcattgctcaattcaattaagctctctattcttaatttactactaaatcctccttagtcctttagtttcataaagggtatagtaatgttcttttataagaaaatgtagcccatttcttcccatt',\n",
       " 'aaactaggattagataccctattatgcttagccataaacctaaataattaaatttaacaaaactatttgccagagaactactagccatagcttaaaactcaaaggacttggcggtactttatatccatctagaggagcctgttctataat',\n",
       " 'aaactaggatttgataccctattatgcttagccataaacctaaataattaaatttaacaaaactatttgccagagaactactagccatagcttaaaactcaaaggacttggcggtactttatatccatctagaggagcctgttctattat',\n",
       " 'aaactaggattagataccctattatgcttagccatagacctaaataattaaatttaacaaaactatttgccagagaactactagccatagcttaaaactcaaaggacttggcggtactttatatccatctagaggagcctgttctataat',\n",
       " 'agagcgacgggcgatgtgtgcatacttcattgctcaattcaattaagctctctattcttgatttactactaaatcctccttagtcctttagtttcataaagggtatagtaatgttcttttataagaaaatgtagcccatttcttcccatt',\n",
       " 'agcgacgggcgatgtgtgcgtacttcattgctcaattcaattaagctctctatccttaatttactactaaatcctccttagtcctttagtttcataaagggtatagtaatgttcttttataagaaaatgtagcccatttcttcccatttc',\n",
       " 'aaactaggattagataccctattatgcttagccataaacctaaataattaaatttaacaaaactatttgccagagaactactagccatagcttaaaactcaaaggacttggcggtactttatatccatctagaggagcctgttctataat',\n",
       " 'agagcgacgggcgatgtgtgcgtacttcattgctcaattcaattaagctctctattcttaatttactactaaatcctccttagtcctttagtttcataaagggtatagtaatgttcttttataagaaaatgtagcccatttcttcccatt',\n",
       " 'agagcgacgggcgatgtgtgcgtacttcattgctcaattcaattaagctctctattcttaatttactactaaatcctccttagtcctttagtttcataaagggtatagtaatgttcttttataagaaaatgtagcccatttcttcccatt',\n",
       " 'aaactaggattagataccctattatgcttagccataaacctaaataattaaatttaacaaaactatttgccagagaactactagccatagcttaaaactcaaaggacttggcggtactttatatccatctagaggagcctgttctataat',\n",
       " 'aaactaggattagataccctattatgcttagccataaacctaaataattaaatttaacaaaactatttgccagagaactactagccatagcttaaaactcaaaggacttggcggtactttatatccatctagaggagcctgttctataat',\n",
       " 'aaactaggattagataccctattatgcttagccataaacctaaataattaaatttaacaaaactatttgccagagaactactagccatagcttaaaactcaaaggacttggcggtactttatatccatctagaggagcctgttctataat',\n",
       " 'agagcgacgggcgatgtgtgcgtacttcattgctcaattcaattaagctctctattcttaatttactactaaatcctccttagtcctttagtttcataaagggtatagtaatgttcttttataagaaaatgtagcccatttcttcccatt',\n",
       " 'aaactaggattagataccctattatgcttagccataaacctaaataattaaatttaacaaaactatttgccagagaactactagccatagcttaaaactcaaaggacttggcggtactttatatccatctagaggagcctgttctataat',\n",
       " 'agagcgacgggcgatgtgtgcgtacttcattgctcaattcaattaagctctctattcttaatttactactaaatcctccttagtcctttagtttcataaagggtatagtaatgttcttttataagaaaatgtagcccatttcttcccatt',\n",
       " 'aaactaggattagataccctattatgcttagccataaacctaaataattaaatttaacaaaactatttgccagagaactactagccatagcttaaaactcaaaggacttggcggtactttatatccatctagaggagcctgttctataat',\n",
       " 'aaactaggattagataccctattatgcttagccataaacctaaataattaaatttaacaaaactatttgccagagaactactagccatagcttaaaactcaaaggacttggcggtactttatatccatctagaggagcctgttctataat',\n",
       " 'aaactaggattagataccctattatgcttagccataaacctaaataattaaatttaacaaaactatttgccagagaactactagccatagcttaaaactcaaaggacttggcggtactttatatccatctagaggagcctgttctataat',\n",
       " 'aaactaggattagataccctattatgcttagccataaacctaaataattaaatttaacaaaactatttgccagagaactactagccatagcttaaaactcaaaggacttggcggtactttatatccatctagaggagcctgttctataat',\n",
       " 'aaactaggattagataccctattatgcttagccataaacctaaataattaaatttaacaaaactatttgccagagaactactagccatagcttaaaactcaaaggacttggcggtactttatatccatctagaggagcctgttctataat',\n",
       " 'agagcgacgggcgatgtgtgcgtacttcattgctcaattcaattaagctctctattcttaatttactactaaatcctccttagtcctttagtttcataaagggtatagtaatgttcttttataagaaaatgtagcccatttcttcccatt',\n",
       " 'aaactaggattagataccctattatgcttagccataaacctaaataattaaatttaacaaaactatttgccagagaactactagccatagcttaaaactcaaaggacttggcggtactttatatccatctagaggagcctgttctataat',\n",
       " 'aaactaggattagataccctattatgcttagccataaacctaaataattaaatttaacaaaactatttgccagagaactactagccatagcttaaaactcaaaggacttggcggtactttatatccatctagaggagcctgttctataat',\n",
       " 'aaactaggattagataccctattatgcttagccataaacctaaataattaaatttaacaaaactatttgccagagaactactagccatagcttaaaactcaaaggacttggcggtactttatatccatctagaggagcctgttctataat',\n",
       " 'aaactaggattagataccctattatgcttagccataaacctaaataattaaatttaacaaaactatttgccagagaactactagccatagcttaaaactcaaaggacttggcggtactttatatccatctagaggagcctgttctataat',\n",
       " 'agagcgacgggcgatgtgtgcgtacttcattgctcaattcaattaagctctctattcttaatttactactaaatcctccttagtcctttagtttcataaagggtatagtaatgttcttttataagaaaatgtagcccatttcttaccatt',\n",
       " 'agagcgacgggcgatgtgtgcgtacttcattgctcaattcaattaagctctctattcttaatttactactaaatcctccttagtcctttagtttcataaagggtatagtaatgttcttttataagaaaatgtagcccatttcttcccatt',\n",
       " 'aaactaggattagataccctattatgcttagccataaacctaaataattaaatttaacaaaactatttgccagagaactactagccatagcttaaaactcaaaggacttggcggtactttatatccatctagaggagcctgttctataat',\n",
       " 'aaactaggattagataccctattatgcttagcgataaacctaaataattaaatttaacaaaactatttgccagagaactactagccatagcttaaaactcaaaggacttggcggtactttatatccatctagaggagcctgttctataat',\n",
       " 'agagcgacgggcgatgtgtgcgtacttcattgctcaattcaattaagctctctattcttaatttactactaaatcctccttagtcctttagtttcataaagggtatagtaatgttcttttataagaaaatgtagcccatttcttcccatt',\n",
       " 'agagcgacgggcgatgtgtgcgtacttcattgctcaattcaattaagctctctattcttaatttactactaaatcctccttagtcctttagtttcataaagggtatagtaatgttcttttataagaaaatgtagcccatttcttcccatt',\n",
       " 'aaactaggattagataccctattatgcttagccataaacctaaataattaaatttaacaaaactatttgccagagaactactagccatagcttaaaactcaaaggacttggcggtactttatatccatctagaggagcctgttctataat',\n",
       " 'aaactaggattagataccctattatgcttagccataaacctaaataattaaatttaacaaaactatttgccagagaactactagccatagcttaaaactcaaaggacttggcggtactttatatccatctagaggagcctgttctataat',\n",
       " 'agagcgacgggcgatgtgtgcgtacttcattgctcaattcaattaagatgtctattcttaatttactactaaatactccttagtcctttagtttcataaagggtatagtaatgttatgttataagaaaatgtagcccatttcttcccatt',\n",
       " 'agagcgacgggcgatgtgtgcgtacttcattgctcaattcaattaagctctctattcttaatttactactaaatcctccttagtcctttagtttcataaagggtataggaatgttctggtataagaaaatgtagcccattgattcccatt',\n",
       " 'aaactaggattagataccctattatgcttagccataaacctaaataattaaatttaacaaaactatttgccagagaactactagccatagcttaaaactcaaaggacatggcggtactttatatccatctagaggagcctgttctataat',\n",
       " 'aaactaggattagataccctattatgcttagccataaacctaaataattaaatttaacaaaactatttgccagagaactactagccatagcttaaaactcaaaggacttggcggtactttatatccatctagaggagcctgttctatagt',\n",
       " 'agagcgacgggcgatgtgtgcgtacttcattgctcaattcgattaagctctctattcttaaattactactaaatcctccttagccctttagtttcataaagggtatagtaatgttcttttataagaaaatgtagcccatttcttcccatt',\n",
       " 'agagcgacgggcgatgtgtgcgtacttcattgctcaattcaattaagctctctattcttaatttactactaaatcctccttagtcctttagtttcataaagggtatattaatgttattttataagaaaatgtaccccattacttcccatt',\n",
       " 'agagcgacgggcgatgtgtgcgtacttcattgctcaattcaattaagccctctatacttaatttactactaaatcctccttagtcctttagtttcataaagggtatagtaatgttcttttataagaaaatgtagcccatttcttcccatt',\n",
       " 'agagcgacgggcgatgtgtgcgtacttcattgctcaattcaattaagctctctattcttaaattactactaaatcctccttagtcctttagtttcataaagggtatagtaatgttcttttataataaaatgtagaccatttcttcccatt',\n",
       " 'aaactaggattagataccctattatgcttagccataaacctaaataattaaatttaacaaaactatttgccagagaactactagccatagcttaaaactcaaaggacttggcggtactttatatccatctagaggagcctgttctataat',\n",
       " 'agagcgacgggcgatgtgtgcgtacttcattgctcaattcaattaagctctctattcttaatttactactaaatcctccttagtcctttagtttcataaagggtatagtaatgttcttttataagaaaatgtagcccattacttcccatt',\n",
       " 'aaactaggaatacaaacccaaatatgcatagccataaaccaaaataataaaaataaacaaaactatttgccagagaactactagccatagcttaaaactcaaaggacttggcggtactttgtatccatctagaggagcctgttctataat',\n",
       " 'agagcgacgggcgatgtgtgcgtacttcattgctcaattcaattaagctctctattcttaatttactactaaatcttccttagtcctttagtttcataaagggtatagtaatgttcttttataagaaaatgtagcccatttcttcccatc',\n",
       " 'agagcgacgggcgatgtgtgcgtacttcattgctcaattcaattaagctctctattcttaatttactactaaatcctccttagtcctttagtttcataaagggtatagtaatgttcttttataagaaaatgtagcccatttcttcccatt',\n",
       " 'aaactaggattagataccctattatgcttagccataaacctaaataattaaatttaacaaaactatttgccagagagctactagccatagcttaaaactcaaaggacttggcggtactttatatccatctagaggagcctgttctataat',\n",
       " 'aaactaggattagataccctattatgcttagccataaacctaaataattaaatttaacaaaactatttgccagagaactactagccatagcttaaaactcaaaggacttggcggtactttatatccatctagaggagcctgttctataat',\n",
       " 'agagcgacgggcgatgtgtgcgtacttcattgctcaattcaattaagctctctattcttaatttactactaaatcctccttagtcctttagtttcataaagggtatagtaatgttcttttataagaaaatgtagcccatttcttcccatt',\n",
       " 'aaactaggattagataccctattatgcttagccataaacctaaataattaaatttaacaaaactatttgccagagaactactagccatagcttaaaactcaaaggacttggcggtactttatatccatctagaggagcctgttctataat',\n",
       " 'agagcgacgggcgatgtgtgcgtacttcattgctcaattcaattaagctctctattcttaatttactactaaatcctccttagtcctttagtttcataaagggtatagtaatgttcttttataagaaaatgtagcccatttcttcccatt',\n",
       " 'aaactaggattagataccctattatgcttagccataaacctaaataattaaatttaacaaaactatttgccagagaactactagccatagcttaaaactcaaaggacttggcggtactttatatccatctagaggagcctgttctataat',\n",
       " 'aaactaggattagataccctattatgcttagccataaacctaaataattaaatttaacaaaactatttgccagagaactactagccatagcttaaaactcaaaggacttggcggtactttatatccatctagaggagcctcttctataat',\n",
       " 'agagcgacgggcgatgtgtgcgtacttcattgctcaattcaattaagctctctattcttaatttactactaaatcctccttagtcctttagtttcataaagggtatagtaatgttcttttataagaaaatgtagcccatttcttcccatt',\n",
       " 'agagcgacgggcgatgtgtgcgtacttcattgctcaattcaattaagctctctattcttaatttactactaaatcctccttagtcctttagtttcataaagggtatagtaatgttcttttataagaaaatgtagcccatttcttcccatt',\n",
       " 'cttagccataaacctaaattattaaatttaacaaaactatttgccagagaactactagccatagcttaaaactcaaaggacttggcggtactttatatccatctagaggagcctgttctataatcgataaaccccgctctacctcaccat',\n",
       " 'agagcgacgggcgatgtgtgcgtacttcattgctcaattcaattaagctctctattcttaatttactactaaatcctccttagtcctttagtttcataaagggtatagtaatgttcttttataagaaaatgtagcccattactacccatt',\n",
       " 'agagcgacgggcgatgtgtgcgtacttcattgctcaattcaattaatctctctattcttaatttactactaaatccaccttagtcctttagtttcataaaaggtaaagtaatgtactattataagaaaatgtagcccatttcctcccatt',\n",
       " 'aaactaggattagataccctattatgcttagccataaacctaaataattaaatttaacaaaactatttgccagagaactactagccatagcttaaaactcaaaggacttggcggtactttatatccatctagaggagcctgttctataat',\n",
       " 'agagcgacgggcgatgtgtgcgtccttcattgctcaattcaattaagctctctattcttaatttactactaaatcctccttagtcctttagtttcataaagggtagaggaatgttcttttataagaaaatgtagcgcttttcttcccatt',\n",
       " 'aaactaggattagataccctattatgcttagccataaaccaaaataattaaattcaacaaaactatttgccagagaactactagccatagcttaaaactcaaaggacttggcggtactttatatccatctagaggagcctgttctataat',\n",
       " 'agagcgacgggcgatgtgtgcgtacttcattgctcaattcaattaagctctctattcttaatttactactaaatcctccttagtcctttagtttcataaagggtatagtaatgttcttttataagaaaatgtagcccatttcttcccatt',\n",
       " 'gcttagccataaacctaaataattaaatttaacaaaactatttgccagagaactactagccatagcttaaaactcaaaggacttggcggtactttatatccatctagaggagcctgctctataatcgataaaccccgctctacctcacca',\n",
       " 'aaactaggattagatcccctattatgcttagccataaacctaaataattaaatttaacaaaactatttgccagagaactactagccatagcttaaaactcaaaggacttggcggtactttatatccatctagaggagcctgttctataat',\n",
       " 'aaactaggattagataccctattatgcttagccataaacctaaataattaaatttaacaaaactatttgccagagaactactagccatagcttaaaactcaaaggacttggcggtactttatatccatctagaggagcctgttctataat',\n",
       " 'agagcgacgggcgatgtgtgcgtacttcattgctcaattcaattaagctctctattcttaatttactactaaaccctccttagtcctttagtttcataaagggtatagtaatgttcttttataagaaaatgtagcccatttcttcccatt',\n",
       " 'aaactaggattagataccctattatgcttagccataaacctaaataattaaatttaacaaaactatttgccagagaactactagccatagcttaaaactcaaaggacttggcggtactttatatccatctagaggagcctgttctataat',\n",
       " 'agagcgacgggcgatgtgtgcgtacttcattgctcaattcaattaagctctctattcttaatttactactaaatcctccttagtcctttagtttcataaagggtatagtaatgttcttttataagaaaatgtagcccatttcttcccatt',\n",
       " 'agagcgacgggcgatgtgtgcgtacttcattgctcaattcaattaagctctctattcttaatttactactaaatcctccttagtcctttagtttcataaagggtatagtaatgttcttctataagaaaatgtagcccatttcttcccatt',\n",
       " 'actaggattagataccctattatgcttagccataaacctaaataattaaatttaacaaaactatttgccagagaactactagccatagcttaaaactcaaaggacttggcggtactttatatccatctagaggagcctgttctataatcg',\n",
       " 'ttagccatagacctaaataattaaatttaacaaaactatttgccagagaactactagccatagcttaaaactcaaaggacttggcggtactttatatccatctaggggagcctgttctataatcgataaaccccgctctacctcaccatc',\n",
       " 'agagcgacgggcgatgtgtgcgtacttcattgctcaattcaattaagctctctattcttaatttactactaaatcctccttagtcctttagtttcataaagggtatagtaatgttcttttataagaaaatgtagcccatttcttcccatt',\n",
       " 'agagcgacgggcgatgtgtgcgtacttcattgctcaattcaattaagctctctattcttaatttactactaaatcctcctaagtcctatagtttcataaagggtatagtaatgttcttttataagaaaatgaagcccatttcttcccatt',\n",
       " 'agagcgacgggcgatgtgtgcgtacttcattgctcaattcaattaagctctctattcttaatttactactaaatcctccttagtcctttagtttcataaagggtatagtaatgttcttttataagaaaatgtagcccatttcttcccatt',\n",
       " 'cttagccataaacctaaataattaaatttaacaaaactatttgccagagaactactagccatagcttaaaactcaaaggacttggcggtactttatatccatctagaggagcctgttctataatcgataaaccccgctctacctcaccat',\n",
       " 'aaactaggattagataccctattatgcttagccataaacctaaataattaaatttaacaaaactatttgccagagaactactagccatagcttaaaactcaaaggacttggcggtactttatatccatctagaggagcctgttctataat',\n",
       " 'aaactaggattagataccctattatgcttagccataaacctaaataattaaatttaacaaaactatttgccagagaactactagccatagcttaaaactcaaaggacttggcggtactttatatccatctagaggagcctgttctataat',\n",
       " 'agagcgacgggcgatgtgtgcgtacttcattgctcaattcaattaagctctctattcttaatttactactaaatcctccttagtcctttagtttcataaagggtatagtaatgttcttttataagaaaatgtagcccatttcttcccatt',\n",
       " 'aaactaggattagataccctattatgcttagccataaacctaaataattaaatttaacaaaactatttgccagagagctactagccatagcttaaaactcaaaggacttggcggtactttatatccatctagaggagcctgttctataat',\n",
       " 'cttagccataaacctaaataattaaatttaacaaaactatatgccagagagctactagccatagcttaaaactcaaaggacttggcggtactttatatccatctagaggagcctgttctataatcgataatccccgctctacatcaccat',\n",
       " 'gatcccgtattatgctaaccaataaacctaaataataaaatttaacaaaactaattgccagataactactagccataacaaaaaactcaaaggactaggacgtacttaatatacataaagaggaacctgttctaaaatcgaaaaaccacc',\n",
       " 'aaactaggattagataccctattatgcatagccataaacctaaataattaaatttaacaaaactatttgccagagaacaactagccatagcttaaaactcaaaggacttggcggtacttaatatccatctagaggagcctgttctataat',\n",
       " 'agagcgacgggcgatgtgtgcgtacttcattgctcaattcaattaagctctctattcttaatttactactaaatcctccttagtcctttagtttcataaagggtatagtaatgttcttttataagaaaatgtagcccatttcttcccatt',\n",
       " 'agagcgacgggcgatgtgtgcgtacttcattgctcaattcaattaagctctctattcttaatttactactaaatcctccttagtcctttagtttcataaagggtatagtaatgttcttttataagaaaatgtagcccatttcttcccagt',\n",
       " 'aaactaggattagataccctattatgcttagccataaacctaaataattaaatttaacaaaactatttgccagagaactactagccatagcttaaaactcaaaggacttggcggtactttatatccatctagaggagcctgttctataat',\n",
       " 'gccataaacctaaataattaaatttaacaaaactatttgccagagaactactagccatagcttaaaactcaaaggacttggcggtactttatatccatctagaggagcctgttctataatcgataaaccccgctctacctcaccatctct',\n",
       " 'aaactaggattagataccctattatgcttagccataaacctaaataattaaatttaacaaaactatttgccagagaactactagccatagcttaaaactcaaaggacttggcggtactttatatccatctagaggagcctgttctataat',\n",
       " 'aaactaggattagataccctattatgcttagccataaacctaaataattaaatttaacaaaactatttgccagagaactactagccatagcttaaaactcaaaggacttggcggtactttatatccatctagaggggcctgttctataat',\n",
       " 'agagcgacgggcgatgtgtgtgtacttcattgctcaattcaataaagctctctattcttaatttactactaaatcctccttagtcctttagtttcataaagggtatagtaatgttcttttataagaaaatgtagcccatttcttaccatt',\n",
       " 'agagcgacgggcgatgtgtgcgtacttcattgctcaattcaattaagctctctattcttaatttactactaaatcctccttagtcctttagtttcataaagggtatagtaatgttcttttataagaaaatgtagcccatttcttcccatt',\n",
       " 'aaactaggattagataccctattatgcttagccataaacctaaataattaaatttaacaaaactatttgccagagaactactagccatagcttaaaactcaaaggacttggcggtactttatatccatctagaggagcctgttctataat',\n",
       " 'aaactaggattagataccctattatgcttagccataaacctaaataattaaatttaacaaaactatttgccagagagctactagccatagcttaaaactcaaaggacttggcggtactttatatccatctagaggagcctgttctataat',\n",
       " 'aaactaggattagataccctattatgcttagccataaacctaaataattaaatttaacaaaactatttgccagagaactactagccatagcttaaaactcaaaggacttggcggtactttatatccatctagaggagcctgttctataat',\n",
       " 'caaaactatttgccagagaactactagccatagcttaaaactcaaaggacttggcggtactttatatccatctagaggagcctgttctataatcgataaaccccgctctacctcaccatctcttgctaattcagcctaaataccgccatc',\n",
       " 'agagcgacgggcgatgtgtgcgtacttcattgctcaattcaattaagctctctattcttaatttactactaaatcctccttagtcctttagtttcataaagggtatagtaatgttcttttataagaaaatgtagcccatttcttcccatt',\n",
       " 'agagcgacgggcgatgtgtgcgtacttcattgctcaattcaattaagctctctattcttaatttactactaaatcctccttagtcctttagtttcataaagggtatagtaatgttcttttataagaaaatgtagcccatttcttcccatt',\n",
       " 'agagcgacgggcgatgtgtgcgtacttcattgctcaattcaattaagctctctattcttaatttactactaaatcctccttagtcctttagtttaataaagggtatagtaatgttcttttataagaaaatgtaccccatttattcccatt',\n",
       " 'aaactaggattagataccctattgtgcttagccataaacctaaataattaaatttaacaaaactatttgccagagaactactagccatagcttaagactcaaaggacttggcggtactttatatccatctagaggagcctgttctataat',\n",
       " 'aaactaggattagataccctattatgcttagccataaacctaaataattaaatttaacaaaactatttgccagagaactactagccatagcttaaaactcaaaggacttggcggtactttatatccatctagaggagcctgttctataat',\n",
       " 'aaactaggattagataccctattatgcttagccataaacctaaataattaaatttaacaaaactatatgccagagaactactagccatagcttaaaactcaaaggacttggcggtactttatatccatctagaggagcctgtcctataat',\n",
       " 'agagcgacgggcgatgtgtgcgtacttcattgctcaattcaattaagctctctattcttaatttactactaaatcctccttagtcctttagtttcataaagggtatagtaatgttcttttataagaaaatgtagcccatttcttcccatt',\n",
       " 'aaactaggattagataccctattatgcttagccataaacctaaataattaaatttaacaaaactatttgccagagaactactagccatagcttaaaactcaaaggacttggcggtactttatatccatctagaggagcctgttctataat',\n",
       " 'aaactaggattagataccctattatgcttagccataaacctaaataattaaatttaacaaaactatttgccagagaactactagccatagcttaaaactcataggacttggcggtactttatatccatctagaggagcctgttctataat',\n",
       " 'agagcgacgggcgatgtgtgcgtacttcattgctcaattcaattaagctctctattcttaatttactactaaatcctccttagtcctttagtttcataaagggtatagtaatgttcttttataagaaaatgtagcccatttcttcccatt',\n",
       " 'aaactaggattagataccctattatgcttagccataaacctaaataattaaatttaacaaaactatttgccagagaactactagccatagcttaaaactcaaaggacttggcggtactttatatccatctagaggagcctgttctataat',\n",
       " 'aaactaggattagataccctattatgcttagccgtaaacctaaataattaaatttaacaaaactatttgccagagaactactagccatagcttaaaactcaaaggacttggcggtactttatatccatctagaggagcctgttctataat',\n",
       " 'aaactaggattagataccctattatgcttagccataaacctaaataattaaatttaacaaaactatttgccagagaactactagccatagcttaaaactcaaaggacttggcggtactttatatccatctagaggagcctgttctataat',\n",
       " 'agagcgacgggcgatgtgtgcgtacttcattgctcaattcaattaagctctctattcttaatttactactaaatcctccttagtcctttagtttcataaagggtatagtaatgttcttttataagaaaatgtagcccatttcttcccatt',\n",
       " 'aaactaggattagataccctattatgcttagccataaacctaaataattaaatttaacaaaactatttgccagagaactactagccatagcttaaaactcaaaggacttggcggtactttatatccatctagaggagcctgttctataat',\n",
       " 'aaactaggattagataccctattatgcttagccataaacctaaataattaaatttaacaaaactatttgccagagaactactagccatagcttaaaactcaaaggacttggcggtactttatatccatctagaggagcctgttctataat',\n",
       " 'aaactaggattagataccctattatgcttagccataaacctaaataattaaatttaacaaaactatttgccagagaactactagccatagcttaaaactcaaaggacttggcggtactttatatccatctagaggagcctgttctataat',\n",
       " 'agagcgacgggcgatgtgtgcgtacttcattgcacaattcaattaagctctctattcttaatttactactaaatcctccttagtcctttagttacataaagggtatagtatagctcttttataagaaaatgaagcccatttcttcccatt',\n",
       " 'agagcgacgggcgatgtgtgcgtacttcattgctcaattcaattaagctctctattcttaatttactactaaatcctccttagtcctttagtttcataaagggtatagtaatgttcttttataagaaaatgtagcccatttcttcccatt',\n",
       " 'aaactaggattagataccctattatgcttagccataaacctaaataattaaatttaacaaaattatttgccagagaactactagccatagcttaaaactcaaaggacttggcggtactttatatccatctagaggagcctgttctataat',\n",
       " 'agagcgacgggcgatgtgtgcgtacttcattgctcaattcaattaagctctctattcttaatttactactaaatcctccttagtcctttagtttcataaagggtatagtaatgttcctttataagaaaatgtagcccatttcttcccatt',\n",
       " 'aaactaggattagatacactattatgcttagccataaacctaaataattaaatttaacaaaactatttgccagagaactactagccatagcttaaaactcaaaggacttggcggtactttatatccatctagaggagcctgttctataat',\n",
       " 'agagcgacgggcgatgtgtgcgtacttcattgctcaattcaattaagctctctattcttaatttactactaaatcctccttagtcctttagtttcataaagggtatagtaatgttcttttataagaaaatgtagcccatttcttcccatt',\n",
       " 'agagcgacgggcgatgtgtgcgtacttcattgctcaattcaattaagctctctattcttaatttactactaaatcctccttagtcctttagtttcataaagggtatagtaatgttcttttataagaaaatgtagcccatttcttcccatt',\n",
       " 'aaactaggattagataccctattatgcttagccataaacctaaataattaaatttaacaaaactatttgccagagaactactagccatagcttaaaactcaaaggacttggcggtactttatatccatctagaggagcctgttctataat',\n",
       " 'agagcgacgggcgatgtgtgcgtacttcattgctcaattcaattaagctctctattcttaatttactactaaatcctccttagtcctttagtttcataaagggtatagtaatgttcttttataagaaaatgtagcccatttcttcccatt',\n",
       " 'agagcgacgggcgatgtgtgcgtacttcattgctcaattcaattaagctctctattcttaatttactactaaatcctccttagtcctttagtttcataaagggtatagtaatgttcttttataagaaaatgtagcccatttcatcccatt',\n",
       " 'aaactaggattagataccctattatgcttagccataaacctaaataattaaatttaacaaaactatttgccagagaactactagccatagcttaaaactcaaaggacttggcggtactttatatccatctagaggagcctgttctataat',\n",
       " 'agagcgacgggcgatgtgtgcgtacttcattgctcaattcaattaagctctctattcttaatttactactaaatcctccttagtcctttagtttcataaagggtatagtaatgttcttttataagaaaatgtagcccatttcttcccatt',\n",
       " 'agagcgacgggcgatgtgtgcgtacttcattgctcaattcaattaagctctctattcttaatttactactaaatcctccttagtcctttagtttcataaagggtatagtaatgttcttttataagaaaatgtagcccatttcttcccatt',\n",
       " 'aaactaggattagataccctattatgcttagccataaacctaaataattaaatttaacaaaactatttgccagagaactactagccatagcttaaaactcaaaggacttggcggtactttatatccatctagaggagcctgttctataat',\n",
       " 'agagcgacgggcgatgtgtgcgtacttcattgctcaattcaattaagctctctattcttaatttactactaaatcctccttagtcctttagtttcataaagggtatagtaatgttcttttataagaaaatgtagcccatttcttcccatt',\n",
       " 'aaactaggattagataccctattatgcttagccataaacctaaataattaaatttaacaaaactatttgccagagaactactagccatagcttaaaactcaaaggacttggcggtactttatatccatctagaggagcctgttctataat',\n",
       " 'agagcgacgggcgatgtgtgcgtacttcattgctcaattcaattaagctctctattcttaatttactactaaatcctccttagtcctttagtttcataaagggtatagtaatgttcttttataagaaaatgtagcccatttcttcccatt',\n",
       " 'agcgacgggcgatgtgtgcgtacttcattgctcaattcaattaagctctttattcttaatttactactaaatcctccttagtcctttagtttcataaagggtatagtaatgttcttttataagaaaatgtagcccatttcttcccatttc',\n",
       " 'aaaactaggattagataccctattatgcttagccataaacctaaataattaaatttaacaaaactatttgccagagaactactagccatagcttaaaactcaaaggacttggcggtactttatatccatctagaggagcctgttctataa',\n",
       " 'aaactaggattagataccctattatgcttagccataaacctaaataattaaatttaacaaaactatttgccagagaactactagccatagcttaaaactcaaaggacttggcggtactttatatccatctagaggagcctgttctataat',\n",
       " 'agagcgacgggcgatgtgtgcgtacttcattgctcaattcaattaagctctctattcttaatttactactaaatcctccttagtcctttagtttcataaagggtatagtaatgttcttttataagaaaatgtagcccatttcttcccatt',\n",
       " 'agagcgacgggcgatgtgtgcgtacttcattgctcaattcaattaagctctctattcttaatttactactaaatcctccttagtcctttagtttcataaagggtatagtaatgttcttttataagaaaatgtagcccatttcttcccatt',\n",
       " 'aaaactatttgccagagaactactagccatagcttaaaactcaaaggacttggcggtactttatatccatctagaggagcctgttctataatcgataaaccccgctctacctcaccatctcttgctaattcagcctatataccgccatct',\n",
       " 'agagcgacgggcgatgtgtgcgtacttcattgctcaattcaattaagctctctattcttaatttactactaaatcctccttagtcctttagtttcataaagggtatagtaatgttcttttataagaaaatgtagcccatttcttcccatt',\n",
       " 'agagcgacgggcgatgtgtgcgtacttcattgctcaattcaattaagctctctattcttaatttactactaaatcctccttagtcctttagtttcataaagggtatagtaatgttcttttataagaaaatgtagcccatttcttcccatt',\n",
       " 'agagcgacgggcgatgtgtgcgtacttcattgctcaattcaattaagctctctattcttaatttactactaaatcctccttagtcctttagtttcataaaggttatagtaatgttcttttataagaaaatgtagcccatttcttcccatt',\n",
       " 'aaactaggattagataccctattatgcttagccataaacctaaataattaaatttaacaaaactatttgccagagaactactagccatagcttaaaactcaaaggacttggcggtactttatatccatctagaggagcctgttctataat',\n",
       " 'agagcgacgggcgatgtgtgcgtacttcattgctcaattcaattaagctctctattcttaatttactactaaatcctccttagtcctttagtttcataaagggtatagtaatgttcttttataagaaaatgtagcccatttcttcccatt',\n",
       " 'agagcgacgggcgatgtgtgcgtacttcattgctcaattcaattaagctctctattcttaatttactactaaatcctccttagtcctttagtttcataaagggtatagtaatgttcttttataagaaaatgtagcccatttcttcccatt',\n",
       " 'aaactaggattagataccctattatgcttagccataaacctaaataattaaatttaacaaaactatttgccagagaactactagccatagcttaaaactcaaaggacttggcggtactttatatccatctagaggagcctgttctataat',\n",
       " 'aaactaggattagataccctattatgctaagccataaacctaaaaaattaaaattaacaaaactatttgccagagaactactagccatagcttaaaactcaaaggacttgtaggtaatttataaccatatacaggatcctgtactataat',\n",
       " 'aaactaggattagataccctattatgcttagccataaacctaaataattaaatttaacaaaactatttgccagagaactactagccatagcttaaaactcaaaggacttggcggtactttatatccatctagaggagcctgttctataat',\n",
       " 'agagcgacgggcgatgtgtgcgtacttcattgctcaattcaattaagctctctattcttaatttactactaaatcctccttagtcctttagtttcataaagggtatagtaatgttcttttataagaaaatgtagcccatttcttcccatt',\n",
       " 'agagcgacgggcgatgtgtgcgtacttcattgctcaattcaattaagctctctattcttaatttactactaaatcctccttagtcctttagtttcataaagggtatagtaatgttcttttataagaaaatgtagcccatttcttcccatt',\n",
       " 'aaactaggattagataccctataatgcttagccataaacctaaataattaaatttaacaaaactatttgccagagaactactagccatagcttaaaactcaaaggacttggcggtactttatatccatctagaggagcctgttctataat',\n",
       " 'ccagagaactactagccatagcttaaaactcaaaggacttggcggtactttatatccatctagaggcgcctgttctataatcgataaaccccgctctacctcaccatctcttgctaattcagcctatataccgccatcttcagcaaaccc',\n",
       " 'agagcgacgggcgatgtgtgcgtacttcattgctcaattcaattaagctctctattcttaatttactactaaatcctccttagtcctttagtttcataaagggtatagtaatgttcttttataagaaaatgtagcccatttcttcccatt',\n",
       " 'agagcgacgggcgatgtgtgcgtacttcattgctcaattcaattaagctctctattcttaatttactactaaatcctccttagtcctttagtttcataaagggtatagtaatgttcttttataagaaaatgtagcccatttcttcccatt',\n",
       " 'aaactaggattagataccctattatgcttagccataaacctaaataattaaatttaacaaaactatttgccagagaactactagccatagcttaaaactcaaaggacttggcggtactttatatccatctagaggagcctgttctataat',\n",
       " 'gcttagccataaacctaaataattaaatttaacaaaactatttgccagagaactactagccatagcttaaaactcaaaggacttggcggtactttatatccatctagaggagcctgttctataatcgataaaccccgctctacctcaccc',\n",
       " 'aaactaggattagataccctattatgcttagccataaacctaaataattaaatttaacaaaactatttgccagagaactactagccatagcttaaaactcaaaggacttggcggtactttatatccatctagaggagcctgttctataat',\n",
       " 'agagcgacgggcgatgtgtgcgtacttcattgctcaattcaattaagctctctattcttaatttactactaaatcctccttagtcctttagtttcataaagggtatagtaatgttcttttataagaaaatgtagcccatttcttcccatt',\n",
       " 'agagcgacgggcgatgtgtgcgtacttcattgctcaattcaattaagctctctattcttaatttactactaaatcctccttagtcctttagtttcataaagggtatagtaatgttcttttataagaaaatgtagcccatttcttcccatt',\n",
       " 'aaactaggattagataccctattatgcttagccataaacctaaataattaaatttaacaaaactatttgccagagaactactagccatagcttaaaactcaaaggacttggcggtactttatatccatctagaggagcctgttctataat',\n",
       " 'agagcgacgggcgatgtgtgcgtacttcattgctcaattcaattaagctctctattcttaatttactactaaatcctccttagtcctttagtttcataaagggtatagtaatgttcttttataagaaaatgtagcccatttcttcccatt',\n",
       " 'gcttagacataaacctaaataattaaatttaacaaaactatttgccagagaactactagccatagcttaaaactcaaaggacttggcggtactatatatccatctagaggagcctgttctataatcgataaaccccgctctacctcacct',\n",
       " 'aaactaggattagataccctattatgcttagccataaacctaaataattaaatttaacaaaactatttgccagagaactactagccatagcttaaaactcaaaggacttggcggtactttatatccatctagaggagcctgttctataat',\n",
       " 'aaactaggattagataccctattatgcttagccataaacctaaataattaaatttaacaaaactatttgccagagagctactagccatagcttaaaactcaaaggacttggcggtactttatatccatctagaggagcctgttctataat',\n",
       " 'aaactaggattagataccctattatgcttagccataaacctaaataattaaatttaacaaaactatttgccagagaactactagccatagcttaaaactcaaaggacttggcggtactttatatccatctagaggagcctgttctataat',\n",
       " 'aaactaggattagataccctattatgcttagccataaacctaaataattaaatttaacaaaactatttgccagagaactactagccatagcttaaaactcaaaggacttggcggtactttatatccatctagaggagcctgttctataat',\n",
       " 'aaactaggattagataccctattatgcttagccataaacctaaataattaaatttaacaaaactatttgccagagaactactagccatagcttaaaactcaaaggacttggcggtactttatatccatctagaggagcctgttctataat',\n",
       " 'aaactaggattagataccctattatgcttagccataaacctaaataattaaatttaacaaaactatttgccagagaactactagccatagcttaaaactcaaaggacttggcggtactttatatccatctagaggagcctgttctataat',\n",
       " 'agagcgacgggcgatgtgtgcgtacttcattgctcaattcaattaagctctctattcttaatttactactaaatcctccttagtcctttagtttcataaagggtatagtaatgttcttttataagaaaatgtagcccatttcttcccatt',\n",
       " 'aaaataggaatacaaaccctattatgcttagccataaaccaaaataattaaaaataacaaaactatttgccagagaactactagccatagcttaaaactcaaaggacttggcggtactttatatccatctagaggagcctgttctataat',\n",
       " 'gcttagccataaacctaaataattaaatttaacaaaactatttgccagagagctactagccatagcttaaaactcaaaggacttggcggtactttatatccatctagaggagcctgttctataatcgataaaccccgctctacctcaccc',\n",
       " 'aaactaggattagataccctattatgcttagccataaacctaaataattaaatttaacaaaactatttgccagagaactactagccatagcttaaaactcaaaggacttggcggtactttatatccatctagaggagcctgttctataat',\n",
       " 'aaactaggattagataccctattatgcttagccataaacctaaataattaaatttaacaaaactatttgccagagagctactagccatagcttaaaactcaaaggacttggcggtactttatatccatctagaggagcctgttctataac',\n",
       " 'aaactaggattagataccctattatgcttagccataaacctaaataattaaatttaacaaaactatttgccagagagctactagccatagcttaaaactcaaaggacttggcggtactttatatccatctagaggagcctgttctataat',\n",
       " 'agagcgacgggcgatgtgtgcgtacttcattgctcaattcaattaagctctctattcttaatttactactaaatcctccttagtcctttagtttcataaagggtatagtaatgttcttttataagaaaatgtagcccatttcttcccatt',\n",
       " 'ctaggattagataccctattatgcttagccataaacctaaataattaaatttaacaaaactatttgccagagaactactagccatagcttaaaactcaaaggacttggcggtactttatatccatctagaggagcctgttctataatcga',\n",
       " 'agagcgacgggcgatgtgtgcgtccttcattgctcaattcaattaagctctctattcttaatttactactaaatcctccttagtcctttagtttcataaagggtatagtaatgttcttttataagaaaatgtagcccatttcttcccatt',\n",
       " 'agagcgacgggcgatgtgtgcgtacttcattgctcaattcaattaagctctctattcttaatttactactaaatcctccttagtcctttagtttcataaagggtatagtaatgttcttttataagaaaatgtagcccatttcttcccatt',\n",
       " 'aaactaggattagataccctattatgcttagccataaacctaaataattaaatttaacaaaactatttgccagagaactactagccatagcttaaaactcaaaggacttggcggtactttatatccatctagaggagcctgttctataat',\n",
       " 'agagcgacgggcgatgtgtgcgtacttcattgctcaattcaattaagctctctattcttaatttactactaaatcctccttagtcctttagtttcataaagggtatagtaatgttcttttataagaaaatgtagcccatttcttcccatt',\n",
       " 'aaactaggattagataccctattatgcttagccataaacctaaataattaaatttaacaaaactatttgccagagaactactagccatagcttaaaactcaaaggacttggcggtactttatatccatctagaggagcctgttctataat',\n",
       " 'aaactaggattagataccctattatgcttagccataaacctaaataattaaatttaacaaaactatttgccagagaactactagccatagcttaaaactcaaaggacttggcggtactttatatccatctagaggagcctgttctataat',\n",
       " 'aaacactattatcaaaacaaataaacctaaaaataaaaataaaaaaaaacaattatcaacacaactacaaacaaaaccaaaaaacacaaaggacaactcctaacaatataaactactatagaaccctcttcaataaactataataacctc',\n",
       " 'aaactaggattagataccctattatgcttagccataaacctaaataattaaatttaacaaaactatttgccagagaactactagccatagcttaaaactcaaaggacttggcggtactttatatccatctagaggagcctgttctataat',\n",
       " 'aaactaggattagataccctattatgcttagccataaacctaaataattaaatttaacaaaactatttgccagagaactactagccatagcttaaaactcaaaggacttggcggtactttatatccatctagaggagcctgttctataat',\n",
       " 'aaactaggattagataccctattatgcttagccataaacctaaatagttaaatttaacaaaactatttgccagagaactactagccatagcttaaaactcaaaggacttggcggtactttatatccatctagaggagcctgttctataat',\n",
       " 'agagcgacgggcgatgtgtgcgtacttcattgctcaattcaattaagctctctattcttaatttactactaaatcctccttagtcctttagtttcataaagggtatagtaatgttcttttataagaaaatgtagcccatttcttcccatt',\n",
       " 'aaactaggattagataccctattatgcttagccataaacctaaataattaaatttaacaaaactatttgccagagaactactagccatagcttaaaactcaaaggacttggcggtactttatatccatctagaggagcctgttctataat',\n",
       " 'aaactaggattagataccctattatgcttagccataaacctaaataattaaatttaacaaaactatttgccagagaactactagccatagcttaaaactcaaaggacttggcggtactttatatccatctagaggagcctgttctataat',\n",
       " 'aaactaggattagataccctattattaattatgtaaatttgaatatcagggtagtaatagatatggtcttgaaacccaaagaatttggcggtattttagtcctttcagaggaacctgttctgtaattgataatacacgatttatttaact',\n",
       " 'aaactaggattagatacccaattatgcttagccataaacctaaataataaaatataacaaaactatttgccagagaactactagccatagcttaaaactcaaaggacttggcggtacataatatccatctagaggagcctgttctagaac',\n",
       " 'aaactaggattagataccctattatgcttagccataaacctaaataattaaatttaacaaaactatttgccagagaactactagccatagcttaaaactcaaaggacttggcggtactttatatccatctagaggagcctgttctataat',\n",
       " 'aaactaggattagataccctattatgcttagccataaacctaaataattaaatttaacaaaactatttgccagagaactactagccatagcttaaaactcaaaggacttggcggtactttatatccatctagaggagcctgttctataat',\n",
       " 'aaactaggattagataccctattatgcttagccataaaccaaaataattaaatttaacaaaactatttgccagatatctacaagccatagcttaaaactcaaaggaaatggcggtactttatatccatctagaggatcctttactataat',\n",
       " 'agagcgacgggcgatgtgtgcgtacttcattgctcaattcaattaagctctctattcttaatttactactaaatcctccttagtcctttagtttcataaagggtatagtaatgctcttttataagaaaatgtagcccatttcttcccatt',\n",
       " 'aaactaggattagataccctattatgcttagccataaacctaaataattaaatttaacaaaactatttgccagagaactactagccatagcttaaaactcaaaggacttggcggtactttatatccatctagaggagcctgttctataat',\n",
       " 'aaactaggattagataccctattatgcttagccataaacctaaataattaaatttaacaaaactatttgccagagaactactagccatagcttaaaactcaaaggacttggcggtactttatatccatttagaggagcctgttctataat',\n",
       " 'agagcgacgggcgatgtgtgcgtacttcattgctcaattcaattaagctctctattcttaatttactactaaatcctccttagtcctttagtttcataaagggtatagtaatgttcttttataagaaaatgtagcccatttcttcccatt',\n",
       " 'aaactaggattagataccctattatgcttagccataaacctaaataattaaatttaacaaaactatttgccagagaactactagccatagcttaaaactcaaaggacttggcggtactttatatccatctagaggagcctgttctataat',\n",
       " 'agagcgacgggcgatgtgtgcgtacttcattgctcaattcaattaagctctctattcttaatttactactaaatcctccttagtcctttagtttcataaagggtatagtaatgttcttttataagaaaatgtagcccatttcttcccatt',\n",
       " 'agagcgacgggcgatgtgtgcgtacttcattgctcaattcaattaagctctctattcttaatttactactaaatcctccttagtcctttagtttcataaagggtatagtaatgttcttttataagaaaatgtagcccatttcttcccatt',\n",
       " 'agagcgacgggcgatgtgtgcgtacttcattgctcaattcaattaagctctctattcttaatttactactaaatcctccttagtcctttagtttcataaagggtatagtaatgttcttttataagaaaatgtagcccatttcttcccatt',\n",
       " 'agagcgacgggcgatgtgtgcgtacttcattgctcaattcaattaagctctctattcttaatttactactaaatcctccttagtcctttagtttcataaagggtatagtaatgttcttttataagaaaatgtagcccatttcttcccatt',\n",
       " 'agagcgacgggcgatgtgtgcgtacttcattgctcaattcaattaagctctctattcttaatttactactaaatcctccttagtcctttagtttcataaagggtatagtaatgttcttttataagaaaatgtagcccatttcttcccatt',\n",
       " 'aaactaggattagataccctattatgcttagccataaacctaaataattaaatttaacaaaactatttgccagagaactactagccatagcttaaaactcaaaggacttggcggtactttatatccatctagaggagcctgttctataat',\n",
       " 'agagcgacgggcgatgtgtgcgtacttcattgctcaattcaattaagctctctattcttaatttactactaaatcctccttagtcctttagtttcataaagggtatagtaatgttcttttataagaaaatgtagcccatttcttcccatt',\n",
       " 'aaactaggattagataccctattatgcttagccataaacctaaataattaaatttaacaaaactatttgccagagaactactagccatagcttaaaactcaaaggacttggcggtactttatatccatctagaggagcctgttctataac',\n",
       " 'agagcgacgggcgatgtgtgcgtccatcatttctcatttctaattagctctctattctaaatatactagaaaatgctcctatgacctatagtttcattaagggtatagtatagttcttttataagaaaatgaagcagtttacttcccttt',\n",
       " 'agagcgacgggcgatgtgtgcgtacttcattgctcaattcaattaagctctctattcttaatttactactaaatcctccttagtcctttagtttcataaagggtatagtaatgttcttttataagaaaatgtagcccatttcttcccatt',\n",
       " 'aaactaggattagataccctattatgcttagccataaacctaaataattaaatttaacaaaactatttgccagagaactactagccatagcttaaaactcaaaggacttggcggtactttatatccatctagaggagcctgttctataat',\n",
       " 'agagcgacgggcgatgtgtgcgtacttcattgctcaattcaattaagctctctattcttaatttactactaaatcctccttagtcctttagtttcataaagggtatagtaatgttcttttataagaaaatgtagcccatttcttcccatt',\n",
       " 'aaactaggattagataccctattatgcttagccataaacctaaataatcaaatttaacaaaactatttgccagagaactactagccatagcttaaaactcaaaggacttggcggtactttatatccatctagaggagcctgttctataat',\n",
       " 'aaactaggattagataccctattatgcttagccataaacctaaataattaaatttaacaaaactatttgccagagaactactagccatagcttaaaactcaaaggacttggcggtactttatatccatctagaggagcctgttctgtaat',\n",
       " 'agagcgacgggcgatgtgtgcgtacttcattgctcaattcaattaagctctctattcttaatttactactaaatcctccttagtcctttagtttcataaagggtatagtaatgttcttttataagaaaatgtagcccatttcttcccatt',\n",
       " 'actaggattagataccctattatgcttagccataaacctaaataattaaatttaacaaaactatttgccagagaactactagccatagcttaaaactcaaaggacttggcggtactttatatccatctagaggagcctgttctatagtcg',\n",
       " 'agagcgacgggcgatgtgtgcgtacttcattgctcaattcaattaagctctctattcttaatttactactaaatcctccttagtcctttagtttcataaagggtatagtaatgttcttttataagaaaatgtagcccatttcttcccatt',\n",
       " 'aaactaggattagataccctattatgcttagccataaacctaaataattaaatttaacaaaactatttgccagagaactactagccatagcttaaaactcaaaggacttggcggtactttatatccatctagaggagcctgttctataat',\n",
       " 'gcttagccataaacctaaataattaaatttaacaaaactatttgccagagaactactagccatagcttaaaactcaaaggacttggcggtactttatatccatctagaggagcctgttctataatcgataaaccccgctctacctcaccc',\n",
       " 'agagcgacgggcgatgtgtgcgtccttcattgctcaattcaattaagctctctattcttaaattactacgaaatcctcctgagtcctttagtttcataaagggtatagtaatgttctgttataagaaaatgaagcctatgtcttcccctt',\n",
       " 'agagcgacgggcgatgtgtgcgtacttcattgctcaattcaattaagctctctattcttaatttactactaaatcctccttagtcctttagtttcataaagggtatagtaatgttcttttataagaaaatgtagcccatttcttcccatt',\n",
       " 'agagcgacgggcgatgtgtgcgtacttcattgctcaattcaattaagctctctattcttaatttactactaaatcctccttagtcctttagtttcataaagggtatagtaatgttcttttataagaaaatgtagcccatttcttcccatt',\n",
       " 'agagcgacgggcgatgtgtgcgtacttcattgctcaattcaattaagctctctattcttaatttactactaaatcctccttagtcctttagtttcataaaggatatagtaatgttcttttataagaaaatgtagcccatttcttcccatt',\n",
       " 'agagcgacgggcgatgtgtgcgtacttcattgctcaattcaattaagctctctattcttaatttactactaaatcctccttagtcctttagtttcataaagggtatagtaatgttcttttataagaaaatgtagcccatttcttcccatt',\n",
       " 'aaactaggattagataccctattatgcttagccataaacctaaataattaaatttaacaaaactatttgccagagaactactagccatagcttaaaactcaaaggacttggcggtactttatatccatctagaggagcctgttctataat',\n",
       " 'aaactaggattagataccctattatgcttagccataaacctaaataattaaatttaacaaaactatttgccagagaactactagccatagcttaaaactcaaaggacttggcggtactttatatccatctagaggagcctgttctataat',\n",
       " 'aaactaggattagataccctattatgcttagccataaacctaaataattaaatttaacaaaactatttgccagagaactactagccatagcttaaaactcaaaggacttggcggtactttatatccatctagaggagcctgttctataat',\n",
       " 'aaactaggattagataccctattatgcttagccataaacctaaataattaaatttaacaaaactatttgccagagaactactagccatagcttaaaactcaaaggacttggcggtactttatatccatctagaggagcctgttctataat',\n",
       " 'agagcgacgggcgatgtgtgcgtacttcattgctcaattcaattaagctctctattcttaatttactactaaatcctccttagtcctttagtttcataaagggtatagtaatgttcttttataagaaaatgtagcccatttcttcccatt',\n",
       " 'aaactaggattagataccctattatgcttagccataaacctaaataattaaatttaacaaaactatttgccagagaactactagccatagcttaaaactcaaaggacttggcggtactttatatccatctagaggagcctgttctataat',\n",
       " 'agagcgagggcgatgtgtgcgtacttcatttctcaattaaattaagatctctatacttaatttactactaaatcctccttagtcctttagtttcataaagggtatagtaatgttcttttataagaaaatgtagcccatttcttcccattt',\n",
       " 'aaactaggattagataccctattatgcttagccataaacctaaataattaaatttaacaaaactatttgccagagaactactagccatagcttaaaactcaaaggacttggcggtactttatatccatctagaggagcctgttctataat',\n",
       " 'aaactaggattagataccctattatgcttagccataaacctaaataattaaatttaacaaaactatttgccagagaactactagccatagcttaaaactcaaaggacttggcggtactttatatccatctagaggagcctgttctataat',\n",
       " 'agagcgacgggcgatgtgtgcgtacttcattgctcaattcaattaagctctctattcttaatttactactaaatcctccttagtcctttagtttcataaagggtatagtaatgttcttttataagaaaatgtagcccatttcttcccatt',\n",
       " 'agagcgacgggcgatgtgtgcgtacttcattgctcaattcaattaagctctctattcttaatttactactaaatcctccttagtcctttagtttcataaagggtatagtaatgttcttttataagaaaatgtagcccatttcttcccatt',\n",
       " 'aaactaggattagataccctattatgcttagccataaacctaaataattaaatttaacaaaactatttgccagagaactactagccatagcttaaaactcaaaggacttggcggtactttatatccatctagaggagcctgttctataat',\n",
       " 'agagcgacgggcgatgtgtgcgtacttcattgctcaattcaattaagctctctattcttaatttactactaaatcctccttagtcctttagtttcataagggtatagtaatgttcttttataagaaaatgtagcccatttcttcccattt',\n",
       " 'agagcgacgggcgatgtgtgcgtacttcattgctcaattcaattaagctctctattcttaatttactactaaatcctccttagtcctttagtttcataaagggtatagtaatgttcttttataagaaaatgtagcccattccttcccatt',\n",
       " 'aaactaggattagataccctattatgcttagccataaacctaaataattaaatttaacaaaactatttgccagagaactactagccatagcttaaaactcaaaggacttggcggtactttatatccatctagaggagcctgttctataat',\n",
       " 'agcgacgggcgatgtgtgcgtacttcattgctcaattcaattaagctctctattcttaatttactactaaatcctccttagtcctttagtttcataaagggtatagtaatgttcttttataagaaaatgtagcccatttcttcccatttc',\n",
       " 'aaaatatgataagaaacactataatgattagaaataaacctaaaaaataaaattaaaaaaaactatttgccagagaactactagccatagcttaaaactcaaaggacttggcggtactttatatccatctagaggagcctgttctataat',\n",
       " 'aaactaggattagataccctattatgcttagccataaacctaaataattaaatttaacaaaactatttgccagagaactactagccatagcttaaaactcaaaggacttggcggtactttatatccatctagaggagcctgttctataat',\n",
       " 'aaactaggattagataccctattatgcttagccataaacctaaataattaaatttaacaaaactatttgccagagagctactagccatagcttaaaactcaaaggacttggcggtactttatatccatctagaggagcctgttctataat',\n",
       " 'aaactaggattagataccctattatgcttagccataaacctaaataattaaatttaacaaaactatttgccagagaactactagccatagcttaaaactcaaaggacttggcggtactttatatccatctagaggagcctgttctataat',\n",
       " 'aaactaggattagataccctattatgcttagccataaacctaaataattaaatttaacaaaactatttgccagagaactactagccatagcttaaaactcaaaggacttggcggtactttatatccatctagaggagcctgttctataat',\n",
       " 'agagcgacgggcgatgtgtgcgtacttcattgctcaattcaattaagctctctattcttaatttactactaaatcctccttagtcctttagtttcataaagggtatagtaatgttcatttataagaaaatgtagcccatttcttcccatt',\n",
       " 'aaactaggattagataccctattatgcttagccataaacctaaataattaaatttaacaaaactatttgccagagaactactagccatagcttaaaactcaaaggacttggcggtactttatatccatctagaggagcctgttctataat',\n",
       " 'agagcgacgggcgatgtgtgcgttcttcattgctcaattcaattaagctctctattcttaatttactactaaatcctccttagtcctttagtttcataaagggtttagtaatgttcttttataagaaaatgtagcccatgtcttcccatt',\n",
       " 'aaactaggattagataccctattatgcttagccataaacctaaataattaaatttaacaatactatttgccagagaactactagccatagcttaaaactcaaaggacttggcggtactttatatccatctagaggagcctgttctataac',\n",
       " 'agagcgacgggcgatgtgtgcgtacttcattgctcaattcaattaagctctctattcttaatttactactaaatcctccttagtcctttagtttcataaagggtatagtaatgttcttttataagaaaatgtagcccatttcttcccatt',\n",
       " 'agagcgacgggcgatgtgtgcgtacttcattgctcaattcaattaagctctctattcttaatttactactaaatcctccttagtcctttagtttcataaagggtatagtaatgttcttttataagaaaatgtagcccatttcttcccatt',\n",
       " 'agagcgacgggcgatgtgtgcgtacttcattgctcaattcaattaagctctctatttttaatttactactaaatcctccttagtcctttagtttcataaagggtatagtaatgttcttttataagaaaatgtagcccatttcttcccatt',\n",
       " 'agagcgacgggcgatgtgtgcgtacttcattgctcaattcaattaagctctctattcttaatttactactaaatcctccttagtcctttagtttcataaagggtatagtaatgttcttttataagaaaatgtagcccatttcttcccatt',\n",
       " 'agagcgacgggcgatgtgtgcgtacttcattgctcaattcaattaagctctctattcttaatttactactaaatcctccttagtcctttagtttcataaagggtatagtaatgttcttttataagaaaatgtagcccatttcttcccatt',\n",
       " 'agagcgacgggcgatgtgttcgtacttcattgctcaattcaattaagctctctatacttaatttactactaaatcctccttagtcctttagtttcataaagggaatagtaatgttcttttataagaaaatgtatcccatttcttcccatt',\n",
       " 'agagcgacgggcgatgtgtgcgtacttcattgctcaattcaattaagctctctattcttaatttactactaaatcctccttagtcctttagtttcataaagggtatagtaatgttcttttataagaaaatgtagcccatttcttcccatt',\n",
       " 'agagcgacgggcgatgtgtgcgtacttcattgctcaattcaattaagctctctattcttaatttactactaaatcctccttagtcctttagtttcataaagggtatagtaatgttcttttataagaaaatgtagcccatttcttcccatt',\n",
       " 'ataccctattatgcttagccataaacctaaataattaaatttaacaaaactatttgccagagaactactagccatagcttaaaactcaaaggacttggcggtactttatatccatctagaggagcctgttctataatcgataaaccccgc',\n",
       " 'aaactaggattagataccctattatgcttagccataaacctaaataattaaatttaacaaaactatttgccagagaactactagccatagcttaaaactcaaaggacttggcggtactttatatccatctagaggagcctgttctataat',\n",
       " 'aaactaggattagataccctattatgcttagccataaacctaaataattaaatttaacaaaactatttgccagagaactactagccatagcttaaaactcaaaggacttggcggtactttatatccatctagaggagcctgttctataat',\n",
       " 'aaactaggattagataccctattatgcttagccataaacctaaataattaaatttaacaaaactatttgccagagaactactagccatagcttaaaactcaaaggacttggtggtactttatatccatctagaggagcctgttctataat',\n",
       " 'gagcgacgggcgatgtgtgcgtacttcattgctcaattcaattaagctctctattcttaatttactactaaatcctccttagtcctttagtttcataaagggtatagtaatgttcttttataagaaaatgtagcccatttcttcccattt',\n",
       " 'agagcgacgggcgatgtgtgcgtacttcattgctcaattcaattaagctctctattcttaatttactactaaatcctccttagtcctttagtttcataaagggtatagtaatgttcttttataagaaaatgtagcccatttcttcccatt',\n",
       " 'agagcgacgggcgatgtgtgcgtacttcattgctcaattcaattaagctctctattcttaatttactactaaatcctccttagtcctttagtttcataaagggtatagtaatgttcttttataagaaaatgtagcccatttcttcccatt',\n",
       " 'aaactaggattagataccctattatgcttagccataaacctaaataattaaatttaacaaaactatttgccagagaactactagccatagcttaaaactcaaaggacttggcggtactttatatccatctagaggagcctgttctataat',\n",
       " 'agagcgacgggcgatgtgtgcgtacttcattgctcaattcaattaagctctctattcttaatttactactaaatcctccttagtcctttagtttcataaagggtatagtaatgttcttttataagaaaatgtagcccatttcttcccatt',\n",
       " 'agagcgacgggcgatgtgtgcgtacttcattgctcaattcaattaagctctctattcttaatttactactaaatcctccttggtcctttagtttcataaagggtatagtaatgttcttttataagaaaatgtagcccatttcttcccact',\n",
       " 'agagcgacgggcgatgtgtgcgtacttcattgctcaattcaattaagctctctattcttaatttactactaaatcctccttagtcctttagtttcataaagggtatagtaatgttcttttataagaaaatgtagcccatttcttcccatt',\n",
       " 'agagcgacgggcgatgtgtgcgtacttcattgctcaattcaattaagctctctattcttaatttactactaaatcctccttagtcctttagtttcataaagggtatagtaatgttcctttataagaaaatgtagcccatttcttcccatt',\n",
       " 'agagcgacgggcgatgtgtgcgtacttcattgctcaattcaattaagctctctattcttaatttactactaaatcctccttagtcctttagtttcataaagggtatagtaatgttcttttataagaaaatgtagcccatttcttcccatt',\n",
       " 'agagcgacgggcgatgtgtgcgtacttcattgctcaattcaattaagctctctattcttaatttactactaaatcctccttagtcctttagtttcataaagggtatagtaatgttcttttataagaaaatgtagcccatttcttcccatt',\n",
       " 'agagcgacgggcgatgtgtgcgtacttcattgctcaattcaattaagctctctattcttaatttactactaaatcctccttagtcctttagtttcataaagggtatagtaatgttcttttataagaaaatgtagcccatttcttcccatt',\n",
       " 'agagcgacgggcgatgtgtgcgtacttcattgctcaattcaattaagctctctattcttaatttactactaaatcctccttagtcctttagtttcataaagggtatagtaatgttcttttataagaaaatgtagcccatttcttcccatt',\n",
       " 'agagcgacgggcgatgtgtgcgtacttcattgctcaattcaattaagctctctattcttaatttaccactaaatcctccttagtcctttagtttcataaagggtatagtaatgttcttttataagaaaatgtagcccatttcttcccatt',\n",
       " 'aaactaggattagataccctattatgcttagccataaacctaaataattaaatttaacaaaactatttgccagagaactactagccatagcttaaaactcaaaggacttggcggtactttatatccatctagaggagcctgttctataat',\n",
       " 'aaactaggattagataccctattatgcttagccataaaactaaataattaaatttaacaaatctatttgccagagaactactagccatagcttaaaactaaaaggacttggcggtactttatatccatcaagaggagcctgatctataat',\n",
       " 'agagcgacgggcgatgtgtgcgtacttcattgctcaattcaattaagctctctattcttaatttactactaaatcctccttagtcctttagtttcataaagggtatagtaatgttcttttataagaaaatgtagcccatttcttcccatt',\n",
       " 'aaactaggattagataccctattatgcttagccataaacctaaataattaaatttaacaaaactatttgccagagaactactagccatagcttaaaactcaaaggacttggcggtactttatatccatctagaggagccgcttctataat',\n",
       " 'agagcgacgggcgatgtgtgcgtacttcattgctcaattcaattaagctccctattcttaatttactactaaatcctccttagtcctttagtttcataaagggtatagtagtgttcttttataagaaaatgtagcccatttcttcccatt',\n",
       " 'aaactaggattagataccctattatgcttagccataaacctaaataattaaatttaacaaaactatttgccagagaactactagccatagcttaaaactcaaaggacttggcggtactttatatccatctagaggagcctgttctataat',\n",
       " 'aaactaggattagataccctattatgcttagccataaacctaaataattaaatttaacaaaactatttgccagagaactactagccatagcttaaaactcaaaggacttggcggtactttatatccatctagaggagcctgttctataat',\n",
       " 'agagcgacgggcgatgtgtgcgtacttcattgctcaattcaattaagctctctattcttaatttactactaaatcctccttagtcctttagtttcgtaaagggtatagtaatgttcttttataagaaaatgtagcccatttcttcccatt',\n",
       " 'agagcgacgggcgatgtgtgcgtacttcattgctcaattcaattaagctctctattcttaatttactactaaatcctccttagtcctttagtttcataaagggtatagtaatgttcttttataagaaaatgtagcccatttcttcccatt',\n",
       " 'agagcgacgggcgatgtgtgcgtacttcattgctcaattcaattaagccctctattcttaatttactactaaatcctccttagtcctttagtttcataaagggtatagtaatgttcttttataagaaaatgtagcccatttcttcccatt',\n",
       " 'agagcgacgggcgatgtgtgcgtacttcattgctcaattcaattaagctctctattcttaatttactactaaatcctccttagtcctttagtttcataaagggtatagtaatgttcttttataagaaaatgtagcccatttcttcccatt',\n",
       " 'aaactaggattagataccctattatgcttagccataaacctaaataattaaatttaacaaaactatttgccagagaactactagccatagcttaaaacacaaacgacttggcggtactttatatccatctagaggagcctgttctataat',\n",
       " 'agagcgacgggcgatgtgtgcgtacttcattgctcaattcaattaagctctctattcttaatttactactaaatcctccttagtcctttagtttcataaagggtatagtaatgttcttttataagaaaatgtagcccatttcttcccatt',\n",
       " 'agagcgacgggcgatgtgtgcgtacttcattgctcaattcaattaagctctctattcttaatttactactaaatcctccttagtcctttagtttcataaagggtatagtaatgttcttttataagaaaatgtagcccatttcttcccatt',\n",
       " 'agagcgacgggcgatgtgtgcgtacttcattgctcaattcaattaagctctctattctttatttactactaaatcctccttagtcctttagtttcataaagggtatagtaatgttcttttataagaaaatgtagcccatttcttcccatt',\n",
       " 'aaactaggattagataccctattatgcttagccataaacctaaataattaaatttaacaaaactatttgccagagaactactagccatagcttaaaactcaaaggacttggcggtactttatatccatctagaggagcctgttctataat',\n",
       " 'aaactaggattagataccctattatgcttagccataaacctaaataattaaatttaacaaaactatttgccagagaactactagccatagcttaaaactcaaaggacttggcggtactttatatccatctagaggagcctgttctataat',\n",
       " 'aaactaggattagataccctattatgcttagccataaacctaaataattaaatttaacaaaactatttgccagagaactactagccatagcttaaaactcaaaggacttggcggtactttatatccatctagaggagcctgttctataat',\n",
       " 'aaactaggattagataccctattatgcttagccgtaaacctaaataattaaatttaacaaaactatttgccagagaactactagccatagcttaaaactcaaaggacttggcggtactttatatccatctagaggagcctgttctataaa',\n",
       " 'agagcgacgggcgatgtgtgcgtacttcattgctcaattcaattaagctctctattcttaatttactactaaatcctccttagtcctttagtttcataaagggtatagtaatgttcttttataagaaaatgtagcccatatcatcccatt',\n",
       " 'agagcgacgggcgatgtgtgcgtacttcattgctcaattcaattaagctctctattcttaatttactactaaatcctccttagtcctttagtttcataaagggtatagtaatgttcttttataagaaaatgtagcccatttcttcccatt',\n",
       " 'aaactaggattagataccctattatgcttagccataaacctaaataattaaatttaacaaaactatttgccagagaactactagccatagcttaaaactcaaaggacttggcggtactttatatccatctagaggagcctgttctataat',\n",
       " 'aaactaggattagataccctattatgcttagccataaacctaaataattaaatttaacaaaactatttgccagagaactactagccatagcttaaaactcaaaggactcggcggtactttatatccatctagaggagcctgttctataat',\n",
       " 'aaactaggattagataccctattatgcttagccataaacctaaataattaaatttaacaaaactatttgccagagaactactagccatagcttaaaactcaaaggacttggcggtactttatatccatctagaggagcctgttctataat',\n",
       " 'aaactaggattagataccctattatgcttagccataaacctaaataattaaatttaacaaaactatttgccagagaactactagccatagcttaaaactcaaaggacttggcggtactttatatccatctagaggagcctgttctataat',\n",
       " 'aaactaggattagataccctattatgcttagccataaacctaaataattaaatttaacaaaactatttgccagagagctactagccatagcttaaaactcaaaggacttggcggtactttatatccatctagaggagcctgttctataat',\n",
       " 'agagcgacgggcgatgtgtgcgcacttcattgctcaattcaattaagctctctattcttaatttactactaaatcctccttagtcctttagtttcataaagggtatagtaatgttcttttataagaaaatgtagcccatttcttcccatt',\n",
       " 'agagcgacgggcgatgtgtgcgtacttcattgctcaattcaattaagctctctattcttaatttactactaaatcctccttagtcctttagtttcataaagggtatagtaatgttcttttataagaaaatgtagcccatttcttcccatt',\n",
       " 'aaactaggattagataccctattatgcttagccataaacctaaataattaaatttaacaaaactatttgccagagaactactagccatagcttaaaactcaaaggacttggcggtactttatatccatctagaggagcctgttctataat',\n",
       " 'aaactaggattagataccctattatgttaaggcataaacctacattttttaatatatcaaaaataattgccacaaaactactagccatagcttaaaactgaattgacataggagtacattatatcatactagaggttcctgtaatataat',\n",
       " 'aaactaggattagataccctattatgcttagccataaacctaaataattaaatttaacaaaactatttgccagagaactactagccatagcttaaaactcaaaggacttggcggtactttatatccatctagaggagcctgttctataat',\n",
       " 'agagcgacgggcgatgtgtgcgtacttcattgctcaattcaattaagctctctattcttaatttactactaaatcctccttagtcctttagtttcataaagggtatagtaatgttcttttataagaaaatgtagcccatttcttcccatt',\n",
       " 'agagcgacgggcgatgtgtgcgtacttcattgctcaattcaattaagctctctattcttaatttactactaaatcctccttagtcctttagtttcataaagggtatagtaatgttcttttataagaaaatgtagcccatttcttcccatt',\n",
       " 'aaactaggattagataccctattatgcttagccataaacctaaataattaaatttaacaaaactatttgccagagaactactagccatagcttaaaactcaaaggacttggcggtactttatatccatctagaggagcctgttctataat',\n",
       " 'agagcgacgggcgatgtgtgcgtacttcattgctcaattcaattaagctctctattcttaatttactactaaatcctccttagtcctttagtttcataaagggtatagtaatgttcttttataagaaaatgtagcccatttcttcccatt',\n",
       " 'agagcgacgggcgatgtgtgcgtacttcattgctcaattcaattaagctctctattcttaatttactactaaatcctccttaatcctttagtttcataaagggtatagtaatgttcttttataagaaaatgtagcccatttcttcccatt',\n",
       " 'agagcgacgggcgatgtgtgcgtacttcattgctcaattcaattaagctctctattcttaatttactactaaatcctccttagtcctttagtttcataaagggtatagtaatgttcttttataagaaaatgtagcccatttcttcccatt',\n",
       " 'aaactaggattagataccctattatgcttagccataaacctaaataattaaatttaacaaaactatttgccagagaactactagccatagcttaaaactcaaaggacttggcggtactttatatccatctagaggagcctgttctataaa',\n",
       " 'aaactaggattagataccctattatgcttagccataaacctaaataattaaatttaacaaaactatttgccagagaactactagccatagcttaaaactcaaaggacttggcggtactttatatccatctagaggagcctgttctataat',\n",
       " 'aaactaggattagataccctattatgcttagccataaacctaaataattaaatttaacaaaactatttgccagagaactactagccatagcttaaaactcaaaggacttggcggtactttatatccatctagaggagcctgttctataat',\n",
       " 'aaactaggattagataccctattatgcttagccataaacctaaataattaaatttaacaaaactatttgccagagaactactagccatagcttaaaactcaaaggacttggcggtactttatatccatctagaggagcctgttctataat',\n",
       " 'agagcgacgggcgatgtgtgcgtacttcattgctcaattcaattaagctctctattcttaatttactactaaatcctccttagtcctttagtttcataaagggtataggaatgttcttttataagaaaatgtagcccatttcttcccatt',\n",
       " 'aaactaggattagataccctattatgcttagccataaacctaaataattaaatttaacaaaactatttgccagagaactactagccatagcttaaaactcaaaggacttggcggtactttatatccatctagaggagcctgttctataat',\n",
       " 'aaactaggattagataccctattatgcttagccataaacctaaataattaaatttaacaaaactatttgccagagaactactagccatagcttaaaactcaaaggacttggcggtactttatatccatctagaggagcctgttctataat',\n",
       " 'agagcgacgggcgatgtgtgcgtacttcattgctcaattcaattaagctctctattcttaatttactactaaatcctccttagtcctttagtttcataaagggtatagtaatgttcttttataagaaaatgtagcccatttcttcccatt',\n",
       " 'agagcgacgggcgatgtgtgcgtacttcattgctcaattcaattaagctctctattcttaatttactactaaatcctccttagtcctttagtttcataaagggtatagtaatgttcttttataagaaaatgtagcccatttcttcccatt',\n",
       " 'agagcgacgggcgatgtgtgcgtacttcattgctcaattcaattaagctctctattcttaatttactactaaatcctccttagtcctttagtttcataaagggtatagtaatgttcttttataagaaaatgtagcccatttcttcccatt',\n",
       " 'agagcgacgggcgatgtgtgcgtacttcattgctcaattcaattaagctctctattcttaatttactactaaatcctccttagtcctttagtttcataaagggtatagtaatgttcttttataagaaaatgtagcccatttcttcccatt',\n",
       " 'aaactaggattagataccctattatgcttagccataaacctaaataattaaatttaacaaaactatttgccagagaactactagccatagcttaaaactcaaaggacttggcggtactttatatccatctagaggagcctgttctataat',\n",
       " 'aaactaggattagataccctattatgcttagccataaacctaaataattaaatttaacaaaactatttgccagagaactactagccatagcttaaaactcaaaggacttggcggtactttatatccatctagaggagcctgttctataat',\n",
       " 'agagcgacgggcgatgtgtgcgtacttcattgctcaattcaattaagctctctattcttaatttactactaaatcctccttagtcctttagtttcataaagggtatagtaatgttcttttataagaaaatgtagcccatttcttcccatt',\n",
       " 'aaactaggattagataccctattatgcttagccataaacctaaataattaaatttaacaaaactatttgccagagaactactagccatagcttaaaactcaaaggacttggcggtactttatatccatctagaggagcctgttctataat',\n",
       " 'agagcgacgggcgatgtgtgcgtacttcattgctcaattcaattaagctctctattcttaatttactactaaatcctccttagtcctttagtttcataaagggtaaagtaatgttcttttataagaaaatgtagcccatatcttcacaat',\n",
       " 'aaactaggattagataccctattatgcttagccataaacctaaataattaaatttaacaaaactatttgccagagaactactagccatagcttaaaactcaaaggacttggcggtactttatatccatctagaggagcctgttctataat',\n",
       " 'agagcgacgggcgatgtgtgcgtacttcattgctcaattcaattaatctctctattcttaatttactactaaatcctccttagtcctttagtttcataaagggtatagtaatgttcttttataagaaaatgtagcccatttcttcccatt',\n",
       " 'aaactaggattagataccctattatgcttagccataaacctaaataattaaatttaacaaaactatttgccagagaactactagccatagcttaaaactcaaaggacttggcggtactttatatccatctagaggagcctgttctataat',\n",
       " 'agagcgacgggcgatgtgtgcgtacttcattgctcaattcaattaagctctctattcttaatttactactaaatcctccttagtcctttagtttcataaagggtatagtaatgttcttttataagaaaatgtagcccatttcttcccatt',\n",
       " 'actaggattagataccctattatgcttagccataaacctaaataattaaatttaacaaaactatttgccagagaactactagccatagcttaaaactcaaaggacttggcggtactttatatccatctagaggagcctgttctataatcg',\n",
       " 'agagcgacgggcgatgtgtgcgtacttcattgctcaattcaattaagctctctattcttaatttactactaaatcctccttagtcctttagtttcataaagggtatagtaatgttcttttataagaaaatgtagcccatttcttcccatt',\n",
       " 'agagcgacgggcgatgtgtgcgtacttcattgcccaattcaattaagctctctattcttaatttactactaaatcctccttagtcctttagtttcataaagggtatagtaatgttcttttataagaatatgtagcccatttcttcccatt',\n",
       " 'aaactaggattagataccctattatgctaatccataaacctaaataatcaaatataacaaaactatttgccagagaactactagccatagcttaaaactcaaaggacttggcggtactttatatccatctagaggagcatgttctataat',\n",
       " 'agagcgacgggcgatgtgtgcgtacttcattgctcaattcaattaagctctctattcttaatttactactaaatcctccttagtcctttagtttcataaagggtatagtaatgttcttttataagaaaatgtagcccatttcttcccatt',\n",
       " 'aaactaggattagataccctattatgcttagccataaacctaaataattaaatttaacaaaactatttgccagagaaccactagccatagcttaaaactcaaaggacttggcggtactttatatccatctagaggagcctgttctataat',\n",
       " 'agagcgacgggcgatgtgtgcgtacttcattgctcaattcaattaagctctctattcttaatttactactaaatcctccttagtcctttagtttcataaagggtatagtaatgttcttttataagaaaatgtagcccatttcttcccatt',\n",
       " 'agagcgacgggcgatgtgtgcgtacttcattgctcaattcaattaagctctctattcttaatttactactaaatcctccttagtcctttagtttcataaagggtatagtaatgttcttttataagaaaatgtagcccatttcttcccatt',\n",
       " 'aaactaggattagataccctattatgcttagccataaacctaaataattaaatttaacaaaactatttgccagagaactactagccatagcttaaaactcaaaggacttggcggtactttatatccatctagaggagcctgttctataat',\n",
       " 'agagcgacgggcgatgtgtgcgtacttcattgctcaattcaattaagctctctattcttaatttactactaaatcctccttagtcctttagtttcataaagggtatagtaatgttcttttataagaaaatgtagcccatttcttcccatt',\n",
       " 'aaactaggattagataccctattatgcttagccataaacctaaataattaaatttaacaaaactatttgccagagaactactagccatagcttaaaactcaaaggacttggcggtactttatatccatctagaggagcctgttctataat',\n",
       " 'agagcgacgggcgatgtgtgcgtacttcattgctcaattcaattaagctctctattcttaatttactactaaatcctccttagtcctttagtttcataaagggtatagtaatgttcttttataagaaaatgtaccgcatttcttcccatt',\n",
       " 'agagcgacgggcgatgtgtgcgtacctcattgctcaattcaattaagctctctattcttaatttactactaaatcctccttagtcctttagtttcataaagggtatagtaatgttcttttataagaagatgtagcccatttcttcccatt',\n",
       " 'agagcgacgggcgatgtgtgcgtacttcattgctcaattcaattaagctctctattcttaatttactactaaatcctccttagtcctttagtttcataaagggtatagtaatgttcttttataagaaaatgtagcccatttcttcccatt',\n",
       " 'agagcgacgggcgatgtgtgcgtacttcattgcacaattcaattaagctctctattcttaatttactactaaatcctccttagtcctttagtttcataaagggtatagtaatgttcttttataagaaaatgtagcccatttcttcccatt',\n",
       " 'agagcgacgggcgatgtgtgcgtacttcattgctcaattcaattaagctctctattcttaatttactactaaatcctccttagtcctttagtttcataaagggtatagtaatgttctttcataagaaaatgtagcccatttcttcccatt',\n",
       " 'agagcgacgggcgatgtgtgcgtacttcattgctcaattcaattaagctctctattcttaatttactactaaatcctccttagtcctttagtttcataaagggtatagtaatgttcttttataagaaaatgtagcccatttcttcccatt',\n",
       " 'agagcgacgggcgatgtgtgcgtacttcattgctcaattcaattaagctctctattcttaatttactacaaaatcctccttagtcctttagtttcataaagggtatagtaatgttcttttataagaaaatgtagcccatttcttcccatt',\n",
       " 'aaactaggattagataccctattatgcttagccataaacctaaataattaaatttaacaaaactatttgccagagaactactagccatagcttaaaactcaaaggacttggcggtactttatatccatctagaggagcctgttctataat',\n",
       " 'aaactaggattagataccctattatgcttagccataaacctaaataattaaatttaacaaaactatttgccagagaactactagccatagcttaaaactcaaaggacttggcggtactttatatccatctagagtagcctgttctataat',\n",
       " 'aggattagataccctattatgctaagccataaaccaaaataataaaaataaacaaaactatattccagagagctactacccatagcttaaaactcaaaggactaggcggaactttatatccatctagaggaccctgttctataaacgata',\n",
       " 'agagcgacgggcgatgtgtgcgtacttcattgctcaattcaattaagctctctattcttaatttactactaaatcctccttagtcctttagtttcataaagggtatagtaatgttctttaataagaaaatgtagcccatttcttcccatt',\n",
       " 'aaactaggattagataccctattatgcttagccataaacctaaataattaaatttaacaaaactatttgccagagaactactagccatagcttaaaactcaaaggacttggcggtactttatatccatctagaggagcctgttctataat',\n",
       " 'aaactaggattagataccctattatgcttagccataagcctaaataattaaatttaacaaaactatttgccagagaactactagccatagcttaaaactcaaaggacttggcggtactttatatccatctagaggagcctgttctataat',\n",
       " 'ataccctattatgcttagccataaacctaaagaattaaatttaacaaaactatttgccagagaaatactagccatagcttaaacctcaaagtacttggcggtacttaagatccatctagaggagcctgttctataatcgataaaccccgc',\n",
       " 'aaactaggattagataccctattatgcttagccataaacctaaataattaaatttaacaaaactatttgccagagaactactagccatagcttaaaactcaaaggacttggcggtactttatatccatctagaggagcctgttctataac',\n",
       " 'aaactaggattagataccctattatgcttagccataaacctaaataattaaatttaacaaaactatttgccagagaactactagccatagcttaaaactcaaaggacttggcggtactttatatccatctagaggagccagttctataat',\n",
       " 'aaactaggattagataccctattatgcttagccataaacctaaataattaaatttaacaaaactatttgccagagaactactagccatagcttaaaactcaaaggacttggcggtactttatatccatctagaggagcctgttctataat',\n",
       " 'agagcgacgggcgatgtgtgcgtacttcattgctcaattcaattaagctctctattcttaatttactactaaatcctccttagtcctttagtttcataaagggtatagtaatgttcttttataagaaaatgtagcccatttcttcccatt',\n",
       " 'agagcgacgggcgatgtgtgcgtacttcattgctcaattcaattaagctctctattcttaatttactactaaatcctccttagtcctttagtttcataaagggtatagtaatgttcttttataagaaaatgtagcccatttcttcccatt',\n",
       " 'agagcgacgggcgatgtgtgcgtacttcattgctcaattcaattaagctctctattcttaatttactactaaatcctccttagtcctttagtttcataaagggtatagtaatgttcttttataagaaaatgtagcccatttcttcccatt',\n",
       " 'agagcgacgggcgatgtgtgcgtacttcattgctcaattcaattaagctctctattcttaatttactactaaatcctccttagtcctttagcttcataaagggtatagtaatgttcttttataagaaaatgtagcccatttcttcccatt',\n",
       " 'agagcgacgggcgatgtgtgcgtacttcattgctcaattcaaataagctctctattcttaatttactacaaaatcctccttagtcctttagtttcataaagggtatagtaatgttcttttataagaaaatgtagcccattaattcccatt',\n",
       " 'agagcgacgggcgatgtgtgcgtacttcattgctcaattcaattaagctctctattcttaatttactactaaatcctccttagtcctttagtttcataaagggtatagtaatgttcttttataagaaaatgtagcccatttcttcccatc',\n",
       " 'aaactaggattagataccctattatgcttagccataaacctaaataattaaatttaacaaaactatttgccagagaactactagccatagcttaaaactcaaaggacttggcggtactttatatccatctagaggagcctgttctataat',\n",
       " 'aaactaggattagataccctattatgcttagccataaacctaaataattaaatttaacaaaactatttgccagagaactactagccatagcttaaaactcaaaggacttggcggtactttatatccatctagaggagcctgttctataat',\n",
       " 'agagcgacgggcgatgtgtgcgtacttcattgctcaattcaattaagctctctattcttaatatactactaaatcctccttagtcctttagtttcataaagggtatagtaatgttcttttataagaaaatgtagcccatttcttcccatt',\n",
       " 'agagcgacgggcgatgtgtgcgtacttcattgctcaattcaattaagctctctattcttaatttactactaaatcctccttagtcctttagtttcataaagggtatagtaatgttcttttataagaaaatgtagcccatttcttcccatt',\n",
       " 'aaactaggattagataccctattatgcttagccataaacctaaataattaaatttaacaaaactatttgccagagaactactagccatagctaaaaactcaaaggacttggcggtactttatatccatctagaggagcctgttctataat',\n",
       " 'agagcgacgggcgatgtgtgcgtacttcattgctcaattcaattaagctctctattcttaatttactactaaatcctccttagtcctttagtttcataaagggtatagtaatgttcttttataagaaaatgtagcccattacttcccatt',\n",
       " 'agagcgacgggcgatgtgtgcgtacttcattgctcaattcaattaagctctctattcttaatttactactaaatcctccttagtcctttagtttcataaagggtatagtaatgttcttttataagaaaatgtagcccatttcttcccatt',\n",
       " 'aaactaggattagataccctattatgcttagccataaacctaaataattaaatttaacaaaactatttgccagagaactactagccatagcttaaaactcaaaggacttggcggtactttatatccatctagaggagcctgttctataat',\n",
       " 'aaactaggattagataccctattatgcttagccataaacctaaataattaaatttaacaaaactatttgccagagaactactagccatagcttaaaactcaaaggacttggcggtactttatatccatctagaggagcctgttctataat',\n",
       " 'aaactaggattagataccctattatgcttagccataaacctaaataattaaatttaacaaaactatttgccagagaactactagccatagcttaaaactcaaaggacttggcggtactttatatccatctagaggagcctgttctataat',\n",
       " 'aaactaggattagataccctattatgcttagccataaacctaaataattaaatttaacaaaactatttgccagagaactactagccatagcttaaaactcaaaggacttggcggtactttatatccatctagaggagcctgttctataat',\n",
       " 'agagcgacgggcgatgtgtgcgtacttcattgctcaattcaattaagctctctattcttaatttactactaaatcctccttagtcctttagtttcataaagggtatagtaatgttcttttataagaaaatgtagcccatttcttcccatt',\n",
       " 'agagcgacgggcgatgtgtgcgtacttcattgctcaattcaattaagctctctattcttaatttactactaaatcctccttagtcctttagtttcataaagggtatagtaatgttcttttataagaaaatgtagcccatttcttcccatt',\n",
       " 'agagcgacgggcgatgtgtgcgtacttcattgcttaattcaattaagctctctattcttaatttactactaaatcctccttagtcctttagtttcataaagggtacagtaatgttcttttataagaaaatgtagcccatttcttcccatt',\n",
       " 'agagcgacgggcgatgtgtgcgtacttcattgctcaattcaattaagctctctattcttaatttactactaaatcctccttagtcctttagtttcataaagggtatagtaatgttcttttataagaaaatgtagcccatttcttcccatt',\n",
       " 'aaactaggattagataccctattatgcttagccataaacctaaataattaaatttaacaaaactatttgccagagaactactagccatagcttaagactcaaaggacttggcggtactttatatccatctagaggagcctgttctataat',\n",
       " 'aaactaggattagataccctattatgcttagccataaacctaaataattaaatttaacaaaactatttgccagagaactactagccatagcttaaaactcaaaggacttggcggtactttatatccatctagaggagcctgttctataat',\n",
       " 'aaactaggattagataccctattatgcttagccataaacctaaataattaaatttaacaaaactatttgccagagaactactagccatagcttaaaactcaaaggacttggcggtactttatatccatctagaggagcctgttctataat',\n",
       " 'aaactaggattagataccctattatgcttagccataaacctaaataattaaatttaacaaaactatttgccagagaactactagccataacttaaaactcaaaggacttggcggtactttatatccatctagaggagcctgttctataat',\n",
       " 'aaactaggattagataccctattatgcttagccataaacctaaataattaaatttaacaaaactatttgccagagaactactagccatagcttaaaactcaaaggacttggcggtactttatatccatctagaggagcctgttctataat',\n",
       " 'aaactaggattagataccctattatgcttagccataaacctaaataattaaatttaacaaaactatttgccagagaactactagccatagcttaaaactcaaaggacttggcggtactttatatccatctagaggagcctgttctataat',\n",
       " 'agagcgacgggcgatgtgtgcgtacttcattgctcaattcaattaagctctctattcttaatttactactaaatcctccttagtcctttagtttcataaagggtatagtaatgttcttttataagaaaatgtagcccatttcttcccatt',\n",
       " 'aaactaggattagataccctattatgcttagccataaacctaaataattaaatttaacaaaactatttgccagagagctactagccatagcttaaaactcaaaggacttggcggtactttatatccatctagaggagcctgttctataaa',\n",
       " 'aaactaggattagataccctattatgcttagccataaacctaaataattaaatttaacaaaactatttgccagagaactactagccatagcttaaaactcaaaggacttggcggtactttatatccatctagaggagcctgttctataat',\n",
       " 'aaactaggattagataccctattatgcatagccattaaccaaaataattaaatataacaaaactatttgccagagaactactacccatagcttaaaggtcataggacttggcggtactttatatccatctagaggagcctgttctagaat',\n",
       " 'aaactaggattagataccctattatgcttagccataaacctaaataattaaatttaacaaaactatttgccagagaactactagccatagcttaaaactcaaaggacttggcggtactttatatccatctagaggagcctgttctataat',\n",
       " 'aaactaggattagatacactattatgcttagccataaacctaaataattaaatttaacaaaactatttgccagagaactactagccatagcttaaaactcaaaggacttggcggtactttatatccatctagaggagcctgttctataat',\n",
       " 'aaactaggattagataccctattatgcttagccataaacctaaataattaaatttaacaaaactatttgccagagaactactagccatagcttaaaactcaaaggacttggcggtactttatatccatctagaggagcctgttctataat',\n",
       " 'agagcgacgggcgatgtgtgcgtacctcattgctcaattcaattaagctctctattcttaatttactactaaatcctccttagtcctttagtttcataaagggtatagtaatgttcttttataagaaaatgtagcccatttcttcccatt',\n",
       " 'aaactaggattagataccctattatgcttagccataaacctaaataattaaatttaacaaaactatttgccagagaactactagccatagcttaaaactcaaaggacttggcggtactttatatccatctagaggagcctgttctataat',\n",
       " 'agagcgacgggcgatgtgtgcgtacttcattgctcaattcaattaagctctctattcttaatttactactaaatcctccttagtcctttagtttcataaagggtatagtaatgttcttttataagaaaatgtagcccatttcttcccatt',\n",
       " 'aaactaggattagataccctattatgcttagccataaacctaaataattaaatataacaaaactatttgccagagaactactagccatagcttaaaactcaaaggacttggcggtactttatatccatctagaggagcctgttctataat',\n",
       " 'agagcgacgggcgatgtgtgcgtacttcattgctcaattccattaagctctctattcttaatttactactaaatcctccttagtcctttagtttcataaagggtatagtaatgttcttttataagaaaatgtagcccatttcttcccatt',\n",
       " 'agagcgacgggcgatgtgtgcgtacttcattgctcaattcaattaagctctctattcttaatttactactaaatcctccttagtcctttagtttcataaagggtatagtaatgttcttttataagaaaatgtagcccatttcttcccatt',\n",
       " 'aaactaggattagataccctattatgctaagccataaaccaaaataattaaatttaacaaaactatttgccagagaactactagccagagcttaaaactcaaaggacttggcggtcctttatatccacctagaggagcctgttctataat',\n",
       " 'aaactaggattagataccctattatgcttagccataaacctaaataattaaatttaacaaaactatttgccagagaactactagccatagcttaaaactcaaaggacttggcggtactttatatccatctagaggagcctgttctataat',\n",
       " 'aaactaggattagataccctattatgcttagccataaacctaaataattaaatttaacaaaactatttgccagagaactactagccatagcttaaaactcaaaggacttggcggtactttatatccatctagaggagcctgttctataat',\n",
       " 'agagcgacgggcgatgtgtgcgtacttcattgctcaattcaattaagctctctattcttaatttactactaaatcctccttagtcctttagtttcataaagggtatagtaatgttcttttataagaaaatgtagcccatttcttcccatt',\n",
       " 'agagcgacgggcgatgtgtgcgtacttcattgctcaattcaattaagctctctattcttaatttactactaaatcctccttagtcctttagtttcataaagggtatagtaatgttcttttataagaaaatgtagcccatttcttcccatt',\n",
       " 'aaactaggattagataccctattatgcttagccataaacctaaataattaaatttaacaaaactatttgccagagaactactagccatagcttaaaactcaaaggacttggcggtactttatatccatctagaggagcctgttctataat',\n",
       " 'aaactaggattagataccctattatgcttagccataaacctaaataattaaatttaacaaaactatttgccagagaactactagccatagcttaaaactcaaaggacttggcggtactttatatccatctagaggagcctgttctataat',\n",
       " 'agagcgacgggcgatgtgtgcgtacttcattgctcaattcaattaagctctctattcttaatttactactaaatcctccttagtcctttagtttcataaagggtatagtaatgttcttttataagaaaatgtagcccatttcttcccatt',\n",
       " 'taggattagataccctattatgcttagccataaacctaaataattaaatttaacaaaactatttgccagagaactactagccatagcttaaaactcaaaggacttggcggtactttatatccatctagaggagcctgttctataatcgat',\n",
       " 'agagcgacgggcgatgtgtgcgtacttcattgctcaattcaattaagctctctattcttaatttactactaaatcctccttagtcctttagtttcataaagggtatagtaatgttcttttataagaaaatgtagcccatttcttcccatt',\n",
       " 'agagcgacgggcgatgtgtgcgtacttcattgctcaatacaattaagctctctattcttaatatactactaaatcctccttagtcctttagtttcagaaagtgtatactaatgtacttttaaaagaaaatgtagcccatttcttcccatt',\n",
       " 'agagcgacgggcgatgtgtgcgtacttcattgctcaattcaattaagctctctattcttaatttactactaaatcctccttagtcctttagtttcataaagggtatagtaatgttcttttataagaaaatgtagcccatttcttcccatt',\n",
       " 'agagcgacgggcgatgtgtgcgtactccattgctcaattcaattaagctctctattcttaatttactactaaatcctccttagtcctttagtttcataaagggtatagtaatgttcttttataagaaaatgtagcccatttcttcccatt',\n",
       " 'agagcgacgggcgatgtgtgcgtacttcattgctcaattcaattaagctctctattcttaatttactactaaatcctccttagtcctttagtttcataaagggtatagtaatgttcttttataagaaaatgtagcccatttcttcccatt',\n",
       " 'agagcgacgggcgatgtgtgcgtacttcattgctcaattcaattaagctctctattcttaatttactactaaatcctccttagtcctttagtttcataaagggtatagtaatgttcttttataagaaaatgtagcccatttcttcccatt',\n",
       " 'aaactaggattagataccctattatgcttagccataaacctaaataattaaatttaacaaaactatttgccagagaactactagccatagcttaaaactcaaaggacttggcggtactttatatccatctagaggagcctgttctataat',\n",
       " 'agagcgacgggcgatgtgtgcgtacttcattgctcaattcaattaagctctctattcttaatttactactaaatcctccttagtcctttagttttataaagggtatagtaatgttcttttataagaaaatgtagcccatttcttcccatt',\n",
       " 'agagcgacgggcgatgtgtgcgtacttcattgctcaattcaattaagctctctattcttagtttactactaaatcctccttagtcctttagtttcataaagggtatagtaatgttcttttataagaaaatgtagcccatttcttcccatt',\n",
       " 'agagcgacgggcgatgtgtgcgtacttcattgctcaattcaattaagctctctattcttaatttactactaaatcctccttagtcctttagtttcataaagggtatagtaatgttcttttataagaaaatgtagcccatttcttcccatt',\n",
       " 'aaactaggattagataccctattatgcttagccataaacctaaataattaaatttaacaaaactatttgccagagaactactagccatagcttaaaactcaaaggacttggcggtactttatatccatctagaggagcctgttctataat',\n",
       " 'aaactaggattagataccctattatgcttagccataaacctaaataattaaatttaacaaaactatttgccagagaactactagccatagcttaaaactcaaaggacttggcggtactttatatccatctagaggagcctgttctataat',\n",
       " 'aaactaggattagataccctattatgcttagccataaacctaaataattaaatttaacaaaactatttgccagagaactactagccatagcttaaaactcaaaggacttggcggtactttatatccatctagaggagcctgttctataat',\n",
       " 'agagcgacgggcgatgtgtgcgtacttcattgctcaattcaattaagctctctattcttaatttactactaaatcctccttagtcctttagtttcataaagggtatagtaatgttcttttataagaaaatgtagcccatttcttcccatt',\n",
       " 'agagcgacgggcgatgtgtgcgtacttcattgctcaattcaattaagctctctattcttaatttactactaaatcctccttagtcctttagtttcataaagggtatagtaatgttcttttataagaaaatgtagcccatttcttcccatt',\n",
       " 'aaactaggattagataccctattatgcttagccataaacctaaataattaaatttaacaaaactatttgccagagaactacaagccatagcttaaaactcaaaggacttggcggtactttatatccatctagaggagcctgttctataaa',\n",
       " 'agagcgacgggcgatgtgtgcgtacttcattgctcaattcaattaagctctctattcttaatttactactaaatcctccttagtcctttagtttcataaagggtatagtaatgttcttttataagaaaatgtagcccatttcttcccatt',\n",
       " 'agagcgacgggcgatgtgtgcgtacttcattgctcaattcaattaagctctctattcttaatttactactaaatcctccttagtcctttagtttcataaagggtatagtaatgttcttttataagaaaatgtagcccatttcttcccatt',\n",
       " 'agagcgacgggcgatgtgtgcgtacttcattgctcaattcaattaagctctctattcttaatttactactaaatcctccttagtcctttagtttcataaagggtatagtaatgttcttttataagaaaatgtagcccatttcttcccatt',\n",
       " 'aaactaggattagataccctattatgcttagccataaacctaaataattaaatttaacaaaactatttgccagagaactactagccatagcttaaaactcaaaggacttggcggtactttatatccatctagaggagcctgttctataat',\n",
       " 'agagcgacgggcgatgtgtgcgtacttcattgctcgattcaattaagctctctattcttaatttactactaaatcctccttagtcctttagtttcataaagggtatagtaatgttcttttataagaagatgtagcccatttcttcccatt',\n",
       " 'agagcgacgggcgatgtgtgcgtacttcattgctcaattcaattaagctctctattcttaatttactactaaatcctccttagtcctttagtttcataaagggtatagtaatgttcttttataagaaaatgtagcccatttcttcccatt',\n",
       " 'aaactaggattagataccctattatgcttagccataaacctaaataattaaatttaacaaaactatttgccagagaactactagccatagcttaaaactcaaaggacttggcggtactttatatccatctagaggagcctgttctataat',\n",
       " 'aaactaggattagataccctattatgcttagccataaacctaaataattaaatttaacaaaactatttgccagagaactactagccatagcttaaaactcaaaggacttggcggtactttatatccatctagaggagcctgttctataat',\n",
       " 'agagcgacgggcgatgtgtgcgtacttcattgctcaattcaattaagctctctattcttaatttactactaaatcctccttagtcctttagtttcataaagggtatagtaatgttcttttataagaaaatgtagcccatttcttcccatt',\n",
       " 'agagcgacgggcgatgtgtgcgtacttcattgctcaattcaattaagctctctattcttgatttactactaaatcctccttagtcctttagtttcataaagggtatagtaatgttcttttataagaaaatgtagcccatttcttcccatt',\n",
       " 'actaggattagataccctattatgcttagccataaacctaaataattaaatttaacaaaactatttgccagagaactactagccatagcttaaaactcaaaggacttggcggtactttatatccatctagaggagcctgttctataatcg',\n",
       " 'aaactaggattagataccctattatgcttagccataaacctaaataattaaatttaacaaaactatttgccagagaactactagccatagcttaaaactcaaaggacttggcggtactttatatccatctagaggagcctgttctaaaat',\n",
       " 'agagcgacgggcgatgtgtgcgtacttcattgctcaattcaattaagctctctattcctaatttactactaaatcctccttagtcctttagtttcataaagggtatagtaatgttcttttataagaaaatgtagcccatttcttcccatt',\n",
       " 'agagcgacgggcgatgtgtgcgaacttcattgctcaattcaattaagctctctatacttaatttactactaaatcctccttagtcctttagtttcataaagggtatagtaatgttcttttataagaaaatgtagcccatttcttcccatt',\n",
       " 'aaactaggattagataccctattatgcttagccataaacctaaataattaaatttaacaaaactatttgccagagaactactagccatagcttaaaactcaaaggacttggcggtactttatatccatctagaggagcctgttctataat',\n",
       " 'agagcgacgggcgatgtgtgcgtacttcattgctcaattcaattaagctctctattcttaatttactactaaatcctccttagtcctttagtttcataaagggtatagtaatgttcttttataagaaaatgtagcccatttcttcccatt',\n",
       " 'aaactaggattagataccctattatgcttagccataaacctaaataattaaatttaacaaaactatttgccagagaactactagccatagcttaaaactcaaaggacttggcggtactttatatccacctagaggagcctgttctataat',\n",
       " 'agagcgacgggcgatgtgtgcgtacttcattgctcaattcaattaagctctctattcttaatttactactaaatcctccttagtcctttagtttcataaagggtatagtaatgttcttttataagaaaatgcagcccatttcttcccatt',\n",
       " 'agagcgacgggcgatgtgtgcgtacttcattgctcaattcaattaagctctctattcttaatttactactaaatcctccttagtcctttagtttcataaagggtatagtaatgttcttttataagaaaatgtagcccatttcttcccatt',\n",
       " 'agagcgacgggcgatgtgtgcgtacttcattgctcaattcaattaagctctctattcttaatttactactaaatcctccttagtcctttagtttcataaagggtatagtaatgttcttttataagaaaatgtagcccatttcttcccatt',\n",
       " 'aaactaggattagataccctattatgcttagccataaacctaaataattaaatttaacaaaactatttgccagagaactactagccatagcttaaaactcaaaggacttggcggtaccttatatccatctagaggagcctgttctataat',\n",
       " 'agagcgacgggcgatgtgtgcgtacttcattgctcaattcaattaagctctctattcttaatttactactaaatcctccttagtcctttagtttcataaagggtatagtaatgttcttttataagaaaatgtagcccatttcttcccatt',\n",
       " 'aaactaggattagataccctattatgcttagccataaacctaaataattaaatttaacaaaactatttgccagagaactactagccatagcttaaaactcaaaggacttggcggtactttatatccatctagaggagcctgttctataat',\n",
       " 'agagcgacgggcgatgtgtgcgtacttcattgctcaattcaattaagctctctattcttaatttactactaaatcctccttagtcctttagtttcataaagggtatagtaatgttcttttataagaaaatgtagcccatttcttcccatt',\n",
       " 'agagcgacgggcgatgtgtgcgaccttcattgctcaattcaattaagctctctattcttaatttactactaaatcctccttagtcctatagtttcataaagggtatagtaatgttcttttataagaaaatgtagcccttttctacccatt',\n",
       " 'agagcgacgggcgatgtgtgcgtacttcattgctcaattcaattaagctctctattcttagtttactactaaatcctccttagtcctttagtttcataaagggtatagtaatgttcttttataagaaaatgtagcccatttcttcccatt',\n",
       " 'aaactaggattagataccctattatgcttagccataaacctaaataattaaatttaacaaaactatttgccagagaactactagccatagcttaaaactcaaaggacttggcggtgctttatatccatctagaggagcctgttctataat',\n",
       " 'agagcgacgggcgatgtgtgcacattctagagccttaatcaacaagccaatttaaactcatttacaatcaaatccaatttcaagtaaccattacagtttactatccaataaataattttattgtaacccatttctacttaattattagct',\n",
       " 'agagcgacgggcgatgtgtgcgtacttcattgctcaattcaattaagctctctattcttaatttactactaaatcctccttagtcctttagtttcataaagggtatagtaatgttcttttataagaaaatgtagcccatttcttcccatt',\n",
       " 'agagcgacgggcgatgtgtgcgtacttcattgctcaattcaattaagctctctattcttaatttactactaaatcctccttagtcctttagtttcataaagggtatagtaatgttcttttataagaaaatgtagcccatttcttcccatt',\n",
       " 'aaactaggattagataccctattatgcttagccataaacctaaataattaaatttaacaaaactatttgccagagaactactagccatagcttaaaactcaaaggacttggcggtcctttatatccatctagaggagcctgttctatact',\n",
       " 'aaactaggattagataccctattatgcttagccataaacctaaataattaaatttaacaaaactatttgccagagaactactagccatagcttaaaactcaaaggacttgtcggtactttatatccatctagaggagcctgttctataat',\n",
       " 'aaactaggattagataccctattatgcttagccataaacctaaataattaaatttaacaaaactatttgccagagaactactagccatagcttaaaactcaaaggactaggcggtactttatatccatctagaggagcatgttctataac',\n",
       " 'aaactaggattagataccctattatgcttagccataaacctaaataattaaatttaacaaaactatttgccagatagctactagccatagcttaaaactcaaaggacatggcggtactttaaatccatcaagaggatcctgttctataat',\n",
       " 'agagcgacgggcgatgtgtgcgtacttcattgctcaattcaattaagctctctattcttaatttactactaaatcctccttagtcctttagtttcataaagggtatagtaatgttcttttataagaaaatgtagcccatttcttcccatt',\n",
       " 'agagcgacgggcgatgtgtgcgtacttcattgctcaattcaattaagctctctattcttaatttactactaaatcctccttagtcctttagtttcataaagggtatagtaatgttcttttataagaaaatgtagcccatttcttcccatt',\n",
       " 'agagcgacgggcgatgtgtgcgtacttcattgctcaatacaattaagctctatattcttaatttacaactaaatcatccttagtcctttagtttcataaaggtaatagtagtttacttttataagaaaatttagcccatttcttcccatt',\n",
       " 'aaactaggattagataccctattatgcttagccataaacctaaataattaaatttaacaaaactatttgccagagaactactagccatagcttaaaactcaaaggacttggcggtactttatatccatctagaggagcctgttctataat',\n",
       " 'agagcgacgggcgatgtgtgcgtacttcattgctcaattcaattaagctctctatccttaatttactactaaatcctccttagtcctttagtttcataaagggtatagtaatgttcttttataagaaaatgtagcccatttcttcccatt',\n",
       " 'agagcgacgggcgatgtgtgcgtacttcattgttcaattcaattaagctctctattcttaatttactactaaatcctccttagtcctttagtttcataaagggtatagtaatgttcttttataagaaaatgtagcccatttcttcccatt',\n",
       " 'agagcgacgggcgatgtgtgcgtacttcattgctcatttcaattaagctctctattcttaatttactactaaatcctccttagtcctttagtttcataaagggtatagtaatgttcttttataagaaaatgtagcccatttcttcccatt',\n",
       " 'agagcgacgggcgatgtgtgcgtacttcattgctcaattcaattaagctctctattcttaatttactactaaatcctccttagtcctttagtctcataaagggtatagtaatgttcttttataagaaaatgtagcccatttcttcccatt',\n",
       " 'aaactaggattagataccctattatgcttagccataaacctacatatttaaataaaacaaaactattggccagagaactactagccttagcttaaaactcaaaggacttggcggtactttatatccagcttgacgagaatgatcaataat',\n",
       " 'aaactaggattagataccctattatgcttagccataaacctaaataattaaatttaacaaaactatttgccagagaactactagccatagcttaaaactcaaaggacttggcggtactttatatccatctagaggagcctgttctataat',\n",
       " 'agagcgacgggcgatgtgtgcgtacttcattgctcaattcaattaagctctctattcttaatttactactaaatcctccttagtcctttagtttcataaagggtatagtaatgttcttttataagaaaatgtagcccatttcttcccatt',\n",
       " 'agagcgacgggcgaagtgttcgtacttcattgctcaaatcaattaagctctctattcttaatttactactaaatcctccttagtcctttagtttcataaagggtatagtaatgttcttttataagaaaatgtagcccatttcttcccatt',\n",
       " 'agagcgacgggcgatgtgtgcgtacttcattgctcaattcaattaagctctctattcttaatttactactaaatcctccttagtcctttagtttcataaagggtatagtaatgttcttttataagaaaatgtagcccatttcttcccatt',\n",
       " 'aaactaggattagataccctattatgcttagccataaacctaaataattaaatttaacaaaactatttgccagagaactactagccatagcttaaaactcaaaggacttggcggtactttatatccatctagaggagcctgttctataat',\n",
       " 'agagcgacgggcgatgtgtgcgtacttcattgctcaattcaattaagctctctatccttaatttactactaaatcctccttagtcctttagtttcataaagggtatagtaatgttcttttataagaaaatgtagcccatttcttcccatt',\n",
       " 'agagcgacgggcgatgtgtgcgtacttcattgctcaattcaattaagctctctattcttaatttactactaaatactccttagtcctttagtctcataaagggtatagtaatgttcttttataagaaaatgtagcccatttcttcccatt',\n",
       " 'agagcgacgggcgatgtgtgcgtacttcattgctcaattcaattaagctctctattcttaatttactactaaatcctccttagtcctttagtttcataaagggtatagtaatgttcttttataagaaaatgtagcccatttcttcccact',\n",
       " 'aaactaggattagataccctattatgcttagccataaacctaaataattaaatttaacaaaactatttgccagagaactactagccatagcttaaaactcaaaggacttggcggtactttatatccatctagaggagcctgttctataat',\n",
       " 'agagcgacgggcgatgtgtgcgtacttcattgctcaattcaattaagctctctattcttaatttactactaaatcctccttagtcctttagtttcataagggtatagtaatgttcttttataagaaaatgtagcccatttcttcccattt',\n",
       " 'aaactaggattagataccctattatgcttagccataaacctaaataattaaatttaacaaaactatttgccagagaactactagccatagcttaaaactcaaaggacttggcggtactttatatccatctagaggagcctgttctataat',\n",
       " 'agagcgacgggcgatgtgtgcgtacttcattgctcaattcaattaagctctctattcttaatttactactaaatcctccttagtcctttagtttcataaagggtatagtaatgttcttttataagaaaatgtagcccatttcttcccatt',\n",
       " 'agagcgacgggcgatgtgtgcgtacttcattgctcaattcaattaagctctctattcttaatttactactaaatcctccttagtcctttagtttcataaagggtatagtaatgttcttttataagaaagtgtagcccatttcttcccatt',\n",
       " 'aaactaggattagataccctattatgcttagccataaacctaaataattaaatttaacaaaactatttgccagagaactactagccatagcttaaaactcaaaggacttggcggtactttatatccatctagaggagcctgttctataat',\n",
       " 'agagcgacgggcgatgtgtgcaaacttcattgcacaattcaaataatcactctaaaataaaattactaataaatactccttagtaatttattttcataaagtgtatagtaatgttcttttataagaaaatgtagcccatttcttaccatt',\n",
       " 'aaactaggattagataccctattatgtttagccataaacctaaataattaaatttaacaaaactatttgccagagaactactagccatagcttaaaactcaaaggacttggcggtactttatatccatctagaggagcctgttctataat',\n",
       " 'aaactaggattagataccctattatgcttagccataaacctaaataattaaatttaacaaaactatttgccagagaactactagccatagcttaaaactcaaaggacttggcggtactttatatccatctagaggagcctgttctataat',\n",
       " 'aaactaggattagataccctattatgcttagccataaacctaaataattaaatttaacaaaactatttgccagagaactactagccatagcttaaaactcagaggacttagcggtactttatatccatctagatgagcctgttctataat',\n",
       " 'aaactaggattagataccctattatgcttagccataaacctaaataattaaatttaacaaaactatttgccagagaactactagccatagcttaaaactcaaaggacttggcggtactttatatccatctagaggagcctgttctataat',\n",
       " 'aaactaggattagataccctattatgcttagccataaacctaaataattaaatttaacaaaactgtttgccagagaactactagccatagcttaaaactcaaaggacttggcggtactttatatccatctagaggagcctgttctataat',\n",
       " 'agagcgacgggcgatgtgtgcgtacttcattgctcaattcaattaagctctctattcttaatttactactaaatcctccttagtcctttagtttcataaagggtatagtaatgttcttttataagaaaatgtagcccatttcttcccatt',\n",
       " 'agagcgacgggcgatgtgtgcgtacttcattgctcaattcaattaagctctctattcttaatttactactaaatcctccttagtcctttagttccataaagggtatagtaatgttcttttataagaaaatgtagcccatttcttcccatt',\n",
       " 'aaactaggattagataccctattatgcttagccataaacctaaataattaaatttaacaaaactatttgccagagaactactagccatagcttaaaactcaaaggacttggcggtactttatatccatctagaggagcctgttctataat',\n",
       " 'agagcgacgggcgatgtgtgcgtacttcattgctcaattcaattaagctctctattcttaatttactactaaatcctccttagtcctttagtttcataaagggtatagtaatgttcttttataagaaaatgtagcccatttcttcccatt',\n",
       " 'aaactaggattagataccctattatgcttagccataaacctaaataattaaatttaacaaaactatttgccagagaactactagccatagcttaaaactcaaaggacttggcggtactttatatccatctagaggagcctgttctataat',\n",
       " 'aaactaggattagataccctattatgcttagccataaacctaaataattaaatttaacaaaactatttgccagagagctactagccatagcttaaaactcaaaggacttggcggtactttatatccatctagaggagcctgttctataat',\n",
       " 'aaactaggattagataccctattatgcttagccataaacctaaataattaaatttaacaaaactatttgccagagagctactagccatagcttaaaactcaaaggacttggcggtactttatatccatctagaggagcctgttctataat',\n",
       " 'aaactaggattagataccctattatgcttagccataaacctaaataattaaatttaacaaaactatttgccagagaactactagccatagcttaaaactcaaaggacttggcggtactttatatccatctagaggagcctgttctataat',\n",
       " 'aaactaggattagataccctattatgcttagccataaacctaaataattaaatttaacaaaactatttgccagagaactattagccatagcttaaaactcaaaggacttggcggtactttatatccatctataggagcctgttctataat',\n",
       " 'aaactaggattagataccctattatgcatagccataaacctaaataattaaatttatcaaaactatttgccagagaactactagccatagcttaaaactcaaaggacatggcggtactttatatccatctagaggagcctgttctataat',\n",
       " 'agagcgacgggcgatgtgtgcgtacttcattgctcaattcaattaagctctctattcttaatttactactaaacactccttagtcctttagtttcataaagggtaaagtaatgttcttttataagaaaatgtagccaattttttcccatt',\n",
       " 'aagcgacgggcgatgtgtgcgtacttcattgctcaattcaattaagctctctattcttaatttactactaaatcctccttagtcctttagtttcataaagggtatagtaatgttcttttataagaaaatgtagcccatttcttcccattt',\n",
       " 'agagcgacgggcgatgtgtgcgtacttcattgctcaattcaattaagctctctattcttaatttactactaaatcctccttagtcctttagtttcataaagggtatagtaatgttcttttataagaaaatgtagcccatttcttcccatt',\n",
       " 'aaactaggattagataccctattatgcttagccataaacctaaataattaaatttaacaaaactatttgccagagaactactagccatagcttaaaactcaaaggacttggcggtactttatatccatctagaggagcctgttctataat',\n",
       " 'ctaggattagataccctattatgcttagccataaacctaaataattaaatttaacaaaactatttgccagagaactactagccatagcttaaaactcaaaggacttggcggtactttatatccatctagaggagcctgttctataatcga',\n",
       " 'aaactaggattagataccctattatgcttagccataaacctaaataattaaatttaacaaaactatttgccagagaactactagccatagcttaaaattcaaaggacttggcggtactttatatccatctagaggagcctgttctataat',\n",
       " 'agagcgacgggcgatgtgtgcgtacttcattgctcaattcaattaagctctctattcttaatttactactaaatcctccttagtcctttagtttcataaagggtatagtaatgttcttttataagaaaatgtagcccatttcttcccatt',\n",
       " 'aaactaggattagataccctattatgcttagccataaacctaaataattaaatttaacaaaactatttgccagagaactactagccatagcttaaaactcaaaggacttggcggtactttatatccatctagaggagcctgttctataat',\n",
       " 'aaactaggattagataccctattatgcttagccataaacctaaataattaaatttaacaaaactatttgccagagaactactagccatagcttaaaactcaaaggacttggcggtactttatatccatctagaggagcctgttctataat',\n",
       " 'agagcgacgggcgatgtgtgcgtacttcattgctcaattcaattaagctctctattcttaatttactactaaatcctccttagtcctttagtttcataaagggtatagtaatgttcttttataagaaaatgtagcccatttcttcccatt',\n",
       " 'agagcgacgggcgatgtgtgcgtacttcattgctcaattcaattaagctctctattcttaatttactactaaatcctccttagtcctttagtttcataaagggtatagtaatgttcttttataagaaaatgtagcccatttcttcccatt',\n",
       " 'agagcgacgggcgatgtgtgcgtacttcattgctcaattcaattaagctctctattcttaatttactactaaatcctccttagtcctttagtttcataaagggtatagtaatgttcttttataagaaaatgtagcccatttcttcccatt',\n",
       " 'aaactaggattagataccctattatgcttagccataaacctaaataattaaatttaacaaaactatttgccagagaactactagccatagcttaaaactcaaaggacttggcggtactttatatccatctagaggagcctgttctataat',\n",
       " 'agagcgacgggcgatgtgtgcgtacttcattgctcaattcaattaagctctctattcttaatttactactaaatcctccttagtcctttagtttcataaagggtatagtaatgttcttttataagaaaatgtagcccatttcttcccatt',\n",
       " 'agagcgacgggcgatgtgtgcgtacttcattgctcaattcaattaagctctctattcttaatttactactaaatcctccttagtcctttagtttcataaagggtatagtaatgttcttttataagaaaatgtagcccatttcttcccatt',\n",
       " 'agagcgacgggcgatgtgtgcgtacttcattgctcaattcaattaagctctctattcttaatttactactaaatcctccttagtcctttagtttcataaagggtatagtaatgttcttttataagaaaatgtagcccatttcttcccatt',\n",
       " 'aaactaggattagataccctattaagcttagccataaacctaaataattaaatttaacaaaactatttgccagagaactactagccatagcttaaaactcaaaggacttggcggtactttatatccatctagaggagcctgttctataat',\n",
       " 'aaactaggattagataccctattatgcttagccataaacctaaataattaaatttaacaaaactatttgccagagaactactagccatagcttaaaactcaaaggacttggcggtactttatatccatctagaggagcctgttctataat',\n",
       " 'agagcgacgggcgatgtgtgcgtacttcattgctcaattcaattaagctctctattcttaaaatactactaaatcctccttagtcctttagtttcataaagtgtatagtaatgttcttttataataaaatgtagcacaattcttcccatt',\n",
       " 'cttagccataaacctaaataattaaatttaacaaaactatttgccagagaactactagccatagcttaaaactcaaaggacttggcggtactttatatccatctagaggagcctgttctataatcgataaaccccgctctacctcaccat',\n",
       " 'aaactaggattagataccctattatgcttagccataaacctaaataattaaatttaacaaaactatttgccagagaactactagccatagcttaaaactcaaaggacttggcggtactttatatccatctagaggagcctgttctataat',\n",
       " 'agagcgacgggcgatgtgtgcgtacttcattgctcaattcaattaagctctctattcttaatttactactaaatcctccttagtcctttagtttcataaagggtatagtaatgttcttttataagaaaatgtagcccatttcttcccatt',\n",
       " 'agagcgacgggcgatgtgtgcgtacttcattgctcaattcaattaagctctctattcttaatttactactaaatcctccttagtcctttagtttcataaagggtatagtaatgttcttttataagaaaatgtagcccatttcttcccatt',\n",
       " 'gagcgacgggcgatgtgtgcgtacttcattgctcaattcaattaagctctctattcttaatttactactaaatcctccttagtcctttagttccataaagggtatagtaatgttcttttataagaaaatgtagcccatttcttcccattt',\n",
       " 'agagcgacgggcgatgtgtgcgtacttcattgctcaattcaattaagctctctattcttaatttactactaaatcctccttagtcctttagtttcataaagggtatagtaatgttcttttataagaaaatgtagcccatttcttcccatt',\n",
       " 'agagcgacgggcgatgtgtgcgtacttcattgctcaattcaattaagctctctattcttaatttactactaaatcctccttagtcctttagtttcataaagggtatagtaatgttcttttataagaaaatgtagcccatttcttcccatt',\n",
       " 'aaactaggattagataccctattatgcttagccataaacctaaataattaaatttaacaaaactatttgccagagaactactagccatagcttaaaactcaaaggacttggcggtactttatatccatctagaggagcctgttctataat',\n",
       " 'agagcgacgggcgatgtgtgcgtacttcattgctcaattcaattaagctctctatccttaatttactactaaatcctccttagtcctttagtttcataaagggtatagtaatgttcttttataagaaaatgtagcccatttcttcccatt',\n",
       " 'gattagataccctattatgcttagccataaacctaaataattaaatttaacaaaactatttgccagagagctactagccatagcttaaaactcaaaggacttggcggtactttatatccatctagaggagcctgttctataatcgataac',\n",
       " 'aaactaggattagataccctattatgcttagccataaacctaaataattaaatttaacaaaactatttgccagagaactactagccatagcttaaaactcaaaggacttggcggtactttatatccatctagaggagcctgttctataat',\n",
       " 'aaactaggattagataccctattatgcttagccataaacctaaataattaaatttaacaaaactatttgccagagaactactagccatagcttaaaactcaaaggacttggcggtactttatatccatctagaggagcctgttcaataat',\n",
       " 'aaactaggattagataccctattatgcttagccataaacctaaataattaaatttaacaaaactatttgccagagaactactagccatagcttaaaactcaaaggacttggcggtactttatatccatctagaggagcctgttctataat',\n",
       " 'agagcgacgggcgatgtgtgcgtacttcattgctcaattcaattaagctctctattcttaatttactactaaatcctccttagtcctttagtttcataaagggtatagtaatgttcttttataagaaaatgtagcccacttcttcccatt',\n",
       " 'aaactaggattagataccctattatgcttagccataaacctaaataattaaatttaacaaaactatttgccagagaactactagccatagcttaaaactcaaaggacttggcggtactttatatccatctagaggagcctgttctataat',\n",
       " 'agagcgacgggcgatgtgtgcgtacttcattgctcaattcaattaagctctctattcttaatttactactaaatcctccttagtcctttagtttcataaagggtatagtaatgttcttttataagaaaatgtagcccatttcttcccatt',\n",
       " 'aaactaggattagataccctattatgcttagccataaacctaaataattaaatttaacaaaactatttgccagagaactactagccatagcttaaaactcaaaggacttggcggtactttatatccatctagaggagcctgttctataat',\n",
       " 'aaactaggattagataccctattatgcttagccataaccctaaataattaaatttaacaaaactatttgccagagaactactagccatagcttaaaactcaaaggacttggcggtactttatatccatctagaggagcctgttctataat',\n",
       " 'agagcgacgggcgatgtgtgcgtacttcgttgctcaattcaattaagctctctattcttaatttactactaaatcctccttagtcctttagtttcataaagggtatagtaatgttcttttataagaaaatgtagcccatttcttcccatt',\n",
       " 'agagcgacgggcgatgtgtgcgtacttcattgctcaattcaactaagctctctattcttaatttactactaaatcctccttagtcctttagtttcataaagggtatagtaatgttcttttataagaaaatgtagcccatttcttcccatt',\n",
       " 'aaactaggattagataccctattatgcttagccataaacctaaataattaaatttaacaaaactatttgccagagaactactagccatagcttaaaactcaaaggacttggcggtactttatatccatctagaggagcctgttctataat',\n",
       " 'aaactaggattagataccctattatgcttagccataaacctaaataattaaatttaacaaaactatttgccagagaactactagccatagcttaaaactcaaaggacttggcggtactttatatccatctagaggagcctgttctataat',\n",
       " 'agagcgacgggcgatgtgtgcgtacttcattgctcaattcaattaagctctctattcttaatttactactaaatcctccttagtcctttagtttcataaagggtatagtaatgttcttttataagaaaatgtagcccatctcttcccatt',\n",
       " 'aaactaggattagataccctattatgcttagccataaacctaaataattaaatttaacaaaactatttgccagagaactactagccatagcttaaaactcaaaggacttggcggtactttatatccatctagaggagcctgttctataat',\n",
       " 'agagcgacgggcgatgtgtgcgtacttcattgctcaattcaattaagctctctattcttaatttactactaaatcctccttagtcctttagtttcataaagggtatagtaatgttcttttataagaaaatgtagcccatttcttcccatt',\n",
       " 'agagcgacgggcgatgtgtgcgtacttcattgctcaattcaattaagctctctattcttaatttactactaaatcctccttagtcctttagtttcataaagggtatagtaatgttcttttataagaaaatgtagcccatttcttcccatt',\n",
       " 'agagcgacgggcgatgtgtgcgtacttcattgctcaattcaattaagctctctattcttaatttactactaaatcctccttagtcctttagtttcataaagggtatagtaatgttcttttataagaaaatgtagcccatttcttcccatt',\n",
       " 'aaactaggattagataccctattatgcttagccataaacctaaataattaaatttaacaaaactatttgccagagaactactagccatagcttaaaactcaaaggacttggcggtactttatatccatctagaggagcctgttctataat',\n",
       " 'aaactaggattagataccctattatgcttagccataaacctaaataattaaatttaacaaaactatttgccagagaactactagccatagcttaaaactcaaaggacttggcggtactttatatccatctagaggagcctgttctataat',\n",
       " 'agagcgacgggcgatgtgtgcgtacttcattgctcaattcaattaagctctctattcttaatttactactaaatcctccttagtcctttagtttcataaagggtatagtaatgttcctttataagaaaatgtagcccatttcttcccatt',\n",
       " 'aaactaggattagataccctattatgcttagccataaacctaaataattaaatttaacaaaactatttgccagagaactactagccatagcttaaaactcaaaggacttggcggtactttatatccatctagaggagcctgttctataat',\n",
       " 'aaactaggattagataccctattatgcttagccataaacctaaataattaaatttaacaaaactatttgccagagaactactagccatagcttaaaactcaaaggacttggcggtactttatatccatctagaggagcctgttctataat',\n",
       " 'aaactaggattagataccctattatgcttagccataaacctaaataattaaatttaacaaaactatttgccagagaactactagccatagcttaaaactcaaaggacttggcggtactttatatccatctagaggagcctgttctataat',\n",
       " 'agagcgacgggcgatgtgtgcgtacttcattgctcaattcaattaagctctctattcttaatttactactaaatcctccttagtcctttagtttcataaagggtatagtaatgttcttttataagaaaatgtagcccatttcttcccatt',\n",
       " 'agagcgacgggcgatgtgtgcgtacttcattgctcaattcaattaagctctctattcttaatttactactaaatcctccttagtcctttagtttcataaagggtatagtaatgttcttttataagaaaatgtagcccatttcttcccatt',\n",
       " 'agagcgacgggcgatgtgtgcgtacttcattgctcaattcaattaagctctctattcttaatttactactaaatcctccttagtcctttagtttcataaagggtatagtagtgttcttttataagaaaatgtagcccatttcttcccatt',\n",
       " 'agagcgacgggcgatgtgtgcgtacttcattgctcaattcaattaagctctctattcttaatttactactaaatcctccttagtcctttagtttcataaagggtatagtaatgttcttttataagaaaatgtagcccatttcttcccatt',\n",
       " 'cctccttagtcctttagtttcataaagggtatagtaatgttcttttataagaaaatgtagcccatttcttcccatttcattggctacaccttggcctaacgtttttatgtttgattcttttgcttactttaatacctttttagggtttgc',\n",
       " 'agagcgacgggcgatgtgtgcgtacttcattgctcaattcaattaagctctctattcttaatttactactaaatcctccttagtcctttagtttcataaagggtatagtaatgttcttttataagaaaatgtagcccatttcttcccatt',\n",
       " 'agagcgacgggcgatgtgtgcgtacttcattgctcaattcaattaagctctctattcttaatttactactaaatcctccttagtcctttagtttcataaagggtatagtaatgttcttttataagaaaatgtagcccatttcttcccatt',\n",
       " 'agagcgacgggcgatgtgtgcgtacttcattgctcaattcaattaagctctctattcttaatttactactaaatcctccttagtcctttagtttcataaagggtatagtaatgttcttttataagaaaatgtagcccatttcttcccatt',\n",
       " 'aaactaggattagataccctattatgcttagccataaacctaaataattaaatttaacaaaactatttgccagagaactactagccatagcttaaaactcaaaggacttggcggtactttatatccatctagaggagcctgttctataat',\n",
       " 'agagcgacgggcgatgtgtgcgtacttcattgctcaattcaattaagctctctattcttaatttactactaaatcctccttagtcctttagtttcataaagggtatagtaatgttcttttataagaaaatgtagcccatttcttcccatt',\n",
       " 'agagcgacgggcgatgtgtgcgtacttcattgctcaattcaattaagctctctattcttaatttactactaaatcctccttagtcctttagtttcataaagggtatagtaatgttcttttataagaaaatgtagcccatttcttcccatt',\n",
       " 'agagcgacgggcgatgtgtgcgtacttcattgctcaattcaattaagctctctattcttaatttactactaaatcctccttagtcctttagtttcataaagggtatagtaatgttcttttataagaaaatgtagcccatttcttcccatt',\n",
       " 'agagcgacgggcgatgtgtgcgtactttattgctcaattcaattaagctctctattcttaatttactactaaatcctccttagtcctttagtttcataaagggtatagtaatgttcttttataagaaaatgtagcccatttcttcccatt',\n",
       " 'agagcgacgggcgatgtgtgcgtacttcattgctcaattcaattaagctctctattcttaatttactactaaatcctccttagtcctttagtttcataaagggtatagtaatgttcttctataagaaaatgtagcccatttcttcccatt',\n",
       " 'agagcgacgggcgatgtgtgcgtacttcattgctcaattcaattaagctccctattcttaatttactactaaatcctccttagtcctttagtttcataaagggtatagtaatgttcttttataagaaaatgtagcccatttcttcccatt',\n",
       " 'agagcgacgggcgatgtgtgcgtacttcattgctcaattcaattaagctctctattcttaatttactactaaatcctccttagtcctttagtctcataaagggtatagtaatgttcttttataagaaaatgtagcccatttcttcccatt',\n",
       " 'aaactaggattagataccctattatgcttagccataaacctaaataattaaatttaacaaaactatttgccagagaactactagccatagcttaaaactcaaaggacttggcggtactttatatccatctagaggagcctgttctataat',\n",
       " 'agagcgacgggcgatgtgtgcgtacttcattgctcaattcaattaagctctctattcttaatttactactaaatcctccttagtcctttagtttcataaagggtatagtaatgttcttttataagaaaatgtagcccatttcttcccatt',\n",
       " 'aaactaggattagataccctattatgcttagccataaacctaaataattaaatttaacaaaactatttgccagagaactactagccatagcttaaaactcaaaggacttggcggtactttatatccatctagaggagcctgttctataat',\n",
       " 'aaactaggattagataccctattatgcttagccataaacctaaataattaaatttaacaaaactatttgccagagaactactagccatagcttaaaactcaaaggacttggcggtactttatatccatctagaggagcctgttctataat',\n",
       " 'aaactaggattagataccctattatgcttagccataaacctaaataattaaatttaacaaaactatttgccagagaactactagccatagcttaaaactcaaaggacttggcggtactttatatccatctagaggagcctgttctataat',\n",
       " 'agagcgacgggcgatgtgtgcgtacttcattgctcaattcaattaagctctctattcttaatttactactaaatcctccttagtcctttagtttcataaagggtatagtaatgttcttttataagaaaatgtagcccatttcttcccatt',\n",
       " 'aaactaggattagataccctattatgcttagccataaacctaaataattaaatttaacaaaactatttgccagagaactactagccatagcttaaaactcaaaggacttggcggtactttatatccatctagaggagcctgttctataat',\n",
       " 'agagcgacgggcgatgtgtgcgtacttcattgctcaattcaattaagctctctattcttaatttactactaaatcctccttagtcctttagtttcataaagggtatagtaatgttcctttataagaaaatgtagcccatttctttccatt',\n",
       " 'aaactaggattagataccctattatgcttagccataaacctaaataattaaatttaacaaaactatttgccagagaactactagccatagcttaaaactcaaaggacttggcggtactttatatccatctagaggagcctgttctataat',\n",
       " 'agagcgacgggcgatgtgtgcgtacttcattgctcaattcaattaagctctctattcttaatttactactaaatcctccttagtcctttagtttcataaagggtatagtaatgttcttttataagaaaatgtagcccatttcttcccatt',\n",
       " 'agagcgacgggcgatgtgtgcgtacttcattgctcaattcaattaagctctctattcttaatttactactaaatcctccttagtcctttagtttcataaagggtatagtaatgttcttttataagaaaatgtagcccatttcttcccatt',\n",
       " 'aaactaggattagataccctattatgcttagccataaacctaaataattaaatttaacaaaactatttgccagagaactactagccatagcttaaaactcaaaggacttggcggtactttatatccatctagaggagcctgttctataat',\n",
       " 'aaactaggataagaaaccctaaaaagcttagccataaacctaaaaaattaaatttaacaaaactatttgccagagaactactagccatagcttaaaactcaaaggacttggcggtactttatatccatctagaggagcctgttctataat',\n",
       " 'agagcgacgggcgatgtgtgcgtacttcattgctcaattcagttaagctctctattcttaatttactactaaatcctccttagtcctttagtttcataaagggtatagtaatgttcttttataagaaaatgtagcccatttcttcccatt',\n",
       " 'agagcgacgggcgatgtgtgcgtacttcattgctcaattcaattaagctctctattcttaatttactactaaatcctccttagtcctttagtttcataaagggtatagtaatgttcttttataagaaaatgtagcccatttcttcccatt',\n",
       " 'aaactaggattagataccctattatgcttagccataaacctaaataattaaatttaacaaaactatttgccagagaactactagccatagcttaaaactcaaaggacttggcggtactttatatccatctagaggagcctgttctataat',\n",
       " 'agagcgacgggcgatgtgtgcgtacttcattgctcaattcaattaagctctctattcttaatttactactaaatcctccttagtcctttagtttcataaagggtatagtaatgttcttttataagaaaatgtagcccatttcttcccgtt',\n",
       " 'aaactaggattagataccctattatgcttagccataaacctaaataattaaatttaacaaaactatttgccagagaactactagccatagcttaaaactcaaaggacttggcggtactttatatccatctagaggagcctgttctataat',\n",
       " 'agagcgacgggcgatgtgtgcgtacttcattgctcaattcaattaagctctctattcttagtttactactaaatcctccttagtcctttagtttcataaagggtatagtaatgttcttttataagaaaatgtagcccatttcttcccatt',\n",
       " 'agagcgacgggcgatgtgtgcgtacttcattgctcaattcaattaagctctctattcttaatttactactaaatcctccttagtcctttagtttcataaagggtatagtaatgttcttttataagaaaatgtagcccatttcttcccatt',\n",
       " 'agagcgacgggcgatgtgtgcgtacttcattgctcaattcaattaagctctctattcttaatttactactaaatcctccttagtcctttagtttcataaagggtatagtaatgttcttttataagaaaatgtagcccatttcttcccatt',\n",
       " 'agagcgacgggcgatgtgtgcgtacttcattgctcaattcaattaagctctctattcttaatttactactaaatcctccttagtcctttagtttcataaagggtatagtaatgttcttttataagaaaatgtagcccatttcttcccatt',\n",
       " 'agagcgacgggcgatgtgtgcgtacttcattgctcaattcaattaagctctctattcttaatttactactaaatcctccttagtcctttagtttcatgaagggtatagtaatgttcttttataagaaaatgtagcccatttcttcccatc',\n",
       " 'agagcgacgggcgatgtgtgcgtacttcattgctcaattcaattaagctctctattcttaatttactactaaatcctccttagtcctttagtttcataaagggtatagtaatgttcttttataagaaaatgtagcccatttcttcccatt',\n",
       " 'agagcgacgggcgatgtgtgcgtacttcattgctcaattcaattaagctctctattcttaatttactactaaatcctccttagtcctttagtttcataaagggtatagtaatgttcttttataagaaaatgtagcccatttcttcccatt',\n",
       " 'aaactaggattagataccctattatgcttagccatgaacctaaataattaaatttaacaaaactatttgccagagaactactagccatagcttaaaactcaaaggacttggcggtactttatatccatctagaggagcctgttctataat',\n",
       " 'agagcgacgggcgatgtgtgcgtacttcattgctcaattcaattaagctctctattcttaatttactactaaatcctccttagtcctttagtttcataaagggtatagtaatgttcttttataagaaaatgtagcccatttcttcccatt',\n",
       " 'aaactaggattagataccctattatgcttagccataaacctaaataattaaatttaacaaaactatttgccagagaactactagccatagcttaaaactcaaaggacttggcggtactttatatccatctagaggagcctgttctataat',\n",
       " 'aaactaggattagataccctattatgcttagccataaacctaaataattaaatttaacaaaactatttgccagagaactactagccatagcttaaaactcaaaggacttggcggtactttatatccatctagaggagcctgttctataat',\n",
       " 'aaactaggattagataccctattatgcttagccataaacctaaataattaaatttaacaaaactatttgccagagaactactagccatagcttaaaactcaaaggacttggcggtactttatatccatctagaggagcctgttctataat',\n",
       " 'aaactaggattagataccctattatgcttagccataaacctaaataattaaatttaacaaaactatttgccagagaactactagccatagcttaaaactcaaaggacttggcggtactttatatccatctagaggagcctgttctataat',\n",
       " 'aaactaggattagataccctattatgcttagccataaacctaaataattaaatttaacaaaactatttgccagagaactactagccatagcttaaaactcaaaggacttggcggtactttatatccatctagaggagcctgttctataat',\n",
       " 'aaactaggattagataccctattatgcttagccataaacctaaataattaaatttaacaaaactatttgccagagaactactagccatagcttaaaactcaaaggacttggcggtactttgtatccatctagaggagcctgttctataat',\n",
       " 'aaactaggattagataccctattatgcttagccataaacctaaataattaaatttaacaaaactatttgccagagaactactagccatagcttaaaactcaaaggacttggcggtactttatatccatctagaggagcctgttctataat',\n",
       " 'agagcgacgggcgatgtgtgcgtacttcattgctcaattcaattaagctctctattcttaatttactactaaatcctccttagtcctttagtttcataaagggtatagtaatgttcttttataagaaaatgtagcccatttcttcccatt',\n",
       " 'agagcgacgggcgatgtgtgcgtacttcattgctcaattcaattaagctctctattcttagtttactactaaatcctccttagtcctttagtttcataaagggtatagtaatgttcttttataagaaaatgtagcccatttcttcccatt',\n",
       " 'agagcgacgcgccaagagagcgtacttcaatgctcaattcaaaaaatcactcaattcataatttactactaaatcctccttagtcctttagtttcataaagggtatagtaatgttcttttataagaaaatgtagcccatttcttcccatt',\n",
       " 'aaactaggattagataccctattatgcttagccataaacctaaataattaaatttaacaaaactatttgccagaggactactagccatagcttaaaactcaaaggacttggcggtactttatatccatctagaggagcctgttctataat',\n",
       " 'aaactaggattagataccctattatgcttagccataaacctaaataattaaatttaacaaaactatttgccagagaactactagccatagcttaaaactcaaaggacttggcggtactttatatccatctagaggagcctgttctataat',\n",
       " 'aaactaggattagataccctattatgcttagccataaacctaaataattaaatttaacaaaactatttgccagagaactactagccatagcttaaaactcaaaggacttggcggtactttatatccatctagaggagcctgttctataat',\n",
       " 'agagcgacgggcgatgtgtgcgtacttcattgctcaattcaattaatctctctattcttaatttactactaaatcctccttagtcctttagtttcataaagggtatagtaatgttcttttataagaatatgtagcccatttcttcccatt',\n",
       " 'aaactaggattagataccctattatgcttagccataaacctaaataattaaatttaacaaaactatttgccagagaactactagccatagcttaaaactcaaaggacttggcggtactttatatccatctagaggagcctgttctataat',\n",
       " 'aaactaggattagataccctattatgcttagccataaacctaaataattaaatttaacaaaactatttgccagagaactactagccatagcttaaaactcaaaggacttggcggtactttatatccatctagaggagcctgttctataat',\n",
       " 'agagcgacgggcgatgtgtgcgtacttcattgctcaattcaattaagctctctattcttaatttactactaaatcctccttagtcctttagtttcataaagggtatagtaatgttcttttataagaaaatgtagcccatttcttcccatt',\n",
       " 'agagcgacgggcgatgtgtgcgtacttcattgctcaattcaattaagctctctattcttaatttactactaaatcctccttagtcctttagtttcataaagggtatagtaatgttcttttataagaaaatgtagcccatttcttcccatt',\n",
       " 'agagcgacgggcgatgtgtgcgtacttcattgctcaattcaattaagctctctattcttaatttactactaaatcctccttagtcctttagtttcataaagggtatagtaatgttcttttataagaaaatgtagcccatttcttcccatt',\n",
       " 'agagcgacgggcgatgtgtgcgtacttcattgctcaattcaattaagctctctattcttaatttactactaaatcctccttagtcctttagtttcataaagggtatagtaatgttcttttataagaaaatgtagcccatttcttcccatt',\n",
       " 'aaactaggattagataccctattatgcttagccataaacctaaataattaaatttaacaaaactatttgccagagaactactagccatagcttaaaactcaaaggacttggcggtactttatatccatctagaggagcctgttctataat',\n",
       " 'aaactaggattagataccctattatgcttagccataaacctaaataattaaatttaacaaaactatttgccagagaactactagccatagcttaaaactcaaaggacttggcggtactttatatccatctagaggagcctgttctataat',\n",
       " 'agagcgacgggcgatgtgtgcgtacttcattgctcaattcaattaagctctctattcttaatttactactaaatcctccttagtcctttagtttcataaagggtatagtaatgttcttttataagaaaatgtagcccatttattcccatt',\n",
       " 'agagcgacgggcgatgtgtgcgtacttcattgctcaattcaattaagctctctattcttaaattactactaaatactccttagtcctttagtttcattaagggtatagtaatgttctgttataataaaatgaagcccattaattcccatt',\n",
       " 'agagcgacgggcgatgtgtgcgtacttcattgctcaattcaagtaagctctccattcttaatttactactaaatcctccttagtcctttagtttcataaagggtatagtaatgttcttttataagaaaatgtagcccatttcttcccatt',\n",
       " 'agagcgacgggcgatgtgtgcgtacttcattgctcaattcaattaagctctctattcttaatttactactaaatcctccttagtcctttagtttcataaagggtatagtaatgttcttttataagaaaatgtagcccatttcttcccatt',\n",
       " 'aaactaggattagataccctattatgcttagccataaacctaaataattaaatttaacaaaactatttgccagaggactactagccatagcttaaaactcaaaggacttggcggtactttatatccatctagaggagcctgttctataat',\n",
       " 'agagcgacgggcgatgtgtgcgtacttcattgctcaattcaattaagctctctattcttaatttactactaaatcctccttagtcctttagtttcattaagggtatagtaatgttcttttataagaaaatgtagcccaattattcccatt',\n",
       " 'agagcgacgggcgatgtgtgcgtacttcattgctcaattcaattaagctctctattcttaatttactactaaatcctccttagtcctttagtttcataaagggtatagtaatgttcttttataagaaaatgtagcccatttcttcccatt',\n",
       " 'aaactaggattagataccctattatgcttagccataaacctaaataattaaatttaacaaaactatttgccagagagctactagccatagcttaaaactcaaaggacttggcggtactttatatccatctagaggagcctgttctataat',\n",
       " 'agagcgacgggcgatgtgtgcgtacttcattgctcaattcaattaagctctctattcttaatttactactaaatcctccttagtcctttagtttcataaagggtatagtaatgttcttttataagaaaatgtagcccatttcttcccatt',\n",
       " 'aaactaggattagataccctattatgcttagccataaacctaaataattaaatttaacaaaactatttgccagagaactactagccatagcttaaaactcaaaggacttggcggtactttatatccatctagaggagcctgttctataat',\n",
       " 'aaactaggattagataccctattatgcttagccataaacctaaataattaaatttaacaaaactatttgccagagaactactagccatagcttaaaactcaaaggacttggcggtactttatatccatctagaggagcctgttctataat',\n",
       " 'aaactaggattagataccctattatgcttagccataaacctaaataattaaatttaacaaaactatttgccagagaactactagccatagcttaaaactcaaaggacttggcggtactttatatccatctagaggagcctgttctataat',\n",
       " 'agagcgacgggcgatgtgtgcgtacttcattgctcaattcatttaagatctctattcttaatttacttcaaaatcctcctatgtcctttagtttcataaagggtatagtaatgttcttttataagaaaatgtagcccatgtcttcccatt',\n",
       " 'agagcgacgggcgatgtgtgcgtacttcattgctcaattcaattaagctctctattcttaatttactactaaatcctccttagtcctttagtttcataaagggtatagtaatgttcttttataagaaaatgtagcccatttcttcccatt',\n",
       " 'aaactaggattagataccctattatgctaagccataaacctaaataattaaatataacaaaactatttgccagagaactactagccatagcttaaaactcaaaggacttggcggtactttatatccaactagaggagcctgttctataat',\n",
       " 'aaactaggattagataccctattatgcttagccataaacctaaataattaaatttaacaaaactatttgccagagaactactagccatagcttaaaactcaaaggacttggcggtactttatatccatctagaggagcctgttctataat',\n",
       " 'agagcgacgggcgatgtgtgcgtacttcattgctcaattcaattaagctctctattcttaatttactactaaatcctccttagtcctttagtttcataaagggtatagtaatgttcttttataagaaaatgtagcccatttcttcccatt',\n",
       " 'aaactaggattagataccctattatgcttagccataaacctaaataattaaatttaacaaaactatttgccagagaactactagccatagcttaaaactcaaaggacttggcggtactttatatccatctagaggagcctgttctataat',\n",
       " 'aaactaggattagataccctattatgcttagccataaacctaaataattaaatttaacaaaactatttgccagagaactactagccatagcttaaaactcaaaggacttggcggtactttatatccatctagaggagcctgttctataat',\n",
       " 'aaactaggattagataccctattatgcttagccataaacctaaataattaaatttaacaaaactatttgccagagaactactagccatagcttaaaactcaaaggacttggcggtactttatgtccatctagaggagcctgttctataat',\n",
       " 'aaactaggattagataccctattatgcttagccataaacctaaataattaaatttaacaaaactatttgccagagaactactagccatagcttaaaactcaaaggacttggcggtactttatatccatctagaggagcctgttctataat',\n",
       " 'aaactaggattagataccctattatgcttagccataaacctaaataattaaatttaacaaaactatttgccagagaactactagccatagcttaaaactcaaaggacttggcggtactttatatccatctagaggagcctgttctataat',\n",
       " 'aaactaggattagataccctattatgcttagccataaacctaaataattaaatttaacaaaactatttgccagagaactactagccatagcttaaaactcaaaggacttggcggtactttatatccatctagaggagcctgttctataat',\n",
       " 'agagcgacgggcgatgtgtgcgtacttcattgctcaattcaattaagctctctattcttaatttactactaaatcctccttagtcctttagtttcataaagggtatagtaatgttcttttataagaaaatgtagcccatttcttcccatt',\n",
       " 'aaactaggattagataccctattatgcttagccataaacctaaataattaaatttaacaaaactatttgccagagaactactagccatagcttaaaactcaaaggacttggcggtactttatatccatctagaggagcctgttctataat',\n",
       " 'aaactaggattagataccctattatgcttagccataaacctaaataattaaatttaacaaaactatttgccagagaactactagccatagcttaaaactcaaaggacttggcggtactttatatccatctagaggagcctgttctataat',\n",
       " 'aaactaggaatagaaaccctaatatgcatatccatagacctaaataattaaaattaacaaaacaaaaagccagagaactactagccatagcttaaaactcaaaggacttggcggtactttatatccatctagaggagcctgttctataat',\n",
       " 'agagcgacgggcgatgtgtgcgtacttcattgatcaattcaattaagctctctattcttaatttactactaaatcctccttagtcctttagtttcataaagggtatagtaatgttcttttataagaaaatgaagcccatttcttcccatt',\n",
       " 'agagcgacgggcgatgtgtgcgtacttcattgctcaattcaattaagctctctattcttaatttactactaaatcctccttagtcctttagtttcataaagggtatagtaatgttcttttataagaaaatgtagcccatttcttcccatt',\n",
       " 'agagcgacgggcgatgtgtgcgtacttcattgctcaattcaattaagctctctattcttaatttactactaaatcctccttagtcctttagtttcataaagggtatagtaatgttcttttataagaaaatgtagcccatttcttcccatt',\n",
       " 'agagcgacgggcgatgtgtgcgtacttcattgctcaattcaattaagctctctattcttaatttactactaaatcctccttagtcctttagtttcataaagggtatagtaatgttcttttataagaaaatgtagcccatttcttcccatt',\n",
       " 'agagcgacgggcgatgtgtgcgtacttcattgctcaattcaattaagctctctattcttaatttactactaaatcctccttagtcctttagtttcataaagggtatagtaatgttcttttataagaaaatgtagcccatttcttcccctt',\n",
       " 'agagctacgggagatgtgtgcgtacttcattgctcaattcaattaagctctctactcttaatttaatactaaaacctccttagtcctttagattcataaatggtatagtaatgttcttttataagaaaatgtagcccatttcttcccaat',\n",
       " 'gcttagccataaacctaaataattaaatttaacaaaactatttgccagagaactactagccatagcttaaaactcaaaggacttggcggtactttatatccatctagaggagcctgttctataatcgataaaccccgctctacctcacca',\n",
       " 'aaactaggattagataccctattatgcttagccataaacctaaataattaaatttaacaaaactatttgccagagaactactagccatagcttaaaactcaaaggacttggctgtactttatatccatctagaggagcctgttctataat',\n",
       " 'agagcgacgggcgatgtgtgcgtacttcattgctcaattcaattaagctctctattcttaatttactactaaatcctccttagtcctttagtttcataaagggtatagtaatgttcttttataagaaaatgtagcccatttcttcccatt',\n",
       " 'agagcgacgggcgatgtgtgcgtacttcattgctcaattcaattaagctctctattcttaatttactactaaatcctccttagtcctttagtttcataaagggtatagtaatgttcttttataagaaaatgtagcccatttcttcccatt',\n",
       " 'aaactaggattagataccctattatgcttagccataaacctaaataattaaatttaacaaaactatttgccagagaactactagccatagcttaaaactcaaaggacttggcggtactttatatccatctagaggagcctgttctataat',\n",
       " 'agagcgacgggcgatgtgtgcgtacttcattgctcaattcaattaagctctctattcttaatttactactaaatcctccttagtcctttagtttcataaagggtatagtaatgttcttttataagaaaatgtagcccatttcttcccatt',\n",
       " 'aaactaggattagataccctattatgcttagccataaacctaaataattaaatttaacaaaactatttgccagagaactactagccatagcttaaaactcaaaggacttggcggtactttatatccatctagaggagcctgttctataat',\n",
       " 'agagcgacgggcgatgtgtgcgtacttcattgctcaattcaattaagctctctattcttaatttactactaaatcctccttagtcctttagtttcataaagggtatagtaatgttcttttataagaaaatgtagcccatttcttcccatt',\n",
       " 'agagcgacgggcgatgtgtgcgtacttcattgctcaattcaattaagctctctattcttaatttactactaaatcctccttagtcctttagtttcataaagggtatagtaatgttcttttataagaaaatgtagcccatttcttcccatt',\n",
       " 'agagcgacgggcgatgtgtgcgtacttcattgctcaattcaattaagctctctattcttaatttactactaaatcctccttagtcctttagtttcataaagggtatagtaatgttcttttataagaaaatgtagcccatttcttcccatt',\n",
       " 'agagcgacgggcgatgtgtgcgtacttcattgctcaattcaattaagctctctattcttaatttactactaaatcctccttagtcctttagtttcataaagggtatagtaatgttcttttataagaaaatgtagcccatttcttcccatt',\n",
       " 'agagcgacgggcgatgtgtgcgtacttcattgctcaattcaattaagctctctattcttaatttactactaaatcctccttagtcctttagtctcataaagggtatagtaatgttcttttataagaaaatgtagcccatttcttcccatt',\n",
       " 'agagcgacgggcgatgtgtgcgtacttcattgctcaattcaattaagctctctattcttaatttactactaaatcctccttagtcctttagtctcataaagggtatagtaatgttcttttataagaaaatgtagcccatttcttcccatt',\n",
       " 'agagcgacgggcgatgtgtgcgtacttcattgctcaattcaattaagctctctattcttaatttactactaaatcctccttagtcctttagtttcataaagggtatagtaatgttcttttataagaaaatgtagcccatttcttcccatt',\n",
       " 'agagcgacgggcgatgtgtgcgtacttcattgctcaattcaattaagccctctattcttaatttactactaaatcctccttagtcctttagcttcataaagggtatagtaatgttcttttataagaaaatgtagcccatttcttcccatt',\n",
       " 'agagcgacgggcgatgtgtgcgtacttcattgctcaattcaattaagctctctattcttaatttactactaaatcctccttagtcctttagtttcataaagggtatagtaatgttcttttataagaaaatgtagcccatttcttcccatt',\n",
       " 'aaactaggattagataccctattatgcttagccataaacctaaataattaaatttaacaaaactatttgccagagaactactagccatagcttaaaactcaaaggacttggcggtactttatatccatctagaggagcctgttctataat',\n",
       " 'aaactaggattagataccctattatgcttagccataaacctaaataattaaatttaacaaaactatttgccagagaactactagccatagcttaaaactcaaaggacttggcggtactttatatccatctagaggagcctgttctataat',\n",
       " 'agagcgacgggcgatgtgtgcgtacttcattgctcaattcaattaagctctctattcttaatttactactaaatcctccttagtcctttagtttcataaagggtatagtaatgttcttttataagaaaatgtagcccatttcttcccatt',\n",
       " 'aactaggattagataccctattatgcttagccataaacctaaataattaaatttaacaaaactatttgccagagaactactagccatagcttaaaactcaaaggacttggcggtactttatatccatctagaggagcctgttctataatc',\n",
       " 'aaactaggattagataccctattatgcttagccataaacctaaataattaaatttaacaaaactatttgccagagaactactagccatagcttaaaactcaaaggacttggcggtactttatatccatctagaggagcctgttctataat',\n",
       " 'agagcgacgggcgatgtgtgcgtacttcattgctcaattcaattaagctctctattcttaatttactactaaatcctccttagtcctttagtttcataaagggtatagtaatgttcttttataagaaaatgtagcccatttcttcccatt',\n",
       " 'aaactaggattagataccctattatgcttagccataaacctaaataattaaatttaacaaaactatttgccagagaactactagccatagcttaaaactcaaaggacttggcggtactttatatccatctagaggagcctgttctataat',\n",
       " 'agagcgacgggcgatgtgtgcgtacttcattgctcaattcaattaagctctctattcttaatttactactaaatcctccttagtcctttagtttcataaagggtatagtaatgttcttttataagaaaatgtagcccatttcttcccatt',\n",
       " 'aaactaggattagataccctattatgcttagtcataaacctaaataattaaatttaacaaaactatttgccagagaactactagccatagcttaaaactcaaaggacttggcggtactttatatccatctagaggagcctgttctataat',\n",
       " 'aaactaggattagataccctattatgcttagccataaacctaaataattaaatttaacaaaactatttgccagagaactactagccatagcttaaaactcaaaggacttggcggtactttatatccatctagaggagcctgttctataat',\n",
       " 'cttagccataaacctaaataattaaatttaacaaaactatttgccagagaactactagccatagcttaaaactcaaaggacttggcggtactttatatccatctagaggagcctgttctataatcgataaaccccgctctacctcaccat',\n",
       " 'agagcgacgggcgatgtgtgcgtacttcattgctcaattcaattaagctctctattcttaatttactactaaatcctccttagtcctttagtttcataaagggtatagtaatgttcttttataagaaaatgtagcccatttcttcccatt',\n",
       " 'agagcgacgggcgatgtgtgcgtacttcattgctcaattcaattaagctctccattcttaatttactactaaatcctccttagtcctttagtttcataaagggtatagtaatgttcttttataagaaaatgtagcccatttcttcccatt',\n",
       " 'agagcgacgggcgatgtgtgcgtacttcattgctcaattcaattaagctctctattcttaatttactactaaatcctccttagtcctttagtttcataaagggtatagtaatgttcttttataagaaaatgtagcccatttcttcccatt',\n",
       " 'aaactaggattagataccctattatgcttagccataaacctaaataattaaatttaacaaaactatttgccagagaactactagccatagcttaaaactcaaaggacatggcggtactttatatccatctagaggagcctgttctataat',\n",
       " 'aaactaggattagataccctattatgcttagccataaacctaaataattaaatttaacaaaactatttgccagagaactactagccatagcttaaaactcaaaggacttggcggtactttatatccatctagaggagcctgttctataat',\n",
       " 'aaactaggattagataccctattatgcttagccataaacctaaataattaaatttaaaaaaactatttgccagagaactactagccatagcttaaaactcaaaggacttggcggtactttatatccatctagaggagcctgttctataat',\n",
       " 'aaactaggattagataccctattatgcttagccataaacctaaataattaaatttaacaaaactatttgccagagaactactagccatagcttaaaactcaaaggacttggcggtactttatatccatctagaggagcctgttctataat',\n",
       " 'agagcgacgggcgatgtgtgcgtacttcattgctcaattcaattaagctctctattcttaatttactactaaatcctccttagtcctttagtttcataaagggtatagtaatgttcttttataagaaaatgtagcccatttcttcccatt',\n",
       " 'aaactaggattagataccctattatgcttagccataaaccttaataatttaatttatcaaaactatttgccagattactactacccatagcttaaaactcaaatgacattgcggtactttaaatccatctagaggatgctgttatataat',\n",
       " 'agngcgangggcgatgtntgcgnacttcnttgctcaattnaannaagctcnctantcntaatntacnactaaatcctccntagtcctttngtttcataaagggtatngtaatntncttntataagaanatgtagnccatttcttnncatt',\n",
       " 'agagcgacgggcgatgtgtgcgtacttcattgctcaattcaattaagctctctattcttaatttactactaaatcctccttagtcctttagtttcataaagggtatagtaatgttcttttataagaaaatgtagcccatttcttcccatt',\n",
       " 'aaactaggattagataccctattatgcttagccataaacctaaataattaaatttaacaaaactatttgccagagaactactagccatagcttaaaactcaaaggacttggcggtactttatatccatctagaggagcctgttctataat',\n",
       " 'aaactatgattagatacaatattatgaatatcaataaaccaacagaattaaataaaacaaaactatttgccagagaactactagccatagcttaaaactcaaaggacttggcggtccgttatatccatctagaggagcctgttctataat',\n",
       " 'agagcgacggccgatgtgagcgaacttcattccacaaatcaataaagctctctattcttaatttactactaaatcctccttagtcctttagtttcataaagggtatagtagtgttcttttataagaaaatgtagcccatttcttcccatt',\n",
       " 'aaactaggattagataccctattatgcttagccataaacctaaataattaaatttaacaaaactatttgccagagaactactagccatagcttaaaactcaaaggacttggcggtactttatatccatctagaggagcctgttctataat',\n",
       " 'agagcgacgggcgatgtgtgcgtacttcattgctcaaatcaattaagctctctattcttaatttactactaaatcctccttagtcctttagtttcataaagggtatagtaatgttcttttataagaaaatgtagcccatttcttcccatt',\n",
       " 'aaactaggattagataccctattatgcttagccataaacctaaataattaaatttaacaaaactatttgccagagaactactagccatagcttaaaactcaaaggacttggcggtactttatatccatctagaggagcctgttctataat',\n",
       " 'aaactaggattagataccctattatgcttagccataaacctaaataattaaatttaacaaaactatttgccagagaactactagccatagcttaaaactcaaaggacttggcggtactttatatccatctagaggagcctgttctataat',\n",
       " 'agagcgacggggcgatgtgtgcgtacttcattgttcaattcaattaagctctctattcttaatttactactaaatcctccttagtcctttagtttcataaagggtatagtaatgttcttttataagaaaatgtagcccatttcttcccat',\n",
       " 'ccctattatgcttagccataaacctaaataattaaatttaacaaaactatttgccagagaactactagccatagcttaaaactcaaaggacttggcggtactttatatccatctagaggagcctgttctataatcgataaaccccgctct',\n",
       " 'agagcgacgggcgatgtgtgcgtacttcattgctcaattcaattaagctctctattcttaatttactactaaatcctccttagtcctttagtttcataaagggtatagtaatgttcttttataagaaaatgtagcccatttcttcccatt',\n",
       " 'aaactaggattagataccctattatgcttagccataaacctaaataattaaatttaacaaaactatttgccagagaactactagccatagcttaaaactcaaaggacttggcggtactttatatccatctagaggagcctgttctataat',\n",
       " 'agagcgacgggcgatgtgtgcgtacttcattgctcaattcaattaagctctctattcttaatttactactaaatcctccttagtcctttagtttcataaagggtatagtaatgttcttttataagaaaatgtagcccatttcttcccatt',\n",
       " 'agagcgacgggcgatgagtgcgtacttcattgctcaattcaaataagctctctattcttaatatactactaaatcctccttagtcctttagtttcataaagggtatagtaatgttcatttataagaaaatgtagcccatttcttcccatt',\n",
       " 'agagcgacgggcgatgtgtgcgtacttcattgctcaattcaattaagctctctattcttaatttactactaaatcctccttagtcctttagtttcataaagggtatagtaatgttcttttataagaaaatgtagcccatttcttcccatt',\n",
       " 'aaactaggattagataccctattatgcttagccataaacctaaataattaaatttaacaaaactatttgccagagaactactagccatagcttaaaactcaaaggacttggcggtactttatatccatctagaggagcctgttctataat',\n",
       " 'actaggattagataccctattatgcttagccataaacctaaataattaaatttaacaaaactatttgccagagaactactagccatagcttaaaactcaaaggacttggcggtactttatatccatctagaggagcctgttctataatcg',\n",
       " 'agagcgacgggcgatgtgtgcgtacttcattgctcaattcaattaagctctctattcttaatttactactaaatcctccttagtcctttagtttcataaagggtatagtaatgttcttttataagaaaatgtagcccatttcttcccatt',\n",
       " 'aaactaggattagataccctattatgcttagccataaacctaaataattaaatttaacaaaactatttgccagagaactactagccatagcttaaaactcaaaggacttggcggtactttatatccatctagaggagcctgttctataat',\n",
       " 'aaactaggattagataccctattatgcttagccataaacctaaataattaaatttaacaaaactatttgccagagaactactagccatagcttaaaactcaaaggacttggcggtactttatatccatctagaggagcctgttctataat',\n",
       " 'agagcgacgggcgatgtgtgcgtacttcattgctcaattcaattaagctctctattcttaatttactactaaatcctccttagtcctttagtttcataaagggtatagtaatgttcttttataagaaaatgtagcccatttcttcccatt',\n",
       " 'aaactaggattagataccctattatgcttagccataaacctaaataattaaatttaacaaaactatttgccagagaactactagccatagcttaaaactcaaaggacttggcggtactttatatccatctagaggagcctgttctataat',\n",
       " 'cttagccataaacctaaataattaaatttaacaaaactatttgccagagaactactagccatagcttaaaactcaaaggacttggcggtactttatatccatctagaggagcctgttctataatcgataaaccccgctctacctcaccat',\n",
       " 'agatcgacgggcgatgttttcgtacttcaatgctcaattcagataatatctcaattcttaatttactactaaatcctccttagtcctttagtttcataaagggtatagtaatgttcttttataagaaaatgtagcccatttcttcccatt',\n",
       " 'agagcgacgggcgatgtgtgcgtacttcattgctcaattcaattaagctctctattcttaatttactactaaatcctccttagtcctttagtttcataaagggtatagtaatgttcttttataagaaaatgtagcccatttcttcccatt',\n",
       " 'aaactaggattagataccctattatgcttagccataaacctaaataattaaatttaacaaaactatttgccagagaactactagccatagcttaaaactcaaaggacttggcggtactctatatccatctagaggagcctgttctataat',\n",
       " 'agagcgacgggcgatgtgtgcgtacttcattgctcaattcaattaagctctctattcttaatttactactaaatcctccttagtcctttagtttcataaagggtatagtaatgttcttttataagaaaatgtagcccatttcttcccatc',\n",
       " 'agagcgacgggcgatgtgtgcgtacttcattgctcaattcaattaagctctctattcttaatttactactaaatcctccttagtcctttagtttcataaagggtatagtaatgttcttttataagaaaatgtagcccatttcttcccatt',\n",
       " 'aaactaggattagataccctattatgcttagccataaacctaaataattaaatttaacaaaactatttgccagagaactactagccatagcttaaaactcaaaggacttggcggtactttatatccatctagaggagcctgttctataat',\n",
       " 'agagcgacgggcgatgtgtgcgtacttcattgctcaattcaattaagctctctattcttaatttactactaaatcctccttagtcctttagtttcataaagggtatagtaatgttcttttataagaaaatgtagcccatttcttcccatt',\n",
       " 'agagcgacgggcgatgtgtgcgtacttcattgctcaattcaattaagctctctattcttaatttactactaaatcctccttagtcctttagtttcataaagggtatagtaatgttcttttataagaaaatgtagcccatttcttcccatt',\n",
       " 'agagcgacgggcgatgtgtgcgtacttcattgctcaattcaattaagctctctgttcttaatttactactaaatcctccttagtcctttagtttcataaagggtatagtaatgttcttttataagaaaatgtagcccatttcttcccatt',\n",
       " 'aaactaggattagataccctattatgcttagccataaacctaaataattaaatttaacaaaactatttgccagagaactactagccatagcttaaaactcaaaggacttggcggtactttatatccatctagaggagcctgttctataat',\n",
       " 'aaactaggattagataccctattatgcttagccataaacctaaataattaaatttaacaaaactatttgccagagaactactagccatagcttaaaactcaaaggacttggcggtactttatatccatctagaggagcctgttctataat',\n",
       " 'agagcgacgggcgatgtgtgcgtacttcattgctcaattcaattaagctctctattcttaatttactactaaatcctccttagtcctttagtttcataaagggtatagtaatgttcttttataagaaaatgtagcccatttcttcccatt',\n",
       " 'aaactaggattagataccctattatgcttagccataaacctaaataattaaatttaacaaaactatttgccagagaactactagccatagcttaaaactcaaaggacttggcggtactttatatccatctagaggagcctgttctataat',\n",
       " 'agagcgacgggcgatgtgtgcgtacttcattgctcaattcaattaagctctctattcttaatttactactaaatcctccttagtcctttagtttcataaagggtatagtaatgttcttttataagaaaatgtagcccatttcttcccatt',\n",
       " 'aaactaggattagataccctattatgcttagccataaacctaaataattaaatttaacaaaactatttgccagagaactactagccatagcttaaaactcaaaggacttggcggcactttatatccatctagaggagcctgttctataat',\n",
       " 'agagcgacgggcgatgtgtgcgtacttcattgctcaattcaattaagctctctattcttaatttactactaaatcctccttagtcctttagtttcataaagggtatagtaatgttcttttataagaaaatgtagcccatttcttcccatt',\n",
       " 'agagcgacgggcgatgtgtgcgtacttcattgctcaattcaattaagctctctattcttaatttactactaaatcctccttagtcctttagtttcataaagggtatagtaatgttcttttataagaaaatgtagcccatttcttcccatt',\n",
       " 'aaactaggattagataccctattatgcttagccataaacctaaataattaaatttaacaaaactatttgccagagaactactagccatagcttaaaactcaaaggacttggcggtactttatatccatctagaggagcctgttctataaa',\n",
       " 'aaactaggattagataccctattatgcttagccataaacctaaataattaaatttaacaaaactatttgccagagaactactagccatagcttaaaactcaaaggacttggcggtactttatatccatctagaggagcctgttctataat',\n",
       " 'agagcgacgggcgatgtgtgcgtacttcattgctcaattcaattaagctctctattcttaatttactactaaatcctccttagtcctttagtttcataaagggtatagtaatgttcttttataagaaaatgtagcccatttcttcccatt',\n",
       " 'agagcgacgggcgatgtgtgcgtacttcattgctcaattcaattaagctctctatccttaatttactactaaatcctccttagtcccttagtttcataaagggtatagtaatgttcttttataagaaaatgtagcccatttcttcccatt',\n",
       " 'agagcgacgggcgatgtgtgcgtacttcattgctcaattcaattaagctctctattctaaatttactactaaatcctccttagtcctttagtttcataaagggtatagtaatgttcttttataagaaaatgtagcccatttcttcccatt',\n",
       " 'aaactaggattagataccctattatgcttagccataaacctaaataattaaatttaacaaaactatttgccagagaactactagccatagcttaaaactcaaaggacttggcggtactttatatccatctagaggagcctgttctataat',\n",
       " 'agagcgacgggcgatgtgtgcgtacttcattgctcaattcaattaagctctctattcttaatttactactaaatcctcctcagtcctttagtttcataaagggtatagtaatgttcttttataagaaaatgtagcccatttcttcccatt',\n",
       " 'agagcgacgggcgatgtgtgcgtacttcattgctcaattcaattaagctctctattcttaatttactactaaatcctccttagtcctttagtttcataaagggtatagtaatgttcttttataagaaaatgtagcccatttcttcccatt',\n",
       " 'aaactaggattagataccctattatgcttagccataaacctaaataattaaatttaacaaaactatttgccagagaactactagccatagcttaaaactcaaaggacttggcggtactttatatccatctagaggagcctgttctataat',\n",
       " 'agagcgacgggcgatgtgtgcgtacttcattgctcaattcaattaagctctctattcttaatttactactaaatcctccttagtcctttagtttcataaagggtatagtaatgttcttttataagaaagtgtagcccatttcttcccatt',\n",
       " 'aaactaggattagataccctattatgcttagccataaacctaaataattaaatttaacaaaactatttgccagagaactactagccatagcttaaaactcaaaggacttggcggtactttatatccatctagaggagcctgttctataat',\n",
       " 'agagcgacgggcgatgtgtgcgtacttcattgctcaattcaattaagctctctattcttaatttactactaaatcctccttagtcctttagtttcataaagggtatagtaatgttcttttataagaaaatgtagcccatttcttcccatt',\n",
       " 'agagcgacgggcgatgtgtgcgtacttcattgctcaattcaattaagctctctattcttaatttactactaaatcctccttagtcctttagtttcataaagggtatagtaatgttcttttataagaaaatgtagcccatttcttcccatt',\n",
       " 'agagcgacgggcgatgtgtgcgtacttcattgctcaattcaattaagctctctattcttaatttactactaaatcctccttagtcctttagtttcataaagggtatagtaatgttcttttataagaaaatgtagcccatttcttcccatt',\n",
       " 'agagcgacgggcgatgtgtgcgtacttcattgctcaattcaattaagctctctattcttaatttactactaaatcctccttagtcctttagtttcataaagggtatagtaatgttcttttataagaaaatgtagcccatttcttcccatt',\n",
       " 'agagcgacgggcgatgtgtgcgtacttcattgctcaattcaattaagctctctattcttaatttactactaaatcctccttagtcctttagtttcataaagggtatagtaatgttcttttataagaaaatgtagcccatttcttcccatt',\n",
       " 'agagcgacgggcgatgtgtgcgtacttcatcgctcaattcaattaagctctctattcttaatttactactaaatcctccttagtcctttagtttcataaagggtatagtaatgttcttttataagaagatgtagcccatttcttcccatt',\n",
       " 'aaactaggattagataccctattatgcttagccataaacctaaataattaaatttaacaaaactatttgccagagaactactagccatagcttaaaactcaaaggacttggcggtactttatatccatctagaggagcctgttctataat',\n",
       " 'actaggattagataccctattatgcttagccataaacctaaataattaaatttaacaaaactatttgccagagaactactagccatagcttaaaactcaaaggacttggcggtactttatatccacctagaggagcctgttctataatcg',\n",
       " 'agagcgacgggcgatgtgtgcgtacttcattgctcaattcaattaagctctctattcttaatttactactaaatcctccttagtcctttagtttcataaagggtatagtaatgttcttttataagaaaatgtagcccatttcttcccatt',\n",
       " 'gcttagccataaacctaaataattaaatttaacaaaactatttgccagagaactactagccatagcttaaaactcaaaggacttggcggtactttacatccatctagaggagcctgttctataatcgataaaccccgctctacctcacca',\n",
       " 'agagcgacgggcgatgtgtgcgaacttcattgctcaattcaattaagctctctattcttaatttactactaaatcctccttagtcctttagtttcataaagggtatagtaatgttcttttataagaaaatgtagcccatttcttcccatt',\n",
       " 'aaactaggattagataccctattatgcttagccataaacctaaataattaaatttaacaaaactatttgccagagaactactagccatagcttaaaactcaaaggacttggcggtactttatatccatctagaggagcctgttctataat',\n",
       " 'aaactaggattagataccctattatgcttagccataaacctaataattaaatttaacaaaactatttgccagagaactactagccatagcttaaaactcaaaggacttggcggtactttatatccatctagaggagcctgttctataatc',\n",
       " 'aaactaggattagataccctattatgcttagccataaacctaaataattaaatttaacaaaactatttgccagagaactactagccatagcttaaaactcaaaggacttggcggtactttatatccatctagaggagcctgttctataat',\n",
       " 'ctaggattagataccctattatgcttagccataaacctaaataattaaatttaacaaaactatttgccagagaactactagccatagcttaaaactcaaaggacttggcggtactttatatccatctagaggagcctgttctataatcga',\n",
       " 'agagcgacgggcgatgtgtgcgtacttcattgctcaattcaattaagctctctattcttaatttactactaaatcctccttagtcctttagtttcataaagggtatagtaatgttcttttataagaaaatgtagcccatttcttcccatt',\n",
       " 'agagcgacgggcgatgtgtgcgtacttcattgctcaattcaattaagctctctattcttaatttactactaaatcctccttagtcctttagtttcataaagggtatagtaatgttcttttataagaaaatgtagcccatttcttcccatt',\n",
       " 'agagcgacgggcgatgtgtgcgtacttcattgctcagttcaattaagctctctattcttaatttactactaaatcctccttagtcctttagtttcataaagggtatagtaatgttcttttaaaacaaaatgtagcccattacttcccttt',\n",
       " 'agagcgacgggcgatgtgtgcgtacttcattgctcaattcaattaagctctctattcttaatttactactaaatcctccttagtcctttagtttcataaagggtatagtaatgttcttttataagaaaatgtagcccatttcttcccatt',\n",
       " 'agagcgacgggcgatgtgtgcgtacttcattgctcaaatcaattaagctctctattcttaatttactactaaatcctccttagtcctttagtttcataaagggtatagtaatgttcttttataagaaaatgtagcccatttcttcccatt',\n",
       " 'agagcgacgggcgatgtgtgcgtacttcattgctcaattcaattaagctctctattcttaatttactactaaatcctccttagtcctttagtttcataaagggtatagtaatgttcttttataagaaaatgtagcccatctcttcccatt',\n",
       " 'agagcgacgggcgatgtgtgcgtacttcattgctcaattcaattaagctctctattcttaatttactactaaatcctccttagtcctttagtttcataaagggtatagtaatgttcttttataagaaaatgtagcccatttcttcccatt',\n",
       " 'agagcgacgggcgatgtgtgcgtacttcattgctcaattcaattaagctctctattcttaatttactactaaatcctccttagtcctttagtttcataaagggtatagtaatgttcttttataagaaaatgtagcccatttcttcccatt',\n",
       " 'agagcgacgggcgatgtgtgcgtacttcattgctcaattcaattaagctctctattcttaatttactactaaatcctccttagtcctttagtttcataaagggtatagtaatgttcttttataagaaaatgtagcccatttcttcccatt',\n",
       " 'agagcgacgggcgatgtgtgcgtacttcattgctcaattcaattaagctctctattcttaatttactactaaatcctccttagtcctttagtttcataaagggtatagtaatgttcttttataagaaaatgtagcccatttcttcccatt',\n",
       " 'agagcgacgggcgatgtgtgcgtacttcattgctcaattcaattaagctctctattcttaatttactactaaatcctccttagtcctttagtttcataaagggtatagtaatgttcttttataagaaaatgtagcccatttcttcccatt',\n",
       " 'agagcgacgggcgatgtgtgcgtacttcattgctcaattcaattaagctctctattcttaatttactactaaatcctccttagtcctatagtatcataaagggtatagtaatgttctataataagaaaatgtagcccatttcttcccatt',\n",
       " 'agagcgacgggcgatgtgtgcgtacttcattgctcatttcaatttagctctctattcttaatttactactaaatcctccttagtcctttagtttcataaagggtatagtaatgttcttttataagaaaatgaagcacattaattcccatt',\n",
       " 'agagcgacgggcgatgtgtgcgtacttcattgctcaattcaattaagctctctattcttaatttactactaaatcctccttagtcctttagtttcatagagggtatagtaatgttcttttataagaaaatgtagcccatttcttcccatt',\n",
       " 'agagcgacgggcgatgtgtgcgtacttcattgctcaattcaattaagctctctattcttaatttactactaaatcctccttagtcctttagtttcataaagggtatagtaatgttcttttataagaaaatgtagcccatttcttcccatt',\n",
       " 'agagcgacgggcgatgtgtgcgtacttcattgctcaattcaattaagctctctattcttaatttactactaaatcctccttagtcctttagtttcataaagggtatagtaatgttcttttataagaaaatgtagcccatttcttcccatt',\n",
       " 'aaactaggattagataccctattatgcttagccataaacctaaataattaaatttaacaaaactatttgccagagaactactagccatagcttaaaactcaaaggacttggcggtactttatatccatctagaggagcctgttctataat',\n",
       " 'agagcgacgggcgatgtgtgcgtacttcattgctcaattcaattaagctctctattcttaatttactactaaatcctccttagtcctttagtttcataaagggtatagtaatgttcttttataagaaaatgtagcccatttcttcccatt',\n",
       " 'agagcgacgggcgatgtgtgcgtacttcattgctcaattcaattaagctctctattcttaatttactactaaatcctccttagtcctttagtttcataaagggtatagtaatgttcttttataagaaaatgtagcccatttcttcccatt',\n",
       " 'agagcgacgggcgatgtgtgcgtacttcattgctcaattcaattaagctctctattcttaatttactactaaatcctccttagtcctttagtttcataaagggtatagtaatgttcttttataagaaaatgtagcccatttcttcccatt',\n",
       " 'aaactaggattagataccctattatgcttagccataaacctaaataattaaatttaacaaaactatttgccagagaactactagccatagcttaaaactcaaaggacttggcggtactttatatccatctagaggagcctgttctataat',\n",
       " 'agagcgacgggcgatgtgtgcgtacttcattgctcaattcaattaagctctctattcttaatttactactaaatcctccttagtcctttagtttcataaagggtatagtaatgttcttttataagaaaatgtagcccatttcttcccatt',\n",
       " 'agagcgacgggcgatgtgtgcgtacttcattgctcaattcaattaagctctctattcttaatttactactaaatcctccttagtcctttagtttcataaagggtatagtaatgttcttttataagaaaatgtagcccatttcttcccatt',\n",
       " 'aaactaggattagataccctattatgcttagccataaacctaaataattaaatttaacaaaactatttgccagagaactactagccatagcttaaaactcaaaggacttggcggtactttatatccatctagaggagcctgttctataat',\n",
       " 'agagcgacgggcgatgtgtgcgtacttcattgctcaattcaattaagctctctattcttaatttactactaaatcctccttagtcctttagtttcataaagggtatagtaatgttcttttataagaaaatgtagcccatttcttcccatt',\n",
       " 'aaactaggattagataccctattatgcttagccataaacctaaataattaaatttaacaaaactatttgccagagaactactagccatagcttaaaactcaaaggacttggcggtactttatatccatctagaggagcctgttctataat',\n",
       " 'agagcgacgggcgatgtgtgcgtacttcattgctcaattcaattaagctctctattcttaatttactactaaatcctccttagtcctttagtttcataaagggtatagtaatgttcttttataagaaaatgtagcccatttcttcccatt',\n",
       " 'aaactaggattagataccctattatgcttagccataaacctaaataattaaatttaacaaaactatttgccagagaactactagccatagcttaaaactcaaaggacttggcggtactttatatccatctagaggagcctgttctataat',\n",
       " 'gccataaacctaaataattaaatttaacaaaactatttgccagagaactactagccatagcttaaaactcaaaggacttggcggtactttatatccatctagaggagcctgttctataatcgataaaccccgctctacctcaccatctct',\n",
       " 'agagcgacgggcgatgtgtgcgtacttcattgctcaattcaattaagctctctattcttaatttactactaaatcctccttagtcctttagtttcataaagggtatagtaatgttcttttataagaaaatgtagcccatttcttcccatt',\n",
       " 'aaactaggattagataccctattatgcttagccataaacctaaataattaaatttaacaagactatttgccagagaactactagccatagcttaaaactcaaaggacttggcggtactttatatccatctagaggagcctgttctataat',\n",
       " 'aaactaggattagataccctattatgcttagccataaacctaaataattaaatttaacaaaactatttgccagagaactactagccatagcttaaaactcaaaggacttggcggtactttatatccatctagaggagcctgatctataat',\n",
       " 'agagcgacgggcgatgtgtgcgtacttcattgctcaattcaattaagctctctattcttaatttactactaaatcctccttagtcctttagtttcataaagggtatagtaatgttcttttataagaaaatgtagcccatttcttcccatt',\n",
       " 'aaactaggattagataccctattatgcttagccataaacctaaataattaaatttaacaaaactatttgccagagaactactagccatagcttaaaactcaaaggacttggcggtactttatatccatctagaggagcctgttctataat',\n",
       " 'aaactaggattagataccctattatgcttagccataaacctaaataattaaatttaacaaaactatttgccagagaactactagccatagcttaaaactcaaaggacttggcggtactttatatccatctagaggagcctgttctataat',\n",
       " 'agagcgacgggcgatgtgtgcgtacttcattgctcaattcaattaagctctctattcttaatttactactaaatcctccttagtcctttagtttcataaagggtatagtaatgttcttttataagaaaatgtagcccatttcttcccatt',\n",
       " 'aaactaggattagataccctattatgcttagccataaacctaaataattaaatttaacaaaactatttgccagagaactactagccatagcttaaaactcaaaggacttggcggtactttatatccatctagaggagcctgttctataat',\n",
       " 'agagcgacgggcgatgtgtgcgtacttcattgctcaattcaattaagctctctattcttaatttactactaaatcctccttagtcctttagtttcataaagggtatagtaatgttcttttataagaaaatgtggcccatttcttcccatt',\n",
       " 'cctttagtttcataaagggtatagtaatgttcttttataagaaaatgtagcccatttcttcccatttcattggctacaccttgacctaacgtttttatgtttgattcttttgcttactttaatacctttttagggtttgctgaagatggc',\n",
       " 'aaattaggattagataccctattatgcttagccataaacctaaataattaaatttaacaaaactatttgccagagaactactagccatagcttaaaactcaaaggacttggcggtactttatatccatctagaggagcctgttctataat',\n",
       " 'aaactaggattagataccctattatgcttagccataaacctaaataattaaatttaacaaaactatttgccagagaactactagccatagcttaaaactcaaaggacttggcggtactttatatccatctagaggagcctgttctataat',\n",
       " 'aaactaggattagataccctattatgcttagccataaacctaaataattaaatttaacaaaactatttgccagagaactactagccatagcttaaaactcaaaggacttggcggtactttatatccatctagaggagcctgttctataat',\n",
       " 'aaactaggattagataccctattatgcttagccataaacctaaataattaaatttaacaaaactatttgccagagaactactagccatagcttaaaactcaaaggacttggcggtactttatatccatctagaggagcctgttctataat',\n",
       " 'aaactaggattagataccctattatgcttagccataaacctaaataattaaatttaacaaaactatttgccagagaactactagccatagcttaaaactcaaaggacttggcggtactttatatccatctagaggagcctgttctataat',\n",
       " 'agagcgacgggcgatgtgtgcgtacttcattgctcaattcaattaagctctctattcttaatttactactaaatcctccttagtcctttagtttcgtaaagggtatagtaatgttcttttataagaaaatgtagcccatttcttcccatt',\n",
       " 'aaactaggattagataccctattatgcttagccataaacctaaataattaaatttaacaaaactatttgccagagaactactagccatagcttaaaactcaaaggacttggcggtactttatatccatctagaggagcctgttctataat',\n",
       " 'agagcgacgggcgatgtgtgcgtacttcattgctcaattcaattaagctctctattcttaatttactactaaatcctccttagtcctttagtctcataaagggtatagtaatgttcttttataagaaaatgtagcccatttcttcccatt',\n",
       " 'agagcgacgggcgatgtgtgcgtacttcattgctcaattcaattaagctctctattcttaatttactactaaatcctccttagtcctttagtttcataaagggtatagtaatgttcttttataagaaaatgtagcccatttcttcccatt',\n",
       " 'aaactaggattagataccctattatgcttagccataaacctaaataattaaatttaacaaaactatttgccagagaactactagccatagcttaaaactcaaaggacttggcggtactttatatccatctagaggagcctgttctataat',\n",
       " 'agagcgacgggcgatgtgtgcgtacttcattgctcaattcaattaagctctctattcttaatttactactaaatcctccttagtcctttagtttcataaagggtatagtaatgttcttttataagaaaatgtagcccatttcttcccatt',\n",
       " 'aaactaggattagataccctattatgcttagccataaacctaaataattaaatttaacaaaactatttgccagagaactactagccatagcttaaaactcaaaggacttggcggtactttatatccatctagaggagcctgttctataat',\n",
       " 'atttgccagagaactactagccatagcttaaaactcaaaggacttggcggtactttatatccatctagaggagcctgttctataatcgataaaccccgctctacctcaccatctcttgctaattcagcctatataccgccatcttcagca',\n",
       " 'agagcgacgggcgatgtgtgcgtacttcattgctcaattcaattaagctctctattcttaatttactactaaatcctccttagtcctttagtttcataaagggtatagtaatgttcttttataagaaaatgtagcccatttcttcccatt',\n",
       " 'agagcgacgggcgatgtgtgcgtacttcattgctcaattcaattaagctctctattcttaatttactactaaatcctccttagtcctttagtttcataaagggtatagtaatgttcttttataagaaaatgtagcccatttcttcccatt',\n",
       " 'aaactaggattagataccctattatgctaagccataaacctaaataattaaattaaacaaaactatttgccagagaactactacccatagcttaaaactcaaatgacttggcggtactttatatccaactagagcagcctgttcaataat',\n",
       " 'agagcgacgggcgatgtgtgcgtacttcattgctcaattcaattaagctctctattcttaatttactactaaatcctccttagtcctttagtttcataaagggtatagtaatgttcttttataagaaaatgtagcccatttcttcccatt',\n",
       " 'agagcgacgggcgatgtgtgcgtacttcattgctcaattcaattaagctctctattcttaatttactactaaatcctccttagtcctttagtttcataaagggtatagtaatgttcttttataagaaaatgtagcccatttcttcccatt',\n",
       " 'aaactaggattagataccctattatgcttagccataaacctaaataattaaatttaacaaaactatttgccagagaactactagccatagcttaaaactcaaaggacttggcggtactttatatccatctagaggagcctgttctataat',\n",
       " 'aaactaggattagataccctattatgcttagccataaacctaaataattaaatttaacaaaactatttgccagagaactactagccatagcttaaaactcaaaggacttggcggtactttatatccatctagaggagcctgttctataat',\n",
       " 'agagcgacgggcgatgtgtgcgtacttcattgctcaattcaattaagctctctattcttaatttactactaaatcctccttagtcctttagtttcataaagggtatagtaatgttcttttataagaaaatgtagcccatttcttcccatt',\n",
       " 'agagcgacgggcgatgtgtgcgtacttcattgctcaattcaattaagctctctattcttaatttactactaaatcctccttagtcctttagtttcataaagggtatagtaatgttcttttataagaaaatgtagcccatttcttcccatt',\n",
       " 'aaactaggattagataccctattatgcttagccataaacctaaataattaaatttaacaaaactatttgccagagaactactagccatagcttaaaactcaaaggacttggcggtactttatatccatctagaggagcctgttctataat',\n",
       " 'aaactaggattagataccctattatgcttagccataaacctaaataattaaatttaacaaaactatttgccagagaactactagccatagcttaaaactcaaaggacttggcggtactttatatccatctagaggagcctgttctataat',\n",
       " 'agagcgacgggcgatgtgtgcgtacttcattgctcaattcaattaagctctctattcttaatttactactaaatcctccttagtcctttagtttcataaagggtatagtaatgttcttttataagaaaatgtagcccatttcttcccatt',\n",
       " 'aaactaggattagataccctattatgcttagccataaacctaaataattaaatttaacaaaactatttgccagagaactactagccatagcttaaaactcaaaggacttggcggtactttatatccatctagaggagcctgttctataat',\n",
       " 'agagcgacgggcgatgtgtgcgtacttcattgctcaattcaattaagctctctattcttaatttactactaaatcctccttagtcctttagtttcataaagggtatagtaatgttcttttataagaaaatgtagcccatttcttcccatt',\n",
       " 'agagcgacgggcgatgtgtgcgtacttcattgctcaattcaattaagctctctattcttaatttactactaaatcctccttagtcctttagtttcataaagggtatagtaatgttcttttataagaaaatgtagcccatttcttcccatt',\n",
       " 'cttagccataaacctaaataattaaatttaacaaaactatttgccagagaactactagccatagcttaaaactcaaaggacttggcggtactttatatccatctagaggagcctgttctataatcgataaaccccgctctacctcaccat',\n",
       " 'aaactaggattagataccctattatgcttagccataaacctaaataattaaatttaacaaaactatttgccagagaactactagccatagcttaaaactcaaaggacttggcggtactttatatccatctagaggagcctgttctataat',\n",
       " 'aaactaggattagataccctattatgcttagccataagcctaaataattaaatttaacaaaactatttgccagagaactactagccatagcttaaaactcaaaggacttggcggtactttaaatccatctagaggagcctgttctataat',\n",
       " 'aaactaggattagataccctattatgcttagccataaacctaaataattaaatttaacaaaactatttgccagagaactactagccatagcttaaaactcaaaggacttggcggtactttatatccatctagaggagcctgttctataat',\n",
       " 'agagcgacgggcgatgtgtgcgtacttcattgctcaattcaattaagctctctattcttaatttactactaaatcctccttagtcctttagtttcataaagggtatagtaatgttcttttataagaaaatgtagcccatttctacacatt',\n",
       " 'agagcgacgggcgatgtgtgcgtacttcattgctcaattcaattaagctctctattcttaatttactactaaatcctccttagtcctttagtttcataaagggtatagtaatgttcttttataagaaaatgtagcccatttcttcccatt',\n",
       " 'agagcgacgggcgatgtgtgcgtacttcattgctcaattcaattaagctctctattcttaatttactactaaatcctccttagtcctttagttccataaagggtatagtaatgttcttttataagaaaatgtagcccatttcttcccatt',\n",
       " 'aaactaggattagataccctattatgcgttgccataaacctaaataagtaaatttaacttaacaatttgccagagaactacaagccatagattacagctcaaaggactagggggtacttaatatccttgtagagtagcctgttctttaat',\n",
       " 'aaactaggattagataccctattatgcttagccataaacctaaataattaaatttaacaaaactatttgccagagaactactagccatagcttaaaactcaaaggacttggcggtactttatatccatctagaggagcctgttctataat',\n",
       " 'agagcgacgggcgatgtgtgcgtacttcattgctcaattcaattaagctctctattcttaatttactactaaatcctccttagtcctttagtttcataaagggtatagtaatgttcttttataagaaaatgtagcccatttcttcccatt',\n",
       " 'agagcgacgggcgatgtgtgcgtacttcattgctcaattcaattaagctctctattcttaatttactactaaatcctccttagtcctttagtttcataaagggtatagtaatgttcttttataagaaaatgtagcccatttcttcccatt',\n",
       " 'agagcgacgggcgatgtgtgcgtacttcattgctcaattcaattaagctctctattcttaatttactactaaatcctccttagtcctttagtttcataaagggtatagtaatgttcttttataagaaaatgtagcccatttcttcccatt',\n",
       " 'aaactaggattagataccctattatgcttagccataaacctaaataattaaatttaacaaaactatttgccagagaactactagccatagcttaaaactcaaaggacttggcggtactttatatccatctagaggagcctgttctataat',\n",
       " 'aaactaggattagataccctattatgcttagccataaacctaaataattaaatttaacaaaactatttgccagagaactactagccatagcttaaaactcaaaggacttggcggtactttatatccatctagaggagcctgttctataat',\n",
       " 'aaactaggattagataccctattatgcttagccataaacctaaataattaaatttaacaaaactatttgccagagaactactagccatagcttaaaactcaaaggacttggcggtactttatatccatctagaggagcctgttctataat',\n",
       " 'agagcgacgggcgatgtgtgcgtacttcattgctcaattcaattaagctctctattcttaatttactactaaatcctccttagtcctttagtttcataaagggtatagtaatgttcttttataagaaaatgtagcccatttcttcccatt',\n",
       " 'aaactaggattagaaaccctaaaaagcaaagccataaacctaaaaaataaaatttaacaaaaatatttgccagagaactacaacccatagattaaaactcaaatgacttatcagtactttataaccatcaacacgagcattttcaaaaat',\n",
       " 'agagcgacgggcgatgtgtgcgtacttcattgctcaattcaattaagctctctattcttaatttactactaaatcctccttagtcctttagtttcataaagggtatagtatgttcttttataagaaaatgtagcccatttcttcccattt',\n",
       " 'aaactaggattagataccctattatgcttagccataaacctaaataattaaatttaacaaaactatttgccagagaactactagccatagcttaaaactcaaaggacttggcggtactttatatccatctagaggagcctgttctataat',\n",
       " 'aaactaggattagataccctattatgcttagccataaacctaaataattaaatttaacaaaactatttgccagagaactactagccatagcttaaaactcaaaggacttggcggtactttatatccatctagaggagcctgttctataat',\n",
       " 'agagcgacgggcgatgtgtgcgtacttcattgcccaattcaatttagctctctattcttaatttactactaaatcctccttagtccttttgtttcataaagggtatagtaatgttcttttattagaaaatgaagcccatttcttcccatt',\n",
       " 'agagcgacgggcgatgtgtgcgtacttcattgctcaattcaattaagctctctattcttaatttactactaaatcctccttagtcctttagtttcataaagggtatagtaatgttcttttataagaaaatgtagcccatctcttcccatt',\n",
       " 'aaactaggattagataccctattatgcttagccataaacctaaataattaaatttaacaaaactatttgccagagaactactagccatagcttaaaactcaaaggacttggcggtactttatatccatctagaggagcctgttctataat',\n",
       " 'agagcgacgggcgatgtgtgcgtacttcattgctcaattcaattaagctctctattcttaatttactactaaatcctccttagtcctttagtttcataaagggtatagtaatgttcttttataagaaaatgtagcccatttctacccatt',\n",
       " 'aaactaggattagataccctattatgcttagccataaacctaaataattaaatttaacaaaactatttgccagagaactactagccatagcttaaaactcaaaggacttggcggtactttatatccatctagaggagcctgttctataat',\n",
       " 'aaactaggattagataccctattatgcttagccataaacctaaataattaaatttaacaaaactatttgccagagaactactagccatagcttaaaactcaaaggacttggcggtactttatatccatctagaggagcctgttctataat',\n",
       " 'agagcgacgggcgatgtgtgcgtacttcattgctcaattcaattaagctctctattcttaatttactactaaatcctccttagtcctttagtttcataaagggtatagtaacgttcttttataagaaaatgtagcccatttcttcccatt',\n",
       " 'agagcgacgggcgatgtgtgcgtacttcattgctcaattcaattaagctctctattcttaatttactactaaatcctccttagtcctttagtttcataaagggtatagtaatgttcttttataagaaaatgtagcccatttcttcccatt',\n",
       " 'agagcgacgggcgatgtgtgcgtacttcattgctcaattcaattaagctctctattcttaatttactactaaatcctccttagtcctttagtttcataaagggtatagtaatgttcttttataagaaaatgtagcccatttcttcccatt',\n",
       " 'agatccacgcgagatatgtgcttaataaatagctcaaatcaataaatctctctattcttaatttactactaaatcctccttagtcctttagtttcataaagggtatagtagtgttcttttataagaaaatgtagcccatttcttcccatt',\n",
       " 'agagcgacgggcgatgtgtgcgtacttcattgctcaattcaattaagctctctattcttaatttactactaaatcctccttagtcctttagtttcataaagggtatagtaatgttcttttataagaaaatgtagcccatttcttcccatt',\n",
       " 'aaactaggattagataccctattatgcttagccataaacctaaataattaaatttaacaaaactatttgccagagaactactagccatagcttaaaactcaaaggacttggcggtactttatatccatctagaggagcctgttctataat',\n",
       " 'agagcgacgggcgatgtgtgcgtacttcattgctcaattcaattaagctctctattcttaatttactactaaatcctccttagtcctttagtttcataaagggtatagtaatgttcttttataagaaaatgtagcccttttcttcccttt',\n",
       " 'agagcgacgggcgatgtgtgcgtactgcattgctcaattcaattaagctctctattcttaatttactactaaatcctccttagtcctttagtttcataaagggtatagtaatgttcttttataagaaaatgtagcccatttcttcccatt',\n",
       " 'aaactaggattagataccctattatgcttagccataaacctaaataattaaatttaacaaaactatttgccagagaactactagccatagcttaaaactcaaaggacttggcggtactttatatccatctagaggagcctgttctataat',\n",
       " 'aaactaggattagataccctattatgcttagccataaacctaaataattaaatttaacaaaactatttgccggagaactactagccatagcttaaaactcaaaggacttggcggtactttatatccatctagaggagcctgttctataat',\n",
       " 'aaactaggattagataccctattatgcttagccataaacctaaataattaaatttaacaaaactatttgccagagaactactagccatagcttaaaactcaaaggacttggcggtactctatatccatctagaggagcctgttctataat',\n",
       " 'agagcgacgggcgatgtgtgcgtacttcattgctcaattcaattaagctctctattcttaatttactactaaatcctccttagtcctttagtttcataaagggtatagtaatgttcttttataagaaaatgtagcccatttcttcccatt',\n",
       " 'aaactaggattagataccctattatgcttagccataaacctaaataattaaatttaacaaaactatttgccagagaactactagccatagcttaaaactcaaaggacttggcggtactttatatccatctagaggagcctgttctataat',\n",
       " 'aaactaggattagataccctattatgcttagccataaacctaaataattaaatttaacaaaactatttgccagagaactactagccacagcttaaaactcaaaggacttggcggtactttatatccatctagaggagcctgttctataat',\n",
       " 'aaactaggattagataccctattatgcttagccataaacctaaataattaaatttaacaaaactatttgccagagaactactagccatagcttaaaactcaaaggacttggcggtaccttagatccaactagaggatcctgttctataat',\n",
       " 'agagcgacgggcgatgtgtgcgtacttcattgctcaattcaattaagctctctattcttaatttactactaaatcctccttagtcctttagtttcataaagggtatagtaatgttcttttataagaaaatgtagcccatttcttcccatt',\n",
       " 'aaactaggattagataccctattatgcttagccataaacctaaataattaaatttaacaaaactatttgccagagaactactagccatagcttaaaactcaaaggacttggcggtactttatatccatctagaggagcctgttctataat',\n",
       " 'aaactaggattagataccctattatgcttagccataaacctaaataattaaatttaacaaaactatttgccagagaactactagccatagcttaaaactcaaaggacttggcggtactttatatccatctagaggagcctgttctataat',\n",
       " 'agagcgacgggcgatgtgtgcgtacttcattgctcaattcaattaagctctctattcttaatttactactaaatcctccttagtcctttagtttcataaagggtatagtaatgttcttttataagaaaatgtagcccatttcttcccatt',\n",
       " 'aaactaggattagataccctattatgcttagccataaacctaaataattaaatttaacaaaactatttgccagagaactactagctatagcttaaaactcaaaggacttggcggtactttatatccatctagaggagcctgttctataat',\n",
       " 'aaactaggattagataccctattatgcttagccataaacctaaataattaaatttaacaaaactatttgccagagaactactagccatagcttaaaactcaaaggacttggcggtactttatatccatctagaggagcctgttctataat',\n",
       " 'agagcgacgggcgatgtgtgcgtacttcattgctcaattcaattaagctctctattcttaatttactactaaatcctccttagtcctttagtttcataaagggtatagtaatgttcttttataagaaaatgtagcccatttcttcccatt',\n",
       " 'aaactaggattagataccctattatgcttagccataaacctaaataattaaatttaacaaaactatttgccagagaactactagccatagcttaaaactcaaaggacttggcggtactttatatccatctagaggagcctgttctataat',\n",
       " 'aaactaggattagataccctattatgcttagccataaacctaaataattaaatttaacaaaactatttgccagagaactactagccatagcttaaaactcaaaggacttggcggtactttatatccatctagaggagcctgttctataat',\n",
       " 'aaactaggattagataccctattatgcttagccataaacctaaataattaaatttaacaaaactatttgccagagaactactagccatagcttaaaactcaaaggacttggcggtactttatgtccatctagaggagcctgttctataaa',\n",
       " 'aaactaggattagataccctattatgcttagccataaacctaaataattaaatttaacaaaactatttgccagagaactactagccatagcttaaaactcaaaggacttggcggtactttatatccatctagaggagcctgttctataat',\n",
       " 'aaactaggattagataccctattatgcttagccataaacctaaataattaaatttaacaaaactatttgccagagaactactagccatagcttaaaactcaaaggacttggcggtactttatatccatctagaggagcctgttctataat',\n",
       " 'aaactaggattagataccctattatgcttagccataaacctaaataattaaatttaacaaaactatttgccagagaactactagccatagcttaaaactcaaaggacttggcggtactttatatccatctagaggagcctgttctataat',\n",
       " 'agagcgacgggcgatgtgtgcgtacttcattgctcaattcaattaagctctctattcttaatttactactaaatcctccttagtcctttagtttcataaagggtatagtaatgttcttttataagaaaatgtagcccatttcttcccatt',\n",
       " 'agagcgacgggcgatgtgtgcgtacttcattgctcaattcaattaagctctctattcttaatttactactaaatcctccttagtcctttagtttcataaagggtatagtaatgttcttttataagaaaatgtagcccatttcttcccatt',\n",
       " 'aaactaggattagataccctattatgcttagccataaacctaaataattaaatttaacaaaactatttgccagagaactacaagccatagattaaaactcaaagtacttggcggtactttatatccatctataggagcctgttctataat',\n",
       " 'aaactaggattagataccctattatgcttagccataaacctaaataattaaatttaacaaaactatttgccagagaactactagccatagcttaaaactcagaggacttggcggtactttatatccaactagaggagcctgttctataat',\n",
       " 'agagcgacgggcgatgtgtgcgtacttcattgctcaattcaattaagctctctattcttaatttactactaaatcctccttagtcctttagtttcataaagggtatagtaatgttcttttataagaaaatgtagcccatttcttcccatt',\n",
       " 'agagcgacgggcgatgtgtgcgtacttcattgctcaattcaattaagctctctattcttaatttactactaaatcctccttagtcctttagtttcataaagggtatagtaatgttcttttataagaaaatgtagcccatttctttccatt',\n",
       " 'aaactaggattagataccctattatgcttagccataaacctaaataattaaatttaacaaaactatttgccagagaactactagccatagcttaaaactcaaaggacttggcggtactttatatccatctagaggagcctgttctataat',\n",
       " 'agagcgacgggcgatgtgtgcgtacttcattgctcaattcaattaagctctctattcttaatttactactaaatcctccttagtcctttagtttcataaagggtatagtaatgttcttttataagaaaatgtagcccatttcttcccatt',\n",
       " 'aaactaggattagataccctattatgctaagccataaacataaaaaattaaatttaacaaaactatttcccagacaacaactagccaaagcttaaaactcaaaggaatatgctttacattatatccatctatatgagccattacaataat',\n",
       " 'aaactaggattagataccctattatgcttagccataaacctaaataattaaatttaacaaaactatttgccagagaactactagccatagcttaaaactcaaaggacttggcggtactttatatccatctagaggagcctgttctataat',\n",
       " 'agagcgacgggcgatgtgtgcgtacttcattgctcaattcaattaagctctctattcttaatttactactaaatcctccttagtcctttagtttcataaagggtatagtaatgttcttttataagaaaatgtagcccatttcttcccatt',\n",
       " 'agagcgacgggcgatgtgtgcgtacttcattgctcaattcaattaagctctctattcttaatttactactaaatcctccttagtcctttagtttcataaagggtatagtaatgttcttttataagaaaatgtagcccatttcttcccatt',\n",
       " 'aaactaggattagataccctattatgcttagccataaacctaaataattaaatttaacaaaactatttgccagagagctactagccatagcttaaaactcaaaggacttggcggtactttatatccatctagaggagcctgttctataat',\n",
       " 'agagcgacgggcgatgtgtgcgtacttcattgctcaattcaattaagctctctattcttaatttactactaaatcctccttagtcctttagtttcataaagggtatagtaatgttcttttataagaaaatgtagcccatttcttcccatt',\n",
       " 'agagcgacgggcgatgtgtgcttacttcattgctcaattcaattaagctctctattcttaatttactactaaatactcattagtcctttagtttcataaagggtaaagcaatgtacttttaaaagaaaatgaagcccatttcttcacatt',\n",
       " 'aaactaggattagataccctattatgcttagccataaacctaaataattaaatttaacaaaactatttgccagagagctactagccatagcttaaaactcaaaggacttggcggtactttatatccatctagaggagcctgttctataat',\n",
       " 'agagcgacgggcgatgtgtgcgtacttcattgctcaattcaattaagctctctattcttaatttactactaaatcctccttagtcctttagttacataaagggtatagtaaagttcttttataagaaaatgtagcccatatcttcccatt',\n",
       " 'aaactaggattagataccctattatgcttagccataaacctaaataattaaatttaacaaaactatttgccagagaactactagccatagcttaaaactcaaaggacttggcggtactttatatccatctagaggagcctgttctataat',\n",
       " 'agagcgacgggcgatgtgtgcgtacttcattgctcaattcaattaagctctctattcttaatttactactaaatcctccttagtcctttagtttcataaagggtatagtaatgttcttttataagaaaatgtagcccatttcttcccatt',\n",
       " 'agagcgacgggcgatgtgtgcgtacttcattgctcaattcaattaagctctctattcttaatttactactaaatcctccttagtcctttagtttcataaagggtatagtaatgttcttttataagaaaatgtagcccatttcttcccatt',\n",
       " 'aaactaggattagataccctattatgcttagccataaacctaaataattaaatttaacaaaactatttgccagagaactactagccatagcttaaaactcaaaggacttggcggtactttatatccatctagaggagcctgttctataat',\n",
       " 'ctaggattagataccctattatgcttagccataaacctaaataattaaatttaacaaaactatttgccagagaactactagccatagcttaaaactcaaaggacttggcggtactttatatccatctagaggagcctgttctataatcga',\n",
       " 'agagcgacgggcgatgtgtgcgtacttcattgctcaattcaattaagctctctattcttaatttactactaaatcctccttagtcctttagtttcataaagggtatagtaatgttcttttataagaaaatgtagcccatttcttcccatt',\n",
       " 'agagcgacgggcgatgtgtgcgtacttcattgctcaattcaattaagctctctattcttaatttactactaaatcctccttagtcctttagtttcataaagggtatagtaatgttcttttataagaaaatgtagcccatttcttcccatt',\n",
       " 'aaactaggattagataccctattatgcttagccataaacctaaataattaaatttaacaaaactatttgccagagaactactagccatagcttaaaactcaaaggacttggcggtactttatatccatctagaggagcctgttctatagt',\n",
       " 'aaactaggattagataccctattatgcttagccataaacctaaataattaaatttaacaaaactatttgccagagaactactagccatagcttaaaactcaaaggacttggcggtactttatatccatctagaggagcctgttctataat',\n",
       " 'agagcgacgggcgatgtgtgcgtacttcattgctcaattcaattaagctctatattcttaatttactactaaatactccttagtcctttagtttcataaagggtatagtaatgttcttttataagaaaatgaagcccatttcttcccatt',\n",
       " 'aaactaggattagataccctattatgcttagccataaacctaaataattaaatttaacaaaactatttgccagagaactactagccatagcttaaaactcaaaggacttggcggtactttatatccatctagaggagcctgttctataat',\n",
       " 'aaactaggattagataccctattatgcttagccataaacctaaataattaaatttaacaaaactatttgccagagaactactagccatagcttaaaactcaaaggacttggcggtactttatatccatctagaggagcctgttctataat',\n",
       " 'aaactaggattagataccctattatgcttagccataaacctagataattaaatttaacaaaactatttgccagagaactactagccatagcttaaaactcaaaggacttggcggtaaggtatatcaatctagaggagcctgttatataat',\n",
       " 'agagcgacgggcgatgtgtgcgtacttcattgctcaattcaattaagctctctattcttaatttactactaaatcctccttagtcctttagtttcataaagggtatagtaatgttcttttataagaaaatgtagcccatttcttcccatt',\n",
       " 'agagcgacgggcgatgtgtgcgtacttcattgctcaattcaattaagctctctattcttaatttactactaaatcctccttagtcctttagtttcataaagggtatagtaatgttcttttataagaaaatgtagcccatttctccccatt',\n",
       " 'agagcgacgggcgatgtgtgcgtacttcattgctcaattcaattaagctctctattcttaatttactactaaatcctccttagtcctttagtttcataaagggtatagtaatgttcttttataagaaaatgtagcccatttcttcccatt',\n",
       " 'aaactaggattagataccctattatgcttagccataaacctaaataattaaatttaacaaaactatttgccagagaactactagccatagcttaaaactcaaaggacttggcggtactttatatccatctagaggagcctgttctataat',\n",
       " 'agagcgacgggcgatgtgtgcgtacttcattgctcaattcaattaagctctctattcttaatttactactaaatcctccttagtcctttagtttcataaagggtatagtaatgttcttttataagaaaatgtagcccatttcttcccatt',\n",
       " 'aaactaggattagataccctattatgcttagccataaacctaaataattaaatttaacaaaactatttgccagagaactactagccatagcttaaaactcaaaggacttggcggtactttatatccatctagaggatcctgttctataat',\n",
       " 'aaactaggattagataccctattatgcttagccataaacctaaataattaaatttaacaaaactatttgccagagaactactagccatagcttaaaactcaaaggacttggcggtactttatatccatctagaggagcctgttctataat',\n",
       " 'aaactaggattagataccctattatgcttagccataaacgtaaataattaaaattaacacatctagtatacagagaactactatccataggttaaatctcaaaggacttggcggtactttataaccatctagccaagcctgatctataat',\n",
       " 'agagcgacgggcgatgtgtgcgtacttcattgctcaattcaattaagctctctattcttaatttactactaaatcctccttagtcctttagtttcataaagggtatagtaatgttcttttataagaaaatgtagcccatttcttcccatt',\n",
       " 'aaactaggattagataccctattatgcttagccataaacctaaataattaaatttaacaaaactatttgccagagaactactagccatagcttaaaactcaaaggacttggcggtactttatatccatctagaggagcctgttctataat',\n",
       " 'agagcgacgggcgatgtgtgcgtacttcattgcgcaattcaattaagcactctattcttattttactactaaatcctccttagtcctttagtttcaaaaagggtagagtaatgttcttttataagaaaatgtagcccatttcttcccatt',\n",
       " 'agagcgacgggcgatgtgtgcgtacttcattgctcaattcaattaacctctctattcttaatttactactaaatcctccttagtcctttagtttcataaagggtatagtaatgttcttttataagaaaatgtagcccatttcttcccatt',\n",
       " 'agagcgacgggcgatgtgtgcgtacttcattgctcaattcaattaagctctctattcttaatttactactaaatcctccttagtcctttagcttcataaagggtatagtaatgttcttttataagaaaatgtagcccatttcttcccatt',\n",
       " 'agagcgacgggcgatgtgtgcgtacttcattgctcaattcaattaagctctctattcttaatttactactaaatcctccttagtcctttagtttcataaagggtatagtaatgttcttttataagaaaatgtagcccatttcttcccatt',\n",
       " 'aaactaggattagataccctattatgcttagccataaacctaaataattaaattcaacaaaactatttgccagagaactactagccatagcttaaaactcaaaggacttggcggtactttatatccatctagaggagcctgttctataat',\n",
       " 'agagcgacgggcgatgtgtgcgtacttcattgctcaattcaattaagctctctattcttaatttactactaaatcctccttagtcctttagtttcataaagggtatagtagtgttcttttataagaaaatgtagcccatttcttcccatt',\n",
       " 'agagcgacgggcgatgtgtgcgtacttcattgctcaattcaattaagctctctattcttaatttactactaaatcctccttagtcctttaggttcataaagggtatagtaatgttcttttataagaaaatgtagcccatttcttcccatt',\n",
       " 'aaactaggattagataccctattatgcttagccataaaccttaataattaaatttaacaaaactatttgccagagaactactagccatagcttaaaactcaaaggacttggcggtactttatatccatctagaggagcctgttctataat',\n",
       " 'aaactaggattagataccctattatgcttagccataaacctaaataattaaatttaacaaaactatttgccagagaactactagccatagcttaaaactcaaaggacttggcggtactttatatccatctagaggagcctgttctataat',\n",
       " 'agagcgacgggcgatgtgtgcgtacttcattgctcaattcaattaagctctctattcttaatttactactaaatcctccttagtcctttagtttcataaagggtatagtaatgttcttttataagaaaatgtagcccatttcttcccatt',\n",
       " 'aaactaggattagataccctattatgcttagccataaacctaaataattaaatttaacaaaactatttgccagagaactactagccatagcttaaaactcaaaggacttggcggtactttatatccatctagaggagcctgttctataat',\n",
       " 'agagcgacgggcgatgtgtgcgtacttcattgctcaattcaattaagctctctattcttaatttactactaaatcctccttagtcctttagtttcataaagggtatagtaatgttcttttacaagaaaatgtagcccatttcttcccatt',\n",
       " 'aaactaggattagataccctattatgcttagccataaacctaaataattaaatttaacaaaactatttgccagagaactactagccatagcttaaaactcaaaggacttggcggtactttatatccatctagaggagcctgttctataat',\n",
       " 'agagcgacgggcgatgtgtgcgtacttcattgctcaattcaattaagctctctattcttaatttactactaaatcctccttagtcctttagtttcataaagggtatagtaatgttcttttataagaaaatgtagcccatttcttcccatt',\n",
       " 'agagcgacgggcgatgtgtgcgtacttcattgctcaattcaattaagctctctattcttaatttactactaaatcctccttagtcctttagtttcataaagggtatagtaatgttcttttataagaaaatgtagcccatttcttcccatt',\n",
       " 'aaactaggattagataccctattatgcttagccataaacctaaataattaaatttaacaaaactatttgccagagaactactagccatagcttaaaactcaaaggacttggcggtactttatatccatctagaggagcctgttctataat',\n",
       " 'agagcgacgggcgatgtgtgcgtacttcattgctcaattcaattaagctctctattcttaatttactactaaatcctccttagtcctttagtttcataaagggtatagtaatgttcttttataagaaaatgtagcccatttcttcccatt',\n",
       " 'agagcgacgggcgatgtgtgcgtacttcattgctcaattcaattaagctctctattcttaatttactactaaatcctccttagtcctttagtttcataaagggtatagtaatgttcttttataagaaaatgtagcccatttcttcccatt',\n",
       " 'aaactaggattagataccctattatgcttagccataaacctaaataattaaatttaacaaaactatttgccagagaactactagccatagcttaaaactcaaaggacttggcggtactttatatccatctagaggagcctgttctataat',\n",
       " 'aaactaggattagataccctattatgcttagccataaacctaaacaattaaatttaacaaaactatttgccagagaactactagccatagcttaaaactcaaaggacttggcggtactttatatccatctagaggagcctgttctataat',\n",
       " 'aaactaggattagataccctattatgcttagccataaacctaaataattaaatttaacaaaactatttgccagagaactactagccatagcttaaaactcaaaggacttggcggtactttatatccatctagaggagcctgttctataat',\n",
       " 'aaactaggattagataccctaatatgcttagccataaacctaaataattaaatctaacaaaactatttgccagagaactactagccatagcttaaaactcaaaggacttggcggtactttatatccatctagaggagcctgttctataat',\n",
       " 'agagcgacgggcgatgtgtgcgtacttcattgctcaattcaattaagctctctattcttaatttactactaaatcctccttagtcctttagtttcataaagggtatagtaatgttcttttataagaaaatgtagcccatttcttcccatt',\n",
       " 'agagcgacgggcgatgtgtgcgtacttcattgctcaattcaattaagctctctattcttaatttactactaaatcctccttagtcctttagtttcataaagggtatagtaatgttcttttataagaaaatgtagcccatttcttcccatt',\n",
       " 'agagcgacgggcgatgtgtgcgtacttcattgctcaattcaattaagctctctattcttaatttactactaaatcctccttagtcctttagtttcataaagggtatagtaatgttcttttataagaaaatgtagcccatttcttcccatt',\n",
       " 'agagcgacgggcgatgtgtgcgtacttcattgctcaattcaattaagctctctattcttaatttactactaaatcctccttagtcctttagtttcataaagggtatagtaatgttcttttataagaaaatgtagcccatttcttcccatt',\n",
       " 'acttacacaaaaacctaaataattaaaataaaaaaaactaattcccagataactactataaatagcttaaaactcaaaggacttggcggtactttatatccatctagaggagcctgttctataatcgataaaccccgctctacctcaccc',\n",
       " 'agagcgacgggcgatgtgtgcgtacttcattgctcaattcaattaagctctctattcttaatttactactaaatcctccttagtcctttagtttcataaagggtatagtaatgttcttttataagaaaatgtagcccatttcttcccatt',\n",
       " 'agagcgacgggcgatgtgtgcgtacttcattgctcaattcaattaagctctctattcttaatttactactaaatcctccttagtcctttagtttcataaagggtatagtaatgttcttttataagaaaatgtagcccatttcttcccatt',\n",
       " 'aaactaggattagataccctattatgcttagccataaacctaaataattaaatttaacaaaactatttgccagagaactactagccatagcttaaaactcaaaggacttggcggtactttatatccatctagaggagcctgttctataat',\n",
       " 'aaactaggattagataccctattatgcttagccataaacctaaataattaaatttaacaaaactatttgccagagaactactagccatagcttaaaactcaaaggacttggcggtactttatatccatctagaggagcctgttctataat',\n",
       " 'aaactaggattagataccctattatgcttagccataaacctaaataattaaatttaacaaaactatttgccagagaactactagccatagcttaaaactcaaaggacttggcggtactttatatccatctagaggagcctgttctataat',\n",
       " 'agagcgacgggcgatgtgtgcgtacttcattgctcaattcaattaagctctctattcttaatttactactaaatcctccttagtcctttagtttcataaagggtatagtaatgttcttttataagaaaatgtagcccatttcttcccatt',\n",
       " 'agagcgacgggcgatgtgtgcgtaattcattgctcaattcaattaatctctctattcttaatttactactaaatcctccttaggcctttagtttcataaagggtatagtaatgttcttttataataaaatgtagcccatgtctacacttt',\n",
       " 'agagcgacgggcgatgtgtgcgtacttcattgctcaattcaattaagctctctattcttaatttactactaaatcctccttagtcctttagtttcataaagggtatagtaatgttcttttataagaaaatgtagcccatttcttcccatt',\n",
       " 'aaactaggattagataccctattatgcttagccataaacctaaataattaaatttaacaaaactatttgccagagaactactagccatagcttaaaactcaaaggacttggcggtactttatatccatctagaggagcctgttctataat',\n",
       " 'agagcgacgggcgatgtgtgcgaacttcattgctcaattcaattaagctctctattcttaaattactactaaatcctccttagtcctttagtttcataaagggtatagtaatgttcttttataagaaaatgtagcccatttcttcccatt',\n",
       " 'agagcgacgggcgatgtgtgcgtacttcattgctcaattcaattaagctctctattcttaatttactactaaatcctccttagtcctttagtttcataaagggtatagtaatgttcttttataagaaaatgtagcccatttcttcccatt',\n",
       " 'agagcgacgggcgatgtgtgcgtacttcattgctcaattcaattaagctctctattcttaatttactactaaatcctccttagtcctttagtttcataaagggtatagtaatgttcttttataagaaaatgtagcccatttcttcccatt',\n",
       " 'agagcgacgggcgatgtgtgcgtacttcattgctcaattcaattaagctctctattcttaatttactactaaatcctccttagtcctttagtttcataaagggtatagtaatgttcttttataagaaaatgtagcccattccttcccatt',\n",
       " 'agagcgacgggcgatgtgtgcgaccaaaattgctcatttcaaataagcactctaatcttaatttactacaaaatcctccttactcttttagtttcattaagggtatagtaaagttctgttataagaaaatgaagcgcaagtctacccttt',\n",
       " 'aaactaggattagataccctattatgcttagccataaacctaaataattaaatttaacaaaactatttgccagagaactactagccatagcttaaaactcaaaggacttggcggtactttatatccatctagaggagcctgttctataat',\n",
       " 'agagcgacgggcgatgtgtgcgtacttcattgctcaattcaattaagctctctattcttaatttactactaaatcctccttagtcctttagtttcataaagggtatagtaatgttcttttataagaaaatgtagcccatttcttcccatt',\n",
       " 'aaactaggattagataccctattatgcttagccataaacctaaataattaaatttaacaaaactatttgccagagaactactagccatagcttaaaactcaaaggacttggcggtactttatatccatctagaggagcctgttctataat',\n",
       " 'agagcgacgggcgatgtgtgcgtacttcattgctcaattcaattaagctctctattcttaatttactactaaatcctccttagtcctttagtttcataaagggtatagtaatgttcttttataagaaaatgtagcccatttcttcccatt',\n",
       " 'agagcgacgggcgatgtgtgcgtacttcattgctcaattcaattaagctctctattcttaatttactactaaatcctccttagtcctttagtttcataaagggtatagtaatgttcttttataagaaaatgtagcccatttcttcccatt',\n",
       " 'agagcgacgggcgatgtgtgcgtacttcattgctcaattcaattaagctctctattcttaatttactactaaatcctccttagtcctttagtttcataaagggtatagtaatgttcttttataagaaaatgtagcccatttcctcccatt',\n",
       " 'agagcgacgggcgatgtgtgcgtacttcattgctcaattcaattaagctctctattcttaatttactactaaatcctccttagtcctttagtttcataaagggtatagtaatgttcttttataagaaaatgtagcccatttcttcccatt',\n",
       " 'agagcgacgggcgatgtgtgcgtacttcattgctcaattcaattaagctctctattcttaatttactactaaatcctccttagtcctttagtttcataaagggtatagtaatgttcttttataagaaaatgtagcccatttcttcccatt',\n",
       " 'agagcgacgggcgatgtgtgcgtacttcattgctcaattcaattaagctctctattcttaatttactactaaatcctccttagtcctttagtttcataaagggtatagtaatgttcttttataagaaaatgtagcccatttcttcccatt',\n",
       " 'gcttagccataaacctaaataattaaatttaacaaaactatttgccagagaactactagccatagcttaaaactcaaaggacttggcggtactttatatccatctagaggagcctgttctataatcgataaaccccgctctacctcacca',\n",
       " 'agagcgacgggcgatgtgtgcgtacttcattgctcaattcaattaagctctctattcttaatttactactaaatcctccttagtcctttagtttcataaagggtatagtaatgttcttttataagaaaatgtagcccatttcttcccatt',\n",
       " 'agagcgacgggcgatgtgtgcgtacttcattgctcaattcaattaagctctctattcttaatttactactaaatcctccttagtcctttagtttcataaagggtatagtaatgttcttttataagaaaatgtagcccatttcttcccatt',\n",
       " 'aaactaggattagataccctattatgcttagccataaacctaaataattaaatttaacaaaactatttgccagagaactactagccatagcttaaaactcaaaggacttggcggtactttatatccatctagaggagcctgttctataat',\n",
       " 'agagcgacgggcgatgtgtgcgtacttcattgctcaattcaattaagctctctattcttaatttactactaaatcctccttagtcctttagtttcataaagggtatagtaatgttcttttataagaaaatgtagcccatttcttcccatt',\n",
       " 'aaactaggattagataccctattatgcttagccataaacctaaataattaaatttaacaaaactatttgccagagaactactagccatagcttaaaactcaaaggacttggcggtactttatatccatctagaggagcctgttctataat',\n",
       " 'agagcgacgggcgatgtgtgcgtacttcattgctcaattcaattaagctctctattcttaatttactactaaatcctccttagtcctttagtttcataaagggtatagtaatgttcttttataagaaaatgtagcccatttcttcccatt',\n",
       " 'agagcgacgggcgatgtgtgcgtacttcattgctcaattcaattaagctctctattcttaatttactactaaatcctccttagtcctttagtttcataaagggtatagtaatgttcttttataagaaaatgtagcccatttcttcccatt',\n",
       " 'agagcgacgggcgatgtgtgcgtacttcattgctcaattcaattaagctctctattcttaatttactactaaatcctccttagtcctttagtttcataaagggtatagtaatgttcttttataagaaaatgtagcccatttcttcccatt',\n",
       " ...]"
      ]
     },
     "execution_count": 62,
     "metadata": {},
     "output_type": "execute_result"
    }
   ],
   "source": [
    "all_seqs = file.NUC_SEQ.to_list()\n",
    "all_seqs"
   ]
  },
  {
   "cell_type": "code",
   "execution_count": 38,
   "id": "aa8d59c1",
   "metadata": {},
   "outputs": [
    {
     "data": {
      "text/plain": [
       "'agagcgacgggcgatgtgtgcgtacttcattgctcaattcaattaagctctctattcttaatttactactaaatcctccttagtcctttagtttcataaagggtatagtaatgttcttttataagaaaatgtagcccatttcttcccatt'"
      ]
     },
     "execution_count": 38,
     "metadata": {},
     "output_type": "execute_result"
    }
   ],
   "source": [
    "all_seqs[0]"
   ]
  },
  {
   "cell_type": "code",
   "execution_count": 43,
   "id": "0aa15a63",
   "metadata": {},
   "outputs": [
    {
     "data": {
      "text/plain": [
       "array([2, 3, 4])"
      ]
     },
     "execution_count": 43,
     "metadata": {},
     "output_type": "execute_result"
    }
   ],
   "source": [
    "listtest=[1,2,3,4,5,6]\n",
    "sublist=[False, True, True, True, False, False]\n",
    "np.array(listtest)[np.array(sublist)]"
   ]
  },
  {
   "cell_type": "code",
   "execution_count": 19,
   "id": "330bb351",
   "metadata": {},
   "outputs": [
    {
     "data": {
      "text/html": [
       "<div>\n",
       "<style scoped>\n",
       "    .dataframe tbody tr th:only-of-type {\n",
       "        vertical-align: middle;\n",
       "    }\n",
       "\n",
       "    .dataframe tbody tr th {\n",
       "        vertical-align: top;\n",
       "    }\n",
       "\n",
       "    .dataframe thead th {\n",
       "        text-align: right;\n",
       "    }\n",
       "</style>\n",
       "<table border=\"1\" class=\"dataframe\">\n",
       "  <thead>\n",
       "    <tr style=\"text-align: right;\">\n",
       "      <th></th>\n",
       "      <th>A</th>\n",
       "      <th>B</th>\n",
       "    </tr>\n",
       "  </thead>\n",
       "  <tbody>\n",
       "    <tr>\n",
       "      <th>0</th>\n",
       "      <td>5</td>\n",
       "      <td>6</td>\n",
       "    </tr>\n",
       "    <tr>\n",
       "      <th>1</th>\n",
       "      <td>7</td>\n",
       "      <td>8</td>\n",
       "    </tr>\n",
       "  </tbody>\n",
       "</table>\n",
       "</div>"
      ],
      "text/plain": [
       "   A  B\n",
       "0  5  6\n",
       "1  7  8"
      ]
     },
     "execution_count": 19,
     "metadata": {},
     "output_type": "execute_result"
    }
   ],
   "source": [
    "pd.DataFrame([[5, 6], [7, 8]], columns=list('AB'))"
   ]
  },
  {
   "cell_type": "code",
   "execution_count": 125,
   "id": "9b5c5c29",
   "metadata": {},
   "outputs": [
    {
     "name": "stdout",
     "output_type": "stream",
     "text": [
      "3981 2189\n",
      "2189 467\n",
      "467 462\n",
      "462 461\n",
      "461 454\n",
      "454 453\n",
      "453 452\n",
      "452 451\n",
      "451 447\n",
      "447 446\n",
      "446 439\n",
      "439 438\n",
      "438 437\n",
      "437 436\n",
      "436 434\n",
      "434 433\n",
      "433 431\n",
      "431 430\n",
      "430 421\n",
      "421 420\n",
      "420 419\n",
      "419 418\n",
      "418 417\n",
      "417 416\n",
      "416 415\n",
      "415 411\n",
      "411 404\n",
      "404 403\n",
      "403 402\n",
      "402 401\n",
      "401 400\n",
      "400 384\n",
      "384 383\n",
      "383 382\n",
      "382 381\n",
      "381 380\n",
      "380 378\n",
      "378 377\n",
      "377 370\n",
      "370 369\n",
      "369 365\n",
      "365 364\n",
      "364 362\n",
      "362 358\n",
      "358 357\n",
      "357 356\n",
      "356 355\n",
      "355 354\n",
      "354 353\n",
      "353 346\n",
      "346 345\n",
      "345 344\n",
      "344 342\n",
      "342 341\n",
      "341 331\n",
      "331 330\n",
      "330 329\n",
      "329 327\n",
      "327 326\n",
      "326 325\n",
      "325 324\n",
      "324 309\n",
      "309 308\n",
      "308 307\n",
      "307 306\n",
      "306 305\n",
      "305 303\n",
      "303 302\n",
      "302 301\n",
      "301 286\n",
      "286 284\n",
      "284 283\n",
      "283 282\n",
      "282 281\n",
      "281 280\n",
      "280 279\n",
      "279 278\n",
      "278 277\n",
      "277 276\n",
      "276 275\n",
      "275 274\n",
      "274 273\n",
      "273 272\n",
      "272 271\n",
      "271 270\n",
      "270 267\n",
      "267 266\n",
      "266 265\n",
      "265 264\n",
      "264 263\n",
      "263 262\n",
      "262 261\n",
      "261 260\n",
      "260 259\n",
      "259 257\n",
      "257 256\n",
      "256 255\n",
      "255 254\n",
      "254 253\n",
      "253 251\n",
      "251 250\n",
      "250 249\n",
      "249 248\n",
      "248 246\n",
      "246 245\n",
      "245 244\n",
      "244 242\n",
      "242 239\n",
      "239 238\n",
      "238 236\n",
      "236 235\n",
      "235 234\n",
      "234 233\n",
      "233 232\n",
      "232 231\n",
      "231 230\n",
      "230 229\n",
      "229 228\n",
      "228 226\n",
      "226 224\n",
      "224 223\n",
      "223 222\n",
      "222 221\n",
      "221 220\n",
      "220 219\n",
      "219 217\n",
      "217 216\n",
      "216 215\n",
      "215 214\n",
      "214 213\n",
      "213 212\n",
      "212 211\n",
      "211 210\n",
      "210 209\n",
      "209 208\n",
      "208 206\n",
      "206 205\n",
      "205 204\n",
      "204 203\n",
      "203 202\n",
      "202 201\n",
      "201 200\n",
      "200 195\n",
      "195 194\n",
      "194 193\n",
      "193 192\n",
      "192 191\n",
      "191 189\n",
      "189 188\n",
      "188 187\n",
      "187 186\n",
      "186 185\n",
      "185 184\n",
      "184 183\n",
      "183 182\n",
      "182 181\n",
      "181 180\n",
      "180 179\n",
      "179 178\n",
      "178 177\n",
      "177 176\n",
      "176 175\n",
      "175 174\n",
      "174 173\n",
      "173 172\n",
      "172 171\n",
      "171 170\n",
      "170 169\n",
      "169 168\n",
      "168 167\n",
      "167 166\n",
      "166 165\n",
      "165 164\n",
      "164 163\n",
      "163 162\n",
      "162 161\n",
      "161 160\n",
      "160 159\n",
      "159 158\n",
      "158 157\n",
      "157 156\n",
      "156 155\n",
      "155 154\n",
      "154 152\n",
      "152 151\n",
      "151 150\n",
      "150 149\n",
      "149 148\n",
      "148 147\n",
      "147 146\n",
      "146 145\n",
      "145 144\n",
      "144 143\n",
      "143 142\n",
      "142 139\n",
      "139 138\n",
      "138 137\n",
      "137 135\n",
      "135 134\n",
      "134 132\n",
      "132 131\n",
      "131 130\n",
      "130 129\n",
      "129 128\n",
      "128 127\n",
      "127 126\n",
      "126 125\n",
      "125 124\n",
      "124 123\n",
      "123 121\n",
      "121 120\n",
      "120 119\n",
      "119 118\n",
      "118 117\n",
      "117 116\n",
      "116 115\n",
      "115 114\n",
      "114 112\n",
      "112 111\n",
      "111 110\n",
      "110 109\n",
      "109 108\n",
      "108 107\n",
      "107 106\n",
      "106 105\n",
      "105 104\n",
      "104 103\n",
      "103 102\n",
      "102 101\n",
      "101 98\n",
      "98 97\n",
      "97 96\n",
      "96 95\n",
      "95 94\n",
      "94 93\n",
      "93 92\n",
      "92 91\n",
      "91 90\n",
      "90 87\n",
      "87 86\n",
      "86 85\n",
      "85 84\n",
      "84 83\n",
      "83 82\n",
      "82 81\n",
      "81 80\n",
      "80 79\n",
      "79 78\n",
      "78 77\n",
      "77 76\n",
      "76 75\n",
      "75 74\n",
      "74 73\n",
      "73 72\n",
      "72 71\n",
      "71 70\n",
      "70 69\n",
      "69 68\n",
      "68 67\n",
      "67 66\n",
      "66 65\n",
      "65 64\n",
      "64 63\n",
      "63 62\n",
      "62 61\n",
      "61 60\n",
      "60 59\n",
      "59 58\n",
      "58 56\n",
      "56 55\n",
      "55 54\n",
      "54 53\n",
      "53 52\n",
      "52 51\n",
      "51 50\n",
      "50 49\n",
      "49 48\n",
      "48 46\n",
      "46 45\n",
      "45 44\n",
      "44 43\n",
      "43 42\n",
      "42 41\n",
      "41 40\n",
      "40 39\n",
      "39 38\n",
      "38 37\n",
      "37 36\n",
      "36 35\n",
      "35 34\n",
      "34 33\n",
      "33 32\n",
      "32 31\n",
      "31 30\n",
      "30 29\n",
      "29 28\n",
      "28 27\n",
      "27 26\n",
      "26 25\n",
      "25 24\n",
      "24 23\n",
      "23 22\n",
      "22 21\n",
      "21 20\n",
      "20 19\n",
      "19 18\n",
      "18 17\n",
      "17 16\n",
      "16 15\n",
      "15 14\n",
      "14 13\n",
      "13 12\n",
      "12 11\n",
      "11 10\n",
      "10 9\n",
      "9 8\n",
      "8 7\n",
      "7 6\n",
      "6 5\n",
      "5 4\n",
      "4 3\n",
      "3 2\n",
      "2 1\n"
     ]
    }
   ],
   "source": [
    "all_seqs= np.array(file.NUC_SEQ)\n",
    "list_of_seqs_lens=[]\n",
    "list_of_seqs=[]\n",
    "\n",
    "while len(all_seqs)>1:\n",
    "\n",
    "    seq = all_seqs[0]# add a sequence\n",
    "    bool_list=[]\n",
    "    # get similar sequences, delete from the all_seqs list before iterating\n",
    "    for i in np.arange(0,len(all_seqs)):\n",
    "                # if 97% or better match, add a number fo the n_val\n",
    "                if fuzz.ratio(seq,all_seqs[i]) >96:\n",
    "                    bool_list.append(False)\n",
    "                else:\n",
    "                    bool_list.append(True)\n",
    "    num_of_seqs = len(bool_list) - np.sum(bool_list)\n",
    "    if num_of_seqs > 10:\n",
    "        list_of_seqs.append(seq)\n",
    "        list_of_seqs_lens.append(num_of_seqs)\n",
    "    print(len(all_seqs),np.sum(bool_list))\n",
    "    all_seqs = all_seqs[bool_list]\n"
   ]
  },
  {
   "cell_type": "code",
   "execution_count": 126,
   "id": "c2dd98cb",
   "metadata": {},
   "outputs": [
    {
     "data": {
      "text/plain": [
       "['aaactaggattagataccctattatgcttagccataaacctaaataattaaatttaacaaaactatttgccagagaactactagccatagcttaaaactcaaaggacttggcggtactttatatccatctagaggagcctgttctataat',\n",
       " 'agagcgacgggcgatgtgtgcgtacttcattgctcaattcaattaaactctctattcttaatttactactaaatcctccttagtcctttagtttcataaagggtatagtaatgttcttttataagaaaatgtagcccatttcttcccatt',\n",
       " 'attagataccctattatgcttagccataaacctaaataattaaatttaacaaaactatttgccagagaactactagccatagcttaaaactcaaaggacttggcggtactttatatccatctagaggagcctgttctataatcgataaac',\n",
       " 'cttagccataaacctaaataattaaatttaacaaaactatttgccagagaactactagccatagcttaaaactcaaaggacttggcggtactttatatccatctagaggagcctgttctataatcgataaaccccgctctacctcaccat',\n",
       " 'agagcgacgggcgatgtgtcatatgaattttatttatttcattttattgttttgttggtcacgagaagttttattcctcaaattgacaactgggttataagtattataggagcgtttgtcattagttgtttcatagcctatattctgtac']"
      ]
     },
     "execution_count": 126,
     "metadata": {},
     "output_type": "execute_result"
    }
   ],
   "source": [
    "list_of_seqs"
   ]
  },
  {
   "cell_type": "code",
   "execution_count": 146,
   "id": "489394da",
   "metadata": {},
   "outputs": [],
   "source": [
    "file_nm='plate23_12s_26_1_out.csv'\n",
    "df=pd.DataFrame(columns=col_nms)\n",
    "df_seqdata=pd.DataFrame(columns=['file_nm','nuc_seq','count'])\n",
    "file = pd.read_table(os.path.join(fld,file_nm))\n",
    "unique_scinames = np.unique(file.SCIENTIFIC_NAME.dropna())\n",
    "unique_scinames\n",
    "subfile = file[file.SCIENTIFIC_NAME==unique_scinames[0]]"
   ]
  },
  {
   "cell_type": "code",
   "execution_count": 148,
   "id": "39025cfa",
   "metadata": {},
   "outputs": [
    {
     "data": {
      "text/html": [
       "<div>\n",
       "<style scoped>\n",
       "    .dataframe tbody tr th:only-of-type {\n",
       "        vertical-align: middle;\n",
       "    }\n",
       "\n",
       "    .dataframe tbody tr th {\n",
       "        vertical-align: top;\n",
       "    }\n",
       "\n",
       "    .dataframe thead th {\n",
       "        text-align: right;\n",
       "    }\n",
       "</style>\n",
       "<table border=\"1\" class=\"dataframe\">\n",
       "  <thead>\n",
       "    <tr style=\"text-align: right;\">\n",
       "      <th></th>\n",
       "      <th>TAXID</th>\n",
       "      <th>BEST_MATCH_IDS</th>\n",
       "      <th>COUNT</th>\n",
       "      <th>ID_STATUS</th>\n",
       "      <th>BEST_IDENTITY</th>\n",
       "      <th>NUC_SEQ</th>\n",
       "      <th>QUALITY</th>\n",
       "      <th>ID</th>\n",
       "      <th>DEFINITION</th>\n",
       "      <th>SCIENTIFIC_NAME</th>\n",
       "      <th>BEST_MATCH_TAXIDS</th>\n",
       "    </tr>\n",
       "  </thead>\n",
       "  <tbody>\n",
       "    <tr>\n",
       "      <th>71</th>\n",
       "      <td>301514</td>\n",
       "      <td>['MN480464']</td>\n",
       "      <td>1</td>\n",
       "      <td>True</td>\n",
       "      <td>0.993333</td>\n",
       "      <td>ttttattttatttttaggtagtagtaaaaagaaacctaaaaaattt...</td>\n",
       "      <td>[32, 37, 37, 37, 37, 32, 37, 37, 37, 37, 37, 3...</td>\n",
       "      <td>MN00399:128:000H5JLCJ:1:11101:19930:1334</td>\n",
       "      <td>1:N:0:AGACCTTG+GCACGTAA</td>\n",
       "      <td>Homidia socia</td>\n",
       "      <td>[301514]</td>\n",
       "    </tr>\n",
       "    <tr>\n",
       "      <th>241</th>\n",
       "      <td>301514</td>\n",
       "      <td>['MN480464']</td>\n",
       "      <td>1</td>\n",
       "      <td>True</td>\n",
       "      <td>0.986667</td>\n",
       "      <td>ttttattttatttttaggtagtagtaaaaagaaacctaaaaaattt...</td>\n",
       "      <td>[37, 37, 37, 37, 37, 37, 14, 32, 37, 37, 37, 3...</td>\n",
       "      <td>MN00399:128:000H5JLCJ:1:11101:24825:2127</td>\n",
       "      <td>1:N:0:AGACCTTG+GCACGTAA</td>\n",
       "      <td>Homidia socia</td>\n",
       "      <td>[301514]</td>\n",
       "    </tr>\n",
       "    <tr>\n",
       "      <th>829</th>\n",
       "      <td>301514</td>\n",
       "      <td>['MN480464']</td>\n",
       "      <td>1</td>\n",
       "      <td>True</td>\n",
       "      <td>0.980132</td>\n",
       "      <td>tttttattttatttttaggtagtagtaaaaagaaacctaaaaaatt...</td>\n",
       "      <td>[37, 37, 37, 37, 37, 37, 37, 37, 37, 37, 37, 3...</td>\n",
       "      <td>MN00399:128:000H5JLCJ:1:11101:9052:4351</td>\n",
       "      <td>1:N:0:AGACCTTG+GCACGTAA</td>\n",
       "      <td>Homidia socia</td>\n",
       "      <td>[301514]</td>\n",
       "    </tr>\n",
       "    <tr>\n",
       "      <th>896</th>\n",
       "      <td>301514</td>\n",
       "      <td>['MN480464']</td>\n",
       "      <td>1</td>\n",
       "      <td>True</td>\n",
       "      <td>0.986667</td>\n",
       "      <td>ttttattttatttttaggtagtagtaaaaagaaacctaaaaaattt...</td>\n",
       "      <td>[37, 37, 37, 37, 37, 37, 37, 37, 37, 37, 37, 3...</td>\n",
       "      <td>MN00399:128:000H5JLCJ:1:11101:5489:4600</td>\n",
       "      <td>1:N:0:AGACCTTG+GCACGTAA</td>\n",
       "      <td>Homidia socia</td>\n",
       "      <td>[301514]</td>\n",
       "    </tr>\n",
       "    <tr>\n",
       "      <th>1103</th>\n",
       "      <td>301514</td>\n",
       "      <td>['MN480464']</td>\n",
       "      <td>1</td>\n",
       "      <td>True</td>\n",
       "      <td>0.993333</td>\n",
       "      <td>ttttattttatttttaggtagtagtaaaaagaaacctaaaaaattt...</td>\n",
       "      <td>[37, 37, 37, 37, 32, 37, 37, 37, 37, 37, 37, 3...</td>\n",
       "      <td>MN00399:128:000H5JLCJ:1:11101:18400:5448</td>\n",
       "      <td>1:N:0:AGACCTTG+GCACGTAA</td>\n",
       "      <td>Homidia socia</td>\n",
       "      <td>[301514]</td>\n",
       "    </tr>\n",
       "    <tr>\n",
       "      <th>...</th>\n",
       "      <td>...</td>\n",
       "      <td>...</td>\n",
       "      <td>...</td>\n",
       "      <td>...</td>\n",
       "      <td>...</td>\n",
       "      <td>...</td>\n",
       "      <td>...</td>\n",
       "      <td>...</td>\n",
       "      <td>...</td>\n",
       "      <td>...</td>\n",
       "      <td>...</td>\n",
       "    </tr>\n",
       "    <tr>\n",
       "      <th>122886</th>\n",
       "      <td>301514</td>\n",
       "      <td>['MN480464']</td>\n",
       "      <td>1</td>\n",
       "      <td>True</td>\n",
       "      <td>0.993333</td>\n",
       "      <td>ttttattttatttttaggtagtagtaaaaagaaacctaaaaaattt...</td>\n",
       "      <td>[37, 37, 37, 37, 37, 32, 37, 37, 37, 37, 37, 3...</td>\n",
       "      <td>MN00399:128:000H5JLCJ:1:23104:21460:9148</td>\n",
       "      <td>1:N:0:AGACCTTG+GCACGTAA</td>\n",
       "      <td>Homidia socia</td>\n",
       "      <td>[301514]</td>\n",
       "    </tr>\n",
       "    <tr>\n",
       "      <th>124860</th>\n",
       "      <td>301514</td>\n",
       "      <td>['MN480464']</td>\n",
       "      <td>1</td>\n",
       "      <td>True</td>\n",
       "      <td>0.993333</td>\n",
       "      <td>ttttattttatttttaggtagtagtaaaaagaaacctaaaaaattt...</td>\n",
       "      <td>[37, 37, 37, 37, 37, 37, 37, 37, 37, 37, 37, 3...</td>\n",
       "      <td>MN00399:128:000H5JLCJ:1:23104:9425:16691</td>\n",
       "      <td>1:N:0:AGACCTAG+GCACGTAA</td>\n",
       "      <td>Homidia socia</td>\n",
       "      <td>[301514]</td>\n",
       "    </tr>\n",
       "    <tr>\n",
       "      <th>124919</th>\n",
       "      <td>301514</td>\n",
       "      <td>['MN480464']</td>\n",
       "      <td>1</td>\n",
       "      <td>True</td>\n",
       "      <td>0.980132</td>\n",
       "      <td>tttattttatttttaggtagtagtaaaaagaaacctaaaaaatttg...</td>\n",
       "      <td>[37, 37, 37, 32, 37, 37, 37, 37, 37, 37, 37, 3...</td>\n",
       "      <td>MN00399:128:000H5JLCJ:1:23104:1676:16971</td>\n",
       "      <td>1:N:0:AGACCTTG+GCACGTAA</td>\n",
       "      <td>Homidia socia</td>\n",
       "      <td>[301514]</td>\n",
       "    </tr>\n",
       "    <tr>\n",
       "      <th>125124</th>\n",
       "      <td>301514</td>\n",
       "      <td>['MN480464']</td>\n",
       "      <td>1</td>\n",
       "      <td>True</td>\n",
       "      <td>0.993333</td>\n",
       "      <td>ttttattttatttttaggtagtagtaaaaagaaacctaaaaaattt...</td>\n",
       "      <td>[37, 37, 37, 37, 37, 37, 37, 37, 37, 37, 37, 3...</td>\n",
       "      <td>MN00399:128:000H5JLCJ:1:23104:11433:17703</td>\n",
       "      <td>1:N:0:AGACCTTG+GCACGTAA</td>\n",
       "      <td>Homidia socia</td>\n",
       "      <td>[301514]</td>\n",
       "    </tr>\n",
       "    <tr>\n",
       "      <th>125283</th>\n",
       "      <td>301514</td>\n",
       "      <td>['MN480464']</td>\n",
       "      <td>1</td>\n",
       "      <td>True</td>\n",
       "      <td>0.986667</td>\n",
       "      <td>ttttattttatttttaggtagtagtaaaaagaaacctaaaaaattt...</td>\n",
       "      <td>[32, 14, 37, 37, 37, 37, 37, 37, 37, 37, 37, 3...</td>\n",
       "      <td>MN00399:128:000H5JLCJ:1:23104:20119:18239</td>\n",
       "      <td>1:N:0:AGACCTTG+GCACGTAA</td>\n",
       "      <td>Homidia socia</td>\n",
       "      <td>[301514]</td>\n",
       "    </tr>\n",
       "  </tbody>\n",
       "</table>\n",
       "<p>449 rows × 11 columns</p>\n",
       "</div>"
      ],
      "text/plain": [
       "         TAXID BEST_MATCH_IDS  COUNT  ID_STATUS  BEST_IDENTITY  \\\n",
       "71      301514   ['MN480464']      1       True       0.993333   \n",
       "241     301514   ['MN480464']      1       True       0.986667   \n",
       "829     301514   ['MN480464']      1       True       0.980132   \n",
       "896     301514   ['MN480464']      1       True       0.986667   \n",
       "1103    301514   ['MN480464']      1       True       0.993333   \n",
       "...        ...            ...    ...        ...            ...   \n",
       "122886  301514   ['MN480464']      1       True       0.993333   \n",
       "124860  301514   ['MN480464']      1       True       0.993333   \n",
       "124919  301514   ['MN480464']      1       True       0.980132   \n",
       "125124  301514   ['MN480464']      1       True       0.993333   \n",
       "125283  301514   ['MN480464']      1       True       0.986667   \n",
       "\n",
       "                                                  NUC_SEQ  \\\n",
       "71      ttttattttatttttaggtagtagtaaaaagaaacctaaaaaattt...   \n",
       "241     ttttattttatttttaggtagtagtaaaaagaaacctaaaaaattt...   \n",
       "829     tttttattttatttttaggtagtagtaaaaagaaacctaaaaaatt...   \n",
       "896     ttttattttatttttaggtagtagtaaaaagaaacctaaaaaattt...   \n",
       "1103    ttttattttatttttaggtagtagtaaaaagaaacctaaaaaattt...   \n",
       "...                                                   ...   \n",
       "122886  ttttattttatttttaggtagtagtaaaaagaaacctaaaaaattt...   \n",
       "124860  ttttattttatttttaggtagtagtaaaaagaaacctaaaaaattt...   \n",
       "124919  tttattttatttttaggtagtagtaaaaagaaacctaaaaaatttg...   \n",
       "125124  ttttattttatttttaggtagtagtaaaaagaaacctaaaaaattt...   \n",
       "125283  ttttattttatttttaggtagtagtaaaaagaaacctaaaaaattt...   \n",
       "\n",
       "                                                  QUALITY  \\\n",
       "71      [32, 37, 37, 37, 37, 32, 37, 37, 37, 37, 37, 3...   \n",
       "241     [37, 37, 37, 37, 37, 37, 14, 32, 37, 37, 37, 3...   \n",
       "829     [37, 37, 37, 37, 37, 37, 37, 37, 37, 37, 37, 3...   \n",
       "896     [37, 37, 37, 37, 37, 37, 37, 37, 37, 37, 37, 3...   \n",
       "1103    [37, 37, 37, 37, 32, 37, 37, 37, 37, 37, 37, 3...   \n",
       "...                                                   ...   \n",
       "122886  [37, 37, 37, 37, 37, 32, 37, 37, 37, 37, 37, 3...   \n",
       "124860  [37, 37, 37, 37, 37, 37, 37, 37, 37, 37, 37, 3...   \n",
       "124919  [37, 37, 37, 32, 37, 37, 37, 37, 37, 37, 37, 3...   \n",
       "125124  [37, 37, 37, 37, 37, 37, 37, 37, 37, 37, 37, 3...   \n",
       "125283  [32, 14, 37, 37, 37, 37, 37, 37, 37, 37, 37, 3...   \n",
       "\n",
       "                                               ID               DEFINITION  \\\n",
       "71       MN00399:128:000H5JLCJ:1:11101:19930:1334  1:N:0:AGACCTTG+GCACGTAA   \n",
       "241      MN00399:128:000H5JLCJ:1:11101:24825:2127  1:N:0:AGACCTTG+GCACGTAA   \n",
       "829       MN00399:128:000H5JLCJ:1:11101:9052:4351  1:N:0:AGACCTTG+GCACGTAA   \n",
       "896       MN00399:128:000H5JLCJ:1:11101:5489:4600  1:N:0:AGACCTTG+GCACGTAA   \n",
       "1103     MN00399:128:000H5JLCJ:1:11101:18400:5448  1:N:0:AGACCTTG+GCACGTAA   \n",
       "...                                           ...                      ...   \n",
       "122886   MN00399:128:000H5JLCJ:1:23104:21460:9148  1:N:0:AGACCTTG+GCACGTAA   \n",
       "124860   MN00399:128:000H5JLCJ:1:23104:9425:16691  1:N:0:AGACCTAG+GCACGTAA   \n",
       "124919   MN00399:128:000H5JLCJ:1:23104:1676:16971  1:N:0:AGACCTTG+GCACGTAA   \n",
       "125124  MN00399:128:000H5JLCJ:1:23104:11433:17703  1:N:0:AGACCTTG+GCACGTAA   \n",
       "125283  MN00399:128:000H5JLCJ:1:23104:20119:18239  1:N:0:AGACCTTG+GCACGTAA   \n",
       "\n",
       "       SCIENTIFIC_NAME BEST_MATCH_TAXIDS  \n",
       "71       Homidia socia          [301514]  \n",
       "241      Homidia socia          [301514]  \n",
       "829      Homidia socia          [301514]  \n",
       "896      Homidia socia          [301514]  \n",
       "1103     Homidia socia          [301514]  \n",
       "...                ...               ...  \n",
       "122886   Homidia socia          [301514]  \n",
       "124860   Homidia socia          [301514]  \n",
       "124919   Homidia socia          [301514]  \n",
       "125124   Homidia socia          [301514]  \n",
       "125283   Homidia socia          [301514]  \n",
       "\n",
       "[449 rows x 11 columns]"
      ]
     },
     "execution_count": 148,
     "metadata": {},
     "output_type": "execute_result"
    }
   ],
   "source": [
    "subfile"
   ]
  },
  {
   "cell_type": "code",
   "execution_count": 171,
   "id": "47536fac",
   "metadata": {},
   "outputs": [
    {
     "name": "stdout",
     "output_type": "stream",
     "text": [
      "plate1_12s_47_2_out.csv\n"
     ]
    },
    {
     "name": "stderr",
     "output_type": "stream",
     "text": [
      "/tmp/ipykernel_681725/2269263605.py:12: FutureWarning: The frame.append method is deprecated and will be removed from pandas in a future version. Use pandas.concat instead.\n",
      "  df=df.append(df2,ignore_index=True)\n"
     ]
    },
    {
     "name": "stdout",
     "output_type": "stream",
     "text": [
      "plate1_12s_18_2_out.csv\n"
     ]
    },
    {
     "name": "stderr",
     "output_type": "stream",
     "text": [
      "/tmp/ipykernel_681725/2269263605.py:12: FutureWarning: The frame.append method is deprecated and will be removed from pandas in a future version. Use pandas.concat instead.\n",
      "  df=df.append(df2,ignore_index=True)\n"
     ]
    },
    {
     "name": "stdout",
     "output_type": "stream",
     "text": [
      "plate23_12s_25_2_out.csv\n"
     ]
    },
    {
     "name": "stderr",
     "output_type": "stream",
     "text": [
      "/tmp/ipykernel_681725/2269263605.py:12: FutureWarning: The frame.append method is deprecated and will be removed from pandas in a future version. Use pandas.concat instead.\n",
      "  df=df.append(df2,ignore_index=True)\n",
      "/tmp/ipykernel_681725/2269263605.py:12: FutureWarning: The frame.append method is deprecated and will be removed from pandas in a future version. Use pandas.concat instead.\n",
      "  df=df.append(df2,ignore_index=True)\n",
      "/tmp/ipykernel_681725/2269263605.py:12: FutureWarning: The frame.append method is deprecated and will be removed from pandas in a future version. Use pandas.concat instead.\n",
      "  df=df.append(df2,ignore_index=True)\n"
     ]
    },
    {
     "name": "stdout",
     "output_type": "stream",
     "text": [
      "plate23_12s_63_1_out.csv\n",
      "plate23_12s_52_2_out.csv\n",
      "plate1_12s_21_1_out.csv\n"
     ]
    },
    {
     "name": "stderr",
     "output_type": "stream",
     "text": [
      "/tmp/ipykernel_681725/2269263605.py:12: FutureWarning: The frame.append method is deprecated and will be removed from pandas in a future version. Use pandas.concat instead.\n",
      "  df=df.append(df2,ignore_index=True)\n",
      "/tmp/ipykernel_681725/2269263605.py:12: FutureWarning: The frame.append method is deprecated and will be removed from pandas in a future version. Use pandas.concat instead.\n",
      "  df=df.append(df2,ignore_index=True)\n",
      "/tmp/ipykernel_681725/2269263605.py:12: FutureWarning: The frame.append method is deprecated and will be removed from pandas in a future version. Use pandas.concat instead.\n",
      "  df=df.append(df2,ignore_index=True)\n",
      "/tmp/ipykernel_681725/2269263605.py:12: FutureWarning: The frame.append method is deprecated and will be removed from pandas in a future version. Use pandas.concat instead.\n",
      "  df=df.append(df2,ignore_index=True)\n"
     ]
    },
    {
     "name": "stdout",
     "output_type": "stream",
     "text": [
      "plate23_12s_75_2_out.csv\n",
      "plate23_12s_55_1_out.csv\n",
      "plate23_12s_13_1_out.csv\n",
      "plate23_12s_46_1_out.csv\n"
     ]
    },
    {
     "name": "stderr",
     "output_type": "stream",
     "text": [
      "/tmp/ipykernel_681725/2269263605.py:12: FutureWarning: The frame.append method is deprecated and will be removed from pandas in a future version. Use pandas.concat instead.\n",
      "  df=df.append(df2,ignore_index=True)\n"
     ]
    },
    {
     "name": "stdout",
     "output_type": "stream",
     "text": [
      "plate23_12s_50_2_out.csv\n"
     ]
    },
    {
     "name": "stderr",
     "output_type": "stream",
     "text": [
      "/tmp/ipykernel_681725/2269263605.py:12: FutureWarning: The frame.append method is deprecated and will be removed from pandas in a future version. Use pandas.concat instead.\n",
      "  df=df.append(df2,ignore_index=True)\n"
     ]
    },
    {
     "name": "stdout",
     "output_type": "stream",
     "text": [
      "plate23_12s_50_1_out.csv\n"
     ]
    },
    {
     "name": "stderr",
     "output_type": "stream",
     "text": [
      "/tmp/ipykernel_681725/2269263605.py:12: FutureWarning: The frame.append method is deprecated and will be removed from pandas in a future version. Use pandas.concat instead.\n",
      "  df=df.append(df2,ignore_index=True)\n"
     ]
    },
    {
     "name": "stdout",
     "output_type": "stream",
     "text": [
      "plate1_12s_28_1_out.csv\n"
     ]
    },
    {
     "name": "stderr",
     "output_type": "stream",
     "text": [
      "/tmp/ipykernel_681725/2269263605.py:12: FutureWarning: The frame.append method is deprecated and will be removed from pandas in a future version. Use pandas.concat instead.\n",
      "  df=df.append(df2,ignore_index=True)\n"
     ]
    },
    {
     "name": "stdout",
     "output_type": "stream",
     "text": [
      "plate23_12s_1_2_out.csv\n"
     ]
    },
    {
     "name": "stderr",
     "output_type": "stream",
     "text": [
      "/tmp/ipykernel_681725/2269263605.py:12: FutureWarning: The frame.append method is deprecated and will be removed from pandas in a future version. Use pandas.concat instead.\n",
      "  df=df.append(df2,ignore_index=True)\n"
     ]
    },
    {
     "name": "stdout",
     "output_type": "stream",
     "text": [
      "plate23_12s_74_1_out.csv\n"
     ]
    },
    {
     "name": "stderr",
     "output_type": "stream",
     "text": [
      "/tmp/ipykernel_681725/2269263605.py:12: FutureWarning: The frame.append method is deprecated and will be removed from pandas in a future version. Use pandas.concat instead.\n",
      "  df=df.append(df2,ignore_index=True)\n"
     ]
    },
    {
     "name": "stdout",
     "output_type": "stream",
     "text": [
      "plate23_12s_23_2_out.csv\n"
     ]
    },
    {
     "name": "stderr",
     "output_type": "stream",
     "text": [
      "/tmp/ipykernel_681725/2269263605.py:12: FutureWarning: The frame.append method is deprecated and will be removed from pandas in a future version. Use pandas.concat instead.\n",
      "  df=df.append(df2,ignore_index=True)\n"
     ]
    },
    {
     "name": "stdout",
     "output_type": "stream",
     "text": [
      "plate1_12s_24_2_out.csv\n"
     ]
    },
    {
     "name": "stderr",
     "output_type": "stream",
     "text": [
      "/tmp/ipykernel_681725/2269263605.py:12: FutureWarning: The frame.append method is deprecated and will be removed from pandas in a future version. Use pandas.concat instead.\n",
      "  df=df.append(df2,ignore_index=True)\n"
     ]
    },
    {
     "name": "stdout",
     "output_type": "stream",
     "text": [
      "plate23_12s_33_1_out.csv\n"
     ]
    },
    {
     "name": "stderr",
     "output_type": "stream",
     "text": [
      "/tmp/ipykernel_681725/2269263605.py:12: FutureWarning: The frame.append method is deprecated and will be removed from pandas in a future version. Use pandas.concat instead.\n",
      "  df=df.append(df2,ignore_index=True)\n",
      "/tmp/ipykernel_681725/2269263605.py:12: FutureWarning: The frame.append method is deprecated and will be removed from pandas in a future version. Use pandas.concat instead.\n",
      "  df=df.append(df2,ignore_index=True)\n"
     ]
    },
    {
     "name": "stdout",
     "output_type": "stream",
     "text": [
      "plate23_12s_28_2_out.csv\n",
      "plate1_12s_29_2_out.csv\n"
     ]
    },
    {
     "name": "stderr",
     "output_type": "stream",
     "text": [
      "/tmp/ipykernel_681725/2269263605.py:12: FutureWarning: The frame.append method is deprecated and will be removed from pandas in a future version. Use pandas.concat instead.\n",
      "  df=df.append(df2,ignore_index=True)\n",
      "/tmp/ipykernel_681725/2269263605.py:12: FutureWarning: The frame.append method is deprecated and will be removed from pandas in a future version. Use pandas.concat instead.\n",
      "  df=df.append(df2,ignore_index=True)\n",
      "/tmp/ipykernel_681725/2269263605.py:12: FutureWarning: The frame.append method is deprecated and will be removed from pandas in a future version. Use pandas.concat instead.\n",
      "  df=df.append(df2,ignore_index=True)\n",
      "/tmp/ipykernel_681725/2269263605.py:12: FutureWarning: The frame.append method is deprecated and will be removed from pandas in a future version. Use pandas.concat instead.\n",
      "  df=df.append(df2,ignore_index=True)\n"
     ]
    },
    {
     "name": "stdout",
     "output_type": "stream",
     "text": [
      "plate1_12s_6_2_out.csv\n",
      "plate1_12s_35_2_out.csv\n",
      "plate1_12s_56_2_out.csv\n",
      "plate23_12s_61_2_out.csv\n"
     ]
    },
    {
     "name": "stderr",
     "output_type": "stream",
     "text": [
      "/tmp/ipykernel_681725/2269263605.py:12: FutureWarning: The frame.append method is deprecated and will be removed from pandas in a future version. Use pandas.concat instead.\n",
      "  df=df.append(df2,ignore_index=True)\n",
      "/tmp/ipykernel_681725/2269263605.py:12: FutureWarning: The frame.append method is deprecated and will be removed from pandas in a future version. Use pandas.concat instead.\n",
      "  df=df.append(df2,ignore_index=True)\n"
     ]
    },
    {
     "name": "stdout",
     "output_type": "stream",
     "text": [
      "plate1_12s_38_1_out.csv\n",
      "plate23_12s_70_1_out.csv\n"
     ]
    },
    {
     "name": "stderr",
     "output_type": "stream",
     "text": [
      "/tmp/ipykernel_681725/2269263605.py:12: FutureWarning: The frame.append method is deprecated and will be removed from pandas in a future version. Use pandas.concat instead.\n",
      "  df=df.append(df2,ignore_index=True)\n"
     ]
    },
    {
     "name": "stdout",
     "output_type": "stream",
     "text": [
      "plate23_12s_11_1_out.csv\n"
     ]
    },
    {
     "name": "stderr",
     "output_type": "stream",
     "text": [
      "/tmp/ipykernel_681725/2269263605.py:12: FutureWarning: The frame.append method is deprecated and will be removed from pandas in a future version. Use pandas.concat instead.\n",
      "  df=df.append(df2,ignore_index=True)\n",
      "/tmp/ipykernel_681725/2269263605.py:12: FutureWarning: The frame.append method is deprecated and will be removed from pandas in a future version. Use pandas.concat instead.\n",
      "  df=df.append(df2,ignore_index=True)\n",
      "/tmp/ipykernel_681725/2269263605.py:12: FutureWarning: The frame.append method is deprecated and will be removed from pandas in a future version. Use pandas.concat instead.\n",
      "  df=df.append(df2,ignore_index=True)\n"
     ]
    },
    {
     "name": "stdout",
     "output_type": "stream",
     "text": [
      "plate1_12s_38_2_out.csv\n",
      "plate1_12s_39_1_out.csv\n",
      "plate23_12s_47_1_out.csv\n"
     ]
    },
    {
     "name": "stderr",
     "output_type": "stream",
     "text": [
      "/tmp/ipykernel_681725/2269263605.py:12: FutureWarning: The frame.append method is deprecated and will be removed from pandas in a future version. Use pandas.concat instead.\n",
      "  df=df.append(df2,ignore_index=True)\n",
      "/tmp/ipykernel_681725/2269263605.py:12: FutureWarning: The frame.append method is deprecated and will be removed from pandas in a future version. Use pandas.concat instead.\n",
      "  df=df.append(df2,ignore_index=True)\n",
      "/tmp/ipykernel_681725/2269263605.py:12: FutureWarning: The frame.append method is deprecated and will be removed from pandas in a future version. Use pandas.concat instead.\n",
      "  df=df.append(df2,ignore_index=True)\n"
     ]
    },
    {
     "name": "stdout",
     "output_type": "stream",
     "text": [
      "plate1_12s_46_1_out.csv\n",
      "plate23_12s_14_2_out.csv\n",
      "plate23_12s_65_1_out.csv\n"
     ]
    },
    {
     "name": "stderr",
     "output_type": "stream",
     "text": [
      "/tmp/ipykernel_681725/2269263605.py:12: FutureWarning: The frame.append method is deprecated and will be removed from pandas in a future version. Use pandas.concat instead.\n",
      "  df=df.append(df2,ignore_index=True)\n"
     ]
    },
    {
     "name": "stdout",
     "output_type": "stream",
     "text": [
      "plate1_12s_20_2_out.csv\n"
     ]
    },
    {
     "name": "stderr",
     "output_type": "stream",
     "text": [
      "/tmp/ipykernel_681725/2269263605.py:12: FutureWarning: The frame.append method is deprecated and will be removed from pandas in a future version. Use pandas.concat instead.\n",
      "  df=df.append(df2,ignore_index=True)\n"
     ]
    },
    {
     "name": "stdout",
     "output_type": "stream",
     "text": [
      "plate1_12s_50_1_out.csv\n"
     ]
    },
    {
     "name": "stderr",
     "output_type": "stream",
     "text": [
      "/tmp/ipykernel_681725/2269263605.py:12: FutureWarning: The frame.append method is deprecated and will be removed from pandas in a future version. Use pandas.concat instead.\n",
      "  df=df.append(df2,ignore_index=True)\n",
      "/tmp/ipykernel_681725/2269263605.py:12: FutureWarning: The frame.append method is deprecated and will be removed from pandas in a future version. Use pandas.concat instead.\n",
      "  df=df.append(df2,ignore_index=True)\n"
     ]
    },
    {
     "name": "stdout",
     "output_type": "stream",
     "text": [
      "plate23_12s_52_1_out.csv\n",
      "plate1_12s_15_2_out.csv\n"
     ]
    },
    {
     "name": "stderr",
     "output_type": "stream",
     "text": [
      "/tmp/ipykernel_681725/2269263605.py:12: FutureWarning: The frame.append method is deprecated and will be removed from pandas in a future version. Use pandas.concat instead.\n",
      "  df=df.append(df2,ignore_index=True)\n"
     ]
    },
    {
     "name": "stdout",
     "output_type": "stream",
     "text": [
      "plate1_12s_49_2_out.csv\n"
     ]
    },
    {
     "name": "stderr",
     "output_type": "stream",
     "text": [
      "/tmp/ipykernel_681725/2269263605.py:12: FutureWarning: The frame.append method is deprecated and will be removed from pandas in a future version. Use pandas.concat instead.\n",
      "  df=df.append(df2,ignore_index=True)\n",
      "/tmp/ipykernel_681725/2269263605.py:12: FutureWarning: The frame.append method is deprecated and will be removed from pandas in a future version. Use pandas.concat instead.\n",
      "  df=df.append(df2,ignore_index=True)\n"
     ]
    },
    {
     "name": "stdout",
     "output_type": "stream",
     "text": [
      "plate1_12s_6_1_out.csv\n",
      "plate1_12s_37_2_out.csv\n"
     ]
    },
    {
     "name": "stderr",
     "output_type": "stream",
     "text": [
      "/tmp/ipykernel_681725/2269263605.py:12: FutureWarning: The frame.append method is deprecated and will be removed from pandas in a future version. Use pandas.concat instead.\n",
      "  df=df.append(df2,ignore_index=True)\n"
     ]
    },
    {
     "name": "stdout",
     "output_type": "stream",
     "text": [
      "plate23_12s_5_1_out.csv\n"
     ]
    },
    {
     "name": "stderr",
     "output_type": "stream",
     "text": [
      "/tmp/ipykernel_681725/2269263605.py:12: FutureWarning: The frame.append method is deprecated and will be removed from pandas in a future version. Use pandas.concat instead.\n",
      "  df=df.append(df2,ignore_index=True)\n"
     ]
    },
    {
     "name": "stdout",
     "output_type": "stream",
     "text": [
      "plate1_12s_40_1_out.csv\n"
     ]
    },
    {
     "name": "stderr",
     "output_type": "stream",
     "text": [
      "/tmp/ipykernel_681725/2269263605.py:12: FutureWarning: The frame.append method is deprecated and will be removed from pandas in a future version. Use pandas.concat instead.\n",
      "  df=df.append(df2,ignore_index=True)\n"
     ]
    },
    {
     "name": "stdout",
     "output_type": "stream",
     "text": [
      "plate23_12s_24_2_out.csv\n"
     ]
    },
    {
     "name": "stderr",
     "output_type": "stream",
     "text": [
      "/tmp/ipykernel_681725/2269263605.py:12: FutureWarning: The frame.append method is deprecated and will be removed from pandas in a future version. Use pandas.concat instead.\n",
      "  df=df.append(df2,ignore_index=True)\n"
     ]
    },
    {
     "name": "stdout",
     "output_type": "stream",
     "text": [
      "plate1_12s_40_2_out.csv\n"
     ]
    },
    {
     "name": "stderr",
     "output_type": "stream",
     "text": [
      "/tmp/ipykernel_681725/2269263605.py:12: FutureWarning: The frame.append method is deprecated and will be removed from pandas in a future version. Use pandas.concat instead.\n",
      "  df=df.append(df2,ignore_index=True)\n"
     ]
    },
    {
     "name": "stdout",
     "output_type": "stream",
     "text": [
      "plate1_12s_2_1_out.csv\n"
     ]
    },
    {
     "name": "stderr",
     "output_type": "stream",
     "text": [
      "/tmp/ipykernel_681725/2269263605.py:12: FutureWarning: The frame.append method is deprecated and will be removed from pandas in a future version. Use pandas.concat instead.\n",
      "  df=df.append(df2,ignore_index=True)\n"
     ]
    },
    {
     "name": "stdout",
     "output_type": "stream",
     "text": [
      "plate23_12s_31_1_out.csv\n"
     ]
    },
    {
     "name": "stderr",
     "output_type": "stream",
     "text": [
      "/tmp/ipykernel_681725/2269263605.py:12: FutureWarning: The frame.append method is deprecated and will be removed from pandas in a future version. Use pandas.concat instead.\n",
      "  df=df.append(df2,ignore_index=True)\n"
     ]
    },
    {
     "name": "stdout",
     "output_type": "stream",
     "text": [
      "plate23_12s_9_2_out.csv\n"
     ]
    },
    {
     "name": "stderr",
     "output_type": "stream",
     "text": [
      "/tmp/ipykernel_681725/2269263605.py:12: FutureWarning: The frame.append method is deprecated and will be removed from pandas in a future version. Use pandas.concat instead.\n",
      "  df=df.append(df2,ignore_index=True)\n"
     ]
    },
    {
     "name": "stdout",
     "output_type": "stream",
     "text": [
      "plate23_12s_70_2_out.csv\n"
     ]
    },
    {
     "name": "stderr",
     "output_type": "stream",
     "text": [
      "/tmp/ipykernel_681725/2269263605.py:12: FutureWarning: The frame.append method is deprecated and will be removed from pandas in a future version. Use pandas.concat instead.\n",
      "  df=df.append(df2,ignore_index=True)\n",
      "/tmp/ipykernel_681725/2269263605.py:12: FutureWarning: The frame.append method is deprecated and will be removed from pandas in a future version. Use pandas.concat instead.\n",
      "  df=df.append(df2,ignore_index=True)\n",
      "/tmp/ipykernel_681725/2269263605.py:12: FutureWarning: The frame.append method is deprecated and will be removed from pandas in a future version. Use pandas.concat instead.\n",
      "  df=df.append(df2,ignore_index=True)\n"
     ]
    },
    {
     "name": "stdout",
     "output_type": "stream",
     "text": [
      "plate1_12s_44_2_out.csv\n",
      "plate23_12s_51_1_out.csv\n",
      "plate1_12s_16_2_out.csv\n"
     ]
    },
    {
     "name": "stderr",
     "output_type": "stream",
     "text": [
      "/tmp/ipykernel_681725/2269263605.py:12: FutureWarning: The frame.append method is deprecated and will be removed from pandas in a future version. Use pandas.concat instead.\n",
      "  df=df.append(df2,ignore_index=True)\n",
      "/tmp/ipykernel_681725/2269263605.py:12: FutureWarning: The frame.append method is deprecated and will be removed from pandas in a future version. Use pandas.concat instead.\n",
      "  df=df.append(df2,ignore_index=True)\n"
     ]
    },
    {
     "name": "stdout",
     "output_type": "stream",
     "text": [
      "plate1_12s_53_1_out.csv\n",
      "plate23_12s_39_2_out.csv\n"
     ]
    },
    {
     "name": "stderr",
     "output_type": "stream",
     "text": [
      "/tmp/ipykernel_681725/2269263605.py:12: FutureWarning: The frame.append method is deprecated and will be removed from pandas in a future version. Use pandas.concat instead.\n",
      "  df=df.append(df2,ignore_index=True)\n"
     ]
    },
    {
     "name": "stdout",
     "output_type": "stream",
     "text": [
      "plate1_12s_2_2_out.csv\n"
     ]
    },
    {
     "name": "stderr",
     "output_type": "stream",
     "text": [
      "/tmp/ipykernel_681725/2269263605.py:12: FutureWarning: The frame.append method is deprecated and will be removed from pandas in a future version. Use pandas.concat instead.\n",
      "  df=df.append(df2,ignore_index=True)\n",
      "/tmp/ipykernel_681725/2269263605.py:12: FutureWarning: The frame.append method is deprecated and will be removed from pandas in a future version. Use pandas.concat instead.\n",
      "  df=df.append(df2,ignore_index=True)\n"
     ]
    },
    {
     "name": "stdout",
     "output_type": "stream",
     "text": [
      "plate23_12s_48_2_out.csv\n",
      "plate1_12s_33_2_out.csv\n"
     ]
    },
    {
     "name": "stderr",
     "output_type": "stream",
     "text": [
      "/tmp/ipykernel_681725/2269263605.py:12: FutureWarning: The frame.append method is deprecated and will be removed from pandas in a future version. Use pandas.concat instead.\n",
      "  df=df.append(df2,ignore_index=True)\n",
      "/tmp/ipykernel_681725/2269263605.py:12: FutureWarning: The frame.append method is deprecated and will be removed from pandas in a future version. Use pandas.concat instead.\n",
      "  df=df.append(df2,ignore_index=True)\n"
     ]
    },
    {
     "name": "stdout",
     "output_type": "stream",
     "text": [
      "plate1_12s_4_1_out.csv\n",
      "plate23_12s_47_2_out.csv\n"
     ]
    },
    {
     "name": "stderr",
     "output_type": "stream",
     "text": [
      "/tmp/ipykernel_681725/2269263605.py:12: FutureWarning: The frame.append method is deprecated and will be removed from pandas in a future version. Use pandas.concat instead.\n",
      "  df=df.append(df2,ignore_index=True)\n"
     ]
    },
    {
     "name": "stdout",
     "output_type": "stream",
     "text": [
      "plate23_12s_7_2_out.csv\n"
     ]
    },
    {
     "name": "stderr",
     "output_type": "stream",
     "text": [
      "/tmp/ipykernel_681725/2269263605.py:12: FutureWarning: The frame.append method is deprecated and will be removed from pandas in a future version. Use pandas.concat instead.\n",
      "  df=df.append(df2,ignore_index=True)\n",
      "/tmp/ipykernel_681725/2269263605.py:12: FutureWarning: The frame.append method is deprecated and will be removed from pandas in a future version. Use pandas.concat instead.\n",
      "  df=df.append(df2,ignore_index=True)\n"
     ]
    },
    {
     "name": "stdout",
     "output_type": "stream",
     "text": [
      "plate23_12s_60_1_out.csv\n",
      "plate23_12s_51_2_out.csv\n"
     ]
    },
    {
     "name": "stderr",
     "output_type": "stream",
     "text": [
      "/tmp/ipykernel_681725/2269263605.py:12: FutureWarning: The frame.append method is deprecated and will be removed from pandas in a future version. Use pandas.concat instead.\n",
      "  df=df.append(df2,ignore_index=True)\n"
     ]
    },
    {
     "name": "stdout",
     "output_type": "stream",
     "text": [
      "plate1_12s_48_2_out.csv\n"
     ]
    },
    {
     "name": "stderr",
     "output_type": "stream",
     "text": [
      "/tmp/ipykernel_681725/2269263605.py:12: FutureWarning: The frame.append method is deprecated and will be removed from pandas in a future version. Use pandas.concat instead.\n",
      "  df=df.append(df2,ignore_index=True)\n"
     ]
    },
    {
     "name": "stdout",
     "output_type": "stream",
     "text": [
      "plate1_12s_28_2_out.csv\n"
     ]
    },
    {
     "name": "stderr",
     "output_type": "stream",
     "text": [
      "/tmp/ipykernel_681725/2269263605.py:12: FutureWarning: The frame.append method is deprecated and will be removed from pandas in a future version. Use pandas.concat instead.\n",
      "  df=df.append(df2,ignore_index=True)\n",
      "/tmp/ipykernel_681725/2269263605.py:12: FutureWarning: The frame.append method is deprecated and will be removed from pandas in a future version. Use pandas.concat instead.\n",
      "  df=df.append(df2,ignore_index=True)\n",
      "/tmp/ipykernel_681725/2269263605.py:12: FutureWarning: The frame.append method is deprecated and will be removed from pandas in a future version. Use pandas.concat instead.\n",
      "  df=df.append(df2,ignore_index=True)\n",
      "/tmp/ipykernel_681725/2269263605.py:12: FutureWarning: The frame.append method is deprecated and will be removed from pandas in a future version. Use pandas.concat instead.\n",
      "  df=df.append(df2,ignore_index=True)\n"
     ]
    },
    {
     "name": "stdout",
     "output_type": "stream",
     "text": [
      "plate1_12s_55_2_out.csv\n",
      "plate1_12s_19_2_out.csv\n",
      "plate1_12s_23_2_out.csv\n",
      "plate23_12s_10_1_out.csv\n"
     ]
    },
    {
     "name": "stderr",
     "output_type": "stream",
     "text": [
      "/tmp/ipykernel_681725/2269263605.py:12: FutureWarning: The frame.append method is deprecated and will be removed from pandas in a future version. Use pandas.concat instead.\n",
      "  df=df.append(df2,ignore_index=True)\n",
      "/tmp/ipykernel_681725/2269263605.py:12: FutureWarning: The frame.append method is deprecated and will be removed from pandas in a future version. Use pandas.concat instead.\n",
      "  df=df.append(df2,ignore_index=True)\n"
     ]
    },
    {
     "name": "stdout",
     "output_type": "stream",
     "text": [
      "plate1_12s_30_1_out.csv\n",
      "plate23_12s_40_2_out.csv\n"
     ]
    },
    {
     "name": "stderr",
     "output_type": "stream",
     "text": [
      "/tmp/ipykernel_681725/2269263605.py:12: FutureWarning: The frame.append method is deprecated and will be removed from pandas in a future version. Use pandas.concat instead.\n",
      "  df=df.append(df2,ignore_index=True)\n"
     ]
    },
    {
     "name": "stdout",
     "output_type": "stream",
     "text": [
      "plate23_12s_1_1_out.csv\n"
     ]
    },
    {
     "name": "stderr",
     "output_type": "stream",
     "text": [
      "/tmp/ipykernel_681725/2269263605.py:6: DtypeWarning: Columns (2,4,7) have mixed types. Specify dtype option on import or set low_memory=False.\n",
      "  file = pd.read_table(os.path.join(fld,file_nm))\n",
      "/tmp/ipykernel_681725/2269263605.py:12: FutureWarning: The frame.append method is deprecated and will be removed from pandas in a future version. Use pandas.concat instead.\n",
      "  df=df.append(df2,ignore_index=True)\n"
     ]
    },
    {
     "name": "stdout",
     "output_type": "stream",
     "text": [
      "plate1_12s_14_2_out.csv\n"
     ]
    },
    {
     "name": "stderr",
     "output_type": "stream",
     "text": [
      "/tmp/ipykernel_681725/2269263605.py:12: FutureWarning: The frame.append method is deprecated and will be removed from pandas in a future version. Use pandas.concat instead.\n",
      "  df=df.append(df2,ignore_index=True)\n"
     ]
    },
    {
     "name": "stdout",
     "output_type": "stream",
     "text": [
      "plate23_12s_19_1_out.csv\n"
     ]
    },
    {
     "name": "stderr",
     "output_type": "stream",
     "text": [
      "/tmp/ipykernel_681725/2269263605.py:12: FutureWarning: The frame.append method is deprecated and will be removed from pandas in a future version. Use pandas.concat instead.\n",
      "  df=df.append(df2,ignore_index=True)\n"
     ]
    },
    {
     "name": "stdout",
     "output_type": "stream",
     "text": [
      "plate1_12s_13_1_out.csv\n"
     ]
    },
    {
     "name": "stderr",
     "output_type": "stream",
     "text": [
      "/tmp/ipykernel_681725/2269263605.py:12: FutureWarning: The frame.append method is deprecated and will be removed from pandas in a future version. Use pandas.concat instead.\n",
      "  df=df.append(df2,ignore_index=True)\n"
     ]
    },
    {
     "name": "stdout",
     "output_type": "stream",
     "text": [
      "plate23_12s_58_1_out.csv\n"
     ]
    },
    {
     "name": "stderr",
     "output_type": "stream",
     "text": [
      "/tmp/ipykernel_681725/2269263605.py:12: FutureWarning: The frame.append method is deprecated and will be removed from pandas in a future version. Use pandas.concat instead.\n",
      "  df=df.append(df2,ignore_index=True)\n"
     ]
    },
    {
     "name": "stdout",
     "output_type": "stream",
     "text": [
      "plate23_12s_36_2_out.csv\n"
     ]
    },
    {
     "name": "stderr",
     "output_type": "stream",
     "text": [
      "/tmp/ipykernel_681725/2269263605.py:12: FutureWarning: The frame.append method is deprecated and will be removed from pandas in a future version. Use pandas.concat instead.\n",
      "  df=df.append(df2,ignore_index=True)\n",
      "/tmp/ipykernel_681725/2269263605.py:12: FutureWarning: The frame.append method is deprecated and will be removed from pandas in a future version. Use pandas.concat instead.\n",
      "  df=df.append(df2,ignore_index=True)\n",
      "/tmp/ipykernel_681725/2269263605.py:12: FutureWarning: The frame.append method is deprecated and will be removed from pandas in a future version. Use pandas.concat instead.\n",
      "  df=df.append(df2,ignore_index=True)\n",
      "/tmp/ipykernel_681725/2269263605.py:12: FutureWarning: The frame.append method is deprecated and will be removed from pandas in a future version. Use pandas.concat instead.\n",
      "  df=df.append(df2,ignore_index=True)\n"
     ]
    },
    {
     "name": "stdout",
     "output_type": "stream",
     "text": [
      "plate1_12s_55_1_out.csv\n",
      "plate23_12s_69_1_out.csv\n",
      "plate23_12s_4_2_out.csv\n",
      "plate1_12s_18_1_out.csv\n"
     ]
    },
    {
     "name": "stderr",
     "output_type": "stream",
     "text": [
      "/tmp/ipykernel_681725/2269263605.py:12: FutureWarning: The frame.append method is deprecated and will be removed from pandas in a future version. Use pandas.concat instead.\n",
      "  df=df.append(df2,ignore_index=True)\n"
     ]
    },
    {
     "name": "stdout",
     "output_type": "stream",
     "text": [
      "plate23_12s_43_2_out.csv\n"
     ]
    },
    {
     "name": "stderr",
     "output_type": "stream",
     "text": [
      "/tmp/ipykernel_681725/2269263605.py:12: FutureWarning: The frame.append method is deprecated and will be removed from pandas in a future version. Use pandas.concat instead.\n",
      "  df=df.append(df2,ignore_index=True)\n",
      "/tmp/ipykernel_681725/2269263605.py:12: FutureWarning: The frame.append method is deprecated and will be removed from pandas in a future version. Use pandas.concat instead.\n",
      "  df=df.append(df2,ignore_index=True)\n"
     ]
    },
    {
     "name": "stdout",
     "output_type": "stream",
     "text": [
      "plate1_12s_56_1_out.csv\n",
      "plate1_12s_21_2_out.csv\n"
     ]
    },
    {
     "name": "stderr",
     "output_type": "stream",
     "text": [
      "/tmp/ipykernel_681725/2269263605.py:12: FutureWarning: The frame.append method is deprecated and will be removed from pandas in a future version. Use pandas.concat instead.\n",
      "  df=df.append(df2,ignore_index=True)\n",
      "/tmp/ipykernel_681725/2269263605.py:12: FutureWarning: The frame.append method is deprecated and will be removed from pandas in a future version. Use pandas.concat instead.\n",
      "  df=df.append(df2,ignore_index=True)\n"
     ]
    },
    {
     "name": "stdout",
     "output_type": "stream",
     "text": [
      "plate1_12s_41_2_out.csv\n",
      "plate1_12s_17_2_out.csv\n"
     ]
    },
    {
     "name": "stderr",
     "output_type": "stream",
     "text": [
      "/tmp/ipykernel_681725/2269263605.py:12: FutureWarning: The frame.append method is deprecated and will be removed from pandas in a future version. Use pandas.concat instead.\n",
      "  df=df.append(df2,ignore_index=True)\n"
     ]
    },
    {
     "name": "stdout",
     "output_type": "stream",
     "text": [
      "plate23_12s_49_1_out.csv\n"
     ]
    },
    {
     "name": "stderr",
     "output_type": "stream",
     "text": [
      "/tmp/ipykernel_681725/2269263605.py:12: FutureWarning: The frame.append method is deprecated and will be removed from pandas in a future version. Use pandas.concat instead.\n",
      "  df=df.append(df2,ignore_index=True)\n",
      "/tmp/ipykernel_681725/2269263605.py:12: FutureWarning: The frame.append method is deprecated and will be removed from pandas in a future version. Use pandas.concat instead.\n",
      "  df=df.append(df2,ignore_index=True)\n"
     ]
    },
    {
     "name": "stdout",
     "output_type": "stream",
     "text": [
      "plate1_12s_31_1_out.csv\n",
      "plate23_12s_75_1_out.csv\n"
     ]
    },
    {
     "name": "stderr",
     "output_type": "stream",
     "text": [
      "/tmp/ipykernel_681725/2269263605.py:12: FutureWarning: The frame.append method is deprecated and will be removed from pandas in a future version. Use pandas.concat instead.\n",
      "  df=df.append(df2,ignore_index=True)\n",
      "/tmp/ipykernel_681725/2269263605.py:12: FutureWarning: The frame.append method is deprecated and will be removed from pandas in a future version. Use pandas.concat instead.\n",
      "  df=df.append(df2,ignore_index=True)\n",
      "/tmp/ipykernel_681725/2269263605.py:12: FutureWarning: The frame.append method is deprecated and will be removed from pandas in a future version. Use pandas.concat instead.\n",
      "  df=df.append(df2,ignore_index=True)\n"
     ]
    },
    {
     "name": "stdout",
     "output_type": "stream",
     "text": [
      "plate23_12s_68_1_out.csv\n",
      "plate1_12s_23_1_out.csv\n",
      "plate1_12s_22_2_out.csv\n"
     ]
    },
    {
     "name": "stderr",
     "output_type": "stream",
     "text": [
      "/tmp/ipykernel_681725/2269263605.py:12: FutureWarning: The frame.append method is deprecated and will be removed from pandas in a future version. Use pandas.concat instead.\n",
      "  df=df.append(df2,ignore_index=True)\n"
     ]
    },
    {
     "name": "stdout",
     "output_type": "stream",
     "text": [
      "plate1_12s_27_1_out.csv\n"
     ]
    },
    {
     "name": "stderr",
     "output_type": "stream",
     "text": [
      "/tmp/ipykernel_681725/2269263605.py:12: FutureWarning: The frame.append method is deprecated and will be removed from pandas in a future version. Use pandas.concat instead.\n",
      "  df=df.append(df2,ignore_index=True)\n",
      "/tmp/ipykernel_681725/2269263605.py:12: FutureWarning: The frame.append method is deprecated and will be removed from pandas in a future version. Use pandas.concat instead.\n",
      "  df=df.append(df2,ignore_index=True)\n"
     ]
    },
    {
     "name": "stdout",
     "output_type": "stream",
     "text": [
      "plate1_12s_41_1_out.csv\n",
      "plate23_12s_31_2_out.csv\n"
     ]
    },
    {
     "name": "stderr",
     "output_type": "stream",
     "text": [
      "/tmp/ipykernel_681725/2269263605.py:12: FutureWarning: The frame.append method is deprecated and will be removed from pandas in a future version. Use pandas.concat instead.\n",
      "  df=df.append(df2,ignore_index=True)\n"
     ]
    },
    {
     "name": "stdout",
     "output_type": "stream",
     "text": [
      "plate1_12s_37_1_out.csv\n"
     ]
    },
    {
     "name": "stderr",
     "output_type": "stream",
     "text": [
      "/tmp/ipykernel_681725/2269263605.py:12: FutureWarning: The frame.append method is deprecated and will be removed from pandas in a future version. Use pandas.concat instead.\n",
      "  df=df.append(df2,ignore_index=True)\n",
      "/tmp/ipykernel_681725/2269263605.py:12: FutureWarning: The frame.append method is deprecated and will be removed from pandas in a future version. Use pandas.concat instead.\n",
      "  df=df.append(df2,ignore_index=True)\n"
     ]
    },
    {
     "name": "stdout",
     "output_type": "stream",
     "text": [
      "plate23_12s_20_1_out.csv\n",
      "plate23_12s_60_2_out.csv\n"
     ]
    },
    {
     "name": "stderr",
     "output_type": "stream",
     "text": [
      "/tmp/ipykernel_681725/2269263605.py:12: FutureWarning: The frame.append method is deprecated and will be removed from pandas in a future version. Use pandas.concat instead.\n",
      "  df=df.append(df2,ignore_index=True)\n"
     ]
    },
    {
     "name": "stdout",
     "output_type": "stream",
     "text": [
      "plate23_12s_15_1_out.csv\n"
     ]
    },
    {
     "name": "stderr",
     "output_type": "stream",
     "text": [
      "/tmp/ipykernel_681725/2269263605.py:12: FutureWarning: The frame.append method is deprecated and will be removed from pandas in a future version. Use pandas.concat instead.\n",
      "  df=df.append(df2,ignore_index=True)\n",
      "/tmp/ipykernel_681725/2269263605.py:12: FutureWarning: The frame.append method is deprecated and will be removed from pandas in a future version. Use pandas.concat instead.\n",
      "  df=df.append(df2,ignore_index=True)\n"
     ]
    },
    {
     "name": "stdout",
     "output_type": "stream",
     "text": [
      "plate23_12s_53_2_out.csv\n",
      "plate1_12s_5_2_out.csv\n"
     ]
    },
    {
     "name": "stderr",
     "output_type": "stream",
     "text": [
      "/tmp/ipykernel_681725/2269263605.py:12: FutureWarning: The frame.append method is deprecated and will be removed from pandas in a future version. Use pandas.concat instead.\n",
      "  df=df.append(df2,ignore_index=True)\n",
      "/tmp/ipykernel_681725/2269263605.py:12: FutureWarning: The frame.append method is deprecated and will be removed from pandas in a future version. Use pandas.concat instead.\n",
      "  df=df.append(df2,ignore_index=True)\n"
     ]
    },
    {
     "name": "stdout",
     "output_type": "stream",
     "text": [
      "plate23_12s_67_2_out.csv\n",
      "plate23_12s_19_2_out.csv\n"
     ]
    },
    {
     "name": "stderr",
     "output_type": "stream",
     "text": [
      "/tmp/ipykernel_681725/2269263605.py:12: FutureWarning: The frame.append method is deprecated and will be removed from pandas in a future version. Use pandas.concat instead.\n",
      "  df=df.append(df2,ignore_index=True)\n",
      "/tmp/ipykernel_681725/2269263605.py:12: FutureWarning: The frame.append method is deprecated and will be removed from pandas in a future version. Use pandas.concat instead.\n",
      "  df=df.append(df2,ignore_index=True)\n"
     ]
    },
    {
     "name": "stdout",
     "output_type": "stream",
     "text": [
      "plate1_12s_32_2_out.csv\n",
      "plate23_12s_33_2_out.csv\n"
     ]
    },
    {
     "name": "stderr",
     "output_type": "stream",
     "text": [
      "/tmp/ipykernel_681725/2269263605.py:12: FutureWarning: The frame.append method is deprecated and will be removed from pandas in a future version. Use pandas.concat instead.\n",
      "  df=df.append(df2,ignore_index=True)\n",
      "/tmp/ipykernel_681725/2269263605.py:12: FutureWarning: The frame.append method is deprecated and will be removed from pandas in a future version. Use pandas.concat instead.\n",
      "  df=df.append(df2,ignore_index=True)\n",
      "/tmp/ipykernel_681725/2269263605.py:12: FutureWarning: The frame.append method is deprecated and will be removed from pandas in a future version. Use pandas.concat instead.\n",
      "  df=df.append(df2,ignore_index=True)\n",
      "/tmp/ipykernel_681725/2269263605.py:12: FutureWarning: The frame.append method is deprecated and will be removed from pandas in a future version. Use pandas.concat instead.\n",
      "  df=df.append(df2,ignore_index=True)\n"
     ]
    },
    {
     "name": "stdout",
     "output_type": "stream",
     "text": [
      "plate1_12s_32_1_out.csv\n",
      "plate23_12s_64_1_out.csv\n",
      "plate23_12s_28_1_out.csv\n",
      "plate1_12s_27_2_out.csv\n"
     ]
    },
    {
     "name": "stderr",
     "output_type": "stream",
     "text": [
      "/tmp/ipykernel_681725/2269263605.py:12: FutureWarning: The frame.append method is deprecated and will be removed from pandas in a future version. Use pandas.concat instead.\n",
      "  df=df.append(df2,ignore_index=True)\n"
     ]
    },
    {
     "name": "stdout",
     "output_type": "stream",
     "text": [
      "plate1_12s_31_2_out.csv\n"
     ]
    },
    {
     "name": "stderr",
     "output_type": "stream",
     "text": [
      "/tmp/ipykernel_681725/2269263605.py:12: FutureWarning: The frame.append method is deprecated and will be removed from pandas in a future version. Use pandas.concat instead.\n",
      "  df=df.append(df2,ignore_index=True)\n",
      "/tmp/ipykernel_681725/2269263605.py:12: FutureWarning: The frame.append method is deprecated and will be removed from pandas in a future version. Use pandas.concat instead.\n",
      "  df=df.append(df2,ignore_index=True)\n"
     ]
    },
    {
     "name": "stdout",
     "output_type": "stream",
     "text": [
      "plate23_12s_71_1_out.csv\n",
      "plate1_12s_8_2_out.csv\n"
     ]
    },
    {
     "name": "stderr",
     "output_type": "stream",
     "text": [
      "/tmp/ipykernel_681725/2269263605.py:12: FutureWarning: The frame.append method is deprecated and will be removed from pandas in a future version. Use pandas.concat instead.\n",
      "  df=df.append(df2,ignore_index=True)\n",
      "/tmp/ipykernel_681725/2269263605.py:12: FutureWarning: The frame.append method is deprecated and will be removed from pandas in a future version. Use pandas.concat instead.\n",
      "  df=df.append(df2,ignore_index=True)\n",
      "/tmp/ipykernel_681725/2269263605.py:12: FutureWarning: The frame.append method is deprecated and will be removed from pandas in a future version. Use pandas.concat instead.\n",
      "  df=df.append(df2,ignore_index=True)\n"
     ]
    },
    {
     "name": "stdout",
     "output_type": "stream",
     "text": [
      "plate1_12s_35_1_out.csv\n",
      "plate23_12s_66_1_out.csv\n",
      "plate23_12s_32_1_out.csv\n"
     ]
    },
    {
     "name": "stderr",
     "output_type": "stream",
     "text": [
      "/tmp/ipykernel_681725/2269263605.py:12: FutureWarning: The frame.append method is deprecated and will be removed from pandas in a future version. Use pandas.concat instead.\n",
      "  df=df.append(df2,ignore_index=True)\n"
     ]
    },
    {
     "name": "stdout",
     "output_type": "stream",
     "text": [
      "plate1_12s_26_1_out.csv\n"
     ]
    },
    {
     "name": "stderr",
     "output_type": "stream",
     "text": [
      "/tmp/ipykernel_681725/2269263605.py:12: FutureWarning: The frame.append method is deprecated and will be removed from pandas in a future version. Use pandas.concat instead.\n",
      "  df=df.append(df2,ignore_index=True)\n",
      "/tmp/ipykernel_681725/2269263605.py:12: FutureWarning: The frame.append method is deprecated and will be removed from pandas in a future version. Use pandas.concat instead.\n",
      "  df=df.append(df2,ignore_index=True)\n"
     ]
    },
    {
     "name": "stdout",
     "output_type": "stream",
     "text": [
      "plate23_12s_53_1_out.csv\n",
      "plate23_12s_12_1_out.csv\n"
     ]
    },
    {
     "name": "stderr",
     "output_type": "stream",
     "text": [
      "/tmp/ipykernel_681725/2269263605.py:12: FutureWarning: The frame.append method is deprecated and will be removed from pandas in a future version. Use pandas.concat instead.\n",
      "  df=df.append(df2,ignore_index=True)\n"
     ]
    },
    {
     "name": "stdout",
     "output_type": "stream",
     "text": [
      "plate1_12s_45_1_out.csv\n"
     ]
    },
    {
     "name": "stderr",
     "output_type": "stream",
     "text": [
      "/tmp/ipykernel_681725/2269263605.py:12: FutureWarning: The frame.append method is deprecated and will be removed from pandas in a future version. Use pandas.concat instead.\n",
      "  df=df.append(df2,ignore_index=True)\n"
     ]
    },
    {
     "name": "stdout",
     "output_type": "stream",
     "text": [
      "plate23_12s_23_1_out.csv\n"
     ]
    },
    {
     "name": "stderr",
     "output_type": "stream",
     "text": [
      "/tmp/ipykernel_681725/2269263605.py:12: FutureWarning: The frame.append method is deprecated and will be removed from pandas in a future version. Use pandas.concat instead.\n",
      "  df=df.append(df2,ignore_index=True)\n",
      "/tmp/ipykernel_681725/2269263605.py:12: FutureWarning: The frame.append method is deprecated and will be removed from pandas in a future version. Use pandas.concat instead.\n",
      "  df=df.append(df2,ignore_index=True)\n"
     ]
    },
    {
     "name": "stdout",
     "output_type": "stream",
     "text": [
      "plate1_12s_7_2_out.csv\n",
      "plate23_12s_39_1_out.csv\n"
     ]
    },
    {
     "name": "stderr",
     "output_type": "stream",
     "text": [
      "/tmp/ipykernel_681725/2269263605.py:12: FutureWarning: The frame.append method is deprecated and will be removed from pandas in a future version. Use pandas.concat instead.\n",
      "  df=df.append(df2,ignore_index=True)\n",
      "/tmp/ipykernel_681725/2269263605.py:12: FutureWarning: The frame.append method is deprecated and will be removed from pandas in a future version. Use pandas.concat instead.\n",
      "  df=df.append(df2,ignore_index=True)\n"
     ]
    },
    {
     "name": "stdout",
     "output_type": "stream",
     "text": [
      "plate23_12s_14_1_out.csv\n",
      "plate1_12s_7_1_out.csv\n"
     ]
    },
    {
     "name": "stderr",
     "output_type": "stream",
     "text": [
      "/tmp/ipykernel_681725/2269263605.py:12: FutureWarning: The frame.append method is deprecated and will be removed from pandas in a future version. Use pandas.concat instead.\n",
      "  df=df.append(df2,ignore_index=True)\n",
      "/tmp/ipykernel_681725/2269263605.py:12: FutureWarning: The frame.append method is deprecated and will be removed from pandas in a future version. Use pandas.concat instead.\n",
      "  df=df.append(df2,ignore_index=True)\n"
     ]
    },
    {
     "name": "stdout",
     "output_type": "stream",
     "text": [
      "plate1_12s_51_2_out.csv\n",
      "plate23_12s_24_1_out.csv\n"
     ]
    },
    {
     "name": "stderr",
     "output_type": "stream",
     "text": [
      "/tmp/ipykernel_681725/2269263605.py:12: FutureWarning: The frame.append method is deprecated and will be removed from pandas in a future version. Use pandas.concat instead.\n",
      "  df=df.append(df2,ignore_index=True)\n",
      "/tmp/ipykernel_681725/2269263605.py:12: FutureWarning: The frame.append method is deprecated and will be removed from pandas in a future version. Use pandas.concat instead.\n",
      "  df=df.append(df2,ignore_index=True)\n"
     ]
    },
    {
     "name": "stdout",
     "output_type": "stream",
     "text": [
      "plate1_12s_51_1_out.csv\n",
      "plate1_12s_48_1_out.csv\n"
     ]
    },
    {
     "name": "stderr",
     "output_type": "stream",
     "text": [
      "/tmp/ipykernel_681725/2269263605.py:12: FutureWarning: The frame.append method is deprecated and will be removed from pandas in a future version. Use pandas.concat instead.\n",
      "  df=df.append(df2,ignore_index=True)\n"
     ]
    },
    {
     "name": "stdout",
     "output_type": "stream",
     "text": [
      "plate1_12s_8_1_out.csv\n"
     ]
    },
    {
     "name": "stderr",
     "output_type": "stream",
     "text": [
      "/tmp/ipykernel_681725/2269263605.py:12: FutureWarning: The frame.append method is deprecated and will be removed from pandas in a future version. Use pandas.concat instead.\n",
      "  df=df.append(df2,ignore_index=True)\n"
     ]
    },
    {
     "name": "stdout",
     "output_type": "stream",
     "text": [
      "plate1_12s_12_2_out.csv\n"
     ]
    },
    {
     "name": "stderr",
     "output_type": "stream",
     "text": [
      "/tmp/ipykernel_681725/2269263605.py:12: FutureWarning: The frame.append method is deprecated and will be removed from pandas in a future version. Use pandas.concat instead.\n",
      "  df=df.append(df2,ignore_index=True)\n",
      "/tmp/ipykernel_681725/2269263605.py:12: FutureWarning: The frame.append method is deprecated and will be removed from pandas in a future version. Use pandas.concat instead.\n",
      "  df=df.append(df2,ignore_index=True)\n"
     ]
    },
    {
     "name": "stdout",
     "output_type": "stream",
     "text": [
      "plate23_12s_72_2_out.csv\n",
      "plate23_12s_21_1_out.csv\n"
     ]
    },
    {
     "name": "stderr",
     "output_type": "stream",
     "text": [
      "/tmp/ipykernel_681725/2269263605.py:12: FutureWarning: The frame.append method is deprecated and will be removed from pandas in a future version. Use pandas.concat instead.\n",
      "  df=df.append(df2,ignore_index=True)\n",
      "/tmp/ipykernel_681725/2269263605.py:12: FutureWarning: The frame.append method is deprecated and will be removed from pandas in a future version. Use pandas.concat instead.\n",
      "  df=df.append(df2,ignore_index=True)\n",
      "/tmp/ipykernel_681725/2269263605.py:12: FutureWarning: The frame.append method is deprecated and will be removed from pandas in a future version. Use pandas.concat instead.\n",
      "  df=df.append(df2,ignore_index=True)\n"
     ]
    },
    {
     "name": "stdout",
     "output_type": "stream",
     "text": [
      "plate1_12s_9_2_out.csv\n",
      "plate23_12s_69_2_out.csv\n",
      "plate1_12s_52_2_out.csv\n"
     ]
    },
    {
     "name": "stderr",
     "output_type": "stream",
     "text": [
      "/tmp/ipykernel_681725/2269263605.py:12: FutureWarning: The frame.append method is deprecated and will be removed from pandas in a future version. Use pandas.concat instead.\n",
      "  df=df.append(df2,ignore_index=True)\n"
     ]
    },
    {
     "name": "stdout",
     "output_type": "stream",
     "text": [
      "plate23_12s_3_2_out.csv\n"
     ]
    },
    {
     "name": "stderr",
     "output_type": "stream",
     "text": [
      "/tmp/ipykernel_681725/2269263605.py:12: FutureWarning: The frame.append method is deprecated and will be removed from pandas in a future version. Use pandas.concat instead.\n",
      "  df=df.append(df2,ignore_index=True)\n",
      "/tmp/ipykernel_681725/2269263605.py:12: FutureWarning: The frame.append method is deprecated and will be removed from pandas in a future version. Use pandas.concat instead.\n",
      "  df=df.append(df2,ignore_index=True)\n"
     ]
    },
    {
     "name": "stdout",
     "output_type": "stream",
     "text": [
      "plate23_12s_63_2_out.csv\n",
      "plate1_12s_22_1_out.csv\n"
     ]
    },
    {
     "name": "stderr",
     "output_type": "stream",
     "text": [
      "/tmp/ipykernel_681725/2269263605.py:12: FutureWarning: The frame.append method is deprecated and will be removed from pandas in a future version. Use pandas.concat instead.\n",
      "  df=df.append(df2,ignore_index=True)\n"
     ]
    },
    {
     "name": "stdout",
     "output_type": "stream",
     "text": [
      "plate1_12s_1_2_out.csv\n"
     ]
    },
    {
     "name": "stderr",
     "output_type": "stream",
     "text": [
      "/tmp/ipykernel_681725/2269263605.py:12: FutureWarning: The frame.append method is deprecated and will be removed from pandas in a future version. Use pandas.concat instead.\n",
      "  df=df.append(df2,ignore_index=True)\n"
     ]
    },
    {
     "name": "stdout",
     "output_type": "stream",
     "text": [
      "plate1_12s_16_1_out.csv\n"
     ]
    },
    {
     "name": "stderr",
     "output_type": "stream",
     "text": [
      "/tmp/ipykernel_681725/2269263605.py:12: FutureWarning: The frame.append method is deprecated and will be removed from pandas in a future version. Use pandas.concat instead.\n",
      "  df=df.append(df2,ignore_index=True)\n"
     ]
    },
    {
     "name": "stdout",
     "output_type": "stream",
     "text": [
      "plate23_12s_45_2_out.csv\n"
     ]
    },
    {
     "name": "stderr",
     "output_type": "stream",
     "text": [
      "/tmp/ipykernel_681725/2269263605.py:12: FutureWarning: The frame.append method is deprecated and will be removed from pandas in a future version. Use pandas.concat instead.\n",
      "  df=df.append(df2,ignore_index=True)\n",
      "/tmp/ipykernel_681725/2269263605.py:12: FutureWarning: The frame.append method is deprecated and will be removed from pandas in a future version. Use pandas.concat instead.\n",
      "  df=df.append(df2,ignore_index=True)\n"
     ]
    },
    {
     "name": "stdout",
     "output_type": "stream",
     "text": [
      "plate23_12s_2_2_out.csv\n",
      "plate23_12s_38_1_out.csv\n"
     ]
    },
    {
     "name": "stderr",
     "output_type": "stream",
     "text": [
      "/tmp/ipykernel_681725/2269263605.py:12: FutureWarning: The frame.append method is deprecated and will be removed from pandas in a future version. Use pandas.concat instead.\n",
      "  df=df.append(df2,ignore_index=True)\n"
     ]
    },
    {
     "name": "stdout",
     "output_type": "stream",
     "text": [
      "plate23_12s_57_2_out.csv\n"
     ]
    },
    {
     "name": "stderr",
     "output_type": "stream",
     "text": [
      "/tmp/ipykernel_681725/2269263605.py:12: FutureWarning: The frame.append method is deprecated and will be removed from pandas in a future version. Use pandas.concat instead.\n",
      "  df=df.append(df2,ignore_index=True)\n",
      "/tmp/ipykernel_681725/2269263605.py:12: FutureWarning: The frame.append method is deprecated and will be removed from pandas in a future version. Use pandas.concat instead.\n",
      "  df=df.append(df2,ignore_index=True)\n"
     ]
    },
    {
     "name": "stdout",
     "output_type": "stream",
     "text": [
      "plate23_12s_30_1_out.csv\n",
      "plate23_12s_26_2_out.csv\n"
     ]
    },
    {
     "name": "stderr",
     "output_type": "stream",
     "text": [
      "/tmp/ipykernel_681725/2269263605.py:12: FutureWarning: The frame.append method is deprecated and will be removed from pandas in a future version. Use pandas.concat instead.\n",
      "  df=df.append(df2,ignore_index=True)\n",
      "/tmp/ipykernel_681725/2269263605.py:12: FutureWarning: The frame.append method is deprecated and will be removed from pandas in a future version. Use pandas.concat instead.\n",
      "  df=df.append(df2,ignore_index=True)\n"
     ]
    },
    {
     "name": "stdout",
     "output_type": "stream",
     "text": [
      "plate23_12s_48_1_out.csv\n",
      "plate1_12s_59_2_out.csv\n"
     ]
    },
    {
     "name": "stderr",
     "output_type": "stream",
     "text": [
      "/tmp/ipykernel_681725/2269263605.py:12: FutureWarning: The frame.append method is deprecated and will be removed from pandas in a future version. Use pandas.concat instead.\n",
      "  df=df.append(df2,ignore_index=True)\n"
     ]
    },
    {
     "name": "stdout",
     "output_type": "stream",
     "text": [
      "plate23_12s_43_1_out.csv\n"
     ]
    },
    {
     "name": "stderr",
     "output_type": "stream",
     "text": [
      "/tmp/ipykernel_681725/2269263605.py:12: FutureWarning: The frame.append method is deprecated and will be removed from pandas in a future version. Use pandas.concat instead.\n",
      "  df=df.append(df2,ignore_index=True)\n",
      "/tmp/ipykernel_681725/2269263605.py:12: FutureWarning: The frame.append method is deprecated and will be removed from pandas in a future version. Use pandas.concat instead.\n",
      "  df=df.append(df2,ignore_index=True)\n"
     ]
    },
    {
     "name": "stdout",
     "output_type": "stream",
     "text": [
      "plate23_12s_34_1_out.csv\n",
      "plate1_12s_5_1_out.csv\n"
     ]
    },
    {
     "name": "stderr",
     "output_type": "stream",
     "text": [
      "/tmp/ipykernel_681725/2269263605.py:12: FutureWarning: The frame.append method is deprecated and will be removed from pandas in a future version. Use pandas.concat instead.\n",
      "  df=df.append(df2,ignore_index=True)\n"
     ]
    },
    {
     "name": "stdout",
     "output_type": "stream",
     "text": [
      "plate23_12s_10_2_out.csv\n"
     ]
    },
    {
     "name": "stderr",
     "output_type": "stream",
     "text": [
      "/tmp/ipykernel_681725/2269263605.py:12: FutureWarning: The frame.append method is deprecated and will be removed from pandas in a future version. Use pandas.concat instead.\n",
      "  df=df.append(df2,ignore_index=True)\n"
     ]
    },
    {
     "name": "stdout",
     "output_type": "stream",
     "text": [
      "plate1_12s_58_1_out.csv\n"
     ]
    },
    {
     "name": "stderr",
     "output_type": "stream",
     "text": [
      "/tmp/ipykernel_681725/2269263605.py:12: FutureWarning: The frame.append method is deprecated and will be removed from pandas in a future version. Use pandas.concat instead.\n",
      "  df=df.append(df2,ignore_index=True)\n"
     ]
    },
    {
     "name": "stdout",
     "output_type": "stream",
     "text": [
      "plate23_12s_18_2_out.csv\n"
     ]
    },
    {
     "name": "stderr",
     "output_type": "stream",
     "text": [
      "/tmp/ipykernel_681725/2269263605.py:12: FutureWarning: The frame.append method is deprecated and will be removed from pandas in a future version. Use pandas.concat instead.\n",
      "  df=df.append(df2,ignore_index=True)\n",
      "/tmp/ipykernel_681725/2269263605.py:12: FutureWarning: The frame.append method is deprecated and will be removed from pandas in a future version. Use pandas.concat instead.\n",
      "  df=df.append(df2,ignore_index=True)\n"
     ]
    },
    {
     "name": "stdout",
     "output_type": "stream",
     "text": [
      "plate1_12s_44_1_out.csv\n",
      "plate23_12s_74_2_out.csv\n"
     ]
    },
    {
     "name": "stderr",
     "output_type": "stream",
     "text": [
      "/tmp/ipykernel_681725/2269263605.py:12: FutureWarning: The frame.append method is deprecated and will be removed from pandas in a future version. Use pandas.concat instead.\n",
      "  df=df.append(df2,ignore_index=True)\n"
     ]
    },
    {
     "name": "stdout",
     "output_type": "stream",
     "text": [
      "plate23_12s_56_2_out.csv\n"
     ]
    },
    {
     "name": "stderr",
     "output_type": "stream",
     "text": [
      "/tmp/ipykernel_681725/2269263605.py:12: FutureWarning: The frame.append method is deprecated and will be removed from pandas in a future version. Use pandas.concat instead.\n",
      "  df=df.append(df2,ignore_index=True)\n",
      "/tmp/ipykernel_681725/2269263605.py:12: FutureWarning: The frame.append method is deprecated and will be removed from pandas in a future version. Use pandas.concat instead.\n",
      "  df=df.append(df2,ignore_index=True)\n"
     ]
    },
    {
     "name": "stdout",
     "output_type": "stream",
     "text": [
      "plate23_12s_21_2_out.csv\n",
      "plate23_12s_36_1_out.csv\n"
     ]
    },
    {
     "name": "stderr",
     "output_type": "stream",
     "text": [
      "/tmp/ipykernel_681725/2269263605.py:12: FutureWarning: The frame.append method is deprecated and will be removed from pandas in a future version. Use pandas.concat instead.\n",
      "  df=df.append(df2,ignore_index=True)\n"
     ]
    },
    {
     "name": "stdout",
     "output_type": "stream",
     "text": [
      "plate23_12s_35_1_out.csv\n"
     ]
    },
    {
     "name": "stderr",
     "output_type": "stream",
     "text": [
      "/tmp/ipykernel_681725/2269263605.py:12: FutureWarning: The frame.append method is deprecated and will be removed from pandas in a future version. Use pandas.concat instead.\n",
      "  df=df.append(df2,ignore_index=True)\n",
      "/tmp/ipykernel_681725/2269263605.py:12: FutureWarning: The frame.append method is deprecated and will be removed from pandas in a future version. Use pandas.concat instead.\n",
      "  df=df.append(df2,ignore_index=True)\n",
      "/tmp/ipykernel_681725/2269263605.py:12: FutureWarning: The frame.append method is deprecated and will be removed from pandas in a future version. Use pandas.concat instead.\n",
      "  df=df.append(df2,ignore_index=True)\n"
     ]
    },
    {
     "name": "stdout",
     "output_type": "stream",
     "text": [
      "plate23_12s_37_2_out.csv\n",
      "plate23_12s_22_2_out.csv\n",
      "plate23_12s_62_2_out.csv\n"
     ]
    },
    {
     "name": "stderr",
     "output_type": "stream",
     "text": [
      "/tmp/ipykernel_681725/2269263605.py:12: FutureWarning: The frame.append method is deprecated and will be removed from pandas in a future version. Use pandas.concat instead.\n",
      "  df=df.append(df2,ignore_index=True)\n",
      "/tmp/ipykernel_681725/2269263605.py:12: FutureWarning: The frame.append method is deprecated and will be removed from pandas in a future version. Use pandas.concat instead.\n",
      "  df=df.append(df2,ignore_index=True)\n"
     ]
    },
    {
     "name": "stdout",
     "output_type": "stream",
     "text": [
      "plate23_12s_55_2_out.csv\n",
      "plate1_12s_1_1_out.csv\n"
     ]
    },
    {
     "name": "stderr",
     "output_type": "stream",
     "text": [
      "/tmp/ipykernel_681725/2269263605.py:12: FutureWarning: The frame.append method is deprecated and will be removed from pandas in a future version. Use pandas.concat instead.\n",
      "  df=df.append(df2,ignore_index=True)\n"
     ]
    },
    {
     "name": "stdout",
     "output_type": "stream",
     "text": [
      "plate1_12s_52_1_out.csv\n"
     ]
    },
    {
     "name": "stderr",
     "output_type": "stream",
     "text": [
      "/tmp/ipykernel_681725/2269263605.py:12: FutureWarning: The frame.append method is deprecated and will be removed from pandas in a future version. Use pandas.concat instead.\n",
      "  df=df.append(df2,ignore_index=True)\n"
     ]
    },
    {
     "name": "stdout",
     "output_type": "stream",
     "text": [
      "plate23_12s_3_1_out.csv\n"
     ]
    },
    {
     "name": "stderr",
     "output_type": "stream",
     "text": [
      "/tmp/ipykernel_681725/2269263605.py:12: FutureWarning: The frame.append method is deprecated and will be removed from pandas in a future version. Use pandas.concat instead.\n",
      "  df=df.append(df2,ignore_index=True)\n",
      "/tmp/ipykernel_681725/2269263605.py:12: FutureWarning: The frame.append method is deprecated and will be removed from pandas in a future version. Use pandas.concat instead.\n",
      "  df=df.append(df2,ignore_index=True)\n"
     ]
    },
    {
     "name": "stdout",
     "output_type": "stream",
     "text": [
      "plate1_12s_57_2_out.csv\n",
      "plate1_12s_49_1_out.csv\n"
     ]
    },
    {
     "name": "stderr",
     "output_type": "stream",
     "text": [
      "/tmp/ipykernel_681725/2269263605.py:12: FutureWarning: The frame.append method is deprecated and will be removed from pandas in a future version. Use pandas.concat instead.\n",
      "  df=df.append(df2,ignore_index=True)\n"
     ]
    },
    {
     "name": "stdout",
     "output_type": "stream",
     "text": [
      "plate23_12s_38_2_out.csv\n"
     ]
    },
    {
     "name": "stderr",
     "output_type": "stream",
     "text": [
      "/tmp/ipykernel_681725/2269263605.py:12: FutureWarning: The frame.append method is deprecated and will be removed from pandas in a future version. Use pandas.concat instead.\n",
      "  df=df.append(df2,ignore_index=True)\n",
      "/tmp/ipykernel_681725/2269263605.py:12: FutureWarning: The frame.append method is deprecated and will be removed from pandas in a future version. Use pandas.concat instead.\n",
      "  df=df.append(df2,ignore_index=True)\n"
     ]
    },
    {
     "name": "stdout",
     "output_type": "stream",
     "text": [
      "plate23_12s_64_2_out.csv\n",
      "plate1_12s_58_2_out.csv\n"
     ]
    },
    {
     "name": "stderr",
     "output_type": "stream",
     "text": [
      "/tmp/ipykernel_681725/2269263605.py:12: FutureWarning: The frame.append method is deprecated and will be removed from pandas in a future version. Use pandas.concat instead.\n",
      "  df=df.append(df2,ignore_index=True)\n"
     ]
    },
    {
     "name": "stdout",
     "output_type": "stream",
     "text": [
      "plate1_12s_10_1_out.csv\n"
     ]
    },
    {
     "name": "stderr",
     "output_type": "stream",
     "text": [
      "/tmp/ipykernel_681725/2269263605.py:12: FutureWarning: The frame.append method is deprecated and will be removed from pandas in a future version. Use pandas.concat instead.\n",
      "  df=df.append(df2,ignore_index=True)\n"
     ]
    },
    {
     "name": "stdout",
     "output_type": "stream",
     "text": [
      "plate1_12s_15_1_out.csv\n"
     ]
    },
    {
     "name": "stderr",
     "output_type": "stream",
     "text": [
      "/tmp/ipykernel_681725/2269263605.py:12: FutureWarning: The frame.append method is deprecated and will be removed from pandas in a future version. Use pandas.concat instead.\n",
      "  df=df.append(df2,ignore_index=True)\n"
     ]
    },
    {
     "name": "stdout",
     "output_type": "stream",
     "text": [
      "plate23_12s_58_2_out.csv\n"
     ]
    },
    {
     "name": "stderr",
     "output_type": "stream",
     "text": [
      "/tmp/ipykernel_681725/2269263605.py:12: FutureWarning: The frame.append method is deprecated and will be removed from pandas in a future version. Use pandas.concat instead.\n",
      "  df=df.append(df2,ignore_index=True)\n"
     ]
    },
    {
     "name": "stdout",
     "output_type": "stream",
     "text": [
      "plate23_12s_26_1_out.csv\n"
     ]
    },
    {
     "name": "stderr",
     "output_type": "stream",
     "text": [
      "/tmp/ipykernel_681725/2269263605.py:12: FutureWarning: The frame.append method is deprecated and will be removed from pandas in a future version. Use pandas.concat instead.\n",
      "  df=df.append(df2,ignore_index=True)\n"
     ]
    },
    {
     "name": "stdout",
     "output_type": "stream",
     "text": [
      "plate1_12s_29_1_out.csv\n"
     ]
    },
    {
     "name": "stderr",
     "output_type": "stream",
     "text": [
      "/tmp/ipykernel_681725/2269263605.py:12: FutureWarning: The frame.append method is deprecated and will be removed from pandas in a future version. Use pandas.concat instead.\n",
      "  df=df.append(df2,ignore_index=True)\n"
     ]
    },
    {
     "name": "stdout",
     "output_type": "stream",
     "text": [
      "plate23_12s_54_2_out.csv\n"
     ]
    },
    {
     "name": "stderr",
     "output_type": "stream",
     "text": [
      "/tmp/ipykernel_681725/2269263605.py:12: FutureWarning: The frame.append method is deprecated and will be removed from pandas in a future version. Use pandas.concat instead.\n",
      "  df=df.append(df2,ignore_index=True)\n"
     ]
    },
    {
     "name": "stdout",
     "output_type": "stream",
     "text": [
      "plate23_12s_6_1_out.csv\n"
     ]
    },
    {
     "name": "stderr",
     "output_type": "stream",
     "text": [
      "/tmp/ipykernel_681725/2269263605.py:12: FutureWarning: The frame.append method is deprecated and will be removed from pandas in a future version. Use pandas.concat instead.\n",
      "  df=df.append(df2,ignore_index=True)\n"
     ]
    },
    {
     "name": "stdout",
     "output_type": "stream",
     "text": [
      "plate23_12s_12_2_out.csv\n"
     ]
    },
    {
     "name": "stderr",
     "output_type": "stream",
     "text": [
      "/tmp/ipykernel_681725/2269263605.py:12: FutureWarning: The frame.append method is deprecated and will be removed from pandas in a future version. Use pandas.concat instead.\n",
      "  df=df.append(df2,ignore_index=True)\n"
     ]
    },
    {
     "name": "stdout",
     "output_type": "stream",
     "text": [
      "plate23_12s_62_1_out.csv\n"
     ]
    },
    {
     "name": "stderr",
     "output_type": "stream",
     "text": [
      "/tmp/ipykernel_681725/2269263605.py:12: FutureWarning: The frame.append method is deprecated and will be removed from pandas in a future version. Use pandas.concat instead.\n",
      "  df=df.append(df2,ignore_index=True)\n"
     ]
    },
    {
     "name": "stdout",
     "output_type": "stream",
     "text": [
      "plate1_12s_17_1_out.csv\n"
     ]
    },
    {
     "name": "stderr",
     "output_type": "stream",
     "text": [
      "/tmp/ipykernel_681725/2269263605.py:12: FutureWarning: The frame.append method is deprecated and will be removed from pandas in a future version. Use pandas.concat instead.\n",
      "  df=df.append(df2,ignore_index=True)\n",
      "/tmp/ipykernel_681725/2269263605.py:12: FutureWarning: The frame.append method is deprecated and will be removed from pandas in a future version. Use pandas.concat instead.\n",
      "  df=df.append(df2,ignore_index=True)\n",
      "/tmp/ipykernel_681725/2269263605.py:12: FutureWarning: The frame.append method is deprecated and will be removed from pandas in a future version. Use pandas.concat instead.\n",
      "  df=df.append(df2,ignore_index=True)\n"
     ]
    },
    {
     "name": "stdout",
     "output_type": "stream",
     "text": [
      "plate23_12s_13_2_out.csv\n",
      "plate23_12s_20_2_out.csv\n",
      "plate23_12s_42_2_out.csv\n"
     ]
    },
    {
     "name": "stderr",
     "output_type": "stream",
     "text": [
      "/tmp/ipykernel_681725/2269263605.py:12: FutureWarning: The frame.append method is deprecated and will be removed from pandas in a future version. Use pandas.concat instead.\n",
      "  df=df.append(df2,ignore_index=True)\n",
      "/tmp/ipykernel_681725/2269263605.py:12: FutureWarning: The frame.append method is deprecated and will be removed from pandas in a future version. Use pandas.concat instead.\n",
      "  df=df.append(df2,ignore_index=True)\n"
     ]
    },
    {
     "name": "stdout",
     "output_type": "stream",
     "text": [
      "plate1_12s_46_2_out.csv\n",
      "plate23_12s_18_1_out.csv\n"
     ]
    },
    {
     "name": "stderr",
     "output_type": "stream",
     "text": [
      "/tmp/ipykernel_681725/2269263605.py:12: FutureWarning: The frame.append method is deprecated and will be removed from pandas in a future version. Use pandas.concat instead.\n",
      "  df=df.append(df2,ignore_index=True)\n"
     ]
    },
    {
     "name": "stdout",
     "output_type": "stream",
     "text": [
      "plate23_12s_59_2_out.csv\n"
     ]
    },
    {
     "name": "stderr",
     "output_type": "stream",
     "text": [
      "/tmp/ipykernel_681725/2269263605.py:12: FutureWarning: The frame.append method is deprecated and will be removed from pandas in a future version. Use pandas.concat instead.\n",
      "  df=df.append(df2,ignore_index=True)\n"
     ]
    },
    {
     "name": "stdout",
     "output_type": "stream",
     "text": [
      "plate1_12s_47_1_out.csv\n"
     ]
    },
    {
     "name": "stderr",
     "output_type": "stream",
     "text": [
      "/tmp/ipykernel_681725/2269263605.py:12: FutureWarning: The frame.append method is deprecated and will be removed from pandas in a future version. Use pandas.concat instead.\n",
      "  df=df.append(df2,ignore_index=True)\n"
     ]
    },
    {
     "name": "stdout",
     "output_type": "stream",
     "text": [
      "plate1_12s_59_1_out.csv\n"
     ]
    },
    {
     "name": "stderr",
     "output_type": "stream",
     "text": [
      "/tmp/ipykernel_681725/2269263605.py:12: FutureWarning: The frame.append method is deprecated and will be removed from pandas in a future version. Use pandas.concat instead.\n",
      "  df=df.append(df2,ignore_index=True)\n"
     ]
    },
    {
     "name": "stdout",
     "output_type": "stream",
     "text": [
      "plate23_12s_7_1_out.csv\n"
     ]
    },
    {
     "name": "stderr",
     "output_type": "stream",
     "text": [
      "/tmp/ipykernel_681725/2269263605.py:12: FutureWarning: The frame.append method is deprecated and will be removed from pandas in a future version. Use pandas.concat instead.\n",
      "  df=df.append(df2,ignore_index=True)\n"
     ]
    },
    {
     "name": "stdout",
     "output_type": "stream",
     "text": [
      "plate1_12s_14_1_out.csv\n"
     ]
    },
    {
     "name": "stderr",
     "output_type": "stream",
     "text": [
      "/tmp/ipykernel_681725/2269263605.py:12: FutureWarning: The frame.append method is deprecated and will be removed from pandas in a future version. Use pandas.concat instead.\n",
      "  df=df.append(df2,ignore_index=True)\n",
      "/tmp/ipykernel_681725/2269263605.py:12: FutureWarning: The frame.append method is deprecated and will be removed from pandas in a future version. Use pandas.concat instead.\n",
      "  df=df.append(df2,ignore_index=True)\n",
      "/tmp/ipykernel_681725/2269263605.py:12: FutureWarning: The frame.append method is deprecated and will be removed from pandas in a future version. Use pandas.concat instead.\n",
      "  df=df.append(df2,ignore_index=True)\n"
     ]
    },
    {
     "name": "stdout",
     "output_type": "stream",
     "text": [
      "plate23_12s_4_1_out.csv\n",
      "plate1_12s_57_1_out.csv\n",
      "plate1_12s_43_1_out.csv\n"
     ]
    },
    {
     "name": "stderr",
     "output_type": "stream",
     "text": [
      "/tmp/ipykernel_681725/2269263605.py:12: FutureWarning: The frame.append method is deprecated and will be removed from pandas in a future version. Use pandas.concat instead.\n",
      "  df=df.append(df2,ignore_index=True)\n"
     ]
    },
    {
     "name": "stdout",
     "output_type": "stream",
     "text": [
      "plate23_12s_6_2_out.csv\n"
     ]
    },
    {
     "name": "stderr",
     "output_type": "stream",
     "text": [
      "/tmp/ipykernel_681725/2269263605.py:12: FutureWarning: The frame.append method is deprecated and will be removed from pandas in a future version. Use pandas.concat instead.\n",
      "  df=df.append(df2,ignore_index=True)\n"
     ]
    },
    {
     "name": "stdout",
     "output_type": "stream",
     "text": [
      "plate23_12s_8_1_out.csv\n"
     ]
    },
    {
     "name": "stderr",
     "output_type": "stream",
     "text": [
      "/tmp/ipykernel_681725/2269263605.py:12: FutureWarning: The frame.append method is deprecated and will be removed from pandas in a future version. Use pandas.concat instead.\n",
      "  df=df.append(df2,ignore_index=True)\n",
      "/tmp/ipykernel_681725/2269263605.py:12: FutureWarning: The frame.append method is deprecated and will be removed from pandas in a future version. Use pandas.concat instead.\n",
      "  df=df.append(df2,ignore_index=True)\n",
      "/tmp/ipykernel_681725/2269263605.py:12: FutureWarning: The frame.append method is deprecated and will be removed from pandas in a future version. Use pandas.concat instead.\n",
      "  df=df.append(df2,ignore_index=True)\n"
     ]
    },
    {
     "name": "stdout",
     "output_type": "stream",
     "text": [
      "plate23_12s_66_2_out.csv\n",
      "plate23_12s_30_2_out.csv\n",
      "plate1_12s_25_2_out.csv\n"
     ]
    },
    {
     "name": "stderr",
     "output_type": "stream",
     "text": [
      "/tmp/ipykernel_681725/2269263605.py:12: FutureWarning: The frame.append method is deprecated and will be removed from pandas in a future version. Use pandas.concat instead.\n",
      "  df=df.append(df2,ignore_index=True)\n"
     ]
    },
    {
     "name": "stdout",
     "output_type": "stream",
     "text": [
      "plate23_12s_73_1_out.csv\n"
     ]
    },
    {
     "name": "stderr",
     "output_type": "stream",
     "text": [
      "/tmp/ipykernel_681725/2269263605.py:12: FutureWarning: The frame.append method is deprecated and will be removed from pandas in a future version. Use pandas.concat instead.\n",
      "  df=df.append(df2,ignore_index=True)\n"
     ]
    },
    {
     "name": "stdout",
     "output_type": "stream",
     "text": [
      "plate23_12s_8_2_out.csv\n"
     ]
    },
    {
     "name": "stderr",
     "output_type": "stream",
     "text": [
      "/tmp/ipykernel_681725/2269263605.py:12: FutureWarning: The frame.append method is deprecated and will be removed from pandas in a future version. Use pandas.concat instead.\n",
      "  df=df.append(df2,ignore_index=True)\n"
     ]
    },
    {
     "name": "stdout",
     "output_type": "stream",
     "text": [
      "plate1_12s_43_2_out.csv\n"
     ]
    },
    {
     "name": "stderr",
     "output_type": "stream",
     "text": [
      "/tmp/ipykernel_681725/2269263605.py:12: FutureWarning: The frame.append method is deprecated and will be removed from pandas in a future version. Use pandas.concat instead.\n",
      "  df=df.append(df2,ignore_index=True)\n"
     ]
    },
    {
     "name": "stdout",
     "output_type": "stream",
     "text": [
      "plate23_12s_27_2_out.csv\n"
     ]
    },
    {
     "name": "stderr",
     "output_type": "stream",
     "text": [
      "/tmp/ipykernel_681725/2269263605.py:12: FutureWarning: The frame.append method is deprecated and will be removed from pandas in a future version. Use pandas.concat instead.\n",
      "  df=df.append(df2,ignore_index=True)\n"
     ]
    },
    {
     "name": "stdout",
     "output_type": "stream",
     "text": [
      "plate23_12s_9_1_out.csv\n"
     ]
    },
    {
     "name": "stderr",
     "output_type": "stream",
     "text": [
      "/tmp/ipykernel_681725/2269263605.py:12: FutureWarning: The frame.append method is deprecated and will be removed from pandas in a future version. Use pandas.concat instead.\n",
      "  df=df.append(df2,ignore_index=True)\n"
     ]
    },
    {
     "name": "stdout",
     "output_type": "stream",
     "text": [
      "plate23_12s_73_2_out.csv\n"
     ]
    },
    {
     "name": "stderr",
     "output_type": "stream",
     "text": [
      "/tmp/ipykernel_681725/2269263605.py:12: FutureWarning: The frame.append method is deprecated and will be removed from pandas in a future version. Use pandas.concat instead.\n",
      "  df=df.append(df2,ignore_index=True)\n",
      "/tmp/ipykernel_681725/2269263605.py:12: FutureWarning: The frame.append method is deprecated and will be removed from pandas in a future version. Use pandas.concat instead.\n",
      "  df=df.append(df2,ignore_index=True)\n"
     ]
    },
    {
     "name": "stdout",
     "output_type": "stream",
     "text": [
      "plate23_12s_44_2_out.csv\n",
      "plate1_12s_11_1_out.csv\n"
     ]
    },
    {
     "name": "stderr",
     "output_type": "stream",
     "text": [
      "/tmp/ipykernel_681725/2269263605.py:12: FutureWarning: The frame.append method is deprecated and will be removed from pandas in a future version. Use pandas.concat instead.\n",
      "  df=df.append(df2,ignore_index=True)\n"
     ]
    },
    {
     "name": "stdout",
     "output_type": "stream",
     "text": [
      "plate23_12s_59_1_out.csv\n"
     ]
    },
    {
     "name": "stderr",
     "output_type": "stream",
     "text": [
      "/tmp/ipykernel_681725/2269263605.py:12: FutureWarning: The frame.append method is deprecated and will be removed from pandas in a future version. Use pandas.concat instead.\n",
      "  df=df.append(df2,ignore_index=True)\n"
     ]
    },
    {
     "name": "stdout",
     "output_type": "stream",
     "text": [
      "plate23_12s_5_2_out.csv\n"
     ]
    },
    {
     "name": "stderr",
     "output_type": "stream",
     "text": [
      "/tmp/ipykernel_681725/2269263605.py:12: FutureWarning: The frame.append method is deprecated and will be removed from pandas in a future version. Use pandas.concat instead.\n",
      "  df=df.append(df2,ignore_index=True)\n",
      "/tmp/ipykernel_681725/2269263605.py:12: FutureWarning: The frame.append method is deprecated and will be removed from pandas in a future version. Use pandas.concat instead.\n",
      "  df=df.append(df2,ignore_index=True)\n"
     ]
    },
    {
     "name": "stdout",
     "output_type": "stream",
     "text": [
      "plate23_12s_44_1_out.csv\n",
      "plate23_12s_15_2_out.csv\n"
     ]
    },
    {
     "name": "stderr",
     "output_type": "stream",
     "text": [
      "/tmp/ipykernel_681725/2269263605.py:12: FutureWarning: The frame.append method is deprecated and will be removed from pandas in a future version. Use pandas.concat instead.\n",
      "  df=df.append(df2,ignore_index=True)\n"
     ]
    },
    {
     "name": "stdout",
     "output_type": "stream",
     "text": [
      "plate1_12s_33_1_out.csv\n"
     ]
    },
    {
     "name": "stderr",
     "output_type": "stream",
     "text": [
      "/tmp/ipykernel_681725/2269263605.py:12: FutureWarning: The frame.append method is deprecated and will be removed from pandas in a future version. Use pandas.concat instead.\n",
      "  df=df.append(df2,ignore_index=True)\n",
      "/tmp/ipykernel_681725/2269263605.py:12: FutureWarning: The frame.append method is deprecated and will be removed from pandas in a future version. Use pandas.concat instead.\n",
      "  df=df.append(df2,ignore_index=True)\n",
      "/tmp/ipykernel_681725/2269263605.py:12: FutureWarning: The frame.append method is deprecated and will be removed from pandas in a future version. Use pandas.concat instead.\n",
      "  df=df.append(df2,ignore_index=True)\n"
     ]
    },
    {
     "name": "stdout",
     "output_type": "stream",
     "text": [
      "plate1_12s_39_2_out.csv\n",
      "plate1_12s_9_1_out.csv\n",
      "plate1_12s_11_2_out.csv\n"
     ]
    },
    {
     "name": "stderr",
     "output_type": "stream",
     "text": [
      "/tmp/ipykernel_681725/2269263605.py:12: FutureWarning: The frame.append method is deprecated and will be removed from pandas in a future version. Use pandas.concat instead.\n",
      "  df=df.append(df2,ignore_index=True)\n"
     ]
    },
    {
     "name": "stdout",
     "output_type": "stream",
     "text": [
      "plate23_12s_35_2_out.csv\n"
     ]
    },
    {
     "name": "stderr",
     "output_type": "stream",
     "text": [
      "/tmp/ipykernel_681725/2269263605.py:12: FutureWarning: The frame.append method is deprecated and will be removed from pandas in a future version. Use pandas.concat instead.\n",
      "  df=df.append(df2,ignore_index=True)\n"
     ]
    },
    {
     "name": "stdout",
     "output_type": "stream",
     "text": [
      "plate23_12s_54_1_out.csv\n"
     ]
    },
    {
     "name": "stderr",
     "output_type": "stream",
     "text": [
      "/tmp/ipykernel_681725/2269263605.py:12: FutureWarning: The frame.append method is deprecated and will be removed from pandas in a future version. Use pandas.concat instead.\n",
      "  df=df.append(df2,ignore_index=True)\n",
      "/tmp/ipykernel_681725/2269263605.py:12: FutureWarning: The frame.append method is deprecated and will be removed from pandas in a future version. Use pandas.concat instead.\n",
      "  df=df.append(df2,ignore_index=True)\n",
      "/tmp/ipykernel_681725/2269263605.py:12: FutureWarning: The frame.append method is deprecated and will be removed from pandas in a future version. Use pandas.concat instead.\n",
      "  df=df.append(df2,ignore_index=True)\n"
     ]
    },
    {
     "name": "stdout",
     "output_type": "stream",
     "text": [
      "plate23_12s_68_2_out.csv\n",
      "plate1_12s_3_2_out.csv\n",
      "plate23_12s_56_1_out.csv\n"
     ]
    },
    {
     "name": "stderr",
     "output_type": "stream",
     "text": [
      "/tmp/ipykernel_681725/2269263605.py:12: FutureWarning: The frame.append method is deprecated and will be removed from pandas in a future version. Use pandas.concat instead.\n",
      "  df=df.append(df2,ignore_index=True)\n"
     ]
    },
    {
     "name": "stdout",
     "output_type": "stream",
     "text": [
      "plate1_12s_25_1_out.csv\n"
     ]
    },
    {
     "name": "stderr",
     "output_type": "stream",
     "text": [
      "/tmp/ipykernel_681725/2269263605.py:12: FutureWarning: The frame.append method is deprecated and will be removed from pandas in a future version. Use pandas.concat instead.\n",
      "  df=df.append(df2,ignore_index=True)\n",
      "/tmp/ipykernel_681725/2269263605.py:12: FutureWarning: The frame.append method is deprecated and will be removed from pandas in a future version. Use pandas.concat instead.\n",
      "  df=df.append(df2,ignore_index=True)\n"
     ]
    },
    {
     "name": "stdout",
     "output_type": "stream",
     "text": [
      "plate23_12s_22_1_out.csv\n",
      "plate23_12s_17_1_out.csv\n"
     ]
    },
    {
     "name": "stderr",
     "output_type": "stream",
     "text": [
      "/tmp/ipykernel_681725/2269263605.py:6: DtypeWarning: Columns (6,8,10) have mixed types. Specify dtype option on import or set low_memory=False.\n",
      "  file = pd.read_table(os.path.join(fld,file_nm))\n",
      "/tmp/ipykernel_681725/2269263605.py:12: FutureWarning: The frame.append method is deprecated and will be removed from pandas in a future version. Use pandas.concat instead.\n",
      "  df=df.append(df2,ignore_index=True)\n",
      "/tmp/ipykernel_681725/2269263605.py:12: FutureWarning: The frame.append method is deprecated and will be removed from pandas in a future version. Use pandas.concat instead.\n",
      "  df=df.append(df2,ignore_index=True)\n"
     ]
    },
    {
     "name": "stdout",
     "output_type": "stream",
     "text": [
      "plate23_12s_71_2_out.csv\n",
      "plate23_12s_25_1_out.csv\n"
     ]
    },
    {
     "name": "stderr",
     "output_type": "stream",
     "text": [
      "/tmp/ipykernel_681725/2269263605.py:6: DtypeWarning: Columns (1,4,9) have mixed types. Specify dtype option on import or set low_memory=False.\n",
      "  file = pd.read_table(os.path.join(fld,file_nm))\n",
      "/tmp/ipykernel_681725/2269263605.py:12: FutureWarning: The frame.append method is deprecated and will be removed from pandas in a future version. Use pandas.concat instead.\n",
      "  df=df.append(df2,ignore_index=True)\n"
     ]
    },
    {
     "name": "stdout",
     "output_type": "stream",
     "text": [
      "plate23_12s_29_2_out.csv\n"
     ]
    },
    {
     "name": "stderr",
     "output_type": "stream",
     "text": [
      "/tmp/ipykernel_681725/2269263605.py:12: FutureWarning: The frame.append method is deprecated and will be removed from pandas in a future version. Use pandas.concat instead.\n",
      "  df=df.append(df2,ignore_index=True)\n"
     ]
    },
    {
     "name": "stdout",
     "output_type": "stream",
     "text": [
      "plate1_12s_24_1_out.csv\n"
     ]
    },
    {
     "name": "stderr",
     "output_type": "stream",
     "text": [
      "/tmp/ipykernel_681725/2269263605.py:12: FutureWarning: The frame.append method is deprecated and will be removed from pandas in a future version. Use pandas.concat instead.\n",
      "  df=df.append(df2,ignore_index=True)\n"
     ]
    },
    {
     "name": "stdout",
     "output_type": "stream",
     "text": [
      "plate1_12s_10_2_out.csv\n"
     ]
    },
    {
     "name": "stderr",
     "output_type": "stream",
     "text": [
      "/tmp/ipykernel_681725/2269263605.py:12: FutureWarning: The frame.append method is deprecated and will be removed from pandas in a future version. Use pandas.concat instead.\n",
      "  df=df.append(df2,ignore_index=True)\n",
      "/tmp/ipykernel_681725/2269263605.py:12: FutureWarning: The frame.append method is deprecated and will be removed from pandas in a future version. Use pandas.concat instead.\n",
      "  df=df.append(df2,ignore_index=True)\n"
     ]
    },
    {
     "name": "stdout",
     "output_type": "stream",
     "text": [
      "plate1_12s_30_2_out.csv\n",
      "plate1_12s_34_2_out.csv\n"
     ]
    },
    {
     "name": "stderr",
     "output_type": "stream",
     "text": [
      "/tmp/ipykernel_681725/2269263605.py:12: FutureWarning: The frame.append method is deprecated and will be removed from pandas in a future version. Use pandas.concat instead.\n",
      "  df=df.append(df2,ignore_index=True)\n",
      "/tmp/ipykernel_681725/2269263605.py:12: FutureWarning: The frame.append method is deprecated and will be removed from pandas in a future version. Use pandas.concat instead.\n",
      "  df=df.append(df2,ignore_index=True)\n",
      "/tmp/ipykernel_681725/2269263605.py:12: FutureWarning: The frame.append method is deprecated and will be removed from pandas in a future version. Use pandas.concat instead.\n",
      "  df=df.append(df2,ignore_index=True)\n"
     ]
    },
    {
     "name": "stdout",
     "output_type": "stream",
     "text": [
      "plate23_12s_34_2_out.csv\n",
      "plate23_12s_37_1_out.csv\n",
      "plate1_12s_42_2_out.csv\n"
     ]
    },
    {
     "name": "stderr",
     "output_type": "stream",
     "text": [
      "/tmp/ipykernel_681725/2269263605.py:12: FutureWarning: The frame.append method is deprecated and will be removed from pandas in a future version. Use pandas.concat instead.\n",
      "  df=df.append(df2,ignore_index=True)\n"
     ]
    },
    {
     "name": "stdout",
     "output_type": "stream",
     "text": [
      "plate23_12s_40_1_out.csv\n"
     ]
    },
    {
     "name": "stderr",
     "output_type": "stream",
     "text": [
      "/tmp/ipykernel_681725/2269263605.py:12: FutureWarning: The frame.append method is deprecated and will be removed from pandas in a future version. Use pandas.concat instead.\n",
      "  df=df.append(df2,ignore_index=True)\n"
     ]
    },
    {
     "name": "stdout",
     "output_type": "stream",
     "text": [
      "plate1_12s_13_2_out.csv\n"
     ]
    },
    {
     "name": "stderr",
     "output_type": "stream",
     "text": [
      "/tmp/ipykernel_681725/2269263605.py:12: FutureWarning: The frame.append method is deprecated and will be removed from pandas in a future version. Use pandas.concat instead.\n",
      "  df=df.append(df2,ignore_index=True)\n",
      "/tmp/ipykernel_681725/2269263605.py:12: FutureWarning: The frame.append method is deprecated and will be removed from pandas in a future version. Use pandas.concat instead.\n",
      "  df=df.append(df2,ignore_index=True)\n"
     ]
    },
    {
     "name": "stdout",
     "output_type": "stream",
     "text": [
      "plate1_12s_3_1_out.csv\n",
      "plate23_12s_65_2_out.csv\n"
     ]
    },
    {
     "name": "stderr",
     "output_type": "stream",
     "text": [
      "/tmp/ipykernel_681725/2269263605.py:12: FutureWarning: The frame.append method is deprecated and will be removed from pandas in a future version. Use pandas.concat instead.\n",
      "  df=df.append(df2,ignore_index=True)\n",
      "/tmp/ipykernel_681725/2269263605.py:12: FutureWarning: The frame.append method is deprecated and will be removed from pandas in a future version. Use pandas.concat instead.\n",
      "  df=df.append(df2,ignore_index=True)\n"
     ]
    },
    {
     "name": "stdout",
     "output_type": "stream",
     "text": [
      "plate1_12s_36_2_out.csv\n",
      "plate1_12s_54_2_out.csv\n"
     ]
    },
    {
     "name": "stderr",
     "output_type": "stream",
     "text": [
      "/tmp/ipykernel_681725/2269263605.py:12: FutureWarning: The frame.append method is deprecated and will be removed from pandas in a future version. Use pandas.concat instead.\n",
      "  df=df.append(df2,ignore_index=True)\n"
     ]
    },
    {
     "name": "stdout",
     "output_type": "stream",
     "text": [
      "plate23_12s_29_1_out.csv\n"
     ]
    },
    {
     "name": "stderr",
     "output_type": "stream",
     "text": [
      "/tmp/ipykernel_681725/2269263605.py:12: FutureWarning: The frame.append method is deprecated and will be removed from pandas in a future version. Use pandas.concat instead.\n",
      "  df=df.append(df2,ignore_index=True)\n"
     ]
    },
    {
     "name": "stdout",
     "output_type": "stream",
     "text": [
      "plate1_12s_20_1_out.csv\n"
     ]
    },
    {
     "name": "stderr",
     "output_type": "stream",
     "text": [
      "/tmp/ipykernel_681725/2269263605.py:12: FutureWarning: The frame.append method is deprecated and will be removed from pandas in a future version. Use pandas.concat instead.\n",
      "  df=df.append(df2,ignore_index=True)\n"
     ]
    },
    {
     "name": "stdout",
     "output_type": "stream",
     "text": [
      "plate23_12s_45_1_out.csv\n"
     ]
    },
    {
     "name": "stderr",
     "output_type": "stream",
     "text": [
      "/tmp/ipykernel_681725/2269263605.py:12: FutureWarning: The frame.append method is deprecated and will be removed from pandas in a future version. Use pandas.concat instead.\n",
      "  df=df.append(df2,ignore_index=True)\n"
     ]
    },
    {
     "name": "stdout",
     "output_type": "stream",
     "text": [
      "plate23_12s_27_1_out.csv\n"
     ]
    },
    {
     "name": "stderr",
     "output_type": "stream",
     "text": [
      "/tmp/ipykernel_681725/2269263605.py:12: FutureWarning: The frame.append method is deprecated and will be removed from pandas in a future version. Use pandas.concat instead.\n",
      "  df=df.append(df2,ignore_index=True)\n"
     ]
    },
    {
     "name": "stdout",
     "output_type": "stream",
     "text": [
      "plate23_12s_46_2_out.csv\n"
     ]
    },
    {
     "name": "stderr",
     "output_type": "stream",
     "text": [
      "/tmp/ipykernel_681725/2269263605.py:12: FutureWarning: The frame.append method is deprecated and will be removed from pandas in a future version. Use pandas.concat instead.\n",
      "  df=df.append(df2,ignore_index=True)\n"
     ]
    },
    {
     "name": "stdout",
     "output_type": "stream",
     "text": [
      "plate1_12s_50_2_out.csv\n"
     ]
    },
    {
     "name": "stderr",
     "output_type": "stream",
     "text": [
      "/tmp/ipykernel_681725/2269263605.py:12: FutureWarning: The frame.append method is deprecated and will be removed from pandas in a future version. Use pandas.concat instead.\n",
      "  df=df.append(df2,ignore_index=True)\n",
      "/tmp/ipykernel_681725/2269263605.py:12: FutureWarning: The frame.append method is deprecated and will be removed from pandas in a future version. Use pandas.concat instead.\n",
      "  df=df.append(df2,ignore_index=True)\n"
     ]
    },
    {
     "name": "stdout",
     "output_type": "stream",
     "text": [
      "plate1_12s_4_2_out.csv\n",
      "plate23_12s_32_2_out.csv\n"
     ]
    },
    {
     "name": "stderr",
     "output_type": "stream",
     "text": [
      "/tmp/ipykernel_681725/2269263605.py:12: FutureWarning: The frame.append method is deprecated and will be removed from pandas in a future version. Use pandas.concat instead.\n",
      "  df=df.append(df2,ignore_index=True)\n"
     ]
    },
    {
     "name": "stdout",
     "output_type": "stream",
     "text": [
      "plate23_12s_17_2_out.csv\n"
     ]
    },
    {
     "name": "stderr",
     "output_type": "stream",
     "text": [
      "/tmp/ipykernel_681725/2269263605.py:12: FutureWarning: The frame.append method is deprecated and will be removed from pandas in a future version. Use pandas.concat instead.\n",
      "  df=df.append(df2,ignore_index=True)\n",
      "/tmp/ipykernel_681725/2269263605.py:12: FutureWarning: The frame.append method is deprecated and will be removed from pandas in a future version. Use pandas.concat instead.\n",
      "  df=df.append(df2,ignore_index=True)\n"
     ]
    },
    {
     "name": "stdout",
     "output_type": "stream",
     "text": [
      "plate23_12s_72_1_out.csv\n",
      "plate23_12s_57_1_out.csv\n"
     ]
    },
    {
     "name": "stderr",
     "output_type": "stream",
     "text": [
      "/tmp/ipykernel_681725/2269263605.py:12: FutureWarning: The frame.append method is deprecated and will be removed from pandas in a future version. Use pandas.concat instead.\n",
      "  df=df.append(df2,ignore_index=True)\n",
      "/tmp/ipykernel_681725/2269263605.py:12: FutureWarning: The frame.append method is deprecated and will be removed from pandas in a future version. Use pandas.concat instead.\n",
      "  df=df.append(df2,ignore_index=True)\n",
      "/tmp/ipykernel_681725/2269263605.py:12: FutureWarning: The frame.append method is deprecated and will be removed from pandas in a future version. Use pandas.concat instead.\n",
      "  df=df.append(df2,ignore_index=True)\n"
     ]
    },
    {
     "name": "stdout",
     "output_type": "stream",
     "text": [
      "plate1_12s_36_1_out.csv\n",
      "plate23_12s_67_1_out.csv\n",
      "plate23_12s_11_2_out.csv\n"
     ]
    },
    {
     "name": "stderr",
     "output_type": "stream",
     "text": [
      "/tmp/ipykernel_681725/2269263605.py:12: FutureWarning: The frame.append method is deprecated and will be removed from pandas in a future version. Use pandas.concat instead.\n",
      "  df=df.append(df2,ignore_index=True)\n"
     ]
    },
    {
     "name": "stdout",
     "output_type": "stream",
     "text": [
      "plate1_12s_34_1_out.csv\n"
     ]
    },
    {
     "name": "stderr",
     "output_type": "stream",
     "text": [
      "/tmp/ipykernel_681725/2269263605.py:12: FutureWarning: The frame.append method is deprecated and will be removed from pandas in a future version. Use pandas.concat instead.\n",
      "  df=df.append(df2,ignore_index=True)\n"
     ]
    },
    {
     "name": "stdout",
     "output_type": "stream",
     "text": [
      "plate23_12s_42_1_out.csv\n"
     ]
    },
    {
     "name": "stderr",
     "output_type": "stream",
     "text": [
      "/tmp/ipykernel_681725/2269263605.py:12: FutureWarning: The frame.append method is deprecated and will be removed from pandas in a future version. Use pandas.concat instead.\n",
      "  df=df.append(df2,ignore_index=True)\n"
     ]
    },
    {
     "name": "stdout",
     "output_type": "stream",
     "text": [
      "plate1_12s_12_1_out.csv\n"
     ]
    },
    {
     "name": "stderr",
     "output_type": "stream",
     "text": [
      "/tmp/ipykernel_681725/2269263605.py:12: FutureWarning: The frame.append method is deprecated and will be removed from pandas in a future version. Use pandas.concat instead.\n",
      "  df=df.append(df2,ignore_index=True)\n"
     ]
    },
    {
     "name": "stdout",
     "output_type": "stream",
     "text": [
      "plate1_12s_26_2_out.csv\n"
     ]
    },
    {
     "name": "stderr",
     "output_type": "stream",
     "text": [
      "/tmp/ipykernel_681725/2269263605.py:12: FutureWarning: The frame.append method is deprecated and will be removed from pandas in a future version. Use pandas.concat instead.\n",
      "  df=df.append(df2,ignore_index=True)\n",
      "/tmp/ipykernel_681725/2269263605.py:12: FutureWarning: The frame.append method is deprecated and will be removed from pandas in a future version. Use pandas.concat instead.\n",
      "  df=df.append(df2,ignore_index=True)\n"
     ]
    },
    {
     "name": "stdout",
     "output_type": "stream",
     "text": [
      "plate1_12s_53_2_out.csv\n",
      "plate1_12s_42_1_out.csv\n"
     ]
    },
    {
     "name": "stderr",
     "output_type": "stream",
     "text": [
      "/tmp/ipykernel_681725/2269263605.py:12: FutureWarning: The frame.append method is deprecated and will be removed from pandas in a future version. Use pandas.concat instead.\n",
      "  df=df.append(df2,ignore_index=True)\n"
     ]
    },
    {
     "name": "stdout",
     "output_type": "stream",
     "text": [
      "plate23_12s_16_1_out.csv\n"
     ]
    },
    {
     "name": "stderr",
     "output_type": "stream",
     "text": [
      "/tmp/ipykernel_681725/2269263605.py:12: FutureWarning: The frame.append method is deprecated and will be removed from pandas in a future version. Use pandas.concat instead.\n",
      "  df=df.append(df2,ignore_index=True)\n",
      "/tmp/ipykernel_681725/2269263605.py:12: FutureWarning: The frame.append method is deprecated and will be removed from pandas in a future version. Use pandas.concat instead.\n",
      "  df=df.append(df2,ignore_index=True)\n"
     ]
    },
    {
     "name": "stdout",
     "output_type": "stream",
     "text": [
      "plate1_12s_19_1_out.csv\n",
      "plate23_12s_49_2_out.csv\n"
     ]
    },
    {
     "name": "stderr",
     "output_type": "stream",
     "text": [
      "/tmp/ipykernel_681725/2269263605.py:12: FutureWarning: The frame.append method is deprecated and will be removed from pandas in a future version. Use pandas.concat instead.\n",
      "  df=df.append(df2,ignore_index=True)\n",
      "/tmp/ipykernel_681725/2269263605.py:12: FutureWarning: The frame.append method is deprecated and will be removed from pandas in a future version. Use pandas.concat instead.\n",
      "  df=df.append(df2,ignore_index=True)\n",
      "/tmp/ipykernel_681725/2269263605.py:12: FutureWarning: The frame.append method is deprecated and will be removed from pandas in a future version. Use pandas.concat instead.\n",
      "  df=df.append(df2,ignore_index=True)\n"
     ]
    },
    {
     "name": "stdout",
     "output_type": "stream",
     "text": [
      "plate23_12s_2_1_out.csv\n",
      "plate23_12s_41_2_out.csv\n",
      "plate23_12s_41_1_out.csv\n"
     ]
    },
    {
     "name": "stderr",
     "output_type": "stream",
     "text": [
      "/tmp/ipykernel_681725/2269263605.py:12: FutureWarning: The frame.append method is deprecated and will be removed from pandas in a future version. Use pandas.concat instead.\n",
      "  df=df.append(df2,ignore_index=True)\n"
     ]
    },
    {
     "name": "stdout",
     "output_type": "stream",
     "text": [
      "plate1_12s_45_2_out.csv\n"
     ]
    },
    {
     "name": "stderr",
     "output_type": "stream",
     "text": [
      "/tmp/ipykernel_681725/2269263605.py:12: FutureWarning: The frame.append method is deprecated and will be removed from pandas in a future version. Use pandas.concat instead.\n",
      "  df=df.append(df2,ignore_index=True)\n",
      "/tmp/ipykernel_681725/2269263605.py:12: FutureWarning: The frame.append method is deprecated and will be removed from pandas in a future version. Use pandas.concat instead.\n",
      "  df=df.append(df2,ignore_index=True)\n"
     ]
    },
    {
     "name": "stdout",
     "output_type": "stream",
     "text": [
      "plate23_12s_16_2_out.csv\n",
      "plate23_12s_61_1_out.csv\n"
     ]
    },
    {
     "name": "stderr",
     "output_type": "stream",
     "text": [
      "/tmp/ipykernel_681725/2269263605.py:12: FutureWarning: The frame.append method is deprecated and will be removed from pandas in a future version. Use pandas.concat instead.\n",
      "  df=df.append(df2,ignore_index=True)\n"
     ]
    },
    {
     "name": "stdout",
     "output_type": "stream",
     "text": [
      "plate1_12s_54_1_out.csv\n"
     ]
    },
    {
     "name": "stderr",
     "output_type": "stream",
     "text": [
      "/tmp/ipykernel_681725/2269263605.py:12: FutureWarning: The frame.append method is deprecated and will be removed from pandas in a future version. Use pandas.concat instead.\n",
      "  df=df.append(df2,ignore_index=True)\n"
     ]
    }
   ],
   "source": [
    "col_nms=['file_nm','sci_nm','count']\n",
    "df=pd.DataFrame(columns=col_nms)\n",
    "df_seqdata=pd.DataFrame(columns=['file_nm','nuc_seq','count'])\n",
    "for file_nm in os.listdir(fld):\n",
    "    print(file_nm)\n",
    "    file = pd.read_table(os.path.join(fld,file_nm))\n",
    "    unique_scinames = np.unique(file.SCIENTIFIC_NAME.dropna())\n",
    "    list_of_vals=[]\n",
    "    for sci_nm in unique_scinames:\n",
    "        list_of_vals.append([file_nm,sci_nm,len(file[file.SCIENTIFIC_NAME==sci_nm])])\n",
    "    df2 = pd.DataFrame(list_of_vals, columns=col_nms)\n",
    "    df=df.append(df2,ignore_index=True)"
   ]
  },
  {
   "cell_type": "code",
   "execution_count": 174,
   "id": "a065032c",
   "metadata": {},
   "outputs": [
    {
     "data": {
      "text/html": [
       "<div>\n",
       "<style scoped>\n",
       "    .dataframe tbody tr th:only-of-type {\n",
       "        vertical-align: middle;\n",
       "    }\n",
       "\n",
       "    .dataframe tbody tr th {\n",
       "        vertical-align: top;\n",
       "    }\n",
       "\n",
       "    .dataframe thead th {\n",
       "        text-align: right;\n",
       "    }\n",
       "</style>\n",
       "<table border=\"1\" class=\"dataframe\">\n",
       "  <thead>\n",
       "    <tr style=\"text-align: right;\">\n",
       "      <th></th>\n",
       "      <th>file_nm</th>\n",
       "      <th>sci_nm</th>\n",
       "      <th>count</th>\n",
       "    </tr>\n",
       "  </thead>\n",
       "  <tbody>\n",
       "    <tr>\n",
       "      <th>5</th>\n",
       "      <td>plate1_12s_13_1_out.csv</td>\n",
       "      <td>Gryllodes</td>\n",
       "      <td>234</td>\n",
       "    </tr>\n",
       "    <tr>\n",
       "      <th>11</th>\n",
       "      <td>plate1_12s_1_1_out.csv</td>\n",
       "      <td>Gryllodes</td>\n",
       "      <td>721</td>\n",
       "    </tr>\n",
       "    <tr>\n",
       "      <th>8</th>\n",
       "      <td>plate1_12s_22_1_out.csv</td>\n",
       "      <td>Gryllodes</td>\n",
       "      <td>1886</td>\n",
       "    </tr>\n",
       "    <tr>\n",
       "      <th>7</th>\n",
       "      <td>plate1_12s_22_2_out.csv</td>\n",
       "      <td>Gryllodes</td>\n",
       "      <td>1749</td>\n",
       "    </tr>\n",
       "    <tr>\n",
       "      <th>19</th>\n",
       "      <td>plate1_12s_24_1_out.csv</td>\n",
       "      <td>Gryllodes</td>\n",
       "      <td>395</td>\n",
       "    </tr>\n",
       "    <tr>\n",
       "      <th>0</th>\n",
       "      <td>plate1_12s_24_2_out.csv</td>\n",
       "      <td>Gryllodes</td>\n",
       "      <td>385</td>\n",
       "    </tr>\n",
       "    <tr>\n",
       "      <th>14</th>\n",
       "      <td>plate1_12s_29_1_out.csv</td>\n",
       "      <td>Gryllodes</td>\n",
       "      <td>501</td>\n",
       "    </tr>\n",
       "    <tr>\n",
       "      <th>1</th>\n",
       "      <td>plate1_12s_29_2_out.csv</td>\n",
       "      <td>Gryllodes</td>\n",
       "      <td>419</td>\n",
       "    </tr>\n",
       "    <tr>\n",
       "      <th>24</th>\n",
       "      <td>plate1_12s_42_1_out.csv</td>\n",
       "      <td>Gryllodes</td>\n",
       "      <td>82</td>\n",
       "    </tr>\n",
       "    <tr>\n",
       "      <th>20</th>\n",
       "      <td>plate1_12s_42_2_out.csv</td>\n",
       "      <td>Gryllodes</td>\n",
       "      <td>96</td>\n",
       "    </tr>\n",
       "    <tr>\n",
       "      <th>3</th>\n",
       "      <td>plate1_12s_50_1_out.csv</td>\n",
       "      <td>Gryllodes</td>\n",
       "      <td>1888</td>\n",
       "    </tr>\n",
       "    <tr>\n",
       "      <th>22</th>\n",
       "      <td>plate1_12s_50_2_out.csv</td>\n",
       "      <td>Gryllodes</td>\n",
       "      <td>1915</td>\n",
       "    </tr>\n",
       "    <tr>\n",
       "      <th>9</th>\n",
       "      <td>plate1_12s_58_1_out.csv</td>\n",
       "      <td>Gryllodes</td>\n",
       "      <td>342</td>\n",
       "    </tr>\n",
       "    <tr>\n",
       "      <th>12</th>\n",
       "      <td>plate1_12s_58_2_out.csv</td>\n",
       "      <td>Gryllodes</td>\n",
       "      <td>312</td>\n",
       "    </tr>\n",
       "    <tr>\n",
       "      <th>17</th>\n",
       "      <td>plate23_12s_17_1_out.csv</td>\n",
       "      <td>Gryllodes</td>\n",
       "      <td>1</td>\n",
       "    </tr>\n",
       "    <tr>\n",
       "      <th>4</th>\n",
       "      <td>plate23_12s_1_1_out.csv</td>\n",
       "      <td>Gryllodes</td>\n",
       "      <td>1</td>\n",
       "    </tr>\n",
       "    <tr>\n",
       "      <th>18</th>\n",
       "      <td>plate23_12s_25_1_out.csv</td>\n",
       "      <td>Gryllodes</td>\n",
       "      <td>1</td>\n",
       "    </tr>\n",
       "    <tr>\n",
       "      <th>13</th>\n",
       "      <td>plate23_12s_26_1_out.csv</td>\n",
       "      <td>Homidia socia</td>\n",
       "      <td>449</td>\n",
       "    </tr>\n",
       "    <tr>\n",
       "      <th>21</th>\n",
       "      <td>plate23_12s_27_1_out.csv</td>\n",
       "      <td>Homidia socia</td>\n",
       "      <td>1</td>\n",
       "    </tr>\n",
       "    <tr>\n",
       "      <th>10</th>\n",
       "      <td>plate23_12s_35_1_out.csv</td>\n",
       "      <td>Halyomorpha halys</td>\n",
       "      <td>157</td>\n",
       "    </tr>\n",
       "    <tr>\n",
       "      <th>25</th>\n",
       "      <td>plate23_12s_41_1_out.csv</td>\n",
       "      <td>Gryllodes</td>\n",
       "      <td>2</td>\n",
       "    </tr>\n",
       "    <tr>\n",
       "      <th>16</th>\n",
       "      <td>plate23_12s_44_1_out.csv</td>\n",
       "      <td>Gryllodes</td>\n",
       "      <td>7</td>\n",
       "    </tr>\n",
       "    <tr>\n",
       "      <th>6</th>\n",
       "      <td>plate23_12s_49_1_out.csv</td>\n",
       "      <td>Gryllodes</td>\n",
       "      <td>200</td>\n",
       "    </tr>\n",
       "    <tr>\n",
       "      <th>2</th>\n",
       "      <td>plate23_12s_65_1_out.csv</td>\n",
       "      <td>Halyomorpha halys</td>\n",
       "      <td>79</td>\n",
       "    </tr>\n",
       "    <tr>\n",
       "      <th>23</th>\n",
       "      <td>plate23_12s_72_1_out.csv</td>\n",
       "      <td>Drosophila simulans</td>\n",
       "      <td>57</td>\n",
       "    </tr>\n",
       "    <tr>\n",
       "      <th>15</th>\n",
       "      <td>plate23_12s_9_1_out.csv</td>\n",
       "      <td>Gryllodes</td>\n",
       "      <td>1</td>\n",
       "    </tr>\n",
       "  </tbody>\n",
       "</table>\n",
       "</div>"
      ],
      "text/plain": [
       "                     file_nm               sci_nm count\n",
       "5    plate1_12s_13_1_out.csv            Gryllodes   234\n",
       "11    plate1_12s_1_1_out.csv            Gryllodes   721\n",
       "8    plate1_12s_22_1_out.csv            Gryllodes  1886\n",
       "7    plate1_12s_22_2_out.csv            Gryllodes  1749\n",
       "19   plate1_12s_24_1_out.csv            Gryllodes   395\n",
       "0    plate1_12s_24_2_out.csv            Gryllodes   385\n",
       "14   plate1_12s_29_1_out.csv            Gryllodes   501\n",
       "1    plate1_12s_29_2_out.csv            Gryllodes   419\n",
       "24   plate1_12s_42_1_out.csv            Gryllodes    82\n",
       "20   plate1_12s_42_2_out.csv            Gryllodes    96\n",
       "3    plate1_12s_50_1_out.csv            Gryllodes  1888\n",
       "22   plate1_12s_50_2_out.csv            Gryllodes  1915\n",
       "9    plate1_12s_58_1_out.csv            Gryllodes   342\n",
       "12   plate1_12s_58_2_out.csv            Gryllodes   312\n",
       "17  plate23_12s_17_1_out.csv            Gryllodes     1\n",
       "4    plate23_12s_1_1_out.csv            Gryllodes     1\n",
       "18  plate23_12s_25_1_out.csv            Gryllodes     1\n",
       "13  plate23_12s_26_1_out.csv        Homidia socia   449\n",
       "21  plate23_12s_27_1_out.csv        Homidia socia     1\n",
       "10  plate23_12s_35_1_out.csv    Halyomorpha halys   157\n",
       "25  plate23_12s_41_1_out.csv            Gryllodes     2\n",
       "16  plate23_12s_44_1_out.csv            Gryllodes     7\n",
       "6   plate23_12s_49_1_out.csv            Gryllodes   200\n",
       "2   plate23_12s_65_1_out.csv    Halyomorpha halys    79\n",
       "23  plate23_12s_72_1_out.csv  Drosophila simulans    57\n",
       "15   plate23_12s_9_1_out.csv            Gryllodes     1"
      ]
     },
     "execution_count": 174,
     "metadata": {},
     "output_type": "execute_result"
    }
   ],
   "source": [
    "df.sort_values('file_nm')"
   ]
  },
  {
   "cell_type": "code",
   "execution_count": null,
   "id": "a4b56dbd",
   "metadata": {},
   "outputs": [],
   "source": [
    "col_nms=['file_nm','sci_nm','count']\n",
    "df=pd.DataFrame(columns=col_nms)\n",
    "df_seqdata=pd.DataFrame(columns=['file_nm','nuc_seq','count'])\n",
    "for file_nm in os.listdir(fld):\n",
    "    print(file_nm)\n",
    "    file = pd.read_table(os.path.join(fld,file_nm))\n",
    "    unique_scinames = np.unique(file.SCIENTIFIC_NAME.dropna())\n",
    "    list_of_vals=[]\n",
    "    for sci_nm in unique_scinames:\n",
    "        list_of_vals.append([file_nm,sci_nm,len(file[file.SCIENTIFIC_NAME==sci_nm])])\n",
    "    df2 = pd.DataFrame(list_of_vals, columns=col_nms)\n",
    "    df=df.append(df2,ignore_index=True)"
   ]
  },
  {
   "cell_type": "code",
   "execution_count": null,
   "id": "5c933d8b",
   "metadata": {},
   "outputs": [],
   "source": []
  },
  {
   "cell_type": "code",
   "execution_count": 176,
   "id": "0d52fa97",
   "metadata": {},
   "outputs": [],
   "source": [
    "df.to_csv('/home/dennislab2/Desktop/summary.csv')"
   ]
  },
  {
   "cell_type": "code",
   "execution_count": 2,
   "id": "44deaa38",
   "metadata": {},
   "outputs": [],
   "source": [
    "df = pd.read_csv('/Users/dennise/Desktop/summary.csv')"
   ]
  },
  {
   "cell_type": "code",
   "execution_count": 3,
   "id": "d23627eb",
   "metadata": {},
   "outputs": [
    {
     "data": {
      "text/html": [
       "<div>\n",
       "<style scoped>\n",
       "    .dataframe tbody tr th:only-of-type {\n",
       "        vertical-align: middle;\n",
       "    }\n",
       "\n",
       "    .dataframe tbody tr th {\n",
       "        vertical-align: top;\n",
       "    }\n",
       "\n",
       "    .dataframe thead th {\n",
       "        text-align: right;\n",
       "    }\n",
       "</style>\n",
       "<table border=\"1\" class=\"dataframe\">\n",
       "  <thead>\n",
       "    <tr style=\"text-align: right;\">\n",
       "      <th></th>\n",
       "      <th>Unnamed: 0</th>\n",
       "      <th>file_nm</th>\n",
       "      <th>sci_nm</th>\n",
       "      <th>count</th>\n",
       "    </tr>\n",
       "  </thead>\n",
       "  <tbody>\n",
       "    <tr>\n",
       "      <th>0</th>\n",
       "      <td>0</td>\n",
       "      <td>uniplant_10_1_out.tsv</td>\n",
       "      <td>Glycine subgen. Soja</td>\n",
       "      <td>1</td>\n",
       "    </tr>\n",
       "    <tr>\n",
       "      <th>1</th>\n",
       "      <td>1</td>\n",
       "      <td>uniplant_10_1_out.tsv</td>\n",
       "      <td>Hordeinae</td>\n",
       "      <td>1</td>\n",
       "    </tr>\n",
       "    <tr>\n",
       "      <th>2</th>\n",
       "      <td>2</td>\n",
       "      <td>uniplant_10_1_out.tsv</td>\n",
       "      <td>Petrosaviidae</td>\n",
       "      <td>110</td>\n",
       "    </tr>\n",
       "    <tr>\n",
       "      <th>3</th>\n",
       "      <td>3</td>\n",
       "      <td>uniplant_10_1_out.tsv</td>\n",
       "      <td>Potentilla</td>\n",
       "      <td>34</td>\n",
       "    </tr>\n",
       "    <tr>\n",
       "      <th>4</th>\n",
       "      <td>4</td>\n",
       "      <td>uniplant_10_1_out.tsv</td>\n",
       "      <td>Potentilla simplex</td>\n",
       "      <td>18</td>\n",
       "    </tr>\n",
       "    <tr>\n",
       "      <th>...</th>\n",
       "      <td>...</td>\n",
       "      <td>...</td>\n",
       "      <td>...</td>\n",
       "      <td>...</td>\n",
       "    </tr>\n",
       "    <tr>\n",
       "      <th>503</th>\n",
       "      <td>503</td>\n",
       "      <td>uniplant_8_1_out.tsv</td>\n",
       "      <td>Triticum</td>\n",
       "      <td>107</td>\n",
       "    </tr>\n",
       "    <tr>\n",
       "      <th>504</th>\n",
       "      <td>504</td>\n",
       "      <td>uniplant_8_1_out.tsv</td>\n",
       "      <td>Triticum aestivum</td>\n",
       "      <td>8750</td>\n",
       "    </tr>\n",
       "    <tr>\n",
       "      <th>505</th>\n",
       "      <td>505</td>\n",
       "      <td>uniplant_9_1_out.tsv</td>\n",
       "      <td>Petrosaviidae</td>\n",
       "      <td>27</td>\n",
       "    </tr>\n",
       "    <tr>\n",
       "      <th>506</th>\n",
       "      <td>506</td>\n",
       "      <td>uniplant_9_1_out.tsv</td>\n",
       "      <td>Triticum</td>\n",
       "      <td>8</td>\n",
       "    </tr>\n",
       "    <tr>\n",
       "      <th>507</th>\n",
       "      <td>507</td>\n",
       "      <td>uniplant_9_1_out.tsv</td>\n",
       "      <td>Triticum aestivum</td>\n",
       "      <td>1723</td>\n",
       "    </tr>\n",
       "  </tbody>\n",
       "</table>\n",
       "<p>508 rows × 4 columns</p>\n",
       "</div>"
      ],
      "text/plain": [
       "     Unnamed: 0                file_nm                sci_nm  count\n",
       "0             0  uniplant_10_1_out.tsv  Glycine subgen. Soja      1\n",
       "1             1  uniplant_10_1_out.tsv             Hordeinae      1\n",
       "2             2  uniplant_10_1_out.tsv         Petrosaviidae    110\n",
       "3             3  uniplant_10_1_out.tsv            Potentilla     34\n",
       "4             4  uniplant_10_1_out.tsv    Potentilla simplex     18\n",
       "..          ...                    ...                   ...    ...\n",
       "503         503   uniplant_8_1_out.tsv              Triticum    107\n",
       "504         504   uniplant_8_1_out.tsv     Triticum aestivum   8750\n",
       "505         505   uniplant_9_1_out.tsv         Petrosaviidae     27\n",
       "506         506   uniplant_9_1_out.tsv              Triticum      8\n",
       "507         507   uniplant_9_1_out.tsv     Triticum aestivum   1723\n",
       "\n",
       "[508 rows x 4 columns]"
      ]
     },
     "execution_count": 3,
     "metadata": {},
     "output_type": "execute_result"
    }
   ],
   "source": [
    "df"
   ]
  },
  {
   "cell_type": "code",
   "execution_count": 12,
   "id": "ca3659d7",
   "metadata": {},
   "outputs": [
    {
     "data": {
      "text/plain": [
       "Index(['BEST_MATCH_IDS', 'ID', 'BEST_IDENTITY', 'ID_STATUS', 'DEFINITION',\n",
       "       'TAXID', 'SCIENTIFIC_NAME', 'QUALITY', 'NUC_SEQ', 'BEST_MATCH_TAXIDS',\n",
       "       'COUNT'],\n",
       "      dtype='object')"
      ]
     },
     "execution_count": 12,
     "metadata": {},
     "output_type": "execute_result"
    }
   ],
   "source": [
    "file.columns"
   ]
  },
  {
   "cell_type": "code",
   "execution_count": 13,
   "id": "60d68974",
   "metadata": {},
   "outputs": [
    {
     "data": {
      "text/html": [
       "<div>\n",
       "<style scoped>\n",
       "    .dataframe tbody tr th:only-of-type {\n",
       "        vertical-align: middle;\n",
       "    }\n",
       "\n",
       "    .dataframe tbody tr th {\n",
       "        vertical-align: top;\n",
       "    }\n",
       "\n",
       "    .dataframe thead th {\n",
       "        text-align: right;\n",
       "    }\n",
       "</style>\n",
       "<table border=\"1\" class=\"dataframe\">\n",
       "  <thead>\n",
       "    <tr style=\"text-align: right;\">\n",
       "      <th></th>\n",
       "      <th>BEST_MATCH_IDS</th>\n",
       "      <th>ID</th>\n",
       "      <th>BEST_IDENTITY</th>\n",
       "      <th>ID_STATUS</th>\n",
       "      <th>DEFINITION</th>\n",
       "      <th>TAXID</th>\n",
       "      <th>SCIENTIFIC_NAME</th>\n",
       "      <th>QUALITY</th>\n",
       "      <th>NUC_SEQ</th>\n",
       "      <th>BEST_MATCH_TAXIDS</th>\n",
       "      <th>COUNT</th>\n",
       "    </tr>\n",
       "  </thead>\n",
       "  <tbody>\n",
       "    <tr>\n",
       "      <th>0</th>\n",
       "      <td>NaN</td>\n",
       "      <td>MN00399:123:000H537V2:1:11101:4877:1012</td>\n",
       "      <td>0.00000</td>\n",
       "      <td>False</td>\n",
       "      <td>1:N:0:AGCCTATN+GTTACGCA</td>\n",
       "      <td>None</td>\n",
       "      <td>NaN</td>\n",
       "      <td>[37, 37, 37, 2, 37, 37, 32, 37, 37, 37, 37, 14...</td>\n",
       "      <td>cccntttgacttggggtcacggtcgaagnnacgtgcgcttcgtttg...</td>\n",
       "      <td>NaN</td>\n",
       "      <td>1</td>\n",
       "    </tr>\n",
       "    <tr>\n",
       "      <th>1</th>\n",
       "      <td>NaN</td>\n",
       "      <td>MN00399:123:000H537V2:1:11101:12055:1020</td>\n",
       "      <td>0.00000</td>\n",
       "      <td>False</td>\n",
       "      <td>1:N:0:AGCCTATN+GTTACGCA</td>\n",
       "      <td>None</td>\n",
       "      <td>NaN</td>\n",
       "      <td>[37, 37, 37, 37, 37, 37, 32, 37, 37, 37, 37, 3...</td>\n",
       "      <td>tgtgaattgcaggatcccgcgaaccatcnngtctttgaacgcaagt...</td>\n",
       "      <td>NaN</td>\n",
       "      <td>1</td>\n",
       "    </tr>\n",
       "    <tr>\n",
       "      <th>2</th>\n",
       "      <td>NaN</td>\n",
       "      <td>MN00399:123:000H537V2:1:11101:21707:1025</td>\n",
       "      <td>0.00000</td>\n",
       "      <td>False</td>\n",
       "      <td>1:N:0:AGCCTATN+GTTACGCA</td>\n",
       "      <td>None</td>\n",
       "      <td>NaN</td>\n",
       "      <td>[37, 37, 37, 37, 37, 37, 37, 37, 14, 14, 37, 3...</td>\n",
       "      <td>cccgtttgacttgaggtcgcggtcgaagcgacgtgcgcttcgtttg...</td>\n",
       "      <td>NaN</td>\n",
       "      <td>1</td>\n",
       "    </tr>\n",
       "    <tr>\n",
       "      <th>3</th>\n",
       "      <td>['OU343190']</td>\n",
       "      <td>MN00399:123:000H537V2:1:11101:13162:1048</td>\n",
       "      <td>0.97351</td>\n",
       "      <td>True</td>\n",
       "      <td>1:N:0:AGCCTATC+GTTACGCA</td>\n",
       "      <td>4565</td>\n",
       "      <td>Triticum aestivum</td>\n",
       "      <td>[37, 37, 37, 14, 37, 37, 37, 37, 37, 37, 37, 3...</td>\n",
       "      <td>tgtgaattgcaggatcccgcgaaccatcgagtctttgaacgcaagt...</td>\n",
       "      <td>[4565]</td>\n",
       "      <td>1</td>\n",
       "    </tr>\n",
       "    <tr>\n",
       "      <th>4</th>\n",
       "      <td>NaN</td>\n",
       "      <td>MN00399:123:000H537V2:1:11101:8866:1056</td>\n",
       "      <td>0.00000</td>\n",
       "      <td>False</td>\n",
       "      <td>1:N:0:AGCCTATC+GTTACGCA</td>\n",
       "      <td>None</td>\n",
       "      <td>NaN</td>\n",
       "      <td>[32, 37, 37, 37, 37, 37, 37, 37, 37, 32, 32, 3...</td>\n",
       "      <td>cccgtttgatttggggtctcggtcgaagcgacgtgcgcttcgtttg...</td>\n",
       "      <td>NaN</td>\n",
       "      <td>1</td>\n",
       "    </tr>\n",
       "    <tr>\n",
       "      <th>...</th>\n",
       "      <td>...</td>\n",
       "      <td>...</td>\n",
       "      <td>...</td>\n",
       "      <td>...</td>\n",
       "      <td>...</td>\n",
       "      <td>...</td>\n",
       "      <td>...</td>\n",
       "      <td>...</td>\n",
       "      <td>...</td>\n",
       "      <td>...</td>\n",
       "      <td>...</td>\n",
       "    </tr>\n",
       "    <tr>\n",
       "      <th>47559</th>\n",
       "      <td>NaN</td>\n",
       "      <td>MN00399:123:000H537V2:1:23104:19966:20286</td>\n",
       "      <td>0.00000</td>\n",
       "      <td>False</td>\n",
       "      <td>1:N:0:AGCCTATC+GTTACGCA</td>\n",
       "      <td>None</td>\n",
       "      <td>NaN</td>\n",
       "      <td>[37, 37, 37, 32, 37, 37, 37, 37, 37, 37, 37, 3...</td>\n",
       "      <td>cccgtttgatttggggtcgcggtcgaagcgacgtgcgcttcgtttg...</td>\n",
       "      <td>NaN</td>\n",
       "      <td>1</td>\n",
       "    </tr>\n",
       "    <tr>\n",
       "      <th>47560</th>\n",
       "      <td>NaN</td>\n",
       "      <td>MN00399:123:000H537V2:1:23104:17571:20294</td>\n",
       "      <td>0.00000</td>\n",
       "      <td>False</td>\n",
       "      <td>1:N:0:AGCCTATC+GTTACACA</td>\n",
       "      <td>None</td>\n",
       "      <td>NaN</td>\n",
       "      <td>[37, 37, 37, 37, 37, 37, 37, 37, 37, 37, 37, 3...</td>\n",
       "      <td>tgtgaattgcaggatcccgtgaaccatcgagtttttgaacgcaagt...</td>\n",
       "      <td>NaN</td>\n",
       "      <td>1</td>\n",
       "    </tr>\n",
       "    <tr>\n",
       "      <th>47561</th>\n",
       "      <td>NaN</td>\n",
       "      <td>MN00399:123:000H537V2:1:23104:22376:20341</td>\n",
       "      <td>0.00000</td>\n",
       "      <td>False</td>\n",
       "      <td>1:N:0:AGCCTATC+GTTACGCA</td>\n",
       "      <td>None</td>\n",
       "      <td>NaN</td>\n",
       "      <td>[32, 37, 37, 37, 37, 37, 37, 37, 37, 37, 37, 3...</td>\n",
       "      <td>cgaagcgacgtgcgcttcgtttgttgggtcgttcaaaggtcataat...</td>\n",
       "      <td>NaN</td>\n",
       "      <td>1</td>\n",
       "    </tr>\n",
       "    <tr>\n",
       "      <th>47562</th>\n",
       "      <td>NaN</td>\n",
       "      <td>MN00399:123:000H537V2:1:23104:4771:20347</td>\n",
       "      <td>0.00000</td>\n",
       "      <td>False</td>\n",
       "      <td>1:N:0:AGCCTATC+GTTACGCA</td>\n",
       "      <td>None</td>\n",
       "      <td>NaN</td>\n",
       "      <td>[37, 37, 37, 32, 37, 37, 14, 32, 37, 37, 37, 3...</td>\n",
       "      <td>cccgcctgatttggggtcgcggtcgaagcgacgtgcgcttcgtttg...</td>\n",
       "      <td>NaN</td>\n",
       "      <td>1</td>\n",
       "    </tr>\n",
       "    <tr>\n",
       "      <th>47563</th>\n",
       "      <td>NaN</td>\n",
       "      <td>MN00399:123:000H537V2:1:23104:23761:20382</td>\n",
       "      <td>0.00000</td>\n",
       "      <td>False</td>\n",
       "      <td>1:N:0:AGCCTATC+GTTACGCA</td>\n",
       "      <td>None</td>\n",
       "      <td>NaN</td>\n",
       "      <td>[2, 37, 37, 37, 37, 37, 32, 32, 32, 37, 28, 37...</td>\n",
       "      <td>nccgtttgatttggggtcgcgttgaaagcgtcgacgaatcgacacg...</td>\n",
       "      <td>NaN</td>\n",
       "      <td>1</td>\n",
       "    </tr>\n",
       "  </tbody>\n",
       "</table>\n",
       "<p>47564 rows × 11 columns</p>\n",
       "</div>"
      ],
      "text/plain": [
       "      BEST_MATCH_IDS                                         ID  \\\n",
       "0                NaN    MN00399:123:000H537V2:1:11101:4877:1012   \n",
       "1                NaN   MN00399:123:000H537V2:1:11101:12055:1020   \n",
       "2                NaN   MN00399:123:000H537V2:1:11101:21707:1025   \n",
       "3       ['OU343190']   MN00399:123:000H537V2:1:11101:13162:1048   \n",
       "4                NaN    MN00399:123:000H537V2:1:11101:8866:1056   \n",
       "...              ...                                        ...   \n",
       "47559            NaN  MN00399:123:000H537V2:1:23104:19966:20286   \n",
       "47560            NaN  MN00399:123:000H537V2:1:23104:17571:20294   \n",
       "47561            NaN  MN00399:123:000H537V2:1:23104:22376:20341   \n",
       "47562            NaN   MN00399:123:000H537V2:1:23104:4771:20347   \n",
       "47563            NaN  MN00399:123:000H537V2:1:23104:23761:20382   \n",
       "\n",
       "       BEST_IDENTITY  ID_STATUS               DEFINITION TAXID  \\\n",
       "0            0.00000      False  1:N:0:AGCCTATN+GTTACGCA  None   \n",
       "1            0.00000      False  1:N:0:AGCCTATN+GTTACGCA  None   \n",
       "2            0.00000      False  1:N:0:AGCCTATN+GTTACGCA  None   \n",
       "3            0.97351       True  1:N:0:AGCCTATC+GTTACGCA  4565   \n",
       "4            0.00000      False  1:N:0:AGCCTATC+GTTACGCA  None   \n",
       "...              ...        ...                      ...   ...   \n",
       "47559        0.00000      False  1:N:0:AGCCTATC+GTTACGCA  None   \n",
       "47560        0.00000      False  1:N:0:AGCCTATC+GTTACACA  None   \n",
       "47561        0.00000      False  1:N:0:AGCCTATC+GTTACGCA  None   \n",
       "47562        0.00000      False  1:N:0:AGCCTATC+GTTACGCA  None   \n",
       "47563        0.00000      False  1:N:0:AGCCTATC+GTTACGCA  None   \n",
       "\n",
       "         SCIENTIFIC_NAME                                            QUALITY  \\\n",
       "0                    NaN  [37, 37, 37, 2, 37, 37, 32, 37, 37, 37, 37, 14...   \n",
       "1                    NaN  [37, 37, 37, 37, 37, 37, 32, 37, 37, 37, 37, 3...   \n",
       "2                    NaN  [37, 37, 37, 37, 37, 37, 37, 37, 14, 14, 37, 3...   \n",
       "3      Triticum aestivum  [37, 37, 37, 14, 37, 37, 37, 37, 37, 37, 37, 3...   \n",
       "4                    NaN  [32, 37, 37, 37, 37, 37, 37, 37, 37, 32, 32, 3...   \n",
       "...                  ...                                                ...   \n",
       "47559                NaN  [37, 37, 37, 32, 37, 37, 37, 37, 37, 37, 37, 3...   \n",
       "47560                NaN  [37, 37, 37, 37, 37, 37, 37, 37, 37, 37, 37, 3...   \n",
       "47561                NaN  [32, 37, 37, 37, 37, 37, 37, 37, 37, 37, 37, 3...   \n",
       "47562                NaN  [37, 37, 37, 32, 37, 37, 14, 32, 37, 37, 37, 3...   \n",
       "47563                NaN  [2, 37, 37, 37, 37, 37, 32, 32, 32, 37, 28, 37...   \n",
       "\n",
       "                                                 NUC_SEQ BEST_MATCH_TAXIDS  \\\n",
       "0      cccntttgacttggggtcacggtcgaagnnacgtgcgcttcgtttg...               NaN   \n",
       "1      tgtgaattgcaggatcccgcgaaccatcnngtctttgaacgcaagt...               NaN   \n",
       "2      cccgtttgacttgaggtcgcggtcgaagcgacgtgcgcttcgtttg...               NaN   \n",
       "3      tgtgaattgcaggatcccgcgaaccatcgagtctttgaacgcaagt...            [4565]   \n",
       "4      cccgtttgatttggggtctcggtcgaagcgacgtgcgcttcgtttg...               NaN   \n",
       "...                                                  ...               ...   \n",
       "47559  cccgtttgatttggggtcgcggtcgaagcgacgtgcgcttcgtttg...               NaN   \n",
       "47560  tgtgaattgcaggatcccgtgaaccatcgagtttttgaacgcaagt...               NaN   \n",
       "47561  cgaagcgacgtgcgcttcgtttgttgggtcgttcaaaggtcataat...               NaN   \n",
       "47562  cccgcctgatttggggtcgcggtcgaagcgacgtgcgcttcgtttg...               NaN   \n",
       "47563  nccgtttgatttggggtcgcgttgaaagcgtcgacgaatcgacacg...               NaN   \n",
       "\n",
       "       COUNT  \n",
       "0          1  \n",
       "1          1  \n",
       "2          1  \n",
       "3          1  \n",
       "4          1  \n",
       "...      ...  \n",
       "47559      1  \n",
       "47560      1  \n",
       "47561      1  \n",
       "47562      1  \n",
       "47563      1  \n",
       "\n",
       "[47564 rows x 11 columns]"
      ]
     },
     "execution_count": 13,
     "metadata": {},
     "output_type": "execute_result"
    }
   ],
   "source": [
    "file"
   ]
  },
  {
   "cell_type": "code",
   "execution_count": 15,
   "id": "bb654642",
   "metadata": {},
   "outputs": [
    {
     "data": {
      "text/plain": [
       "1"
      ]
     },
     "execution_count": 15,
     "metadata": {},
     "output_type": "execute_result"
    }
   ],
   "source": []
  },
  {
   "cell_type": "markdown",
   "id": "34eeb6a7",
   "metadata": {},
   "source": [
    "## for BLAST\n",
    "https://www.tutorialspoint.com/biopython/biopython_overview_of_blast.htm\n",
    "\n",
    "- make a fasta file for each *un-identified* sequence\n",
    "- load a fasta file for each *un-identified* sequence\n",
    "\n",
    "`seq_record = next(SeqIO.parse(open('blast_example.fasta'),'fasta')) `\n",
    "\n",
    "- blast it \n",
    "    - n blast n\n",
    "    - n blast p\n",
    "\n",
    "`result_handle = NCBIWWW.qblast(\"blastn\", \"nt\", sequence_data)`\n",
    "\n",
    "\n",
    "```\n",
    "with open('results.xml', 'w') as save_file: \n",
    "    blast_results = result_handle.read()\n",
    "    save_file.write(blast_results)\n",
    "```     \n",
    "- open file\n",
    "\n",
    "```E_VALUE_THRESH = 1e-20 \n",
    "for record in NCBIXML.parse(open(\"results.xml\")): \n",
    "    if record.alignments: \n",
    "       print(\"\\n\") \n",
    "       print(\"query: %s\" % record.query[:100]) \n",
    "       for align in record.alignments: \n",
    "          for hsp in align.hsps: \n",
    "             if hsp.expect < E_VALUE_THRESH: \n",
    "                print(\"match: %s \" % align.title[:100])\n",
    "```"
   ]
  },
  {
   "cell_type": "code",
   "execution_count": null,
   "id": "b29f469a",
   "metadata": {},
   "outputs": [],
   "source": [
    "\n"
   ]
  },
  {
   "cell_type": "code",
   "execution_count": null,
   "id": "4224583a",
   "metadata": {},
   "outputs": [],
   "source": []
  },
  {
   "cell_type": "code",
   "execution_count": null,
   "id": "450865af",
   "metadata": {},
   "outputs": [],
   "source": []
  },
  {
   "cell_type": "code",
   "execution_count": null,
   "id": "b163856e",
   "metadata": {},
   "outputs": [],
   "source": []
  },
  {
   "cell_type": "code",
   "execution_count": null,
   "id": "3beda97c",
   "metadata": {},
   "outputs": [],
   "source": []
  }
 ],
 "metadata": {
  "kernelspec": {
   "display_name": "Python 3 (ipykernel)",
   "language": "python",
   "name": "python3"
  },
  "language_info": {
   "codemirror_mode": {
    "name": "ipython",
    "version": 3
   },
   "file_extension": ".py",
   "mimetype": "text/x-python",
   "name": "python",
   "nbconvert_exporter": "python",
   "pygments_lexer": "ipython3",
   "version": "3.10.0"
  }
 },
 "nbformat": 4,
 "nbformat_minor": 5
}
