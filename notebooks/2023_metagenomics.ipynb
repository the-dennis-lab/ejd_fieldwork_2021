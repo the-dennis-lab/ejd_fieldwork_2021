{
 "cells": [
  {
   "cell_type": "markdown",
   "id": "64667447-6bd8-4f82-bcf4-de95b0d0ccb3",
   "metadata": {},
   "source": [
    "# Purpose"
   ]
  },
  {
   "cell_type": "markdown",
   "id": "bcecf73e-1840-4f4e-9b95-65437fd11e19",
   "metadata": {},
   "source": [
    "# Imports"
   ]
  },
  {
   "cell_type": "code",
   "execution_count": 1,
   "id": "365a751d-f140-4458-b421-74229ad99cb6",
   "metadata": {},
   "outputs": [],
   "source": [
    "import numpy as np\n",
    "import pandas as pd\n",
    "import os, csv, glob\n",
    "import matplotlib.pyplot as plt"
   ]
  },
  {
   "cell_type": "code",
   "execution_count": 2,
   "id": "f398fbef",
   "metadata": {},
   "outputs": [],
   "source": [
    "from Bio.Blast import NCBIWWW\n",
    "from Bio import SeqIO \n",
    "from Bio.Blast import NCBIXML"
   ]
  },
  {
   "cell_type": "code",
   "execution_count": 3,
   "id": "6998f530",
   "metadata": {},
   "outputs": [],
   "source": [
    "from thefuzz import fuzz"
   ]
  },
  {
   "cell_type": "code",
   "execution_count": 19,
   "id": "1d542ca9",
   "metadata": {},
   "outputs": [],
   "source": [
    "from itertools import compress\n",
    "import multiprocessing"
   ]
  },
  {
   "cell_type": "markdown",
   "id": "0a1b642e-2a0e-4bab-b994-f1d72125a8c6",
   "metadata": {},
   "source": [
    "# Functions"
   ]
  },
  {
   "cell_type": "code",
   "execution_count": 5,
   "id": "983121c6-0642-4a0a-a81b-7594b5f03f49",
   "metadata": {},
   "outputs": [],
   "source": [
    "obi_out_fld = '/home/dennislab2/Desktop/seq/'"
   ]
  },
  {
   "cell_type": "code",
   "execution_count": 6,
   "id": "474a80e7-e39b-440c-b445-57581baf7e48",
   "metadata": {},
   "outputs": [
    {
     "data": {
      "text/plain": [
       "['/home/dennislab2/Desktop/seq/skokholm_plant_2_7_2_out.csv',\n",
       " '/home/dennislab2/Desktop/seq/skokholm_plant_2_6_2_out.csv',\n",
       " '/home/dennislab2/Desktop/seq/skokholm_invert_2_3_1_out.csv',\n",
       " '/home/dennislab2/Desktop/seq/skokholm_plant_2_19_1_out.csv',\n",
       " '/home/dennislab2/Desktop/seq/skokholm_plant_2_22_2_out.csv',\n",
       " '/home/dennislab2/Desktop/seq/skokholm_plant_3_3_2_out.csv',\n",
       " '/home/dennislab2/Desktop/seq/skokholm_invert_2_6_1_out.csv',\n",
       " '/home/dennislab2/Desktop/seq/skokholm_plant_2_20_1_out.csv',\n",
       " '/home/dennislab2/Desktop/seq/skokholm_invert_2_24_2_out.csv',\n",
       " '/home/dennislab2/Desktop/seq/skokholm_plant_3_17_2_out.csv',\n",
       " '/home/dennislab2/Desktop/seq/skokholm_invert_1_15_2_out.csv',\n",
       " '/home/dennislab2/Desktop/seq/skokholm_invert_3_17_1_out.csv',\n",
       " '/home/dennislab2/Desktop/seq/skokholm_invert_1_12_1_out.csv',\n",
       " '/home/dennislab2/Desktop/seq/skokholm_plant_2_2_1_out.csv',\n",
       " '/home/dennislab2/Desktop/seq/skokholm_plant_3_2_1_out.csv',\n",
       " '/home/dennislab2/Desktop/seq/skokholm_plant_1_20_2_out.csv',\n",
       " '/home/dennislab2/Desktop/seq/skokholm_invert_3_12_2_out.csv',\n",
       " '/home/dennislab2/Desktop/seq/skokholm_invert_2_13_2_out.csv',\n",
       " '/home/dennislab2/Desktop/seq/skokholm_plant_1_23_1_out.csv',\n",
       " '/home/dennislab2/Desktop/seq/skokholm_plant_2_21_2_out.csv',\n",
       " '/home/dennislab2/Desktop/seq/skokholm_invert_2_7_2_out.csv',\n",
       " '/home/dennislab2/Desktop/seq/skokholm_invert_3_14_2_out.csv',\n",
       " '/home/dennislab2/Desktop/seq/skokholm_plant_3_1_2_out.csv',\n",
       " '/home/dennislab2/Desktop/seq/skokholm_plant_3_18_2_out.csv',\n",
       " '/home/dennislab2/Desktop/seq/skokholm_plant_1_13_1_out.csv',\n",
       " '/home/dennislab2/Desktop/seq/skokholm_invert_3_13_1_out.csv',\n",
       " '/home/dennislab2/Desktop/seq/skokholm_plant_2_4_1_out.csv',\n",
       " '/home/dennislab2/Desktop/seq/skokholm_plant_1_7_2_out.csv',\n",
       " '/home/dennislab2/Desktop/seq/skokholm_invert_3_18_1_out.csv',\n",
       " '/home/dennislab2/Desktop/seq/skokholm_invert_3_10_1_out.csv',\n",
       " '/home/dennislab2/Desktop/seq/skokholm_invert_1_24_1_out.csv',\n",
       " '/home/dennislab2/Desktop/seq/skokholm_invert_2_22_1_out.csv',\n",
       " '/home/dennislab2/Desktop/seq/skokholm_invert_1_17_2_out.csv',\n",
       " '/home/dennislab2/Desktop/seq/skokholm_invert_1_22_1_out.csv',\n",
       " '/home/dennislab2/Desktop/seq/skokholm_invert_1_12_2_out.csv',\n",
       " '/home/dennislab2/Desktop/seq/skokholm_plant_3_24_1_out.csv',\n",
       " '/home/dennislab2/Desktop/seq/skokholm_invert_3_6_1_out.csv',\n",
       " '/home/dennislab2/Desktop/seq/skokholm_plant_1_12_1_out.csv',\n",
       " '/home/dennislab2/Desktop/seq/skokholm_invert_1_13_1_out.csv',\n",
       " '/home/dennislab2/Desktop/seq/skokholm_plant_2_2_2_out.csv',\n",
       " '/home/dennislab2/Desktop/seq/skokholm_invert_3_8_2_out.csv',\n",
       " '/home/dennislab2/Desktop/seq/skokholm_plant_2_16_1_out.csv',\n",
       " '/home/dennislab2/Desktop/seq/skokholm_invert_1_14_2_out.csv',\n",
       " '/home/dennislab2/Desktop/seq/skokholm_plant_3_18_1_out.csv',\n",
       " '/home/dennislab2/Desktop/seq/skokholm_invert_2_22_2_out.csv',\n",
       " '/home/dennislab2/Desktop/seq/skokholm_invert_3_5_2_out.csv',\n",
       " '/home/dennislab2/Desktop/seq/skokholm_invert_2_12_2_out.csv',\n",
       " '/home/dennislab2/Desktop/seq/skokholm_plant_1_22_1_out.csv',\n",
       " '/home/dennislab2/Desktop/seq/skokholm_invert_3_21_2_out.csv',\n",
       " '/home/dennislab2/Desktop/seq/skokholm_plant_2_4_2_out.csv',\n",
       " '/home/dennislab2/Desktop/seq/skokholm_invert_2_5_2_out.csv',\n",
       " '/home/dennislab2/Desktop/seq/skokholm_plant_1_4_2_out.csv',\n",
       " '/home/dennislab2/Desktop/seq/skokholm_invert_2_15_1_out.csv',\n",
       " '/home/dennislab2/Desktop/seq/skokholm_plant_1_3_2_out.csv',\n",
       " '/home/dennislab2/Desktop/seq/skokholm_plant_1_12_2_out.csv',\n",
       " '/home/dennislab2/Desktop/seq/skokholm_invert_1_22_2_out.csv',\n",
       " '/home/dennislab2/Desktop/seq/skokholm_plant_2_1_1_out.csv',\n",
       " '/home/dennislab2/Desktop/seq/skokholm_invert_2_3_2_out.csv',\n",
       " '/home/dennislab2/Desktop/seq/skokholm_invert_2_8_2_out.csv',\n",
       " '/home/dennislab2/Desktop/seq/skokholm_plant_3_20_1_out.csv',\n",
       " '/home/dennislab2/Desktop/seq/skokholm_invert_3_20_1_out.csv',\n",
       " '/home/dennislab2/Desktop/seq/skokholm_invert_3_6_2_out.csv',\n",
       " '/home/dennislab2/Desktop/seq/skokholm_plant_2_24_2_out.csv',\n",
       " '/home/dennislab2/Desktop/seq/skokholm_invert_1_1_2_out.csv',\n",
       " '/home/dennislab2/Desktop/seq/skokholm_plant_2_17_1_out.csv',\n",
       " '/home/dennislab2/Desktop/seq/skokholm_invert_1_16_2_out.csv',\n",
       " '/home/dennislab2/Desktop/seq/skokholm_plant_2_19_2_out.csv',\n",
       " '/home/dennislab2/Desktop/seq/skokholm_invert_1_23_1_out.csv',\n",
       " '/home/dennislab2/Desktop/seq/skokholm_invert_1_24_2_out.csv',\n",
       " '/home/dennislab2/Desktop/seq/skokholm_plant_3_16_2_out.csv',\n",
       " '/home/dennislab2/Desktop/seq/skokholm_invert_3_1_1_out.csv',\n",
       " '/home/dennislab2/Desktop/seq/skokholm_plant_3_16_1_out.csv',\n",
       " '/home/dennislab2/Desktop/seq/skokholm_invert_2_4_2_out.csv',\n",
       " '/home/dennislab2/Desktop/seq/skokholm_plant_3_14_2_out.csv',\n",
       " '/home/dennislab2/Desktop/seq/skokholm_plant_2_22_1_out.csv',\n",
       " '/home/dennislab2/Desktop/seq/skokholm_invert_2_18_1_out.csv',\n",
       " '/home/dennislab2/Desktop/seq/skokholm_plant_3_3_1_out.csv',\n",
       " '/home/dennislab2/Desktop/seq/skokholm_invert_3_14_1_out.csv',\n",
       " '/home/dennislab2/Desktop/seq/skokholm_invert_3_13_2_out.csv',\n",
       " '/home/dennislab2/Desktop/seq/skokholm_plant_3_8_1_out.csv',\n",
       " '/home/dennislab2/Desktop/seq/skokholm_plant_2_24_1_out.csv',\n",
       " '/home/dennislab2/Desktop/seq/skokholm_plant_2_6_1_out.csv',\n",
       " '/home/dennislab2/Desktop/seq/skokholm_invert_2_20_1_out.csv',\n",
       " '/home/dennislab2/Desktop/seq/skokholm_invert_3_24_2_out.csv',\n",
       " '/home/dennislab2/Desktop/seq/skokholm_plant_3_2_2_out.csv',\n",
       " '/home/dennislab2/Desktop/seq/skokholm_invert_1_20_2_out.csv',\n",
       " '/home/dennislab2/Desktop/seq/skokholm_plant_2_13_2_out.csv',\n",
       " '/home/dennislab2/Desktop/seq/skokholm_invert_2_16_2_out.csv',\n",
       " '/home/dennislab2/Desktop/seq/skokholm_plant_2_1_2_out.csv',\n",
       " '/home/dennislab2/Desktop/seq/skokholm_invert_3_7_2_out.csv',\n",
       " '/home/dennislab2/Desktop/seq/skokholm_plant_1_17_2_out.csv',\n",
       " '/home/dennislab2/Desktop/seq/skokholm_plant_3_11_1_out.csv',\n",
       " '/home/dennislab2/Desktop/seq/skokholm_invert_2_23_2_out.csv',\n",
       " '/home/dennislab2/Desktop/seq/skokholm_invert_1_8_1_out.csv',\n",
       " '/home/dennislab2/Desktop/seq/skokholm_plant_2_11_2_out.csv',\n",
       " '/home/dennislab2/Desktop/seq/skokholm_plant_1_9_1_out.csv',\n",
       " '/home/dennislab2/Desktop/seq/skokholm_plant_1_2_2_out.csv',\n",
       " '/home/dennislab2/Desktop/seq/skokholm_plant_3_12_2_out.csv',\n",
       " '/home/dennislab2/Desktop/seq/skokholm_plant_3_22_2_out.csv',\n",
       " '/home/dennislab2/Desktop/seq/skokholm_plant_1_2_1_out.csv',\n",
       " '/home/dennislab2/Desktop/seq/skokholm_invert_3_3_2_out.csv',\n",
       " '/home/dennislab2/Desktop/seq/skokholm_plant_1_1_1_out.csv',\n",
       " '/home/dennislab2/Desktop/seq/skokholm_invert_2_7_1_out.csv',\n",
       " '/home/dennislab2/Desktop/seq/skokholm_invert_2_8_1_out.csv',\n",
       " '/home/dennislab2/Desktop/seq/skokholm_invert_2_11_2_out.csv',\n",
       " '/home/dennislab2/Desktop/seq/skokholm_plant_2_18_2_out.csv',\n",
       " '/home/dennislab2/Desktop/seq/skokholm_plant_3_10_1_out.csv',\n",
       " '/home/dennislab2/Desktop/seq/skokholm_plant_1_21_1_out.csv',\n",
       " '/home/dennislab2/Desktop/seq/skokholm_invert_2_1_1_out.csv',\n",
       " '/home/dennislab2/Desktop/seq/skokholm_plant_2_5_1_out.csv',\n",
       " '/home/dennislab2/Desktop/seq/skokholm_plant_3_7_1_out.csv',\n",
       " '/home/dennislab2/Desktop/seq/skokholm_invert_3_9_2_out.csv',\n",
       " '/home/dennislab2/Desktop/seq/skokholm_plant_1_6_2_out.csv',\n",
       " '/home/dennislab2/Desktop/seq/skokholm_plant_1_19_2_out.csv',\n",
       " '/home/dennislab2/Desktop/seq/skokholm_plant_3_19_1_out.csv',\n",
       " '/home/dennislab2/Desktop/seq/skokholm_invert_1_23_2_out.csv',\n",
       " '/home/dennislab2/Desktop/seq/skokholm_invert_3_5_1_out.csv',\n",
       " '/home/dennislab2/Desktop/seq/skokholm_invert_1_2_1_out.csv',\n",
       " '/home/dennislab2/Desktop/seq/skokholm_invert_1_14_1_out.csv',\n",
       " '/home/dennislab2/Desktop/seq/skokholm_invert_2_14_2_out.csv',\n",
       " '/home/dennislab2/Desktop/seq/skokholm_plant_2_17_2_out.csv',\n",
       " '/home/dennislab2/Desktop/seq/skokholm_plant_1_23_2_out.csv',\n",
       " '/home/dennislab2/Desktop/seq/skokholm_plant_1_11_2_out.csv',\n",
       " '/home/dennislab2/Desktop/seq/skokholm_plant_3_7_2_out.csv',\n",
       " '/home/dennislab2/Desktop/seq/skokholm_plant_3_8_2_out.csv',\n",
       " '/home/dennislab2/Desktop/seq/skokholm_invert_1_5_1_out.csv',\n",
       " '/home/dennislab2/Desktop/seq/skokholm_invert_2_23_1_out.csv',\n",
       " '/home/dennislab2/Desktop/seq/skokholm_plant_2_13_1_out.csv',\n",
       " '/home/dennislab2/Desktop/seq/skokholm_invert_2_2_1_out.csv',\n",
       " '/home/dennislab2/Desktop/seq/skokholm_plant_3_20_2_out.csv',\n",
       " '/home/dennislab2/Desktop/seq/skokholm_plant_3_13_1_out.csv',\n",
       " '/home/dennislab2/Desktop/seq/skokholm_invert_1_20_1_out.csv',\n",
       " '/home/dennislab2/Desktop/seq/skokholm_plant_1_14_1_out.csv',\n",
       " '/home/dennislab2/Desktop/seq/skokholm_invert_1_8_2_out.csv',\n",
       " '/home/dennislab2/Desktop/seq/skokholm_plant_2_23_1_out.csv',\n",
       " '/home/dennislab2/Desktop/seq/skokholm_invert_1_10_1_out.csv',\n",
       " '/home/dennislab2/Desktop/seq/skokholm_plant_3_9_1_out.csv',\n",
       " '/home/dennislab2/Desktop/seq/skokholm_invert_2_17_2_out.csv',\n",
       " '/home/dennislab2/Desktop/seq/skokholm_invert_1_6_2_out.csv',\n",
       " '/home/dennislab2/Desktop/seq/skokholm_plant_2_14_2_out.csv',\n",
       " '/home/dennislab2/Desktop/seq/skokholm_plant_3_24_2_out.csv',\n",
       " '/home/dennislab2/Desktop/seq/skokholm_invert_3_20_2_out.csv',\n",
       " '/home/dennislab2/Desktop/seq/skokholm_invert_1_19_1_out.csv',\n",
       " '/home/dennislab2/Desktop/seq/skokholm_plant_2_18_1_out.csv',\n",
       " '/home/dennislab2/Desktop/seq/skokholm_plant_3_4_2_out.csv',\n",
       " '/home/dennislab2/Desktop/seq/skokholm_invert_3_4_2_out.csv',\n",
       " '/home/dennislab2/Desktop/seq/skokholm_invert_1_10_2_out.csv',\n",
       " '/home/dennislab2/Desktop/seq/skokholm_invert_3_19_2_out.csv',\n",
       " '/home/dennislab2/Desktop/seq/skokholm_plant_1_7_1_out.csv',\n",
       " '/home/dennislab2/Desktop/seq/skokholm_invert_2_19_1_out.csv',\n",
       " '/home/dennislab2/Desktop/seq/skokholm_plant_1_11_1_out.csv',\n",
       " '/home/dennislab2/Desktop/seq/skokholm_invert_1_9_1_out.csv',\n",
       " '/home/dennislab2/Desktop/seq/skokholm_invert_1_3_1_out.csv',\n",
       " '/home/dennislab2/Desktop/seq/skokholm_plant_1_14_2_out.csv',\n",
       " '/home/dennislab2/Desktop/seq/skokholm_invert_1_18_1_out.csv',\n",
       " '/home/dennislab2/Desktop/seq/skokholm_plant_1_4_1_out.csv',\n",
       " '/home/dennislab2/Desktop/seq/skokholm_plant_2_8_2_out.csv',\n",
       " '/home/dennislab2/Desktop/seq/skokholm_invert_3_8_1_out.csv',\n",
       " '/home/dennislab2/Desktop/seq/skokholm_plant_1_6_1_out.csv',\n",
       " '/home/dennislab2/Desktop/seq/skokholm_plant_3_23_1_out.csv',\n",
       " '/home/dennislab2/Desktop/seq/skokholm_plant_3_6_1_out.csv',\n",
       " '/home/dennislab2/Desktop/seq/skokholm_plant_1_8_2_out.csv',\n",
       " '/home/dennislab2/Desktop/seq/skokholm_plant_1_9_2_out.csv',\n",
       " '/home/dennislab2/Desktop/seq/skokholm_plant_1_20_1_out.csv',\n",
       " '/home/dennislab2/Desktop/seq/skokholm_plant_2_7_1_out.csv',\n",
       " '/home/dennislab2/Desktop/seq/skokholm_plant_3_10_2_out.csv',\n",
       " '/home/dennislab2/Desktop/seq/skokholm_plant_1_16_1_out.csv',\n",
       " '/home/dennislab2/Desktop/seq/skokholm_invert_2_24_1_out.csv',\n",
       " '/home/dennislab2/Desktop/seq/skokholm_invert_3_2_1_out.csv',\n",
       " '/home/dennislab2/Desktop/seq/skokholm_invert_1_15_1_out.csv',\n",
       " '/home/dennislab2/Desktop/seq/skokholm_plant_1_19_1_out.csv',\n",
       " '/home/dennislab2/Desktop/seq/skokholm_invert_2_10_1_out.csv',\n",
       " '/home/dennislab2/Desktop/seq/skokholm_plant_1_24_1_out.csv',\n",
       " '/home/dennislab2/Desktop/seq/skokholm_plant_3_17_1_out.csv',\n",
       " '/home/dennislab2/Desktop/seq/skokholm_invert_3_23_2_out.csv',\n",
       " '/home/dennislab2/Desktop/seq/skokholm_plant_2_21_1_out.csv',\n",
       " '/home/dennislab2/Desktop/seq/skokholm_plant_1_17_1_out.csv',\n",
       " '/home/dennislab2/Desktop/seq/skokholm_invert_3_3_1_out.csv',\n",
       " '/home/dennislab2/Desktop/seq/skokholm_invert_2_9_1_out.csv',\n",
       " '/home/dennislab2/Desktop/seq/skokholm_invert_3_1_2_out.csv',\n",
       " '/home/dennislab2/Desktop/seq/skokholm_invert_3_12_1_out.csv',\n",
       " '/home/dennislab2/Desktop/seq/skokholm_invert_3_23_1_out.csv',\n",
       " '/home/dennislab2/Desktop/seq/skokholm_invert_2_12_1_out.csv',\n",
       " '/home/dennislab2/Desktop/seq/skokholm_plant_2_23_2_out.csv',\n",
       " '/home/dennislab2/Desktop/seq/skokholm_plant_3_1_1_out.csv',\n",
       " '/home/dennislab2/Desktop/seq/skokholm_invert_3_19_1_out.csv',\n",
       " '/home/dennislab2/Desktop/seq/skokholm_plant_1_13_2_out.csv',\n",
       " '/home/dennislab2/Desktop/seq/skokholm_plant_1_10_2_out.csv',\n",
       " '/home/dennislab2/Desktop/seq/skokholm_plant_2_9_1_out.csv',\n",
       " '/home/dennislab2/Desktop/seq/skokholm_plant_2_12_2_out.csv',\n",
       " '/home/dennislab2/Desktop/seq/skokholm_invert_3_11_2_out.csv',\n",
       " '/home/dennislab2/Desktop/seq/skokholm_plant_3_5_1_out.csv',\n",
       " '/home/dennislab2/Desktop/seq/skokholm_plant_3_14_1_out.csv',\n",
       " '/home/dennislab2/Desktop/seq/skokholm_invert_2_21_1_out.csv',\n",
       " '/home/dennislab2/Desktop/seq/skokholm_invert_2_4_1_out.csv',\n",
       " '/home/dennislab2/Desktop/seq/skokholm_invert_2_5_1_out.csv',\n",
       " '/home/dennislab2/Desktop/seq/skokholm_invert_1_1_1_out.csv',\n",
       " '/home/dennislab2/Desktop/seq/skokholm_plant_1_18_2_out.csv',\n",
       " '/home/dennislab2/Desktop/seq/skokholm_invert_2_18_2_out.csv',\n",
       " '/home/dennislab2/Desktop/seq/skokholm_invert_1_2_2_out.csv',\n",
       " '/home/dennislab2/Desktop/seq/skokholm_invert_1_3_2_out.csv',\n",
       " '/home/dennislab2/Desktop/seq/skokholm_plant_2_10_2_out.csv',\n",
       " '/home/dennislab2/Desktop/seq/skokholm_invert_2_10_2_out.csv',\n",
       " '/home/dennislab2/Desktop/seq/skokholm_plant_1_5_1_out.csv',\n",
       " '/home/dennislab2/Desktop/seq/skokholm_invert_2_19_2_out.csv',\n",
       " '/home/dennislab2/Desktop/seq/skokholm_invert_2_15_2_out.csv',\n",
       " '/home/dennislab2/Desktop/seq/skokholm_plant_1_18_1_out.csv',\n",
       " '/home/dennislab2/Desktop/seq/skokholm_invert_3_11_1_out.csv',\n",
       " '/home/dennislab2/Desktop/seq/skokholm_invert_2_11_1_out.csv',\n",
       " '/home/dennislab2/Desktop/seq/skokholm_plant_2_10_1_out.csv',\n",
       " '/home/dennislab2/Desktop/seq/skokholm_plant_2_3_1_out.csv',\n",
       " '/home/dennislab2/Desktop/seq/skokholm_plant_3_23_2_out.csv',\n",
       " '/home/dennislab2/Desktop/seq/skokholm_plant_2_8_1_out.csv',\n",
       " '/home/dennislab2/Desktop/seq/skokholm_invert_1_7_1_out.csv',\n",
       " '/home/dennislab2/Desktop/seq/skokholm_plant_1_15_2_out.csv',\n",
       " '/home/dennislab2/Desktop/seq/skokholm_plant_3_9_2_out.csv',\n",
       " '/home/dennislab2/Desktop/seq/skokholm_plant_3_5_2_out.csv',\n",
       " '/home/dennislab2/Desktop/seq/skokholm_plant_3_12_1_out.csv',\n",
       " '/home/dennislab2/Desktop/seq/skokholm_invert_2_6_2_out.csv',\n",
       " '/home/dennislab2/Desktop/seq/skokholm_invert_3_2_2_out.csv',\n",
       " '/home/dennislab2/Desktop/seq/skokholm_invert_2_2_2_out.csv',\n",
       " '/home/dennislab2/Desktop/seq/skokholm_invert_2_20_2_out.csv',\n",
       " '/home/dennislab2/Desktop/seq/skokholm_invert_1_16_1_out.csv',\n",
       " '/home/dennislab2/Desktop/seq/skokholm_plant_3_21_1_out.csv',\n",
       " '/home/dennislab2/Desktop/seq/skokholm_plant_1_22_2_out.csv',\n",
       " '/home/dennislab2/Desktop/seq/skokholm_invert_3_18_2_out.csv',\n",
       " '/home/dennislab2/Desktop/seq/skokholm_invert_1_19_2_out.csv',\n",
       " '/home/dennislab2/Desktop/seq/skokholm_invert_1_5_2_out.csv',\n",
       " '/home/dennislab2/Desktop/seq/skokholm_plant_3_4_1_out.csv',\n",
       " '/home/dennislab2/Desktop/seq/skokholm_plant_1_10_1_out.csv',\n",
       " '/home/dennislab2/Desktop/seq/skokholm_plant_1_16_2_out.csv',\n",
       " '/home/dennislab2/Desktop/seq/skokholm_invert_3_16_1_out.csv',\n",
       " '/home/dennislab2/Desktop/seq/skokholm_invert_1_17_1_out.csv',\n",
       " '/home/dennislab2/Desktop/seq/skokholm_invert_1_11_1_out.csv',\n",
       " '/home/dennislab2/Desktop/seq/skokholm_plant_1_5_2_out.csv',\n",
       " '/home/dennislab2/Desktop/seq/skokholm_plant_2_3_2_out.csv',\n",
       " '/home/dennislab2/Desktop/seq/skokholm_invert_3_7_1_out.csv',\n",
       " '/home/dennislab2/Desktop/seq/skokholm_plant_3_15_2_out.csv',\n",
       " '/home/dennislab2/Desktop/seq/skokholm_invert_2_17_1_out.csv',\n",
       " '/home/dennislab2/Desktop/seq/skokholm_invert_3_15_1_out.csv',\n",
       " '/home/dennislab2/Desktop/seq/skokholm_plant_2_11_1_out.csv',\n",
       " '/home/dennislab2/Desktop/seq/skokholm_invert_1_11_2_out.csv',\n",
       " '/home/dennislab2/Desktop/seq/skokholm_invert_2_14_1_out.csv',\n",
       " '/home/dennislab2/Desktop/seq/skokholm_invert_3_16_2_out.csv',\n",
       " '/home/dennislab2/Desktop/seq/skokholm_plant_3_11_2_out.csv',\n",
       " '/home/dennislab2/Desktop/seq/skokholm_invert_3_9_1_out.csv',\n",
       " '/home/dennislab2/Desktop/seq/skokholm_plant_2_16_2_out.csv',\n",
       " '/home/dennislab2/Desktop/seq/skokholm_plant_2_20_2_out.csv',\n",
       " '/home/dennislab2/Desktop/seq/skokholm_plant_2_9_2_out.csv',\n",
       " '/home/dennislab2/Desktop/seq/skokholm_invert_2_1_2_out.csv',\n",
       " '/home/dennislab2/Desktop/seq/skokholm_invert_3_22_2_out.csv',\n",
       " '/home/dennislab2/Desktop/seq/skokholm_invert_1_6_1_out.csv',\n",
       " '/home/dennislab2/Desktop/seq/skokholm_plant_3_13_2_out.csv',\n",
       " '/home/dennislab2/Desktop/seq/skokholm_plant_1_3_1_out.csv',\n",
       " '/home/dennislab2/Desktop/seq/skokholm_plant_2_14_1_out.csv',\n",
       " '/home/dennislab2/Desktop/seq/skokholm_plant_3_15_1_out.csv',\n",
       " '/home/dennislab2/Desktop/seq/skokholm_plant_2_12_1_out.csv',\n",
       " '/home/dennislab2/Desktop/seq/skokholm_plant_3_19_2_out.csv',\n",
       " '/home/dennislab2/Desktop/seq/skokholm_invert_3_21_1_out.csv',\n",
       " '/home/dennislab2/Desktop/seq/skokholm_plant_3_21_2_out.csv',\n",
       " '/home/dennislab2/Desktop/seq/skokholm_plant_2_15_2_out.csv',\n",
       " '/home/dennislab2/Desktop/seq/skokholm_invert_2_9_2_out.csv',\n",
       " '/home/dennislab2/Desktop/seq/skokholm_invert_3_22_1_out.csv',\n",
       " '/home/dennislab2/Desktop/seq/skokholm_plant_1_8_1_out.csv',\n",
       " '/home/dennislab2/Desktop/seq/skokholm_plant_1_1_2_out.csv',\n",
       " '/home/dennislab2/Desktop/seq/skokholm_plant_2_15_1_out.csv',\n",
       " '/home/dennislab2/Desktop/seq/skokholm_invert_3_4_1_out.csv',\n",
       " '/home/dennislab2/Desktop/seq/skokholm_invert_2_13_1_out.csv',\n",
       " '/home/dennislab2/Desktop/seq/skokholm_invert_1_7_2_out.csv',\n",
       " '/home/dennislab2/Desktop/seq/skokholm_invert_3_10_2_out.csv',\n",
       " '/home/dennislab2/Desktop/seq/skokholm_invert_1_13_2_out.csv',\n",
       " '/home/dennislab2/Desktop/seq/skokholm_plant_3_6_2_out.csv',\n",
       " '/home/dennislab2/Desktop/seq/skokholm_invert_3_15_2_out.csv',\n",
       " '/home/dennislab2/Desktop/seq/skokholm_plant_3_22_1_out.csv',\n",
       " '/home/dennislab2/Desktop/seq/skokholm_invert_3_24_1_out.csv',\n",
       " '/home/dennislab2/Desktop/seq/skokholm_plant_1_24_2_out.csv',\n",
       " '/home/dennislab2/Desktop/seq/skokholm_invert_2_16_1_out.csv',\n",
       " '/home/dennislab2/Desktop/seq/skokholm_invert_1_21_1_out.csv',\n",
       " '/home/dennislab2/Desktop/seq/skokholm_plant_2_5_2_out.csv',\n",
       " '/home/dennislab2/Desktop/seq/skokholm_plant_1_15_1_out.csv',\n",
       " '/home/dennislab2/Desktop/seq/skokholm_invert_1_4_1_out.csv',\n",
       " '/home/dennislab2/Desktop/seq/skokholm_invert_3_17_2_out.csv',\n",
       " '/home/dennislab2/Desktop/seq/skokholm_invert_1_21_2_out.csv',\n",
       " '/home/dennislab2/Desktop/seq/skokholm_plant_1_21_2_out.csv',\n",
       " '/home/dennislab2/Desktop/seq/skokholm_invert_1_4_2_out.csv',\n",
       " '/home/dennislab2/Desktop/seq/skokholm_invert_1_9_2_out.csv',\n",
       " '/home/dennislab2/Desktop/seq/skokholm_invert_1_18_2_out.csv',\n",
       " '/home/dennislab2/Desktop/seq/skokholm_invert_2_21_2_out.csv']"
      ]
     },
     "execution_count": 6,
     "metadata": {},
     "output_type": "execute_result"
    }
   ],
   "source": [
    "file_paths = [os.path.join(obi_out_fld,file) for file in os.listdir(obi_out_fld) if 'out.csv' in file]\n",
    "file_paths"
   ]
  },
  {
   "cell_type": "markdown",
   "id": "2f461c10-811c-4440-aa1c-41ae48a535d9",
   "metadata": {},
   "source": [
    "# Use case"
   ]
  },
  {
   "cell_type": "markdown",
   "id": "5a93cfb8-34b5-4132-a6e1-09b6c70e9f5e",
   "metadata": {},
   "source": [
    "# Procedure"
   ]
  },
  {
   "cell_type": "code",
   "execution_count": 10,
   "id": "119bf522",
   "metadata": {},
   "outputs": [
    {
     "data": {
      "text/html": [
       "<div>\n",
       "<style scoped>\n",
       "    .dataframe tbody tr th:only-of-type {\n",
       "        vertical-align: middle;\n",
       "    }\n",
       "\n",
       "    .dataframe tbody tr th {\n",
       "        vertical-align: top;\n",
       "    }\n",
       "\n",
       "    .dataframe thead th {\n",
       "        text-align: right;\n",
       "    }\n",
       "</style>\n",
       "<table border=\"1\" class=\"dataframe\">\n",
       "  <thead>\n",
       "    <tr style=\"text-align: right;\">\n",
       "      <th></th>\n",
       "      <th>ID_STATUS</th>\n",
       "      <th>BEST_MATCH_TAXIDS</th>\n",
       "      <th>NUC_SEQ</th>\n",
       "      <th>SCIENTIFIC_NAME</th>\n",
       "      <th>BEST_MATCH_IDS</th>\n",
       "      <th>TAXID</th>\n",
       "      <th>BEST_IDENTITY</th>\n",
       "      <th>COUNT</th>\n",
       "      <th>ID</th>\n",
       "      <th>DEFINITION</th>\n",
       "      <th>QUALITY</th>\n",
       "    </tr>\n",
       "  </thead>\n",
       "  <tbody>\n",
       "    <tr>\n",
       "      <th>0</th>\n",
       "      <td>False</td>\n",
       "      <td>NaN</td>\n",
       "      <td>tgtgaattgcaggattccggcaaaggttccttttaaaggcaatgaa...</td>\n",
       "      <td>NaN</td>\n",
       "      <td>NaN</td>\n",
       "      <td>NaN</td>\n",
       "      <td>0.0</td>\n",
       "      <td>1</td>\n",
       "      <td>MN00399:137:000H5TNVJ:1:11101:4944:1117</td>\n",
       "      <td>2:N:0:TAGGAGCT</td>\n",
       "      <td>[28, 37, 32, 32, 37, 37, 37, 37, 28, 37, 37, 3...</td>\n",
       "    </tr>\n",
       "    <tr>\n",
       "      <th>1</th>\n",
       "      <td>False</td>\n",
       "      <td>NaN</td>\n",
       "      <td>tgtgaattgcagaatcccgtgaaccatcgagtctttgaacgcaagt...</td>\n",
       "      <td>NaN</td>\n",
       "      <td>NaN</td>\n",
       "      <td>NaN</td>\n",
       "      <td>0.0</td>\n",
       "      <td>1</td>\n",
       "      <td>MN00399:137:000H5TNVJ:1:11101:16101:1124</td>\n",
       "      <td>2:N:0:TAGGAGCT</td>\n",
       "      <td>[37, 37, 32, 32, 32, 37, 37, 37, 37, 37, 37, 3...</td>\n",
       "    </tr>\n",
       "    <tr>\n",
       "      <th>2</th>\n",
       "      <td>False</td>\n",
       "      <td>NaN</td>\n",
       "      <td>cccgtttgatttggggtcacataaaagaggaagtttttatgatgtg...</td>\n",
       "      <td>NaN</td>\n",
       "      <td>NaN</td>\n",
       "      <td>NaN</td>\n",
       "      <td>0.0</td>\n",
       "      <td>1</td>\n",
       "      <td>MN00399:137:000H5TNVJ:1:11101:15383:1127</td>\n",
       "      <td>2:N:0:TAGGAGCT</td>\n",
       "      <td>[37, 37, 37, 37, 37, 37, 37, 37, 37, 37, 37, 3...</td>\n",
       "    </tr>\n",
       "    <tr>\n",
       "      <th>3</th>\n",
       "      <td>False</td>\n",
       "      <td>NaN</td>\n",
       "      <td>cccgtttgatttggggtcacaacgtttgtgtcgcaacaaggcaaca...</td>\n",
       "      <td>NaN</td>\n",
       "      <td>NaN</td>\n",
       "      <td>NaN</td>\n",
       "      <td>0.0</td>\n",
       "      <td>1</td>\n",
       "      <td>MN00399:137:000H5TNVJ:1:11101:14970:1131</td>\n",
       "      <td>2:N:0:TAGGAGCT</td>\n",
       "      <td>[37, 37, 37, 37, 37, 37, 37, 37, 37, 37, 37, 3...</td>\n",
       "    </tr>\n",
       "    <tr>\n",
       "      <th>4</th>\n",
       "      <td>False</td>\n",
       "      <td>NaN</td>\n",
       "      <td>cccggttgatttggggtcgcacgattaatctcatctgccaaaatta...</td>\n",
       "      <td>NaN</td>\n",
       "      <td>NaN</td>\n",
       "      <td>NaN</td>\n",
       "      <td>0.0</td>\n",
       "      <td>1</td>\n",
       "      <td>MN00399:137:000H5TNVJ:1:11101:25011:1148</td>\n",
       "      <td>2:N:0:TAGGAGCT</td>\n",
       "      <td>[37, 37, 37, 37, 37, 37, 37, 37, 37, 14, 37, 3...</td>\n",
       "    </tr>\n",
       "  </tbody>\n",
       "</table>\n",
       "</div>"
      ],
      "text/plain": [
       "   ID_STATUS  BEST_MATCH_TAXIDS  \\\n",
       "0      False                NaN   \n",
       "1      False                NaN   \n",
       "2      False                NaN   \n",
       "3      False                NaN   \n",
       "4      False                NaN   \n",
       "\n",
       "                                             NUC_SEQ  SCIENTIFIC_NAME  \\\n",
       "0  tgtgaattgcaggattccggcaaaggttccttttaaaggcaatgaa...              NaN   \n",
       "1  tgtgaattgcagaatcccgtgaaccatcgagtctttgaacgcaagt...              NaN   \n",
       "2  cccgtttgatttggggtcacataaaagaggaagtttttatgatgtg...              NaN   \n",
       "3  cccgtttgatttggggtcacaacgtttgtgtcgcaacaaggcaaca...              NaN   \n",
       "4  cccggttgatttggggtcgcacgattaatctcatctgccaaaatta...              NaN   \n",
       "\n",
       "   BEST_MATCH_IDS  TAXID  BEST_IDENTITY  COUNT  \\\n",
       "0             NaN    NaN            0.0      1   \n",
       "1             NaN    NaN            0.0      1   \n",
       "2             NaN    NaN            0.0      1   \n",
       "3             NaN    NaN            0.0      1   \n",
       "4             NaN    NaN            0.0      1   \n",
       "\n",
       "                                         ID      DEFINITION  \\\n",
       "0   MN00399:137:000H5TNVJ:1:11101:4944:1117  2:N:0:TAGGAGCT   \n",
       "1  MN00399:137:000H5TNVJ:1:11101:16101:1124  2:N:0:TAGGAGCT   \n",
       "2  MN00399:137:000H5TNVJ:1:11101:15383:1127  2:N:0:TAGGAGCT   \n",
       "3  MN00399:137:000H5TNVJ:1:11101:14970:1131  2:N:0:TAGGAGCT   \n",
       "4  MN00399:137:000H5TNVJ:1:11101:25011:1148  2:N:0:TAGGAGCT   \n",
       "\n",
       "                                             QUALITY  \n",
       "0  [28, 37, 32, 32, 37, 37, 37, 37, 28, 37, 37, 3...  \n",
       "1  [37, 37, 32, 32, 32, 37, 37, 37, 37, 37, 37, 3...  \n",
       "2  [37, 37, 37, 37, 37, 37, 37, 37, 37, 37, 37, 3...  \n",
       "3  [37, 37, 37, 37, 37, 37, 37, 37, 37, 37, 37, 3...  \n",
       "4  [37, 37, 37, 37, 37, 37, 37, 37, 37, 14, 37, 3...  "
      ]
     },
     "execution_count": 10,
     "metadata": {},
     "output_type": "execute_result"
    }
   ],
   "source": [
    "file = pd.read_table(file_paths[0])\n",
    "file.head()"
   ]
  },
  {
   "cell_type": "code",
   "execution_count": 11,
   "id": "5979854b",
   "metadata": {},
   "outputs": [
    {
     "data": {
      "text/plain": [
       "'tgtgaattgcaggattccggacgagctgggcgacggcaccgacgccgagatcgagaagatgcgtgagacggcggccaagaaaaactggcccgcggaagtgggcgagaccttcgagaaggagttgcagaaggtcgagcggctgaaccccgc'"
      ]
     },
     "execution_count": 11,
     "metadata": {},
     "output_type": "execute_result"
    }
   ],
   "source": [
    "file.NUC_SEQ[100]"
   ]
  },
  {
   "cell_type": "code",
   "execution_count": 12,
   "id": "0e5f49e8",
   "metadata": {},
   "outputs": [],
   "source": [
    "# want to get unique sequences, and then remove"
   ]
  },
  {
   "cell_type": "code",
   "execution_count": 13,
   "id": "28c6d24e",
   "metadata": {},
   "outputs": [],
   "source": [
    "unique_scinames = np.unique(file.SCIENTIFIC_NAME.dropna())"
   ]
  },
  {
   "cell_type": "code",
   "execution_count": 14,
   "id": "b2f465c0",
   "metadata": {},
   "outputs": [],
   "source": [
    "for sci_name in unique_scinames:\n",
    "    print(sci_name,len(file[file.SCIENTIFIC_NAME==sci_name]))"
   ]
  },
  {
   "cell_type": "code",
   "execution_count": 15,
   "id": "4bdbff2d",
   "metadata": {},
   "outputs": [
    {
     "data": {
      "text/plain": [
       "'tgtgaattgcaggattccggcaaaggttccttttaaaggcaatgaaagaagcatttccttccattcccgcattatatcgccggattcatccgtcacctccggattctgcgtagtcgtcacaagggccgccagaatctctcccgtcgcggc'"
      ]
     },
     "execution_count": 15,
     "metadata": {},
     "output_type": "execute_result"
    }
   ],
   "source": [
    "all_seqs = file.NUC_SEQ.to_list()\n",
    "all_seqs[0]"
   ]
  },
  {
   "cell_type": "code",
   "execution_count": 37,
   "id": "348c557b",
   "metadata": {},
   "outputs": [
    {
     "data": {
      "text/plain": [
       "'/home/dennislab2/Desktop/seq/skokholm_plant_2_20_1_out.csv'"
      ]
     },
     "execution_count": 37,
     "metadata": {},
     "output_type": "execute_result"
    }
   ],
   "source": [
    "file_paths[7]"
   ]
  },
  {
   "cell_type": "code",
   "execution_count": 40,
   "id": "d62ddb66",
   "metadata": {},
   "outputs": [],
   "source": [
    "def get_ncbi(file_path):\n",
    "    try:\n",
    "        file = pd.read_table(file_path)\n",
    "    except:\n",
    "        print('{} FAILED'.format(file_path))\n",
    "    all_seqs= np.array(file.NUC_SEQ)\n",
    "    list_of_seqs_lens=[]\n",
    "    list_of_seqs=[]\n",
    "    print('starting while loop for file_path {}'.format(file_path))\n",
    "\n",
    "    while len(all_seqs)>1:\n",
    "        seq = all_seqs[0]# add a sequence\n",
    "        bool_list=[]\n",
    "        # get similar sequences, delete from the all_seqs list before iterating\n",
    "        for i in np.arange(0,len(all_seqs)):\n",
    "                    # if 97% or better match, add a number fo the n_val\n",
    "                    if fuzz.ratio(seq,all_seqs[i]) >96:\n",
    "                        bool_list.append(False)\n",
    "                    else:\n",
    "                        bool_list.append(True)\n",
    "        num_of_seqs = len(bool_list) - np.sum(bool_list)\n",
    "        if num_of_seqs > 15:\n",
    "            list_of_seqs.append(seq)\n",
    "            list_of_seqs_lens.append(num_of_seqs)\n",
    "        all_seqs = list(compress(all_seqs,bool_list))\n",
    "    # save out as fasta!\n",
    "    # read in fasta!\n",
    "    result_list = []\n",
    "    seq_counter=-1\n",
    "    for seq in list_of_seqs:\n",
    "        seq_counter+=1\n",
    "        filename_new='/home/dennislab2/Desktop/genomics/2023_skokholm/ncbi_outputs/results_{}_{}.csv'.format(file_path.split('/')[-1].split('_out.csv')[0],seq_counter)\n",
    "        if os.path.isfile(filename_new):\n",
    "            print('already processed seq {}, skipping'.format(seq_counter))\n",
    "        else:\n",
    "            print('starting blast {} of {}'.format(seq_counter,len(list_of_seqs)))\n",
    "            result_handle = NCBIWWW.qblast('blastn','nt',seq)\n",
    "            results_filename = \"/home/dennislab2/Desktop/ncbi_outputs/results_{}_{}.xml\".format(file_path.split('/')[-1].split('_out.csv')[0],seq_counter)\n",
    "            data_tuples=[]\n",
    "            with open(results_filename, 'w') as save_file: \n",
    "                blast_results = result_handle.read()\n",
    "                save_file.write(blast_results)\n",
    "            for record in NCBIXML.parse(open(results_filename)): \n",
    "                if record.alignments: \n",
    "                    for align in record.alignments: \n",
    "                        for hsp in align.hsps: \n",
    "                            if hsp.expect < 1e-10:\n",
    "                                data_tuples.append((align.hit_def,align.accession,hsp.sbjct,hsp.identities,hsp.expect))\n",
    "            pd.DataFrame(data_tuples,columns=['hit_definition','hit_accession','subject','identities','expect']).to_csv(filename_new)"
   ]
  },
  {
   "cell_type": "code",
   "execution_count": 43,
   "id": "3923c50c",
   "metadata": {},
   "outputs": [
    {
     "data": {
      "text/plain": [
       "['/home/dennislab2/Desktop/seq/skokholm_plant_2_7_2_out.csv',\n",
       " '/home/dennislab2/Desktop/seq/skokholm_plant_2_6_2_out.csv',\n",
       " '/home/dennislab2/Desktop/seq/skokholm_invert_2_3_1_out.csv',\n",
       " '/home/dennislab2/Desktop/seq/skokholm_plant_2_19_1_out.csv',\n",
       " '/home/dennislab2/Desktop/seq/skokholm_plant_2_22_2_out.csv',\n",
       " '/home/dennislab2/Desktop/seq/skokholm_plant_3_3_2_out.csv',\n",
       " '/home/dennislab2/Desktop/seq/skokholm_invert_2_6_1_out.csv',\n",
       " '/home/dennislab2/Desktop/seq/skokholm_plant_2_20_1_out.csv',\n",
       " '/home/dennislab2/Desktop/seq/skokholm_invert_2_24_2_out.csv',\n",
       " '/home/dennislab2/Desktop/seq/skokholm_plant_3_17_2_out.csv',\n",
       " '/home/dennislab2/Desktop/seq/skokholm_invert_1_15_2_out.csv',\n",
       " '/home/dennislab2/Desktop/seq/skokholm_invert_3_17_1_out.csv',\n",
       " '/home/dennislab2/Desktop/seq/skokholm_invert_1_12_1_out.csv',\n",
       " '/home/dennislab2/Desktop/seq/skokholm_plant_2_2_1_out.csv',\n",
       " '/home/dennislab2/Desktop/seq/skokholm_plant_3_2_1_out.csv',\n",
       " '/home/dennislab2/Desktop/seq/skokholm_plant_1_20_2_out.csv',\n",
       " '/home/dennislab2/Desktop/seq/skokholm_invert_3_12_2_out.csv',\n",
       " '/home/dennislab2/Desktop/seq/skokholm_invert_2_13_2_out.csv',\n",
       " '/home/dennislab2/Desktop/seq/skokholm_plant_1_23_1_out.csv',\n",
       " '/home/dennislab2/Desktop/seq/skokholm_plant_2_21_2_out.csv',\n",
       " '/home/dennislab2/Desktop/seq/skokholm_invert_2_7_2_out.csv',\n",
       " '/home/dennislab2/Desktop/seq/skokholm_invert_3_14_2_out.csv',\n",
       " '/home/dennislab2/Desktop/seq/skokholm_plant_3_1_2_out.csv',\n",
       " '/home/dennislab2/Desktop/seq/skokholm_plant_3_18_2_out.csv',\n",
       " '/home/dennislab2/Desktop/seq/skokholm_plant_1_13_1_out.csv',\n",
       " '/home/dennislab2/Desktop/seq/skokholm_invert_3_13_1_out.csv',\n",
       " '/home/dennislab2/Desktop/seq/skokholm_plant_2_4_1_out.csv',\n",
       " '/home/dennislab2/Desktop/seq/skokholm_plant_1_7_2_out.csv',\n",
       " '/home/dennislab2/Desktop/seq/skokholm_invert_3_18_1_out.csv',\n",
       " '/home/dennislab2/Desktop/seq/skokholm_invert_3_10_1_out.csv',\n",
       " '/home/dennislab2/Desktop/seq/skokholm_invert_1_24_1_out.csv',\n",
       " '/home/dennislab2/Desktop/seq/skokholm_invert_2_22_1_out.csv',\n",
       " '/home/dennislab2/Desktop/seq/skokholm_invert_1_17_2_out.csv',\n",
       " '/home/dennislab2/Desktop/seq/skokholm_invert_1_22_1_out.csv',\n",
       " '/home/dennislab2/Desktop/seq/skokholm_invert_1_12_2_out.csv',\n",
       " '/home/dennislab2/Desktop/seq/skokholm_plant_3_24_1_out.csv',\n",
       " '/home/dennislab2/Desktop/seq/skokholm_invert_3_6_1_out.csv',\n",
       " '/home/dennislab2/Desktop/seq/skokholm_plant_1_12_1_out.csv',\n",
       " '/home/dennislab2/Desktop/seq/skokholm_invert_1_13_1_out.csv',\n",
       " '/home/dennislab2/Desktop/seq/skokholm_plant_2_2_2_out.csv',\n",
       " '/home/dennislab2/Desktop/seq/skokholm_invert_3_8_2_out.csv',\n",
       " '/home/dennislab2/Desktop/seq/skokholm_plant_2_16_1_out.csv',\n",
       " '/home/dennislab2/Desktop/seq/skokholm_invert_1_14_2_out.csv',\n",
       " '/home/dennislab2/Desktop/seq/skokholm_plant_3_18_1_out.csv',\n",
       " '/home/dennislab2/Desktop/seq/skokholm_invert_2_22_2_out.csv',\n",
       " '/home/dennislab2/Desktop/seq/skokholm_invert_3_5_2_out.csv',\n",
       " '/home/dennislab2/Desktop/seq/skokholm_invert_2_12_2_out.csv',\n",
       " '/home/dennislab2/Desktop/seq/skokholm_plant_1_22_1_out.csv',\n",
       " '/home/dennislab2/Desktop/seq/skokholm_invert_3_21_2_out.csv',\n",
       " '/home/dennislab2/Desktop/seq/skokholm_plant_2_4_2_out.csv',\n",
       " '/home/dennislab2/Desktop/seq/skokholm_invert_2_5_2_out.csv',\n",
       " '/home/dennislab2/Desktop/seq/skokholm_plant_1_4_2_out.csv',\n",
       " '/home/dennislab2/Desktop/seq/skokholm_invert_2_15_1_out.csv',\n",
       " '/home/dennislab2/Desktop/seq/skokholm_plant_1_3_2_out.csv',\n",
       " '/home/dennislab2/Desktop/seq/skokholm_plant_1_12_2_out.csv',\n",
       " '/home/dennislab2/Desktop/seq/skokholm_invert_1_22_2_out.csv',\n",
       " '/home/dennislab2/Desktop/seq/skokholm_plant_2_1_1_out.csv',\n",
       " '/home/dennislab2/Desktop/seq/skokholm_invert_2_3_2_out.csv',\n",
       " '/home/dennislab2/Desktop/seq/skokholm_invert_2_8_2_out.csv',\n",
       " '/home/dennislab2/Desktop/seq/skokholm_plant_3_20_1_out.csv',\n",
       " '/home/dennislab2/Desktop/seq/skokholm_invert_3_20_1_out.csv',\n",
       " '/home/dennislab2/Desktop/seq/skokholm_invert_3_6_2_out.csv',\n",
       " '/home/dennislab2/Desktop/seq/skokholm_plant_2_24_2_out.csv',\n",
       " '/home/dennislab2/Desktop/seq/skokholm_invert_1_1_2_out.csv',\n",
       " '/home/dennislab2/Desktop/seq/skokholm_plant_2_17_1_out.csv',\n",
       " '/home/dennislab2/Desktop/seq/skokholm_invert_1_16_2_out.csv',\n",
       " '/home/dennislab2/Desktop/seq/skokholm_plant_2_19_2_out.csv',\n",
       " '/home/dennislab2/Desktop/seq/skokholm_invert_1_23_1_out.csv',\n",
       " '/home/dennislab2/Desktop/seq/skokholm_invert_1_24_2_out.csv',\n",
       " '/home/dennislab2/Desktop/seq/skokholm_plant_3_16_2_out.csv',\n",
       " '/home/dennislab2/Desktop/seq/skokholm_invert_3_1_1_out.csv',\n",
       " '/home/dennislab2/Desktop/seq/skokholm_plant_3_16_1_out.csv',\n",
       " '/home/dennislab2/Desktop/seq/skokholm_invert_2_4_2_out.csv',\n",
       " '/home/dennislab2/Desktop/seq/skokholm_plant_3_14_2_out.csv',\n",
       " '/home/dennislab2/Desktop/seq/skokholm_plant_2_22_1_out.csv',\n",
       " '/home/dennislab2/Desktop/seq/skokholm_invert_2_18_1_out.csv',\n",
       " '/home/dennislab2/Desktop/seq/skokholm_plant_3_3_1_out.csv',\n",
       " '/home/dennislab2/Desktop/seq/skokholm_invert_3_14_1_out.csv',\n",
       " '/home/dennislab2/Desktop/seq/skokholm_invert_3_13_2_out.csv',\n",
       " '/home/dennislab2/Desktop/seq/skokholm_plant_3_8_1_out.csv',\n",
       " '/home/dennislab2/Desktop/seq/skokholm_plant_2_24_1_out.csv',\n",
       " '/home/dennislab2/Desktop/seq/skokholm_plant_2_6_1_out.csv',\n",
       " '/home/dennislab2/Desktop/seq/skokholm_invert_2_20_1_out.csv',\n",
       " '/home/dennislab2/Desktop/seq/skokholm_invert_3_24_2_out.csv',\n",
       " '/home/dennislab2/Desktop/seq/skokholm_plant_3_2_2_out.csv',\n",
       " '/home/dennislab2/Desktop/seq/skokholm_invert_1_20_2_out.csv',\n",
       " '/home/dennislab2/Desktop/seq/skokholm_plant_2_13_2_out.csv',\n",
       " '/home/dennislab2/Desktop/seq/skokholm_invert_2_16_2_out.csv',\n",
       " '/home/dennislab2/Desktop/seq/skokholm_plant_2_1_2_out.csv',\n",
       " '/home/dennislab2/Desktop/seq/skokholm_invert_3_7_2_out.csv',\n",
       " '/home/dennislab2/Desktop/seq/skokholm_plant_1_17_2_out.csv',\n",
       " '/home/dennislab2/Desktop/seq/skokholm_plant_3_11_1_out.csv',\n",
       " '/home/dennislab2/Desktop/seq/skokholm_invert_2_23_2_out.csv',\n",
       " '/home/dennislab2/Desktop/seq/skokholm_invert_1_8_1_out.csv',\n",
       " '/home/dennislab2/Desktop/seq/skokholm_plant_2_11_2_out.csv',\n",
       " '/home/dennislab2/Desktop/seq/skokholm_plant_1_9_1_out.csv',\n",
       " '/home/dennislab2/Desktop/seq/skokholm_plant_1_2_2_out.csv',\n",
       " '/home/dennislab2/Desktop/seq/skokholm_plant_3_12_2_out.csv',\n",
       " '/home/dennislab2/Desktop/seq/skokholm_plant_3_22_2_out.csv',\n",
       " '/home/dennislab2/Desktop/seq/skokholm_plant_1_2_1_out.csv',\n",
       " '/home/dennislab2/Desktop/seq/skokholm_invert_3_3_2_out.csv',\n",
       " '/home/dennislab2/Desktop/seq/skokholm_plant_1_1_1_out.csv',\n",
       " '/home/dennislab2/Desktop/seq/skokholm_invert_2_7_1_out.csv',\n",
       " '/home/dennislab2/Desktop/seq/skokholm_invert_2_8_1_out.csv',\n",
       " '/home/dennislab2/Desktop/seq/skokholm_invert_2_11_2_out.csv',\n",
       " '/home/dennislab2/Desktop/seq/skokholm_plant_2_18_2_out.csv',\n",
       " '/home/dennislab2/Desktop/seq/skokholm_plant_3_10_1_out.csv',\n",
       " '/home/dennislab2/Desktop/seq/skokholm_plant_1_21_1_out.csv',\n",
       " '/home/dennislab2/Desktop/seq/skokholm_invert_2_1_1_out.csv',\n",
       " '/home/dennislab2/Desktop/seq/skokholm_plant_2_5_1_out.csv',\n",
       " '/home/dennislab2/Desktop/seq/skokholm_plant_3_7_1_out.csv',\n",
       " '/home/dennislab2/Desktop/seq/skokholm_invert_3_9_2_out.csv',\n",
       " '/home/dennislab2/Desktop/seq/skokholm_plant_1_6_2_out.csv',\n",
       " '/home/dennislab2/Desktop/seq/skokholm_plant_1_19_2_out.csv',\n",
       " '/home/dennislab2/Desktop/seq/skokholm_plant_3_19_1_out.csv',\n",
       " '/home/dennislab2/Desktop/seq/skokholm_invert_1_23_2_out.csv',\n",
       " '/home/dennislab2/Desktop/seq/skokholm_invert_3_5_1_out.csv',\n",
       " '/home/dennislab2/Desktop/seq/skokholm_invert_1_2_1_out.csv',\n",
       " '/home/dennislab2/Desktop/seq/skokholm_invert_1_14_1_out.csv',\n",
       " '/home/dennislab2/Desktop/seq/skokholm_invert_2_14_2_out.csv',\n",
       " '/home/dennislab2/Desktop/seq/skokholm_plant_2_17_2_out.csv',\n",
       " '/home/dennislab2/Desktop/seq/skokholm_plant_1_23_2_out.csv',\n",
       " '/home/dennislab2/Desktop/seq/skokholm_plant_1_11_2_out.csv',\n",
       " '/home/dennislab2/Desktop/seq/skokholm_plant_3_7_2_out.csv',\n",
       " '/home/dennislab2/Desktop/seq/skokholm_plant_3_8_2_out.csv',\n",
       " '/home/dennislab2/Desktop/seq/skokholm_invert_1_5_1_out.csv',\n",
       " '/home/dennislab2/Desktop/seq/skokholm_invert_2_23_1_out.csv',\n",
       " '/home/dennislab2/Desktop/seq/skokholm_plant_2_13_1_out.csv',\n",
       " '/home/dennislab2/Desktop/seq/skokholm_invert_2_2_1_out.csv',\n",
       " '/home/dennislab2/Desktop/seq/skokholm_plant_3_20_2_out.csv',\n",
       " '/home/dennislab2/Desktop/seq/skokholm_plant_3_13_1_out.csv',\n",
       " '/home/dennislab2/Desktop/seq/skokholm_invert_1_20_1_out.csv',\n",
       " '/home/dennislab2/Desktop/seq/skokholm_plant_1_14_1_out.csv',\n",
       " '/home/dennislab2/Desktop/seq/skokholm_invert_1_8_2_out.csv',\n",
       " '/home/dennislab2/Desktop/seq/skokholm_plant_2_23_1_out.csv',\n",
       " '/home/dennislab2/Desktop/seq/skokholm_invert_1_10_1_out.csv',\n",
       " '/home/dennislab2/Desktop/seq/skokholm_plant_3_9_1_out.csv',\n",
       " '/home/dennislab2/Desktop/seq/skokholm_invert_2_17_2_out.csv',\n",
       " '/home/dennislab2/Desktop/seq/skokholm_invert_1_6_2_out.csv',\n",
       " '/home/dennislab2/Desktop/seq/skokholm_plant_2_14_2_out.csv',\n",
       " '/home/dennislab2/Desktop/seq/skokholm_plant_3_24_2_out.csv',\n",
       " '/home/dennislab2/Desktop/seq/skokholm_invert_3_20_2_out.csv',\n",
       " '/home/dennislab2/Desktop/seq/skokholm_invert_1_19_1_out.csv',\n",
       " '/home/dennislab2/Desktop/seq/skokholm_plant_2_18_1_out.csv',\n",
       " '/home/dennislab2/Desktop/seq/skokholm_plant_3_4_2_out.csv',\n",
       " '/home/dennislab2/Desktop/seq/skokholm_invert_3_4_2_out.csv',\n",
       " '/home/dennislab2/Desktop/seq/skokholm_invert_1_10_2_out.csv',\n",
       " '/home/dennislab2/Desktop/seq/skokholm_invert_3_19_2_out.csv',\n",
       " '/home/dennislab2/Desktop/seq/skokholm_plant_1_7_1_out.csv',\n",
       " '/home/dennislab2/Desktop/seq/skokholm_invert_2_19_1_out.csv',\n",
       " '/home/dennislab2/Desktop/seq/skokholm_plant_1_11_1_out.csv',\n",
       " '/home/dennislab2/Desktop/seq/skokholm_invert_1_9_1_out.csv',\n",
       " '/home/dennislab2/Desktop/seq/skokholm_invert_1_3_1_out.csv',\n",
       " '/home/dennislab2/Desktop/seq/skokholm_plant_1_14_2_out.csv',\n",
       " '/home/dennislab2/Desktop/seq/skokholm_invert_1_18_1_out.csv',\n",
       " '/home/dennislab2/Desktop/seq/skokholm_plant_1_4_1_out.csv',\n",
       " '/home/dennislab2/Desktop/seq/skokholm_plant_2_8_2_out.csv',\n",
       " '/home/dennislab2/Desktop/seq/skokholm_invert_3_8_1_out.csv',\n",
       " '/home/dennislab2/Desktop/seq/skokholm_plant_1_6_1_out.csv',\n",
       " '/home/dennislab2/Desktop/seq/skokholm_plant_3_23_1_out.csv',\n",
       " '/home/dennislab2/Desktop/seq/skokholm_plant_3_6_1_out.csv',\n",
       " '/home/dennislab2/Desktop/seq/skokholm_plant_1_8_2_out.csv',\n",
       " '/home/dennislab2/Desktop/seq/skokholm_plant_1_9_2_out.csv',\n",
       " '/home/dennislab2/Desktop/seq/skokholm_plant_1_20_1_out.csv',\n",
       " '/home/dennislab2/Desktop/seq/skokholm_plant_2_7_1_out.csv',\n",
       " '/home/dennislab2/Desktop/seq/skokholm_plant_3_10_2_out.csv',\n",
       " '/home/dennislab2/Desktop/seq/skokholm_plant_1_16_1_out.csv',\n",
       " '/home/dennislab2/Desktop/seq/skokholm_invert_2_24_1_out.csv',\n",
       " '/home/dennislab2/Desktop/seq/skokholm_invert_3_2_1_out.csv',\n",
       " '/home/dennislab2/Desktop/seq/skokholm_invert_1_15_1_out.csv',\n",
       " '/home/dennislab2/Desktop/seq/skokholm_plant_1_19_1_out.csv',\n",
       " '/home/dennislab2/Desktop/seq/skokholm_invert_2_10_1_out.csv',\n",
       " '/home/dennislab2/Desktop/seq/skokholm_plant_1_24_1_out.csv',\n",
       " '/home/dennislab2/Desktop/seq/skokholm_plant_3_17_1_out.csv',\n",
       " '/home/dennislab2/Desktop/seq/skokholm_invert_3_23_2_out.csv',\n",
       " '/home/dennislab2/Desktop/seq/skokholm_plant_2_21_1_out.csv',\n",
       " '/home/dennislab2/Desktop/seq/skokholm_plant_1_17_1_out.csv',\n",
       " '/home/dennislab2/Desktop/seq/skokholm_invert_3_3_1_out.csv',\n",
       " '/home/dennislab2/Desktop/seq/skokholm_invert_2_9_1_out.csv',\n",
       " '/home/dennislab2/Desktop/seq/skokholm_invert_3_1_2_out.csv',\n",
       " '/home/dennislab2/Desktop/seq/skokholm_invert_3_12_1_out.csv',\n",
       " '/home/dennislab2/Desktop/seq/skokholm_invert_3_23_1_out.csv',\n",
       " '/home/dennislab2/Desktop/seq/skokholm_invert_2_12_1_out.csv',\n",
       " '/home/dennislab2/Desktop/seq/skokholm_plant_2_23_2_out.csv',\n",
       " '/home/dennislab2/Desktop/seq/skokholm_plant_3_1_1_out.csv',\n",
       " '/home/dennislab2/Desktop/seq/skokholm_invert_3_19_1_out.csv',\n",
       " '/home/dennislab2/Desktop/seq/skokholm_plant_1_13_2_out.csv',\n",
       " '/home/dennislab2/Desktop/seq/skokholm_plant_1_10_2_out.csv',\n",
       " '/home/dennislab2/Desktop/seq/skokholm_plant_2_9_1_out.csv',\n",
       " '/home/dennislab2/Desktop/seq/skokholm_plant_2_12_2_out.csv',\n",
       " '/home/dennislab2/Desktop/seq/skokholm_invert_3_11_2_out.csv',\n",
       " '/home/dennislab2/Desktop/seq/skokholm_plant_3_5_1_out.csv',\n",
       " '/home/dennislab2/Desktop/seq/skokholm_plant_3_14_1_out.csv',\n",
       " '/home/dennislab2/Desktop/seq/skokholm_invert_2_21_1_out.csv',\n",
       " '/home/dennislab2/Desktop/seq/skokholm_invert_2_4_1_out.csv',\n",
       " '/home/dennislab2/Desktop/seq/skokholm_invert_2_5_1_out.csv',\n",
       " '/home/dennislab2/Desktop/seq/skokholm_invert_1_1_1_out.csv',\n",
       " '/home/dennislab2/Desktop/seq/skokholm_plant_1_18_2_out.csv',\n",
       " '/home/dennislab2/Desktop/seq/skokholm_invert_2_18_2_out.csv',\n",
       " '/home/dennislab2/Desktop/seq/skokholm_invert_1_2_2_out.csv',\n",
       " '/home/dennislab2/Desktop/seq/skokholm_invert_1_3_2_out.csv',\n",
       " '/home/dennislab2/Desktop/seq/skokholm_plant_2_10_2_out.csv',\n",
       " '/home/dennislab2/Desktop/seq/skokholm_invert_2_10_2_out.csv',\n",
       " '/home/dennislab2/Desktop/seq/skokholm_plant_1_5_1_out.csv',\n",
       " '/home/dennislab2/Desktop/seq/skokholm_invert_2_19_2_out.csv',\n",
       " '/home/dennislab2/Desktop/seq/skokholm_invert_2_15_2_out.csv',\n",
       " '/home/dennislab2/Desktop/seq/skokholm_plant_1_18_1_out.csv',\n",
       " '/home/dennislab2/Desktop/seq/skokholm_invert_3_11_1_out.csv',\n",
       " '/home/dennislab2/Desktop/seq/skokholm_invert_2_11_1_out.csv',\n",
       " '/home/dennislab2/Desktop/seq/skokholm_plant_2_10_1_out.csv',\n",
       " '/home/dennislab2/Desktop/seq/skokholm_plant_2_3_1_out.csv',\n",
       " '/home/dennislab2/Desktop/seq/skokholm_plant_3_23_2_out.csv',\n",
       " '/home/dennislab2/Desktop/seq/skokholm_plant_2_8_1_out.csv',\n",
       " '/home/dennislab2/Desktop/seq/skokholm_invert_1_7_1_out.csv',\n",
       " '/home/dennislab2/Desktop/seq/skokholm_plant_1_15_2_out.csv',\n",
       " '/home/dennislab2/Desktop/seq/skokholm_plant_3_9_2_out.csv',\n",
       " '/home/dennislab2/Desktop/seq/skokholm_plant_3_5_2_out.csv',\n",
       " '/home/dennislab2/Desktop/seq/skokholm_plant_3_12_1_out.csv',\n",
       " '/home/dennislab2/Desktop/seq/skokholm_invert_2_6_2_out.csv',\n",
       " '/home/dennislab2/Desktop/seq/skokholm_invert_3_2_2_out.csv',\n",
       " '/home/dennislab2/Desktop/seq/skokholm_invert_2_2_2_out.csv',\n",
       " '/home/dennislab2/Desktop/seq/skokholm_invert_2_20_2_out.csv',\n",
       " '/home/dennislab2/Desktop/seq/skokholm_invert_1_16_1_out.csv',\n",
       " '/home/dennislab2/Desktop/seq/skokholm_plant_3_21_1_out.csv',\n",
       " '/home/dennislab2/Desktop/seq/skokholm_plant_1_22_2_out.csv',\n",
       " '/home/dennislab2/Desktop/seq/skokholm_invert_3_18_2_out.csv',\n",
       " '/home/dennislab2/Desktop/seq/skokholm_invert_1_19_2_out.csv',\n",
       " '/home/dennislab2/Desktop/seq/skokholm_invert_1_5_2_out.csv',\n",
       " '/home/dennislab2/Desktop/seq/skokholm_plant_3_4_1_out.csv',\n",
       " '/home/dennislab2/Desktop/seq/skokholm_plant_1_10_1_out.csv',\n",
       " '/home/dennislab2/Desktop/seq/skokholm_plant_1_16_2_out.csv',\n",
       " '/home/dennislab2/Desktop/seq/skokholm_invert_3_16_1_out.csv',\n",
       " '/home/dennislab2/Desktop/seq/skokholm_invert_1_17_1_out.csv',\n",
       " '/home/dennislab2/Desktop/seq/skokholm_invert_1_11_1_out.csv',\n",
       " '/home/dennislab2/Desktop/seq/skokholm_plant_1_5_2_out.csv',\n",
       " '/home/dennislab2/Desktop/seq/skokholm_plant_2_3_2_out.csv',\n",
       " '/home/dennislab2/Desktop/seq/skokholm_invert_3_7_1_out.csv',\n",
       " '/home/dennislab2/Desktop/seq/skokholm_plant_3_15_2_out.csv',\n",
       " '/home/dennislab2/Desktop/seq/skokholm_invert_2_17_1_out.csv',\n",
       " '/home/dennislab2/Desktop/seq/skokholm_invert_3_15_1_out.csv',\n",
       " '/home/dennislab2/Desktop/seq/skokholm_plant_2_11_1_out.csv',\n",
       " '/home/dennislab2/Desktop/seq/skokholm_invert_1_11_2_out.csv',\n",
       " '/home/dennislab2/Desktop/seq/skokholm_invert_2_14_1_out.csv',\n",
       " '/home/dennislab2/Desktop/seq/skokholm_invert_3_16_2_out.csv',\n",
       " '/home/dennislab2/Desktop/seq/skokholm_plant_3_11_2_out.csv',\n",
       " '/home/dennislab2/Desktop/seq/skokholm_invert_3_9_1_out.csv',\n",
       " '/home/dennislab2/Desktop/seq/skokholm_plant_2_16_2_out.csv',\n",
       " '/home/dennislab2/Desktop/seq/skokholm_plant_2_20_2_out.csv',\n",
       " '/home/dennislab2/Desktop/seq/skokholm_plant_2_9_2_out.csv',\n",
       " '/home/dennislab2/Desktop/seq/skokholm_invert_2_1_2_out.csv',\n",
       " '/home/dennislab2/Desktop/seq/skokholm_invert_3_22_2_out.csv',\n",
       " '/home/dennislab2/Desktop/seq/skokholm_invert_1_6_1_out.csv',\n",
       " '/home/dennislab2/Desktop/seq/skokholm_plant_3_13_2_out.csv',\n",
       " '/home/dennislab2/Desktop/seq/skokholm_plant_1_3_1_out.csv',\n",
       " '/home/dennislab2/Desktop/seq/skokholm_plant_2_14_1_out.csv',\n",
       " '/home/dennislab2/Desktop/seq/skokholm_plant_3_15_1_out.csv',\n",
       " '/home/dennislab2/Desktop/seq/skokholm_plant_2_12_1_out.csv',\n",
       " '/home/dennislab2/Desktop/seq/skokholm_plant_3_19_2_out.csv',\n",
       " '/home/dennislab2/Desktop/seq/skokholm_invert_3_21_1_out.csv',\n",
       " '/home/dennislab2/Desktop/seq/skokholm_plant_3_21_2_out.csv',\n",
       " '/home/dennislab2/Desktop/seq/skokholm_plant_2_15_2_out.csv',\n",
       " '/home/dennislab2/Desktop/seq/skokholm_invert_2_9_2_out.csv',\n",
       " '/home/dennislab2/Desktop/seq/skokholm_invert_3_22_1_out.csv',\n",
       " '/home/dennislab2/Desktop/seq/skokholm_plant_1_8_1_out.csv',\n",
       " '/home/dennislab2/Desktop/seq/skokholm_plant_1_1_2_out.csv',\n",
       " '/home/dennislab2/Desktop/seq/skokholm_plant_2_15_1_out.csv',\n",
       " '/home/dennislab2/Desktop/seq/skokholm_invert_3_4_1_out.csv',\n",
       " '/home/dennislab2/Desktop/seq/skokholm_invert_2_13_1_out.csv',\n",
       " '/home/dennislab2/Desktop/seq/skokholm_invert_1_7_2_out.csv',\n",
       " '/home/dennislab2/Desktop/seq/skokholm_invert_3_10_2_out.csv',\n",
       " '/home/dennislab2/Desktop/seq/skokholm_invert_1_13_2_out.csv',\n",
       " '/home/dennislab2/Desktop/seq/skokholm_plant_3_6_2_out.csv',\n",
       " '/home/dennislab2/Desktop/seq/skokholm_invert_3_15_2_out.csv',\n",
       " '/home/dennislab2/Desktop/seq/skokholm_plant_3_22_1_out.csv',\n",
       " '/home/dennislab2/Desktop/seq/skokholm_invert_3_24_1_out.csv',\n",
       " '/home/dennislab2/Desktop/seq/skokholm_plant_1_24_2_out.csv',\n",
       " '/home/dennislab2/Desktop/seq/skokholm_invert_2_16_1_out.csv',\n",
       " '/home/dennislab2/Desktop/seq/skokholm_invert_1_21_1_out.csv',\n",
       " '/home/dennislab2/Desktop/seq/skokholm_plant_2_5_2_out.csv',\n",
       " '/home/dennislab2/Desktop/seq/skokholm_plant_1_15_1_out.csv',\n",
       " '/home/dennislab2/Desktop/seq/skokholm_invert_1_4_1_out.csv',\n",
       " '/home/dennislab2/Desktop/seq/skokholm_invert_3_17_2_out.csv',\n",
       " '/home/dennislab2/Desktop/seq/skokholm_invert_1_21_2_out.csv',\n",
       " '/home/dennislab2/Desktop/seq/skokholm_plant_1_21_2_out.csv',\n",
       " '/home/dennislab2/Desktop/seq/skokholm_invert_1_4_2_out.csv',\n",
       " '/home/dennislab2/Desktop/seq/skokholm_invert_1_9_2_out.csv',\n",
       " '/home/dennislab2/Desktop/seq/skokholm_invert_1_18_2_out.csv',\n",
       " '/home/dennislab2/Desktop/seq/skokholm_invert_2_21_2_out.csv']"
      ]
     },
     "execution_count": 43,
     "metadata": {},
     "output_type": "execute_result"
    }
   ],
   "source": [
    "file_paths"
   ]
  },
  {
   "cell_type": "code",
   "execution_count": 44,
   "id": "5be6ef4d",
   "metadata": {},
   "outputs": [
    {
     "name": "stdout",
     "output_type": "stream",
     "text": [
      "/home/dennislab2/Desktop/seq/skokholm_invert_2_3_1_out.csv FAILED\n",
      "/home/dennislab2/Desktop/seq/skokholm_plant_3_3_2_out.csv FAILED\n",
      "starting while loop for file_path /home/dennislab2/Desktop/seq/skokholm_plant_2_22_2_out.csv\n",
      "starting while loop for file_path /home/dennislab2/Desktop/seq/skokholm_invert_2_24_2_out.csv\n",
      "starting while loop for file_path /home/dennislab2/Desktop/seq/skokholm_plant_2_20_1_out.csv\n",
      "starting while loop for file_path /home/dennislab2/Desktop/seq/skokholm_invert_2_6_1_out.csv\n",
      "starting while loop for file_path /home/dennislab2/Desktop/seq/skokholm_plant_2_6_2_out.csv\n",
      "starting while loop for file_path /home/dennislab2/Desktop/seq/skokholm_plant_2_19_1_out.csv\n",
      "starting while loop for file_path /home/dennislab2/Desktop/seq/skokholm_plant_3_17_2_out.csv\n",
      "starting blast 0 of 106\n",
      "starting blast 0 of 32\n",
      "starting blast 0 of 22\n",
      "already processed seq 0, skipping\n",
      "already processed seq 1, skipping\n",
      "already processed seq 2, skipping\n",
      "already processed seq 3, skipping\n",
      "already processed seq 4, skipping\n",
      "already processed seq 5, skipping\n",
      "already processed seq 6, skipping\n",
      "already processed seq 7, skipping\n",
      "already processed seq 8, skipping\n",
      "already processed seq 9, skipping\n",
      "already processed seq 10, skipping\n",
      "already processed seq 11, skipping\n",
      "already processed seq 12, skipping\n",
      "already processed seq 13, skipping\n",
      "already processed seq 14, skipping\n",
      "already processed seq 15, skipping\n",
      "already processed seq 16, skipping\n",
      "already processed seq 17, skipping\n",
      "already processed seq 18, skipping\n",
      "already processed seq 19, skipping\n",
      "already processed seq 20, skipping\n",
      "already processed seq 21, skipping\n",
      "already processed seq 22, skipping\n",
      "already processed seq 23, skipping\n",
      "already processed seq 24, skipping\n",
      "already processed seq 25, skipping\n",
      "already processed seq 26, skipping\n",
      "already processed seq 27, skipping\n",
      "already processed seq 28, skipping\n",
      "already processed seq 29, skipping\n",
      "already processed seq 30, skipping\n",
      "already processed seq 31, skipping\n",
      "already processed seq 32, skipping\n",
      "already processed seq 33, skipping\n",
      "already processed seq 34, skipping\n",
      "already processed seq 35, skipping\n",
      "already processed seq 36, skipping\n",
      "already processed seq 37, skipping\n",
      "already processed seq 38, skipping\n",
      "already processed seq 39, skipping\n",
      "already processed seq 40, skipping\n",
      "already processed seq 41, skipping\n",
      "starting blast 42 of 143\n",
      "starting blast 0 of 195\n",
      "starting blast 0 of 142\n",
      "starting blast 0 of 214\n",
      "starting blast 1 of 106\n",
      "starting blast 1 of 32\n",
      "starting blast 1 of 22\n",
      "starting blast 2 of 22\n",
      "starting blast 43 of 143\n",
      "starting blast 1 of 195\n",
      "starting blast 1 of 142\n",
      "starting blast 1 of 214\n",
      "starting blast 2 of 106\n",
      "starting blast 3 of 22\n",
      "starting blast 2 of 32\n",
      "starting blast 44 of 143\n"
     ]
    },
    {
     "name": "stderr",
     "output_type": "stream",
     "text": [
      "Process ForkPoolWorker-397:\n",
      "Process ForkPoolWorker-377:\n",
      "Process ForkPoolWorker-388:\n",
      "Process ForkPoolWorker-403:\n",
      "Process ForkPoolWorker-409:\n",
      "Process ForkPoolWorker-400:\n",
      "Process ForkPoolWorker-399:\n",
      "Process ForkPoolWorker-405:\n",
      "Process ForkPoolWorker-404:\n",
      "Process ForkPoolWorker-402:\n",
      "Process ForkPoolWorker-401:\n",
      "Process ForkPoolWorker-410:\n",
      "Process ForkPoolWorker-408:\n",
      "Process ForkPoolWorker-394:\n",
      "Process ForkPoolWorker-378:\n",
      "Process ForkPoolWorker-407:\n",
      "Process ForkPoolWorker-383:\n",
      "Process ForkPoolWorker-376:\n",
      "Process ForkPoolWorker-379:\n",
      "Process ForkPoolWorker-406:\n",
      "Process ForkPoolWorker-382:\n",
      "Process ForkPoolWorker-381:\n",
      "Process ForkPoolWorker-398:\n",
      "Traceback (most recent call last):\n",
      "Process ForkPoolWorker-375:\n",
      "Process ForkPoolWorker-390:\n",
      "Process ForkPoolWorker-380:\n",
      "Process ForkPoolWorker-384:\n",
      "Process ForkPoolWorker-385:\n",
      "Process ForkPoolWorker-391:\n",
      "Process ForkPoolWorker-393:\n",
      "Traceback (most recent call last):\n",
      "Process ForkPoolWorker-392:\n",
      "Traceback (most recent call last):\n",
      "Traceback (most recent call last):\n",
      "Traceback (most recent call last):\n",
      "Traceback (most recent call last):\n",
      "Traceback (most recent call last):\n",
      "Process ForkPoolWorker-389:\n",
      "Traceback (most recent call last):\n",
      "Traceback (most recent call last):\n",
      "Traceback (most recent call last):\n",
      "Traceback (most recent call last):\n",
      "Traceback (most recent call last):\n",
      "Traceback (most recent call last):\n",
      "Process ForkPoolWorker-387:\n",
      "  File \"/home/dennislab2/mambaforge/envs/fieldwork/lib/python3.11/multiprocessing/process.py\", line 314, in _bootstrap\n",
      "    self.run()\n",
      "Traceback (most recent call last):\n",
      "Traceback (most recent call last):\n",
      "Traceback (most recent call last):\n",
      "Traceback (most recent call last):\n",
      "Traceback (most recent call last):\n",
      "Process ForkPoolWorker-386:\n",
      "Traceback (most recent call last):\n",
      "Traceback (most recent call last):\n",
      "Traceback (most recent call last):\n",
      "Traceback (most recent call last):\n",
      "Traceback (most recent call last):\n",
      "Traceback (most recent call last):\n",
      "Traceback (most recent call last):\n",
      "  File \"/home/dennislab2/mambaforge/envs/fieldwork/lib/python3.11/multiprocessing/process.py\", line 314, in _bootstrap\n",
      "    self.run()\n",
      "  File \"/home/dennislab2/mambaforge/envs/fieldwork/lib/python3.11/multiprocessing/process.py\", line 314, in _bootstrap\n",
      "    self.run()\n",
      "  File \"/home/dennislab2/mambaforge/envs/fieldwork/lib/python3.11/multiprocessing/process.py\", line 314, in _bootstrap\n",
      "    self.run()\n",
      "Traceback (most recent call last):\n",
      "Traceback (most recent call last):\n",
      "  File \"/home/dennislab2/mambaforge/envs/fieldwork/lib/python3.11/multiprocessing/process.py\", line 314, in _bootstrap\n",
      "    self.run()\n",
      "  File \"/home/dennislab2/mambaforge/envs/fieldwork/lib/python3.11/multiprocessing/process.py\", line 314, in _bootstrap\n",
      "    self.run()\n",
      "Traceback (most recent call last):\n",
      "  File \"/home/dennislab2/mambaforge/envs/fieldwork/lib/python3.11/multiprocessing/process.py\", line 314, in _bootstrap\n",
      "    self.run()\n",
      "  File \"/home/dennislab2/mambaforge/envs/fieldwork/lib/python3.11/multiprocessing/process.py\", line 314, in _bootstrap\n",
      "    self.run()\n",
      "  File \"/home/dennislab2/mambaforge/envs/fieldwork/lib/python3.11/multiprocessing/process.py\", line 314, in _bootstrap\n",
      "    self.run()\n",
      "  File \"/home/dennislab2/mambaforge/envs/fieldwork/lib/python3.11/multiprocessing/process.py\", line 314, in _bootstrap\n",
      "    self.run()\n",
      "  File \"/home/dennislab2/mambaforge/envs/fieldwork/lib/python3.11/multiprocessing/process.py\", line 314, in _bootstrap\n",
      "    self.run()\n",
      "  File \"/home/dennislab2/mambaforge/envs/fieldwork/lib/python3.11/multiprocessing/process.py\", line 108, in run\n",
      "    self._target(*self._args, **self._kwargs)\n",
      "Traceback (most recent call last):\n",
      "Traceback (most recent call last):\n",
      "  File \"/home/dennislab2/mambaforge/envs/fieldwork/lib/python3.11/multiprocessing/process.py\", line 314, in _bootstrap\n",
      "    self.run()\n",
      "  File \"/home/dennislab2/mambaforge/envs/fieldwork/lib/python3.11/multiprocessing/process.py\", line 314, in _bootstrap\n",
      "    self.run()\n",
      "  File \"/home/dennislab2/mambaforge/envs/fieldwork/lib/python3.11/multiprocessing/process.py\", line 314, in _bootstrap\n",
      "    self.run()\n",
      "  File \"/home/dennislab2/mambaforge/envs/fieldwork/lib/python3.11/multiprocessing/process.py\", line 314, in _bootstrap\n",
      "    self.run()\n",
      "  File \"/home/dennislab2/mambaforge/envs/fieldwork/lib/python3.11/multiprocessing/process.py\", line 314, in _bootstrap\n",
      "    self.run()\n",
      "  File \"/home/dennislab2/mambaforge/envs/fieldwork/lib/python3.11/multiprocessing/process.py\", line 314, in _bootstrap\n",
      "    self.run()\n",
      "  File \"/home/dennislab2/mambaforge/envs/fieldwork/lib/python3.11/multiprocessing/process.py\", line 314, in _bootstrap\n",
      "    self.run()\n",
      "  File \"/home/dennislab2/mambaforge/envs/fieldwork/lib/python3.11/multiprocessing/process.py\", line 314, in _bootstrap\n",
      "    self.run()\n",
      "Traceback (most recent call last):\n",
      "  File \"/home/dennislab2/mambaforge/envs/fieldwork/lib/python3.11/multiprocessing/process.py\", line 314, in _bootstrap\n",
      "    self.run()\n",
      "  File \"/home/dennislab2/mambaforge/envs/fieldwork/lib/python3.11/multiprocessing/process.py\", line 314, in _bootstrap\n",
      "    self.run()\n",
      "  File \"/home/dennislab2/mambaforge/envs/fieldwork/lib/python3.11/multiprocessing/process.py\", line 314, in _bootstrap\n",
      "    self.run()\n",
      "  File \"/home/dennislab2/mambaforge/envs/fieldwork/lib/python3.11/multiprocessing/process.py\", line 314, in _bootstrap\n",
      "    self.run()\n",
      "  File \"/home/dennislab2/mambaforge/envs/fieldwork/lib/python3.11/multiprocessing/process.py\", line 108, in run\n",
      "    self._target(*self._args, **self._kwargs)\n",
      "Traceback (most recent call last):\n",
      "  File \"/home/dennislab2/mambaforge/envs/fieldwork/lib/python3.11/multiprocessing/process.py\", line 314, in _bootstrap\n",
      "    self.run()\n",
      "Traceback (most recent call last):\n",
      "Traceback (most recent call last):\n",
      "  File \"/home/dennislab2/mambaforge/envs/fieldwork/lib/python3.11/multiprocessing/process.py\", line 108, in run\n",
      "    self._target(*self._args, **self._kwargs)\n",
      "  File \"/home/dennislab2/mambaforge/envs/fieldwork/lib/python3.11/multiprocessing/process.py\", line 314, in _bootstrap\n",
      "    self.run()\n",
      "  File \"/home/dennislab2/mambaforge/envs/fieldwork/lib/python3.11/multiprocessing/process.py\", line 108, in run\n",
      "    self._target(*self._args, **self._kwargs)\n",
      "  File \"/home/dennislab2/mambaforge/envs/fieldwork/lib/python3.11/multiprocessing/process.py\", line 108, in run\n",
      "    self._target(*self._args, **self._kwargs)\n",
      "  File \"/home/dennislab2/mambaforge/envs/fieldwork/lib/python3.11/multiprocessing/process.py\", line 108, in run\n",
      "    self._target(*self._args, **self._kwargs)\n",
      "  File \"/home/dennislab2/mambaforge/envs/fieldwork/lib/python3.11/multiprocessing/process.py\", line 108, in run\n",
      "    self._target(*self._args, **self._kwargs)\n",
      "  File \"/home/dennislab2/mambaforge/envs/fieldwork/lib/python3.11/multiprocessing/process.py\", line 314, in _bootstrap\n",
      "    self.run()\n",
      "  File \"/home/dennislab2/mambaforge/envs/fieldwork/lib/python3.11/multiprocessing/process.py\", line 108, in run\n",
      "    self._target(*self._args, **self._kwargs)\n",
      "  File \"/home/dennislab2/mambaforge/envs/fieldwork/lib/python3.11/multiprocessing/process.py\", line 314, in _bootstrap\n",
      "    self.run()\n",
      "  File \"/home/dennislab2/mambaforge/envs/fieldwork/lib/python3.11/multiprocessing/process.py\", line 108, in run\n",
      "    self._target(*self._args, **self._kwargs)\n",
      "  File \"/home/dennislab2/mambaforge/envs/fieldwork/lib/python3.11/multiprocessing/process.py\", line 108, in run\n",
      "    self._target(*self._args, **self._kwargs)\n",
      "  File \"/home/dennislab2/mambaforge/envs/fieldwork/lib/python3.11/multiprocessing/process.py\", line 108, in run\n",
      "    self._target(*self._args, **self._kwargs)\n",
      "  File \"/home/dennislab2/mambaforge/envs/fieldwork/lib/python3.11/multiprocessing/process.py\", line 108, in run\n",
      "    self._target(*self._args, **self._kwargs)\n",
      "  File \"/home/dennislab2/mambaforge/envs/fieldwork/lib/python3.11/multiprocessing/process.py\", line 314, in _bootstrap\n",
      "    self.run()\n",
      "  File \"/home/dennislab2/mambaforge/envs/fieldwork/lib/python3.11/multiprocessing/pool.py\", line 114, in worker\n",
      "    task = get()\n",
      "           ^^^^^\n",
      "  File \"/home/dennislab2/mambaforge/envs/fieldwork/lib/python3.11/multiprocessing/process.py\", line 314, in _bootstrap\n",
      "    self.run()\n",
      "  File \"/home/dennislab2/mambaforge/envs/fieldwork/lib/python3.11/multiprocessing/process.py\", line 108, in run\n",
      "    self._target(*self._args, **self._kwargs)\n"
     ]
    },
    {
     "name": "stderr",
     "output_type": "stream",
     "text": [
      "  File \"/home/dennislab2/mambaforge/envs/fieldwork/lib/python3.11/multiprocessing/process.py\", line 108, in run\n",
      "    self._target(*self._args, **self._kwargs)\n",
      "  File \"/home/dennislab2/mambaforge/envs/fieldwork/lib/python3.11/multiprocessing/process.py\", line 108, in run\n",
      "    self._target(*self._args, **self._kwargs)\n",
      "  File \"/home/dennislab2/mambaforge/envs/fieldwork/lib/python3.11/multiprocessing/process.py\", line 108, in run\n",
      "    self._target(*self._args, **self._kwargs)\n",
      "  File \"/home/dennislab2/mambaforge/envs/fieldwork/lib/python3.11/multiprocessing/process.py\", line 108, in run\n",
      "    self._target(*self._args, **self._kwargs)\n",
      "  File \"/home/dennislab2/mambaforge/envs/fieldwork/lib/python3.11/multiprocessing/process.py\", line 108, in run\n",
      "    self._target(*self._args, **self._kwargs)\n",
      "  File \"/home/dennislab2/mambaforge/envs/fieldwork/lib/python3.11/multiprocessing/process.py\", line 108, in run\n",
      "    self._target(*self._args, **self._kwargs)\n",
      "  File \"/home/dennislab2/mambaforge/envs/fieldwork/lib/python3.11/multiprocessing/process.py\", line 314, in _bootstrap\n",
      "    self.run()\n",
      "Process ForkPoolWorker-396:\n",
      "  File \"/home/dennislab2/mambaforge/envs/fieldwork/lib/python3.11/multiprocessing/process.py\", line 108, in run\n",
      "    self._target(*self._args, **self._kwargs)\n",
      "  File \"/home/dennislab2/mambaforge/envs/fieldwork/lib/python3.11/multiprocessing/process.py\", line 108, in run\n",
      "    self._target(*self._args, **self._kwargs)\n"
     ]
    },
    {
     "ename": "KeyboardInterrupt",
     "evalue": "",
     "output_type": "error",
     "traceback": [
      "\u001b[0;31m---------------------------------------------------------------------------\u001b[0m",
      "\u001b[0;31mKeyboardInterrupt\u001b[0m                         Traceback (most recent call last)",
      "Cell \u001b[0;32mIn[44], line 2\u001b[0m\n\u001b[1;32m      1\u001b[0m pool \u001b[38;5;241m=\u001b[39m multiprocessing\u001b[38;5;241m.\u001b[39mPool(\u001b[38;5;241m36\u001b[39m)\n\u001b[0;32m----> 2\u001b[0m pool\u001b[38;5;241m.\u001b[39mmap(get_ncbi,[file \u001b[38;5;28;01mfor\u001b[39;00m file \u001b[38;5;129;01min\u001b[39;00m file_paths[\u001b[38;5;241m1\u001b[39m:\u001b[38;5;241m10\u001b[39m]])\n",
      "File \u001b[0;32m~/mambaforge/envs/fieldwork/lib/python3.11/multiprocessing/pool.py:367\u001b[0m, in \u001b[0;36mPool.map\u001b[0;34m(self, func, iterable, chunksize)\u001b[0m\n\u001b[1;32m    362\u001b[0m \u001b[38;5;28;01mdef\u001b[39;00m \u001b[38;5;21mmap\u001b[39m(\u001b[38;5;28mself\u001b[39m, func, iterable, chunksize\u001b[38;5;241m=\u001b[39m\u001b[38;5;28;01mNone\u001b[39;00m):\n\u001b[1;32m    363\u001b[0m \u001b[38;5;250m    \u001b[39m\u001b[38;5;124;03m'''\u001b[39;00m\n\u001b[1;32m    364\u001b[0m \u001b[38;5;124;03m    Apply `func` to each element in `iterable`, collecting the results\u001b[39;00m\n\u001b[1;32m    365\u001b[0m \u001b[38;5;124;03m    in a list that is returned.\u001b[39;00m\n\u001b[1;32m    366\u001b[0m \u001b[38;5;124;03m    '''\u001b[39;00m\n\u001b[0;32m--> 367\u001b[0m     \u001b[38;5;28;01mreturn\u001b[39;00m \u001b[38;5;28mself\u001b[39m\u001b[38;5;241m.\u001b[39m_map_async(func, iterable, mapstar, chunksize)\u001b[38;5;241m.\u001b[39mget()\n",
      "File \u001b[0;32m~/mambaforge/envs/fieldwork/lib/python3.11/multiprocessing/pool.py:768\u001b[0m, in \u001b[0;36mApplyResult.get\u001b[0;34m(self, timeout)\u001b[0m\n\u001b[1;32m    767\u001b[0m \u001b[38;5;28;01mdef\u001b[39;00m \u001b[38;5;21mget\u001b[39m(\u001b[38;5;28mself\u001b[39m, timeout\u001b[38;5;241m=\u001b[39m\u001b[38;5;28;01mNone\u001b[39;00m):\n\u001b[0;32m--> 768\u001b[0m     \u001b[38;5;28mself\u001b[39m\u001b[38;5;241m.\u001b[39mwait(timeout)\n\u001b[1;32m    769\u001b[0m     \u001b[38;5;28;01mif\u001b[39;00m \u001b[38;5;129;01mnot\u001b[39;00m \u001b[38;5;28mself\u001b[39m\u001b[38;5;241m.\u001b[39mready():\n\u001b[1;32m    770\u001b[0m         \u001b[38;5;28;01mraise\u001b[39;00m \u001b[38;5;167;01mTimeoutError\u001b[39;00m\n",
      "File \u001b[0;32m~/mambaforge/envs/fieldwork/lib/python3.11/multiprocessing/pool.py:765\u001b[0m, in \u001b[0;36mApplyResult.wait\u001b[0;34m(self, timeout)\u001b[0m\n\u001b[1;32m    764\u001b[0m \u001b[38;5;28;01mdef\u001b[39;00m \u001b[38;5;21mwait\u001b[39m(\u001b[38;5;28mself\u001b[39m, timeout\u001b[38;5;241m=\u001b[39m\u001b[38;5;28;01mNone\u001b[39;00m):\n\u001b[0;32m--> 765\u001b[0m     \u001b[38;5;28mself\u001b[39m\u001b[38;5;241m.\u001b[39m_event\u001b[38;5;241m.\u001b[39mwait(timeout)\n",
      "File \u001b[0;32m~/mambaforge/envs/fieldwork/lib/python3.11/threading.py:622\u001b[0m, in \u001b[0;36mEvent.wait\u001b[0;34m(self, timeout)\u001b[0m\n\u001b[1;32m    620\u001b[0m signaled \u001b[38;5;241m=\u001b[39m \u001b[38;5;28mself\u001b[39m\u001b[38;5;241m.\u001b[39m_flag\n\u001b[1;32m    621\u001b[0m \u001b[38;5;28;01mif\u001b[39;00m \u001b[38;5;129;01mnot\u001b[39;00m signaled:\n\u001b[0;32m--> 622\u001b[0m     signaled \u001b[38;5;241m=\u001b[39m \u001b[38;5;28mself\u001b[39m\u001b[38;5;241m.\u001b[39m_cond\u001b[38;5;241m.\u001b[39mwait(timeout)\n\u001b[1;32m    623\u001b[0m \u001b[38;5;28;01mreturn\u001b[39;00m signaled\n",
      "File \u001b[0;32m~/mambaforge/envs/fieldwork/lib/python3.11/threading.py:320\u001b[0m, in \u001b[0;36mCondition.wait\u001b[0;34m(self, timeout)\u001b[0m\n\u001b[1;32m    318\u001b[0m \u001b[38;5;28;01mtry\u001b[39;00m:    \u001b[38;5;66;03m# restore state no matter what (e.g., KeyboardInterrupt)\u001b[39;00m\n\u001b[1;32m    319\u001b[0m     \u001b[38;5;28;01mif\u001b[39;00m timeout \u001b[38;5;129;01mis\u001b[39;00m \u001b[38;5;28;01mNone\u001b[39;00m:\n\u001b[0;32m--> 320\u001b[0m         waiter\u001b[38;5;241m.\u001b[39macquire()\n\u001b[1;32m    321\u001b[0m         gotit \u001b[38;5;241m=\u001b[39m \u001b[38;5;28;01mTrue\u001b[39;00m\n\u001b[1;32m    322\u001b[0m     \u001b[38;5;28;01melse\u001b[39;00m:\n",
      "\u001b[0;31mKeyboardInterrupt\u001b[0m: "
     ]
    },
    {
     "name": "stderr",
     "output_type": "stream",
     "text": [
      "  File \"/home/dennislab2/mambaforge/envs/fieldwork/lib/python3.11/multiprocessing/pool.py\", line 114, in worker\n",
      "    task = get()\n",
      "           ^^^^^\n",
      "  File \"/home/dennislab2/mambaforge/envs/fieldwork/lib/python3.11/multiprocessing/process.py\", line 108, in run\n",
      "    self._target(*self._args, **self._kwargs)\n",
      "  File \"/home/dennislab2/mambaforge/envs/fieldwork/lib/python3.11/multiprocessing/process.py\", line 108, in run\n",
      "    self._target(*self._args, **self._kwargs)\n",
      "  File \"/home/dennislab2/mambaforge/envs/fieldwork/lib/python3.11/multiprocessing/process.py\", line 108, in run\n",
      "    self._target(*self._args, **self._kwargs)\n",
      "  File \"/home/dennislab2/mambaforge/envs/fieldwork/lib/python3.11/multiprocessing/process.py\", line 314, in _bootstrap\n",
      "    self.run()\n",
      "  File \"/home/dennislab2/mambaforge/envs/fieldwork/lib/python3.11/multiprocessing/pool.py\", line 114, in worker\n",
      "    task = get()\n",
      "           ^^^^^\n",
      "  File \"/home/dennislab2/mambaforge/envs/fieldwork/lib/python3.11/multiprocessing/process.py\", line 314, in _bootstrap\n",
      "    self.run()\n",
      "  File \"/home/dennislab2/mambaforge/envs/fieldwork/lib/python3.11/multiprocessing/pool.py\", line 125, in worker\n",
      "    result = (True, func(*args, **kwds))\n",
      "                    ^^^^^^^^^^^^^^^^^^^\n",
      "  File \"/home/dennislab2/mambaforge/envs/fieldwork/lib/python3.11/multiprocessing/process.py\", line 108, in run\n",
      "    self._target(*self._args, **self._kwargs)\n",
      "  File \"/home/dennislab2/mambaforge/envs/fieldwork/lib/python3.11/multiprocessing/process.py\", line 314, in _bootstrap\n",
      "    self.run()\n",
      "  File \"/home/dennislab2/mambaforge/envs/fieldwork/lib/python3.11/multiprocessing/pool.py\", line 125, in worker\n",
      "    result = (True, func(*args, **kwds))\n",
      "                    ^^^^^^^^^^^^^^^^^^^\n",
      "  File \"/home/dennislab2/mambaforge/envs/fieldwork/lib/python3.11/multiprocessing/pool.py\", line 114, in worker\n",
      "    task = get()\n",
      "           ^^^^^\n",
      "  File \"/home/dennislab2/mambaforge/envs/fieldwork/lib/python3.11/multiprocessing/pool.py\", line 114, in worker\n",
      "    task = get()\n",
      "           ^^^^^\n",
      "  File \"/home/dennislab2/mambaforge/envs/fieldwork/lib/python3.11/multiprocessing/process.py\", line 108, in run\n",
      "    self._target(*self._args, **self._kwargs)\n",
      "  File \"/home/dennislab2/mambaforge/envs/fieldwork/lib/python3.11/multiprocessing/pool.py\", line 114, in worker\n",
      "    task = get()\n",
      "           ^^^^^\n",
      "  File \"/home/dennislab2/mambaforge/envs/fieldwork/lib/python3.11/multiprocessing/process.py\", line 108, in run\n",
      "    self._target(*self._args, **self._kwargs)\n",
      "  File \"/home/dennislab2/mambaforge/envs/fieldwork/lib/python3.11/multiprocessing/pool.py\", line 114, in worker\n",
      "    task = get()\n",
      "           ^^^^^\n",
      "  File \"/home/dennislab2/mambaforge/envs/fieldwork/lib/python3.11/multiprocessing/pool.py\", line 114, in worker\n",
      "    task = get()\n",
      "           ^^^^^\n",
      "  File \"/home/dennislab2/mambaforge/envs/fieldwork/lib/python3.11/multiprocessing/pool.py\", line 114, in worker\n",
      "    task = get()\n",
      "           ^^^^^\n",
      "  File \"/home/dennislab2/mambaforge/envs/fieldwork/lib/python3.11/multiprocessing/process.py\", line 314, in _bootstrap\n",
      "    self.run()\n",
      "  File \"/home/dennislab2/mambaforge/envs/fieldwork/lib/python3.11/multiprocessing/process.py\", line 108, in run\n",
      "    self._target(*self._args, **self._kwargs)\n",
      "  File \"/home/dennislab2/mambaforge/envs/fieldwork/lib/python3.11/multiprocessing/queues.py\", line 364, in get\n",
      "    with self._rlock:\n",
      "  File \"/home/dennislab2/mambaforge/envs/fieldwork/lib/python3.11/multiprocessing/process.py\", line 108, in run\n",
      "    self._target(*self._args, **self._kwargs)\n",
      "  File \"/home/dennislab2/mambaforge/envs/fieldwork/lib/python3.11/multiprocessing/pool.py\", line 114, in worker\n",
      "    task = get()\n",
      "           ^^^^^\n",
      "  File \"/home/dennislab2/mambaforge/envs/fieldwork/lib/python3.11/multiprocessing/pool.py\", line 114, in worker\n",
      "    task = get()\n",
      "           ^^^^^\n",
      "  File \"/home/dennislab2/mambaforge/envs/fieldwork/lib/python3.11/multiprocessing/pool.py\", line 114, in worker\n",
      "    task = get()\n",
      "           ^^^^^\n",
      "  File \"/home/dennislab2/mambaforge/envs/fieldwork/lib/python3.11/multiprocessing/pool.py\", line 125, in worker\n",
      "    result = (True, func(*args, **kwds))\n",
      "                    ^^^^^^^^^^^^^^^^^^^\n",
      "  File \"/home/dennislab2/mambaforge/envs/fieldwork/lib/python3.11/multiprocessing/pool.py\", line 125, in worker\n",
      "    result = (True, func(*args, **kwds))\n",
      "                    ^^^^^^^^^^^^^^^^^^^\n",
      "  File \"/home/dennislab2/mambaforge/envs/fieldwork/lib/python3.11/multiprocessing/pool.py\", line 114, in worker\n",
      "    task = get()\n",
      "           ^^^^^\n",
      "  File \"/home/dennislab2/mambaforge/envs/fieldwork/lib/python3.11/multiprocessing/pool.py\", line 114, in worker\n",
      "    task = get()\n",
      "           ^^^^^\n",
      "  File \"/home/dennislab2/mambaforge/envs/fieldwork/lib/python3.11/multiprocessing/process.py\", line 108, in run\n",
      "    self._target(*self._args, **self._kwargs)\n",
      "  File \"/home/dennislab2/mambaforge/envs/fieldwork/lib/python3.11/multiprocessing/pool.py\", line 114, in worker\n",
      "    task = get()\n",
      "           ^^^^^\n",
      "  File \"/home/dennislab2/mambaforge/envs/fieldwork/lib/python3.11/multiprocessing/pool.py\", line 114, in worker\n",
      "    task = get()\n",
      "           ^^^^^\n",
      "  File \"/home/dennislab2/mambaforge/envs/fieldwork/lib/python3.11/multiprocessing/pool.py\", line 125, in worker\n",
      "    result = (True, func(*args, **kwds))\n",
      "                    ^^^^^^^^^^^^^^^^^^^\n",
      "  File \"/home/dennislab2/mambaforge/envs/fieldwork/lib/python3.11/multiprocessing/queues.py\", line 364, in get\n",
      "    with self._rlock:\n",
      "  File \"/home/dennislab2/mambaforge/envs/fieldwork/lib/python3.11/multiprocessing/pool.py\", line 114, in worker\n",
      "    task = get()\n",
      "           ^^^^^\n",
      "  File \"/home/dennislab2/mambaforge/envs/fieldwork/lib/python3.11/multiprocessing/pool.py\", line 114, in worker\n",
      "    task = get()\n",
      "           ^^^^^\n",
      "  File \"/home/dennislab2/mambaforge/envs/fieldwork/lib/python3.11/multiprocessing/process.py\", line 108, in run\n",
      "    self._target(*self._args, **self._kwargs)\n",
      "  File \"/home/dennislab2/mambaforge/envs/fieldwork/lib/python3.11/multiprocessing/queues.py\", line 364, in get\n",
      "    with self._rlock:\n",
      "  File \"/home/dennislab2/mambaforge/envs/fieldwork/lib/python3.11/multiprocessing/pool.py\", line 125, in worker\n",
      "    result = (True, func(*args, **kwds))\n",
      "                    ^^^^^^^^^^^^^^^^^^^\n",
      "  File \"/home/dennislab2/mambaforge/envs/fieldwork/lib/python3.11/multiprocessing/pool.py\", line 48, in mapstar\n",
      "    return list(map(*args))\n",
      "           ^^^^^^^^^^^^^^^^\n",
      "  File \"/home/dennislab2/mambaforge/envs/fieldwork/lib/python3.11/multiprocessing/pool.py\", line 114, in worker\n",
      "    task = get()\n",
      "           ^^^^^\n",
      "Process ForkPoolWorker-395:\n",
      "  File \"/home/dennislab2/mambaforge/envs/fieldwork/lib/python3.11/multiprocessing/process.py\", line 108, in run\n",
      "    self._target(*self._args, **self._kwargs)\n",
      "  File \"/home/dennislab2/mambaforge/envs/fieldwork/lib/python3.11/multiprocessing/process.py\", line 108, in run\n",
      "    self._target(*self._args, **self._kwargs)\n",
      "  File \"/home/dennislab2/mambaforge/envs/fieldwork/lib/python3.11/multiprocessing/pool.py\", line 48, in mapstar\n",
      "    return list(map(*args))\n",
      "           ^^^^^^^^^^^^^^^^\n",
      "  File \"/home/dennislab2/mambaforge/envs/fieldwork/lib/python3.11/multiprocessing/pool.py\", line 125, in worker\n",
      "    result = (True, func(*args, **kwds))\n",
      "                    ^^^^^^^^^^^^^^^^^^^\n",
      "  File \"/home/dennislab2/mambaforge/envs/fieldwork/lib/python3.11/multiprocessing/queues.py\", line 364, in get\n",
      "    with self._rlock:\n",
      "  File \"/home/dennislab2/mambaforge/envs/fieldwork/lib/python3.11/multiprocessing/queues.py\", line 364, in get\n",
      "    with self._rlock:\n",
      "  File \"/home/dennislab2/mambaforge/envs/fieldwork/lib/python3.11/multiprocessing/queues.py\", line 364, in get\n",
      "    with self._rlock:\n",
      "Traceback (most recent call last):\n",
      "  File \"/home/dennislab2/mambaforge/envs/fieldwork/lib/python3.11/multiprocessing/pool.py\", line 114, in worker\n",
      "    task = get()\n",
      "           ^^^^^\n",
      "  File \"/home/dennislab2/mambaforge/envs/fieldwork/lib/python3.11/multiprocessing/queues.py\", line 364, in get\n",
      "    with self._rlock:\n",
      "  File \"/home/dennislab2/mambaforge/envs/fieldwork/lib/python3.11/multiprocessing/queues.py\", line 364, in get\n",
      "    with self._rlock:\n",
      "  File \"/home/dennislab2/mambaforge/envs/fieldwork/lib/python3.11/multiprocessing/queues.py\", line 364, in get\n",
      "    with self._rlock:\n",
      "  File \"/home/dennislab2/mambaforge/envs/fieldwork/lib/python3.11/multiprocessing/pool.py\", line 114, in worker\n",
      "    task = get()\n",
      "           ^^^^^\n"
     ]
    },
    {
     "name": "stderr",
     "output_type": "stream",
     "text": [
      "  File \"/home/dennislab2/mambaforge/envs/fieldwork/lib/python3.11/multiprocessing/process.py\", line 108, in run\n",
      "    self._target(*self._args, **self._kwargs)\n",
      "  File \"/home/dennislab2/mambaforge/envs/fieldwork/lib/python3.11/multiprocessing/synchronize.py\", line 95, in __enter__\n",
      "    return self._semlock.__enter__()\n",
      "           ^^^^^^^^^^^^^^^^^^^^^^^^^\n",
      "  File \"/home/dennislab2/mambaforge/envs/fieldwork/lib/python3.11/multiprocessing/queues.py\", line 364, in get\n",
      "    with self._rlock:\n",
      "  File \"/home/dennislab2/mambaforge/envs/fieldwork/lib/python3.11/multiprocessing/queues.py\", line 364, in get\n",
      "    with self._rlock:\n",
      "  File \"/home/dennislab2/mambaforge/envs/fieldwork/lib/python3.11/multiprocessing/pool.py\", line 48, in mapstar\n",
      "    return list(map(*args))\n",
      "           ^^^^^^^^^^^^^^^^\n",
      "  File \"/home/dennislab2/mambaforge/envs/fieldwork/lib/python3.11/multiprocessing/pool.py\", line 114, in worker\n",
      "    task = get()\n",
      "           ^^^^^\n",
      "  File \"/home/dennislab2/mambaforge/envs/fieldwork/lib/python3.11/multiprocessing/pool.py\", line 48, in mapstar\n",
      "    return list(map(*args))\n",
      "           ^^^^^^^^^^^^^^^^\n",
      "  File \"/home/dennislab2/mambaforge/envs/fieldwork/lib/python3.11/multiprocessing/queues.py\", line 364, in get\n",
      "    with self._rlock:\n",
      "  File \"/home/dennislab2/mambaforge/envs/fieldwork/lib/python3.11/multiprocessing/queues.py\", line 364, in get\n",
      "    with self._rlock:\n",
      "  File \"/home/dennislab2/mambaforge/envs/fieldwork/lib/python3.11/multiprocessing/pool.py\", line 114, in worker\n",
      "    task = get()\n",
      "           ^^^^^\n",
      "  File \"/home/dennislab2/mambaforge/envs/fieldwork/lib/python3.11/multiprocessing/queues.py\", line 364, in get\n",
      "    with self._rlock:\n",
      "  File \"/home/dennislab2/mambaforge/envs/fieldwork/lib/python3.11/multiprocessing/queues.py\", line 364, in get\n",
      "    with self._rlock:\n",
      "  File \"/home/dennislab2/mambaforge/envs/fieldwork/lib/python3.11/multiprocessing/synchronize.py\", line 95, in __enter__\n",
      "    return self._semlock.__enter__()\n",
      "           ^^^^^^^^^^^^^^^^^^^^^^^^^\n",
      "  File \"/home/dennislab2/mambaforge/envs/fieldwork/lib/python3.11/multiprocessing/queues.py\", line 364, in get\n",
      "    with self._rlock:\n",
      "  File \"/home/dennislab2/mambaforge/envs/fieldwork/lib/python3.11/multiprocessing/pool.py\", line 48, in mapstar\n",
      "    return list(map(*args))\n",
      "           ^^^^^^^^^^^^^^^^\n",
      "  File \"/home/dennislab2/mambaforge/envs/fieldwork/lib/python3.11/multiprocessing/queues.py\", line 364, in get\n",
      "    with self._rlock:\n",
      "  File \"/home/dennislab2/mambaforge/envs/fieldwork/lib/python3.11/multiprocessing/queues.py\", line 364, in get\n",
      "    with self._rlock:\n",
      "  File \"/home/dennislab2/mambaforge/envs/fieldwork/lib/python3.11/multiprocessing/synchronize.py\", line 95, in __enter__\n",
      "    return self._semlock.__enter__()\n",
      "           ^^^^^^^^^^^^^^^^^^^^^^^^^\n",
      "  File \"/home/dennislab2/mambaforge/envs/fieldwork/lib/python3.11/multiprocessing/pool.py\", line 114, in worker\n",
      "    task = get()\n",
      "           ^^^^^\n",
      "  File \"/home/dennislab2/mambaforge/envs/fieldwork/lib/python3.11/multiprocessing/pool.py\", line 48, in mapstar\n",
      "    return list(map(*args))\n",
      "           ^^^^^^^^^^^^^^^^\n",
      "  File \"/tmp/ipykernel_108473/1803482285.py\", line 37, in get_ncbi\n",
      "    result_handle = NCBIWWW.qblast('blastn','nt',seq)\n",
      "                    ^^^^^^^^^^^^^^^^^^^^^^^^^^^^^^^^^\n",
      "  File \"/home/dennislab2/mambaforge/envs/fieldwork/lib/python3.11/multiprocessing/queues.py\", line 364, in get\n",
      "    with self._rlock:\n",
      "  File \"/home/dennislab2/mambaforge/envs/fieldwork/lib/python3.11/multiprocessing/pool.py\", line 114, in worker\n",
      "    task = get()\n",
      "           ^^^^^\n",
      "  File \"/home/dennislab2/mambaforge/envs/fieldwork/lib/python3.11/multiprocessing/pool.py\", line 48, in mapstar\n",
      "    return list(map(*args))\n",
      "           ^^^^^^^^^^^^^^^^\n",
      "  File \"/tmp/ipykernel_108473/1803482285.py\", line 37, in get_ncbi\n",
      "    result_handle = NCBIWWW.qblast('blastn','nt',seq)\n",
      "                    ^^^^^^^^^^^^^^^^^^^^^^^^^^^^^^^^^\n",
      "  File \"/home/dennislab2/mambaforge/envs/fieldwork/lib/python3.11/multiprocessing/pool.py\", line 114, in worker\n",
      "    task = get()\n",
      "           ^^^^^\n",
      "  File \"/home/dennislab2/mambaforge/envs/fieldwork/lib/python3.11/multiprocessing/synchronize.py\", line 95, in __enter__\n",
      "    return self._semlock.__enter__()\n",
      "           ^^^^^^^^^^^^^^^^^^^^^^^^^\n",
      "  File \"/home/dennislab2/mambaforge/envs/fieldwork/lib/python3.11/multiprocessing/synchronize.py\", line 95, in __enter__\n",
      "    return self._semlock.__enter__()\n",
      "           ^^^^^^^^^^^^^^^^^^^^^^^^^\n",
      "  File \"/home/dennislab2/mambaforge/envs/fieldwork/lib/python3.11/multiprocessing/synchronize.py\", line 95, in __enter__\n",
      "    return self._semlock.__enter__()\n",
      "           ^^^^^^^^^^^^^^^^^^^^^^^^^\n",
      "  File \"/home/dennislab2/mambaforge/envs/fieldwork/lib/python3.11/multiprocessing/synchronize.py\", line 95, in __enter__\n",
      "    return self._semlock.__enter__()\n",
      "           ^^^^^^^^^^^^^^^^^^^^^^^^^\n",
      "  File \"/home/dennislab2/mambaforge/envs/fieldwork/lib/python3.11/multiprocessing/queues.py\", line 365, in get\n",
      "    res = self._reader.recv_bytes()\n",
      "          ^^^^^^^^^^^^^^^^^^^^^^^^^\n",
      "  File \"/home/dennislab2/mambaforge/envs/fieldwork/lib/python3.11/multiprocessing/synchronize.py\", line 95, in __enter__\n",
      "    return self._semlock.__enter__()\n",
      "           ^^^^^^^^^^^^^^^^^^^^^^^^^\n",
      "  File \"/home/dennislab2/mambaforge/envs/fieldwork/lib/python3.11/multiprocessing/process.py\", line 314, in _bootstrap\n",
      "    self.run()\n",
      "  File \"/home/dennislab2/mambaforge/envs/fieldwork/lib/python3.11/multiprocessing/synchronize.py\", line 95, in __enter__\n",
      "    return self._semlock.__enter__()\n",
      "           ^^^^^^^^^^^^^^^^^^^^^^^^^\n",
      "Traceback (most recent call last):\n",
      "  File \"/home/dennislab2/mambaforge/envs/fieldwork/lib/python3.11/multiprocessing/queues.py\", line 364, in get\n",
      "    with self._rlock:\n",
      "  File \"/home/dennislab2/mambaforge/envs/fieldwork/lib/python3.11/multiprocessing/pool.py\", line 114, in worker\n",
      "    task = get()\n",
      "           ^^^^^\n",
      "KeyboardInterrupt\n",
      "  File \"/home/dennislab2/mambaforge/envs/fieldwork/lib/python3.11/multiprocessing/synchronize.py\", line 95, in __enter__\n",
      "    return self._semlock.__enter__()\n",
      "           ^^^^^^^^^^^^^^^^^^^^^^^^^\n",
      "  File \"/home/dennislab2/mambaforge/envs/fieldwork/lib/python3.11/multiprocessing/synchronize.py\", line 95, in __enter__\n",
      "    return self._semlock.__enter__()\n",
      "           ^^^^^^^^^^^^^^^^^^^^^^^^^\n",
      "  File \"/home/dennislab2/mambaforge/envs/fieldwork/lib/python3.11/multiprocessing/queues.py\", line 364, in get\n",
      "    with self._rlock:\n",
      "  File \"/tmp/ipykernel_108473/1803482285.py\", line 37, in get_ncbi\n",
      "    result_handle = NCBIWWW.qblast('blastn','nt',seq)\n",
      "                    ^^^^^^^^^^^^^^^^^^^^^^^^^^^^^^^^^\n",
      "  File \"/tmp/ipykernel_108473/1803482285.py\", line 37, in get_ncbi\n",
      "    result_handle = NCBIWWW.qblast('blastn','nt',seq)\n",
      "                    ^^^^^^^^^^^^^^^^^^^^^^^^^^^^^^^^^\n",
      "  File \"/home/dennislab2/mambaforge/envs/fieldwork/lib/python3.11/multiprocessing/synchronize.py\", line 95, in __enter__\n",
      "    return self._semlock.__enter__()\n",
      "           ^^^^^^^^^^^^^^^^^^^^^^^^^\n",
      "  File \"/home/dennislab2/mambaforge/envs/fieldwork/lib/python3.11/multiprocessing/synchronize.py\", line 95, in __enter__\n",
      "    return self._semlock.__enter__()\n",
      "           ^^^^^^^^^^^^^^^^^^^^^^^^^\n",
      "  File \"/home/dennislab2/mambaforge/envs/fieldwork/lib/python3.11/multiprocessing/queues.py\", line 364, in get\n",
      "    with self._rlock:\n",
      "  File \"/home/dennislab2/mambaforge/envs/fieldwork/lib/python3.11/multiprocessing/synchronize.py\", line 95, in __enter__\n",
      "    return self._semlock.__enter__()\n",
      "           ^^^^^^^^^^^^^^^^^^^^^^^^^\n",
      "  File \"/home/dennislab2/mambaforge/envs/fieldwork/lib/python3.11/multiprocessing/synchronize.py\", line 95, in __enter__\n",
      "    return self._semlock.__enter__()\n",
      "           ^^^^^^^^^^^^^^^^^^^^^^^^^\n",
      "KeyboardInterrupt\n",
      "  File \"/home/dennislab2/mambaforge/envs/fieldwork/lib/python3.11/multiprocessing/synchronize.py\", line 95, in __enter__\n",
      "    return self._semlock.__enter__()\n",
      "           ^^^^^^^^^^^^^^^^^^^^^^^^^\n",
      "  File \"/home/dennislab2/mambaforge/envs/fieldwork/lib/python3.11/multiprocessing/synchronize.py\", line 95, in __enter__\n",
      "    return self._semlock.__enter__()\n",
      "           ^^^^^^^^^^^^^^^^^^^^^^^^^\n",
      "  File \"/tmp/ipykernel_108473/1803482285.py\", line 37, in get_ncbi\n",
      "    result_handle = NCBIWWW.qblast('blastn','nt',seq)\n",
      "                    ^^^^^^^^^^^^^^^^^^^^^^^^^^^^^^^^^\n",
      "KeyboardInterrupt\n"
     ]
    },
    {
     "name": "stderr",
     "output_type": "stream",
     "text": [
      "  File \"/home/dennislab2/mambaforge/envs/fieldwork/lib/python3.11/multiprocessing/synchronize.py\", line 95, in __enter__\n",
      "    return self._semlock.__enter__()\n",
      "           ^^^^^^^^^^^^^^^^^^^^^^^^^\n",
      "  File \"/tmp/ipykernel_108473/1803482285.py\", line 37, in get_ncbi\n",
      "    result_handle = NCBIWWW.qblast('blastn','nt',seq)\n",
      "                    ^^^^^^^^^^^^^^^^^^^^^^^^^^^^^^^^^\n",
      "  File \"/home/dennislab2/mambaforge/envs/fieldwork/lib/python3.11/multiprocessing/queues.py\", line 364, in get\n",
      "    with self._rlock:\n",
      "  File \"/home/dennislab2/mambaforge/envs/fieldwork/lib/python3.11/site-packages/Bio/Blast/NCBIWWW.py\", line 246, in qblast\n",
      "    time.sleep(wait)\n",
      "  File \"/home/dennislab2/mambaforge/envs/fieldwork/lib/python3.11/multiprocessing/synchronize.py\", line 95, in __enter__\n",
      "    return self._semlock.__enter__()\n",
      "           ^^^^^^^^^^^^^^^^^^^^^^^^^\n",
      "  File \"/home/dennislab2/mambaforge/envs/fieldwork/lib/python3.11/multiprocessing/queues.py\", line 364, in get\n",
      "    with self._rlock:\n",
      "  File \"/home/dennislab2/mambaforge/envs/fieldwork/lib/python3.11/site-packages/Bio/Blast/NCBIWWW.py\", line 246, in qblast\n",
      "    time.sleep(wait)\n",
      "  File \"/tmp/ipykernel_108473/1803482285.py\", line 37, in get_ncbi\n",
      "    result_handle = NCBIWWW.qblast('blastn','nt',seq)\n",
      "                    ^^^^^^^^^^^^^^^^^^^^^^^^^^^^^^^^^\n",
      "  File \"/home/dennislab2/mambaforge/envs/fieldwork/lib/python3.11/multiprocessing/queues.py\", line 364, in get\n",
      "    with self._rlock:\n",
      "KeyboardInterrupt\n",
      "KeyboardInterrupt\n",
      "KeyboardInterrupt\n",
      "KeyboardInterrupt\n",
      "  File \"/home/dennislab2/mambaforge/envs/fieldwork/lib/python3.11/multiprocessing/connection.py\", line 215, in recv_bytes\n",
      "    buf = self._recv_bytes(maxlength)\n",
      "          ^^^^^^^^^^^^^^^^^^^^^^^^^^^\n",
      "KeyboardInterrupt\n",
      "KeyboardInterrupt\n",
      "  File \"/home/dennislab2/mambaforge/envs/fieldwork/lib/python3.11/multiprocessing/process.py\", line 108, in run\n",
      "    self._target(*self._args, **self._kwargs)\n",
      "  File \"/home/dennislab2/mambaforge/envs/fieldwork/lib/python3.11/multiprocessing/queues.py\", line 364, in get\n",
      "    with self._rlock:\n",
      "  File \"/home/dennislab2/mambaforge/envs/fieldwork/lib/python3.11/multiprocessing/process.py\", line 314, in _bootstrap\n",
      "    self.run()\n",
      "KeyboardInterrupt\n",
      "  File \"/home/dennislab2/mambaforge/envs/fieldwork/lib/python3.11/multiprocessing/synchronize.py\", line 95, in __enter__\n",
      "    return self._semlock.__enter__()\n",
      "           ^^^^^^^^^^^^^^^^^^^^^^^^^\n",
      "  File \"/home/dennislab2/mambaforge/envs/fieldwork/lib/python3.11/site-packages/Bio/Blast/NCBIWWW.py\", line 246, in qblast\n",
      "    time.sleep(wait)\n",
      "  File \"/home/dennislab2/mambaforge/envs/fieldwork/lib/python3.11/site-packages/Bio/Blast/NCBIWWW.py\", line 246, in qblast\n",
      "    time.sleep(wait)\n",
      "KeyboardInterrupt\n",
      "KeyboardInterrupt\n",
      "  File \"/home/dennislab2/mambaforge/envs/fieldwork/lib/python3.11/multiprocessing/synchronize.py\", line 95, in __enter__\n",
      "    return self._semlock.__enter__()\n",
      "           ^^^^^^^^^^^^^^^^^^^^^^^^^\n",
      "KeyboardInterrupt\n",
      "  File \"/home/dennislab2/mambaforge/envs/fieldwork/lib/python3.11/multiprocessing/synchronize.py\", line 95, in __enter__\n",
      "    return self._semlock.__enter__()\n",
      "           ^^^^^^^^^^^^^^^^^^^^^^^^^\n",
      "KeyboardInterrupt\n",
      "  File \"/home/dennislab2/mambaforge/envs/fieldwork/lib/python3.11/site-packages/Bio/Blast/NCBIWWW.py\", line 246, in qblast\n",
      "    time.sleep(wait)\n",
      "  File \"/home/dennislab2/mambaforge/envs/fieldwork/lib/python3.11/multiprocessing/synchronize.py\", line 95, in __enter__\n",
      "    return self._semlock.__enter__()\n",
      "           ^^^^^^^^^^^^^^^^^^^^^^^^^\n",
      "  File \"/home/dennislab2/mambaforge/envs/fieldwork/lib/python3.11/site-packages/Bio/Blast/NCBIWWW.py\", line 246, in qblast\n",
      "    time.sleep(wait)\n",
      "KeyboardInterrupt\n",
      "KeyboardInterrupt\n",
      "  File \"/home/dennislab2/mambaforge/envs/fieldwork/lib/python3.11/multiprocessing/synchronize.py\", line 95, in __enter__\n",
      "    return self._semlock.__enter__()\n",
      "           ^^^^^^^^^^^^^^^^^^^^^^^^^\n",
      "  File \"/home/dennislab2/mambaforge/envs/fieldwork/lib/python3.11/site-packages/Bio/Blast/NCBIWWW.py\", line 246, in qblast\n",
      "    time.sleep(wait)\n",
      "  File \"/home/dennislab2/mambaforge/envs/fieldwork/lib/python3.11/multiprocessing/connection.py\", line 413, in _recv_bytes\n",
      "    buf = self._recv(4)\n",
      "          ^^^^^^^^^^^^^\n",
      "  File \"/home/dennislab2/mambaforge/envs/fieldwork/lib/python3.11/multiprocessing/pool.py\", line 114, in worker\n",
      "    task = get()\n",
      "           ^^^^^\n",
      "  File \"/home/dennislab2/mambaforge/envs/fieldwork/lib/python3.11/multiprocessing/synchronize.py\", line 95, in __enter__\n",
      "    return self._semlock.__enter__()\n",
      "           ^^^^^^^^^^^^^^^^^^^^^^^^^\n",
      "KeyboardInterrupt\n",
      "KeyboardInterrupt\n",
      "KeyboardInterrupt\n",
      "KeyboardInterrupt\n",
      "  File \"/home/dennislab2/mambaforge/envs/fieldwork/lib/python3.11/multiprocessing/queues.py\", line 364, in get\n",
      "    with self._rlock:\n",
      "KeyboardInterrupt\n",
      "KeyboardInterrupt\n",
      "  File \"/home/dennislab2/mambaforge/envs/fieldwork/lib/python3.11/multiprocessing/connection.py\", line 378, in _recv\n",
      "    chunk = read(handle, remaining)\n",
      "            ^^^^^^^^^^^^^^^^^^^^^^^\n",
      "KeyboardInterrupt\n",
      "KeyboardInterrupt\n",
      "KeyboardInterrupt\n",
      "KeyboardInterrupt\n",
      "  File \"/home/dennislab2/mambaforge/envs/fieldwork/lib/python3.11/multiprocessing/synchronize.py\", line 95, in __enter__\n",
      "    return self._semlock.__enter__()\n",
      "           ^^^^^^^^^^^^^^^^^^^^^^^^^\n",
      "KeyboardInterrupt\n",
      "KeyboardInterrupt\n",
      "KeyboardInterrupt\n",
      "KeyboardInterrupt\n",
      "KeyboardInterrupt\n",
      "  File \"/home/dennislab2/mambaforge/envs/fieldwork/lib/python3.11/multiprocessing/process.py\", line 108, in run\n",
      "    self._target(*self._args, **self._kwargs)\n",
      "KeyboardInterrupt\n",
      "  File \"/home/dennislab2/mambaforge/envs/fieldwork/lib/python3.11/multiprocessing/synchronize.py\", line 95, in __enter__\n",
      "    return self._semlock.__enter__()\n",
      "           ^^^^^^^^^^^^^^^^^^^^^^^^^\n",
      "KeyboardInterrupt\n",
      "KeyboardInterrupt\n",
      "  File \"/home/dennislab2/mambaforge/envs/fieldwork/lib/python3.11/multiprocessing/pool.py\", line 114, in worker\n",
      "    task = get()\n",
      "           ^^^^^\n",
      "KeyboardInterrupt\n",
      "  File \"/home/dennislab2/mambaforge/envs/fieldwork/lib/python3.11/multiprocessing/queues.py\", line 364, in get\n",
      "    with self._rlock:\n",
      "  File \"/home/dennislab2/mambaforge/envs/fieldwork/lib/python3.11/multiprocessing/synchronize.py\", line 95, in __enter__\n",
      "    return self._semlock.__enter__()\n",
      "           ^^^^^^^^^^^^^^^^^^^^^^^^^\n",
      "KeyboardInterrupt\n"
     ]
    }
   ],
   "source": [
    "pool = multiprocessing.Pool(36)\n",
    "pool.map(get_ncbi,[file for file in file_paths[1:10]])"
   ]
  },
  {
   "cell_type": "code",
   "execution_count": 120,
   "id": "9b5c5c29",
   "metadata": {},
   "outputs": [
    {
     "name": "stdout",
     "output_type": "stream",
     "text": [
      "starting while loop for file_path /home/dennislab2/Desktop/reads_out/plate1_12s_47_2_out.csv\n",
      "starting blast 0 of 22\n",
      "starting blast 1 of 22\n",
      "starting blast 2 of 22\n",
      "starting blast 3 of 22\n",
      "starting blast 4 of 22\n",
      "starting blast 5 of 22\n",
      "starting blast 6 of 22\n",
      "starting blast 7 of 22\n",
      "starting blast 8 of 22\n",
      "starting blast 9 of 22\n",
      "starting blast 10 of 22\n",
      "starting blast 11 of 22\n",
      "starting blast 12 of 22\n",
      "starting blast 13 of 22\n",
      "starting blast 14 of 22\n",
      "starting blast 15 of 22\n",
      "starting blast 16 of 22\n",
      "starting blast 17 of 22\n",
      "starting blast 18 of 22\n",
      "starting blast 19 of 22\n",
      "starting blast 20 of 22\n",
      "starting blast 21 of 22\n",
      "starting while loop for file_path /home/dennislab2/Desktop/reads_out/plate1_12s_18_2_out.csv\n",
      "starting blast 0 of 13\n",
      "starting blast 1 of 13\n",
      "starting blast 2 of 13\n",
      "starting blast 3 of 13\n",
      "starting blast 4 of 13\n",
      "starting blast 5 of 13\n",
      "starting blast 6 of 13\n",
      "starting blast 7 of 13\n",
      "starting blast 8 of 13\n",
      "starting blast 9 of 13\n",
      "starting blast 10 of 13\n",
      "starting blast 11 of 13\n",
      "starting blast 12 of 13\n",
      "starting while loop for file_path /home/dennislab2/Desktop/reads_out/plate23_12s_25_2_out.csv\n",
      "starting blast 0 of 23\n",
      "starting blast 1 of 23\n",
      "starting blast 2 of 23\n",
      "starting blast 3 of 23\n",
      "starting blast 4 of 23\n",
      "starting blast 5 of 23\n",
      "starting blast 6 of 23\n",
      "starting blast 7 of 23\n",
      "starting blast 8 of 23\n",
      "starting blast 9 of 23\n",
      "starting blast 10 of 23\n",
      "starting blast 11 of 23\n",
      "starting blast 12 of 23\n",
      "starting blast 13 of 23\n",
      "starting blast 14 of 23\n",
      "starting blast 15 of 23\n",
      "starting blast 16 of 23\n",
      "starting blast 17 of 23\n",
      "starting blast 18 of 23\n",
      "starting blast 19 of 23\n",
      "starting blast 20 of 23\n",
      "starting blast 21 of 23\n",
      "starting blast 22 of 23\n",
      "starting while loop for file_path /home/dennislab2/Desktop/reads_out/plate23_12s_63_1_out.csv\n",
      "starting blast 0 of 7\n",
      "starting blast 1 of 7\n",
      "starting blast 2 of 7\n",
      "starting blast 3 of 7\n",
      "starting blast 4 of 7\n",
      "starting blast 5 of 7\n",
      "starting blast 6 of 7\n",
      "starting while loop for file_path /home/dennislab2/Desktop/reads_out/plate23_12s_52_2_out.csv\n",
      "starting blast 0 of 4\n",
      "starting blast 1 of 4\n",
      "starting blast 2 of 4\n",
      "starting blast 3 of 4\n",
      "starting while loop for file_path /home/dennislab2/Desktop/reads_out/plate1_12s_21_1_out.csv\n",
      "starting blast 0 of 32\n",
      "starting blast 1 of 32\n",
      "starting blast 2 of 32\n",
      "starting blast 3 of 32\n",
      "starting blast 4 of 32\n",
      "starting blast 5 of 32\n",
      "starting blast 6 of 32\n",
      "starting blast 7 of 32\n",
      "starting blast 8 of 32\n",
      "starting blast 9 of 32\n",
      "starting blast 10 of 32\n",
      "starting blast 11 of 32\n",
      "starting blast 12 of 32\n",
      "starting blast 13 of 32\n",
      "starting blast 14 of 32\n",
      "starting blast 15 of 32\n",
      "starting blast 16 of 32\n",
      "starting blast 17 of 32\n",
      "starting blast 18 of 32\n",
      "starting blast 19 of 32\n",
      "starting blast 20 of 32\n",
      "starting blast 21 of 32\n",
      "starting blast 22 of 32\n",
      "starting blast 23 of 32\n",
      "starting blast 24 of 32\n",
      "starting blast 25 of 32\n",
      "starting blast 26 of 32\n",
      "starting blast 27 of 32\n",
      "starting blast 28 of 32\n",
      "starting blast 29 of 32\n",
      "starting blast 30 of 32\n",
      "starting blast 31 of 32\n",
      "starting while loop for file_path /home/dennislab2/Desktop/reads_out/plate23_12s_75_2_out.csv\n",
      "starting blast 0 of 11\n",
      "starting blast 1 of 11\n",
      "starting blast 2 of 11\n",
      "starting blast 3 of 11\n",
      "starting blast 4 of 11\n",
      "starting blast 5 of 11\n",
      "starting blast 6 of 11\n",
      "starting blast 7 of 11\n",
      "starting blast 8 of 11\n",
      "starting blast 9 of 11\n",
      "starting blast 10 of 11\n",
      "starting while loop for file_path /home/dennislab2/Desktop/reads_out/plate23_12s_55_1_out.csv\n",
      "starting blast 0 of 4\n",
      "starting blast 1 of 4\n",
      "starting blast 2 of 4\n",
      "starting blast 3 of 4\n",
      "starting while loop for file_path /home/dennislab2/Desktop/reads_out/plate23_12s_13_1_out.csv\n",
      "starting blast 0 of 3\n",
      "starting blast 1 of 3\n",
      "starting blast 2 of 3\n",
      "starting while loop for file_path /home/dennislab2/Desktop/reads_out/plate23_12s_46_1_out.csv\n",
      "starting blast 0 of 16\n",
      "starting blast 1 of 16\n",
      "starting blast 2 of 16\n",
      "starting blast 3 of 16\n",
      "starting blast 4 of 16\n",
      "starting blast 5 of 16\n",
      "starting blast 6 of 16\n",
      "starting blast 7 of 16\n",
      "starting blast 8 of 16\n",
      "starting blast 9 of 16\n",
      "starting blast 10 of 16\n",
      "starting blast 11 of 16\n",
      "starting blast 12 of 16\n",
      "starting blast 13 of 16\n",
      "starting blast 14 of 16\n",
      "starting blast 15 of 16\n",
      "starting while loop for file_path /home/dennislab2/Desktop/reads_out/plate23_12s_50_2_out.csv\n",
      "starting blast 0 of 32\n",
      "starting blast 1 of 32\n",
      "starting blast 2 of 32\n",
      "starting blast 3 of 32\n",
      "starting blast 4 of 32\n",
      "starting blast 5 of 32\n",
      "starting blast 6 of 32\n",
      "starting blast 7 of 32\n",
      "starting blast 8 of 32\n",
      "starting blast 9 of 32\n",
      "starting blast 10 of 32\n",
      "starting blast 11 of 32\n",
      "starting blast 12 of 32\n",
      "starting blast 13 of 32\n",
      "starting blast 14 of 32\n",
      "starting blast 15 of 32\n",
      "starting blast 16 of 32\n",
      "starting blast 17 of 32\n",
      "starting blast 18 of 32\n",
      "starting blast 19 of 32\n",
      "starting blast 20 of 32\n",
      "starting blast 21 of 32\n",
      "starting blast 22 of 32\n",
      "starting blast 23 of 32\n",
      "starting blast 24 of 32\n",
      "starting blast 25 of 32\n",
      "starting blast 26 of 32\n",
      "starting blast 27 of 32\n",
      "starting blast 28 of 32\n",
      "starting blast 29 of 32\n",
      "starting blast 30 of 32\n",
      "starting blast 31 of 32\n",
      "starting while loop for file_path /home/dennislab2/Desktop/reads_out/plate23_12s_50_1_out.csv\n",
      "starting blast 0 of 38\n",
      "starting blast 1 of 38\n",
      "starting blast 2 of 38\n",
      "starting blast 3 of 38\n",
      "starting blast 4 of 38\n",
      "starting blast 5 of 38\n",
      "starting blast 6 of 38\n",
      "starting blast 7 of 38\n",
      "starting blast 8 of 38\n",
      "starting blast 9 of 38\n",
      "starting blast 10 of 38\n",
      "starting blast 11 of 38\n",
      "starting blast 12 of 38\n",
      "starting blast 13 of 38\n",
      "starting blast 14 of 38\n",
      "starting blast 15 of 38\n",
      "starting blast 16 of 38\n",
      "starting blast 17 of 38\n",
      "starting blast 18 of 38\n",
      "starting blast 19 of 38\n",
      "starting blast 20 of 38\n",
      "starting blast 21 of 38\n",
      "starting blast 22 of 38\n",
      "starting blast 23 of 38\n",
      "starting blast 24 of 38\n",
      "starting blast 25 of 38\n",
      "starting blast 26 of 38\n",
      "starting blast 27 of 38\n",
      "starting blast 28 of 38\n",
      "starting blast 29 of 38\n",
      "starting blast 30 of 38\n",
      "starting blast 31 of 38\n",
      "starting blast 32 of 38\n",
      "starting blast 33 of 38\n",
      "starting blast 34 of 38\n",
      "starting blast 35 of 38\n",
      "starting blast 36 of 38\n",
      "starting blast 37 of 38\n",
      "starting while loop for file_path /home/dennislab2/Desktop/reads_out/plate1_12s_28_1_out.csv\n",
      "starting blast 0 of 18\n",
      "starting blast 1 of 18\n",
      "starting blast 2 of 18\n",
      "starting blast 3 of 18\n",
      "starting blast 4 of 18\n",
      "starting blast 5 of 18\n",
      "starting blast 6 of 18\n",
      "starting blast 7 of 18\n",
      "starting blast 8 of 18\n",
      "starting blast 9 of 18\n",
      "starting blast 10 of 18\n",
      "starting blast 11 of 18\n",
      "starting blast 12 of 18\n",
      "starting blast 13 of 18\n",
      "starting blast 14 of 18\n",
      "starting blast 15 of 18\n",
      "starting blast 16 of 18\n",
      "starting blast 17 of 18\n",
      "starting while loop for file_path /home/dennislab2/Desktop/reads_out/plate23_12s_1_2_out.csv\n",
      "starting blast 0 of 36\n",
      "starting blast 1 of 36\n",
      "starting blast 2 of 36\n",
      "starting blast 3 of 36\n",
      "starting blast 4 of 36\n",
      "starting blast 5 of 36\n",
      "starting blast 6 of 36\n",
      "starting blast 7 of 36\n",
      "starting blast 8 of 36\n",
      "starting blast 9 of 36\n",
      "starting blast 10 of 36\n",
      "starting blast 11 of 36\n",
      "starting blast 12 of 36\n",
      "starting blast 13 of 36\n",
      "starting blast 14 of 36\n",
      "starting blast 15 of 36\n",
      "starting blast 16 of 36\n",
      "starting blast 17 of 36\n",
      "starting blast 18 of 36\n",
      "starting blast 19 of 36\n",
      "starting blast 20 of 36\n",
      "starting blast 21 of 36\n",
      "starting blast 22 of 36\n",
      "starting blast 23 of 36\n",
      "starting blast 24 of 36\n",
      "starting blast 25 of 36\n",
      "starting blast 26 of 36\n",
      "starting blast 27 of 36\n",
      "starting blast 28 of 36\n",
      "starting blast 29 of 36\n",
      "starting blast 30 of 36\n",
      "starting blast 31 of 36\n",
      "starting blast 32 of 36\n",
      "starting blast 33 of 36\n",
      "starting blast 34 of 36\n",
      "starting blast 35 of 36\n",
      "starting while loop for file_path /home/dennislab2/Desktop/reads_out/plate23_12s_74_1_out.csv\n",
      "starting blast 0 of 62\n",
      "starting blast 1 of 62\n",
      "starting blast 2 of 62\n",
      "starting blast 3 of 62\n",
      "starting blast 4 of 62\n",
      "starting blast 5 of 62\n",
      "starting blast 6 of 62\n",
      "starting blast 7 of 62\n",
      "starting blast 8 of 62\n",
      "starting blast 9 of 62\n",
      "starting blast 10 of 62\n",
      "starting blast 11 of 62\n",
      "starting blast 12 of 62\n",
      "starting blast 13 of 62\n",
      "starting blast 14 of 62\n",
      "starting blast 15 of 62\n",
      "starting blast 16 of 62\n",
      "starting blast 17 of 62\n",
      "starting blast 18 of 62\n",
      "starting blast 19 of 62\n",
      "starting blast 20 of 62\n",
      "starting blast 21 of 62\n",
      "starting blast 22 of 62\n",
      "starting blast 23 of 62\n",
      "starting blast 24 of 62\n",
      "starting blast 25 of 62\n",
      "starting blast 26 of 62\n",
      "starting blast 27 of 62\n",
      "starting blast 28 of 62\n",
      "starting blast 29 of 62\n"
     ]
    },
    {
     "name": "stdout",
     "output_type": "stream",
     "text": [
      "starting blast 30 of 62\n",
      "starting blast 31 of 62\n",
      "starting blast 32 of 62\n",
      "starting blast 33 of 62\n",
      "starting blast 34 of 62\n",
      "starting blast 35 of 62\n",
      "starting blast 36 of 62\n",
      "starting blast 37 of 62\n",
      "starting blast 38 of 62\n",
      "starting blast 39 of 62\n",
      "starting blast 40 of 62\n",
      "starting blast 41 of 62\n",
      "starting blast 42 of 62\n",
      "starting blast 43 of 62\n",
      "starting blast 44 of 62\n",
      "starting blast 45 of 62\n",
      "starting blast 46 of 62\n",
      "starting blast 47 of 62\n",
      "starting blast 48 of 62\n",
      "starting blast 49 of 62\n",
      "starting blast 50 of 62\n",
      "starting blast 51 of 62\n",
      "starting blast 52 of 62\n",
      "starting blast 53 of 62\n",
      "starting blast 54 of 62\n",
      "starting blast 55 of 62\n",
      "starting blast 56 of 62\n",
      "starting blast 57 of 62\n",
      "starting blast 58 of 62\n",
      "starting blast 59 of 62\n",
      "starting blast 60 of 62\n",
      "starting blast 61 of 62\n",
      "starting while loop for file_path /home/dennislab2/Desktop/reads_out/plate23_12s_23_2_out.csv\n",
      "starting blast 0 of 38\n",
      "starting blast 1 of 38\n",
      "starting blast 2 of 38\n",
      "starting blast 3 of 38\n",
      "starting blast 4 of 38\n",
      "starting blast 5 of 38\n",
      "starting blast 6 of 38\n",
      "starting blast 7 of 38\n",
      "starting blast 8 of 38\n",
      "starting blast 9 of 38\n",
      "starting blast 10 of 38\n",
      "starting blast 11 of 38\n",
      "starting blast 12 of 38\n",
      "starting blast 13 of 38\n",
      "starting blast 14 of 38\n",
      "starting blast 15 of 38\n",
      "starting blast 16 of 38\n",
      "starting blast 17 of 38\n",
      "starting blast 18 of 38\n",
      "starting blast 19 of 38\n",
      "starting blast 20 of 38\n",
      "starting blast 21 of 38\n",
      "starting blast 22 of 38\n",
      "starting blast 23 of 38\n",
      "starting blast 24 of 38\n",
      "starting blast 25 of 38\n",
      "starting blast 26 of 38\n",
      "starting blast 27 of 38\n",
      "starting blast 28 of 38\n",
      "starting blast 29 of 38\n",
      "starting blast 30 of 38\n",
      "starting blast 31 of 38\n",
      "starting blast 32 of 38\n",
      "starting blast 33 of 38\n",
      "starting blast 34 of 38\n",
      "starting blast 35 of 38\n",
      "starting blast 36 of 38\n",
      "starting blast 37 of 38\n",
      "starting while loop for file_path /home/dennislab2/Desktop/reads_out/plate1_12s_24_2_out.csv\n",
      "starting blast 0 of 35\n",
      "starting blast 1 of 35\n",
      "starting blast 2 of 35\n",
      "starting blast 3 of 35\n",
      "starting blast 4 of 35\n",
      "starting blast 5 of 35\n",
      "starting blast 6 of 35\n",
      "starting blast 7 of 35\n",
      "starting blast 8 of 35\n",
      "starting blast 9 of 35\n",
      "starting blast 10 of 35\n",
      "starting blast 11 of 35\n",
      "starting blast 12 of 35\n",
      "starting blast 13 of 35\n",
      "starting blast 14 of 35\n",
      "starting blast 15 of 35\n",
      "starting blast 16 of 35\n",
      "starting blast 17 of 35\n",
      "starting blast 18 of 35\n",
      "starting blast 19 of 35\n",
      "starting blast 20 of 35\n",
      "starting blast 21 of 35\n",
      "starting blast 22 of 35\n",
      "starting blast 23 of 35\n",
      "starting blast 24 of 35\n",
      "starting blast 25 of 35\n",
      "starting blast 26 of 35\n",
      "starting blast 27 of 35\n",
      "starting blast 28 of 35\n",
      "starting blast 29 of 35\n",
      "starting blast 30 of 35\n",
      "starting blast 31 of 35\n",
      "starting blast 32 of 35\n",
      "starting blast 33 of 35\n",
      "starting blast 34 of 35\n",
      "starting while loop for file_path /home/dennislab2/Desktop/reads_out/plate23_12s_33_1_out.csv\n",
      "starting blast 0 of 27\n",
      "starting blast 1 of 27\n",
      "starting blast 2 of 27\n",
      "starting blast 3 of 27\n",
      "starting blast 4 of 27\n",
      "starting blast 5 of 27\n",
      "starting blast 6 of 27\n",
      "starting blast 7 of 27\n",
      "starting blast 8 of 27\n",
      "starting blast 9 of 27\n",
      "starting blast 10 of 27\n",
      "starting blast 11 of 27\n",
      "starting blast 12 of 27\n",
      "starting blast 13 of 27\n",
      "starting blast 14 of 27\n",
      "starting blast 15 of 27\n",
      "starting blast 16 of 27\n",
      "starting blast 17 of 27\n",
      "starting blast 18 of 27\n",
      "starting blast 19 of 27\n",
      "starting blast 20 of 27\n",
      "starting blast 21 of 27\n",
      "starting blast 22 of 27\n",
      "starting blast 23 of 27\n",
      "starting blast 24 of 27\n",
      "starting blast 25 of 27\n",
      "starting blast 26 of 27\n",
      "starting while loop for file_path /home/dennislab2/Desktop/reads_out/plate23_12s_28_2_out.csv\n",
      "starting blast 0 of 8\n",
      "starting blast 1 of 8\n",
      "starting blast 2 of 8\n",
      "starting blast 3 of 8\n",
      "starting blast 4 of 8\n",
      "starting blast 5 of 8\n",
      "starting blast 6 of 8\n",
      "starting blast 7 of 8\n",
      "starting while loop for file_path /home/dennislab2/Desktop/reads_out/plate1_12s_29_2_out.csv\n",
      "starting blast 0 of 68\n",
      "starting blast 1 of 68\n",
      "starting blast 2 of 68\n",
      "starting blast 3 of 68\n",
      "starting blast 4 of 68\n",
      "starting blast 5 of 68\n",
      "starting blast 6 of 68\n",
      "starting blast 7 of 68\n",
      "starting blast 8 of 68\n",
      "starting blast 9 of 68\n",
      "starting blast 10 of 68\n",
      "starting blast 11 of 68\n",
      "starting blast 12 of 68\n",
      "starting blast 13 of 68\n",
      "starting blast 14 of 68\n",
      "starting blast 15 of 68\n",
      "starting blast 16 of 68\n",
      "starting blast 17 of 68\n",
      "starting blast 18 of 68\n",
      "starting blast 19 of 68\n",
      "starting blast 20 of 68\n",
      "starting blast 21 of 68\n",
      "starting blast 22 of 68\n",
      "starting blast 23 of 68\n",
      "starting blast 24 of 68\n",
      "starting blast 25 of 68\n",
      "starting blast 26 of 68\n",
      "starting blast 27 of 68\n",
      "starting blast 28 of 68\n",
      "starting blast 29 of 68\n",
      "starting blast 30 of 68\n",
      "starting blast 31 of 68\n",
      "starting blast 32 of 68\n",
      "starting blast 33 of 68\n",
      "starting blast 34 of 68\n",
      "starting blast 35 of 68\n",
      "starting blast 36 of 68\n",
      "starting blast 37 of 68\n",
      "starting blast 38 of 68\n",
      "starting blast 39 of 68\n",
      "starting blast 40 of 68\n",
      "starting blast 41 of 68\n",
      "starting blast 42 of 68\n",
      "starting blast 43 of 68\n",
      "starting blast 44 of 68\n",
      "starting blast 45 of 68\n",
      "starting blast 46 of 68\n",
      "starting blast 47 of 68\n",
      "starting blast 48 of 68\n",
      "starting blast 49 of 68\n",
      "starting blast 50 of 68\n",
      "starting blast 51 of 68\n",
      "starting blast 52 of 68\n",
      "starting blast 53 of 68\n",
      "starting blast 54 of 68\n",
      "starting blast 55 of 68\n",
      "starting blast 56 of 68\n",
      "starting blast 57 of 68\n",
      "starting blast 58 of 68\n",
      "starting blast 59 of 68\n",
      "starting blast 60 of 68\n",
      "starting blast 61 of 68\n",
      "starting blast 62 of 68\n",
      "starting blast 63 of 68\n",
      "starting blast 64 of 68\n",
      "starting blast 65 of 68\n",
      "starting blast 66 of 68\n",
      "starting blast 67 of 68\n",
      "starting while loop for file_path /home/dennislab2/Desktop/reads_out/plate1_12s_6_2_out.csv\n",
      "starting blast 0 of 5\n",
      "starting blast 1 of 5\n",
      "starting blast 2 of 5\n",
      "starting blast 3 of 5\n",
      "starting blast 4 of 5\n",
      "starting while loop for file_path /home/dennislab2/Desktop/reads_out/plate1_12s_35_2_out.csv\n",
      "starting blast 0 of 2\n",
      "starting blast 1 of 2\n",
      "starting while loop for file_path /home/dennislab2/Desktop/reads_out/plate1_12s_56_2_out.csv\n",
      "starting blast 0 of 13\n",
      "starting blast 1 of 13\n",
      "starting blast 2 of 13\n",
      "starting blast 3 of 13\n",
      "starting blast 4 of 13\n",
      "starting blast 5 of 13\n",
      "starting blast 6 of 13\n",
      "starting blast 7 of 13\n",
      "starting blast 8 of 13\n",
      "starting blast 9 of 13\n",
      "starting blast 10 of 13\n",
      "starting blast 11 of 13\n",
      "starting blast 12 of 13\n",
      "starting while loop for file_path /home/dennislab2/Desktop/reads_out/plate23_12s_61_2_out.csv\n",
      "starting blast 0 of 36\n",
      "starting blast 1 of 36\n",
      "starting blast 2 of 36\n",
      "starting blast 3 of 36\n",
      "starting blast 4 of 36\n",
      "starting blast 5 of 36\n",
      "starting blast 6 of 36\n",
      "starting blast 7 of 36\n",
      "starting blast 8 of 36\n",
      "starting blast 9 of 36\n",
      "starting blast 10 of 36\n",
      "starting blast 11 of 36\n",
      "starting blast 12 of 36\n",
      "starting blast 13 of 36\n",
      "starting blast 14 of 36\n",
      "starting blast 15 of 36\n",
      "starting blast 16 of 36\n",
      "starting blast 17 of 36\n",
      "starting blast 18 of 36\n",
      "starting blast 19 of 36\n",
      "starting blast 20 of 36\n",
      "starting blast 21 of 36\n",
      "starting blast 22 of 36\n",
      "starting blast 23 of 36\n",
      "starting blast 24 of 36\n",
      "starting blast 25 of 36\n",
      "starting blast 26 of 36\n",
      "starting blast 27 of 36\n",
      "starting blast 28 of 36\n",
      "starting blast 29 of 36\n",
      "starting blast 30 of 36\n",
      "starting blast 31 of 36\n",
      "starting blast 32 of 36\n",
      "starting blast 33 of 36\n",
      "starting blast 34 of 36\n",
      "starting blast 35 of 36\n",
      "starting while loop for file_path /home/dennislab2/Desktop/reads_out/plate1_12s_38_1_out.csv\n",
      "starting blast 0 of 8\n",
      "starting blast 1 of 8\n",
      "starting blast 2 of 8\n",
      "starting blast 3 of 8\n",
      "starting blast 4 of 8\n",
      "starting blast 5 of 8\n",
      "starting blast 6 of 8\n",
      "starting blast 7 of 8\n",
      "starting while loop for file_path /home/dennislab2/Desktop/reads_out/plate23_12s_70_1_out.csv\n",
      "starting blast 0 of 48\n",
      "starting blast 1 of 48\n",
      "starting blast 2 of 48\n",
      "starting blast 3 of 48\n",
      "starting blast 4 of 48\n",
      "starting blast 5 of 48\n",
      "starting blast 6 of 48\n",
      "starting blast 7 of 48\n",
      "starting blast 8 of 48\n",
      "starting blast 9 of 48\n",
      "starting blast 10 of 48\n",
      "starting blast 11 of 48\n",
      "starting blast 12 of 48\n",
      "starting blast 13 of 48\n",
      "starting blast 14 of 48\n",
      "starting blast 15 of 48\n",
      "starting blast 16 of 48\n",
      "starting blast 17 of 48\n",
      "starting blast 18 of 48\n",
      "starting blast 19 of 48\n",
      "starting blast 20 of 48\n",
      "starting blast 21 of 48\n",
      "starting blast 22 of 48\n",
      "starting blast 23 of 48\n",
      "starting blast 24 of 48\n",
      "starting blast 25 of 48\n",
      "starting blast 26 of 48\n",
      "starting blast 27 of 48\n",
      "starting blast 28 of 48\n",
      "starting blast 29 of 48\n",
      "starting blast 30 of 48\n",
      "starting blast 31 of 48\n"
     ]
    },
    {
     "name": "stdout",
     "output_type": "stream",
     "text": [
      "starting blast 32 of 48\n",
      "starting blast 33 of 48\n",
      "starting blast 34 of 48\n",
      "starting blast 35 of 48\n",
      "starting blast 36 of 48\n",
      "starting blast 37 of 48\n",
      "starting blast 38 of 48\n",
      "starting blast 39 of 48\n",
      "starting blast 40 of 48\n",
      "starting blast 41 of 48\n",
      "starting blast 42 of 48\n",
      "starting blast 43 of 48\n",
      "starting blast 44 of 48\n",
      "starting blast 45 of 48\n",
      "starting blast 46 of 48\n",
      "starting blast 47 of 48\n",
      "starting while loop for file_path /home/dennislab2/Desktop/reads_out/plate23_12s_11_1_out.csv\n",
      "starting blast 0 of 9\n",
      "starting blast 1 of 9\n",
      "starting blast 2 of 9\n",
      "starting blast 3 of 9\n",
      "starting blast 4 of 9\n",
      "starting blast 5 of 9\n",
      "starting blast 6 of 9\n",
      "starting blast 7 of 9\n",
      "starting blast 8 of 9\n",
      "starting while loop for file_path /home/dennislab2/Desktop/reads_out/plate1_12s_38_2_out.csv\n",
      "starting blast 0 of 6\n",
      "starting blast 1 of 6\n",
      "starting blast 2 of 6\n",
      "starting blast 3 of 6\n",
      "starting blast 4 of 6\n",
      "starting blast 5 of 6\n",
      "starting while loop for file_path /home/dennislab2/Desktop/reads_out/plate1_12s_39_1_out.csv\n",
      "starting blast 0 of 11\n",
      "starting blast 1 of 11\n",
      "starting blast 2 of 11\n",
      "starting blast 3 of 11\n",
      "starting blast 4 of 11\n",
      "starting blast 5 of 11\n",
      "starting blast 6 of 11\n",
      "starting blast 7 of 11\n",
      "starting blast 8 of 11\n",
      "starting blast 9 of 11\n",
      "starting blast 10 of 11\n",
      "starting while loop for file_path /home/dennislab2/Desktop/reads_out/plate23_12s_47_1_out.csv\n",
      "starting blast 0 of 22\n",
      "starting blast 1 of 22\n",
      "starting blast 2 of 22\n",
      "starting blast 3 of 22\n",
      "starting blast 4 of 22\n",
      "starting blast 5 of 22\n",
      "starting blast 6 of 22\n",
      "starting blast 7 of 22\n",
      "starting blast 8 of 22\n",
      "starting blast 9 of 22\n",
      "starting blast 10 of 22\n",
      "starting blast 11 of 22\n",
      "starting blast 12 of 22\n",
      "starting blast 13 of 22\n",
      "starting blast 14 of 22\n",
      "starting blast 15 of 22\n",
      "starting blast 16 of 22\n",
      "starting blast 17 of 22\n",
      "starting blast 18 of 22\n",
      "starting blast 19 of 22\n",
      "starting blast 20 of 22\n",
      "starting blast 21 of 22\n",
      "starting while loop for file_path /home/dennislab2/Desktop/reads_out/plate1_12s_46_1_out.csv\n",
      "starting blast 0 of 11\n",
      "starting blast 1 of 11\n",
      "starting blast 2 of 11\n",
      "starting blast 3 of 11\n",
      "starting blast 4 of 11\n",
      "starting blast 5 of 11\n",
      "starting blast 6 of 11\n",
      "starting blast 7 of 11\n",
      "starting blast 8 of 11\n",
      "starting blast 9 of 11\n",
      "starting blast 10 of 11\n",
      "starting while loop for file_path /home/dennislab2/Desktop/reads_out/plate23_12s_14_2_out.csv\n",
      "starting blast 0 of 52\n",
      "starting blast 1 of 52\n",
      "starting blast 2 of 52\n",
      "starting blast 3 of 52\n",
      "starting blast 4 of 52\n",
      "starting blast 5 of 52\n",
      "starting blast 6 of 52\n",
      "starting blast 7 of 52\n",
      "starting blast 8 of 52\n",
      "starting blast 9 of 52\n",
      "starting blast 10 of 52\n",
      "starting blast 11 of 52\n",
      "starting blast 12 of 52\n",
      "starting blast 13 of 52\n",
      "starting blast 14 of 52\n",
      "starting blast 15 of 52\n",
      "starting blast 16 of 52\n",
      "starting blast 17 of 52\n",
      "starting blast 18 of 52\n",
      "starting blast 19 of 52\n",
      "starting blast 20 of 52\n",
      "starting blast 21 of 52\n",
      "starting blast 22 of 52\n",
      "starting blast 23 of 52\n",
      "starting blast 24 of 52\n",
      "starting blast 25 of 52\n",
      "starting blast 26 of 52\n",
      "starting blast 27 of 52\n",
      "starting blast 28 of 52\n",
      "starting blast 29 of 52\n",
      "starting blast 30 of 52\n",
      "starting blast 31 of 52\n",
      "starting blast 32 of 52\n",
      "starting blast 33 of 52\n",
      "starting blast 34 of 52\n",
      "starting blast 35 of 52\n",
      "starting blast 36 of 52\n",
      "starting blast 37 of 52\n",
      "starting blast 38 of 52\n",
      "starting blast 39 of 52\n",
      "starting blast 40 of 52\n",
      "starting blast 41 of 52\n",
      "starting blast 42 of 52\n",
      "starting blast 43 of 52\n",
      "starting blast 44 of 52\n",
      "starting blast 45 of 52\n",
      "starting blast 46 of 52\n",
      "starting blast 47 of 52\n",
      "starting blast 48 of 52\n",
      "starting blast 49 of 52\n",
      "starting blast 50 of 52\n",
      "starting blast 51 of 52\n",
      "starting while loop for file_path /home/dennislab2/Desktop/reads_out/plate23_12s_65_1_out.csv\n",
      "starting blast 0 of 85\n",
      "starting blast 1 of 85\n",
      "starting blast 2 of 85\n",
      "starting blast 3 of 85\n",
      "starting blast 4 of 85\n",
      "starting blast 5 of 85\n",
      "starting blast 6 of 85\n",
      "starting blast 7 of 85\n",
      "starting blast 8 of 85\n",
      "starting blast 9 of 85\n",
      "starting blast 10 of 85\n",
      "starting blast 11 of 85\n",
      "starting blast 12 of 85\n",
      "starting blast 13 of 85\n",
      "starting blast 14 of 85\n",
      "starting blast 15 of 85\n",
      "starting blast 16 of 85\n",
      "starting blast 17 of 85\n",
      "starting blast 18 of 85\n",
      "starting blast 19 of 85\n",
      "starting blast 20 of 85\n",
      "starting blast 21 of 85\n",
      "starting blast 22 of 85\n",
      "starting blast 23 of 85\n",
      "starting blast 24 of 85\n",
      "starting blast 25 of 85\n",
      "starting blast 26 of 85\n",
      "starting blast 27 of 85\n",
      "starting blast 28 of 85\n",
      "starting blast 29 of 85\n",
      "starting blast 30 of 85\n",
      "starting blast 31 of 85\n",
      "starting blast 32 of 85\n",
      "starting blast 33 of 85\n",
      "starting blast 34 of 85\n",
      "starting blast 35 of 85\n",
      "starting blast 36 of 85\n",
      "starting blast 37 of 85\n",
      "starting blast 38 of 85\n",
      "starting blast 39 of 85\n",
      "starting blast 40 of 85\n",
      "starting blast 41 of 85\n",
      "starting blast 42 of 85\n",
      "starting blast 43 of 85\n",
      "starting blast 44 of 85\n",
      "starting blast 45 of 85\n",
      "starting blast 46 of 85\n",
      "starting blast 47 of 85\n",
      "starting blast 48 of 85\n",
      "starting blast 49 of 85\n",
      "starting blast 50 of 85\n",
      "starting blast 51 of 85\n",
      "starting blast 52 of 85\n",
      "starting blast 53 of 85\n",
      "starting blast 54 of 85\n",
      "starting blast 55 of 85\n",
      "starting blast 56 of 85\n",
      "starting blast 57 of 85\n",
      "starting blast 58 of 85\n",
      "starting blast 59 of 85\n",
      "starting blast 60 of 85\n",
      "starting blast 61 of 85\n",
      "starting blast 62 of 85\n",
      "starting blast 63 of 85\n",
      "starting blast 64 of 85\n",
      "starting blast 65 of 85\n",
      "starting blast 66 of 85\n",
      "starting blast 67 of 85\n",
      "starting blast 68 of 85\n",
      "starting blast 69 of 85\n",
      "starting blast 70 of 85\n",
      "starting blast 71 of 85\n",
      "starting blast 72 of 85\n",
      "starting blast 73 of 85\n",
      "starting blast 74 of 85\n",
      "starting blast 75 of 85\n",
      "starting blast 76 of 85\n",
      "starting blast 77 of 85\n",
      "starting blast 78 of 85\n",
      "starting blast 79 of 85\n",
      "starting blast 80 of 85\n",
      "starting blast 81 of 85\n",
      "starting blast 82 of 85\n",
      "starting blast 83 of 85\n",
      "starting blast 84 of 85\n",
      "starting while loop for file_path /home/dennislab2/Desktop/reads_out/plate1_12s_20_2_out.csv\n",
      "starting blast 0 of 21\n",
      "starting blast 1 of 21\n",
      "starting blast 2 of 21\n",
      "starting blast 3 of 21\n",
      "starting blast 4 of 21\n",
      "starting blast 5 of 21\n",
      "starting blast 6 of 21\n",
      "starting blast 7 of 21\n",
      "starting blast 8 of 21\n",
      "starting blast 9 of 21\n",
      "starting blast 10 of 21\n",
      "starting blast 11 of 21\n",
      "starting blast 12 of 21\n",
      "starting blast 13 of 21\n",
      "starting blast 14 of 21\n",
      "starting blast 15 of 21\n",
      "starting blast 16 of 21\n",
      "starting blast 17 of 21\n",
      "starting blast 18 of 21\n",
      "starting blast 19 of 21\n",
      "starting blast 20 of 21\n",
      "starting while loop for file_path /home/dennislab2/Desktop/reads_out/plate1_12s_50_1_out.csv\n",
      "starting blast 0 of 95\n",
      "starting blast 1 of 95\n",
      "starting blast 2 of 95\n",
      "starting blast 3 of 95\n",
      "starting blast 4 of 95\n",
      "starting blast 5 of 95\n",
      "starting blast 6 of 95\n",
      "starting blast 7 of 95\n",
      "starting blast 8 of 95\n",
      "starting blast 9 of 95\n",
      "starting blast 10 of 95\n",
      "starting blast 11 of 95\n",
      "starting blast 12 of 95\n",
      "starting blast 13 of 95\n",
      "starting blast 14 of 95\n",
      "starting blast 15 of 95\n",
      "starting blast 16 of 95\n",
      "starting blast 17 of 95\n",
      "starting blast 18 of 95\n",
      "starting blast 19 of 95\n",
      "starting blast 20 of 95\n",
      "starting blast 21 of 95\n",
      "starting blast 22 of 95\n",
      "starting blast 23 of 95\n",
      "starting blast 24 of 95\n",
      "starting blast 25 of 95\n",
      "starting blast 26 of 95\n",
      "starting blast 27 of 95\n",
      "starting blast 28 of 95\n",
      "starting blast 29 of 95\n",
      "starting blast 30 of 95\n",
      "starting blast 31 of 95\n",
      "starting blast 32 of 95\n",
      "starting blast 33 of 95\n",
      "starting blast 34 of 95\n",
      "starting blast 35 of 95\n",
      "starting blast 36 of 95\n",
      "starting blast 37 of 95\n",
      "starting blast 38 of 95\n",
      "starting blast 39 of 95\n",
      "starting blast 40 of 95\n",
      "starting blast 41 of 95\n",
      "starting blast 42 of 95\n",
      "starting blast 43 of 95\n",
      "starting blast 44 of 95\n",
      "starting blast 45 of 95\n",
      "starting blast 46 of 95\n",
      "starting blast 47 of 95\n",
      "starting blast 48 of 95\n",
      "starting blast 49 of 95\n",
      "starting blast 50 of 95\n",
      "starting blast 51 of 95\n",
      "starting blast 52 of 95\n",
      "starting blast 53 of 95\n",
      "starting blast 54 of 95\n",
      "starting blast 55 of 95\n",
      "starting blast 56 of 95\n",
      "starting blast 57 of 95\n",
      "starting blast 58 of 95\n",
      "starting blast 59 of 95\n",
      "starting blast 60 of 95\n",
      "starting blast 61 of 95\n",
      "starting blast 62 of 95\n",
      "starting blast 63 of 95\n",
      "starting blast 64 of 95\n",
      "starting blast 65 of 95\n",
      "starting blast 66 of 95\n",
      "starting blast 67 of 95\n",
      "starting blast 68 of 95\n",
      "starting blast 69 of 95\n",
      "starting blast 70 of 95\n",
      "starting blast 71 of 95\n",
      "starting blast 72 of 95\n",
      "starting blast 73 of 95\n",
      "starting blast 74 of 95\n",
      "starting blast 75 of 95\n",
      "starting blast 76 of 95\n",
      "starting blast 77 of 95\n"
     ]
    },
    {
     "name": "stdout",
     "output_type": "stream",
     "text": [
      "starting blast 78 of 95\n",
      "starting blast 79 of 95\n",
      "starting blast 80 of 95\n",
      "starting blast 81 of 95\n",
      "starting blast 82 of 95\n",
      "starting blast 83 of 95\n",
      "starting blast 84 of 95\n",
      "starting blast 85 of 95\n",
      "starting blast 86 of 95\n",
      "starting blast 87 of 95\n",
      "starting blast 88 of 95\n",
      "starting blast 89 of 95\n",
      "starting blast 90 of 95\n",
      "starting blast 91 of 95\n",
      "starting blast 92 of 95\n",
      "starting blast 93 of 95\n",
      "starting blast 94 of 95\n",
      "starting while loop for file_path /home/dennislab2/Desktop/reads_out/plate23_12s_52_1_out.csv\n",
      "starting blast 0 of 5\n",
      "starting blast 1 of 5\n",
      "starting blast 2 of 5\n",
      "starting blast 3 of 5\n",
      "starting blast 4 of 5\n",
      "starting while loop for file_path /home/dennislab2/Desktop/reads_out/plate1_12s_15_2_out.csv\n",
      "starting blast 0 of 19\n",
      "starting blast 1 of 19\n",
      "starting blast 2 of 19\n",
      "starting blast 3 of 19\n",
      "starting blast 4 of 19\n",
      "starting blast 5 of 19\n",
      "starting blast 6 of 19\n",
      "starting blast 7 of 19\n",
      "starting blast 8 of 19\n",
      "starting blast 9 of 19\n",
      "starting blast 10 of 19\n",
      "starting blast 11 of 19\n",
      "starting blast 12 of 19\n",
      "starting blast 13 of 19\n",
      "starting blast 14 of 19\n",
      "starting blast 15 of 19\n",
      "starting blast 16 of 19\n",
      "starting blast 17 of 19\n",
      "starting blast 18 of 19\n",
      "starting while loop for file_path /home/dennislab2/Desktop/reads_out/plate1_12s_49_2_out.csv\n",
      "starting blast 0 of 22\n",
      "starting blast 1 of 22\n",
      "starting blast 2 of 22\n",
      "starting blast 3 of 22\n",
      "starting blast 4 of 22\n",
      "starting blast 5 of 22\n",
      "starting blast 6 of 22\n",
      "starting blast 7 of 22\n",
      "starting blast 8 of 22\n",
      "starting blast 9 of 22\n",
      "starting blast 10 of 22\n",
      "starting blast 11 of 22\n",
      "starting blast 12 of 22\n",
      "starting blast 13 of 22\n",
      "starting blast 14 of 22\n",
      "starting blast 15 of 22\n",
      "starting blast 16 of 22\n",
      "starting blast 17 of 22\n",
      "starting blast 18 of 22\n",
      "starting blast 19 of 22\n",
      "starting blast 20 of 22\n",
      "starting blast 21 of 22\n",
      "starting while loop for file_path /home/dennislab2/Desktop/reads_out/plate1_12s_6_1_out.csv\n",
      "starting blast 0 of 7\n",
      "starting blast 1 of 7\n",
      "starting blast 2 of 7\n",
      "starting blast 3 of 7\n",
      "starting blast 4 of 7\n",
      "starting blast 5 of 7\n",
      "starting blast 6 of 7\n",
      "starting while loop for file_path /home/dennislab2/Desktop/reads_out/plate1_12s_37_2_out.csv\n",
      "starting blast 0 of 85\n",
      "starting blast 1 of 85\n",
      "starting blast 2 of 85\n",
      "starting blast 3 of 85\n",
      "starting blast 4 of 85\n",
      "starting blast 5 of 85\n",
      "starting blast 6 of 85\n",
      "starting blast 7 of 85\n",
      "starting blast 8 of 85\n",
      "starting blast 9 of 85\n",
      "starting blast 10 of 85\n",
      "starting blast 11 of 85\n",
      "starting blast 12 of 85\n",
      "starting blast 13 of 85\n",
      "starting blast 14 of 85\n",
      "starting blast 15 of 85\n",
      "starting blast 16 of 85\n",
      "starting blast 17 of 85\n",
      "starting blast 18 of 85\n",
      "starting blast 19 of 85\n",
      "starting blast 20 of 85\n",
      "starting blast 21 of 85\n",
      "starting blast 22 of 85\n",
      "starting blast 23 of 85\n",
      "starting blast 24 of 85\n",
      "starting blast 25 of 85\n",
      "starting blast 26 of 85\n",
      "starting blast 27 of 85\n",
      "starting blast 28 of 85\n",
      "starting blast 29 of 85\n",
      "starting blast 30 of 85\n",
      "starting blast 31 of 85\n",
      "starting blast 32 of 85\n",
      "starting blast 33 of 85\n",
      "starting blast 34 of 85\n",
      "starting blast 35 of 85\n",
      "starting blast 36 of 85\n",
      "starting blast 37 of 85\n",
      "starting blast 38 of 85\n",
      "starting blast 39 of 85\n",
      "starting blast 40 of 85\n",
      "starting blast 41 of 85\n",
      "starting blast 42 of 85\n",
      "starting blast 43 of 85\n",
      "starting blast 44 of 85\n",
      "starting blast 45 of 85\n",
      "starting blast 46 of 85\n",
      "starting blast 47 of 85\n",
      "starting blast 48 of 85\n",
      "starting blast 49 of 85\n",
      "starting blast 50 of 85\n",
      "starting blast 51 of 85\n",
      "starting blast 52 of 85\n",
      "starting blast 53 of 85\n",
      "starting blast 54 of 85\n",
      "starting blast 55 of 85\n",
      "starting blast 56 of 85\n",
      "starting blast 57 of 85\n",
      "starting blast 58 of 85\n",
      "starting blast 59 of 85\n",
      "starting blast 60 of 85\n",
      "starting blast 61 of 85\n",
      "starting blast 62 of 85\n",
      "starting blast 63 of 85\n",
      "starting blast 64 of 85\n",
      "starting blast 65 of 85\n",
      "starting blast 66 of 85\n",
      "starting blast 67 of 85\n",
      "starting blast 68 of 85\n",
      "starting blast 69 of 85\n",
      "starting blast 70 of 85\n",
      "starting blast 71 of 85\n",
      "starting blast 72 of 85\n",
      "starting blast 73 of 85\n",
      "starting blast 74 of 85\n",
      "starting blast 75 of 85\n",
      "starting blast 76 of 85\n",
      "starting blast 77 of 85\n",
      "starting blast 78 of 85\n",
      "starting blast 79 of 85\n",
      "starting blast 80 of 85\n",
      "starting blast 81 of 85\n",
      "starting blast 82 of 85\n",
      "starting blast 83 of 85\n",
      "starting blast 84 of 85\n",
      "starting while loop for file_path /home/dennislab2/Desktop/reads_out/plate23_12s_5_1_out.csv\n",
      "starting blast 0 of 12\n",
      "starting blast 1 of 12\n",
      "starting blast 2 of 12\n",
      "starting blast 3 of 12\n",
      "starting blast 4 of 12\n",
      "starting blast 5 of 12\n",
      "starting blast 6 of 12\n",
      "starting blast 7 of 12\n",
      "starting blast 8 of 12\n",
      "starting blast 9 of 12\n",
      "starting blast 10 of 12\n",
      "starting blast 11 of 12\n",
      "starting while loop for file_path /home/dennislab2/Desktop/reads_out/plate1_12s_40_1_out.csv\n",
      "starting blast 0 of 15\n",
      "starting blast 1 of 15\n",
      "starting blast 2 of 15\n",
      "starting blast 3 of 15\n",
      "starting blast 4 of 15\n",
      "starting blast 5 of 15\n",
      "starting blast 6 of 15\n",
      "starting blast 7 of 15\n",
      "starting blast 8 of 15\n",
      "starting blast 9 of 15\n",
      "starting blast 10 of 15\n",
      "starting blast 11 of 15\n",
      "starting blast 12 of 15\n",
      "starting blast 13 of 15\n",
      "starting blast 14 of 15\n",
      "starting while loop for file_path /home/dennislab2/Desktop/reads_out/plate23_12s_24_2_out.csv\n",
      "starting blast 0 of 18\n",
      "starting blast 1 of 18\n",
      "starting blast 2 of 18\n",
      "starting blast 3 of 18\n",
      "starting blast 4 of 18\n",
      "starting blast 5 of 18\n",
      "starting blast 6 of 18\n",
      "starting blast 7 of 18\n",
      "starting blast 8 of 18\n",
      "starting blast 9 of 18\n",
      "starting blast 10 of 18\n",
      "starting blast 11 of 18\n",
      "starting blast 12 of 18\n",
      "starting blast 13 of 18\n",
      "starting blast 14 of 18\n",
      "starting blast 15 of 18\n",
      "starting blast 16 of 18\n",
      "starting blast 17 of 18\n",
      "starting while loop for file_path /home/dennislab2/Desktop/reads_out/plate1_12s_40_2_out.csv\n",
      "starting blast 0 of 13\n",
      "starting blast 1 of 13\n",
      "starting blast 2 of 13\n",
      "starting blast 3 of 13\n",
      "starting blast 4 of 13\n",
      "starting blast 5 of 13\n",
      "starting blast 6 of 13\n",
      "starting blast 7 of 13\n",
      "starting blast 8 of 13\n",
      "starting blast 9 of 13\n",
      "starting blast 10 of 13\n",
      "starting blast 11 of 13\n",
      "starting blast 12 of 13\n",
      "starting while loop for file_path /home/dennislab2/Desktop/reads_out/plate1_12s_2_1_out.csv\n",
      "starting blast 0 of 27\n",
      "starting blast 1 of 27\n",
      "starting blast 2 of 27\n",
      "starting blast 3 of 27\n",
      "starting blast 4 of 27\n",
      "starting blast 5 of 27\n",
      "starting blast 6 of 27\n",
      "starting blast 7 of 27\n",
      "starting blast 8 of 27\n",
      "starting blast 9 of 27\n",
      "starting blast 10 of 27\n",
      "starting blast 11 of 27\n",
      "starting blast 12 of 27\n",
      "starting blast 13 of 27\n",
      "starting blast 14 of 27\n",
      "starting blast 15 of 27\n",
      "starting blast 16 of 27\n",
      "starting blast 17 of 27\n",
      "starting blast 18 of 27\n",
      "starting blast 19 of 27\n",
      "starting blast 20 of 27\n",
      "starting blast 21 of 27\n",
      "starting blast 22 of 27\n",
      "starting blast 23 of 27\n",
      "starting blast 24 of 27\n",
      "starting blast 25 of 27\n",
      "starting blast 26 of 27\n",
      "starting while loop for file_path /home/dennislab2/Desktop/reads_out/plate23_12s_31_1_out.csv\n",
      "starting blast 0 of 34\n",
      "starting blast 1 of 34\n",
      "starting blast 2 of 34\n",
      "starting blast 3 of 34\n",
      "starting blast 4 of 34\n",
      "starting blast 5 of 34\n",
      "starting blast 6 of 34\n",
      "starting blast 7 of 34\n",
      "starting blast 8 of 34\n",
      "starting blast 9 of 34\n",
      "starting blast 10 of 34\n",
      "starting blast 11 of 34\n",
      "starting blast 12 of 34\n",
      "starting blast 13 of 34\n",
      "starting blast 14 of 34\n",
      "starting blast 15 of 34\n",
      "starting blast 16 of 34\n",
      "starting blast 17 of 34\n",
      "starting blast 18 of 34\n",
      "starting blast 19 of 34\n",
      "starting blast 20 of 34\n",
      "starting blast 21 of 34\n",
      "starting blast 22 of 34\n",
      "starting blast 23 of 34\n",
      "starting blast 24 of 34\n",
      "starting blast 25 of 34\n",
      "starting blast 26 of 34\n",
      "starting blast 27 of 34\n",
      "starting blast 28 of 34\n",
      "starting blast 29 of 34\n",
      "starting blast 30 of 34\n",
      "starting blast 31 of 34\n",
      "starting blast 32 of 34\n",
      "starting blast 33 of 34\n",
      "starting while loop for file_path /home/dennislab2/Desktop/reads_out/plate23_12s_9_2_out.csv\n",
      "starting blast 0 of 25\n",
      "starting blast 1 of 25\n",
      "starting blast 2 of 25\n",
      "starting blast 3 of 25\n",
      "starting blast 4 of 25\n",
      "starting blast 5 of 25\n",
      "starting blast 6 of 25\n",
      "starting blast 7 of 25\n",
      "starting blast 8 of 25\n",
      "starting blast 9 of 25\n",
      "starting blast 10 of 25\n",
      "starting blast 11 of 25\n",
      "starting blast 12 of 25\n",
      "starting blast 13 of 25\n",
      "starting blast 14 of 25\n",
      "starting blast 15 of 25\n",
      "starting blast 16 of 25\n",
      "starting blast 17 of 25\n",
      "starting blast 18 of 25\n",
      "starting blast 19 of 25\n",
      "starting blast 20 of 25\n",
      "starting blast 21 of 25\n",
      "starting blast 22 of 25\n",
      "starting blast 23 of 25\n",
      "starting blast 24 of 25\n",
      "starting while loop for file_path /home/dennislab2/Desktop/reads_out/plate23_12s_70_2_out.csv\n"
     ]
    },
    {
     "name": "stdout",
     "output_type": "stream",
     "text": [
      "starting blast 0 of 89\n",
      "starting blast 1 of 89\n",
      "starting blast 2 of 89\n",
      "starting blast 3 of 89\n",
      "starting blast 4 of 89\n",
      "starting blast 5 of 89\n",
      "starting blast 6 of 89\n",
      "starting blast 7 of 89\n",
      "starting blast 8 of 89\n",
      "starting blast 9 of 89\n",
      "starting blast 10 of 89\n",
      "starting blast 11 of 89\n",
      "starting blast 12 of 89\n",
      "starting blast 13 of 89\n",
      "starting blast 14 of 89\n",
      "starting blast 15 of 89\n",
      "starting blast 16 of 89\n",
      "starting blast 17 of 89\n",
      "starting blast 18 of 89\n",
      "starting blast 19 of 89\n",
      "starting blast 20 of 89\n",
      "starting blast 21 of 89\n",
      "starting blast 22 of 89\n",
      "starting blast 23 of 89\n",
      "starting blast 24 of 89\n",
      "starting blast 25 of 89\n",
      "starting blast 26 of 89\n",
      "starting blast 27 of 89\n",
      "starting blast 28 of 89\n",
      "starting blast 29 of 89\n",
      "starting blast 30 of 89\n",
      "starting blast 31 of 89\n",
      "starting blast 32 of 89\n",
      "starting blast 33 of 89\n",
      "starting blast 34 of 89\n",
      "starting blast 35 of 89\n",
      "starting blast 36 of 89\n",
      "starting blast 37 of 89\n",
      "starting blast 38 of 89\n",
      "starting blast 39 of 89\n",
      "starting blast 40 of 89\n",
      "starting blast 41 of 89\n",
      "starting blast 42 of 89\n",
      "starting blast 43 of 89\n",
      "starting blast 44 of 89\n",
      "starting blast 45 of 89\n",
      "starting blast 46 of 89\n",
      "starting blast 47 of 89\n",
      "starting blast 48 of 89\n",
      "starting blast 49 of 89\n",
      "starting blast 50 of 89\n",
      "starting blast 51 of 89\n",
      "starting blast 52 of 89\n",
      "starting blast 53 of 89\n",
      "starting blast 54 of 89\n",
      "starting blast 55 of 89\n",
      "starting blast 56 of 89\n",
      "starting blast 57 of 89\n",
      "starting blast 58 of 89\n",
      "starting blast 59 of 89\n",
      "starting blast 60 of 89\n",
      "starting blast 61 of 89\n",
      "starting blast 62 of 89\n",
      "starting blast 63 of 89\n",
      "starting blast 64 of 89\n",
      "starting blast 65 of 89\n",
      "starting blast 66 of 89\n",
      "starting blast 67 of 89\n",
      "starting blast 68 of 89\n",
      "starting blast 69 of 89\n",
      "starting blast 70 of 89\n",
      "starting blast 71 of 89\n",
      "starting blast 72 of 89\n",
      "starting blast 73 of 89\n",
      "starting blast 74 of 89\n",
      "starting blast 75 of 89\n",
      "starting blast 76 of 89\n",
      "starting blast 77 of 89\n",
      "starting blast 78 of 89\n",
      "starting blast 79 of 89\n",
      "starting blast 80 of 89\n",
      "starting blast 81 of 89\n",
      "starting blast 82 of 89\n",
      "starting blast 83 of 89\n",
      "starting blast 84 of 89\n",
      "starting blast 85 of 89\n",
      "starting blast 86 of 89\n",
      "starting blast 87 of 89\n",
      "starting blast 88 of 89\n",
      "starting while loop for file_path /home/dennislab2/Desktop/reads_out/plate1_12s_44_2_out.csv\n",
      "starting blast 0 of 4\n",
      "starting blast 1 of 4\n",
      "starting blast 2 of 4\n"
     ]
    },
    {
     "ename": "KeyboardInterrupt",
     "evalue": "",
     "output_type": "error",
     "traceback": [
      "\u001b[0;31m---------------------------------------------------------------------------\u001b[0m",
      "\u001b[0;31mKeyboardInterrupt\u001b[0m                         Traceback (most recent call last)",
      "Input \u001b[0;32mIn [120]\u001b[0m, in \u001b[0;36m<module>\u001b[0;34m\u001b[0m\n\u001b[1;32m     28\u001b[0m seq_counter\u001b[38;5;241m+\u001b[39m\u001b[38;5;241m=\u001b[39m\u001b[38;5;241m1\u001b[39m\n\u001b[1;32m     29\u001b[0m \u001b[38;5;28mprint\u001b[39m(\u001b[38;5;124m'\u001b[39m\u001b[38;5;124mstarting blast \u001b[39m\u001b[38;5;132;01m{}\u001b[39;00m\u001b[38;5;124m of \u001b[39m\u001b[38;5;132;01m{}\u001b[39;00m\u001b[38;5;124m'\u001b[39m\u001b[38;5;241m.\u001b[39mformat(seq_counter,\u001b[38;5;28mlen\u001b[39m(list_of_seqs)))\n\u001b[0;32m---> 30\u001b[0m result_handle \u001b[38;5;241m=\u001b[39m \u001b[43mNCBIWWW\u001b[49m\u001b[38;5;241;43m.\u001b[39;49m\u001b[43mqblast\u001b[49m\u001b[43m(\u001b[49m\u001b[38;5;124;43m'\u001b[39;49m\u001b[38;5;124;43mblastn\u001b[39;49m\u001b[38;5;124;43m'\u001b[39;49m\u001b[43m,\u001b[49m\u001b[38;5;124;43m'\u001b[39;49m\u001b[38;5;124;43mnt\u001b[39;49m\u001b[38;5;124;43m'\u001b[39;49m\u001b[43m,\u001b[49m\u001b[43mseq\u001b[49m\u001b[43m)\u001b[49m\n\u001b[1;32m     31\u001b[0m results_filename \u001b[38;5;241m=\u001b[39m \u001b[38;5;124m\"\u001b[39m\u001b[38;5;124m/home/dennislab2/Desktop/ncbi_outputs/results_\u001b[39m\u001b[38;5;132;01m{}\u001b[39;00m\u001b[38;5;124m_\u001b[39m\u001b[38;5;132;01m{}\u001b[39;00m\u001b[38;5;124m.xml\u001b[39m\u001b[38;5;124m\"\u001b[39m\u001b[38;5;241m.\u001b[39mformat(file_path\u001b[38;5;241m.\u001b[39msplit(\u001b[38;5;124m'\u001b[39m\u001b[38;5;124m/\u001b[39m\u001b[38;5;124m'\u001b[39m)[\u001b[38;5;241m-\u001b[39m\u001b[38;5;241m1\u001b[39m]\u001b[38;5;241m.\u001b[39msplit(\u001b[38;5;124m'\u001b[39m\u001b[38;5;124m_out.csv\u001b[39m\u001b[38;5;124m'\u001b[39m)[\u001b[38;5;241m0\u001b[39m],seq_counter)\n\u001b[1;32m     32\u001b[0m data_tuples\u001b[38;5;241m=\u001b[39m[]\n",
      "File \u001b[0;32m~/anaconda3/envs/fieldwork_2021/lib/python3.10/site-packages/Bio/Blast/NCBIWWW.py:268\u001b[0m, in \u001b[0;36mqblast\u001b[0;34m(program, database, sequence, url_base, auto_format, composition_based_statistics, db_genetic_code, endpoints, entrez_query, expect, filter, gapcosts, genetic_code, hitlist_size, i_thresh, layout, lcase_mask, matrix_name, nucl_penalty, nucl_reward, other_advanced, perc_ident, phi_pattern, query_file, query_believe_defline, query_from, query_to, searchsp_eff, service, threshold, ungapped_alignment, word_size, short_query, alignments, alignment_view, descriptions, entrez_links_new_window, expect_low, expect_high, format_entrez_query, format_object, format_type, ncbi_gi, results_file, show_overview, megablast, template_type, template_length, username, password)\u001b[0m\n\u001b[1;32m    266\u001b[0m wait \u001b[38;5;241m=\u001b[39m qblast\u001b[38;5;241m.\u001b[39m_previous \u001b[38;5;241m+\u001b[39m delay \u001b[38;5;241m-\u001b[39m current\n\u001b[1;32m    267\u001b[0m \u001b[38;5;28;01mif\u001b[39;00m wait \u001b[38;5;241m>\u001b[39m \u001b[38;5;241m0\u001b[39m:\n\u001b[0;32m--> 268\u001b[0m     \u001b[43mtime\u001b[49m\u001b[38;5;241;43m.\u001b[39;49m\u001b[43msleep\u001b[49m\u001b[43m(\u001b[49m\u001b[43mwait\u001b[49m\u001b[43m)\u001b[49m\n\u001b[1;32m    269\u001b[0m     qblast\u001b[38;5;241m.\u001b[39m_previous \u001b[38;5;241m=\u001b[39m current \u001b[38;5;241m+\u001b[39m wait\n\u001b[1;32m    270\u001b[0m \u001b[38;5;28;01melse\u001b[39;00m:\n",
      "\u001b[0;31mKeyboardInterrupt\u001b[0m: "
     ]
    }
   ],
   "source": [
    "\n",
    "\n",
    "for file_path in file_paths[27:47]:\n",
    "    file = pd.read_table(file_path)\n",
    "    all_seqs= np.array(file.NUC_SEQ)\n",
    "    list_of_seqs_lens=[]\n",
    "    list_of_seqs=[]\n",
    "    print('starting while loop for file_path {}'.format(file_path))\n",
    "\n",
    "    while len(all_seqs)>1:\n",
    "        seq = all_seqs[0]# add a sequence\n",
    "        bool_list=[]\n",
    "        # get similar sequences, delete from the all_seqs list before iterating\n",
    "        for i in np.arange(0,len(all_seqs)):\n",
    "                    # if 97% or better match, add a number fo the n_val\n",
    "                    if fuzz.ratio(seq,all_seqs[i]) >96:\n",
    "                        bool_list.append(False)\n",
    "                    else:\n",
    "                        bool_list.append(True)\n",
    "        num_of_seqs = len(bool_list) - np.sum(bool_list)\n",
    "        if num_of_seqs > 15:\n",
    "            list_of_seqs.append(seq)\n",
    "            list_of_seqs_lens.append(num_of_seqs)\n",
    "        all_seqs = all_seqs[bool_list]\n",
    "    # save out as fasta!\n",
    "    # read in fasta!\n",
    "    result_list = []\n",
    "    seq_counter=-1\n",
    "    for seq in list_of_seqs:\n",
    "        seq_counter+=1\n",
    "        print('starting blast {} of {}'.format(seq_counter,len(list_of_seqs)))\n",
    "        result_handle = NCBIWWW.qblast('blastn','nt',seq)\n",
    "        results_filename = \"/home/dennislab2/Desktop/ncbi_outputs/results_{}_{}.xml\".format(file_path.split('/')[-1].split('_out.csv')[0],seq_counter)\n",
    "        data_tuples=[]\n",
    "        with open(results_filename, 'w') as save_file: \n",
    "            blast_results = result_handle.read()\n",
    "            save_file.write(blast_results)\n",
    "        for record in NCBIXML.parse(open(results_filename)): \n",
    "            if record.alignments: \n",
    "                for align in record.alignments: \n",
    "                    for hsp in align.hsps: \n",
    "                        if hsp.expect < 1e-10:\n",
    "                            data_tuples.append((align.hit_def,align.accession,hsp.sbjct,hsp.identities,hsp.expect))\n",
    "        pd.DataFrame(data_tuples,columns=['hit_definition','hit_accession','subject','identities','expect']).to_csv('/home/dennislab2/Desktop/ncbi_outputs/results_{}_{}.csv'.format(file_path.split('/')[-1].split('_out.csv')[0],seq_counter))"
   ]
  },
  {
   "cell_type": "code",
   "execution_count": 51,
   "id": "31da6e82",
   "metadata": {},
   "outputs": [
    {
     "data": {
      "text/plain": [
       "'plate1_12s_47_2'"
      ]
     },
     "execution_count": 51,
     "metadata": {},
     "output_type": "execute_result"
    }
   ],
   "source": [
    "file_path = file_paths[0]\n"
   ]
  },
  {
   "cell_type": "code",
   "execution_count": 58,
   "id": "28fcb20c",
   "metadata": {},
   "outputs": [],
   "source": [
    "result_handle = NCBIWWW.qblast('blastn','nt',seq)"
   ]
  },
  {
   "cell_type": "code",
   "execution_count": 59,
   "id": "2fdcc0ca",
   "metadata": {},
   "outputs": [],
   "source": [
    "# add seq num/id\n",
    "results_filename = \"results_{}.xml\".format(file_path.split('/')[-1].split('_out.csv')[0])\n",
    "with open(results_filename, 'w') as save_file: \n",
    "    blast_results = result_handle.read()\n",
    "    save_file.write(blast_results)"
   ]
  },
  {
   "cell_type": "code",
   "execution_count": 100,
   "id": "1c904638",
   "metadata": {},
   "outputs": [
    {
     "name": "stdout",
     "output_type": "stream",
     "text": [
      "\n",
      "\n",
      "['gi', '2461860460', 'dbj', 'AB092593.1', ' Mus musculus domesticus mitochondrial DNA, complete genome, strain:C57']\n",
      "['gi', '2461860446', 'dbj', 'AB092592.1', ' Mus musculus domesticus mitochondrial DNA, complete genome, strain:C57']\n",
      "['gi', '2452958533', 'emb', 'OX439034.1', ' Mus musculus genome assembly, organelle: mitochondrion']\n",
      "['gi', '2415280279', 'emb', 'OX390165.1', ' Mus musculus genome assembly, organelle: mitochondrion']\n",
      "['gi', '2415279407', 'emb', 'OX389814.1', ' Mus musculus genome assembly, organelle: mitochondrion']\n",
      "['gi', '2327616453', 'gb', 'OM948981.1', ' Mus musculus strain C57BL/6NCrl mitochondrion, complete genome']\n",
      "['gi', '2282749014', 'gb', 'MZ661208.1', ' Mus musculus domesticus voucher CSCF-MAM-1571089 12S ribosomal RNA gene']\n",
      "['gi', '2259040164', 'emb', 'OW971803.1', ' Mus musculus genome assembly, organelle: mitochondrion']\n",
      "['gi', '2259034981', 'emb', 'OW971782.1', ' Mus musculus musculus genome assembly, organelle: mitochondrion']\n",
      "['gi', '2259022775', 'emb', 'OW971656.1', ' Mus musculus genome assembly, organelle: mitochondrion']\n",
      "['gi', '2254015959', 'pdb', '7PNV', 'A Chain A, 12S mitochondrial rRNA >gi', '2254016004', 'pdb', '7PNW', 'A Chain A, 12S mito']\n",
      "['gi', '2254015870', 'pdb', '7PNT', 'A Chain A, 12S mitochondrial rRNA >gi', '2254015915', 'pdb', '7PNU', 'A Chain A, 12S mito']\n",
      "['gi', '2244910527', 'emb', 'OW971614.1', ' Mus musculus genome assembly, organelle: mitochondrion']\n",
      "['gi', '2244910479', 'emb', 'OW971572.1', ' Mus musculus genome assembly, organelle: mitochondrion']\n",
      "['gi', '2244910434', 'emb', 'OW971593.1', ' Mus musculus genome assembly, organelle: mitochondrion']\n",
      "['gi', '2243791468', 'emb', 'OW971866.1', ' Mus musculus genome assembly, organelle: mitochondrion']\n",
      "['gi', '2243791015', 'emb', 'OW971824.1', ' Mus musculus genome assembly, organelle: mitochondrion']\n",
      "['gi', '2243790992', 'emb', 'OW971761.1', ' Mus musculus genome assembly, organelle: mitochondrion']\n",
      "['gi', '2243790669', 'emb', 'OW971635.1', ' Mus musculus domesticus genome assembly, organelle: mitochondrion']\n",
      "['gi', '2243790348', 'emb', 'OW971740.1', ' Mus musculus genome assembly, organelle: mitochondrion']\n",
      "['gi', '2243778776', 'emb', 'OW971719.1', ' Mus musculus genome assembly, organelle: mitochondrion']\n",
      "['gi', '2243728638', 'emb', 'OW971677.1', ' Mus musculus molossinus genome assembly, organelle: mitochondrion']\n",
      "['gi', '2162029781', 'dbj', 'LC552927.1', ' Mus musculus MG5086 mitochondrial DNA, complete genome']\n",
      "['gi', '2162029766', 'dbj', 'LC552926.1', ' Mus musculus MG3066 mitochondrial DNA, complete genome']\n",
      "['gi', '2162029752', 'dbj', 'LC552925.1', ' Mus musculus MG3056 mitochondrial DNA, complete genome']\n",
      "['gi', '2162029736', 'dbj', 'LC552924.1', ' Mus musculus MG3048 mitochondrial DNA, complete genome']\n",
      "['gi', '2162029722', 'dbj', 'LC552923.1', ' Mus musculus MG3045 mitochondrial DNA, complete genome']\n",
      "['gi', '2162029708', 'dbj', 'LC552922.1', ' Mus musculus MG3044 mitochondrial DNA, complete genome']\n",
      "['gi', '2162029694', 'dbj', 'LC552921.1', ' Mus musculus MG3037 mitochondrial DNA, complete genome']\n",
      "['gi', '2162029679', 'dbj', 'LC552920.1', ' Mus musculus MG3026 mitochondrial DNA, complete genome']\n",
      "['gi', '2162029622', 'dbj', 'LC552916.1', ' Mus musculus MG3010 mitochondrial DNA, complete genome']\n",
      "['gi', '2162029607', 'dbj', 'LC552915.1', ' Mus musculus MG3008 mitochondrial DNA, complete genome']\n",
      "['gi', '2162029592', 'dbj', 'LC552914.1', ' Mus musculus MG3007 mitochondrial DNA, complete genome']\n",
      "['gi', '2162029577', 'dbj', 'LC552913.1', ' Mus musculus MG3004 mitochondrial DNA, complete genome']\n",
      "['gi', '2162029563', 'dbj', 'LC552912.1', ' Mus musculus MG0992 mitochondrial DNA, complete genome']\n",
      "['gi', '2162029520', 'dbj', 'LC552909.1', ' Mus musculus MG0871 mitochondrial DNA, complete genome']\n",
      "['gi', '2162029464', 'dbj', 'LC552905.1', ' Mus musculus MG0747 mitochondrial DNA, complete genome']\n",
      "['gi', '2162029450', 'dbj', 'LC552904.1', ' Mus musculus MG0721 mitochondrial DNA, complete genome']\n",
      "['gi', '2162029435', 'dbj', 'LC552903.1', ' Mus musculus MG0715 mitochondrial DNA, complete genome']\n",
      "['gi', '2162029391', 'dbj', 'LC552900.1', ' Mus musculus MG0686 mitochondrial DNA, complete genome']\n",
      "['gi', '2162029377', 'dbj', 'LC552899.1', ' Mus musculus MG0631 mitochondrial DNA, complete genome']\n",
      "['gi', '2162029362', 'dbj', 'LC552898.1', ' Mus musculus MG0611 mitochondrial DNA, complete genome']\n",
      "['gi', '2162029347', 'dbj', 'LC552897.1', ' Mus musculus MG0608 mitochondrial DNA, complete genome']\n",
      "['gi', '2162029333', 'dbj', 'LC552896.1', ' Mus musculus MG0597 mitochondrial DNA, complete genome']\n",
      "['gi', '2162029319', 'dbj', 'LC552895.1', ' Mus musculus MG0577 mitochondrial DNA, complete genome']\n",
      "['gi', '2162029304', 'dbj', 'LC552894.1', ' Mus musculus MG0565 mitochondrial DNA, complete genome']\n",
      "['gi', '2162029276', 'dbj', 'LC552892.1', ' Mus musculus MG0507 mitochondrial DNA, complete genome']\n",
      "['gi', '2162029233', 'dbj', 'LC552889.1', ' Mus musculus MG0444 mitochondrial DNA, complete genome']\n",
      "['gi', '2162029217', 'dbj', 'LC552888.1', ' Mus musculus MG0417 mitochondrial DNA, complete genome']\n",
      "['gi', '2162029160', 'dbj', 'LC552884.1', ' Mus musculus HS4411 mitochondrial DNA, complete genome']\n"
     ]
    }
   ],
   "source": [
    "for record in NCBIXML.parse(open(results_filename)): \n",
    "    if record.alignments: \n",
    "        print(\"\\n\") \n",
    "        for align in record.alignments: \n",
    "            for hsp in align.hsps: \n",
    "                print(\"%s\" % align.title[:100].split('|'))"
   ]
  },
  {
   "cell_type": "code",
   "execution_count": 118,
   "id": "b00dbcc2",
   "metadata": {},
   "outputs": [
    {
     "name": "stdout",
     "output_type": "stream",
     "text": [
      "LC552884\n",
      "Mus musculus HS4411 mitochondrial DNA, complete genome\n"
     ]
    }
   ],
   "source": [
    "print(align.accession)\n",
    "print(align.hit_def)"
   ]
  },
  {
   "cell_type": "code",
   "execution_count": 107,
   "id": "7a0a4c44",
   "metadata": {},
   "outputs": [
    {
     "data": {
      "text/html": [
       "<div>\n",
       "<style scoped>\n",
       "    .dataframe tbody tr th:only-of-type {\n",
       "        vertical-align: middle;\n",
       "    }\n",
       "\n",
       "    .dataframe tbody tr th {\n",
       "        vertical-align: top;\n",
       "    }\n",
       "\n",
       "    .dataframe thead th {\n",
       "        text-align: right;\n",
       "    }\n",
       "</style>\n",
       "<table border=\"1\" class=\"dataframe\">\n",
       "  <thead>\n",
       "    <tr style=\"text-align: right;\">\n",
       "      <th></th>\n",
       "      <th>query</th>\n",
       "      <th>subject</th>\n",
       "      <th>identities</th>\n",
       "      <th>expect</th>\n",
       "    </tr>\n",
       "  </thead>\n",
       "  <tbody>\n",
       "    <tr>\n",
       "      <th>0</th>\n",
       "      <td>AAACTAGGATTAGATACCCTATTATGCTTAGCCATAAACCTAAATA...</td>\n",
       "      <td>AAACTGGGATTAGATACCCCACTATGCTTAGCCATAAACCTAAATA...</td>\n",
       "      <td>143</td>\n",
       "      <td>1.024950e-59</td>\n",
       "    </tr>\n",
       "    <tr>\n",
       "      <th>1</th>\n",
       "      <td>AAACTAGGATTAGATACCCTATTATGCTTAGCCATAAACCTAAATA...</td>\n",
       "      <td>AAACTGGGATTAGATACCCCACTATGCTTAGCCATAAACCTAAATA...</td>\n",
       "      <td>143</td>\n",
       "      <td>1.024950e-59</td>\n",
       "    </tr>\n",
       "  </tbody>\n",
       "</table>\n",
       "</div>"
      ],
      "text/plain": [
       "                                               query  \\\n",
       "0  AAACTAGGATTAGATACCCTATTATGCTTAGCCATAAACCTAAATA...   \n",
       "1  AAACTAGGATTAGATACCCTATTATGCTTAGCCATAAACCTAAATA...   \n",
       "\n",
       "                                             subject  identities        expect  \n",
       "0  AAACTGGGATTAGATACCCCACTATGCTTAGCCATAAACCTAAATA...         143  1.024950e-59  \n",
       "1  AAACTGGGATTAGATACCCCACTATGCTTAGCCATAAACCTAAATA...         143  1.024950e-59  "
      ]
     },
     "execution_count": 107,
     "metadata": {},
     "output_type": "execute_result"
    }
   ],
   "source": [
    "x=[]\n",
    "x.append((hsp.query,hsp.sbjct,hsp.identities,hsp.expect))\n",
    "x.append((hsp.query,hsp.sbjct,hsp.identities,hsp.expect))\n",
    "pd.DataFrame(x,columns=['query','subject','identities','expect'])"
   ]
  },
  {
   "cell_type": "code",
   "execution_count": null,
   "id": "c1f1e937",
   "metadata": {},
   "outputs": [],
   "source": []
  },
  {
   "cell_type": "code",
   "execution_count": 93,
   "id": "a5eae417",
   "metadata": {},
   "outputs": [
    {
     "name": "stdout",
     "output_type": "stream",
     "text": [
      "149\n",
      "243.839\n",
      "1.02495e-59\n",
      "143\n",
      "AAACTAGGATTAGATACCCTATTATGCTTAGCCATAAACCTAAATAATTAAATTTAACGAAACTATTTGCCAGAGAACTACTAGCCATANCTTAAAACTCAAAGGACTTGGCGATACTTTATATCCATCTAGAGGAGCCTGTTCTATAA\n",
      "AAACTGGGATTAGATACCCCACTATGCTTAGCCATAAACCTAAATAATTAAATTTAACAAAACTATTTGCCAGAGAACTACTAGCCATAGCTTAAAACTCAAAGGACTTGGCGGTACTTTATATCCATCTAGAGGAGCCTGTTCTATAA\n",
      "269.0\n"
     ]
    }
   ],
   "source": [
    "print(hsp.align_length)\n",
    "print(hsp.bits)\n",
    "print(hsp.expect)\n",
    "print(hsp.identities)\n",
    "print(hsp.query)\n",
    "print(hsp.sbjct)\n",
    "print(hsp.score)\n",
    "(hsp.query,hsp.subject,hsp.identities,hsp.expect)"
   ]
  },
  {
   "cell_type": "code",
   "execution_count": 94,
   "id": "1f6aafcf",
   "metadata": {},
   "outputs": [
    {
     "data": {
      "text/plain": [
       "<matplotlib.collections.PathCollection at 0x7f5d4af4b070>"
      ]
     },
     "execution_count": 94,
     "metadata": {},
     "output_type": "execute_result"
    },
    {
     "data": {
      "image/png": "[encoded data removed]",
      "text/plain": [
       "<Figure size 432x288 with 1 Axes>"
      ]
     },
     "metadata": {
      "needs_background": "light"
     },
     "output_type": "display_data"
    }
   ],
   "source": [
    "scores=[]\n",
    "es = []\n",
    "for hsp in align.hsps:\n",
    "    es.append(hsp.expect)\n",
    "    scores.append(hsp.score)\n",
    "    "
   ]
  },
  {
   "cell_type": "code",
   "execution_count": 99,
   "id": "a03b4c34",
   "metadata": {},
   "outputs": [
    {
     "data": {
      "text/plain": [
       "(array([0., 0., 0., 0., 0., 0., 0., 0., 0., 0., 0., 0., 0., 0., 0., 0., 0.,\n",
       "        0., 0., 0., 0., 0., 0., 0., 0., 0., 0., 0., 0., 0., 0., 0., 0., 0.,\n",
       "        0., 0., 0., 0., 0., 0., 0., 0., 0., 0., 0., 0., 0., 0., 0., 0., 0.,\n",
       "        0., 0., 0., 0., 0., 0., 0., 0., 0., 0., 0., 0., 0., 0., 0., 0., 0.,\n",
       "        0., 0., 0., 0., 0., 0., 0., 0., 0., 0., 0., 0., 0., 0., 0., 0., 0.,\n",
       "        0., 0., 0., 0., 0., 0., 0., 0., 0., 0., 0., 0., 0., 0., 0., 0., 0.,\n",
       "        0., 0., 0., 0., 0., 0., 0., 0., 0., 0., 0., 0., 0., 0., 0., 0., 0.,\n",
       "        0., 0., 0., 0., 0., 0., 0., 0., 0., 0., 0., 0., 0., 0., 0., 0., 0.,\n",
       "        0., 0., 0., 0., 0., 0., 0., 0., 0., 0., 0., 0., 0., 0., 0., 0., 0.,\n",
       "        0., 0., 0., 0., 0., 0., 0., 0., 0., 0., 0., 0., 0., 0., 0., 0., 0.,\n",
       "        0., 0., 0., 0., 0., 0., 0., 0., 0., 0., 0., 0., 0., 0., 0., 0., 0.,\n",
       "        0., 0., 0., 0., 0., 0., 0., 0., 0., 0., 0., 0., 0., 0., 0., 0., 0.,\n",
       "        0., 0., 0., 0., 0., 0., 0., 0., 0., 0., 0., 0., 0., 0., 0., 0., 0.,\n",
       "        0., 0., 0., 0., 0., 0., 0., 0., 0., 0., 0., 0., 0., 0., 0., 0., 0.,\n",
       "        0., 0., 0., 0., 0., 0., 0., 0., 0., 0., 0., 0., 0., 0., 0., 0., 0.,\n",
       "        0., 0., 0., 0., 0., 0., 0., 0., 0., 0., 0., 0., 0., 0., 0., 0., 0.,\n",
       "        0., 0., 0., 0., 0., 0., 0., 0., 0., 0., 0., 0., 0., 0., 0., 0., 0.,\n",
       "        0., 0., 0., 0., 0., 0., 0., 0., 0., 0., 0., 0., 0., 0., 0., 0., 0.,\n",
       "        0., 0., 0., 0., 0., 0., 0., 0., 0., 0., 0., 0., 0., 0., 0., 0., 0.,\n",
       "        0., 0., 0., 0., 0., 0., 0., 0., 0., 0., 0., 0., 0., 0., 0., 0., 0.,\n",
       "        0., 0., 0., 0., 0., 0., 0., 0., 0., 0., 0., 0., 0., 0., 0., 0., 0.,\n",
       "        0., 0., 0., 0., 0., 0., 0., 0., 0., 0., 0., 0., 0., 0., 0., 0., 0.,\n",
       "        0., 0., 0., 0., 0., 0., 0., 0., 0., 0., 0., 0., 0., 0., 0., 0., 0.,\n",
       "        0., 0., 0., 0., 0., 0., 0., 0., 0., 0., 0., 0., 0., 0., 0., 0., 0.,\n",
       "        0., 0., 0., 0., 0., 0., 0., 0., 0., 0., 0., 0., 0., 0., 0., 0., 0.,\n",
       "        0., 0., 0., 0., 0., 0., 0., 0., 0., 0., 0., 0., 0., 0., 0., 0., 0.,\n",
       "        0., 0., 0., 0., 0., 0., 0., 0., 0., 0., 0., 0., 0., 0., 0., 0., 0.,\n",
       "        0., 0., 0., 0., 0., 0., 0., 0., 0., 0., 0., 0., 0., 0., 0., 0., 0.,\n",
       "        0., 0., 0., 0., 0., 0., 0., 0., 0., 0., 0., 0., 0., 0., 0., 0., 0.,\n",
       "        0., 0., 0., 0., 0., 0., 0., 1., 0., 0., 0., 0., 0., 0., 0., 0., 0.,\n",
       "        0., 0., 0., 0., 0., 0., 0., 0., 0., 0., 0., 0., 0., 0., 0., 0., 0.,\n",
       "        0., 0., 0., 0., 0., 0., 0., 0., 0., 0., 0., 0., 0., 0., 0., 0., 0.,\n",
       "        0., 0., 0., 0., 0., 0., 0., 0., 0., 0., 0., 0., 0., 0., 0., 0., 0.,\n",
       "        0., 0., 0., 0., 0., 0., 0., 0., 0., 0., 0., 0., 0., 0., 0., 0., 0.,\n",
       "        0., 0., 0., 0., 0., 0., 0., 0., 0., 0., 0., 0., 0., 0., 0., 0., 0.,\n",
       "        0., 0., 0., 0., 0., 0., 0., 0., 0., 0., 0., 0., 0., 0., 0., 0., 0.,\n",
       "        0., 0., 0., 0., 0., 0., 0., 0., 0., 0., 0., 0., 0., 0., 0., 0., 0.,\n",
       "        0., 0., 0., 0., 0., 0., 0., 0., 0., 0., 0., 0., 0., 0., 0., 0., 0.,\n",
       "        0., 0., 0., 0., 0., 0., 0., 0., 0., 0., 0., 0., 0., 0., 0., 0., 0.,\n",
       "        0., 0., 0., 0., 0., 0., 0., 0., 0., 0., 0., 0., 0., 0., 0., 0., 0.,\n",
       "        0., 0., 0., 0., 0., 0., 0., 0., 0., 0., 0., 0., 0., 0., 0., 0., 0.,\n",
       "        0., 0., 0., 0., 0., 0., 0., 0., 0., 0., 0., 0., 0., 0., 0., 0., 0.,\n",
       "        0., 0., 0., 0., 0., 0., 0., 0., 0., 0., 0., 0., 0., 0., 0., 0., 0.,\n",
       "        0., 0., 0., 0., 0., 0., 0., 0., 0., 0., 0., 0., 0., 0., 0., 0., 0.,\n",
       "        0., 0., 0., 0., 0., 0., 0., 0., 0., 0., 0., 0., 0., 0., 0., 0., 0.,\n",
       "        0., 0., 0., 0., 0., 0., 0., 0., 0., 0., 0., 0., 0., 0., 0., 0., 0.,\n",
       "        0., 0., 0., 0., 0., 0., 0., 0., 0., 0., 0., 0., 0., 0., 0., 0., 0.,\n",
       "        0., 0., 0., 0., 0., 0., 0., 0., 0., 0., 0., 0., 0., 0., 0., 0., 0.,\n",
       "        0., 0., 0., 0., 0., 0., 0., 0., 0., 0., 0., 0., 0., 0., 0., 0., 0.,\n",
       "        0., 0., 0., 0., 0., 0., 0., 0., 0., 0., 0., 0., 0., 0., 0., 0., 0.,\n",
       "        0., 0., 0., 0., 0., 0., 0., 0., 0., 0., 0., 0., 0., 0., 0., 0., 0.,\n",
       "        0., 0., 0., 0., 0., 0., 0., 0., 0., 0., 0., 0., 0., 0., 0., 0., 0.,\n",
       "        0., 0., 0., 0., 0., 0., 0., 0., 0., 0., 0., 0., 0., 0., 0., 0., 0.,\n",
       "        0., 0., 0., 0., 0., 0., 0., 0., 0., 0., 0., 0., 0., 0., 0., 0., 0.,\n",
       "        0., 0., 0., 0., 0., 0., 0., 0., 0., 0., 0., 0., 0., 0., 0., 0., 0.,\n",
       "        0., 0., 0., 0., 0., 0., 0., 0., 0., 0., 0., 0., 0., 0., 0., 0., 0.,\n",
       "        0., 0., 0., 0., 0., 0., 0., 0., 0., 0., 0., 0., 0., 0., 0., 0., 0.,\n",
       "        0., 0., 0., 0., 0., 0., 0., 0., 0., 0., 0., 0., 0., 0., 0., 0., 0.,\n",
       "        0., 0., 0., 0., 0., 0., 0., 0., 0., 0., 0., 0., 0., 0.]),\n",
       " array([268.5  , 268.501, 268.502, ..., 269.498, 269.499, 269.5  ]),\n",
       " <BarContainer object of 1000 artists>)"
      ]
     },
     "execution_count": 99,
     "metadata": {},
     "output_type": "execute_result"
    },
    {
     "data": {
      "image/png": "[encoded data removed]",
      "text/plain": [
       "<Figure size 432x288 with 1 Axes>"
      ]
     },
     "metadata": {
      "needs_background": "light"
     },
     "output_type": "display_data"
    }
   ],
   "source": [
    "plt.hist(scores,bins=1000)"
   ]
  },
  {
   "cell_type": "code",
   "execution_count": null,
   "id": "ca0343cb",
   "metadata": {},
   "outputs": [],
   "source": [
    "# query cover > 70%\n",
    "# e value?\n",
    "# per. ident\n",
    "# scientific name"
   ]
  },
  {
   "cell_type": "markdown",
   "id": "b3697c6c",
   "metadata": {},
   "source": [
    "## for BLAST\n",
    "https://www.tutorialspoint.com/biopython/biopython_overview_of_blast.htm\n",
    "\n",
    "- make a fasta file for each *un-identified* sequence\n",
    "- load a fasta file for each *un-identified* sequence\n",
    "\n",
    "`seq_record = next(SeqIO.parse(open('blast_example.fasta'),'fasta')) `\n",
    "\n",
    "- blast it \n",
    "    - n blast n\n",
    "    - n blast p\n",
    "\n",
    "`result_handle = NCBIWWW.qblast(\"blastn\", \"nt\", sequence_data)`\n",
    "\n",
    "\n",
    "```\n",
    "with open('results.xml', 'w') as save_file: \n",
    "    blast_results = result_handle.read()\n",
    "    save_file.write(blast_results)\n",
    "```     \n",
    "- open file\n",
    "\n",
    "```E_VALUE_THRESH = 1e-20 \n",
    "for record in NCBIXML.parse(open(\"results.xml\")): \n",
    "    if record.alignments: \n",
    "       print(\"\\n\") \n",
    "       print(\"query: %s\" % record.query[:100]) \n",
    "       for align in record.alignments: \n",
    "          for hsp in align.hsps: \n",
    "             if hsp.expect < E_VALUE_THRESH: \n",
    "                print(\"match: %s \" % align.title[:100])\n",
    "```"
   ]
  },
  {
   "cell_type": "code",
   "execution_count": null,
   "id": "fb03dfea",
   "metadata": {},
   "outputs": [],
   "source": []
  },
  {
   "cell_type": "code",
   "execution_count": null,
   "id": "6f6b4dd6",
   "metadata": {},
   "outputs": [],
   "source": []
  },
  {
   "cell_type": "code",
   "execution_count": null,
   "id": "642ad75c",
   "metadata": {},
   "outputs": [],
   "source": []
  },
  {
   "cell_type": "code",
   "execution_count": null,
   "id": "4d9d67b2",
   "metadata": {},
   "outputs": [],
   "source": []
  },
  {
   "cell_type": "code",
   "execution_count": 146,
   "id": "489394da",
   "metadata": {},
   "outputs": [],
   "source": [
    "file_nm='plate23_12s_26_1_out.csv'\n",
    "df=pd.DataFrame(columns=col_nms)\n",
    "df_seqdata=pd.DataFrame(columns=['file_nm','nuc_seq','count'])\n",
    "file = pd.read_table(os.path.join(fld,file_nm))\n",
    "unique_scinames = np.unique(file.SCIENTIFIC_NAME.dropna())\n",
    "unique_scinames\n",
    "subfile = file[file.SCIENTIFIC_NAME==unique_scinames[0]]"
   ]
  },
  {
   "cell_type": "code",
   "execution_count": 148,
   "id": "39025cfa",
   "metadata": {},
   "outputs": [
    {
     "data": {
      "text/html": [
       "<div>\n",
       "<style scoped>\n",
       "    .dataframe tbody tr th:only-of-type {\n",
       "        vertical-align: middle;\n",
       "    }\n",
       "\n",
       "    .dataframe tbody tr th {\n",
       "        vertical-align: top;\n",
       "    }\n",
       "\n",
       "    .dataframe thead th {\n",
       "        text-align: right;\n",
       "    }\n",
       "</style>\n",
       "<table border=\"1\" class=\"dataframe\">\n",
       "  <thead>\n",
       "    <tr style=\"text-align: right;\">\n",
       "      <th></th>\n",
       "      <th>TAXID</th>\n",
       "      <th>BEST_MATCH_IDS</th>\n",
       "      <th>COUNT</th>\n",
       "      <th>ID_STATUS</th>\n",
       "      <th>BEST_IDENTITY</th>\n",
       "      <th>NUC_SEQ</th>\n",
       "      <th>QUALITY</th>\n",
       "      <th>ID</th>\n",
       "      <th>DEFINITION</th>\n",
       "      <th>SCIENTIFIC_NAME</th>\n",
       "      <th>BEST_MATCH_TAXIDS</th>\n",
       "    </tr>\n",
       "  </thead>\n",
       "  <tbody>\n",
       "    <tr>\n",
       "      <th>71</th>\n",
       "      <td>301514</td>\n",
       "      <td>['MN480464']</td>\n",
       "      <td>1</td>\n",
       "      <td>True</td>\n",
       "      <td>0.993333</td>\n",
       "      <td>ttttattttatttttaggtagtagtaaaaagaaacctaaaaaattt...</td>\n",
       "      <td>[32, 37, 37, 37, 37, 32, 37, 37, 37, 37, 37, 3...</td>\n",
       "      <td>MN00399:128:000H5JLCJ:1:11101:19930:1334</td>\n",
       "      <td>1:N:0:AGACCTTG+GCACGTAA</td>\n",
       "      <td>Homidia socia</td>\n",
       "      <td>[301514]</td>\n",
       "    </tr>\n",
       "    <tr>\n",
       "      <th>241</th>\n",
       "      <td>301514</td>\n",
       "      <td>['MN480464']</td>\n",
       "      <td>1</td>\n",
       "      <td>True</td>\n",
       "      <td>0.986667</td>\n",
       "      <td>ttttattttatttttaggtagtagtaaaaagaaacctaaaaaattt...</td>\n",
       "      <td>[37, 37, 37, 37, 37, 37, 14, 32, 37, 37, 37, 3...</td>\n",
       "      <td>MN00399:128:000H5JLCJ:1:11101:24825:2127</td>\n",
       "      <td>1:N:0:AGACCTTG+GCACGTAA</td>\n",
       "      <td>Homidia socia</td>\n",
       "      <td>[301514]</td>\n",
       "    </tr>\n",
       "    <tr>\n",
       "      <th>829</th>\n",
       "      <td>301514</td>\n",
       "      <td>['MN480464']</td>\n",
       "      <td>1</td>\n",
       "      <td>True</td>\n",
       "      <td>0.980132</td>\n",
       "      <td>tttttattttatttttaggtagtagtaaaaagaaacctaaaaaatt...</td>\n",
       "      <td>[37, 37, 37, 37, 37, 37, 37, 37, 37, 37, 37, 3...</td>\n",
       "      <td>MN00399:128:000H5JLCJ:1:11101:9052:4351</td>\n",
       "      <td>1:N:0:AGACCTTG+GCACGTAA</td>\n",
       "      <td>Homidia socia</td>\n",
       "      <td>[301514]</td>\n",
       "    </tr>\n",
       "    <tr>\n",
       "      <th>896</th>\n",
       "      <td>301514</td>\n",
       "      <td>['MN480464']</td>\n",
       "      <td>1</td>\n",
       "      <td>True</td>\n",
       "      <td>0.986667</td>\n",
       "      <td>ttttattttatttttaggtagtagtaaaaagaaacctaaaaaattt...</td>\n",
       "      <td>[37, 37, 37, 37, 37, 37, 37, 37, 37, 37, 37, 3...</td>\n",
       "      <td>MN00399:128:000H5JLCJ:1:11101:5489:4600</td>\n",
       "      <td>1:N:0:AGACCTTG+GCACGTAA</td>\n",
       "      <td>Homidia socia</td>\n",
       "      <td>[301514]</td>\n",
       "    </tr>\n",
       "    <tr>\n",
       "      <th>1103</th>\n",
       "      <td>301514</td>\n",
       "      <td>['MN480464']</td>\n",
       "      <td>1</td>\n",
       "      <td>True</td>\n",
       "      <td>0.993333</td>\n",
       "      <td>ttttattttatttttaggtagtagtaaaaagaaacctaaaaaattt...</td>\n",
       "      <td>[37, 37, 37, 37, 32, 37, 37, 37, 37, 37, 37, 3...</td>\n",
       "      <td>MN00399:128:000H5JLCJ:1:11101:18400:5448</td>\n",
       "      <td>1:N:0:AGACCTTG+GCACGTAA</td>\n",
       "      <td>Homidia socia</td>\n",
       "      <td>[301514]</td>\n",
       "    </tr>\n",
       "    <tr>\n",
       "      <th>...</th>\n",
       "      <td>...</td>\n",
       "      <td>...</td>\n",
       "      <td>...</td>\n",
       "      <td>...</td>\n",
       "      <td>...</td>\n",
       "      <td>...</td>\n",
       "      <td>...</td>\n",
       "      <td>...</td>\n",
       "      <td>...</td>\n",
       "      <td>...</td>\n",
       "      <td>...</td>\n",
       "    </tr>\n",
       "    <tr>\n",
       "      <th>122886</th>\n",
       "      <td>301514</td>\n",
       "      <td>['MN480464']</td>\n",
       "      <td>1</td>\n",
       "      <td>True</td>\n",
       "      <td>0.993333</td>\n",
       "      <td>ttttattttatttttaggtagtagtaaaaagaaacctaaaaaattt...</td>\n",
       "      <td>[37, 37, 37, 37, 37, 32, 37, 37, 37, 37, 37, 3...</td>\n",
       "      <td>MN00399:128:000H5JLCJ:1:23104:21460:9148</td>\n",
       "      <td>1:N:0:AGACCTTG+GCACGTAA</td>\n",
       "      <td>Homidia socia</td>\n",
       "      <td>[301514]</td>\n",
       "    </tr>\n",
       "    <tr>\n",
       "      <th>124860</th>\n",
       "      <td>301514</td>\n",
       "      <td>['MN480464']</td>\n",
       "      <td>1</td>\n",
       "      <td>True</td>\n",
       "      <td>0.993333</td>\n",
       "      <td>ttttattttatttttaggtagtagtaaaaagaaacctaaaaaattt...</td>\n",
       "      <td>[37, 37, 37, 37, 37, 37, 37, 37, 37, 37, 37, 3...</td>\n",
       "      <td>MN00399:128:000H5JLCJ:1:23104:9425:16691</td>\n",
       "      <td>1:N:0:AGACCTAG+GCACGTAA</td>\n",
       "      <td>Homidia socia</td>\n",
       "      <td>[301514]</td>\n",
       "    </tr>\n",
       "    <tr>\n",
       "      <th>124919</th>\n",
       "      <td>301514</td>\n",
       "      <td>['MN480464']</td>\n",
       "      <td>1</td>\n",
       "      <td>True</td>\n",
       "      <td>0.980132</td>\n",
       "      <td>tttattttatttttaggtagtagtaaaaagaaacctaaaaaatttg...</td>\n",
       "      <td>[37, 37, 37, 32, 37, 37, 37, 37, 37, 37, 37, 3...</td>\n",
       "      <td>MN00399:128:000H5JLCJ:1:23104:1676:16971</td>\n",
       "      <td>1:N:0:AGACCTTG+GCACGTAA</td>\n",
       "      <td>Homidia socia</td>\n",
       "      <td>[301514]</td>\n",
       "    </tr>\n",
       "    <tr>\n",
       "      <th>125124</th>\n",
       "      <td>301514</td>\n",
       "      <td>['MN480464']</td>\n",
       "      <td>1</td>\n",
       "      <td>True</td>\n",
       "      <td>0.993333</td>\n",
       "      <td>ttttattttatttttaggtagtagtaaaaagaaacctaaaaaattt...</td>\n",
       "      <td>[37, 37, 37, 37, 37, 37, 37, 37, 37, 37, 37, 3...</td>\n",
       "      <td>MN00399:128:000H5JLCJ:1:23104:11433:17703</td>\n",
       "      <td>1:N:0:AGACCTTG+GCACGTAA</td>\n",
       "      <td>Homidia socia</td>\n",
       "      <td>[301514]</td>\n",
       "    </tr>\n",
       "    <tr>\n",
       "      <th>125283</th>\n",
       "      <td>301514</td>\n",
       "      <td>['MN480464']</td>\n",
       "      <td>1</td>\n",
       "      <td>True</td>\n",
       "      <td>0.986667</td>\n",
       "      <td>ttttattttatttttaggtagtagtaaaaagaaacctaaaaaattt...</td>\n",
       "      <td>[32, 14, 37, 37, 37, 37, 37, 37, 37, 37, 37, 3...</td>\n",
       "      <td>MN00399:128:000H5JLCJ:1:23104:20119:18239</td>\n",
       "      <td>1:N:0:AGACCTTG+GCACGTAA</td>\n",
       "      <td>Homidia socia</td>\n",
       "      <td>[301514]</td>\n",
       "    </tr>\n",
       "  </tbody>\n",
       "</table>\n",
       "<p>449 rows × 11 columns</p>\n",
       "</div>"
      ],
      "text/plain": [
       "         TAXID BEST_MATCH_IDS  COUNT  ID_STATUS  BEST_IDENTITY  \\\n",
       "71      301514   ['MN480464']      1       True       0.993333   \n",
       "241     301514   ['MN480464']      1       True       0.986667   \n",
       "829     301514   ['MN480464']      1       True       0.980132   \n",
       "896     301514   ['MN480464']      1       True       0.986667   \n",
       "1103    301514   ['MN480464']      1       True       0.993333   \n",
       "...        ...            ...    ...        ...            ...   \n",
       "122886  301514   ['MN480464']      1       True       0.993333   \n",
       "124860  301514   ['MN480464']      1       True       0.993333   \n",
       "124919  301514   ['MN480464']      1       True       0.980132   \n",
       "125124  301514   ['MN480464']      1       True       0.993333   \n",
       "125283  301514   ['MN480464']      1       True       0.986667   \n",
       "\n",
       "                                                  NUC_SEQ  \\\n",
       "71      ttttattttatttttaggtagtagtaaaaagaaacctaaaaaattt...   \n",
       "241     ttttattttatttttaggtagtagtaaaaagaaacctaaaaaattt...   \n",
       "829     tttttattttatttttaggtagtagtaaaaagaaacctaaaaaatt...   \n",
       "896     ttttattttatttttaggtagtagtaaaaagaaacctaaaaaattt...   \n",
       "1103    ttttattttatttttaggtagtagtaaaaagaaacctaaaaaattt...   \n",
       "...                                                   ...   \n",
       "122886  ttttattttatttttaggtagtagtaaaaagaaacctaaaaaattt...   \n",
       "124860  ttttattttatttttaggtagtagtaaaaagaaacctaaaaaattt...   \n",
       "124919  tttattttatttttaggtagtagtaaaaagaaacctaaaaaatttg...   \n",
       "125124  ttttattttatttttaggtagtagtaaaaagaaacctaaaaaattt...   \n",
       "125283  ttttattttatttttaggtagtagtaaaaagaaacctaaaaaattt...   \n",
       "\n",
       "                                                  QUALITY  \\\n",
       "71      [32, 37, 37, 37, 37, 32, 37, 37, 37, 37, 37, 3...   \n",
       "241     [37, 37, 37, 37, 37, 37, 14, 32, 37, 37, 37, 3...   \n",
       "829     [37, 37, 37, 37, 37, 37, 37, 37, 37, 37, 37, 3...   \n",
       "896     [37, 37, 37, 37, 37, 37, 37, 37, 37, 37, 37, 3...   \n",
       "1103    [37, 37, 37, 37, 32, 37, 37, 37, 37, 37, 37, 3...   \n",
       "...                                                   ...   \n",
       "122886  [37, 37, 37, 37, 37, 32, 37, 37, 37, 37, 37, 3...   \n",
       "124860  [37, 37, 37, 37, 37, 37, 37, 37, 37, 37, 37, 3...   \n",
       "124919  [37, 37, 37, 32, 37, 37, 37, 37, 37, 37, 37, 3...   \n",
       "125124  [37, 37, 37, 37, 37, 37, 37, 37, 37, 37, 37, 3...   \n",
       "125283  [32, 14, 37, 37, 37, 37, 37, 37, 37, 37, 37, 3...   \n",
       "\n",
       "                                               ID               DEFINITION  \\\n",
       "71       MN00399:128:000H5JLCJ:1:11101:19930:1334  1:N:0:AGACCTTG+GCACGTAA   \n",
       "241      MN00399:128:000H5JLCJ:1:11101:24825:2127  1:N:0:AGACCTTG+GCACGTAA   \n",
       "829       MN00399:128:000H5JLCJ:1:11101:9052:4351  1:N:0:AGACCTTG+GCACGTAA   \n",
       "896       MN00399:128:000H5JLCJ:1:11101:5489:4600  1:N:0:AGACCTTG+GCACGTAA   \n",
       "1103     MN00399:128:000H5JLCJ:1:11101:18400:5448  1:N:0:AGACCTTG+GCACGTAA   \n",
       "...                                           ...                      ...   \n",
       "122886   MN00399:128:000H5JLCJ:1:23104:21460:9148  1:N:0:AGACCTTG+GCACGTAA   \n",
       "124860   MN00399:128:000H5JLCJ:1:23104:9425:16691  1:N:0:AGACCTAG+GCACGTAA   \n",
       "124919   MN00399:128:000H5JLCJ:1:23104:1676:16971  1:N:0:AGACCTTG+GCACGTAA   \n",
       "125124  MN00399:128:000H5JLCJ:1:23104:11433:17703  1:N:0:AGACCTTG+GCACGTAA   \n",
       "125283  MN00399:128:000H5JLCJ:1:23104:20119:18239  1:N:0:AGACCTTG+GCACGTAA   \n",
       "\n",
       "       SCIENTIFIC_NAME BEST_MATCH_TAXIDS  \n",
       "71       Homidia socia          [301514]  \n",
       "241      Homidia socia          [301514]  \n",
       "829      Homidia socia          [301514]  \n",
       "896      Homidia socia          [301514]  \n",
       "1103     Homidia socia          [301514]  \n",
       "...                ...               ...  \n",
       "122886   Homidia socia          [301514]  \n",
       "124860   Homidia socia          [301514]  \n",
       "124919   Homidia socia          [301514]  \n",
       "125124   Homidia socia          [301514]  \n",
       "125283   Homidia socia          [301514]  \n",
       "\n",
       "[449 rows x 11 columns]"
      ]
     },
     "execution_count": 148,
     "metadata": {},
     "output_type": "execute_result"
    }
   ],
   "source": [
    "subfile"
   ]
  },
  {
   "cell_type": "code",
   "execution_count": 171,
   "id": "47536fac",
   "metadata": {},
   "outputs": [
    {
     "name": "stdout",
     "output_type": "stream",
     "text": [
      "plate1_12s_47_2_out.csv\n"
     ]
    },
    {
     "name": "stderr",
     "output_type": "stream",
     "text": [
      "/tmp/ipykernel_681725/2269263605.py:12: FutureWarning: The frame.append method is deprecated and will be removed from pandas in a future version. Use pandas.concat instead.\n",
      "  df=df.append(df2,ignore_index=True)\n"
     ]
    },
    {
     "name": "stdout",
     "output_type": "stream",
     "text": [
      "plate1_12s_18_2_out.csv\n"
     ]
    },
    {
     "name": "stderr",
     "output_type": "stream",
     "text": [
      "/tmp/ipykernel_681725/2269263605.py:12: FutureWarning: The frame.append method is deprecated and will be removed from pandas in a future version. Use pandas.concat instead.\n",
      "  df=df.append(df2,ignore_index=True)\n"
     ]
    },
    {
     "name": "stdout",
     "output_type": "stream",
     "text": [
      "plate23_12s_25_2_out.csv\n"
     ]
    },
    {
     "name": "stderr",
     "output_type": "stream",
     "text": [
      "/tmp/ipykernel_681725/2269263605.py:12: FutureWarning: The frame.append method is deprecated and will be removed from pandas in a future version. Use pandas.concat instead.\n",
      "  df=df.append(df2,ignore_index=True)\n",
      "/tmp/ipykernel_681725/2269263605.py:12: FutureWarning: The frame.append method is deprecated and will be removed from pandas in a future version. Use pandas.concat instead.\n",
      "  df=df.append(df2,ignore_index=True)\n",
      "/tmp/ipykernel_681725/2269263605.py:12: FutureWarning: The frame.append method is deprecated and will be removed from pandas in a future version. Use pandas.concat instead.\n",
      "  df=df.append(df2,ignore_index=True)\n"
     ]
    },
    {
     "name": "stdout",
     "output_type": "stream",
     "text": [
      "plate23_12s_63_1_out.csv\n",
      "plate23_12s_52_2_out.csv\n",
      "plate1_12s_21_1_out.csv\n"
     ]
    },
    {
     "name": "stderr",
     "output_type": "stream",
     "text": [
      "/tmp/ipykernel_681725/2269263605.py:12: FutureWarning: The frame.append method is deprecated and will be removed from pandas in a future version. Use pandas.concat instead.\n",
      "  df=df.append(df2,ignore_index=True)\n",
      "/tmp/ipykernel_681725/2269263605.py:12: FutureWarning: The frame.append method is deprecated and will be removed from pandas in a future version. Use pandas.concat instead.\n",
      "  df=df.append(df2,ignore_index=True)\n",
      "/tmp/ipykernel_681725/2269263605.py:12: FutureWarning: The frame.append method is deprecated and will be removed from pandas in a future version. Use pandas.concat instead.\n",
      "  df=df.append(df2,ignore_index=True)\n",
      "/tmp/ipykernel_681725/2269263605.py:12: FutureWarning: The frame.append method is deprecated and will be removed from pandas in a future version. Use pandas.concat instead.\n",
      "  df=df.append(df2,ignore_index=True)\n"
     ]
    },
    {
     "name": "stdout",
     "output_type": "stream",
     "text": [
      "plate23_12s_75_2_out.csv\n",
      "plate23_12s_55_1_out.csv\n",
      "plate23_12s_13_1_out.csv\n",
      "plate23_12s_46_1_out.csv\n"
     ]
    },
    {
     "name": "stderr",
     "output_type": "stream",
     "text": [
      "/tmp/ipykernel_681725/2269263605.py:12: FutureWarning: The frame.append method is deprecated and will be removed from pandas in a future version. Use pandas.concat instead.\n",
      "  df=df.append(df2,ignore_index=True)\n"
     ]
    },
    {
     "name": "stdout",
     "output_type": "stream",
     "text": [
      "plate23_12s_50_2_out.csv\n"
     ]
    },
    {
     "name": "stderr",
     "output_type": "stream",
     "text": [
      "/tmp/ipykernel_681725/2269263605.py:12: FutureWarning: The frame.append method is deprecated and will be removed from pandas in a future version. Use pandas.concat instead.\n",
      "  df=df.append(df2,ignore_index=True)\n"
     ]
    },
    {
     "name": "stdout",
     "output_type": "stream",
     "text": [
      "plate23_12s_50_1_out.csv\n"
     ]
    },
    {
     "name": "stderr",
     "output_type": "stream",
     "text": [
      "/tmp/ipykernel_681725/2269263605.py:12: FutureWarning: The frame.append method is deprecated and will be removed from pandas in a future version. Use pandas.concat instead.\n",
      "  df=df.append(df2,ignore_index=True)\n"
     ]
    },
    {
     "name": "stdout",
     "output_type": "stream",
     "text": [
      "plate1_12s_28_1_out.csv\n"
     ]
    },
    {
     "name": "stderr",
     "output_type": "stream",
     "text": [
      "/tmp/ipykernel_681725/2269263605.py:12: FutureWarning: The frame.append method is deprecated and will be removed from pandas in a future version. Use pandas.concat instead.\n",
      "  df=df.append(df2,ignore_index=True)\n"
     ]
    },
    {
     "name": "stdout",
     "output_type": "stream",
     "text": [
      "plate23_12s_1_2_out.csv\n"
     ]
    },
    {
     "name": "stderr",
     "output_type": "stream",
     "text": [
      "/tmp/ipykernel_681725/2269263605.py:12: FutureWarning: The frame.append method is deprecated and will be removed from pandas in a future version. Use pandas.concat instead.\n",
      "  df=df.append(df2,ignore_index=True)\n"
     ]
    },
    {
     "name": "stdout",
     "output_type": "stream",
     "text": [
      "plate23_12s_74_1_out.csv\n"
     ]
    },
    {
     "name": "stderr",
     "output_type": "stream",
     "text": [
      "/tmp/ipykernel_681725/2269263605.py:12: FutureWarning: The frame.append method is deprecated and will be removed from pandas in a future version. Use pandas.concat instead.\n",
      "  df=df.append(df2,ignore_index=True)\n"
     ]
    },
    {
     "name": "stdout",
     "output_type": "stream",
     "text": [
      "plate23_12s_23_2_out.csv\n"
     ]
    },
    {
     "name": "stderr",
     "output_type": "stream",
     "text": [
      "/tmp/ipykernel_681725/2269263605.py:12: FutureWarning: The frame.append method is deprecated and will be removed from pandas in a future version. Use pandas.concat instead.\n",
      "  df=df.append(df2,ignore_index=True)\n"
     ]
    },
    {
     "name": "stdout",
     "output_type": "stream",
     "text": [
      "plate1_12s_24_2_out.csv\n"
     ]
    },
    {
     "name": "stderr",
     "output_type": "stream",
     "text": [
      "/tmp/ipykernel_681725/2269263605.py:12: FutureWarning: The frame.append method is deprecated and will be removed from pandas in a future version. Use pandas.concat instead.\n",
      "  df=df.append(df2,ignore_index=True)\n"
     ]
    },
    {
     "name": "stdout",
     "output_type": "stream",
     "text": [
      "plate23_12s_33_1_out.csv\n"
     ]
    },
    {
     "name": "stderr",
     "output_type": "stream",
     "text": [
      "/tmp/ipykernel_681725/2269263605.py:12: FutureWarning: The frame.append method is deprecated and will be removed from pandas in a future version. Use pandas.concat instead.\n",
      "  df=df.append(df2,ignore_index=True)\n",
      "/tmp/ipykernel_681725/2269263605.py:12: FutureWarning: The frame.append method is deprecated and will be removed from pandas in a future version. Use pandas.concat instead.\n",
      "  df=df.append(df2,ignore_index=True)\n"
     ]
    },
    {
     "name": "stdout",
     "output_type": "stream",
     "text": [
      "plate23_12s_28_2_out.csv\n",
      "plate1_12s_29_2_out.csv\n"
     ]
    },
    {
     "name": "stderr",
     "output_type": "stream",
     "text": [
      "/tmp/ipykernel_681725/2269263605.py:12: FutureWarning: The frame.append method is deprecated and will be removed from pandas in a future version. Use pandas.concat instead.\n",
      "  df=df.append(df2,ignore_index=True)\n",
      "/tmp/ipykernel_681725/2269263605.py:12: FutureWarning: The frame.append method is deprecated and will be removed from pandas in a future version. Use pandas.concat instead.\n",
      "  df=df.append(df2,ignore_index=True)\n",
      "/tmp/ipykernel_681725/2269263605.py:12: FutureWarning: The frame.append method is deprecated and will be removed from pandas in a future version. Use pandas.concat instead.\n",
      "  df=df.append(df2,ignore_index=True)\n",
      "/tmp/ipykernel_681725/2269263605.py:12: FutureWarning: The frame.append method is deprecated and will be removed from pandas in a future version. Use pandas.concat instead.\n",
      "  df=df.append(df2,ignore_index=True)\n"
     ]
    },
    {
     "name": "stdout",
     "output_type": "stream",
     "text": [
      "plate1_12s_6_2_out.csv\n",
      "plate1_12s_35_2_out.csv\n",
      "plate1_12s_56_2_out.csv\n",
      "plate23_12s_61_2_out.csv\n"
     ]
    },
    {
     "name": "stderr",
     "output_type": "stream",
     "text": [
      "/tmp/ipykernel_681725/2269263605.py:12: FutureWarning: The frame.append method is deprecated and will be removed from pandas in a future version. Use pandas.concat instead.\n",
      "  df=df.append(df2,ignore_index=True)\n",
      "/tmp/ipykernel_681725/2269263605.py:12: FutureWarning: The frame.append method is deprecated and will be removed from pandas in a future version. Use pandas.concat instead.\n",
      "  df=df.append(df2,ignore_index=True)\n"
     ]
    },
    {
     "name": "stdout",
     "output_type": "stream",
     "text": [
      "plate1_12s_38_1_out.csv\n",
      "plate23_12s_70_1_out.csv\n"
     ]
    },
    {
     "name": "stderr",
     "output_type": "stream",
     "text": [
      "/tmp/ipykernel_681725/2269263605.py:12: FutureWarning: The frame.append method is deprecated and will be removed from pandas in a future version. Use pandas.concat instead.\n",
      "  df=df.append(df2,ignore_index=True)\n"
     ]
    },
    {
     "name": "stdout",
     "output_type": "stream",
     "text": [
      "plate23_12s_11_1_out.csv\n"
     ]
    },
    {
     "name": "stderr",
     "output_type": "stream",
     "text": [
      "/tmp/ipykernel_681725/2269263605.py:12: FutureWarning: The frame.append method is deprecated and will be removed from pandas in a future version. Use pandas.concat instead.\n",
      "  df=df.append(df2,ignore_index=True)\n",
      "/tmp/ipykernel_681725/2269263605.py:12: FutureWarning: The frame.append method is deprecated and will be removed from pandas in a future version. Use pandas.concat instead.\n",
      "  df=df.append(df2,ignore_index=True)\n",
      "/tmp/ipykernel_681725/2269263605.py:12: FutureWarning: The frame.append method is deprecated and will be removed from pandas in a future version. Use pandas.concat instead.\n",
      "  df=df.append(df2,ignore_index=True)\n"
     ]
    },
    {
     "name": "stdout",
     "output_type": "stream",
     "text": [
      "plate1_12s_38_2_out.csv\n",
      "plate1_12s_39_1_out.csv\n",
      "plate23_12s_47_1_out.csv\n"
     ]
    },
    {
     "name": "stderr",
     "output_type": "stream",
     "text": [
      "/tmp/ipykernel_681725/2269263605.py:12: FutureWarning: The frame.append method is deprecated and will be removed from pandas in a future version. Use pandas.concat instead.\n",
      "  df=df.append(df2,ignore_index=True)\n",
      "/tmp/ipykernel_681725/2269263605.py:12: FutureWarning: The frame.append method is deprecated and will be removed from pandas in a future version. Use pandas.concat instead.\n",
      "  df=df.append(df2,ignore_index=True)\n",
      "/tmp/ipykernel_681725/2269263605.py:12: FutureWarning: The frame.append method is deprecated and will be removed from pandas in a future version. Use pandas.concat instead.\n",
      "  df=df.append(df2,ignore_index=True)\n"
     ]
    },
    {
     "name": "stdout",
     "output_type": "stream",
     "text": [
      "plate1_12s_46_1_out.csv\n",
      "plate23_12s_14_2_out.csv\n",
      "plate23_12s_65_1_out.csv\n"
     ]
    },
    {
     "name": "stderr",
     "output_type": "stream",
     "text": [
      "/tmp/ipykernel_681725/2269263605.py:12: FutureWarning: The frame.append method is deprecated and will be removed from pandas in a future version. Use pandas.concat instead.\n",
      "  df=df.append(df2,ignore_index=True)\n"
     ]
    },
    {
     "name": "stdout",
     "output_type": "stream",
     "text": [
      "plate1_12s_20_2_out.csv\n"
     ]
    },
    {
     "name": "stderr",
     "output_type": "stream",
     "text": [
      "/tmp/ipykernel_681725/2269263605.py:12: FutureWarning: The frame.append method is deprecated and will be removed from pandas in a future version. Use pandas.concat instead.\n",
      "  df=df.append(df2,ignore_index=True)\n"
     ]
    },
    {
     "name": "stdout",
     "output_type": "stream",
     "text": [
      "plate1_12s_50_1_out.csv\n"
     ]
    },
    {
     "name": "stderr",
     "output_type": "stream",
     "text": [
      "/tmp/ipykernel_681725/2269263605.py:12: FutureWarning: The frame.append method is deprecated and will be removed from pandas in a future version. Use pandas.concat instead.\n",
      "  df=df.append(df2,ignore_index=True)\n",
      "/tmp/ipykernel_681725/2269263605.py:12: FutureWarning: The frame.append method is deprecated and will be removed from pandas in a future version. Use pandas.concat instead.\n",
      "  df=df.append(df2,ignore_index=True)\n"
     ]
    },
    {
     "name": "stdout",
     "output_type": "stream",
     "text": [
      "plate23_12s_52_1_out.csv\n",
      "plate1_12s_15_2_out.csv\n"
     ]
    },
    {
     "name": "stderr",
     "output_type": "stream",
     "text": [
      "/tmp/ipykernel_681725/2269263605.py:12: FutureWarning: The frame.append method is deprecated and will be removed from pandas in a future version. Use pandas.concat instead.\n",
      "  df=df.append(df2,ignore_index=True)\n"
     ]
    },
    {
     "name": "stdout",
     "output_type": "stream",
     "text": [
      "plate1_12s_49_2_out.csv\n"
     ]
    },
    {
     "name": "stderr",
     "output_type": "stream",
     "text": [
      "/tmp/ipykernel_681725/2269263605.py:12: FutureWarning: The frame.append method is deprecated and will be removed from pandas in a future version. Use pandas.concat instead.\n",
      "  df=df.append(df2,ignore_index=True)\n",
      "/tmp/ipykernel_681725/2269263605.py:12: FutureWarning: The frame.append method is deprecated and will be removed from pandas in a future version. Use pandas.concat instead.\n",
      "  df=df.append(df2,ignore_index=True)\n"
     ]
    },
    {
     "name": "stdout",
     "output_type": "stream",
     "text": [
      "plate1_12s_6_1_out.csv\n",
      "plate1_12s_37_2_out.csv\n"
     ]
    },
    {
     "name": "stderr",
     "output_type": "stream",
     "text": [
      "/tmp/ipykernel_681725/2269263605.py:12: FutureWarning: The frame.append method is deprecated and will be removed from pandas in a future version. Use pandas.concat instead.\n",
      "  df=df.append(df2,ignore_index=True)\n"
     ]
    },
    {
     "name": "stdout",
     "output_type": "stream",
     "text": [
      "plate23_12s_5_1_out.csv\n"
     ]
    },
    {
     "name": "stderr",
     "output_type": "stream",
     "text": [
      "/tmp/ipykernel_681725/2269263605.py:12: FutureWarning: The frame.append method is deprecated and will be removed from pandas in a future version. Use pandas.concat instead.\n",
      "  df=df.append(df2,ignore_index=True)\n"
     ]
    },
    {
     "name": "stdout",
     "output_type": "stream",
     "text": [
      "plate1_12s_40_1_out.csv\n"
     ]
    },
    {
     "name": "stderr",
     "output_type": "stream",
     "text": [
      "/tmp/ipykernel_681725/2269263605.py:12: FutureWarning: The frame.append method is deprecated and will be removed from pandas in a future version. Use pandas.concat instead.\n",
      "  df=df.append(df2,ignore_index=True)\n"
     ]
    },
    {
     "name": "stdout",
     "output_type": "stream",
     "text": [
      "plate23_12s_24_2_out.csv\n"
     ]
    },
    {
     "name": "stderr",
     "output_type": "stream",
     "text": [
      "/tmp/ipykernel_681725/2269263605.py:12: FutureWarning: The frame.append method is deprecated and will be removed from pandas in a future version. Use pandas.concat instead.\n",
      "  df=df.append(df2,ignore_index=True)\n"
     ]
    },
    {
     "name": "stdout",
     "output_type": "stream",
     "text": [
      "plate1_12s_40_2_out.csv\n"
     ]
    },
    {
     "name": "stderr",
     "output_type": "stream",
     "text": [
      "/tmp/ipykernel_681725/2269263605.py:12: FutureWarning: The frame.append method is deprecated and will be removed from pandas in a future version. Use pandas.concat instead.\n",
      "  df=df.append(df2,ignore_index=True)\n"
     ]
    },
    {
     "name": "stdout",
     "output_type": "stream",
     "text": [
      "plate1_12s_2_1_out.csv\n"
     ]
    },
    {
     "name": "stderr",
     "output_type": "stream",
     "text": [
      "/tmp/ipykernel_681725/2269263605.py:12: FutureWarning: The frame.append method is deprecated and will be removed from pandas in a future version. Use pandas.concat instead.\n",
      "  df=df.append(df2,ignore_index=True)\n"
     ]
    },
    {
     "name": "stdout",
     "output_type": "stream",
     "text": [
      "plate23_12s_31_1_out.csv\n"
     ]
    },
    {
     "name": "stderr",
     "output_type": "stream",
     "text": [
      "/tmp/ipykernel_681725/2269263605.py:12: FutureWarning: The frame.append method is deprecated and will be removed from pandas in a future version. Use pandas.concat instead.\n",
      "  df=df.append(df2,ignore_index=True)\n"
     ]
    },
    {
     "name": "stdout",
     "output_type": "stream",
     "text": [
      "plate23_12s_9_2_out.csv\n"
     ]
    },
    {
     "name": "stderr",
     "output_type": "stream",
     "text": [
      "/tmp/ipykernel_681725/2269263605.py:12: FutureWarning: The frame.append method is deprecated and will be removed from pandas in a future version. Use pandas.concat instead.\n",
      "  df=df.append(df2,ignore_index=True)\n"
     ]
    },
    {
     "name": "stdout",
     "output_type": "stream",
     "text": [
      "plate23_12s_70_2_out.csv\n"
     ]
    },
    {
     "name": "stderr",
     "output_type": "stream",
     "text": [
      "/tmp/ipykernel_681725/2269263605.py:12: FutureWarning: The frame.append method is deprecated and will be removed from pandas in a future version. Use pandas.concat instead.\n",
      "  df=df.append(df2,ignore_index=True)\n",
      "/tmp/ipykernel_681725/2269263605.py:12: FutureWarning: The frame.append method is deprecated and will be removed from pandas in a future version. Use pandas.concat instead.\n",
      "  df=df.append(df2,ignore_index=True)\n",
      "/tmp/ipykernel_681725/2269263605.py:12: FutureWarning: The frame.append method is deprecated and will be removed from pandas in a future version. Use pandas.concat instead.\n",
      "  df=df.append(df2,ignore_index=True)\n"
     ]
    },
    {
     "name": "stdout",
     "output_type": "stream",
     "text": [
      "plate1_12s_44_2_out.csv\n",
      "plate23_12s_51_1_out.csv\n",
      "plate1_12s_16_2_out.csv\n"
     ]
    },
    {
     "name": "stderr",
     "output_type": "stream",
     "text": [
      "/tmp/ipykernel_681725/2269263605.py:12: FutureWarning: The frame.append method is deprecated and will be removed from pandas in a future version. Use pandas.concat instead.\n",
      "  df=df.append(df2,ignore_index=True)\n",
      "/tmp/ipykernel_681725/2269263605.py:12: FutureWarning: The frame.append method is deprecated and will be removed from pandas in a future version. Use pandas.concat instead.\n",
      "  df=df.append(df2,ignore_index=True)\n"
     ]
    },
    {
     "name": "stdout",
     "output_type": "stream",
     "text": [
      "plate1_12s_53_1_out.csv\n",
      "plate23_12s_39_2_out.csv\n"
     ]
    },
    {
     "name": "stderr",
     "output_type": "stream",
     "text": [
      "/tmp/ipykernel_681725/2269263605.py:12: FutureWarning: The frame.append method is deprecated and will be removed from pandas in a future version. Use pandas.concat instead.\n",
      "  df=df.append(df2,ignore_index=True)\n"
     ]
    },
    {
     "name": "stdout",
     "output_type": "stream",
     "text": [
      "plate1_12s_2_2_out.csv\n"
     ]
    },
    {
     "name": "stderr",
     "output_type": "stream",
     "text": [
      "/tmp/ipykernel_681725/2269263605.py:12: FutureWarning: The frame.append method is deprecated and will be removed from pandas in a future version. Use pandas.concat instead.\n",
      "  df=df.append(df2,ignore_index=True)\n",
      "/tmp/ipykernel_681725/2269263605.py:12: FutureWarning: The frame.append method is deprecated and will be removed from pandas in a future version. Use pandas.concat instead.\n",
      "  df=df.append(df2,ignore_index=True)\n"
     ]
    },
    {
     "name": "stdout",
     "output_type": "stream",
     "text": [
      "plate23_12s_48_2_out.csv\n",
      "plate1_12s_33_2_out.csv\n"
     ]
    },
    {
     "name": "stderr",
     "output_type": "stream",
     "text": [
      "/tmp/ipykernel_681725/2269263605.py:12: FutureWarning: The frame.append method is deprecated and will be removed from pandas in a future version. Use pandas.concat instead.\n",
      "  df=df.append(df2,ignore_index=True)\n",
      "/tmp/ipykernel_681725/2269263605.py:12: FutureWarning: The frame.append method is deprecated and will be removed from pandas in a future version. Use pandas.concat instead.\n",
      "  df=df.append(df2,ignore_index=True)\n"
     ]
    },
    {
     "name": "stdout",
     "output_type": "stream",
     "text": [
      "plate1_12s_4_1_out.csv\n",
      "plate23_12s_47_2_out.csv\n"
     ]
    },
    {
     "name": "stderr",
     "output_type": "stream",
     "text": [
      "/tmp/ipykernel_681725/2269263605.py:12: FutureWarning: The frame.append method is deprecated and will be removed from pandas in a future version. Use pandas.concat instead.\n",
      "  df=df.append(df2,ignore_index=True)\n"
     ]
    },
    {
     "name": "stdout",
     "output_type": "stream",
     "text": [
      "plate23_12s_7_2_out.csv\n"
     ]
    },
    {
     "name": "stderr",
     "output_type": "stream",
     "text": [
      "/tmp/ipykernel_681725/2269263605.py:12: FutureWarning: The frame.append method is deprecated and will be removed from pandas in a future version. Use pandas.concat instead.\n",
      "  df=df.append(df2,ignore_index=True)\n",
      "/tmp/ipykernel_681725/2269263605.py:12: FutureWarning: The frame.append method is deprecated and will be removed from pandas in a future version. Use pandas.concat instead.\n",
      "  df=df.append(df2,ignore_index=True)\n"
     ]
    },
    {
     "name": "stdout",
     "output_type": "stream",
     "text": [
      "plate23_12s_60_1_out.csv\n",
      "plate23_12s_51_2_out.csv\n"
     ]
    },
    {
     "name": "stderr",
     "output_type": "stream",
     "text": [
      "/tmp/ipykernel_681725/2269263605.py:12: FutureWarning: The frame.append method is deprecated and will be removed from pandas in a future version. Use pandas.concat instead.\n",
      "  df=df.append(df2,ignore_index=True)\n"
     ]
    },
    {
     "name": "stdout",
     "output_type": "stream",
     "text": [
      "plate1_12s_48_2_out.csv\n"
     ]
    },
    {
     "name": "stderr",
     "output_type": "stream",
     "text": [
      "/tmp/ipykernel_681725/2269263605.py:12: FutureWarning: The frame.append method is deprecated and will be removed from pandas in a future version. Use pandas.concat instead.\n",
      "  df=df.append(df2,ignore_index=True)\n"
     ]
    },
    {
     "name": "stdout",
     "output_type": "stream",
     "text": [
      "plate1_12s_28_2_out.csv\n"
     ]
    },
    {
     "name": "stderr",
     "output_type": "stream",
     "text": [
      "/tmp/ipykernel_681725/2269263605.py:12: FutureWarning: The frame.append method is deprecated and will be removed from pandas in a future version. Use pandas.concat instead.\n",
      "  df=df.append(df2,ignore_index=True)\n",
      "/tmp/ipykernel_681725/2269263605.py:12: FutureWarning: The frame.append method is deprecated and will be removed from pandas in a future version. Use pandas.concat instead.\n",
      "  df=df.append(df2,ignore_index=True)\n",
      "/tmp/ipykernel_681725/2269263605.py:12: FutureWarning: The frame.append method is deprecated and will be removed from pandas in a future version. Use pandas.concat instead.\n",
      "  df=df.append(df2,ignore_index=True)\n",
      "/tmp/ipykernel_681725/2269263605.py:12: FutureWarning: The frame.append method is deprecated and will be removed from pandas in a future version. Use pandas.concat instead.\n",
      "  df=df.append(df2,ignore_index=True)\n"
     ]
    },
    {
     "name": "stdout",
     "output_type": "stream",
     "text": [
      "plate1_12s_55_2_out.csv\n",
      "plate1_12s_19_2_out.csv\n",
      "plate1_12s_23_2_out.csv\n",
      "plate23_12s_10_1_out.csv\n"
     ]
    },
    {
     "name": "stderr",
     "output_type": "stream",
     "text": [
      "/tmp/ipykernel_681725/2269263605.py:12: FutureWarning: The frame.append method is deprecated and will be removed from pandas in a future version. Use pandas.concat instead.\n",
      "  df=df.append(df2,ignore_index=True)\n",
      "/tmp/ipykernel_681725/2269263605.py:12: FutureWarning: The frame.append method is deprecated and will be removed from pandas in a future version. Use pandas.concat instead.\n",
      "  df=df.append(df2,ignore_index=True)\n"
     ]
    },
    {
     "name": "stdout",
     "output_type": "stream",
     "text": [
      "plate1_12s_30_1_out.csv\n",
      "plate23_12s_40_2_out.csv\n"
     ]
    },
    {
     "name": "stderr",
     "output_type": "stream",
     "text": [
      "/tmp/ipykernel_681725/2269263605.py:12: FutureWarning: The frame.append method is deprecated and will be removed from pandas in a future version. Use pandas.concat instead.\n",
      "  df=df.append(df2,ignore_index=True)\n"
     ]
    },
    {
     "name": "stdout",
     "output_type": "stream",
     "text": [
      "plate23_12s_1_1_out.csv\n"
     ]
    },
    {
     "name": "stderr",
     "output_type": "stream",
     "text": [
      "/tmp/ipykernel_681725/2269263605.py:6: DtypeWarning: Columns (2,4,7) have mixed types. Specify dtype option on import or set low_memory=False.\n",
      "  file = pd.read_table(os.path.join(fld,file_nm))\n",
      "/tmp/ipykernel_681725/2269263605.py:12: FutureWarning: The frame.append method is deprecated and will be removed from pandas in a future version. Use pandas.concat instead.\n",
      "  df=df.append(df2,ignore_index=True)\n"
     ]
    },
    {
     "name": "stdout",
     "output_type": "stream",
     "text": [
      "plate1_12s_14_2_out.csv\n"
     ]
    },
    {
     "name": "stderr",
     "output_type": "stream",
     "text": [
      "/tmp/ipykernel_681725/2269263605.py:12: FutureWarning: The frame.append method is deprecated and will be removed from pandas in a future version. Use pandas.concat instead.\n",
      "  df=df.append(df2,ignore_index=True)\n"
     ]
    },
    {
     "name": "stdout",
     "output_type": "stream",
     "text": [
      "plate23_12s_19_1_out.csv\n"
     ]
    },
    {
     "name": "stderr",
     "output_type": "stream",
     "text": [
      "/tmp/ipykernel_681725/2269263605.py:12: FutureWarning: The frame.append method is deprecated and will be removed from pandas in a future version. Use pandas.concat instead.\n",
      "  df=df.append(df2,ignore_index=True)\n"
     ]
    },
    {
     "name": "stdout",
     "output_type": "stream",
     "text": [
      "plate1_12s_13_1_out.csv\n"
     ]
    },
    {
     "name": "stderr",
     "output_type": "stream",
     "text": [
      "/tmp/ipykernel_681725/2269263605.py:12: FutureWarning: The frame.append method is deprecated and will be removed from pandas in a future version. Use pandas.concat instead.\n",
      "  df=df.append(df2,ignore_index=True)\n"
     ]
    },
    {
     "name": "stdout",
     "output_type": "stream",
     "text": [
      "plate23_12s_58_1_out.csv\n"
     ]
    },
    {
     "name": "stderr",
     "output_type": "stream",
     "text": [
      "/tmp/ipykernel_681725/2269263605.py:12: FutureWarning: The frame.append method is deprecated and will be removed from pandas in a future version. Use pandas.concat instead.\n",
      "  df=df.append(df2,ignore_index=True)\n"
     ]
    },
    {
     "name": "stdout",
     "output_type": "stream",
     "text": [
      "plate23_12s_36_2_out.csv\n"
     ]
    },
    {
     "name": "stderr",
     "output_type": "stream",
     "text": [
      "/tmp/ipykernel_681725/2269263605.py:12: FutureWarning: The frame.append method is deprecated and will be removed from pandas in a future version. Use pandas.concat instead.\n",
      "  df=df.append(df2,ignore_index=True)\n",
      "/tmp/ipykernel_681725/2269263605.py:12: FutureWarning: The frame.append method is deprecated and will be removed from pandas in a future version. Use pandas.concat instead.\n",
      "  df=df.append(df2,ignore_index=True)\n",
      "/tmp/ipykernel_681725/2269263605.py:12: FutureWarning: The frame.append method is deprecated and will be removed from pandas in a future version. Use pandas.concat instead.\n",
      "  df=df.append(df2,ignore_index=True)\n",
      "/tmp/ipykernel_681725/2269263605.py:12: FutureWarning: The frame.append method is deprecated and will be removed from pandas in a future version. Use pandas.concat instead.\n",
      "  df=df.append(df2,ignore_index=True)\n"
     ]
    },
    {
     "name": "stdout",
     "output_type": "stream",
     "text": [
      "plate1_12s_55_1_out.csv\n",
      "plate23_12s_69_1_out.csv\n",
      "plate23_12s_4_2_out.csv\n",
      "plate1_12s_18_1_out.csv\n"
     ]
    },
    {
     "name": "stderr",
     "output_type": "stream",
     "text": [
      "/tmp/ipykernel_681725/2269263605.py:12: FutureWarning: The frame.append method is deprecated and will be removed from pandas in a future version. Use pandas.concat instead.\n",
      "  df=df.append(df2,ignore_index=True)\n"
     ]
    },
    {
     "name": "stdout",
     "output_type": "stream",
     "text": [
      "plate23_12s_43_2_out.csv\n"
     ]
    },
    {
     "name": "stderr",
     "output_type": "stream",
     "text": [
      "/tmp/ipykernel_681725/2269263605.py:12: FutureWarning: The frame.append method is deprecated and will be removed from pandas in a future version. Use pandas.concat instead.\n",
      "  df=df.append(df2,ignore_index=True)\n",
      "/tmp/ipykernel_681725/2269263605.py:12: FutureWarning: The frame.append method is deprecated and will be removed from pandas in a future version. Use pandas.concat instead.\n",
      "  df=df.append(df2,ignore_index=True)\n"
     ]
    },
    {
     "name": "stdout",
     "output_type": "stream",
     "text": [
      "plate1_12s_56_1_out.csv\n",
      "plate1_12s_21_2_out.csv\n"
     ]
    },
    {
     "name": "stderr",
     "output_type": "stream",
     "text": [
      "/tmp/ipykernel_681725/2269263605.py:12: FutureWarning: The frame.append method is deprecated and will be removed from pandas in a future version. Use pandas.concat instead.\n",
      "  df=df.append(df2,ignore_index=True)\n",
      "/tmp/ipykernel_681725/2269263605.py:12: FutureWarning: The frame.append method is deprecated and will be removed from pandas in a future version. Use pandas.concat instead.\n",
      "  df=df.append(df2,ignore_index=True)\n"
     ]
    },
    {
     "name": "stdout",
     "output_type": "stream",
     "text": [
      "plate1_12s_41_2_out.csv\n",
      "plate1_12s_17_2_out.csv\n"
     ]
    },
    {
     "name": "stderr",
     "output_type": "stream",
     "text": [
      "/tmp/ipykernel_681725/2269263605.py:12: FutureWarning: The frame.append method is deprecated and will be removed from pandas in a future version. Use pandas.concat instead.\n",
      "  df=df.append(df2,ignore_index=True)\n"
     ]
    },
    {
     "name": "stdout",
     "output_type": "stream",
     "text": [
      "plate23_12s_49_1_out.csv\n"
     ]
    },
    {
     "name": "stderr",
     "output_type": "stream",
     "text": [
      "/tmp/ipykernel_681725/2269263605.py:12: FutureWarning: The frame.append method is deprecated and will be removed from pandas in a future version. Use pandas.concat instead.\n",
      "  df=df.append(df2,ignore_index=True)\n",
      "/tmp/ipykernel_681725/2269263605.py:12: FutureWarning: The frame.append method is deprecated and will be removed from pandas in a future version. Use pandas.concat instead.\n",
      "  df=df.append(df2,ignore_index=True)\n"
     ]
    },
    {
     "name": "stdout",
     "output_type": "stream",
     "text": [
      "plate1_12s_31_1_out.csv\n",
      "plate23_12s_75_1_out.csv\n"
     ]
    },
    {
     "name": "stderr",
     "output_type": "stream",
     "text": [
      "/tmp/ipykernel_681725/2269263605.py:12: FutureWarning: The frame.append method is deprecated and will be removed from pandas in a future version. Use pandas.concat instead.\n",
      "  df=df.append(df2,ignore_index=True)\n",
      "/tmp/ipykernel_681725/2269263605.py:12: FutureWarning: The frame.append method is deprecated and will be removed from pandas in a future version. Use pandas.concat instead.\n",
      "  df=df.append(df2,ignore_index=True)\n",
      "/tmp/ipykernel_681725/2269263605.py:12: FutureWarning: The frame.append method is deprecated and will be removed from pandas in a future version. Use pandas.concat instead.\n",
      "  df=df.append(df2,ignore_index=True)\n"
     ]
    },
    {
     "name": "stdout",
     "output_type": "stream",
     "text": [
      "plate23_12s_68_1_out.csv\n",
      "plate1_12s_23_1_out.csv\n",
      "plate1_12s_22_2_out.csv\n"
     ]
    },
    {
     "name": "stderr",
     "output_type": "stream",
     "text": [
      "/tmp/ipykernel_681725/2269263605.py:12: FutureWarning: The frame.append method is deprecated and will be removed from pandas in a future version. Use pandas.concat instead.\n",
      "  df=df.append(df2,ignore_index=True)\n"
     ]
    },
    {
     "name": "stdout",
     "output_type": "stream",
     "text": [
      "plate1_12s_27_1_out.csv\n"
     ]
    },
    {
     "name": "stderr",
     "output_type": "stream",
     "text": [
      "/tmp/ipykernel_681725/2269263605.py:12: FutureWarning: The frame.append method is deprecated and will be removed from pandas in a future version. Use pandas.concat instead.\n",
      "  df=df.append(df2,ignore_index=True)\n",
      "/tmp/ipykernel_681725/2269263605.py:12: FutureWarning: The frame.append method is deprecated and will be removed from pandas in a future version. Use pandas.concat instead.\n",
      "  df=df.append(df2,ignore_index=True)\n"
     ]
    },
    {
     "name": "stdout",
     "output_type": "stream",
     "text": [
      "plate1_12s_41_1_out.csv\n",
      "plate23_12s_31_2_out.csv\n"
     ]
    },
    {
     "name": "stderr",
     "output_type": "stream",
     "text": [
      "/tmp/ipykernel_681725/2269263605.py:12: FutureWarning: The frame.append method is deprecated and will be removed from pandas in a future version. Use pandas.concat instead.\n",
      "  df=df.append(df2,ignore_index=True)\n"
     ]
    },
    {
     "name": "stdout",
     "output_type": "stream",
     "text": [
      "plate1_12s_37_1_out.csv\n"
     ]
    },
    {
     "name": "stderr",
     "output_type": "stream",
     "text": [
      "/tmp/ipykernel_681725/2269263605.py:12: FutureWarning: The frame.append method is deprecated and will be removed from pandas in a future version. Use pandas.concat instead.\n",
      "  df=df.append(df2,ignore_index=True)\n",
      "/tmp/ipykernel_681725/2269263605.py:12: FutureWarning: The frame.append method is deprecated and will be removed from pandas in a future version. Use pandas.concat instead.\n",
      "  df=df.append(df2,ignore_index=True)\n"
     ]
    },
    {
     "name": "stdout",
     "output_type": "stream",
     "text": [
      "plate23_12s_20_1_out.csv\n",
      "plate23_12s_60_2_out.csv\n"
     ]
    },
    {
     "name": "stderr",
     "output_type": "stream",
     "text": [
      "/tmp/ipykernel_681725/2269263605.py:12: FutureWarning: The frame.append method is deprecated and will be removed from pandas in a future version. Use pandas.concat instead.\n",
      "  df=df.append(df2,ignore_index=True)\n"
     ]
    },
    {
     "name": "stdout",
     "output_type": "stream",
     "text": [
      "plate23_12s_15_1_out.csv\n"
     ]
    },
    {
     "name": "stderr",
     "output_type": "stream",
     "text": [
      "/tmp/ipykernel_681725/2269263605.py:12: FutureWarning: The frame.append method is deprecated and will be removed from pandas in a future version. Use pandas.concat instead.\n",
      "  df=df.append(df2,ignore_index=True)\n",
      "/tmp/ipykernel_681725/2269263605.py:12: FutureWarning: The frame.append method is deprecated and will be removed from pandas in a future version. Use pandas.concat instead.\n",
      "  df=df.append(df2,ignore_index=True)\n"
     ]
    },
    {
     "name": "stdout",
     "output_type": "stream",
     "text": [
      "plate23_12s_53_2_out.csv\n",
      "plate1_12s_5_2_out.csv\n"
     ]
    },
    {
     "name": "stderr",
     "output_type": "stream",
     "text": [
      "/tmp/ipykernel_681725/2269263605.py:12: FutureWarning: The frame.append method is deprecated and will be removed from pandas in a future version. Use pandas.concat instead.\n",
      "  df=df.append(df2,ignore_index=True)\n",
      "/tmp/ipykernel_681725/2269263605.py:12: FutureWarning: The frame.append method is deprecated and will be removed from pandas in a future version. Use pandas.concat instead.\n",
      "  df=df.append(df2,ignore_index=True)\n"
     ]
    },
    {
     "name": "stdout",
     "output_type": "stream",
     "text": [
      "plate23_12s_67_2_out.csv\n",
      "plate23_12s_19_2_out.csv\n"
     ]
    },
    {
     "name": "stderr",
     "output_type": "stream",
     "text": [
      "/tmp/ipykernel_681725/2269263605.py:12: FutureWarning: The frame.append method is deprecated and will be removed from pandas in a future version. Use pandas.concat instead.\n",
      "  df=df.append(df2,ignore_index=True)\n",
      "/tmp/ipykernel_681725/2269263605.py:12: FutureWarning: The frame.append method is deprecated and will be removed from pandas in a future version. Use pandas.concat instead.\n",
      "  df=df.append(df2,ignore_index=True)\n"
     ]
    },
    {
     "name": "stdout",
     "output_type": "stream",
     "text": [
      "plate1_12s_32_2_out.csv\n",
      "plate23_12s_33_2_out.csv\n"
     ]
    },
    {
     "name": "stderr",
     "output_type": "stream",
     "text": [
      "/tmp/ipykernel_681725/2269263605.py:12: FutureWarning: The frame.append method is deprecated and will be removed from pandas in a future version. Use pandas.concat instead.\n",
      "  df=df.append(df2,ignore_index=True)\n",
      "/tmp/ipykernel_681725/2269263605.py:12: FutureWarning: The frame.append method is deprecated and will be removed from pandas in a future version. Use pandas.concat instead.\n",
      "  df=df.append(df2,ignore_index=True)\n",
      "/tmp/ipykernel_681725/2269263605.py:12: FutureWarning: The frame.append method is deprecated and will be removed from pandas in a future version. Use pandas.concat instead.\n",
      "  df=df.append(df2,ignore_index=True)\n",
      "/tmp/ipykernel_681725/2269263605.py:12: FutureWarning: The frame.append method is deprecated and will be removed from pandas in a future version. Use pandas.concat instead.\n",
      "  df=df.append(df2,ignore_index=True)\n"
     ]
    },
    {
     "name": "stdout",
     "output_type": "stream",
     "text": [
      "plate1_12s_32_1_out.csv\n",
      "plate23_12s_64_1_out.csv\n",
      "plate23_12s_28_1_out.csv\n",
      "plate1_12s_27_2_out.csv\n"
     ]
    },
    {
     "name": "stderr",
     "output_type": "stream",
     "text": [
      "/tmp/ipykernel_681725/2269263605.py:12: FutureWarning: The frame.append method is deprecated and will be removed from pandas in a future version. Use pandas.concat instead.\n",
      "  df=df.append(df2,ignore_index=True)\n"
     ]
    },
    {
     "name": "stdout",
     "output_type": "stream",
     "text": [
      "plate1_12s_31_2_out.csv\n"
     ]
    },
    {
     "name": "stderr",
     "output_type": "stream",
     "text": [
      "/tmp/ipykernel_681725/2269263605.py:12: FutureWarning: The frame.append method is deprecated and will be removed from pandas in a future version. Use pandas.concat instead.\n",
      "  df=df.append(df2,ignore_index=True)\n",
      "/tmp/ipykernel_681725/2269263605.py:12: FutureWarning: The frame.append method is deprecated and will be removed from pandas in a future version. Use pandas.concat instead.\n",
      "  df=df.append(df2,ignore_index=True)\n"
     ]
    },
    {
     "name": "stdout",
     "output_type": "stream",
     "text": [
      "plate23_12s_71_1_out.csv\n",
      "plate1_12s_8_2_out.csv\n"
     ]
    },
    {
     "name": "stderr",
     "output_type": "stream",
     "text": [
      "/tmp/ipykernel_681725/2269263605.py:12: FutureWarning: The frame.append method is deprecated and will be removed from pandas in a future version. Use pandas.concat instead.\n",
      "  df=df.append(df2,ignore_index=True)\n",
      "/tmp/ipykernel_681725/2269263605.py:12: FutureWarning: The frame.append method is deprecated and will be removed from pandas in a future version. Use pandas.concat instead.\n",
      "  df=df.append(df2,ignore_index=True)\n",
      "/tmp/ipykernel_681725/2269263605.py:12: FutureWarning: The frame.append method is deprecated and will be removed from pandas in a future version. Use pandas.concat instead.\n",
      "  df=df.append(df2,ignore_index=True)\n"
     ]
    },
    {
     "name": "stdout",
     "output_type": "stream",
     "text": [
      "plate1_12s_35_1_out.csv\n",
      "plate23_12s_66_1_out.csv\n",
      "plate23_12s_32_1_out.csv\n"
     ]
    },
    {
     "name": "stderr",
     "output_type": "stream",
     "text": [
      "/tmp/ipykernel_681725/2269263605.py:12: FutureWarning: The frame.append method is deprecated and will be removed from pandas in a future version. Use pandas.concat instead.\n",
      "  df=df.append(df2,ignore_index=True)\n"
     ]
    },
    {
     "name": "stdout",
     "output_type": "stream",
     "text": [
      "plate1_12s_26_1_out.csv\n"
     ]
    },
    {
     "name": "stderr",
     "output_type": "stream",
     "text": [
      "/tmp/ipykernel_681725/2269263605.py:12: FutureWarning: The frame.append method is deprecated and will be removed from pandas in a future version. Use pandas.concat instead.\n",
      "  df=df.append(df2,ignore_index=True)\n",
      "/tmp/ipykernel_681725/2269263605.py:12: FutureWarning: The frame.append method is deprecated and will be removed from pandas in a future version. Use pandas.concat instead.\n",
      "  df=df.append(df2,ignore_index=True)\n"
     ]
    },
    {
     "name": "stdout",
     "output_type": "stream",
     "text": [
      "plate23_12s_53_1_out.csv\n",
      "plate23_12s_12_1_out.csv\n"
     ]
    },
    {
     "name": "stderr",
     "output_type": "stream",
     "text": [
      "/tmp/ipykernel_681725/2269263605.py:12: FutureWarning: The frame.append method is deprecated and will be removed from pandas in a future version. Use pandas.concat instead.\n",
      "  df=df.append(df2,ignore_index=True)\n"
     ]
    },
    {
     "name": "stdout",
     "output_type": "stream",
     "text": [
      "plate1_12s_45_1_out.csv\n"
     ]
    },
    {
     "name": "stderr",
     "output_type": "stream",
     "text": [
      "/tmp/ipykernel_681725/2269263605.py:12: FutureWarning: The frame.append method is deprecated and will be removed from pandas in a future version. Use pandas.concat instead.\n",
      "  df=df.append(df2,ignore_index=True)\n"
     ]
    },
    {
     "name": "stdout",
     "output_type": "stream",
     "text": [
      "plate23_12s_23_1_out.csv\n"
     ]
    },
    {
     "name": "stderr",
     "output_type": "stream",
     "text": [
      "/tmp/ipykernel_681725/2269263605.py:12: FutureWarning: The frame.append method is deprecated and will be removed from pandas in a future version. Use pandas.concat instead.\n",
      "  df=df.append(df2,ignore_index=True)\n",
      "/tmp/ipykernel_681725/2269263605.py:12: FutureWarning: The frame.append method is deprecated and will be removed from pandas in a future version. Use pandas.concat instead.\n",
      "  df=df.append(df2,ignore_index=True)\n"
     ]
    },
    {
     "name": "stdout",
     "output_type": "stream",
     "text": [
      "plate1_12s_7_2_out.csv\n",
      "plate23_12s_39_1_out.csv\n"
     ]
    },
    {
     "name": "stderr",
     "output_type": "stream",
     "text": [
      "/tmp/ipykernel_681725/2269263605.py:12: FutureWarning: The frame.append method is deprecated and will be removed from pandas in a future version. Use pandas.concat instead.\n",
      "  df=df.append(df2,ignore_index=True)\n",
      "/tmp/ipykernel_681725/2269263605.py:12: FutureWarning: The frame.append method is deprecated and will be removed from pandas in a future version. Use pandas.concat instead.\n",
      "  df=df.append(df2,ignore_index=True)\n"
     ]
    },
    {
     "name": "stdout",
     "output_type": "stream",
     "text": [
      "plate23_12s_14_1_out.csv\n",
      "plate1_12s_7_1_out.csv\n"
     ]
    },
    {
     "name": "stderr",
     "output_type": "stream",
     "text": [
      "/tmp/ipykernel_681725/2269263605.py:12: FutureWarning: The frame.append method is deprecated and will be removed from pandas in a future version. Use pandas.concat instead.\n",
      "  df=df.append(df2,ignore_index=True)\n",
      "/tmp/ipykernel_681725/2269263605.py:12: FutureWarning: The frame.append method is deprecated and will be removed from pandas in a future version. Use pandas.concat instead.\n",
      "  df=df.append(df2,ignore_index=True)\n"
     ]
    },
    {
     "name": "stdout",
     "output_type": "stream",
     "text": [
      "plate1_12s_51_2_out.csv\n",
      "plate23_12s_24_1_out.csv\n"
     ]
    },
    {
     "name": "stderr",
     "output_type": "stream",
     "text": [
      "/tmp/ipykernel_681725/2269263605.py:12: FutureWarning: The frame.append method is deprecated and will be removed from pandas in a future version. Use pandas.concat instead.\n",
      "  df=df.append(df2,ignore_index=True)\n",
      "/tmp/ipykernel_681725/2269263605.py:12: FutureWarning: The frame.append method is deprecated and will be removed from pandas in a future version. Use pandas.concat instead.\n",
      "  df=df.append(df2,ignore_index=True)\n"
     ]
    },
    {
     "name": "stdout",
     "output_type": "stream",
     "text": [
      "plate1_12s_51_1_out.csv\n",
      "plate1_12s_48_1_out.csv\n"
     ]
    },
    {
     "name": "stderr",
     "output_type": "stream",
     "text": [
      "/tmp/ipykernel_681725/2269263605.py:12: FutureWarning: The frame.append method is deprecated and will be removed from pandas in a future version. Use pandas.concat instead.\n",
      "  df=df.append(df2,ignore_index=True)\n"
     ]
    },
    {
     "name": "stdout",
     "output_type": "stream",
     "text": [
      "plate1_12s_8_1_out.csv\n"
     ]
    },
    {
     "name": "stderr",
     "output_type": "stream",
     "text": [
      "/tmp/ipykernel_681725/2269263605.py:12: FutureWarning: The frame.append method is deprecated and will be removed from pandas in a future version. Use pandas.concat instead.\n",
      "  df=df.append(df2,ignore_index=True)\n"
     ]
    },
    {
     "name": "stdout",
     "output_type": "stream",
     "text": [
      "plate1_12s_12_2_out.csv\n"
     ]
    },
    {
     "name": "stderr",
     "output_type": "stream",
     "text": [
      "/tmp/ipykernel_681725/2269263605.py:12: FutureWarning: The frame.append method is deprecated and will be removed from pandas in a future version. Use pandas.concat instead.\n",
      "  df=df.append(df2,ignore_index=True)\n",
      "/tmp/ipykernel_681725/2269263605.py:12: FutureWarning: The frame.append method is deprecated and will be removed from pandas in a future version. Use pandas.concat instead.\n",
      "  df=df.append(df2,ignore_index=True)\n"
     ]
    },
    {
     "name": "stdout",
     "output_type": "stream",
     "text": [
      "plate23_12s_72_2_out.csv\n",
      "plate23_12s_21_1_out.csv\n"
     ]
    },
    {
     "name": "stderr",
     "output_type": "stream",
     "text": [
      "/tmp/ipykernel_681725/2269263605.py:12: FutureWarning: The frame.append method is deprecated and will be removed from pandas in a future version. Use pandas.concat instead.\n",
      "  df=df.append(df2,ignore_index=True)\n",
      "/tmp/ipykernel_681725/2269263605.py:12: FutureWarning: The frame.append method is deprecated and will be removed from pandas in a future version. Use pandas.concat instead.\n",
      "  df=df.append(df2,ignore_index=True)\n",
      "/tmp/ipykernel_681725/2269263605.py:12: FutureWarning: The frame.append method is deprecated and will be removed from pandas in a future version. Use pandas.concat instead.\n",
      "  df=df.append(df2,ignore_index=True)\n"
     ]
    },
    {
     "name": "stdout",
     "output_type": "stream",
     "text": [
      "plate1_12s_9_2_out.csv\n",
      "plate23_12s_69_2_out.csv\n",
      "plate1_12s_52_2_out.csv\n"
     ]
    },
    {
     "name": "stderr",
     "output_type": "stream",
     "text": [
      "/tmp/ipykernel_681725/2269263605.py:12: FutureWarning: The frame.append method is deprecated and will be removed from pandas in a future version. Use pandas.concat instead.\n",
      "  df=df.append(df2,ignore_index=True)\n"
     ]
    },
    {
     "name": "stdout",
     "output_type": "stream",
     "text": [
      "plate23_12s_3_2_out.csv\n"
     ]
    },
    {
     "name": "stderr",
     "output_type": "stream",
     "text": [
      "/tmp/ipykernel_681725/2269263605.py:12: FutureWarning: The frame.append method is deprecated and will be removed from pandas in a future version. Use pandas.concat instead.\n",
      "  df=df.append(df2,ignore_index=True)\n",
      "/tmp/ipykernel_681725/2269263605.py:12: FutureWarning: The frame.append method is deprecated and will be removed from pandas in a future version. Use pandas.concat instead.\n",
      "  df=df.append(df2,ignore_index=True)\n"
     ]
    },
    {
     "name": "stdout",
     "output_type": "stream",
     "text": [
      "plate23_12s_63_2_out.csv\n",
      "plate1_12s_22_1_out.csv\n"
     ]
    },
    {
     "name": "stderr",
     "output_type": "stream",
     "text": [
      "/tmp/ipykernel_681725/2269263605.py:12: FutureWarning: The frame.append method is deprecated and will be removed from pandas in a future version. Use pandas.concat instead.\n",
      "  df=df.append(df2,ignore_index=True)\n"
     ]
    },
    {
     "name": "stdout",
     "output_type": "stream",
     "text": [
      "plate1_12s_1_2_out.csv\n"
     ]
    },
    {
     "name": "stderr",
     "output_type": "stream",
     "text": [
      "/tmp/ipykernel_681725/2269263605.py:12: FutureWarning: The frame.append method is deprecated and will be removed from pandas in a future version. Use pandas.concat instead.\n",
      "  df=df.append(df2,ignore_index=True)\n"
     ]
    },
    {
     "name": "stdout",
     "output_type": "stream",
     "text": [
      "plate1_12s_16_1_out.csv\n"
     ]
    },
    {
     "name": "stderr",
     "output_type": "stream",
     "text": [
      "/tmp/ipykernel_681725/2269263605.py:12: FutureWarning: The frame.append method is deprecated and will be removed from pandas in a future version. Use pandas.concat instead.\n",
      "  df=df.append(df2,ignore_index=True)\n"
     ]
    },
    {
     "name": "stdout",
     "output_type": "stream",
     "text": [
      "plate23_12s_45_2_out.csv\n"
     ]
    },
    {
     "name": "stderr",
     "output_type": "stream",
     "text": [
      "/tmp/ipykernel_681725/2269263605.py:12: FutureWarning: The frame.append method is deprecated and will be removed from pandas in a future version. Use pandas.concat instead.\n",
      "  df=df.append(df2,ignore_index=True)\n",
      "/tmp/ipykernel_681725/2269263605.py:12: FutureWarning: The frame.append method is deprecated and will be removed from pandas in a future version. Use pandas.concat instead.\n",
      "  df=df.append(df2,ignore_index=True)\n"
     ]
    },
    {
     "name": "stdout",
     "output_type": "stream",
     "text": [
      "plate23_12s_2_2_out.csv\n",
      "plate23_12s_38_1_out.csv\n"
     ]
    },
    {
     "name": "stderr",
     "output_type": "stream",
     "text": [
      "/tmp/ipykernel_681725/2269263605.py:12: FutureWarning: The frame.append method is deprecated and will be removed from pandas in a future version. Use pandas.concat instead.\n",
      "  df=df.append(df2,ignore_index=True)\n"
     ]
    },
    {
     "name": "stdout",
     "output_type": "stream",
     "text": [
      "plate23_12s_57_2_out.csv\n"
     ]
    },
    {
     "name": "stderr",
     "output_type": "stream",
     "text": [
      "/tmp/ipykernel_681725/2269263605.py:12: FutureWarning: The frame.append method is deprecated and will be removed from pandas in a future version. Use pandas.concat instead.\n",
      "  df=df.append(df2,ignore_index=True)\n",
      "/tmp/ipykernel_681725/2269263605.py:12: FutureWarning: The frame.append method is deprecated and will be removed from pandas in a future version. Use pandas.concat instead.\n",
      "  df=df.append(df2,ignore_index=True)\n"
     ]
    },
    {
     "name": "stdout",
     "output_type": "stream",
     "text": [
      "plate23_12s_30_1_out.csv\n",
      "plate23_12s_26_2_out.csv\n"
     ]
    },
    {
     "name": "stderr",
     "output_type": "stream",
     "text": [
      "/tmp/ipykernel_681725/2269263605.py:12: FutureWarning: The frame.append method is deprecated and will be removed from pandas in a future version. Use pandas.concat instead.\n",
      "  df=df.append(df2,ignore_index=True)\n",
      "/tmp/ipykernel_681725/2269263605.py:12: FutureWarning: The frame.append method is deprecated and will be removed from pandas in a future version. Use pandas.concat instead.\n",
      "  df=df.append(df2,ignore_index=True)\n"
     ]
    },
    {
     "name": "stdout",
     "output_type": "stream",
     "text": [
      "plate23_12s_48_1_out.csv\n",
      "plate1_12s_59_2_out.csv\n"
     ]
    },
    {
     "name": "stderr",
     "output_type": "stream",
     "text": [
      "/tmp/ipykernel_681725/2269263605.py:12: FutureWarning: The frame.append method is deprecated and will be removed from pandas in a future version. Use pandas.concat instead.\n",
      "  df=df.append(df2,ignore_index=True)\n"
     ]
    },
    {
     "name": "stdout",
     "output_type": "stream",
     "text": [
      "plate23_12s_43_1_out.csv\n"
     ]
    },
    {
     "name": "stderr",
     "output_type": "stream",
     "text": [
      "/tmp/ipykernel_681725/2269263605.py:12: FutureWarning: The frame.append method is deprecated and will be removed from pandas in a future version. Use pandas.concat instead.\n",
      "  df=df.append(df2,ignore_index=True)\n",
      "/tmp/ipykernel_681725/2269263605.py:12: FutureWarning: The frame.append method is deprecated and will be removed from pandas in a future version. Use pandas.concat instead.\n",
      "  df=df.append(df2,ignore_index=True)\n"
     ]
    },
    {
     "name": "stdout",
     "output_type": "stream",
     "text": [
      "plate23_12s_34_1_out.csv\n",
      "plate1_12s_5_1_out.csv\n"
     ]
    },
    {
     "name": "stderr",
     "output_type": "stream",
     "text": [
      "/tmp/ipykernel_681725/2269263605.py:12: FutureWarning: The frame.append method is deprecated and will be removed from pandas in a future version. Use pandas.concat instead.\n",
      "  df=df.append(df2,ignore_index=True)\n"
     ]
    },
    {
     "name": "stdout",
     "output_type": "stream",
     "text": [
      "plate23_12s_10_2_out.csv\n"
     ]
    },
    {
     "name": "stderr",
     "output_type": "stream",
     "text": [
      "/tmp/ipykernel_681725/2269263605.py:12: FutureWarning: The frame.append method is deprecated and will be removed from pandas in a future version. Use pandas.concat instead.\n",
      "  df=df.append(df2,ignore_index=True)\n"
     ]
    },
    {
     "name": "stdout",
     "output_type": "stream",
     "text": [
      "plate1_12s_58_1_out.csv\n"
     ]
    },
    {
     "name": "stderr",
     "output_type": "stream",
     "text": [
      "/tmp/ipykernel_681725/2269263605.py:12: FutureWarning: The frame.append method is deprecated and will be removed from pandas in a future version. Use pandas.concat instead.\n",
      "  df=df.append(df2,ignore_index=True)\n"
     ]
    },
    {
     "name": "stdout",
     "output_type": "stream",
     "text": [
      "plate23_12s_18_2_out.csv\n"
     ]
    },
    {
     "name": "stderr",
     "output_type": "stream",
     "text": [
      "/tmp/ipykernel_681725/2269263605.py:12: FutureWarning: The frame.append method is deprecated and will be removed from pandas in a future version. Use pandas.concat instead.\n",
      "  df=df.append(df2,ignore_index=True)\n",
      "/tmp/ipykernel_681725/2269263605.py:12: FutureWarning: The frame.append method is deprecated and will be removed from pandas in a future version. Use pandas.concat instead.\n",
      "  df=df.append(df2,ignore_index=True)\n"
     ]
    },
    {
     "name": "stdout",
     "output_type": "stream",
     "text": [
      "plate1_12s_44_1_out.csv\n",
      "plate23_12s_74_2_out.csv\n"
     ]
    },
    {
     "name": "stderr",
     "output_type": "stream",
     "text": [
      "/tmp/ipykernel_681725/2269263605.py:12: FutureWarning: The frame.append method is deprecated and will be removed from pandas in a future version. Use pandas.concat instead.\n",
      "  df=df.append(df2,ignore_index=True)\n"
     ]
    },
    {
     "name": "stdout",
     "output_type": "stream",
     "text": [
      "plate23_12s_56_2_out.csv\n"
     ]
    },
    {
     "name": "stderr",
     "output_type": "stream",
     "text": [
      "/tmp/ipykernel_681725/2269263605.py:12: FutureWarning: The frame.append method is deprecated and will be removed from pandas in a future version. Use pandas.concat instead.\n",
      "  df=df.append(df2,ignore_index=True)\n",
      "/tmp/ipykernel_681725/2269263605.py:12: FutureWarning: The frame.append method is deprecated and will be removed from pandas in a future version. Use pandas.concat instead.\n",
      "  df=df.append(df2,ignore_index=True)\n"
     ]
    },
    {
     "name": "stdout",
     "output_type": "stream",
     "text": [
      "plate23_12s_21_2_out.csv\n",
      "plate23_12s_36_1_out.csv\n"
     ]
    },
    {
     "name": "stderr",
     "output_type": "stream",
     "text": [
      "/tmp/ipykernel_681725/2269263605.py:12: FutureWarning: The frame.append method is deprecated and will be removed from pandas in a future version. Use pandas.concat instead.\n",
      "  df=df.append(df2,ignore_index=True)\n"
     ]
    },
    {
     "name": "stdout",
     "output_type": "stream",
     "text": [
      "plate23_12s_35_1_out.csv\n"
     ]
    },
    {
     "name": "stderr",
     "output_type": "stream",
     "text": [
      "/tmp/ipykernel_681725/2269263605.py:12: FutureWarning: The frame.append method is deprecated and will be removed from pandas in a future version. Use pandas.concat instead.\n",
      "  df=df.append(df2,ignore_index=True)\n",
      "/tmp/ipykernel_681725/2269263605.py:12: FutureWarning: The frame.append method is deprecated and will be removed from pandas in a future version. Use pandas.concat instead.\n",
      "  df=df.append(df2,ignore_index=True)\n",
      "/tmp/ipykernel_681725/2269263605.py:12: FutureWarning: The frame.append method is deprecated and will be removed from pandas in a future version. Use pandas.concat instead.\n",
      "  df=df.append(df2,ignore_index=True)\n"
     ]
    },
    {
     "name": "stdout",
     "output_type": "stream",
     "text": [
      "plate23_12s_37_2_out.csv\n",
      "plate23_12s_22_2_out.csv\n",
      "plate23_12s_62_2_out.csv\n"
     ]
    },
    {
     "name": "stderr",
     "output_type": "stream",
     "text": [
      "/tmp/ipykernel_681725/2269263605.py:12: FutureWarning: The frame.append method is deprecated and will be removed from pandas in a future version. Use pandas.concat instead.\n",
      "  df=df.append(df2,ignore_index=True)\n",
      "/tmp/ipykernel_681725/2269263605.py:12: FutureWarning: The frame.append method is deprecated and will be removed from pandas in a future version. Use pandas.concat instead.\n",
      "  df=df.append(df2,ignore_index=True)\n"
     ]
    },
    {
     "name": "stdout",
     "output_type": "stream",
     "text": [
      "plate23_12s_55_2_out.csv\n",
      "plate1_12s_1_1_out.csv\n"
     ]
    },
    {
     "name": "stderr",
     "output_type": "stream",
     "text": [
      "/tmp/ipykernel_681725/2269263605.py:12: FutureWarning: The frame.append method is deprecated and will be removed from pandas in a future version. Use pandas.concat instead.\n",
      "  df=df.append(df2,ignore_index=True)\n"
     ]
    },
    {
     "name": "stdout",
     "output_type": "stream",
     "text": [
      "plate1_12s_52_1_out.csv\n"
     ]
    },
    {
     "name": "stderr",
     "output_type": "stream",
     "text": [
      "/tmp/ipykernel_681725/2269263605.py:12: FutureWarning: The frame.append method is deprecated and will be removed from pandas in a future version. Use pandas.concat instead.\n",
      "  df=df.append(df2,ignore_index=True)\n"
     ]
    },
    {
     "name": "stdout",
     "output_type": "stream",
     "text": [
      "plate23_12s_3_1_out.csv\n"
     ]
    },
    {
     "name": "stderr",
     "output_type": "stream",
     "text": [
      "/tmp/ipykernel_681725/2269263605.py:12: FutureWarning: The frame.append method is deprecated and will be removed from pandas in a future version. Use pandas.concat instead.\n",
      "  df=df.append(df2,ignore_index=True)\n",
      "/tmp/ipykernel_681725/2269263605.py:12: FutureWarning: The frame.append method is deprecated and will be removed from pandas in a future version. Use pandas.concat instead.\n",
      "  df=df.append(df2,ignore_index=True)\n"
     ]
    },
    {
     "name": "stdout",
     "output_type": "stream",
     "text": [
      "plate1_12s_57_2_out.csv\n",
      "plate1_12s_49_1_out.csv\n"
     ]
    },
    {
     "name": "stderr",
     "output_type": "stream",
     "text": [
      "/tmp/ipykernel_681725/2269263605.py:12: FutureWarning: The frame.append method is deprecated and will be removed from pandas in a future version. Use pandas.concat instead.\n",
      "  df=df.append(df2,ignore_index=True)\n"
     ]
    },
    {
     "name": "stdout",
     "output_type": "stream",
     "text": [
      "plate23_12s_38_2_out.csv\n"
     ]
    },
    {
     "name": "stderr",
     "output_type": "stream",
     "text": [
      "/tmp/ipykernel_681725/2269263605.py:12: FutureWarning: The frame.append method is deprecated and will be removed from pandas in a future version. Use pandas.concat instead.\n",
      "  df=df.append(df2,ignore_index=True)\n",
      "/tmp/ipykernel_681725/2269263605.py:12: FutureWarning: The frame.append method is deprecated and will be removed from pandas in a future version. Use pandas.concat instead.\n",
      "  df=df.append(df2,ignore_index=True)\n"
     ]
    },
    {
     "name": "stdout",
     "output_type": "stream",
     "text": [
      "plate23_12s_64_2_out.csv\n",
      "plate1_12s_58_2_out.csv\n"
     ]
    },
    {
     "name": "stderr",
     "output_type": "stream",
     "text": [
      "/tmp/ipykernel_681725/2269263605.py:12: FutureWarning: The frame.append method is deprecated and will be removed from pandas in a future version. Use pandas.concat instead.\n",
      "  df=df.append(df2,ignore_index=True)\n"
     ]
    },
    {
     "name": "stdout",
     "output_type": "stream",
     "text": [
      "plate1_12s_10_1_out.csv\n"
     ]
    },
    {
     "name": "stderr",
     "output_type": "stream",
     "text": [
      "/tmp/ipykernel_681725/2269263605.py:12: FutureWarning: The frame.append method is deprecated and will be removed from pandas in a future version. Use pandas.concat instead.\n",
      "  df=df.append(df2,ignore_index=True)\n"
     ]
    },
    {
     "name": "stdout",
     "output_type": "stream",
     "text": [
      "plate1_12s_15_1_out.csv\n"
     ]
    },
    {
     "name": "stderr",
     "output_type": "stream",
     "text": [
      "/tmp/ipykernel_681725/2269263605.py:12: FutureWarning: The frame.append method is deprecated and will be removed from pandas in a future version. Use pandas.concat instead.\n",
      "  df=df.append(df2,ignore_index=True)\n"
     ]
    },
    {
     "name": "stdout",
     "output_type": "stream",
     "text": [
      "plate23_12s_58_2_out.csv\n"
     ]
    },
    {
     "name": "stderr",
     "output_type": "stream",
     "text": [
      "/tmp/ipykernel_681725/2269263605.py:12: FutureWarning: The frame.append method is deprecated and will be removed from pandas in a future version. Use pandas.concat instead.\n",
      "  df=df.append(df2,ignore_index=True)\n"
     ]
    },
    {
     "name": "stdout",
     "output_type": "stream",
     "text": [
      "plate23_12s_26_1_out.csv\n"
     ]
    },
    {
     "name": "stderr",
     "output_type": "stream",
     "text": [
      "/tmp/ipykernel_681725/2269263605.py:12: FutureWarning: The frame.append method is deprecated and will be removed from pandas in a future version. Use pandas.concat instead.\n",
      "  df=df.append(df2,ignore_index=True)\n"
     ]
    },
    {
     "name": "stdout",
     "output_type": "stream",
     "text": [
      "plate1_12s_29_1_out.csv\n"
     ]
    },
    {
     "name": "stderr",
     "output_type": "stream",
     "text": [
      "/tmp/ipykernel_681725/2269263605.py:12: FutureWarning: The frame.append method is deprecated and will be removed from pandas in a future version. Use pandas.concat instead.\n",
      "  df=df.append(df2,ignore_index=True)\n"
     ]
    },
    {
     "name": "stdout",
     "output_type": "stream",
     "text": [
      "plate23_12s_54_2_out.csv\n"
     ]
    },
    {
     "name": "stderr",
     "output_type": "stream",
     "text": [
      "/tmp/ipykernel_681725/2269263605.py:12: FutureWarning: The frame.append method is deprecated and will be removed from pandas in a future version. Use pandas.concat instead.\n",
      "  df=df.append(df2,ignore_index=True)\n"
     ]
    },
    {
     "name": "stdout",
     "output_type": "stream",
     "text": [
      "plate23_12s_6_1_out.csv\n"
     ]
    },
    {
     "name": "stderr",
     "output_type": "stream",
     "text": [
      "/tmp/ipykernel_681725/2269263605.py:12: FutureWarning: The frame.append method is deprecated and will be removed from pandas in a future version. Use pandas.concat instead.\n",
      "  df=df.append(df2,ignore_index=True)\n"
     ]
    },
    {
     "name": "stdout",
     "output_type": "stream",
     "text": [
      "plate23_12s_12_2_out.csv\n"
     ]
    },
    {
     "name": "stderr",
     "output_type": "stream",
     "text": [
      "/tmp/ipykernel_681725/2269263605.py:12: FutureWarning: The frame.append method is deprecated and will be removed from pandas in a future version. Use pandas.concat instead.\n",
      "  df=df.append(df2,ignore_index=True)\n"
     ]
    },
    {
     "name": "stdout",
     "output_type": "stream",
     "text": [
      "plate23_12s_62_1_out.csv\n"
     ]
    },
    {
     "name": "stderr",
     "output_type": "stream",
     "text": [
      "/tmp/ipykernel_681725/2269263605.py:12: FutureWarning: The frame.append method is deprecated and will be removed from pandas in a future version. Use pandas.concat instead.\n",
      "  df=df.append(df2,ignore_index=True)\n"
     ]
    },
    {
     "name": "stdout",
     "output_type": "stream",
     "text": [
      "plate1_12s_17_1_out.csv\n"
     ]
    },
    {
     "name": "stderr",
     "output_type": "stream",
     "text": [
      "/tmp/ipykernel_681725/2269263605.py:12: FutureWarning: The frame.append method is deprecated and will be removed from pandas in a future version. Use pandas.concat instead.\n",
      "  df=df.append(df2,ignore_index=True)\n",
      "/tmp/ipykernel_681725/2269263605.py:12: FutureWarning: The frame.append method is deprecated and will be removed from pandas in a future version. Use pandas.concat instead.\n",
      "  df=df.append(df2,ignore_index=True)\n",
      "/tmp/ipykernel_681725/2269263605.py:12: FutureWarning: The frame.append method is deprecated and will be removed from pandas in a future version. Use pandas.concat instead.\n",
      "  df=df.append(df2,ignore_index=True)\n"
     ]
    },
    {
     "name": "stdout",
     "output_type": "stream",
     "text": [
      "plate23_12s_13_2_out.csv\n",
      "plate23_12s_20_2_out.csv\n",
      "plate23_12s_42_2_out.csv\n"
     ]
    },
    {
     "name": "stderr",
     "output_type": "stream",
     "text": [
      "/tmp/ipykernel_681725/2269263605.py:12: FutureWarning: The frame.append method is deprecated and will be removed from pandas in a future version. Use pandas.concat instead.\n",
      "  df=df.append(df2,ignore_index=True)\n",
      "/tmp/ipykernel_681725/2269263605.py:12: FutureWarning: The frame.append method is deprecated and will be removed from pandas in a future version. Use pandas.concat instead.\n",
      "  df=df.append(df2,ignore_index=True)\n"
     ]
    },
    {
     "name": "stdout",
     "output_type": "stream",
     "text": [
      "plate1_12s_46_2_out.csv\n",
      "plate23_12s_18_1_out.csv\n"
     ]
    },
    {
     "name": "stderr",
     "output_type": "stream",
     "text": [
      "/tmp/ipykernel_681725/2269263605.py:12: FutureWarning: The frame.append method is deprecated and will be removed from pandas in a future version. Use pandas.concat instead.\n",
      "  df=df.append(df2,ignore_index=True)\n"
     ]
    },
    {
     "name": "stdout",
     "output_type": "stream",
     "text": [
      "plate23_12s_59_2_out.csv\n"
     ]
    },
    {
     "name": "stderr",
     "output_type": "stream",
     "text": [
      "/tmp/ipykernel_681725/2269263605.py:12: FutureWarning: The frame.append method is deprecated and will be removed from pandas in a future version. Use pandas.concat instead.\n",
      "  df=df.append(df2,ignore_index=True)\n"
     ]
    },
    {
     "name": "stdout",
     "output_type": "stream",
     "text": [
      "plate1_12s_47_1_out.csv\n"
     ]
    },
    {
     "name": "stderr",
     "output_type": "stream",
     "text": [
      "/tmp/ipykernel_681725/2269263605.py:12: FutureWarning: The frame.append method is deprecated and will be removed from pandas in a future version. Use pandas.concat instead.\n",
      "  df=df.append(df2,ignore_index=True)\n"
     ]
    },
    {
     "name": "stdout",
     "output_type": "stream",
     "text": [
      "plate1_12s_59_1_out.csv\n"
     ]
    },
    {
     "name": "stderr",
     "output_type": "stream",
     "text": [
      "/tmp/ipykernel_681725/2269263605.py:12: FutureWarning: The frame.append method is deprecated and will be removed from pandas in a future version. Use pandas.concat instead.\n",
      "  df=df.append(df2,ignore_index=True)\n"
     ]
    },
    {
     "name": "stdout",
     "output_type": "stream",
     "text": [
      "plate23_12s_7_1_out.csv\n"
     ]
    },
    {
     "name": "stderr",
     "output_type": "stream",
     "text": [
      "/tmp/ipykernel_681725/2269263605.py:12: FutureWarning: The frame.append method is deprecated and will be removed from pandas in a future version. Use pandas.concat instead.\n",
      "  df=df.append(df2,ignore_index=True)\n"
     ]
    },
    {
     "name": "stdout",
     "output_type": "stream",
     "text": [
      "plate1_12s_14_1_out.csv\n"
     ]
    },
    {
     "name": "stderr",
     "output_type": "stream",
     "text": [
      "/tmp/ipykernel_681725/2269263605.py:12: FutureWarning: The frame.append method is deprecated and will be removed from pandas in a future version. Use pandas.concat instead.\n",
      "  df=df.append(df2,ignore_index=True)\n",
      "/tmp/ipykernel_681725/2269263605.py:12: FutureWarning: The frame.append method is deprecated and will be removed from pandas in a future version. Use pandas.concat instead.\n",
      "  df=df.append(df2,ignore_index=True)\n",
      "/tmp/ipykernel_681725/2269263605.py:12: FutureWarning: The frame.append method is deprecated and will be removed from pandas in a future version. Use pandas.concat instead.\n",
      "  df=df.append(df2,ignore_index=True)\n"
     ]
    },
    {
     "name": "stdout",
     "output_type": "stream",
     "text": [
      "plate23_12s_4_1_out.csv\n",
      "plate1_12s_57_1_out.csv\n",
      "plate1_12s_43_1_out.csv\n"
     ]
    },
    {
     "name": "stderr",
     "output_type": "stream",
     "text": [
      "/tmp/ipykernel_681725/2269263605.py:12: FutureWarning: The frame.append method is deprecated and will be removed from pandas in a future version. Use pandas.concat instead.\n",
      "  df=df.append(df2,ignore_index=True)\n"
     ]
    },
    {
     "name": "stdout",
     "output_type": "stream",
     "text": [
      "plate23_12s_6_2_out.csv\n"
     ]
    },
    {
     "name": "stderr",
     "output_type": "stream",
     "text": [
      "/tmp/ipykernel_681725/2269263605.py:12: FutureWarning: The frame.append method is deprecated and will be removed from pandas in a future version. Use pandas.concat instead.\n",
      "  df=df.append(df2,ignore_index=True)\n"
     ]
    },
    {
     "name": "stdout",
     "output_type": "stream",
     "text": [
      "plate23_12s_8_1_out.csv\n"
     ]
    },
    {
     "name": "stderr",
     "output_type": "stream",
     "text": [
      "/tmp/ipykernel_681725/2269263605.py:12: FutureWarning: The frame.append method is deprecated and will be removed from pandas in a future version. Use pandas.concat instead.\n",
      "  df=df.append(df2,ignore_index=True)\n",
      "/tmp/ipykernel_681725/2269263605.py:12: FutureWarning: The frame.append method is deprecated and will be removed from pandas in a future version. Use pandas.concat instead.\n",
      "  df=df.append(df2,ignore_index=True)\n",
      "/tmp/ipykernel_681725/2269263605.py:12: FutureWarning: The frame.append method is deprecated and will be removed from pandas in a future version. Use pandas.concat instead.\n",
      "  df=df.append(df2,ignore_index=True)\n"
     ]
    },
    {
     "name": "stdout",
     "output_type": "stream",
     "text": [
      "plate23_12s_66_2_out.csv\n",
      "plate23_12s_30_2_out.csv\n",
      "plate1_12s_25_2_out.csv\n"
     ]
    },
    {
     "name": "stderr",
     "output_type": "stream",
     "text": [
      "/tmp/ipykernel_681725/2269263605.py:12: FutureWarning: The frame.append method is deprecated and will be removed from pandas in a future version. Use pandas.concat instead.\n",
      "  df=df.append(df2,ignore_index=True)\n"
     ]
    },
    {
     "name": "stdout",
     "output_type": "stream",
     "text": [
      "plate23_12s_73_1_out.csv\n"
     ]
    },
    {
     "name": "stderr",
     "output_type": "stream",
     "text": [
      "/tmp/ipykernel_681725/2269263605.py:12: FutureWarning: The frame.append method is deprecated and will be removed from pandas in a future version. Use pandas.concat instead.\n",
      "  df=df.append(df2,ignore_index=True)\n"
     ]
    },
    {
     "name": "stdout",
     "output_type": "stream",
     "text": [
      "plate23_12s_8_2_out.csv\n"
     ]
    },
    {
     "name": "stderr",
     "output_type": "stream",
     "text": [
      "/tmp/ipykernel_681725/2269263605.py:12: FutureWarning: The frame.append method is deprecated and will be removed from pandas in a future version. Use pandas.concat instead.\n",
      "  df=df.append(df2,ignore_index=True)\n"
     ]
    },
    {
     "name": "stdout",
     "output_type": "stream",
     "text": [
      "plate1_12s_43_2_out.csv\n"
     ]
    },
    {
     "name": "stderr",
     "output_type": "stream",
     "text": [
      "/tmp/ipykernel_681725/2269263605.py:12: FutureWarning: The frame.append method is deprecated and will be removed from pandas in a future version. Use pandas.concat instead.\n",
      "  df=df.append(df2,ignore_index=True)\n"
     ]
    },
    {
     "name": "stdout",
     "output_type": "stream",
     "text": [
      "plate23_12s_27_2_out.csv\n"
     ]
    },
    {
     "name": "stderr",
     "output_type": "stream",
     "text": [
      "/tmp/ipykernel_681725/2269263605.py:12: FutureWarning: The frame.append method is deprecated and will be removed from pandas in a future version. Use pandas.concat instead.\n",
      "  df=df.append(df2,ignore_index=True)\n"
     ]
    },
    {
     "name": "stdout",
     "output_type": "stream",
     "text": [
      "plate23_12s_9_1_out.csv\n"
     ]
    },
    {
     "name": "stderr",
     "output_type": "stream",
     "text": [
      "/tmp/ipykernel_681725/2269263605.py:12: FutureWarning: The frame.append method is deprecated and will be removed from pandas in a future version. Use pandas.concat instead.\n",
      "  df=df.append(df2,ignore_index=True)\n"
     ]
    },
    {
     "name": "stdout",
     "output_type": "stream",
     "text": [
      "plate23_12s_73_2_out.csv\n"
     ]
    },
    {
     "name": "stderr",
     "output_type": "stream",
     "text": [
      "/tmp/ipykernel_681725/2269263605.py:12: FutureWarning: The frame.append method is deprecated and will be removed from pandas in a future version. Use pandas.concat instead.\n",
      "  df=df.append(df2,ignore_index=True)\n",
      "/tmp/ipykernel_681725/2269263605.py:12: FutureWarning: The frame.append method is deprecated and will be removed from pandas in a future version. Use pandas.concat instead.\n",
      "  df=df.append(df2,ignore_index=True)\n"
     ]
    },
    {
     "name": "stdout",
     "output_type": "stream",
     "text": [
      "plate23_12s_44_2_out.csv\n",
      "plate1_12s_11_1_out.csv\n"
     ]
    },
    {
     "name": "stderr",
     "output_type": "stream",
     "text": [
      "/tmp/ipykernel_681725/2269263605.py:12: FutureWarning: The frame.append method is deprecated and will be removed from pandas in a future version. Use pandas.concat instead.\n",
      "  df=df.append(df2,ignore_index=True)\n"
     ]
    },
    {
     "name": "stdout",
     "output_type": "stream",
     "text": [
      "plate23_12s_59_1_out.csv\n"
     ]
    },
    {
     "name": "stderr",
     "output_type": "stream",
     "text": [
      "/tmp/ipykernel_681725/2269263605.py:12: FutureWarning: The frame.append method is deprecated and will be removed from pandas in a future version. Use pandas.concat instead.\n",
      "  df=df.append(df2,ignore_index=True)\n"
     ]
    },
    {
     "name": "stdout",
     "output_type": "stream",
     "text": [
      "plate23_12s_5_2_out.csv\n"
     ]
    },
    {
     "name": "stderr",
     "output_type": "stream",
     "text": [
      "/tmp/ipykernel_681725/2269263605.py:12: FutureWarning: The frame.append method is deprecated and will be removed from pandas in a future version. Use pandas.concat instead.\n",
      "  df=df.append(df2,ignore_index=True)\n",
      "/tmp/ipykernel_681725/2269263605.py:12: FutureWarning: The frame.append method is deprecated and will be removed from pandas in a future version. Use pandas.concat instead.\n",
      "  df=df.append(df2,ignore_index=True)\n"
     ]
    },
    {
     "name": "stdout",
     "output_type": "stream",
     "text": [
      "plate23_12s_44_1_out.csv\n",
      "plate23_12s_15_2_out.csv\n"
     ]
    },
    {
     "name": "stderr",
     "output_type": "stream",
     "text": [
      "/tmp/ipykernel_681725/2269263605.py:12: FutureWarning: The frame.append method is deprecated and will be removed from pandas in a future version. Use pandas.concat instead.\n",
      "  df=df.append(df2,ignore_index=True)\n"
     ]
    },
    {
     "name": "stdout",
     "output_type": "stream",
     "text": [
      "plate1_12s_33_1_out.csv\n"
     ]
    },
    {
     "name": "stderr",
     "output_type": "stream",
     "text": [
      "/tmp/ipykernel_681725/2269263605.py:12: FutureWarning: The frame.append method is deprecated and will be removed from pandas in a future version. Use pandas.concat instead.\n",
      "  df=df.append(df2,ignore_index=True)\n",
      "/tmp/ipykernel_681725/2269263605.py:12: FutureWarning: The frame.append method is deprecated and will be removed from pandas in a future version. Use pandas.concat instead.\n",
      "  df=df.append(df2,ignore_index=True)\n",
      "/tmp/ipykernel_681725/2269263605.py:12: FutureWarning: The frame.append method is deprecated and will be removed from pandas in a future version. Use pandas.concat instead.\n",
      "  df=df.append(df2,ignore_index=True)\n"
     ]
    },
    {
     "name": "stdout",
     "output_type": "stream",
     "text": [
      "plate1_12s_39_2_out.csv\n",
      "plate1_12s_9_1_out.csv\n",
      "plate1_12s_11_2_out.csv\n"
     ]
    },
    {
     "name": "stderr",
     "output_type": "stream",
     "text": [
      "/tmp/ipykernel_681725/2269263605.py:12: FutureWarning: The frame.append method is deprecated and will be removed from pandas in a future version. Use pandas.concat instead.\n",
      "  df=df.append(df2,ignore_index=True)\n"
     ]
    },
    {
     "name": "stdout",
     "output_type": "stream",
     "text": [
      "plate23_12s_35_2_out.csv\n"
     ]
    },
    {
     "name": "stderr",
     "output_type": "stream",
     "text": [
      "/tmp/ipykernel_681725/2269263605.py:12: FutureWarning: The frame.append method is deprecated and will be removed from pandas in a future version. Use pandas.concat instead.\n",
      "  df=df.append(df2,ignore_index=True)\n"
     ]
    },
    {
     "name": "stdout",
     "output_type": "stream",
     "text": [
      "plate23_12s_54_1_out.csv\n"
     ]
    },
    {
     "name": "stderr",
     "output_type": "stream",
     "text": [
      "/tmp/ipykernel_681725/2269263605.py:12: FutureWarning: The frame.append method is deprecated and will be removed from pandas in a future version. Use pandas.concat instead.\n",
      "  df=df.append(df2,ignore_index=True)\n",
      "/tmp/ipykernel_681725/2269263605.py:12: FutureWarning: The frame.append method is deprecated and will be removed from pandas in a future version. Use pandas.concat instead.\n",
      "  df=df.append(df2,ignore_index=True)\n",
      "/tmp/ipykernel_681725/2269263605.py:12: FutureWarning: The frame.append method is deprecated and will be removed from pandas in a future version. Use pandas.concat instead.\n",
      "  df=df.append(df2,ignore_index=True)\n"
     ]
    },
    {
     "name": "stdout",
     "output_type": "stream",
     "text": [
      "plate23_12s_68_2_out.csv\n",
      "plate1_12s_3_2_out.csv\n",
      "plate23_12s_56_1_out.csv\n"
     ]
    },
    {
     "name": "stderr",
     "output_type": "stream",
     "text": [
      "/tmp/ipykernel_681725/2269263605.py:12: FutureWarning: The frame.append method is deprecated and will be removed from pandas in a future version. Use pandas.concat instead.\n",
      "  df=df.append(df2,ignore_index=True)\n"
     ]
    },
    {
     "name": "stdout",
     "output_type": "stream",
     "text": [
      "plate1_12s_25_1_out.csv\n"
     ]
    },
    {
     "name": "stderr",
     "output_type": "stream",
     "text": [
      "/tmp/ipykernel_681725/2269263605.py:12: FutureWarning: The frame.append method is deprecated and will be removed from pandas in a future version. Use pandas.concat instead.\n",
      "  df=df.append(df2,ignore_index=True)\n",
      "/tmp/ipykernel_681725/2269263605.py:12: FutureWarning: The frame.append method is deprecated and will be removed from pandas in a future version. Use pandas.concat instead.\n",
      "  df=df.append(df2,ignore_index=True)\n"
     ]
    },
    {
     "name": "stdout",
     "output_type": "stream",
     "text": [
      "plate23_12s_22_1_out.csv\n",
      "plate23_12s_17_1_out.csv\n"
     ]
    },
    {
     "name": "stderr",
     "output_type": "stream",
     "text": [
      "/tmp/ipykernel_681725/2269263605.py:6: DtypeWarning: Columns (6,8,10) have mixed types. Specify dtype option on import or set low_memory=False.\n",
      "  file = pd.read_table(os.path.join(fld,file_nm))\n",
      "/tmp/ipykernel_681725/2269263605.py:12: FutureWarning: The frame.append method is deprecated and will be removed from pandas in a future version. Use pandas.concat instead.\n",
      "  df=df.append(df2,ignore_index=True)\n",
      "/tmp/ipykernel_681725/2269263605.py:12: FutureWarning: The frame.append method is deprecated and will be removed from pandas in a future version. Use pandas.concat instead.\n",
      "  df=df.append(df2,ignore_index=True)\n"
     ]
    },
    {
     "name": "stdout",
     "output_type": "stream",
     "text": [
      "plate23_12s_71_2_out.csv\n",
      "plate23_12s_25_1_out.csv\n"
     ]
    },
    {
     "name": "stderr",
     "output_type": "stream",
     "text": [
      "/tmp/ipykernel_681725/2269263605.py:6: DtypeWarning: Columns (1,4,9) have mixed types. Specify dtype option on import or set low_memory=False.\n",
      "  file = pd.read_table(os.path.join(fld,file_nm))\n",
      "/tmp/ipykernel_681725/2269263605.py:12: FutureWarning: The frame.append method is deprecated and will be removed from pandas in a future version. Use pandas.concat instead.\n",
      "  df=df.append(df2,ignore_index=True)\n"
     ]
    },
    {
     "name": "stdout",
     "output_type": "stream",
     "text": [
      "plate23_12s_29_2_out.csv\n"
     ]
    },
    {
     "name": "stderr",
     "output_type": "stream",
     "text": [
      "/tmp/ipykernel_681725/2269263605.py:12: FutureWarning: The frame.append method is deprecated and will be removed from pandas in a future version. Use pandas.concat instead.\n",
      "  df=df.append(df2,ignore_index=True)\n"
     ]
    },
    {
     "name": "stdout",
     "output_type": "stream",
     "text": [
      "plate1_12s_24_1_out.csv\n"
     ]
    },
    {
     "name": "stderr",
     "output_type": "stream",
     "text": [
      "/tmp/ipykernel_681725/2269263605.py:12: FutureWarning: The frame.append method is deprecated and will be removed from pandas in a future version. Use pandas.concat instead.\n",
      "  df=df.append(df2,ignore_index=True)\n"
     ]
    },
    {
     "name": "stdout",
     "output_type": "stream",
     "text": [
      "plate1_12s_10_2_out.csv\n"
     ]
    },
    {
     "name": "stderr",
     "output_type": "stream",
     "text": [
      "/tmp/ipykernel_681725/2269263605.py:12: FutureWarning: The frame.append method is deprecated and will be removed from pandas in a future version. Use pandas.concat instead.\n",
      "  df=df.append(df2,ignore_index=True)\n",
      "/tmp/ipykernel_681725/2269263605.py:12: FutureWarning: The frame.append method is deprecated and will be removed from pandas in a future version. Use pandas.concat instead.\n",
      "  df=df.append(df2,ignore_index=True)\n"
     ]
    },
    {
     "name": "stdout",
     "output_type": "stream",
     "text": [
      "plate1_12s_30_2_out.csv\n",
      "plate1_12s_34_2_out.csv\n"
     ]
    },
    {
     "name": "stderr",
     "output_type": "stream",
     "text": [
      "/tmp/ipykernel_681725/2269263605.py:12: FutureWarning: The frame.append method is deprecated and will be removed from pandas in a future version. Use pandas.concat instead.\n",
      "  df=df.append(df2,ignore_index=True)\n",
      "/tmp/ipykernel_681725/2269263605.py:12: FutureWarning: The frame.append method is deprecated and will be removed from pandas in a future version. Use pandas.concat instead.\n",
      "  df=df.append(df2,ignore_index=True)\n",
      "/tmp/ipykernel_681725/2269263605.py:12: FutureWarning: The frame.append method is deprecated and will be removed from pandas in a future version. Use pandas.concat instead.\n",
      "  df=df.append(df2,ignore_index=True)\n"
     ]
    },
    {
     "name": "stdout",
     "output_type": "stream",
     "text": [
      "plate23_12s_34_2_out.csv\n",
      "plate23_12s_37_1_out.csv\n",
      "plate1_12s_42_2_out.csv\n"
     ]
    },
    {
     "name": "stderr",
     "output_type": "stream",
     "text": [
      "/tmp/ipykernel_681725/2269263605.py:12: FutureWarning: The frame.append method is deprecated and will be removed from pandas in a future version. Use pandas.concat instead.\n",
      "  df=df.append(df2,ignore_index=True)\n"
     ]
    },
    {
     "name": "stdout",
     "output_type": "stream",
     "text": [
      "plate23_12s_40_1_out.csv\n"
     ]
    },
    {
     "name": "stderr",
     "output_type": "stream",
     "text": [
      "/tmp/ipykernel_681725/2269263605.py:12: FutureWarning: The frame.append method is deprecated and will be removed from pandas in a future version. Use pandas.concat instead.\n",
      "  df=df.append(df2,ignore_index=True)\n"
     ]
    },
    {
     "name": "stdout",
     "output_type": "stream",
     "text": [
      "plate1_12s_13_2_out.csv\n"
     ]
    },
    {
     "name": "stderr",
     "output_type": "stream",
     "text": [
      "/tmp/ipykernel_681725/2269263605.py:12: FutureWarning: The frame.append method is deprecated and will be removed from pandas in a future version. Use pandas.concat instead.\n",
      "  df=df.append(df2,ignore_index=True)\n",
      "/tmp/ipykernel_681725/2269263605.py:12: FutureWarning: The frame.append method is deprecated and will be removed from pandas in a future version. Use pandas.concat instead.\n",
      "  df=df.append(df2,ignore_index=True)\n"
     ]
    },
    {
     "name": "stdout",
     "output_type": "stream",
     "text": [
      "plate1_12s_3_1_out.csv\n",
      "plate23_12s_65_2_out.csv\n"
     ]
    },
    {
     "name": "stderr",
     "output_type": "stream",
     "text": [
      "/tmp/ipykernel_681725/2269263605.py:12: FutureWarning: The frame.append method is deprecated and will be removed from pandas in a future version. Use pandas.concat instead.\n",
      "  df=df.append(df2,ignore_index=True)\n",
      "/tmp/ipykernel_681725/2269263605.py:12: FutureWarning: The frame.append method is deprecated and will be removed from pandas in a future version. Use pandas.concat instead.\n",
      "  df=df.append(df2,ignore_index=True)\n"
     ]
    },
    {
     "name": "stdout",
     "output_type": "stream",
     "text": [
      "plate1_12s_36_2_out.csv\n",
      "plate1_12s_54_2_out.csv\n"
     ]
    },
    {
     "name": "stderr",
     "output_type": "stream",
     "text": [
      "/tmp/ipykernel_681725/2269263605.py:12: FutureWarning: The frame.append method is deprecated and will be removed from pandas in a future version. Use pandas.concat instead.\n",
      "  df=df.append(df2,ignore_index=True)\n"
     ]
    },
    {
     "name": "stdout",
     "output_type": "stream",
     "text": [
      "plate23_12s_29_1_out.csv\n"
     ]
    },
    {
     "name": "stderr",
     "output_type": "stream",
     "text": [
      "/tmp/ipykernel_681725/2269263605.py:12: FutureWarning: The frame.append method is deprecated and will be removed from pandas in a future version. Use pandas.concat instead.\n",
      "  df=df.append(df2,ignore_index=True)\n"
     ]
    },
    {
     "name": "stdout",
     "output_type": "stream",
     "text": [
      "plate1_12s_20_1_out.csv\n"
     ]
    },
    {
     "name": "stderr",
     "output_type": "stream",
     "text": [
      "/tmp/ipykernel_681725/2269263605.py:12: FutureWarning: The frame.append method is deprecated and will be removed from pandas in a future version. Use pandas.concat instead.\n",
      "  df=df.append(df2,ignore_index=True)\n"
     ]
    },
    {
     "name": "stdout",
     "output_type": "stream",
     "text": [
      "plate23_12s_45_1_out.csv\n"
     ]
    },
    {
     "name": "stderr",
     "output_type": "stream",
     "text": [
      "/tmp/ipykernel_681725/2269263605.py:12: FutureWarning: The frame.append method is deprecated and will be removed from pandas in a future version. Use pandas.concat instead.\n",
      "  df=df.append(df2,ignore_index=True)\n"
     ]
    },
    {
     "name": "stdout",
     "output_type": "stream",
     "text": [
      "plate23_12s_27_1_out.csv\n"
     ]
    },
    {
     "name": "stderr",
     "output_type": "stream",
     "text": [
      "/tmp/ipykernel_681725/2269263605.py:12: FutureWarning: The frame.append method is deprecated and will be removed from pandas in a future version. Use pandas.concat instead.\n",
      "  df=df.append(df2,ignore_index=True)\n"
     ]
    },
    {
     "name": "stdout",
     "output_type": "stream",
     "text": [
      "plate23_12s_46_2_out.csv\n"
     ]
    },
    {
     "name": "stderr",
     "output_type": "stream",
     "text": [
      "/tmp/ipykernel_681725/2269263605.py:12: FutureWarning: The frame.append method is deprecated and will be removed from pandas in a future version. Use pandas.concat instead.\n",
      "  df=df.append(df2,ignore_index=True)\n"
     ]
    },
    {
     "name": "stdout",
     "output_type": "stream",
     "text": [
      "plate1_12s_50_2_out.csv\n"
     ]
    },
    {
     "name": "stderr",
     "output_type": "stream",
     "text": [
      "/tmp/ipykernel_681725/2269263605.py:12: FutureWarning: The frame.append method is deprecated and will be removed from pandas in a future version. Use pandas.concat instead.\n",
      "  df=df.append(df2,ignore_index=True)\n",
      "/tmp/ipykernel_681725/2269263605.py:12: FutureWarning: The frame.append method is deprecated and will be removed from pandas in a future version. Use pandas.concat instead.\n",
      "  df=df.append(df2,ignore_index=True)\n"
     ]
    },
    {
     "name": "stdout",
     "output_type": "stream",
     "text": [
      "plate1_12s_4_2_out.csv\n",
      "plate23_12s_32_2_out.csv\n"
     ]
    },
    {
     "name": "stderr",
     "output_type": "stream",
     "text": [
      "/tmp/ipykernel_681725/2269263605.py:12: FutureWarning: The frame.append method is deprecated and will be removed from pandas in a future version. Use pandas.concat instead.\n",
      "  df=df.append(df2,ignore_index=True)\n"
     ]
    },
    {
     "name": "stdout",
     "output_type": "stream",
     "text": [
      "plate23_12s_17_2_out.csv\n"
     ]
    },
    {
     "name": "stderr",
     "output_type": "stream",
     "text": [
      "/tmp/ipykernel_681725/2269263605.py:12: FutureWarning: The frame.append method is deprecated and will be removed from pandas in a future version. Use pandas.concat instead.\n",
      "  df=df.append(df2,ignore_index=True)\n",
      "/tmp/ipykernel_681725/2269263605.py:12: FutureWarning: The frame.append method is deprecated and will be removed from pandas in a future version. Use pandas.concat instead.\n",
      "  df=df.append(df2,ignore_index=True)\n"
     ]
    },
    {
     "name": "stdout",
     "output_type": "stream",
     "text": [
      "plate23_12s_72_1_out.csv\n",
      "plate23_12s_57_1_out.csv\n"
     ]
    },
    {
     "name": "stderr",
     "output_type": "stream",
     "text": [
      "/tmp/ipykernel_681725/2269263605.py:12: FutureWarning: The frame.append method is deprecated and will be removed from pandas in a future version. Use pandas.concat instead.\n",
      "  df=df.append(df2,ignore_index=True)\n",
      "/tmp/ipykernel_681725/2269263605.py:12: FutureWarning: The frame.append method is deprecated and will be removed from pandas in a future version. Use pandas.concat instead.\n",
      "  df=df.append(df2,ignore_index=True)\n",
      "/tmp/ipykernel_681725/2269263605.py:12: FutureWarning: The frame.append method is deprecated and will be removed from pandas in a future version. Use pandas.concat instead.\n",
      "  df=df.append(df2,ignore_index=True)\n"
     ]
    },
    {
     "name": "stdout",
     "output_type": "stream",
     "text": [
      "plate1_12s_36_1_out.csv\n",
      "plate23_12s_67_1_out.csv\n",
      "plate23_12s_11_2_out.csv\n"
     ]
    },
    {
     "name": "stderr",
     "output_type": "stream",
     "text": [
      "/tmp/ipykernel_681725/2269263605.py:12: FutureWarning: The frame.append method is deprecated and will be removed from pandas in a future version. Use pandas.concat instead.\n",
      "  df=df.append(df2,ignore_index=True)\n"
     ]
    },
    {
     "name": "stdout",
     "output_type": "stream",
     "text": [
      "plate1_12s_34_1_out.csv\n"
     ]
    },
    {
     "name": "stderr",
     "output_type": "stream",
     "text": [
      "/tmp/ipykernel_681725/2269263605.py:12: FutureWarning: The frame.append method is deprecated and will be removed from pandas in a future version. Use pandas.concat instead.\n",
      "  df=df.append(df2,ignore_index=True)\n"
     ]
    },
    {
     "name": "stdout",
     "output_type": "stream",
     "text": [
      "plate23_12s_42_1_out.csv\n"
     ]
    },
    {
     "name": "stderr",
     "output_type": "stream",
     "text": [
      "/tmp/ipykernel_681725/2269263605.py:12: FutureWarning: The frame.append method is deprecated and will be removed from pandas in a future version. Use pandas.concat instead.\n",
      "  df=df.append(df2,ignore_index=True)\n"
     ]
    },
    {
     "name": "stdout",
     "output_type": "stream",
     "text": [
      "plate1_12s_12_1_out.csv\n"
     ]
    },
    {
     "name": "stderr",
     "output_type": "stream",
     "text": [
      "/tmp/ipykernel_681725/2269263605.py:12: FutureWarning: The frame.append method is deprecated and will be removed from pandas in a future version. Use pandas.concat instead.\n",
      "  df=df.append(df2,ignore_index=True)\n"
     ]
    },
    {
     "name": "stdout",
     "output_type": "stream",
     "text": [
      "plate1_12s_26_2_out.csv\n"
     ]
    },
    {
     "name": "stderr",
     "output_type": "stream",
     "text": [
      "/tmp/ipykernel_681725/2269263605.py:12: FutureWarning: The frame.append method is deprecated and will be removed from pandas in a future version. Use pandas.concat instead.\n",
      "  df=df.append(df2,ignore_index=True)\n",
      "/tmp/ipykernel_681725/2269263605.py:12: FutureWarning: The frame.append method is deprecated and will be removed from pandas in a future version. Use pandas.concat instead.\n",
      "  df=df.append(df2,ignore_index=True)\n"
     ]
    },
    {
     "name": "stdout",
     "output_type": "stream",
     "text": [
      "plate1_12s_53_2_out.csv\n",
      "plate1_12s_42_1_out.csv\n"
     ]
    },
    {
     "name": "stderr",
     "output_type": "stream",
     "text": [
      "/tmp/ipykernel_681725/2269263605.py:12: FutureWarning: The frame.append method is deprecated and will be removed from pandas in a future version. Use pandas.concat instead.\n",
      "  df=df.append(df2,ignore_index=True)\n"
     ]
    },
    {
     "name": "stdout",
     "output_type": "stream",
     "text": [
      "plate23_12s_16_1_out.csv\n"
     ]
    },
    {
     "name": "stderr",
     "output_type": "stream",
     "text": [
      "/tmp/ipykernel_681725/2269263605.py:12: FutureWarning: The frame.append method is deprecated and will be removed from pandas in a future version. Use pandas.concat instead.\n",
      "  df=df.append(df2,ignore_index=True)\n",
      "/tmp/ipykernel_681725/2269263605.py:12: FutureWarning: The frame.append method is deprecated and will be removed from pandas in a future version. Use pandas.concat instead.\n",
      "  df=df.append(df2,ignore_index=True)\n"
     ]
    },
    {
     "name": "stdout",
     "output_type": "stream",
     "text": [
      "plate1_12s_19_1_out.csv\n",
      "plate23_12s_49_2_out.csv\n"
     ]
    },
    {
     "name": "stderr",
     "output_type": "stream",
     "text": [
      "/tmp/ipykernel_681725/2269263605.py:12: FutureWarning: The frame.append method is deprecated and will be removed from pandas in a future version. Use pandas.concat instead.\n",
      "  df=df.append(df2,ignore_index=True)\n",
      "/tmp/ipykernel_681725/2269263605.py:12: FutureWarning: The frame.append method is deprecated and will be removed from pandas in a future version. Use pandas.concat instead.\n",
      "  df=df.append(df2,ignore_index=True)\n",
      "/tmp/ipykernel_681725/2269263605.py:12: FutureWarning: The frame.append method is deprecated and will be removed from pandas in a future version. Use pandas.concat instead.\n",
      "  df=df.append(df2,ignore_index=True)\n"
     ]
    },
    {
     "name": "stdout",
     "output_type": "stream",
     "text": [
      "plate23_12s_2_1_out.csv\n",
      "plate23_12s_41_2_out.csv\n",
      "plate23_12s_41_1_out.csv\n"
     ]
    },
    {
     "name": "stderr",
     "output_type": "stream",
     "text": [
      "/tmp/ipykernel_681725/2269263605.py:12: FutureWarning: The frame.append method is deprecated and will be removed from pandas in a future version. Use pandas.concat instead.\n",
      "  df=df.append(df2,ignore_index=True)\n"
     ]
    },
    {
     "name": "stdout",
     "output_type": "stream",
     "text": [
      "plate1_12s_45_2_out.csv\n"
     ]
    },
    {
     "name": "stderr",
     "output_type": "stream",
     "text": [
      "/tmp/ipykernel_681725/2269263605.py:12: FutureWarning: The frame.append method is deprecated and will be removed from pandas in a future version. Use pandas.concat instead.\n",
      "  df=df.append(df2,ignore_index=True)\n",
      "/tmp/ipykernel_681725/2269263605.py:12: FutureWarning: The frame.append method is deprecated and will be removed from pandas in a future version. Use pandas.concat instead.\n",
      "  df=df.append(df2,ignore_index=True)\n"
     ]
    },
    {
     "name": "stdout",
     "output_type": "stream",
     "text": [
      "plate23_12s_16_2_out.csv\n",
      "plate23_12s_61_1_out.csv\n"
     ]
    },
    {
     "name": "stderr",
     "output_type": "stream",
     "text": [
      "/tmp/ipykernel_681725/2269263605.py:12: FutureWarning: The frame.append method is deprecated and will be removed from pandas in a future version. Use pandas.concat instead.\n",
      "  df=df.append(df2,ignore_index=True)\n"
     ]
    },
    {
     "name": "stdout",
     "output_type": "stream",
     "text": [
      "plate1_12s_54_1_out.csv\n"
     ]
    },
    {
     "name": "stderr",
     "output_type": "stream",
     "text": [
      "/tmp/ipykernel_681725/2269263605.py:12: FutureWarning: The frame.append method is deprecated and will be removed from pandas in a future version. Use pandas.concat instead.\n",
      "  df=df.append(df2,ignore_index=True)\n"
     ]
    }
   ],
   "source": [
    "col_nms=['file_nm','sci_nm','count']\n",
    "df=pd.DataFrame(columns=col_nms)\n",
    "df_seqdata=pd.DataFrame(columns=['file_nm','nuc_seq','count'])\n",
    "for file_nm in os.listdir(fld):\n",
    "    print(file_nm)\n",
    "    file = pd.read_table(os.path.join(fld,file_nm))\n",
    "    unique_scinames = np.unique(file.SCIENTIFIC_NAME.dropna())\n",
    "    list_of_vals=[]\n",
    "    for sci_nm in unique_scinames:\n",
    "        list_of_vals.append([file_nm,sci_nm,len(file[file.SCIENTIFIC_NAME==sci_nm])])\n",
    "    df2 = pd.DataFrame(list_of_vals, columns=col_nms)\n",
    "    df=df.append(df2,ignore_index=True)"
   ]
  },
  {
   "cell_type": "code",
   "execution_count": 174,
   "id": "a065032c",
   "metadata": {},
   "outputs": [
    {
     "data": {
      "text/html": [
       "<div>\n",
       "<style scoped>\n",
       "    .dataframe tbody tr th:only-of-type {\n",
       "        vertical-align: middle;\n",
       "    }\n",
       "\n",
       "    .dataframe tbody tr th {\n",
       "        vertical-align: top;\n",
       "    }\n",
       "\n",
       "    .dataframe thead th {\n",
       "        text-align: right;\n",
       "    }\n",
       "</style>\n",
       "<table border=\"1\" class=\"dataframe\">\n",
       "  <thead>\n",
       "    <tr style=\"text-align: right;\">\n",
       "      <th></th>\n",
       "      <th>file_nm</th>\n",
       "      <th>sci_nm</th>\n",
       "      <th>count</th>\n",
       "    </tr>\n",
       "  </thead>\n",
       "  <tbody>\n",
       "    <tr>\n",
       "      <th>5</th>\n",
       "      <td>plate1_12s_13_1_out.csv</td>\n",
       "      <td>Gryllodes</td>\n",
       "      <td>234</td>\n",
       "    </tr>\n",
       "    <tr>\n",
       "      <th>11</th>\n",
       "      <td>plate1_12s_1_1_out.csv</td>\n",
       "      <td>Gryllodes</td>\n",
       "      <td>721</td>\n",
       "    </tr>\n",
       "    <tr>\n",
       "      <th>8</th>\n",
       "      <td>plate1_12s_22_1_out.csv</td>\n",
       "      <td>Gryllodes</td>\n",
       "      <td>1886</td>\n",
       "    </tr>\n",
       "    <tr>\n",
       "      <th>7</th>\n",
       "      <td>plate1_12s_22_2_out.csv</td>\n",
       "      <td>Gryllodes</td>\n",
       "      <td>1749</td>\n",
       "    </tr>\n",
       "    <tr>\n",
       "      <th>19</th>\n",
       "      <td>plate1_12s_24_1_out.csv</td>\n",
       "      <td>Gryllodes</td>\n",
       "      <td>395</td>\n",
       "    </tr>\n",
       "    <tr>\n",
       "      <th>0</th>\n",
       "      <td>plate1_12s_24_2_out.csv</td>\n",
       "      <td>Gryllodes</td>\n",
       "      <td>385</td>\n",
       "    </tr>\n",
       "    <tr>\n",
       "      <th>14</th>\n",
       "      <td>plate1_12s_29_1_out.csv</td>\n",
       "      <td>Gryllodes</td>\n",
       "      <td>501</td>\n",
       "    </tr>\n",
       "    <tr>\n",
       "      <th>1</th>\n",
       "      <td>plate1_12s_29_2_out.csv</td>\n",
       "      <td>Gryllodes</td>\n",
       "      <td>419</td>\n",
       "    </tr>\n",
       "    <tr>\n",
       "      <th>24</th>\n",
       "      <td>plate1_12s_42_1_out.csv</td>\n",
       "      <td>Gryllodes</td>\n",
       "      <td>82</td>\n",
       "    </tr>\n",
       "    <tr>\n",
       "      <th>20</th>\n",
       "      <td>plate1_12s_42_2_out.csv</td>\n",
       "      <td>Gryllodes</td>\n",
       "      <td>96</td>\n",
       "    </tr>\n",
       "    <tr>\n",
       "      <th>3</th>\n",
       "      <td>plate1_12s_50_1_out.csv</td>\n",
       "      <td>Gryllodes</td>\n",
       "      <td>1888</td>\n",
       "    </tr>\n",
       "    <tr>\n",
       "      <th>22</th>\n",
       "      <td>plate1_12s_50_2_out.csv</td>\n",
       "      <td>Gryllodes</td>\n",
       "      <td>1915</td>\n",
       "    </tr>\n",
       "    <tr>\n",
       "      <th>9</th>\n",
       "      <td>plate1_12s_58_1_out.csv</td>\n",
       "      <td>Gryllodes</td>\n",
       "      <td>342</td>\n",
       "    </tr>\n",
       "    <tr>\n",
       "      <th>12</th>\n",
       "      <td>plate1_12s_58_2_out.csv</td>\n",
       "      <td>Gryllodes</td>\n",
       "      <td>312</td>\n",
       "    </tr>\n",
       "    <tr>\n",
       "      <th>17</th>\n",
       "      <td>plate23_12s_17_1_out.csv</td>\n",
       "      <td>Gryllodes</td>\n",
       "      <td>1</td>\n",
       "    </tr>\n",
       "    <tr>\n",
       "      <th>4</th>\n",
       "      <td>plate23_12s_1_1_out.csv</td>\n",
       "      <td>Gryllodes</td>\n",
       "      <td>1</td>\n",
       "    </tr>\n",
       "    <tr>\n",
       "      <th>18</th>\n",
       "      <td>plate23_12s_25_1_out.csv</td>\n",
       "      <td>Gryllodes</td>\n",
       "      <td>1</td>\n",
       "    </tr>\n",
       "    <tr>\n",
       "      <th>13</th>\n",
       "      <td>plate23_12s_26_1_out.csv</td>\n",
       "      <td>Homidia socia</td>\n",
       "      <td>449</td>\n",
       "    </tr>\n",
       "    <tr>\n",
       "      <th>21</th>\n",
       "      <td>plate23_12s_27_1_out.csv</td>\n",
       "      <td>Homidia socia</td>\n",
       "      <td>1</td>\n",
       "    </tr>\n",
       "    <tr>\n",
       "      <th>10</th>\n",
       "      <td>plate23_12s_35_1_out.csv</td>\n",
       "      <td>Halyomorpha halys</td>\n",
       "      <td>157</td>\n",
       "    </tr>\n",
       "    <tr>\n",
       "      <th>25</th>\n",
       "      <td>plate23_12s_41_1_out.csv</td>\n",
       "      <td>Gryllodes</td>\n",
       "      <td>2</td>\n",
       "    </tr>\n",
       "    <tr>\n",
       "      <th>16</th>\n",
       "      <td>plate23_12s_44_1_out.csv</td>\n",
       "      <td>Gryllodes</td>\n",
       "      <td>7</td>\n",
       "    </tr>\n",
       "    <tr>\n",
       "      <th>6</th>\n",
       "      <td>plate23_12s_49_1_out.csv</td>\n",
       "      <td>Gryllodes</td>\n",
       "      <td>200</td>\n",
       "    </tr>\n",
       "    <tr>\n",
       "      <th>2</th>\n",
       "      <td>plate23_12s_65_1_out.csv</td>\n",
       "      <td>Halyomorpha halys</td>\n",
       "      <td>79</td>\n",
       "    </tr>\n",
       "    <tr>\n",
       "      <th>23</th>\n",
       "      <td>plate23_12s_72_1_out.csv</td>\n",
       "      <td>Drosophila simulans</td>\n",
       "      <td>57</td>\n",
       "    </tr>\n",
       "    <tr>\n",
       "      <th>15</th>\n",
       "      <td>plate23_12s_9_1_out.csv</td>\n",
       "      <td>Gryllodes</td>\n",
       "      <td>1</td>\n",
       "    </tr>\n",
       "  </tbody>\n",
       "</table>\n",
       "</div>"
      ],
      "text/plain": [
       "                     file_nm               sci_nm count\n",
       "5    plate1_12s_13_1_out.csv            Gryllodes   234\n",
       "11    plate1_12s_1_1_out.csv            Gryllodes   721\n",
       "8    plate1_12s_22_1_out.csv            Gryllodes  1886\n",
       "7    plate1_12s_22_2_out.csv            Gryllodes  1749\n",
       "19   plate1_12s_24_1_out.csv            Gryllodes   395\n",
       "0    plate1_12s_24_2_out.csv            Gryllodes   385\n",
       "14   plate1_12s_29_1_out.csv            Gryllodes   501\n",
       "1    plate1_12s_29_2_out.csv            Gryllodes   419\n",
       "24   plate1_12s_42_1_out.csv            Gryllodes    82\n",
       "20   plate1_12s_42_2_out.csv            Gryllodes    96\n",
       "3    plate1_12s_50_1_out.csv            Gryllodes  1888\n",
       "22   plate1_12s_50_2_out.csv            Gryllodes  1915\n",
       "9    plate1_12s_58_1_out.csv            Gryllodes   342\n",
       "12   plate1_12s_58_2_out.csv            Gryllodes   312\n",
       "17  plate23_12s_17_1_out.csv            Gryllodes     1\n",
       "4    plate23_12s_1_1_out.csv            Gryllodes     1\n",
       "18  plate23_12s_25_1_out.csv            Gryllodes     1\n",
       "13  plate23_12s_26_1_out.csv        Homidia socia   449\n",
       "21  plate23_12s_27_1_out.csv        Homidia socia     1\n",
       "10  plate23_12s_35_1_out.csv    Halyomorpha halys   157\n",
       "25  plate23_12s_41_1_out.csv            Gryllodes     2\n",
       "16  plate23_12s_44_1_out.csv            Gryllodes     7\n",
       "6   plate23_12s_49_1_out.csv            Gryllodes   200\n",
       "2   plate23_12s_65_1_out.csv    Halyomorpha halys    79\n",
       "23  plate23_12s_72_1_out.csv  Drosophila simulans    57\n",
       "15   plate23_12s_9_1_out.csv            Gryllodes     1"
      ]
     },
     "execution_count": 174,
     "metadata": {},
     "output_type": "execute_result"
    }
   ],
   "source": [
    "df.sort_values('file_nm')"
   ]
  },
  {
   "cell_type": "code",
   "execution_count": null,
   "id": "a4b56dbd",
   "metadata": {},
   "outputs": [],
   "source": [
    "col_nms=['file_nm','sci_nm','count']\n",
    "df=pd.DataFrame(columns=col_nms)\n",
    "df_seqdata=pd.DataFrame(columns=['file_nm','nuc_seq','count'])\n",
    "for file_nm in os.listdir(fld):\n",
    "    print(file_nm)\n",
    "    file = pd.read_table(os.path.join(fld,file_nm))\n",
    "    unique_scinames = np.unique(file.SCIENTIFIC_NAME.dropna())\n",
    "    list_of_vals=[]\n",
    "    for sci_nm in unique_scinames:\n",
    "        list_of_vals.append([file_nm,sci_nm,len(file[file.SCIENTIFIC_NAME==sci_nm])])\n",
    "    df2 = pd.DataFrame(list_of_vals, columns=col_nms)\n",
    "    df=df.append(df2,ignore_index=True)"
   ]
  },
  {
   "cell_type": "code",
   "execution_count": null,
   "id": "5c933d8b",
   "metadata": {},
   "outputs": [],
   "source": []
  },
  {
   "cell_type": "code",
   "execution_count": 176,
   "id": "0d52fa97",
   "metadata": {},
   "outputs": [],
   "source": [
    "df.to_csv('/home/dennislab2/Desktop/summary.csv')"
   ]
  },
  {
   "cell_type": "code",
   "execution_count": 2,
   "id": "44deaa38",
   "metadata": {},
   "outputs": [],
   "source": [
    "df = pd.read_csv('/Users/dennise/Desktop/summary.csv')"
   ]
  },
  {
   "cell_type": "code",
   "execution_count": 3,
   "id": "d23627eb",
   "metadata": {},
   "outputs": [
    {
     "data": {
      "text/html": [
       "<div>\n",
       "<style scoped>\n",
       "    .dataframe tbody tr th:only-of-type {\n",
       "        vertical-align: middle;\n",
       "    }\n",
       "\n",
       "    .dataframe tbody tr th {\n",
       "        vertical-align: top;\n",
       "    }\n",
       "\n",
       "    .dataframe thead th {\n",
       "        text-align: right;\n",
       "    }\n",
       "</style>\n",
       "<table border=\"1\" class=\"dataframe\">\n",
       "  <thead>\n",
       "    <tr style=\"text-align: right;\">\n",
       "      <th></th>\n",
       "      <th>Unnamed: 0</th>\n",
       "      <th>file_nm</th>\n",
       "      <th>sci_nm</th>\n",
       "      <th>count</th>\n",
       "    </tr>\n",
       "  </thead>\n",
       "  <tbody>\n",
       "    <tr>\n",
       "      <th>0</th>\n",
       "      <td>0</td>\n",
       "      <td>uniplant_10_1_out.tsv</td>\n",
       "      <td>Glycine subgen. Soja</td>\n",
       "      <td>1</td>\n",
       "    </tr>\n",
       "    <tr>\n",
       "      <th>1</th>\n",
       "      <td>1</td>\n",
       "      <td>uniplant_10_1_out.tsv</td>\n",
       "      <td>Hordeinae</td>\n",
       "      <td>1</td>\n",
       "    </tr>\n",
       "    <tr>\n",
       "      <th>2</th>\n",
       "      <td>2</td>\n",
       "      <td>uniplant_10_1_out.tsv</td>\n",
       "      <td>Petrosaviidae</td>\n",
       "      <td>110</td>\n",
       "    </tr>\n",
       "    <tr>\n",
       "      <th>3</th>\n",
       "      <td>3</td>\n",
       "      <td>uniplant_10_1_out.tsv</td>\n",
       "      <td>Potentilla</td>\n",
       "      <td>34</td>\n",
       "    </tr>\n",
       "    <tr>\n",
       "      <th>4</th>\n",
       "      <td>4</td>\n",
       "      <td>uniplant_10_1_out.tsv</td>\n",
       "      <td>Potentilla simplex</td>\n",
       "      <td>18</td>\n",
       "    </tr>\n",
       "    <tr>\n",
       "      <th>...</th>\n",
       "      <td>...</td>\n",
       "      <td>...</td>\n",
       "      <td>...</td>\n",
       "      <td>...</td>\n",
       "    </tr>\n",
       "    <tr>\n",
       "      <th>503</th>\n",
       "      <td>503</td>\n",
       "      <td>uniplant_8_1_out.tsv</td>\n",
       "      <td>Triticum</td>\n",
       "      <td>107</td>\n",
       "    </tr>\n",
       "    <tr>\n",
       "      <th>504</th>\n",
       "      <td>504</td>\n",
       "      <td>uniplant_8_1_out.tsv</td>\n",
       "      <td>Triticum aestivum</td>\n",
       "      <td>8750</td>\n",
       "    </tr>\n",
       "    <tr>\n",
       "      <th>505</th>\n",
       "      <td>505</td>\n",
       "      <td>uniplant_9_1_out.tsv</td>\n",
       "      <td>Petrosaviidae</td>\n",
       "      <td>27</td>\n",
       "    </tr>\n",
       "    <tr>\n",
       "      <th>506</th>\n",
       "      <td>506</td>\n",
       "      <td>uniplant_9_1_out.tsv</td>\n",
       "      <td>Triticum</td>\n",
       "      <td>8</td>\n",
       "    </tr>\n",
       "    <tr>\n",
       "      <th>507</th>\n",
       "      <td>507</td>\n",
       "      <td>uniplant_9_1_out.tsv</td>\n",
       "      <td>Triticum aestivum</td>\n",
       "      <td>1723</td>\n",
       "    </tr>\n",
       "  </tbody>\n",
       "</table>\n",
       "<p>508 rows × 4 columns</p>\n",
       "</div>"
      ],
      "text/plain": [
       "     Unnamed: 0                file_nm                sci_nm  count\n",
       "0             0  uniplant_10_1_out.tsv  Glycine subgen. Soja      1\n",
       "1             1  uniplant_10_1_out.tsv             Hordeinae      1\n",
       "2             2  uniplant_10_1_out.tsv         Petrosaviidae    110\n",
       "3             3  uniplant_10_1_out.tsv            Potentilla     34\n",
       "4             4  uniplant_10_1_out.tsv    Potentilla simplex     18\n",
       "..          ...                    ...                   ...    ...\n",
       "503         503   uniplant_8_1_out.tsv              Triticum    107\n",
       "504         504   uniplant_8_1_out.tsv     Triticum aestivum   8750\n",
       "505         505   uniplant_9_1_out.tsv         Petrosaviidae     27\n",
       "506         506   uniplant_9_1_out.tsv              Triticum      8\n",
       "507         507   uniplant_9_1_out.tsv     Triticum aestivum   1723\n",
       "\n",
       "[508 rows x 4 columns]"
      ]
     },
     "execution_count": 3,
     "metadata": {},
     "output_type": "execute_result"
    }
   ],
   "source": [
    "df"
   ]
  },
  {
   "cell_type": "code",
   "execution_count": 12,
   "id": "ca3659d7",
   "metadata": {},
   "outputs": [
    {
     "data": {
      "text/plain": [
       "Index(['BEST_MATCH_IDS', 'ID', 'BEST_IDENTITY', 'ID_STATUS', 'DEFINITION',\n",
       "       'TAXID', 'SCIENTIFIC_NAME', 'QUALITY', 'NUC_SEQ', 'BEST_MATCH_TAXIDS',\n",
       "       'COUNT'],\n",
       "      dtype='object')"
      ]
     },
     "execution_count": 12,
     "metadata": {},
     "output_type": "execute_result"
    }
   ],
   "source": [
    "file.columns"
   ]
  },
  {
   "cell_type": "code",
   "execution_count": 13,
   "id": "60d68974",
   "metadata": {},
   "outputs": [
    {
     "data": {
      "text/html": [
       "<div>\n",
       "<style scoped>\n",
       "    .dataframe tbody tr th:only-of-type {\n",
       "        vertical-align: middle;\n",
       "    }\n",
       "\n",
       "    .dataframe tbody tr th {\n",
       "        vertical-align: top;\n",
       "    }\n",
       "\n",
       "    .dataframe thead th {\n",
       "        text-align: right;\n",
       "    }\n",
       "</style>\n",
       "<table border=\"1\" class=\"dataframe\">\n",
       "  <thead>\n",
       "    <tr style=\"text-align: right;\">\n",
       "      <th></th>\n",
       "      <th>BEST_MATCH_IDS</th>\n",
       "      <th>ID</th>\n",
       "      <th>BEST_IDENTITY</th>\n",
       "      <th>ID_STATUS</th>\n",
       "      <th>DEFINITION</th>\n",
       "      <th>TAXID</th>\n",
       "      <th>SCIENTIFIC_NAME</th>\n",
       "      <th>QUALITY</th>\n",
       "      <th>NUC_SEQ</th>\n",
       "      <th>BEST_MATCH_TAXIDS</th>\n",
       "      <th>COUNT</th>\n",
       "    </tr>\n",
       "  </thead>\n",
       "  <tbody>\n",
       "    <tr>\n",
       "      <th>0</th>\n",
       "      <td>NaN</td>\n",
       "      <td>MN00399:123:000H537V2:1:11101:4877:1012</td>\n",
       "      <td>0.00000</td>\n",
       "      <td>False</td>\n",
       "      <td>1:N:0:AGCCTATN+GTTACGCA</td>\n",
       "      <td>None</td>\n",
       "      <td>NaN</td>\n",
       "      <td>[37, 37, 37, 2, 37, 37, 32, 37, 37, 37, 37, 14...</td>\n",
       "      <td>cccntttgacttggggtcacggtcgaagnnacgtgcgcttcgtttg...</td>\n",
       "      <td>NaN</td>\n",
       "      <td>1</td>\n",
       "    </tr>\n",
       "    <tr>\n",
       "      <th>1</th>\n",
       "      <td>NaN</td>\n",
       "      <td>MN00399:123:000H537V2:1:11101:12055:1020</td>\n",
       "      <td>0.00000</td>\n",
       "      <td>False</td>\n",
       "      <td>1:N:0:AGCCTATN+GTTACGCA</td>\n",
       "      <td>None</td>\n",
       "      <td>NaN</td>\n",
       "      <td>[37, 37, 37, 37, 37, 37, 32, 37, 37, 37, 37, 3...</td>\n",
       "      <td>tgtgaattgcaggatcccgcgaaccatcnngtctttgaacgcaagt...</td>\n",
       "      <td>NaN</td>\n",
       "      <td>1</td>\n",
       "    </tr>\n",
       "    <tr>\n",
       "      <th>2</th>\n",
       "      <td>NaN</td>\n",
       "      <td>MN00399:123:000H537V2:1:11101:21707:1025</td>\n",
       "      <td>0.00000</td>\n",
       "      <td>False</td>\n",
       "      <td>1:N:0:AGCCTATN+GTTACGCA</td>\n",
       "      <td>None</td>\n",
       "      <td>NaN</td>\n",
       "      <td>[37, 37, 37, 37, 37, 37, 37, 37, 14, 14, 37, 3...</td>\n",
       "      <td>cccgtttgacttgaggtcgcggtcgaagcgacgtgcgcttcgtttg...</td>\n",
       "      <td>NaN</td>\n",
       "      <td>1</td>\n",
       "    </tr>\n",
       "    <tr>\n",
       "      <th>3</th>\n",
       "      <td>['OU343190']</td>\n",
       "      <td>MN00399:123:000H537V2:1:11101:13162:1048</td>\n",
       "      <td>0.97351</td>\n",
       "      <td>True</td>\n",
       "      <td>1:N:0:AGCCTATC+GTTACGCA</td>\n",
       "      <td>4565</td>\n",
       "      <td>Triticum aestivum</td>\n",
       "      <td>[37, 37, 37, 14, 37, 37, 37, 37, 37, 37, 37, 3...</td>\n",
       "      <td>tgtgaattgcaggatcccgcgaaccatcgagtctttgaacgcaagt...</td>\n",
       "      <td>[4565]</td>\n",
       "      <td>1</td>\n",
       "    </tr>\n",
       "    <tr>\n",
       "      <th>4</th>\n",
       "      <td>NaN</td>\n",
       "      <td>MN00399:123:000H537V2:1:11101:8866:1056</td>\n",
       "      <td>0.00000</td>\n",
       "      <td>False</td>\n",
       "      <td>1:N:0:AGCCTATC+GTTACGCA</td>\n",
       "      <td>None</td>\n",
       "      <td>NaN</td>\n",
       "      <td>[32, 37, 37, 37, 37, 37, 37, 37, 37, 32, 32, 3...</td>\n",
       "      <td>cccgtttgatttggggtctcggtcgaagcgacgtgcgcttcgtttg...</td>\n",
       "      <td>NaN</td>\n",
       "      <td>1</td>\n",
       "    </tr>\n",
       "    <tr>\n",
       "      <th>...</th>\n",
       "      <td>...</td>\n",
       "      <td>...</td>\n",
       "      <td>...</td>\n",
       "      <td>...</td>\n",
       "      <td>...</td>\n",
       "      <td>...</td>\n",
       "      <td>...</td>\n",
       "      <td>...</td>\n",
       "      <td>...</td>\n",
       "      <td>...</td>\n",
       "      <td>...</td>\n",
       "    </tr>\n",
       "    <tr>\n",
       "      <th>47559</th>\n",
       "      <td>NaN</td>\n",
       "      <td>MN00399:123:000H537V2:1:23104:19966:20286</td>\n",
       "      <td>0.00000</td>\n",
       "      <td>False</td>\n",
       "      <td>1:N:0:AGCCTATC+GTTACGCA</td>\n",
       "      <td>None</td>\n",
       "      <td>NaN</td>\n",
       "      <td>[37, 37, 37, 32, 37, 37, 37, 37, 37, 37, 37, 3...</td>\n",
       "      <td>cccgtttgatttggggtcgcggtcgaagcgacgtgcgcttcgtttg...</td>\n",
       "      <td>NaN</td>\n",
       "      <td>1</td>\n",
       "    </tr>\n",
       "    <tr>\n",
       "      <th>47560</th>\n",
       "      <td>NaN</td>\n",
       "      <td>MN00399:123:000H537V2:1:23104:17571:20294</td>\n",
       "      <td>0.00000</td>\n",
       "      <td>False</td>\n",
       "      <td>1:N:0:AGCCTATC+GTTACACA</td>\n",
       "      <td>None</td>\n",
       "      <td>NaN</td>\n",
       "      <td>[37, 37, 37, 37, 37, 37, 37, 37, 37, 37, 37, 3...</td>\n",
       "      <td>tgtgaattgcaggatcccgtgaaccatcgagtttttgaacgcaagt...</td>\n",
       "      <td>NaN</td>\n",
       "      <td>1</td>\n",
       "    </tr>\n",
       "    <tr>\n",
       "      <th>47561</th>\n",
       "      <td>NaN</td>\n",
       "      <td>MN00399:123:000H537V2:1:23104:22376:20341</td>\n",
       "      <td>0.00000</td>\n",
       "      <td>False</td>\n",
       "      <td>1:N:0:AGCCTATC+GTTACGCA</td>\n",
       "      <td>None</td>\n",
       "      <td>NaN</td>\n",
       "      <td>[32, 37, 37, 37, 37, 37, 37, 37, 37, 37, 37, 3...</td>\n",
       "      <td>cgaagcgacgtgcgcttcgtttgttgggtcgttcaaaggtcataat...</td>\n",
       "      <td>NaN</td>\n",
       "      <td>1</td>\n",
       "    </tr>\n",
       "    <tr>\n",
       "      <th>47562</th>\n",
       "      <td>NaN</td>\n",
       "      <td>MN00399:123:000H537V2:1:23104:4771:20347</td>\n",
       "      <td>0.00000</td>\n",
       "      <td>False</td>\n",
       "      <td>1:N:0:AGCCTATC+GTTACGCA</td>\n",
       "      <td>None</td>\n",
       "      <td>NaN</td>\n",
       "      <td>[37, 37, 37, 32, 37, 37, 14, 32, 37, 37, 37, 3...</td>\n",
       "      <td>cccgcctgatttggggtcgcggtcgaagcgacgtgcgcttcgtttg...</td>\n",
       "      <td>NaN</td>\n",
       "      <td>1</td>\n",
       "    </tr>\n",
       "    <tr>\n",
       "      <th>47563</th>\n",
       "      <td>NaN</td>\n",
       "      <td>MN00399:123:000H537V2:1:23104:23761:20382</td>\n",
       "      <td>0.00000</td>\n",
       "      <td>False</td>\n",
       "      <td>1:N:0:AGCCTATC+GTTACGCA</td>\n",
       "      <td>None</td>\n",
       "      <td>NaN</td>\n",
       "      <td>[2, 37, 37, 37, 37, 37, 32, 32, 32, 37, 28, 37...</td>\n",
       "      <td>nccgtttgatttggggtcgcgttgaaagcgtcgacgaatcgacacg...</td>\n",
       "      <td>NaN</td>\n",
       "      <td>1</td>\n",
       "    </tr>\n",
       "  </tbody>\n",
       "</table>\n",
       "<p>47564 rows × 11 columns</p>\n",
       "</div>"
      ],
      "text/plain": [
       "      BEST_MATCH_IDS                                         ID  \\\n",
       "0                NaN    MN00399:123:000H537V2:1:11101:4877:1012   \n",
       "1                NaN   MN00399:123:000H537V2:1:11101:12055:1020   \n",
       "2                NaN   MN00399:123:000H537V2:1:11101:21707:1025   \n",
       "3       ['OU343190']   MN00399:123:000H537V2:1:11101:13162:1048   \n",
       "4                NaN    MN00399:123:000H537V2:1:11101:8866:1056   \n",
       "...              ...                                        ...   \n",
       "47559            NaN  MN00399:123:000H537V2:1:23104:19966:20286   \n",
       "47560            NaN  MN00399:123:000H537V2:1:23104:17571:20294   \n",
       "47561            NaN  MN00399:123:000H537V2:1:23104:22376:20341   \n",
       "47562            NaN   MN00399:123:000H537V2:1:23104:4771:20347   \n",
       "47563            NaN  MN00399:123:000H537V2:1:23104:23761:20382   \n",
       "\n",
       "       BEST_IDENTITY  ID_STATUS               DEFINITION TAXID  \\\n",
       "0            0.00000      False  1:N:0:AGCCTATN+GTTACGCA  None   \n",
       "1            0.00000      False  1:N:0:AGCCTATN+GTTACGCA  None   \n",
       "2            0.00000      False  1:N:0:AGCCTATN+GTTACGCA  None   \n",
       "3            0.97351       True  1:N:0:AGCCTATC+GTTACGCA  4565   \n",
       "4            0.00000      False  1:N:0:AGCCTATC+GTTACGCA  None   \n",
       "...              ...        ...                      ...   ...   \n",
       "47559        0.00000      False  1:N:0:AGCCTATC+GTTACGCA  None   \n",
       "47560        0.00000      False  1:N:0:AGCCTATC+GTTACACA  None   \n",
       "47561        0.00000      False  1:N:0:AGCCTATC+GTTACGCA  None   \n",
       "47562        0.00000      False  1:N:0:AGCCTATC+GTTACGCA  None   \n",
       "47563        0.00000      False  1:N:0:AGCCTATC+GTTACGCA  None   \n",
       "\n",
       "         SCIENTIFIC_NAME                                            QUALITY  \\\n",
       "0                    NaN  [37, 37, 37, 2, 37, 37, 32, 37, 37, 37, 37, 14...   \n",
       "1                    NaN  [37, 37, 37, 37, 37, 37, 32, 37, 37, 37, 37, 3...   \n",
       "2                    NaN  [37, 37, 37, 37, 37, 37, 37, 37, 14, 14, 37, 3...   \n",
       "3      Triticum aestivum  [37, 37, 37, 14, 37, 37, 37, 37, 37, 37, 37, 3...   \n",
       "4                    NaN  [32, 37, 37, 37, 37, 37, 37, 37, 37, 32, 32, 3...   \n",
       "...                  ...                                                ...   \n",
       "47559                NaN  [37, 37, 37, 32, 37, 37, 37, 37, 37, 37, 37, 3...   \n",
       "47560                NaN  [37, 37, 37, 37, 37, 37, 37, 37, 37, 37, 37, 3...   \n",
       "47561                NaN  [32, 37, 37, 37, 37, 37, 37, 37, 37, 37, 37, 3...   \n",
       "47562                NaN  [37, 37, 37, 32, 37, 37, 14, 32, 37, 37, 37, 3...   \n",
       "47563                NaN  [2, 37, 37, 37, 37, 37, 32, 32, 32, 37, 28, 37...   \n",
       "\n",
       "                                                 NUC_SEQ BEST_MATCH_TAXIDS  \\\n",
       "0      cccntttgacttggggtcacggtcgaagnnacgtgcgcttcgtttg...               NaN   \n",
       "1      tgtgaattgcaggatcccgcgaaccatcnngtctttgaacgcaagt...               NaN   \n",
       "2      cccgtttgacttgaggtcgcggtcgaagcgacgtgcgcttcgtttg...               NaN   \n",
       "3      tgtgaattgcaggatcccgcgaaccatcgagtctttgaacgcaagt...            [4565]   \n",
       "4      cccgtttgatttggggtctcggtcgaagcgacgtgcgcttcgtttg...               NaN   \n",
       "...                                                  ...               ...   \n",
       "47559  cccgtttgatttggggtcgcggtcgaagcgacgtgcgcttcgtttg...               NaN   \n",
       "47560  tgtgaattgcaggatcccgtgaaccatcgagtttttgaacgcaagt...               NaN   \n",
       "47561  cgaagcgacgtgcgcttcgtttgttgggtcgttcaaaggtcataat...               NaN   \n",
       "47562  cccgcctgatttggggtcgcggtcgaagcgacgtgcgcttcgtttg...               NaN   \n",
       "47563  nccgtttgatttggggtcgcgttgaaagcgtcgacgaatcgacacg...               NaN   \n",
       "\n",
       "       COUNT  \n",
       "0          1  \n",
       "1          1  \n",
       "2          1  \n",
       "3          1  \n",
       "4          1  \n",
       "...      ...  \n",
       "47559      1  \n",
       "47560      1  \n",
       "47561      1  \n",
       "47562      1  \n",
       "47563      1  \n",
       "\n",
       "[47564 rows x 11 columns]"
      ]
     },
     "execution_count": 13,
     "metadata": {},
     "output_type": "execute_result"
    }
   ],
   "source": [
    "file"
   ]
  },
  {
   "cell_type": "code",
   "execution_count": 15,
   "id": "bb654642",
   "metadata": {},
   "outputs": [
    {
     "data": {
      "text/plain": [
       "1"
      ]
     },
     "execution_count": 15,
     "metadata": {},
     "output_type": "execute_result"
    }
   ],
   "source": []
  },
  {
   "cell_type": "code",
   "execution_count": null,
   "id": "b29f469a",
   "metadata": {},
   "outputs": [],
   "source": [
    "\n"
   ]
  },
  {
   "cell_type": "code",
   "execution_count": null,
   "id": "4224583a",
   "metadata": {},
   "outputs": [],
   "source": []
  },
  {
   "cell_type": "code",
   "execution_count": null,
   "id": "450865af",
   "metadata": {},
   "outputs": [],
   "source": []
  },
  {
   "cell_type": "code",
   "execution_count": null,
   "id": "b163856e",
   "metadata": {},
   "outputs": [],
   "source": []
  },
  {
   "cell_type": "code",
   "execution_count": null,
   "id": "3beda97c",
   "metadata": {},
   "outputs": [],
   "source": []
  }
 ],
 "metadata": {
  "kernelspec": {
   "display_name": "Python 3 (ipykernel)",
   "language": "python",
   "name": "python3"
  },
  "language_info": {
   "codemirror_mode": {
    "name": "ipython",
    "version": 3
   },
   "file_extension": ".py",
   "mimetype": "text/x-python",
   "name": "python",
   "nbconvert_exporter": "python",
   "pygments_lexer": "ipython3",
   "version": "3.11.5"
  }
 },
 "nbformat": 4,
 "nbformat_minor": 5
}
