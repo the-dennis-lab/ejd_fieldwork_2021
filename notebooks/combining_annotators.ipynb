{
 "cells": [
  {
   "cell_type": "markdown",
   "id": "64667447-6bd8-4f82-bcf4-de95b0d0ccb3",
   "metadata": {},
   "source": [
    "# Purpose\n",
    "- to combine annotations across experimenters/labelers for maDLC and convert the resulting \"fixed\" csvs into \"fixed\" h5 files"
   ]
  },
  {
   "cell_type": "markdown",
   "id": "bcecf73e-1840-4f4e-9b95-65437fd11e19",
   "metadata": {},
   "source": [
    "# Imports"
   ]
  },
  {
   "cell_type": "code",
   "execution_count": 1,
   "id": "365a751d-f140-4458-b421-74229ad99cb6",
   "metadata": {},
   "outputs": [],
   "source": [
    "import pandas as pd\n",
    "import numpy as np\n",
    "from pathlib import Path\n",
    "import os, glob, sys, yaml\n",
    "from yaml.loader import SafeLoader"
   ]
  },
  {
   "cell_type": "markdown",
   "id": "0a1b642e-2a0e-4bab-b994-f1d72125a8c6",
   "metadata": {},
   "source": [
    "# Functions"
   ]
  },
  {
   "cell_type": "markdown",
   "id": "2f461c10-811c-4440-aa1c-41ae48a535d9",
   "metadata": {},
   "source": [
    "# Use case"
   ]
  },
  {
   "cell_type": "markdown",
   "id": "5a93cfb8-34b5-4132-a6e1-09b6c70e9f5e",
   "metadata": {},
   "source": [
    "# Procedure"
   ]
  },
  {
   "cell_type": "code",
   "execution_count": 2,
   "id": "efa79a23-0cd4-4da3-8447-66abfadc11bd",
   "metadata": {},
   "outputs": [],
   "source": [
    "# first, put everything in the same folder\n",
    "# get a list of folders within that folder\n",
    "# open a folder, get the csv. \n",
    "# \n",
    "# change the name in the file\n",
    "# add the video name to a list\n",
    "# save the csv\n",
    "# remake the hv from the new csv\n",
    "# print something to say where we're at"
   ]
  },
  {
   "cell_type": "code",
   "execution_count": 3,
   "id": "71a1b58c",
   "metadata": {},
   "outputs": [
    {
     "name": "stdout",
     "output_type": "stream",
     "text": [
      "loaded all data\n"
     ]
    }
   ],
   "source": [
    "fld = '/home/dennislab2/Desktop/stony_ford-Jessica-2022-01-13/labeled-data'\n",
    "list_of_subflds=os.listdir(fld)\n",
    "subfld = list_of_subflds[0]\n",
    "csv=glob.glob(os.path.join(fld,subfld)+'/*.csv')[0]\n",
    "csv_data=pd.read_csv(csv,header=None)\n",
    "\n",
    "# define folders\n",
    "base_dir = '/home/dennislab2/Desktop/stony_ford-Jessica-2022-01-13'\n",
    "fld = os.path.join(base_dir,'labeled-data')\n",
    "video_fld = os.path.join(base_dir,'videos')\n",
    "if not os.path.isdir(video_fld):\n",
    "    os.mkdir(video_fld)\n",
    "\n",
    "# specify the location and then load the config file\n",
    "config='/home/dennislab2/Desktop/stony_ford-Jessica-2022-01-13/config.yaml'\n",
    "with open(config) as f:\n",
    "    config_data=yaml.load(f,Loader=SafeLoader)\n",
    "# get crop_val\n",
    "crop_val=config_data['video_sets'][list(config_data['video_sets'].keys())[0]]\n",
    "    \n",
    "# make a list of annotated video folders\n",
    "list_of_subflds=os.listdir(fld)\n",
    "\n",
    "print('loaded all data')"
   ]
  },
  {
   "cell_type": "code",
   "execution_count": 4,
   "id": "b6fa8699",
   "metadata": {},
   "outputs": [
    {
     "name": "stdout",
     "output_type": "stream",
     "text": [
      "in 05292021_25B_028, #0 of 128\n",
      "video string is 05292021_25B_028\n",
      "making /home/dennislab2/Desktop/stony_ford-Jessica-2022-01-13/videos/05292021_25B_028.AVI\n",
      "in 07312021_12B_085, #1 of 128\n",
      "video string is 07312021_12B_085\n",
      "making /home/dennislab2/Desktop/stony_ford-Jessica-2022-01-13/videos/07312021_12B_085.AVI\n",
      "in 07092021_2A_003_labeled, #2 of 128\n",
      "skipping 07092021_2A_003_labeled\n",
      "in 05292021_25B_028_labeled, #3 of 128\n",
      "skipping 05292021_25B_028_labeled\n",
      "in 06122021_17A_353_labeled, #4 of 128\n",
      "skipping 06122021_17A_353_labeled\n",
      "in 08142021_4A_004, #5 of 128\n",
      "video string is 08142021_4A_004\n",
      "making /home/dennislab2/Desktop/stony_ford-Jessica-2022-01-13/videos/08142021_4A_004.AVI\n",
      "in 07092021_5A_160_labeled, #6 of 128\n",
      "skipping 07092021_5A_160_labeled\n",
      "in 08142021_4A_004_labeled, #7 of 128\n",
      "skipping 08142021_4A_004_labeled\n",
      "in 07312021_9B_028, #8 of 128\n",
      "video string is 07312021_9B_028\n",
      "making /home/dennislab2/Desktop/stony_ford-Jessica-2022-01-13/videos/07312021_9B_028.AVI\n",
      "in 07092021_6A_040, #9 of 128\n",
      "video string is 07092021_6A_040\n",
      "making /home/dennislab2/Desktop/stony_ford-Jessica-2022-01-13/videos/07092021_6A_040.AVI\n",
      "in 05292021_09B_11, #10 of 128\n",
      "video string is 05292021_09B_11\n",
      "making /home/dennislab2/Desktop/stony_ford-Jessica-2022-01-13/videos/05292021_09B_11.AVI\n",
      "in 07312021_13B_216, #11 of 128\n",
      "video string is 07312021_13B_216\n",
      "making /home/dennislab2/Desktop/stony_ford-Jessica-2022-01-13/videos/07312021_13B_216.AVI\n",
      "in 07092021_2A_001, #12 of 128\n",
      "video string is 07092021_2A_001\n",
      "making /home/dennislab2/Desktop/stony_ford-Jessica-2022-01-13/videos/07092021_2A_001.AVI\n",
      "in 07312021_3B_134, #13 of 128\n",
      "video string is 07312021_3B_134\n",
      "making /home/dennislab2/Desktop/stony_ford-Jessica-2022-01-13/videos/07312021_3B_134.AVI\n",
      "in 07312021_13B_216_labeled, #14 of 128\n",
      "skipping 07312021_13B_216_labeled\n",
      "in 05292021_25B_029_labeled, #15 of 128\n",
      "skipping 05292021_25B_029_labeled\n",
      "in 07312021_12B_085_labeled, #16 of 128\n",
      "skipping 07312021_12B_085_labeled\n",
      "in 09122021_6B_019_labeled, #17 of 128\n",
      "skipping 09122021_6B_019_labeled\n",
      "in 05292021_06B_62_labeled, #18 of 128\n",
      "skipping 05292021_06B_62_labeled\n",
      "in 06122021_7A_643, #19 of 128\n",
      "video string is 06122021_7A_643\n",
      "making /home/dennislab2/Desktop/stony_ford-Jessica-2022-01-13/videos/06122021_7A_643.AVI\n",
      "in 07092021_6A_354_labeled, #20 of 128\n",
      "skipping 07092021_6A_354_labeled\n",
      "in 05292021_24B_027_labeled, #21 of 128\n",
      "skipping 05292021_24B_027_labeled\n",
      "in 07092021_12A_066, #22 of 128\n",
      "video string is 07092021_12A_066\n",
      "making /home/dennislab2/Desktop/stony_ford-Jessica-2022-01-13/videos/07092021_12A_066.AVI\n",
      "in 05292021_06B_62, #23 of 128\n",
      "video string is 05292021_06B_62\n",
      "making /home/dennislab2/Desktop/stony_ford-Jessica-2022-01-13/videos/05292021_06B_62.AVI\n",
      "in 07092021_12A_005, #24 of 128\n",
      "video string is 07092021_12A_005\n",
      "making /home/dennislab2/Desktop/stony_ford-Jessica-2022-01-13/videos/07092021_12A_005.AVI\n",
      "in 06122021_12A_051, #25 of 128\n",
      "video string is 06122021_12A_051\n",
      "making /home/dennislab2/Desktop/stony_ford-Jessica-2022-01-13/videos/06122021_12A_051.AVI\n",
      "in 09122021_6B_019, #26 of 128\n",
      "video string is 09122021_6B_019\n",
      "making /home/dennislab2/Desktop/stony_ford-Jessica-2022-01-13/videos/09122021_6B_019.AVI\n",
      "in 09122021_24A_009, #27 of 128\n",
      "video string is 09122021_24A_009\n",
      "making /home/dennislab2/Desktop/stony_ford-Jessica-2022-01-13/videos/09122021_24A_009.AVI\n",
      "in 06202021_25B_101, #28 of 128\n",
      "video string is 06202021_25B_101\n",
      "making /home/dennislab2/Desktop/stony_ford-Jessica-2022-01-13/videos/06202021_25B_101.AVI\n",
      "in 05292021_25B_023_labeled, #29 of 128\n",
      "skipping 05292021_25B_023_labeled\n",
      "in 05292021_25B_047_labeled, #30 of 128\n",
      "skipping 05292021_25B_047_labeled\n",
      "in 05292021_25B_047, #31 of 128\n",
      "video string is 05292021_25B_047\n",
      "making /home/dennislab2/Desktop/stony_ford-Jessica-2022-01-13/videos/05292021_25B_047.AVI\n",
      "in 08142021_22A_318_labeled, #32 of 128\n",
      "skipping 08142021_22A_318_labeled\n",
      "in 05292021_25B_042, #33 of 128\n",
      "video string is 05292021_25B_042\n",
      "making /home/dennislab2/Desktop/stony_ford-Jessica-2022-01-13/videos/05292021_25B_042.AVI\n",
      "in 06122021_2A_011_labeled, #34 of 128\n",
      "skipping 06122021_2A_011_labeled\n",
      "in 06122021_12A_166_labeled, #35 of 128\n",
      "skipping 06122021_12A_166_labeled\n",
      "in 07092021_2A_022_labeled, #36 of 128\n",
      "skipping 07092021_2A_022_labeled\n",
      "in 06122021_1A_341, #37 of 128\n",
      "video string is 06122021_1A_341\n",
      "making /home/dennislab2/Desktop/stony_ford-Jessica-2022-01-13/videos/06122021_1A_341.AVI\n",
      "in 06122021_6A_475, #38 of 128\n",
      "video string is 06122021_6A_475\n",
      "making /home/dennislab2/Desktop/stony_ford-Jessica-2022-01-13/videos/06122021_6A_475.AVI\n",
      "in 07092021_3A_022, #39 of 128\n",
      "video string is 07092021_3A_022\n",
      "making /home/dennislab2/Desktop/stony_ford-Jessica-2022-01-13/videos/07092021_3A_022.AVI\n",
      "in 06122021_6A_008_labeled, #40 of 128\n",
      "skipping 06122021_6A_008_labeled\n",
      "in 07092021_13A_049_labeled, #41 of 128\n",
      "skipping 07092021_13A_049_labeled\n",
      "in 07312021_9B_032, #42 of 128\n",
      "video string is 07312021_9B_032\n",
      "making /home/dennislab2/Desktop/stony_ford-Jessica-2022-01-13/videos/07312021_9B_032.AVI\n",
      "in 08142021_22A_318, #43 of 128\n",
      "video string is 08142021_22A_318\n",
      "making /home/dennislab2/Desktop/stony_ford-Jessica-2022-01-13/videos/08142021_22A_318.AVI\n",
      "in 09122021_24A_094, #44 of 128\n",
      "video string is 09122021_24A_094\n",
      "making /home/dennislab2/Desktop/stony_ford-Jessica-2022-01-13/videos/09122021_24A_094.AVI\n",
      "in 07312021_3B_134_labeled, #45 of 128\n",
      "skipping 07312021_3B_134_labeled\n",
      "in 07092021_8A_626_labeled, #46 of 128\n",
      "skipping 07092021_8A_626_labeled\n",
      "in 07312021_17B_157, #47 of 128\n",
      "video string is 07312021_17B_157\n",
      "making /home/dennislab2/Desktop/stony_ford-Jessica-2022-01-13/videos/07312021_17B_157.AVI\n",
      "in 05292021_09B_11_labeled, #48 of 128\n",
      "skipping 05292021_09B_11_labeled\n",
      "in 05292021_24B_018, #49 of 128\n",
      "video string is 05292021_24B_018\n",
      "making /home/dennislab2/Desktop/stony_ford-Jessica-2022-01-13/videos/05292021_24B_018.AVI\n",
      "in 07312021_9B_032_labeled, #50 of 128\n",
      "skipping 07312021_9B_032_labeled\n",
      "in 07312021_2B_072, #51 of 128\n",
      "video string is 07312021_2B_072\n",
      "making /home/dennislab2/Desktop/stony_ford-Jessica-2022-01-13/videos/07312021_2B_072.AVI\n",
      "in 09122021_3B_014_labeled, #52 of 128\n",
      "skipping 09122021_3B_014_labeled\n",
      "in 07312021_1B_155_labeled, #53 of 128\n",
      "skipping 07312021_1B_155_labeled\n",
      "in 07092021_6A_040_labeled, #54 of 128\n",
      "skipping 07092021_6A_040_labeled\n",
      "in 06122021_12A_051_labeled, #55 of 128\n",
      "skipping 06122021_12A_051_labeled\n",
      "in 07092021_5A_190, #56 of 128\n",
      "video string is 07092021_5A_190\n",
      "making /home/dennislab2/Desktop/stony_ford-Jessica-2022-01-13/videos/07092021_5A_190.AVI\n",
      "in 07312021_6B_019, #57 of 128\n",
      "video string is 07312021_6B_019\n",
      "making /home/dennislab2/Desktop/stony_ford-Jessica-2022-01-13/videos/07312021_6B_019.AVI\n",
      "in 07092021_13A_049, #58 of 128\n",
      "video string is 07092021_13A_049\n",
      "making /home/dennislab2/Desktop/stony_ford-Jessica-2022-01-13/videos/07092021_13A_049.AVI\n",
      "in 09122021_24A_009_labeled, #59 of 128\n",
      "skipping 09122021_24A_009_labeled\n",
      "in 07092021_3A_022_labeled, #60 of 128\n",
      "skipping 07092021_3A_022_labeled\n",
      "in 07312021_2B_072_labeled, #61 of 128\n",
      "skipping 07312021_2B_072_labeled\n",
      "in 07312021_4B_303, #62 of 128\n",
      "video string is 07312021_4B_303\n",
      "making /home/dennislab2/Desktop/stony_ford-Jessica-2022-01-13/videos/07312021_4B_303.AVI\n",
      "in 06202021_25B_101_labeled, #63 of 128\n",
      "skipping 06202021_25B_101_labeled\n",
      "in 07092021_8A_626, #64 of 128\n",
      "video string is 07092021_8A_626\n",
      "making /home/dennislab2/Desktop/stony_ford-Jessica-2022-01-13/videos/07092021_8A_626.AVI\n",
      "in 07092021_5A_160, #65 of 128\n",
      "video string is 07092021_5A_160\n",
      "making /home/dennislab2/Desktop/stony_ford-Jessica-2022-01-13/videos/07092021_5A_160.AVI\n",
      "in 07092021_2A_023_labeled, #66 of 128\n",
      "skipping 07092021_2A_023_labeled\n",
      "in 05292021_24B_018_labeled, #67 of 128\n",
      "skipping 05292021_24B_018_labeled\n",
      "in 07092021_2A_022, #68 of 128\n",
      "video string is 07092021_2A_022\n",
      "making /home/dennislab2/Desktop/stony_ford-Jessica-2022-01-13/videos/07092021_2A_022.AVI\n",
      "in 07092021_12A_066_labeled, #69 of 128\n",
      "skipping 07092021_12A_066_labeled\n",
      "in 07092021_5A_152, #70 of 128\n",
      "video string is 07092021_5A_152\n",
      "making /home/dennislab2/Desktop/stony_ford-Jessica-2022-01-13/videos/07092021_5A_152.AVI\n",
      "in 07312021_12B_018, #71 of 128\n",
      "video string is 07312021_12B_018\n",
      "making /home/dennislab2/Desktop/stony_ford-Jessica-2022-01-13/videos/07312021_12B_018.AVI\n",
      "in 06122021_17A_411, #72 of 128\n",
      "video string is 06122021_17A_411\n",
      "making /home/dennislab2/Desktop/stony_ford-Jessica-2022-01-13/videos/06122021_17A_411.AVI\n",
      "in 07092021_9A_506, #73 of 128\n",
      "video string is 07092021_9A_506\n",
      "making /home/dennislab2/Desktop/stony_ford-Jessica-2022-01-13/videos/07092021_9A_506.AVI\n",
      "in 09122021_3B_014, #74 of 128\n",
      "video string is 09122021_3B_014\n",
      "making /home/dennislab2/Desktop/stony_ford-Jessica-2022-01-13/videos/09122021_3B_014.AVI\n",
      "in 06122021_2A_011, #75 of 128\n",
      "video string is 06122021_2A_011\n",
      "making /home/dennislab2/Desktop/stony_ford-Jessica-2022-01-13/videos/06122021_2A_011.AVI\n",
      "in 05292021_24B_027, #76 of 128\n",
      "video string is 05292021_24B_027\n",
      "making /home/dennislab2/Desktop/stony_ford-Jessica-2022-01-13/videos/05292021_24B_027.AVI\n",
      "in 07092021_2A_023, #77 of 128\n",
      "video string is 07092021_2A_023\n",
      "making /home/dennislab2/Desktop/stony_ford-Jessica-2022-01-13/videos/07092021_2A_023.AVI\n",
      "in 06122021_1A_341_labeled, #78 of 128\n",
      "skipping 06122021_1A_341_labeled\n",
      "in 07312021_5B_007, #79 of 128\n",
      "video string is 07312021_5B_007\n",
      "making /home/dennislab2/Desktop/stony_ford-Jessica-2022-01-13/videos/07312021_5B_007.AVI\n",
      "in 07092021_12A_005_labeled, #80 of 128\n",
      "skipping 07092021_12A_005_labeled\n",
      "in 06122021_9A_064, #81 of 128\n",
      "video string is 06122021_9A_064\n",
      "making /home/dennislab2/Desktop/stony_ford-Jessica-2022-01-13/videos/06122021_9A_064.AVI\n",
      "in 05292021_25B_023, #82 of 128\n",
      "video string is 05292021_25B_023\n",
      "making /home/dennislab2/Desktop/stony_ford-Jessica-2022-01-13/videos/05292021_25B_023.AVI\n",
      "in 07092021_5A_129_labeled, #83 of 128\n"
     ]
    },
    {
     "name": "stdout",
     "output_type": "stream",
     "text": [
      "skipping 07092021_5A_129_labeled\n",
      "in 07312021_25A_202, #84 of 128\n",
      "video string is 07312021_25A_202\n",
      "making /home/dennislab2/Desktop/stony_ford-Jessica-2022-01-13/videos/07312021_25A_202.AVI\n",
      "in 05292021_25B_022, #85 of 128\n",
      "video string is 05292021_25B_022\n",
      "making /home/dennislab2/Desktop/stony_ford-Jessica-2022-01-13/videos/05292021_25B_022.AVI\n",
      "in 07312021_12B_018_labeled, #86 of 128\n",
      "skipping 07312021_12B_018_labeled\n",
      "in 06122021_3A_019, #87 of 128\n",
      "video string is 06122021_3A_019\n",
      "making /home/dennislab2/Desktop/stony_ford-Jessica-2022-01-13/videos/06122021_3A_019.AVI\n",
      "in 07092021_12A_715, #88 of 128\n",
      "video string is 07092021_12A_715\n",
      "making /home/dennislab2/Desktop/stony_ford-Jessica-2022-01-13/videos/07092021_12A_715.AVI\n",
      "in 07312021_9B_028_labeled, #89 of 128\n",
      "skipping 07312021_9B_028_labeled\n",
      "in 07092021_5A_128, #90 of 128\n",
      "video string is 07092021_5A_128\n",
      "making /home/dennislab2/Desktop/stony_ford-Jessica-2022-01-13/videos/07092021_5A_128.AVI\n",
      "in 07312021_1B_155, #91 of 128\n",
      "video string is 07312021_1B_155\n",
      "making /home/dennislab2/Desktop/stony_ford-Jessica-2022-01-13/videos/07312021_1B_155.AVI\n",
      "in 07312021_17B_157_labeled, #92 of 128\n",
      "skipping 07312021_17B_157_labeled\n",
      "in 05292021_25B_042_labeled, #93 of 128\n",
      "skipping 05292021_25B_042_labeled\n",
      "in 07312021_13B_159, #94 of 128\n",
      "video string is 07312021_13B_159\n",
      "making /home/dennislab2/Desktop/stony_ford-Jessica-2022-01-13/videos/07312021_13B_159.AVI\n",
      "in 07312021_9B_157, #95 of 128\n",
      "video string is 07312021_9B_157\n",
      "making /home/dennislab2/Desktop/stony_ford-Jessica-2022-01-13/videos/07312021_9B_157.AVI\n",
      "in 07092021_2A_001_labeled, #96 of 128\n",
      "skipping 07092021_2A_001_labeled\n",
      "in 07312021_13B_159_labeled, #97 of 128\n",
      "skipping 07312021_13B_159_labeled\n",
      "in 06122021_9A_064_labeled, #98 of 128\n",
      "skipping 06122021_9A_064_labeled\n",
      "in 07312021_25A_202_labeled, #99 of 128\n",
      "skipping 07312021_25A_202_labeled\n",
      "in 07092021_5A_190_labeled, #100 of 128\n",
      "skipping 07092021_5A_190_labeled\n",
      "in 07312021_4B_303_labeled, #101 of 128\n",
      "skipping 07312021_4B_303_labeled\n",
      "in 07092021_2A_003, #102 of 128\n",
      "video string is 07092021_2A_003\n",
      "making /home/dennislab2/Desktop/stony_ford-Jessica-2022-01-13/videos/07092021_2A_003.AVI\n",
      "in 07092021_5A_129, #103 of 128\n",
      "video string is 07092021_5A_129\n",
      "making /home/dennislab2/Desktop/stony_ford-Jessica-2022-01-13/videos/07092021_5A_129.AVI\n",
      "in 07092021_9A_506_labeled, #104 of 128\n",
      "skipping 07092021_9A_506_labeled\n",
      "in 07092021_6A_354, #105 of 128\n",
      "video string is 07092021_6A_354\n",
      "making /home/dennislab2/Desktop/stony_ford-Jessica-2022-01-13/videos/07092021_6A_354.AVI\n",
      "in 06122021_3A_019_labeled, #106 of 128\n",
      "skipping 06122021_3A_019_labeled\n",
      "in 07092021_12A_715_labeled, #107 of 128\n",
      "skipping 07092021_12A_715_labeled\n",
      "in 07312021_9B_157_labeled, #108 of 128\n",
      "skipping 07312021_9B_157_labeled\n",
      "in 09122021_24A_094_labeled, #109 of 128\n",
      "skipping 09122021_24A_094_labeled\n",
      "in 07312021_5B_007_labeled, #110 of 128\n",
      "skipping 07312021_5B_007_labeled\n",
      "in 07092021_5A_152_labeled, #111 of 128\n",
      "skipping 07092021_5A_152_labeled\n",
      "in 05292021_25B_022_labeled, #112 of 128\n",
      "skipping 05292021_25B_022_labeled\n",
      "in 07312021_1B_232_labeled, #113 of 128\n",
      "skipping 07312021_1B_232_labeled\n",
      "in 06122021_12A_052_labeled, #114 of 128\n",
      "skipping 06122021_12A_052_labeled\n",
      "in 06122021_17A_411_labeled, #115 of 128\n",
      "skipping 06122021_17A_411_labeled\n",
      "in 06122021_12A_052, #116 of 128\n",
      "video string is 06122021_12A_052\n",
      "making /home/dennislab2/Desktop/stony_ford-Jessica-2022-01-13/videos/06122021_12A_052.AVI\n",
      "in 07092021_5A_128_labeled, #117 of 128\n",
      "skipping 07092021_5A_128_labeled\n",
      "in 06122021_7A_643_labeled, #118 of 128\n",
      "skipping 06122021_7A_643_labeled\n",
      "in 05292021_25B_051_labeled, #119 of 128\n",
      "skipping 05292021_25B_051_labeled\n",
      "in 07312021_1B_232, #120 of 128\n",
      "video string is 07312021_1B_232\n",
      "making /home/dennislab2/Desktop/stony_ford-Jessica-2022-01-13/videos/07312021_1B_232.AVI\n",
      "in 06122021_12A_166, #121 of 128\n",
      "video string is 06122021_12A_166\n",
      "making /home/dennislab2/Desktop/stony_ford-Jessica-2022-01-13/videos/06122021_12A_166.AVI\n",
      "in 06122021_17A_353, #122 of 128\n",
      "video string is 06122021_17A_353\n",
      "making /home/dennislab2/Desktop/stony_ford-Jessica-2022-01-13/videos/06122021_17A_353.AVI\n",
      "in 06122021_6A_475_labeled, #123 of 128\n",
      "skipping 06122021_6A_475_labeled\n",
      "in 07312021_6B_019_labeled, #124 of 128\n",
      "skipping 07312021_6B_019_labeled\n",
      "in 05292021_25B_029, #125 of 128\n",
      "video string is 05292021_25B_029\n",
      "making /home/dennislab2/Desktop/stony_ford-Jessica-2022-01-13/videos/05292021_25B_029.AVI\n",
      "in 06122021_6A_008, #126 of 128\n",
      "video string is 06122021_6A_008\n",
      "making /home/dennislab2/Desktop/stony_ford-Jessica-2022-01-13/videos/06122021_6A_008.AVI\n",
      "in 05292021_25B_051, #127 of 128\n",
      "video string is 05292021_25B_051\n",
      "making /home/dennislab2/Desktop/stony_ford-Jessica-2022-01-13/videos/05292021_25B_051.AVI\n"
     ]
    }
   ],
   "source": [
    "# for each annotation set\n",
    "x=-1\n",
    "skipped=[]\n",
    "for subfld in list_of_subflds:\n",
    "    x+=1\n",
    "    print('in {}, #{} of {}'.format(subfld,x,len(list_of_subflds)))\n",
    "    \n",
    "    # get the csv name and load it\n",
    "    list_of_csvs=glob.glob(os.path.join(fld,subfld)+'/*.csv')\n",
    "    csv_val=0\n",
    "    if len(list_of_csvs) > 0:\n",
    "        for csv in list_of_csvs:\n",
    "            if 'groupanns' in csv:\n",
    "                print('already made groupanns')\n",
    "                csv_val=1\n",
    "        if csv_val < 1:\n",
    "            csv=glob.glob(os.path.join(fld,subfld)+'/*.csv')[0]\n",
    "\n",
    "            csv_data=pd.read_csv(csv,header=None)\n",
    "\n",
    "            # replace the annotator's name with groupanns\n",
    "            for col in csv_data.columns[1:]:\n",
    "                if not pd.isna(csv_data[col][0]):\n",
    "                    csv_data[col][0]='groupanns'\n",
    "\n",
    "            # some DLC versions have a different labeling format. Make sure all anns are in the same format\n",
    "            if not csv_data[0][4]=='labeled-data':\n",
    "                video_str=csv_data[0].str.split('\\\\',expand=True)[1][4]\n",
    "                csv_data=csv_data.loc[:,0:120]\n",
    "            else:\n",
    "                video_str=csv_data[1][4]\n",
    "                # recombine, too lazy to do opposite above, but the formatting is incorrect for downstream steps\n",
    "                csv_data[0][4:]=csv_data[0][4:] +'\\\\'+csv_data[1][4:]+'\\\\'+csv_data[2][4:]\n",
    "                csv_data=csv_data.drop(columns=[1,2])\n",
    "            \n",
    "            # save csv file\n",
    "            csv_data.to_csv(os.path.join(fld,subfld,'CollectedData_groupanns.csv'),index=False,header=False)\n",
    "\n",
    "            print('video string is {}'.format(video_str))\n",
    "\n",
    "            # get the video name for the annotations in this file (should also be the folder name)\n",
    "            full_video_name=os.path.join(video_fld,video_str)+'.AVI'\n",
    "\n",
    "            print('making {}'.format(full_video_name))\n",
    "\n",
    "            # make an empty video file\n",
    "            Path(full_video_name).touch()    \n",
    "\n",
    "            # update config file, will save out at the end\n",
    "            config_data['video_sets'][full_video_name]=crop_val\n",
    "    else:\n",
    "        print('skipping {}'.format(subfld))\n",
    "        skipped.append(subfld)\n"
   ]
  },
  {
   "cell_type": "code",
   "execution_count": 55,
   "id": "8340e0e1",
   "metadata": {},
   "outputs": [
    {
     "data": {
      "text/plain": [
       "'/home/dennislab2/Desktop/stony_ford-Jessica-2022-01-13/labeled-data/05292021_25B_051/machinelabels.csv'"
      ]
     },
     "execution_count": 55,
     "metadata": {},
     "output_type": "execute_result"
    }
   ],
   "source": [
    "\n"
   ]
  },
  {
   "cell_type": "code",
   "execution_count": 6,
   "id": "76c145ba",
   "metadata": {},
   "outputs": [
    {
     "name": "stdout",
     "output_type": "stream",
     "text": [
      "saved config file, skipped 0\n"
     ]
    }
   ],
   "source": [
    "# save the new config file\n",
    "#with open(config, 'w') as f:\n",
    "#    data = yaml.dump(config_data, f, sort_keys=False, default_flow_style=False)\n",
    "print('saved config file, skipped {}'.format(len(skipped)))\n",
    "# need to add this line, else all the crop_vals are identities (*id001)\n",
    "yaml.Dumper.ignore_aliases = lambda *args : True\n",
    "with open (config, 'w') as f:\n",
    "    data = yaml.dump(config_data, f, sort_keys=False, default_flow_style=False)"
   ]
  },
  {
   "cell_type": "code",
   "execution_count": 56,
   "id": "ed41a763",
   "metadata": {},
   "outputs": [],
   "source": [
    "# make h5s from csvs\n",
    "from deeplabcut.utils import auxiliaryfunctions\n",
    "from deeplabcut.utils.conversioncode import convertcsv2h5\n",
    "convertcsv2h5(config,userfeedback=False,scorer='groupanns')\n",
    "\n"
   ]
  },
  {
   "cell_type": "code",
   "execution_count": 21,
   "id": "7dd7866b",
   "metadata": {},
   "outputs": [],
   "source": [
    "if len(skipped) > 0:\n",
    "    import shutil\n",
    "\n",
    "    new_fld='/home/dennislab2/Desktop/stony_ford-Jessica-2022-01-13/extra_videos'\n",
    "    if not os.path.isdir(new_fld):\n",
    "        os.mkdir(new_fld)\n",
    "\n",
    "    for skipped_fld in skipped:\n",
    "        shutil.move(os.path.join(fld,skipped_fld),os.path.join(new_fld,skipped_fld))"
   ]
  },
  {
   "cell_type": "code",
   "execution_count": 6,
   "id": "321550ad",
   "metadata": {},
   "outputs": [
    {
     "data": {
      "text/plain": [
       "679.0"
      ]
     },
     "execution_count": 6,
     "metadata": {},
     "output_type": "execute_result"
    },
    {
     "name": "stderr",
     "output_type": "stream",
     "text": [
      "Gtk-Message: 16:40:19.291: Failed to load module \"atk-bridge\"\n",
      "Gtk-Message: 16:40:19.294: Failed to load module \"canberra-gtk-module\"\n"
     ]
    }
   ],
   "source": [
    "# while waiting...\n",
    "# how many frames did we label?\n",
    "frames=0\n",
    "for subfld in list_of_subflds:\n",
    "    frames+=len(glob.glob(os.path.join(fld,subfld,'*png')))\n",
    "frames/2"
   ]
  },
  {
   "cell_type": "code",
   "execution_count": 46,
   "id": "867a9f59",
   "metadata": {},
   "outputs": [
    {
     "name": "stdout",
     "output_type": "stream",
     "text": [
      "Object `pd.to_csv()` not found.\n"
     ]
    }
   ],
   "source": []
  },
  {
   "cell_type": "code",
   "execution_count": 47,
   "id": "033f8105",
   "metadata": {},
   "outputs": [
    {
     "data": {
      "text/plain": [
       "(618, 126)"
      ]
     },
     "execution_count": 47,
     "metadata": {},
     "output_type": "execute_result"
    }
   ],
   "source": [
    "x=np.load('/home/dennislab2/Desktop/test.npy')\n",
    "np.shape(x)"
   ]
  },
  {
   "cell_type": "code",
   "execution_count": 48,
   "id": "48a48bfb",
   "metadata": {},
   "outputs": [
    {
     "data": {
      "text/plain": [
       "77868"
      ]
     },
     "execution_count": 48,
     "metadata": {},
     "output_type": "execute_result"
    }
   ],
   "source": [
    "618*126"
   ]
  },
  {
   "cell_type": "code",
   "execution_count": 49,
   "id": "6f6a7b1a",
   "metadata": {},
   "outputs": [
    {
     "data": {
      "text/plain": [
       "12978.0"
      ]
     },
     "execution_count": 49,
     "metadata": {},
     "output_type": "execute_result"
    }
   ],
   "source": [
    "77868/6"
   ]
  },
  {
   "cell_type": "code",
   "execution_count": 50,
   "id": "073a6ba2",
   "metadata": {},
   "outputs": [
    {
     "data": {
      "text/plain": [
       "21.0"
      ]
     },
     "execution_count": 50,
     "metadata": {},
     "output_type": "execute_result"
    }
   ],
   "source": [
    "12978/618"
   ]
  },
  {
   "cell_type": "code",
   "execution_count": 52,
   "id": "5fe777e6",
   "metadata": {},
   "outputs": [
    {
     "data": {
      "text/plain": [
       "7.0"
      ]
     },
     "execution_count": 52,
     "metadata": {},
     "output_type": "execute_result"
    }
   ],
   "source": [
    "126/18"
   ]
  },
  {
   "cell_type": "code",
   "execution_count": null,
   "id": "97a07580",
   "metadata": {},
   "outputs": [],
   "source": []
  }
 ],
 "metadata": {
  "kernelspec": {
   "display_name": "Python 3 (ipykernel)",
   "language": "python",
   "name": "python3"
  },
  "language_info": {
   "codemirror_mode": {
    "name": "ipython",
    "version": 3
   },
   "file_extension": ".py",
   "mimetype": "text/x-python",
   "name": "python",
   "nbconvert_exporter": "python",
   "pygments_lexer": "ipython3",
   "version": "3.8.12"
  }
 },
 "nbformat": 4,
 "nbformat_minor": 5
}
