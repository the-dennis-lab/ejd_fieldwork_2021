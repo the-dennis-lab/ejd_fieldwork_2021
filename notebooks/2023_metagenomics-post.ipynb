{
 "cells": [
  {
   "cell_type": "markdown",
   "id": "64667447-6bd8-4f82-bcf4-de95b0d0ccb3",
   "metadata": {},
   "source": [
    "# Purpose"
   ]
  },
  {
   "cell_type": "markdown",
   "id": "bcecf73e-1840-4f4e-9b95-65437fd11e19",
   "metadata": {},
   "source": [
    "# Imports"
   ]
  },
  {
   "cell_type": "code",
   "execution_count": 1,
   "id": "365a751d-f140-4458-b421-74229ad99cb6",
   "metadata": {
    "tags": []
   },
   "outputs": [],
   "source": [
    "import numpy as np\n",
    "import pandas as pd\n",
    "import os, csv, glob\n",
    "import matplotlib.pyplot as plt"
   ]
  },
  {
   "cell_type": "code",
   "execution_count": 2,
   "id": "f398fbef",
   "metadata": {
    "tags": []
   },
   "outputs": [],
   "source": [
    "from Bio.Blast import NCBIWWW\n",
    "from Bio import SeqIO \n",
    "from Bio.Blast import NCBIXML"
   ]
  },
  {
   "cell_type": "code",
   "execution_count": 3,
   "id": "6998f530",
   "metadata": {
    "tags": []
   },
   "outputs": [],
   "source": [
    "from thefuzz import fuzz"
   ]
  },
  {
   "cell_type": "markdown",
   "id": "0a1b642e-2a0e-4bab-b994-f1d72125a8c6",
   "metadata": {},
   "source": [
    "# Functions"
   ]
  },
  {
   "cell_type": "code",
   "execution_count": 4,
   "id": "ddaff22a",
   "metadata": {
    "tags": []
   },
   "outputs": [],
   "source": [
    "fld = '../../../seqout5'"
   ]
  },
  {
   "cell_type": "code",
   "execution_count": null,
   "id": "45cfb2db-e060-476c-9e28-af40d13d6589",
   "metadata": {
    "tags": []
   },
   "outputs": [],
   "source": []
  },
  {
   "cell_type": "code",
   "execution_count": 7,
   "id": "c3f9c3c4",
   "metadata": {
    "tags": []
   },
   "outputs": [],
   "source": [
    "col_nms=['file_nm','sci_nm','count']\n",
    "df=pd.DataFrame(columns=col_nms)\n",
    "df_seqdata=pd.DataFrame(columns=['file_nm','nuc_seq','count'])\n",
    "for file_nm in [file for file in os.listdir(fld) if 'out' in file]:\n",
    "    print(file_nm)\n",
    "    if \"220\" in file:\n",
    "        print(\"TRYING!!!\")\n",
    "        try: \n",
    "            file = pd.read_table(os.path.join(fld,file_nm))\n",
    "            unique_scinames = np.unique(file.SCIENTIFIC_NAME.dropna())\n",
    "            list_of_vals=[]\n",
    "            for sci_nm in unique_scinames:\n",
    "                list_of_vals.append([file_nm,sci_nm,len(file[file.SCIENTIFIC_NAME==sci_nm])])\n",
    "            df2 = pd.DataFrame(list_of_vals, columns=col_nms)\n",
    "            df=pd.concat([df,df2],ignore_index=True)\n",
    "        except:\n",
    "            print(file_nm+\" didn't work\")"
   ]
  },
  {
   "cell_type": "code",
   "execution_count": 6,
   "id": "46b3ea11",
   "metadata": {},
   "outputs": [],
   "source": [
    "df.to_csv('/home/dennislab2/Desktop/20240215_firstpass.csv')"
   ]
  },
  {
   "cell_type": "markdown",
   "id": "70a111b4",
   "metadata": {},
   "source": []
  },
  {
   "cell_type": "code",
   "execution_count": 94,
   "id": "ed9923c0",
   "metadata": {},
   "outputs": [],
   "source": [
    "df.to_csv('../../../uniplant_r_summary.csv')"
   ]
  },
  {
   "cell_type": "code",
   "execution_count": 10,
   "id": "983121c6-0642-4a0a-a81b-7594b5f03f49",
   "metadata": {
    "tags": []
   },
   "outputs": [],
   "source": [
    "obi_out_fld = '/home/dennislab2/Desktop/seqout5/'\n",
    "#ncbi_out_fld = '/home/dennislab2/Desktop/ncbi_outputs/'"
   ]
  },
  {
   "cell_type": "code",
   "execution_count": 45,
   "id": "474a80e7-e39b-440c-b445-57581baf7e48",
   "metadata": {
    "tags": []
   },
   "outputs": [],
   "source": [
    "obi_file_paths = [os.path.join(obi_out_fld,file) for file in os.listdir(obi_out_fld) if '.csv' in file]\n",
    "#obi_file_paths\n",
    "#ncbi_file_paths = [os.path.join(ncbi_out_fld,file) for file in os.listdir(ncbi_out_fld) if '.csv' in file]\n",
    "#ncbi_file_paths"
   ]
  },
  {
   "cell_type": "code",
   "execution_count": null,
   "id": "9a1acddf-b63b-4fc9-8ec5-f5e398396f6f",
   "metadata": {
    "tags": []
   },
   "outputs": [],
   "source": []
  },
  {
   "cell_type": "code",
   "execution_count": 123,
   "id": "14f62eb4-b7e6-46da-8dc4-2c2cfc92005f",
   "metadata": {
    "tags": []
   },
   "outputs": [],
   "source": []
  },
  {
   "cell_type": "code",
   "execution_count": 263,
   "id": "4b6218a2",
   "metadata": {
    "tags": []
   },
   "outputs": [],
   "source": [
    "s12_before_files=[]\n",
    "s12_after_files=[]\n",
    "for path in obi_file_paths:\n",
    "    if \"s12_216\" in path:\n",
    "        s12_before_files.append(path)\n",
    "    elif \"s12_255\" in path:\n",
    "        s12_after_files.append(path)"
   ]
  },
  {
   "cell_type": "code",
   "execution_count": 264,
   "id": "98f55906-8afd-4c22-afbb-cf3c64380046",
   "metadata": {
    "tags": []
   },
   "outputs": [],
   "source": [
    "uniquebefore=[]\n",
    "for file in s12_before_files:\n",
    "    tempdf=pd.read_csv(file)\n",
    "    uniques=np.unique(tempdf.hit_definition[0:10])\n",
    "    for unique in uniques:\n",
    "        if unique not in uniquebefore:\n",
    "            uniquebefore.append(unique)\n",
    "uniquebefore.sort()\n",
    "for val in uniquebefore:\n",
    "    if val not in notbugs:\n",
    "        if (\"ncultured\" not in val) and (\"16S\" not in val) and (\"strain\" not in val) and (\"ribosom\" not in val) and (\"MAG: \" not in val) and (\"musculus\" not in val):\n",
    "            print(val)"
   ]
  },
  {
   "cell_type": "code",
   "execution_count": 265,
   "id": "324ceec4-42e5-40cb-b431-ed8a5a59b69b",
   "metadata": {
    "tags": []
   },
   "outputs": [
    {
     "name": "stdout",
     "output_type": "stream",
     "text": [
      "Alectoris rufa genome assembly, chromosome: 29\n",
      "Bacteroides phage BF1-TP2, complete genome\n",
      "Bifidobacterium longum subsp. longum JDM301, complete genome\n",
      "Bifidobacterium scardovii JCM 12489 = DSM 13734 DNA, complete genome\n",
      "Dichanthelium sp. BIOUG24049-A06 internal transcribed spacer 2, partial sequence\n",
      "Didymella exigua CBS 183.55 uncharacterized protein (M421DRAFT_423552), mRNA\n",
      "Erysipelotrichaceae bacterium ASTB_g chromosome, complete genome\n",
      "Hapalemur griseus griseus mitochondrion partial 12S rRNA gene, isolate 10\n",
      "Macroventuria anomochaeta uncharacterized protein (BU25DRAFT_413286), mRNA\n"
     ]
    }
   ],
   "source": [
    "uniqueafter=[]\n",
    "for file in s12_after_files:\n",
    "    tempdf=pd.read_csv(file)\n",
    "    uniques=np.unique(tempdf.hit_definition[0:10])\n",
    "    for unique in uniques:\n",
    "        if unique not in uniqueafter:\n",
    "            uniqueafter.append(unique)\n",
    "uniqueafter.sort()\n",
    "for val in uniqueafter:\n",
    "    if val not in notbugs:\n",
    "        if (\"ncultured\" not in val) and (\"16S\" not in val) and (\"strain\" not in val) and (\"ribosom\" not in val) and (\"MAG: \" not in val) and (\"musculus\" not in val):\n",
    "            print(val)"
   ]
  },
  {
   "cell_type": "markdown",
   "id": "61f9aa21-6393-46d2-a829-23352ed801c0",
   "metadata": {},
   "source": [
    "##### "
   ]
  },
  {
   "cell_type": "markdown",
   "id": "2f461c10-811c-4440-aa1c-41ae48a535d9",
   "metadata": {},
   "source": [
    "# Use case"
   ]
  },
  {
   "cell_type": "markdown",
   "id": "5a93cfb8-34b5-4132-a6e1-09b6c70e9f5e",
   "metadata": {},
   "source": [
    "# Procedure"
   ]
  },
  {
   "cell_type": "code",
   "execution_count": 29,
   "id": "119bf522",
   "metadata": {},
   "outputs": [
    {
     "name": "stdout",
     "output_type": "stream",
     "text": [
      "27\n"
     ]
    },
    {
     "data": {
      "text/html": [
       "<div>\n",
       "<style scoped>\n",
       "    .dataframe tbody tr th:only-of-type {\n",
       "        vertical-align: middle;\n",
       "    }\n",
       "\n",
       "    .dataframe tbody tr th {\n",
       "        vertical-align: top;\n",
       "    }\n",
       "\n",
       "    .dataframe thead th {\n",
       "        text-align: right;\n",
       "    }\n",
       "</style>\n",
       "<table border=\"1\" class=\"dataframe\">\n",
       "  <thead>\n",
       "    <tr style=\"text-align: right;\">\n",
       "      <th></th>\n",
       "      <th>hit_definition</th>\n",
       "      <th>hit_accession</th>\n",
       "      <th>subject</th>\n",
       "      <th>identities</th>\n",
       "      <th>expect</th>\n",
       "    </tr>\n",
       "  </thead>\n",
       "  <tbody>\n",
       "    <tr>\n",
       "      <th>0</th>\n",
       "      <td>Mus musculus domesticus mitochondrial DNA, com...</td>\n",
       "      <td>AB092593</td>\n",
       "      <td>GACGGGCGGTGTGTGCGTACTTCATTGCTCAATTCAATTAAGCTCT...</td>\n",
       "      <td>140</td>\n",
       "      <td>1.248650e-58</td>\n",
       "    </tr>\n",
       "    <tr>\n",
       "      <th>1</th>\n",
       "      <td>Mus musculus domesticus mitochondrial DNA, com...</td>\n",
       "      <td>AB092592</td>\n",
       "      <td>GACGGGCGGTGTGTGCGTACTTCATTGCTCAATTCAATTAAGCTCT...</td>\n",
       "      <td>140</td>\n",
       "      <td>1.248650e-58</td>\n",
       "    </tr>\n",
       "    <tr>\n",
       "      <th>2</th>\n",
       "      <td>Mus musculus genome assembly, organelle: mitoc...</td>\n",
       "      <td>OX439034</td>\n",
       "      <td>GACGGGCGGTGTGTGCGTACTTCATTGCTCAATTCAATTAAGCTCT...</td>\n",
       "      <td>140</td>\n",
       "      <td>1.248650e-58</td>\n",
       "    </tr>\n",
       "    <tr>\n",
       "      <th>3</th>\n",
       "      <td>Mus musculus genome assembly, organelle: mitoc...</td>\n",
       "      <td>OX390165</td>\n",
       "      <td>GACGGGCGGTGTGTGCGTACTTCATTGCTCAATTCAATTAAGCTCT...</td>\n",
       "      <td>140</td>\n",
       "      <td>1.248650e-58</td>\n",
       "    </tr>\n",
       "    <tr>\n",
       "      <th>4</th>\n",
       "      <td>Mus musculus genome assembly, organelle: mitoc...</td>\n",
       "      <td>OX389814</td>\n",
       "      <td>GACGGGCGGTGTGTGCGTACTTCATTGCTCAATTCAATTAAGCTCT...</td>\n",
       "      <td>140</td>\n",
       "      <td>1.248650e-58</td>\n",
       "    </tr>\n",
       "  </tbody>\n",
       "</table>\n",
       "</div>"
      ],
      "text/plain": [
       "                                      hit_definition hit_accession  \\\n",
       "0  Mus musculus domesticus mitochondrial DNA, com...      AB092593   \n",
       "1  Mus musculus domesticus mitochondrial DNA, com...      AB092592   \n",
       "2  Mus musculus genome assembly, organelle: mitoc...      OX439034   \n",
       "3  Mus musculus genome assembly, organelle: mitoc...      OX390165   \n",
       "4  Mus musculus genome assembly, organelle: mitoc...      OX389814   \n",
       "\n",
       "                                             subject  identities        expect  \n",
       "0  GACGGGCGGTGTGTGCGTACTTCATTGCTCAATTCAATTAAGCTCT...         140  1.248650e-58  \n",
       "1  GACGGGCGGTGTGTGCGTACTTCATTGCTCAATTCAATTAAGCTCT...         140  1.248650e-58  \n",
       "2  GACGGGCGGTGTGTGCGTACTTCATTGCTCAATTCAATTAAGCTCT...         140  1.248650e-58  \n",
       "3  GACGGGCGGTGTGTGCGTACTTCATTGCTCAATTCAATTAAGCTCT...         140  1.248650e-58  \n",
       "4  GACGGGCGGTGTGTGCGTACTTCATTGCTCAATTCAATTAAGCTCT...         140  1.248650e-58  "
      ]
     },
     "execution_count": 29,
     "metadata": {},
     "output_type": "execute_result"
    }
   ],
   "source": [
    "i=0\n",
    "ncbi_file_name = ncbi_file_paths[i]\n",
    "ncbi_file = pd.read_csv(ncbi_file_name).drop(columns=['Unnamed: 0'])\n",
    "read_num = int(ncbi_file_name.split('_')[-1][:-4])\n",
    "print(read_num)\n",
    "ncbi_file.head()\n"
   ]
  },
  {
   "cell_type": "code",
   "execution_count": 27,
   "id": "be0448df",
   "metadata": {},
   "outputs": [
    {
     "data": {
      "text/plain": [
       "'/home/dennislab2/Desktop/ncbi_outputs/results_plate1_12s_21_1_27.csv'"
      ]
     },
     "execution_count": 27,
     "metadata": {},
     "output_type": "execute_result"
    }
   ],
   "source": [
    "ncbi_file_name"
   ]
  },
  {
   "cell_type": "code",
   "execution_count": 35,
   "id": "dfad00ff",
   "metadata": {},
   "outputs": [
    {
     "data": {
      "text/plain": [
       "array(['agagcgacgggcgatgtgtgcgtacttcattgctcaattcaattaagctctctattcttaatttactactaaatcctccttagtcctttagtttcataaagggtatagtaatgttcttttataagaaaatgtagcccatttcttcccatt'],\n",
       "      dtype=object)"
      ]
     },
     "execution_count": 35,
     "metadata": {},
     "output_type": "execute_result"
    }
   ],
   "source": [
    "obi_file = pd.read_table(os.path.join(obi_out_fld,ncbi_file_name.split('results_')[1][:-7]+\"_out.csv\"))\n",
    "seq=obi_file.NUC_SEQ[obi_file.index==read_num].values"
   ]
  },
  {
   "cell_type": "markdown",
   "id": "0d6ea9b3",
   "metadata": {},
   "source": [
    "## want \n",
    "mouse | location | timepoint | seq_num | count | best_hit | identities"
   ]
  },
  {
   "cell_type": "code",
   "execution_count": 57,
   "id": "2fdc8ef2",
   "metadata": {},
   "outputs": [
    {
     "data": {
      "text/html": [
       "<div>\n",
       "<style scoped>\n",
       "    .dataframe tbody tr th:only-of-type {\n",
       "        vertical-align: middle;\n",
       "    }\n",
       "\n",
       "    .dataframe tbody tr th {\n",
       "        vertical-align: top;\n",
       "    }\n",
       "\n",
       "    .dataframe thead th {\n",
       "        text-align: right;\n",
       "    }\n",
       "</style>\n",
       "<table border=\"1\" class=\"dataframe\">\n",
       "  <thead>\n",
       "    <tr style=\"text-align: right;\">\n",
       "      <th></th>\n",
       "      <th>plate</th>\n",
       "      <th>plate_letter</th>\n",
       "      <th>plate_number</th>\n",
       "      <th>sample_num</th>\n",
       "      <th>strain</th>\n",
       "      <th>left_eartag</th>\n",
       "      <th>right_eartag</th>\n",
       "      <th>location</th>\n",
       "      <th>wedge</th>\n",
       "      <th>infected</th>\n",
       "      <th>weeks</th>\n",
       "      <th>weight_change</th>\n",
       "      <th>block</th>\n",
       "    </tr>\n",
       "  </thead>\n",
       "  <tbody>\n",
       "    <tr>\n",
       "      <th>0</th>\n",
       "      <td>1</td>\n",
       "      <td>A</td>\n",
       "      <td>1</td>\n",
       "      <td>1</td>\n",
       "      <td>C57</td>\n",
       "      <td>401</td>\n",
       "      <td>89.0</td>\n",
       "      <td>SF</td>\n",
       "      <td>3.0</td>\n",
       "      <td>0.0</td>\n",
       "      <td>2.0</td>\n",
       "      <td>5.4</td>\n",
       "      <td>1.0</td>\n",
       "    </tr>\n",
       "    <tr>\n",
       "      <th>1</th>\n",
       "      <td>1</td>\n",
       "      <td>B</td>\n",
       "      <td>1</td>\n",
       "      <td>2</td>\n",
       "      <td>C57</td>\n",
       "      <td>416</td>\n",
       "      <td>7024.0</td>\n",
       "      <td>SF</td>\n",
       "      <td>3.0</td>\n",
       "      <td>0.0</td>\n",
       "      <td>2.0</td>\n",
       "      <td>6.6</td>\n",
       "      <td>1.0</td>\n",
       "    </tr>\n",
       "    <tr>\n",
       "      <th>2</th>\n",
       "      <td>1</td>\n",
       "      <td>C</td>\n",
       "      <td>1</td>\n",
       "      <td>3</td>\n",
       "      <td>129</td>\n",
       "      <td>NaN</td>\n",
       "      <td>7010.0</td>\n",
       "      <td>SF</td>\n",
       "      <td>4.0</td>\n",
       "      <td>0.0</td>\n",
       "      <td>2.0</td>\n",
       "      <td>5.6</td>\n",
       "      <td>1.0</td>\n",
       "    </tr>\n",
       "    <tr>\n",
       "      <th>3</th>\n",
       "      <td>1</td>\n",
       "      <td>D</td>\n",
       "      <td>1</td>\n",
       "      <td>4</td>\n",
       "      <td>PWK</td>\n",
       "      <td>454</td>\n",
       "      <td>726.0</td>\n",
       "      <td>Lab</td>\n",
       "      <td>NaN</td>\n",
       "      <td>0.0</td>\n",
       "      <td>2.0</td>\n",
       "      <td>6.1</td>\n",
       "      <td>1.0</td>\n",
       "    </tr>\n",
       "    <tr>\n",
       "      <th>4</th>\n",
       "      <td>1</td>\n",
       "      <td>F</td>\n",
       "      <td>1</td>\n",
       "      <td>5</td>\n",
       "      <td>C57</td>\n",
       "      <td>413</td>\n",
       "      <td>81.0</td>\n",
       "      <td>SF</td>\n",
       "      <td>3.0</td>\n",
       "      <td>1.0</td>\n",
       "      <td>5.0</td>\n",
       "      <td>2.7</td>\n",
       "      <td>1.0</td>\n",
       "    </tr>\n",
       "    <tr>\n",
       "      <th>...</th>\n",
       "      <td>...</td>\n",
       "      <td>...</td>\n",
       "      <td>...</td>\n",
       "      <td>...</td>\n",
       "      <td>...</td>\n",
       "      <td>...</td>\n",
       "      <td>...</td>\n",
       "      <td>...</td>\n",
       "      <td>...</td>\n",
       "      <td>...</td>\n",
       "      <td>...</td>\n",
       "      <td>...</td>\n",
       "      <td>...</td>\n",
       "    </tr>\n",
       "    <tr>\n",
       "      <th>127</th>\n",
       "      <td>2</td>\n",
       "      <td>G</td>\n",
       "      <td>6</td>\n",
       "      <td>64</td>\n",
       "      <td>C57</td>\n",
       "      <td>286</td>\n",
       "      <td>25.0</td>\n",
       "      <td>Lab</td>\n",
       "      <td>NaN</td>\n",
       "      <td>1.0</td>\n",
       "      <td>11.5</td>\n",
       "      <td>5.0</td>\n",
       "      <td>2.0</td>\n",
       "    </tr>\n",
       "    <tr>\n",
       "      <th>128</th>\n",
       "      <td>2</td>\n",
       "      <td>G</td>\n",
       "      <td>12</td>\n",
       "      <td>68</td>\n",
       "      <td>129</td>\n",
       "      <td>447</td>\n",
       "      <td>7053.0</td>\n",
       "      <td>Lab</td>\n",
       "      <td>NaN</td>\n",
       "      <td>1.0</td>\n",
       "      <td>5.5</td>\n",
       "      <td>5.0</td>\n",
       "      <td>1.0</td>\n",
       "    </tr>\n",
       "    <tr>\n",
       "      <th>129</th>\n",
       "      <td>2</td>\n",
       "      <td>H</td>\n",
       "      <td>2</td>\n",
       "      <td>69</td>\n",
       "      <td>C57</td>\n",
       "      <td>285</td>\n",
       "      <td>24.0</td>\n",
       "      <td>Lab</td>\n",
       "      <td>NaN</td>\n",
       "      <td>1.0</td>\n",
       "      <td>7.3</td>\n",
       "      <td>5.0</td>\n",
       "      <td>2.0</td>\n",
       "    </tr>\n",
       "    <tr>\n",
       "      <th>130</th>\n",
       "      <td>2</td>\n",
       "      <td>H</td>\n",
       "      <td>9</td>\n",
       "      <td>73</td>\n",
       "      <td>C57</td>\n",
       "      <td>293</td>\n",
       "      <td>26.0</td>\n",
       "      <td>Lab</td>\n",
       "      <td>NaN</td>\n",
       "      <td>0.0</td>\n",
       "      <td>4.8</td>\n",
       "      <td>5.0</td>\n",
       "      <td>2.0</td>\n",
       "    </tr>\n",
       "    <tr>\n",
       "      <th>131</th>\n",
       "      <td>2</td>\n",
       "      <td>H</td>\n",
       "      <td>12</td>\n",
       "      <td>75</td>\n",
       "      <td>C57</td>\n",
       "      <td>296</td>\n",
       "      <td>27.0</td>\n",
       "      <td>Lab</td>\n",
       "      <td>NaN</td>\n",
       "      <td>0.0</td>\n",
       "      <td>4.4</td>\n",
       "      <td>5.0</td>\n",
       "      <td>2.0</td>\n",
       "    </tr>\n",
       "  </tbody>\n",
       "</table>\n",
       "<p>132 rows × 13 columns</p>\n",
       "</div>"
      ],
      "text/plain": [
       "     plate plate_letter  plate_number  sample_num strain left_eartag  \\\n",
       "0        1            A             1           1    C57         401   \n",
       "1        1            B             1           2    C57         416   \n",
       "2        1            C             1           3    129         NaN   \n",
       "3        1            D             1           4    PWK         454   \n",
       "4        1            F             1           5    C57         413   \n",
       "..     ...          ...           ...         ...    ...         ...   \n",
       "127      2            G             6          64    C57         286   \n",
       "128      2            G            12          68    129         447   \n",
       "129      2            H             2          69    C57         285   \n",
       "130      2            H             9          73    C57         293   \n",
       "131      2            H            12          75    C57         296   \n",
       "\n",
       "     right_eartag location  wedge  infected  weeks  weight_change  block  \n",
       "0            89.0       SF    3.0       0.0    2.0            5.4    1.0  \n",
       "1          7024.0       SF    3.0       0.0    2.0            6.6    1.0  \n",
       "2          7010.0       SF    4.0       0.0    2.0            5.6    1.0  \n",
       "3           726.0      Lab    NaN       0.0    2.0            6.1    1.0  \n",
       "4            81.0       SF    3.0       1.0    5.0            2.7    1.0  \n",
       "..            ...      ...    ...       ...    ...            ...    ...  \n",
       "127          25.0      Lab    NaN       1.0   11.5            5.0    2.0  \n",
       "128        7053.0      Lab    NaN       1.0    5.5            5.0    1.0  \n",
       "129          24.0      Lab    NaN       1.0    7.3            5.0    2.0  \n",
       "130          26.0      Lab    NaN       0.0    4.8            5.0    2.0  \n",
       "131          27.0      Lab    NaN       0.0    4.4            5.0    2.0  \n",
       "\n",
       "[132 rows x 13 columns]"
      ]
     },
     "execution_count": 57,
     "metadata": {},
     "output_type": "execute_result"
    }
   ],
   "source": [
    "meta21"
   ]
  },
  {
   "cell_type": "code",
   "execution_count": 68,
   "id": "3982ebd6",
   "metadata": {},
   "outputs": [],
   "source": [
    "split_name = ncbi_file_name.split('_')\n",
    "plate = int(split_name[2][-1])\n",
    "sample_val = int(split_name[4])\n",
    "f_or_r= int(split_name[5])"
   ]
  },
  {
   "cell_type": "code",
   "execution_count": 87,
   "id": "d18a320a",
   "metadata": {},
   "outputs": [
    {
     "data": {
      "text/html": [
       "<div>\n",
       "<style scoped>\n",
       "    .dataframe tbody tr th:only-of-type {\n",
       "        vertical-align: middle;\n",
       "    }\n",
       "\n",
       "    .dataframe tbody tr th {\n",
       "        vertical-align: top;\n",
       "    }\n",
       "\n",
       "    .dataframe thead th {\n",
       "        text-align: right;\n",
       "    }\n",
       "</style>\n",
       "<table border=\"1\" class=\"dataframe\">\n",
       "  <thead>\n",
       "    <tr style=\"text-align: right;\">\n",
       "      <th></th>\n",
       "      <th>plate</th>\n",
       "      <th>plate_letter</th>\n",
       "      <th>plate_number</th>\n",
       "      <th>sample_num</th>\n",
       "      <th>strain</th>\n",
       "      <th>left_eartag</th>\n",
       "      <th>right_eartag</th>\n",
       "      <th>location</th>\n",
       "      <th>wedge</th>\n",
       "      <th>infected</th>\n",
       "      <th>weeks</th>\n",
       "      <th>weight_change</th>\n",
       "      <th>block</th>\n",
       "    </tr>\n",
       "  </thead>\n",
       "  <tbody>\n",
       "    <tr>\n",
       "      <th>28</th>\n",
       "      <td>1</td>\n",
       "      <td>A</td>\n",
       "      <td>7</td>\n",
       "      <td>29</td>\n",
       "      <td>C57</td>\n",
       "      <td>408</td>\n",
       "      <td>77.0</td>\n",
       "      <td>SF</td>\n",
       "      <td>3.0</td>\n",
       "      <td>0.0</td>\n",
       "      <td>2.0</td>\n",
       "      <td>8.3</td>\n",
       "      <td>1.0</td>\n",
       "    </tr>\n",
       "  </tbody>\n",
       "</table>\n",
       "</div>"
      ],
      "text/plain": [
       "    plate plate_letter  plate_number  sample_num strain left_eartag  \\\n",
       "28      1            A             7          29    C57         408   \n",
       "\n",
       "    right_eartag location  wedge  infected  weeks  weight_change  block  \n",
       "28          77.0       SF    3.0       0.0    2.0            8.3    1.0  "
      ]
     },
     "execution_count": 87,
     "metadata": {},
     "output_type": "execute_result"
    }
   ],
   "source": [
    "meta21[(meta21.sample_num==29) & (meta21.plate==1)]"
   ]
  },
  {
   "cell_type": "code",
   "execution_count": 88,
   "id": "b281ccd6",
   "metadata": {},
   "outputs": [],
   "source": [
    "# todo - link plate and sample number from file to metadata, and add the plants and inverts in a smart way with counts. "
   ]
  },
  {
   "cell_type": "code",
   "execution_count": null,
   "id": "cba1682e",
   "metadata": {},
   "outputs": [],
   "source": []
  },
  {
   "cell_type": "code",
   "execution_count": null,
   "id": "a66c3230",
   "metadata": {},
   "outputs": [],
   "source": []
  },
  {
   "cell_type": "code",
   "execution_count": null,
   "id": "46be22f1",
   "metadata": {},
   "outputs": [],
   "source": []
  },
  {
   "cell_type": "code",
   "execution_count": null,
   "id": "6e5441c7",
   "metadata": {},
   "outputs": [],
   "source": []
  },
  {
   "cell_type": "code",
   "execution_count": null,
   "id": "6f6916b9",
   "metadata": {},
   "outputs": [],
   "source": []
  },
  {
   "cell_type": "code",
   "execution_count": null,
   "id": "cfd2db58",
   "metadata": {},
   "outputs": [],
   "source": []
  },
  {
   "cell_type": "code",
   "execution_count": null,
   "id": "602a29db",
   "metadata": {},
   "outputs": [],
   "source": []
  },
  {
   "cell_type": "code",
   "execution_count": null,
   "id": "0ccf5376",
   "metadata": {},
   "outputs": [],
   "source": []
  },
  {
   "cell_type": "code",
   "execution_count": null,
   "id": "bd530834",
   "metadata": {},
   "outputs": [],
   "source": []
  },
  {
   "cell_type": "code",
   "execution_count": null,
   "id": "d3a27048",
   "metadata": {},
   "outputs": [],
   "source": []
  },
  {
   "cell_type": "code",
   "execution_count": null,
   "id": "821b9b65",
   "metadata": {},
   "outputs": [],
   "source": []
  },
  {
   "cell_type": "markdown",
   "id": "f7d81470",
   "metadata": {},
   "source": [
    "## make a combined metadata dataframe"
   ]
  },
  {
   "cell_type": "code",
   "execution_count": 41,
   "id": "3cbc6a49",
   "metadata": {},
   "outputs": [],
   "source": [
    "# import files\n",
    "df_sf=pd.read_csv('/home/dennislab2/Desktop/2021_SF_METADATA.csv')\n",
    "df_seq=pd.read_csv('/home/dennislab2/Desktop/2021_SEQ_METADATA.csv')"
   ]
  },
  {
   "cell_type": "code",
   "execution_count": 42,
   "id": "1e5bb686",
   "metadata": {},
   "outputs": [
    {
     "data": {
      "text/html": [
       "<div>\n",
       "<style scoped>\n",
       "    .dataframe tbody tr th:only-of-type {\n",
       "        vertical-align: middle;\n",
       "    }\n",
       "\n",
       "    .dataframe tbody tr th {\n",
       "        vertical-align: top;\n",
       "    }\n",
       "\n",
       "    .dataframe thead th {\n",
       "        text-align: right;\n",
       "    }\n",
       "</style>\n",
       "<table border=\"1\" class=\"dataframe\">\n",
       "  <thead>\n",
       "    <tr style=\"text-align: right;\">\n",
       "      <th></th>\n",
       "      <th>plate</th>\n",
       "      <th>plate_letter</th>\n",
       "      <th>plate_number</th>\n",
       "      <th>strain</th>\n",
       "      <th>left_eartag</th>\n",
       "      <th>right_eartag</th>\n",
       "      <th>location</th>\n",
       "      <th>wedge</th>\n",
       "      <th>infected</th>\n",
       "      <th>weeks</th>\n",
       "      <th>weight_change</th>\n",
       "      <th>block</th>\n",
       "    </tr>\n",
       "  </thead>\n",
       "  <tbody>\n",
       "    <tr>\n",
       "      <th>0</th>\n",
       "      <td>1</td>\n",
       "      <td>A</td>\n",
       "      <td>1</td>\n",
       "      <td>C57</td>\n",
       "      <td>401</td>\n",
       "      <td>89.0</td>\n",
       "      <td>SF</td>\n",
       "      <td>3.0</td>\n",
       "      <td>0.0</td>\n",
       "      <td>2.0</td>\n",
       "      <td>5.4</td>\n",
       "      <td>1.0</td>\n",
       "    </tr>\n",
       "    <tr>\n",
       "      <th>1</th>\n",
       "      <td>1</td>\n",
       "      <td>A</td>\n",
       "      <td>2</td>\n",
       "      <td>C57</td>\n",
       "      <td>402</td>\n",
       "      <td>7050.0</td>\n",
       "      <td>SF</td>\n",
       "      <td>3.0</td>\n",
       "      <td>0.0</td>\n",
       "      <td>2.0</td>\n",
       "      <td>4.3</td>\n",
       "      <td>1.0</td>\n",
       "    </tr>\n",
       "    <tr>\n",
       "      <th>2</th>\n",
       "      <td>1</td>\n",
       "      <td>A</td>\n",
       "      <td>4</td>\n",
       "      <td>C57</td>\n",
       "      <td>405</td>\n",
       "      <td>7021.0</td>\n",
       "      <td>Lab</td>\n",
       "      <td>NaN</td>\n",
       "      <td>0.0</td>\n",
       "      <td>2.0</td>\n",
       "      <td>1.8</td>\n",
       "      <td>1.0</td>\n",
       "    </tr>\n",
       "    <tr>\n",
       "      <th>3</th>\n",
       "      <td>1</td>\n",
       "      <td>A</td>\n",
       "      <td>5</td>\n",
       "      <td>C57</td>\n",
       "      <td>406</td>\n",
       "      <td>7030.0</td>\n",
       "      <td>SF</td>\n",
       "      <td>3.0</td>\n",
       "      <td>0.0</td>\n",
       "      <td>2.0</td>\n",
       "      <td>1.7</td>\n",
       "      <td>1.0</td>\n",
       "    </tr>\n",
       "    <tr>\n",
       "      <th>4</th>\n",
       "      <td>1</td>\n",
       "      <td>A</td>\n",
       "      <td>6</td>\n",
       "      <td>C57</td>\n",
       "      <td>407</td>\n",
       "      <td>7023.0</td>\n",
       "      <td>SF</td>\n",
       "      <td>3.0</td>\n",
       "      <td>0.0</td>\n",
       "      <td>2.0</td>\n",
       "      <td>3.8</td>\n",
       "      <td>1.0</td>\n",
       "    </tr>\n",
       "    <tr>\n",
       "      <th>...</th>\n",
       "      <td>...</td>\n",
       "      <td>...</td>\n",
       "      <td>...</td>\n",
       "      <td>...</td>\n",
       "      <td>...</td>\n",
       "      <td>...</td>\n",
       "      <td>...</td>\n",
       "      <td>...</td>\n",
       "      <td>...</td>\n",
       "      <td>...</td>\n",
       "      <td>...</td>\n",
       "      <td>...</td>\n",
       "    </tr>\n",
       "    <tr>\n",
       "      <th>235</th>\n",
       "      <td>3</td>\n",
       "      <td>H</td>\n",
       "      <td>8</td>\n",
       "      <td>129</td>\n",
       "      <td>105</td>\n",
       "      <td>19.0</td>\n",
       "      <td>Lab</td>\n",
       "      <td>NaN</td>\n",
       "      <td>0.0</td>\n",
       "      <td>9.4</td>\n",
       "      <td>5.0</td>\n",
       "      <td>2.0</td>\n",
       "    </tr>\n",
       "    <tr>\n",
       "      <th>236</th>\n",
       "      <td>3</td>\n",
       "      <td>H</td>\n",
       "      <td>9</td>\n",
       "      <td>C57</td>\n",
       "      <td>297</td>\n",
       "      <td>27.0</td>\n",
       "      <td>SF</td>\n",
       "      <td>NaN</td>\n",
       "      <td>1.0</td>\n",
       "      <td>1.8</td>\n",
       "      <td>5.0</td>\n",
       "      <td>2.0</td>\n",
       "    </tr>\n",
       "    <tr>\n",
       "      <th>237</th>\n",
       "      <td>3</td>\n",
       "      <td>H</td>\n",
       "      <td>10</td>\n",
       "      <td>C57</td>\n",
       "      <td>298</td>\n",
       "      <td>27.0</td>\n",
       "      <td>SF</td>\n",
       "      <td>NaN</td>\n",
       "      <td>0.0</td>\n",
       "      <td>1.6</td>\n",
       "      <td>5.0</td>\n",
       "      <td>2.0</td>\n",
       "    </tr>\n",
       "    <tr>\n",
       "      <th>238</th>\n",
       "      <td>3</td>\n",
       "      <td>H</td>\n",
       "      <td>11</td>\n",
       "      <td>C57</td>\n",
       "      <td>299</td>\n",
       "      <td>27.0</td>\n",
       "      <td>Lab</td>\n",
       "      <td>NaN</td>\n",
       "      <td>1.0</td>\n",
       "      <td>6.7</td>\n",
       "      <td>5.0</td>\n",
       "      <td>2.0</td>\n",
       "    </tr>\n",
       "    <tr>\n",
       "      <th>239</th>\n",
       "      <td>3</td>\n",
       "      <td>H</td>\n",
       "      <td>12</td>\n",
       "      <td>C57</td>\n",
       "      <td>300</td>\n",
       "      <td>27.0</td>\n",
       "      <td>SF</td>\n",
       "      <td>NaN</td>\n",
       "      <td>1.0</td>\n",
       "      <td>4.4</td>\n",
       "      <td>5.0</td>\n",
       "      <td>2.0</td>\n",
       "    </tr>\n",
       "  </tbody>\n",
       "</table>\n",
       "<p>240 rows × 12 columns</p>\n",
       "</div>"
      ],
      "text/plain": [
       "     plate plate_letter  plate_number strain left_eartag  right_eartag  \\\n",
       "0        1            A             1    C57         401          89.0   \n",
       "1        1            A             2    C57         402        7050.0   \n",
       "2        1            A             4    C57         405        7021.0   \n",
       "3        1            A             5    C57         406        7030.0   \n",
       "4        1            A             6    C57         407        7023.0   \n",
       "..     ...          ...           ...    ...         ...           ...   \n",
       "235      3            H             8    129         105          19.0   \n",
       "236      3            H             9    C57         297          27.0   \n",
       "237      3            H            10    C57         298          27.0   \n",
       "238      3            H            11    C57         299          27.0   \n",
       "239      3            H            12    C57         300          27.0   \n",
       "\n",
       "    location  wedge  infected  weeks  weight_change  block  \n",
       "0         SF    3.0       0.0    2.0            5.4    1.0  \n",
       "1         SF    3.0       0.0    2.0            4.3    1.0  \n",
       "2        Lab    NaN       0.0    2.0            1.8    1.0  \n",
       "3         SF    3.0       0.0    2.0            1.7    1.0  \n",
       "4         SF    3.0       0.0    2.0            3.8    1.0  \n",
       "..       ...    ...       ...    ...            ...    ...  \n",
       "235      Lab    NaN       0.0    9.4            5.0    2.0  \n",
       "236       SF    NaN       1.0    1.8            5.0    2.0  \n",
       "237       SF    NaN       0.0    1.6            5.0    2.0  \n",
       "238      Lab    NaN       1.0    6.7            5.0    2.0  \n",
       "239       SF    NaN       1.0    4.4            5.0    2.0  \n",
       "\n",
       "[240 rows x 12 columns]"
      ]
     },
     "execution_count": 42,
     "metadata": {},
     "output_type": "execute_result"
    }
   ],
   "source": [
    "df_sf"
   ]
  },
  {
   "cell_type": "code",
   "execution_count": 43,
   "id": "d55bef15",
   "metadata": {},
   "outputs": [
    {
     "data": {
      "text/html": [
       "<div>\n",
       "<style scoped>\n",
       "    .dataframe tbody tr th:only-of-type {\n",
       "        vertical-align: middle;\n",
       "    }\n",
       "\n",
       "    .dataframe tbody tr th {\n",
       "        vertical-align: top;\n",
       "    }\n",
       "\n",
       "    .dataframe thead th {\n",
       "        text-align: right;\n",
       "    }\n",
       "</style>\n",
       "<table border=\"1\" class=\"dataframe\">\n",
       "  <thead>\n",
       "    <tr style=\"text-align: right;\">\n",
       "      <th></th>\n",
       "      <th>plate</th>\n",
       "      <th>plate_letter</th>\n",
       "      <th>plate_number</th>\n",
       "      <th>sample_num</th>\n",
       "    </tr>\n",
       "  </thead>\n",
       "  <tbody>\n",
       "    <tr>\n",
       "      <th>0</th>\n",
       "      <td>1</td>\n",
       "      <td>A</td>\n",
       "      <td>1</td>\n",
       "      <td>1</td>\n",
       "    </tr>\n",
       "    <tr>\n",
       "      <th>1</th>\n",
       "      <td>1</td>\n",
       "      <td>B</td>\n",
       "      <td>1</td>\n",
       "      <td>2</td>\n",
       "    </tr>\n",
       "    <tr>\n",
       "      <th>2</th>\n",
       "      <td>1</td>\n",
       "      <td>C</td>\n",
       "      <td>1</td>\n",
       "      <td>3</td>\n",
       "    </tr>\n",
       "    <tr>\n",
       "      <th>3</th>\n",
       "      <td>1</td>\n",
       "      <td>D</td>\n",
       "      <td>1</td>\n",
       "      <td>4</td>\n",
       "    </tr>\n",
       "    <tr>\n",
       "      <th>4</th>\n",
       "      <td>1</td>\n",
       "      <td>F</td>\n",
       "      <td>1</td>\n",
       "      <td>5</td>\n",
       "    </tr>\n",
       "    <tr>\n",
       "      <th>...</th>\n",
       "      <td>...</td>\n",
       "      <td>...</td>\n",
       "      <td>...</td>\n",
       "      <td>...</td>\n",
       "    </tr>\n",
       "    <tr>\n",
       "      <th>129</th>\n",
       "      <td>2</td>\n",
       "      <td>H</td>\n",
       "      <td>5</td>\n",
       "      <td>71</td>\n",
       "    </tr>\n",
       "    <tr>\n",
       "      <th>130</th>\n",
       "      <td>2</td>\n",
       "      <td>H</td>\n",
       "      <td>7</td>\n",
       "      <td>72</td>\n",
       "    </tr>\n",
       "    <tr>\n",
       "      <th>131</th>\n",
       "      <td>2</td>\n",
       "      <td>H</td>\n",
       "      <td>9</td>\n",
       "      <td>73</td>\n",
       "    </tr>\n",
       "    <tr>\n",
       "      <th>132</th>\n",
       "      <td>2</td>\n",
       "      <td>H</td>\n",
       "      <td>10</td>\n",
       "      <td>74</td>\n",
       "    </tr>\n",
       "    <tr>\n",
       "      <th>133</th>\n",
       "      <td>2</td>\n",
       "      <td>H</td>\n",
       "      <td>12</td>\n",
       "      <td>75</td>\n",
       "    </tr>\n",
       "  </tbody>\n",
       "</table>\n",
       "<p>134 rows × 4 columns</p>\n",
       "</div>"
      ],
      "text/plain": [
       "     plate plate_letter  plate_number  sample_num\n",
       "0        1            A             1           1\n",
       "1        1            B             1           2\n",
       "2        1            C             1           3\n",
       "3        1            D             1           4\n",
       "4        1            F             1           5\n",
       "..     ...          ...           ...         ...\n",
       "129      2            H             5          71\n",
       "130      2            H             7          72\n",
       "131      2            H             9          73\n",
       "132      2            H            10          74\n",
       "133      2            H            12          75\n",
       "\n",
       "[134 rows x 4 columns]"
      ]
     },
     "execution_count": 43,
     "metadata": {},
     "output_type": "execute_result"
    }
   ],
   "source": [
    "df_seq"
   ]
  },
  {
   "cell_type": "code",
   "execution_count": 56,
   "id": "f8206b06",
   "metadata": {},
   "outputs": [],
   "source": [
    "meta21=pd.merge(df_seq,df_sf,on=[\"plate\",\"plate_letter\",\"plate_number\"])\n",
    "meta21.to_csv('/home/dennislab2/Desktop/2021_metadata.csv')"
   ]
  },
  {
   "cell_type": "code",
   "execution_count": 53,
   "id": "a08ecb71",
   "metadata": {},
   "outputs": [
    {
     "data": {
      "text/plain": [
       "'A'"
      ]
     },
     "execution_count": 53,
     "metadata": {},
     "output_type": "execute_result"
    }
   ],
   "source": []
  },
  {
   "cell_type": "code",
   "execution_count": null,
   "id": "d519f89f",
   "metadata": {},
   "outputs": [],
   "source": []
  },
  {
   "cell_type": "code",
   "execution_count": null,
   "id": "450865af",
   "metadata": {},
   "outputs": [],
   "source": []
  },
  {
   "cell_type": "code",
   "execution_count": null,
   "id": "b163856e",
   "metadata": {},
   "outputs": [],
   "source": []
  },
  {
   "cell_type": "code",
   "execution_count": null,
   "id": "3beda97c",
   "metadata": {},
   "outputs": [],
   "source": []
  }
 ],
 "metadata": {
  "kernelspec": {
   "display_name": "Python 3 (ipykernel)",
   "language": "python",
   "name": "python3"
  },
  "language_info": {
   "codemirror_mode": {
    "name": "ipython",
    "version": 3
   },
   "file_extension": ".py",
   "mimetype": "text/x-python",
   "name": "python",
   "nbconvert_exporter": "python",
   "pygments_lexer": "ipython3",
   "version": "3.11.5"
  }
 },
 "nbformat": 4,
 "nbformat_minor": 5
}
