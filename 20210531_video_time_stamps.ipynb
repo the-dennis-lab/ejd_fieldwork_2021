{
 "cells": [
  {
   "cell_type": "markdown",
   "id": "9dd607a7",
   "metadata": {},
   "source": [
    "# Video timestamp retrieval\n",
    "**Purpose**\n",
    "    The purpose of this notebook is to figure out how to take a frame from an AVI video and use opencv to read the text at the bottom of the frame, and save a text file with the info for that file (timestamp, temperature)\n",
    "    \n",
    "**Outline and pseudocode**\n",
    "1. Import a frame of the file\n",
    "2. Read text using opencv\n",
    "3. Parse text \n",
    "4. Save out txt file with the same name as the video.txt\n",
    "\n",
    "5. Then make this into a function that can run on a file\n",
    "6. Use it on a folder of AVI files"
   ]
  },
  {
   "cell_type": "markdown",
   "id": "9754b3af",
   "metadata": {},
   "source": [
    "# Imports"
   ]
  },
  {
   "cell_type": "code",
   "execution_count": null,
   "id": "6f7cc564",
   "metadata": {},
   "outputs": [],
   "source": [
    "import cv2\n",
    "import numpy as np\n",
    "import pandas as pd"
   ]
  },
  {
   "cell_type": "markdown",
   "id": "64cb7f62",
   "metadata": {},
   "source": [
    "# User inputs"
   ]
  },
  {
   "cell_type": "code",
   "execution_count": 1,
   "id": "957f82ef",
   "metadata": {},
   "outputs": [],
   "source": [
    "# LATER CHANGE TO folder of videos\n",
    "# folder_of_videos_path=''\n",
    "\n",
    "# video\n",
    "video_path='/Users/emilydennis/Desktop/05292021_07B_30.AVI'"
   ]
  },
  {
   "cell_type": "markdown",
   "id": "3f4bd3b7",
   "metadata": {},
   "source": [
    "# Define functions"
   ]
  },
  {
   "cell_type": "code",
   "execution_count": null,
   "id": "8bc83d68",
   "metadata": {},
   "outputs": [],
   "source": []
  },
  {
   "cell_type": "markdown",
   "id": "2491b6e6",
   "metadata": {},
   "source": [
    "# Process"
   ]
  },
  {
   "cell_type": "code",
   "execution_count": null,
   "id": "bbee0966",
   "metadata": {},
   "outputs": [],
   "source": [
    "# read in a frame of an avi"
   ]
  }
 ],
 "metadata": {
  "kernelspec": {
   "display_name": "Python 3",
   "language": "python",
   "name": "python3"
  },
  "language_info": {
   "codemirror_mode": {
    "name": "ipython",
    "version": 3
   },
   "file_extension": ".py",
   "mimetype": "text/x-python",
   "name": "python",
   "nbconvert_exporter": "python",
   "pygments_lexer": "ipython3",
   "version": "3.9.4"
  },
  "toc": {
   "base_numbering": 1,
   "nav_menu": {},
   "number_sections": true,
   "sideBar": true,
   "skip_h1_title": false,
   "title_cell": "Table of Contents",
   "title_sidebar": "Contents",
   "toc_cell": false,
   "toc_position": {},
   "toc_section_display": true,
   "toc_window_display": false
  }
 },
 "nbformat": 4,
 "nbformat_minor": 5
}
